{
  "nbformat": 4,
  "nbformat_minor": 0,
  "metadata": {
    "kernelspec": {
      "display_name": "Python 3",
      "language": "python",
      "name": "python3"
    },
    "language_info": {
      "codemirror_mode": {
        "name": "ipython",
        "version": 3
      },
      "file_extension": ".py",
      "mimetype": "text/x-python",
      "name": "python",
      "nbconvert_exporter": "python",
      "pygments_lexer": "ipython3",
      "version": "3.4.3"
    },
    "colab": {
      "name": "week1-MultilabelClassification.ipynb",
      "provenance": [],
      "collapsed_sections": [
        "k_x9UL4CQBZj",
        "uqzDNsE1QBZ-",
        "ffdlUIaSQBas",
        "QKrkPqPTQBbS",
        "TZJOGAYRQBbd"
      ],
      "include_colab_link": true
    },
    "widgets": {
      "application/vnd.jupyter.widget-state+json": {
        "d10fdff23fde440d89f9ceedee317502": {
          "model_module": "@jupyter-widgets/controls",
          "model_name": "HBoxModel",
          "state": {
            "_view_name": "HBoxView",
            "_dom_classes": [],
            "_model_name": "HBoxModel",
            "_view_module": "@jupyter-widgets/controls",
            "_model_module_version": "1.5.0",
            "_view_count": null,
            "_view_module_version": "1.5.0",
            "box_style": "",
            "layout": "IPY_MODEL_705aeebc0f464b04a7a8c079c07a590f",
            "_model_module": "@jupyter-widgets/controls",
            "children": [
              "IPY_MODEL_40da7d8e77404905b88a3985670a6ec9",
              "IPY_MODEL_bb4f595ffe6348d5bf6c7054e535032a"
            ]
          }
        },
        "705aeebc0f464b04a7a8c079c07a590f": {
          "model_module": "@jupyter-widgets/base",
          "model_name": "LayoutModel",
          "state": {
            "_view_name": "LayoutView",
            "grid_template_rows": null,
            "right": null,
            "justify_content": null,
            "_view_module": "@jupyter-widgets/base",
            "overflow": null,
            "_model_module_version": "1.2.0",
            "_view_count": null,
            "flex_flow": null,
            "width": null,
            "min_width": null,
            "border": null,
            "align_items": null,
            "bottom": null,
            "_model_module": "@jupyter-widgets/base",
            "top": null,
            "grid_column": null,
            "overflow_y": null,
            "overflow_x": null,
            "grid_auto_flow": null,
            "grid_area": null,
            "grid_template_columns": null,
            "flex": null,
            "_model_name": "LayoutModel",
            "justify_items": null,
            "grid_row": null,
            "max_height": null,
            "align_content": null,
            "visibility": null,
            "align_self": null,
            "height": null,
            "min_height": null,
            "padding": null,
            "grid_auto_rows": null,
            "grid_gap": null,
            "max_width": null,
            "order": null,
            "_view_module_version": "1.2.0",
            "grid_template_areas": null,
            "object_position": null,
            "object_fit": null,
            "grid_auto_columns": null,
            "margin": null,
            "display": null,
            "left": null
          }
        },
        "40da7d8e77404905b88a3985670a6ec9": {
          "model_module": "@jupyter-widgets/controls",
          "model_name": "FloatProgressModel",
          "state": {
            "_view_name": "ProgressView",
            "style": "IPY_MODEL_348fcfa1bd384033bded246fb600813a",
            "_dom_classes": [],
            "description": "train.tsv: 100%",
            "_model_name": "FloatProgressModel",
            "bar_style": "success",
            "max": 7196138,
            "_view_module": "@jupyter-widgets/controls",
            "_model_module_version": "1.5.0",
            "value": 7196138,
            "_view_count": null,
            "_view_module_version": "1.5.0",
            "orientation": "horizontal",
            "min": 0,
            "description_tooltip": null,
            "_model_module": "@jupyter-widgets/controls",
            "layout": "IPY_MODEL_242c9f674f2949448c2a89c6bb3b4a8d"
          }
        },
        "bb4f595ffe6348d5bf6c7054e535032a": {
          "model_module": "@jupyter-widgets/controls",
          "model_name": "HTMLModel",
          "state": {
            "_view_name": "HTMLView",
            "style": "IPY_MODEL_ee538ef02dc940b0b012d0f64e0be341",
            "_dom_classes": [],
            "description": "",
            "_model_name": "HTMLModel",
            "placeholder": "​",
            "_view_module": "@jupyter-widgets/controls",
            "_model_module_version": "1.5.0",
            "value": " 7.20M/7.20M [00:24&lt;00:00, 289kB/s]",
            "_view_count": null,
            "_view_module_version": "1.5.0",
            "description_tooltip": null,
            "_model_module": "@jupyter-widgets/controls",
            "layout": "IPY_MODEL_f4e50ddbc9104133bd40998b25d8bc58"
          }
        },
        "348fcfa1bd384033bded246fb600813a": {
          "model_module": "@jupyter-widgets/controls",
          "model_name": "ProgressStyleModel",
          "state": {
            "_view_name": "StyleView",
            "_model_name": "ProgressStyleModel",
            "description_width": "initial",
            "_view_module": "@jupyter-widgets/base",
            "_model_module_version": "1.5.0",
            "_view_count": null,
            "_view_module_version": "1.2.0",
            "bar_color": null,
            "_model_module": "@jupyter-widgets/controls"
          }
        },
        "242c9f674f2949448c2a89c6bb3b4a8d": {
          "model_module": "@jupyter-widgets/base",
          "model_name": "LayoutModel",
          "state": {
            "_view_name": "LayoutView",
            "grid_template_rows": null,
            "right": null,
            "justify_content": null,
            "_view_module": "@jupyter-widgets/base",
            "overflow": null,
            "_model_module_version": "1.2.0",
            "_view_count": null,
            "flex_flow": null,
            "width": null,
            "min_width": null,
            "border": null,
            "align_items": null,
            "bottom": null,
            "_model_module": "@jupyter-widgets/base",
            "top": null,
            "grid_column": null,
            "overflow_y": null,
            "overflow_x": null,
            "grid_auto_flow": null,
            "grid_area": null,
            "grid_template_columns": null,
            "flex": null,
            "_model_name": "LayoutModel",
            "justify_items": null,
            "grid_row": null,
            "max_height": null,
            "align_content": null,
            "visibility": null,
            "align_self": null,
            "height": null,
            "min_height": null,
            "padding": null,
            "grid_auto_rows": null,
            "grid_gap": null,
            "max_width": null,
            "order": null,
            "_view_module_version": "1.2.0",
            "grid_template_areas": null,
            "object_position": null,
            "object_fit": null,
            "grid_auto_columns": null,
            "margin": null,
            "display": null,
            "left": null
          }
        },
        "ee538ef02dc940b0b012d0f64e0be341": {
          "model_module": "@jupyter-widgets/controls",
          "model_name": "DescriptionStyleModel",
          "state": {
            "_view_name": "StyleView",
            "_model_name": "DescriptionStyleModel",
            "description_width": "",
            "_view_module": "@jupyter-widgets/base",
            "_model_module_version": "1.5.0",
            "_view_count": null,
            "_view_module_version": "1.2.0",
            "_model_module": "@jupyter-widgets/controls"
          }
        },
        "f4e50ddbc9104133bd40998b25d8bc58": {
          "model_module": "@jupyter-widgets/base",
          "model_name": "LayoutModel",
          "state": {
            "_view_name": "LayoutView",
            "grid_template_rows": null,
            "right": null,
            "justify_content": null,
            "_view_module": "@jupyter-widgets/base",
            "overflow": null,
            "_model_module_version": "1.2.0",
            "_view_count": null,
            "flex_flow": null,
            "width": null,
            "min_width": null,
            "border": null,
            "align_items": null,
            "bottom": null,
            "_model_module": "@jupyter-widgets/base",
            "top": null,
            "grid_column": null,
            "overflow_y": null,
            "overflow_x": null,
            "grid_auto_flow": null,
            "grid_area": null,
            "grid_template_columns": null,
            "flex": null,
            "_model_name": "LayoutModel",
            "justify_items": null,
            "grid_row": null,
            "max_height": null,
            "align_content": null,
            "visibility": null,
            "align_self": null,
            "height": null,
            "min_height": null,
            "padding": null,
            "grid_auto_rows": null,
            "grid_gap": null,
            "max_width": null,
            "order": null,
            "_view_module_version": "1.2.0",
            "grid_template_areas": null,
            "object_position": null,
            "object_fit": null,
            "grid_auto_columns": null,
            "margin": null,
            "display": null,
            "left": null
          }
        },
        "f8de2187eedf4cd7b08e84df94ea87d6": {
          "model_module": "@jupyter-widgets/controls",
          "model_name": "HBoxModel",
          "state": {
            "_view_name": "HBoxView",
            "_dom_classes": [],
            "_model_name": "HBoxModel",
            "_view_module": "@jupyter-widgets/controls",
            "_model_module_version": "1.5.0",
            "_view_count": null,
            "_view_module_version": "1.5.0",
            "box_style": "",
            "layout": "IPY_MODEL_50b5f8c397a6413689125501fac56c47",
            "_model_module": "@jupyter-widgets/controls",
            "children": [
              "IPY_MODEL_651fe860a21d41e5b17b6feefcfe6221",
              "IPY_MODEL_8e4fa6243ed141fa81463307127bc2dd"
            ]
          }
        },
        "50b5f8c397a6413689125501fac56c47": {
          "model_module": "@jupyter-widgets/base",
          "model_name": "LayoutModel",
          "state": {
            "_view_name": "LayoutView",
            "grid_template_rows": null,
            "right": null,
            "justify_content": null,
            "_view_module": "@jupyter-widgets/base",
            "overflow": null,
            "_model_module_version": "1.2.0",
            "_view_count": null,
            "flex_flow": null,
            "width": null,
            "min_width": null,
            "border": null,
            "align_items": null,
            "bottom": null,
            "_model_module": "@jupyter-widgets/base",
            "top": null,
            "grid_column": null,
            "overflow_y": null,
            "overflow_x": null,
            "grid_auto_flow": null,
            "grid_area": null,
            "grid_template_columns": null,
            "flex": null,
            "_model_name": "LayoutModel",
            "justify_items": null,
            "grid_row": null,
            "max_height": null,
            "align_content": null,
            "visibility": null,
            "align_self": null,
            "height": null,
            "min_height": null,
            "padding": null,
            "grid_auto_rows": null,
            "grid_gap": null,
            "max_width": null,
            "order": null,
            "_view_module_version": "1.2.0",
            "grid_template_areas": null,
            "object_position": null,
            "object_fit": null,
            "grid_auto_columns": null,
            "margin": null,
            "display": null,
            "left": null
          }
        },
        "651fe860a21d41e5b17b6feefcfe6221": {
          "model_module": "@jupyter-widgets/controls",
          "model_name": "FloatProgressModel",
          "state": {
            "_view_name": "ProgressView",
            "style": "IPY_MODEL_f9ba3134009b4023ae19670ccb6c3a37",
            "_dom_classes": [],
            "description": "validation.tsv: 100%",
            "_model_name": "FloatProgressModel",
            "bar_style": "success",
            "max": 2166270,
            "_view_module": "@jupyter-widgets/controls",
            "_model_module_version": "1.5.0",
            "value": 2166270,
            "_view_count": null,
            "_view_module_version": "1.5.0",
            "orientation": "horizontal",
            "min": 0,
            "description_tooltip": null,
            "_model_module": "@jupyter-widgets/controls",
            "layout": "IPY_MODEL_eb039c8990f04f48a07e1a715dabba6a"
          }
        },
        "8e4fa6243ed141fa81463307127bc2dd": {
          "model_module": "@jupyter-widgets/controls",
          "model_name": "HTMLModel",
          "state": {
            "_view_name": "HTMLView",
            "style": "IPY_MODEL_46365cc2c463457da6c1b338bc22f0ec",
            "_dom_classes": [],
            "description": "",
            "_model_name": "HTMLModel",
            "placeholder": "​",
            "_view_module": "@jupyter-widgets/controls",
            "_model_module_version": "1.5.0",
            "value": " 2.17M/2.17M [00:00&lt;00:00, 4.84MB/s]",
            "_view_count": null,
            "_view_module_version": "1.5.0",
            "description_tooltip": null,
            "_model_module": "@jupyter-widgets/controls",
            "layout": "IPY_MODEL_07b8dccfad98457b85b8a8deec70dd78"
          }
        },
        "f9ba3134009b4023ae19670ccb6c3a37": {
          "model_module": "@jupyter-widgets/controls",
          "model_name": "ProgressStyleModel",
          "state": {
            "_view_name": "StyleView",
            "_model_name": "ProgressStyleModel",
            "description_width": "initial",
            "_view_module": "@jupyter-widgets/base",
            "_model_module_version": "1.5.0",
            "_view_count": null,
            "_view_module_version": "1.2.0",
            "bar_color": null,
            "_model_module": "@jupyter-widgets/controls"
          }
        },
        "eb039c8990f04f48a07e1a715dabba6a": {
          "model_module": "@jupyter-widgets/base",
          "model_name": "LayoutModel",
          "state": {
            "_view_name": "LayoutView",
            "grid_template_rows": null,
            "right": null,
            "justify_content": null,
            "_view_module": "@jupyter-widgets/base",
            "overflow": null,
            "_model_module_version": "1.2.0",
            "_view_count": null,
            "flex_flow": null,
            "width": null,
            "min_width": null,
            "border": null,
            "align_items": null,
            "bottom": null,
            "_model_module": "@jupyter-widgets/base",
            "top": null,
            "grid_column": null,
            "overflow_y": null,
            "overflow_x": null,
            "grid_auto_flow": null,
            "grid_area": null,
            "grid_template_columns": null,
            "flex": null,
            "_model_name": "LayoutModel",
            "justify_items": null,
            "grid_row": null,
            "max_height": null,
            "align_content": null,
            "visibility": null,
            "align_self": null,
            "height": null,
            "min_height": null,
            "padding": null,
            "grid_auto_rows": null,
            "grid_gap": null,
            "max_width": null,
            "order": null,
            "_view_module_version": "1.2.0",
            "grid_template_areas": null,
            "object_position": null,
            "object_fit": null,
            "grid_auto_columns": null,
            "margin": null,
            "display": null,
            "left": null
          }
        },
        "46365cc2c463457da6c1b338bc22f0ec": {
          "model_module": "@jupyter-widgets/controls",
          "model_name": "DescriptionStyleModel",
          "state": {
            "_view_name": "StyleView",
            "_model_name": "DescriptionStyleModel",
            "description_width": "",
            "_view_module": "@jupyter-widgets/base",
            "_model_module_version": "1.5.0",
            "_view_count": null,
            "_view_module_version": "1.2.0",
            "_model_module": "@jupyter-widgets/controls"
          }
        },
        "07b8dccfad98457b85b8a8deec70dd78": {
          "model_module": "@jupyter-widgets/base",
          "model_name": "LayoutModel",
          "state": {
            "_view_name": "LayoutView",
            "grid_template_rows": null,
            "right": null,
            "justify_content": null,
            "_view_module": "@jupyter-widgets/base",
            "overflow": null,
            "_model_module_version": "1.2.0",
            "_view_count": null,
            "flex_flow": null,
            "width": null,
            "min_width": null,
            "border": null,
            "align_items": null,
            "bottom": null,
            "_model_module": "@jupyter-widgets/base",
            "top": null,
            "grid_column": null,
            "overflow_y": null,
            "overflow_x": null,
            "grid_auto_flow": null,
            "grid_area": null,
            "grid_template_columns": null,
            "flex": null,
            "_model_name": "LayoutModel",
            "justify_items": null,
            "grid_row": null,
            "max_height": null,
            "align_content": null,
            "visibility": null,
            "align_self": null,
            "height": null,
            "min_height": null,
            "padding": null,
            "grid_auto_rows": null,
            "grid_gap": null,
            "max_width": null,
            "order": null,
            "_view_module_version": "1.2.0",
            "grid_template_areas": null,
            "object_position": null,
            "object_fit": null,
            "grid_auto_columns": null,
            "margin": null,
            "display": null,
            "left": null
          }
        },
        "b36a7db1b5ab4d58b3ff805333b1655e": {
          "model_module": "@jupyter-widgets/controls",
          "model_name": "HBoxModel",
          "state": {
            "_view_name": "HBoxView",
            "_dom_classes": [],
            "_model_name": "HBoxModel",
            "_view_module": "@jupyter-widgets/controls",
            "_model_module_version": "1.5.0",
            "_view_count": null,
            "_view_module_version": "1.5.0",
            "box_style": "",
            "layout": "IPY_MODEL_13344d19370f4af092fd25b22070ae25",
            "_model_module": "@jupyter-widgets/controls",
            "children": [
              "IPY_MODEL_cf84d137442146bebf50bae005657253",
              "IPY_MODEL_c5e29fe411294f79878544b3a5512247"
            ]
          }
        },
        "13344d19370f4af092fd25b22070ae25": {
          "model_module": "@jupyter-widgets/base",
          "model_name": "LayoutModel",
          "state": {
            "_view_name": "LayoutView",
            "grid_template_rows": null,
            "right": null,
            "justify_content": null,
            "_view_module": "@jupyter-widgets/base",
            "overflow": null,
            "_model_module_version": "1.2.0",
            "_view_count": null,
            "flex_flow": null,
            "width": null,
            "min_width": null,
            "border": null,
            "align_items": null,
            "bottom": null,
            "_model_module": "@jupyter-widgets/base",
            "top": null,
            "grid_column": null,
            "overflow_y": null,
            "overflow_x": null,
            "grid_auto_flow": null,
            "grid_area": null,
            "grid_template_columns": null,
            "flex": null,
            "_model_name": "LayoutModel",
            "justify_items": null,
            "grid_row": null,
            "max_height": null,
            "align_content": null,
            "visibility": null,
            "align_self": null,
            "height": null,
            "min_height": null,
            "padding": null,
            "grid_auto_rows": null,
            "grid_gap": null,
            "max_width": null,
            "order": null,
            "_view_module_version": "1.2.0",
            "grid_template_areas": null,
            "object_position": null,
            "object_fit": null,
            "grid_auto_columns": null,
            "margin": null,
            "display": null,
            "left": null
          }
        },
        "cf84d137442146bebf50bae005657253": {
          "model_module": "@jupyter-widgets/controls",
          "model_name": "FloatProgressModel",
          "state": {
            "_view_name": "ProgressView",
            "style": "IPY_MODEL_a2830cca7b1c4eefad39b5f880a7d02d",
            "_dom_classes": [],
            "description": "test.tsv: 100%",
            "_model_name": "FloatProgressModel",
            "bar_style": "success",
            "max": 1041379,
            "_view_module": "@jupyter-widgets/controls",
            "_model_module_version": "1.5.0",
            "value": 1041379,
            "_view_count": null,
            "_view_module_version": "1.5.0",
            "orientation": "horizontal",
            "min": 0,
            "description_tooltip": null,
            "_model_module": "@jupyter-widgets/controls",
            "layout": "IPY_MODEL_0fa26105da82429e9a15f67a40fccd13"
          }
        },
        "c5e29fe411294f79878544b3a5512247": {
          "model_module": "@jupyter-widgets/controls",
          "model_name": "HTMLModel",
          "state": {
            "_view_name": "HTMLView",
            "style": "IPY_MODEL_828e977297e24b1e8803a3a391bf08dc",
            "_dom_classes": [],
            "description": "",
            "_model_name": "HTMLModel",
            "placeholder": "​",
            "_view_module": "@jupyter-widgets/controls",
            "_model_module_version": "1.5.0",
            "value": " 1.04M/1.04M [00:24&lt;00:00, 43.3kB/s]",
            "_view_count": null,
            "_view_module_version": "1.5.0",
            "description_tooltip": null,
            "_model_module": "@jupyter-widgets/controls",
            "layout": "IPY_MODEL_f415b9c6823440179729bb80b7a106b6"
          }
        },
        "a2830cca7b1c4eefad39b5f880a7d02d": {
          "model_module": "@jupyter-widgets/controls",
          "model_name": "ProgressStyleModel",
          "state": {
            "_view_name": "StyleView",
            "_model_name": "ProgressStyleModel",
            "description_width": "initial",
            "_view_module": "@jupyter-widgets/base",
            "_model_module_version": "1.5.0",
            "_view_count": null,
            "_view_module_version": "1.2.0",
            "bar_color": null,
            "_model_module": "@jupyter-widgets/controls"
          }
        },
        "0fa26105da82429e9a15f67a40fccd13": {
          "model_module": "@jupyter-widgets/base",
          "model_name": "LayoutModel",
          "state": {
            "_view_name": "LayoutView",
            "grid_template_rows": null,
            "right": null,
            "justify_content": null,
            "_view_module": "@jupyter-widgets/base",
            "overflow": null,
            "_model_module_version": "1.2.0",
            "_view_count": null,
            "flex_flow": null,
            "width": null,
            "min_width": null,
            "border": null,
            "align_items": null,
            "bottom": null,
            "_model_module": "@jupyter-widgets/base",
            "top": null,
            "grid_column": null,
            "overflow_y": null,
            "overflow_x": null,
            "grid_auto_flow": null,
            "grid_area": null,
            "grid_template_columns": null,
            "flex": null,
            "_model_name": "LayoutModel",
            "justify_items": null,
            "grid_row": null,
            "max_height": null,
            "align_content": null,
            "visibility": null,
            "align_self": null,
            "height": null,
            "min_height": null,
            "padding": null,
            "grid_auto_rows": null,
            "grid_gap": null,
            "max_width": null,
            "order": null,
            "_view_module_version": "1.2.0",
            "grid_template_areas": null,
            "object_position": null,
            "object_fit": null,
            "grid_auto_columns": null,
            "margin": null,
            "display": null,
            "left": null
          }
        },
        "828e977297e24b1e8803a3a391bf08dc": {
          "model_module": "@jupyter-widgets/controls",
          "model_name": "DescriptionStyleModel",
          "state": {
            "_view_name": "StyleView",
            "_model_name": "DescriptionStyleModel",
            "description_width": "",
            "_view_module": "@jupyter-widgets/base",
            "_model_module_version": "1.5.0",
            "_view_count": null,
            "_view_module_version": "1.2.0",
            "_model_module": "@jupyter-widgets/controls"
          }
        },
        "f415b9c6823440179729bb80b7a106b6": {
          "model_module": "@jupyter-widgets/base",
          "model_name": "LayoutModel",
          "state": {
            "_view_name": "LayoutView",
            "grid_template_rows": null,
            "right": null,
            "justify_content": null,
            "_view_module": "@jupyter-widgets/base",
            "overflow": null,
            "_model_module_version": "1.2.0",
            "_view_count": null,
            "flex_flow": null,
            "width": null,
            "min_width": null,
            "border": null,
            "align_items": null,
            "bottom": null,
            "_model_module": "@jupyter-widgets/base",
            "top": null,
            "grid_column": null,
            "overflow_y": null,
            "overflow_x": null,
            "grid_auto_flow": null,
            "grid_area": null,
            "grid_template_columns": null,
            "flex": null,
            "_model_name": "LayoutModel",
            "justify_items": null,
            "grid_row": null,
            "max_height": null,
            "align_content": null,
            "visibility": null,
            "align_self": null,
            "height": null,
            "min_height": null,
            "padding": null,
            "grid_auto_rows": null,
            "grid_gap": null,
            "max_width": null,
            "order": null,
            "_view_module_version": "1.2.0",
            "grid_template_areas": null,
            "object_position": null,
            "object_fit": null,
            "grid_auto_columns": null,
            "margin": null,
            "display": null,
            "left": null
          }
        },
        "4b90864d63b848aa941bee1508f0893d": {
          "model_module": "@jupyter-widgets/controls",
          "model_name": "HBoxModel",
          "state": {
            "_view_name": "HBoxView",
            "_dom_classes": [],
            "_model_name": "HBoxModel",
            "_view_module": "@jupyter-widgets/controls",
            "_model_module_version": "1.5.0",
            "_view_count": null,
            "_view_module_version": "1.5.0",
            "box_style": "",
            "layout": "IPY_MODEL_ac45e7e2908b430dbd8219204959dac0",
            "_model_module": "@jupyter-widgets/controls",
            "children": [
              "IPY_MODEL_e67c0c4972bf4f2591e8fd0dbe4577b0",
              "IPY_MODEL_c58d2e2df135414daeafd6cfbcd6096e"
            ]
          }
        },
        "ac45e7e2908b430dbd8219204959dac0": {
          "model_module": "@jupyter-widgets/base",
          "model_name": "LayoutModel",
          "state": {
            "_view_name": "LayoutView",
            "grid_template_rows": null,
            "right": null,
            "justify_content": null,
            "_view_module": "@jupyter-widgets/base",
            "overflow": null,
            "_model_module_version": "1.2.0",
            "_view_count": null,
            "flex_flow": null,
            "width": null,
            "min_width": null,
            "border": null,
            "align_items": null,
            "bottom": null,
            "_model_module": "@jupyter-widgets/base",
            "top": null,
            "grid_column": null,
            "overflow_y": null,
            "overflow_x": null,
            "grid_auto_flow": null,
            "grid_area": null,
            "grid_template_columns": null,
            "flex": null,
            "_model_name": "LayoutModel",
            "justify_items": null,
            "grid_row": null,
            "max_height": null,
            "align_content": null,
            "visibility": null,
            "align_self": null,
            "height": null,
            "min_height": null,
            "padding": null,
            "grid_auto_rows": null,
            "grid_gap": null,
            "max_width": null,
            "order": null,
            "_view_module_version": "1.2.0",
            "grid_template_areas": null,
            "object_position": null,
            "object_fit": null,
            "grid_auto_columns": null,
            "margin": null,
            "display": null,
            "left": null
          }
        },
        "e67c0c4972bf4f2591e8fd0dbe4577b0": {
          "model_module": "@jupyter-widgets/controls",
          "model_name": "FloatProgressModel",
          "state": {
            "_view_name": "ProgressView",
            "style": "IPY_MODEL_31e49bc6ebcf4cd9a8b0dbd88037f923",
            "_dom_classes": [],
            "description": "text_prepare_tests.tsv: 100%",
            "_model_name": "FloatProgressModel",
            "bar_style": "success",
            "max": 5091,
            "_view_module": "@jupyter-widgets/controls",
            "_model_module_version": "1.5.0",
            "value": 5091,
            "_view_count": null,
            "_view_module_version": "1.5.0",
            "orientation": "horizontal",
            "min": 0,
            "description_tooltip": null,
            "_model_module": "@jupyter-widgets/controls",
            "layout": "IPY_MODEL_2f61b153143a4035a2fdda808ef9fec7"
          }
        },
        "c58d2e2df135414daeafd6cfbcd6096e": {
          "model_module": "@jupyter-widgets/controls",
          "model_name": "HTMLModel",
          "state": {
            "_view_name": "HTMLView",
            "style": "IPY_MODEL_f9b1ac3c88dc4522ac29f4682e105959",
            "_dom_classes": [],
            "description": "",
            "_model_name": "HTMLModel",
            "placeholder": "​",
            "_view_module": "@jupyter-widgets/controls",
            "_model_module_version": "1.5.0",
            "value": " 5.09k/5.09k [00:23&lt;00:00, 215B/s]",
            "_view_count": null,
            "_view_module_version": "1.5.0",
            "description_tooltip": null,
            "_model_module": "@jupyter-widgets/controls",
            "layout": "IPY_MODEL_80aa880e64534231af9138a5a43462f2"
          }
        },
        "31e49bc6ebcf4cd9a8b0dbd88037f923": {
          "model_module": "@jupyter-widgets/controls",
          "model_name": "ProgressStyleModel",
          "state": {
            "_view_name": "StyleView",
            "_model_name": "ProgressStyleModel",
            "description_width": "initial",
            "_view_module": "@jupyter-widgets/base",
            "_model_module_version": "1.5.0",
            "_view_count": null,
            "_view_module_version": "1.2.0",
            "bar_color": null,
            "_model_module": "@jupyter-widgets/controls"
          }
        },
        "2f61b153143a4035a2fdda808ef9fec7": {
          "model_module": "@jupyter-widgets/base",
          "model_name": "LayoutModel",
          "state": {
            "_view_name": "LayoutView",
            "grid_template_rows": null,
            "right": null,
            "justify_content": null,
            "_view_module": "@jupyter-widgets/base",
            "overflow": null,
            "_model_module_version": "1.2.0",
            "_view_count": null,
            "flex_flow": null,
            "width": null,
            "min_width": null,
            "border": null,
            "align_items": null,
            "bottom": null,
            "_model_module": "@jupyter-widgets/base",
            "top": null,
            "grid_column": null,
            "overflow_y": null,
            "overflow_x": null,
            "grid_auto_flow": null,
            "grid_area": null,
            "grid_template_columns": null,
            "flex": null,
            "_model_name": "LayoutModel",
            "justify_items": null,
            "grid_row": null,
            "max_height": null,
            "align_content": null,
            "visibility": null,
            "align_self": null,
            "height": null,
            "min_height": null,
            "padding": null,
            "grid_auto_rows": null,
            "grid_gap": null,
            "max_width": null,
            "order": null,
            "_view_module_version": "1.2.0",
            "grid_template_areas": null,
            "object_position": null,
            "object_fit": null,
            "grid_auto_columns": null,
            "margin": null,
            "display": null,
            "left": null
          }
        },
        "f9b1ac3c88dc4522ac29f4682e105959": {
          "model_module": "@jupyter-widgets/controls",
          "model_name": "DescriptionStyleModel",
          "state": {
            "_view_name": "StyleView",
            "_model_name": "DescriptionStyleModel",
            "description_width": "",
            "_view_module": "@jupyter-widgets/base",
            "_model_module_version": "1.5.0",
            "_view_count": null,
            "_view_module_version": "1.2.0",
            "_model_module": "@jupyter-widgets/controls"
          }
        },
        "80aa880e64534231af9138a5a43462f2": {
          "model_module": "@jupyter-widgets/base",
          "model_name": "LayoutModel",
          "state": {
            "_view_name": "LayoutView",
            "grid_template_rows": null,
            "right": null,
            "justify_content": null,
            "_view_module": "@jupyter-widgets/base",
            "overflow": null,
            "_model_module_version": "1.2.0",
            "_view_count": null,
            "flex_flow": null,
            "width": null,
            "min_width": null,
            "border": null,
            "align_items": null,
            "bottom": null,
            "_model_module": "@jupyter-widgets/base",
            "top": null,
            "grid_column": null,
            "overflow_y": null,
            "overflow_x": null,
            "grid_auto_flow": null,
            "grid_area": null,
            "grid_template_columns": null,
            "flex": null,
            "_model_name": "LayoutModel",
            "justify_items": null,
            "grid_row": null,
            "max_height": null,
            "align_content": null,
            "visibility": null,
            "align_self": null,
            "height": null,
            "min_height": null,
            "padding": null,
            "grid_auto_rows": null,
            "grid_gap": null,
            "max_width": null,
            "order": null,
            "_view_module_version": "1.2.0",
            "grid_template_areas": null,
            "object_position": null,
            "object_fit": null,
            "grid_auto_columns": null,
            "margin": null,
            "display": null,
            "left": null
          }
        }
      }
    }
  },
  "cells": [
    {
      "cell_type": "markdown",
      "metadata": {
        "id": "view-in-github",
        "colab_type": "text"
      },
      "source": [
        "<a href=\"https://colab.research.google.com/github/saurabhkansal635/DataStructure_ForDataScience/blob/master/week1_MultilabelClassification.ipynb\" target=\"_parent\"><img src=\"https://colab.research.google.com/assets/colab-badge.svg\" alt=\"Open In Colab\"/></a>"
      ]
    },
    {
      "cell_type": "markdown",
      "metadata": {
        "id": "d0NMK1raQBXP",
        "colab_type": "text"
      },
      "source": [
        "# Predict tags on StackOverflow with linear models"
      ]
    },
    {
      "cell_type": "markdown",
      "metadata": {
        "id": "VsuAJxIbQBXR",
        "colab_type": "text"
      },
      "source": [
        "In this assignment you will learn how to predict tags for posts from [StackOverflow](https://stackoverflow.com). To solve this task you will use multilabel classification approach.\n",
        "\n",
        "### Libraries\n",
        "\n",
        "In this task you will need the following libraries:\n",
        "- [Numpy](http://www.numpy.org) — a package for scientific computing.\n",
        "- [Pandas](https://pandas.pydata.org) — a library providing high-performance, easy-to-use data structures and data analysis tools for the Python\n",
        "- [scikit-learn](http://scikit-learn.org/stable/index.html) — a tool for data mining and data analysis.\n",
        "- [NLTK](http://www.nltk.org) — a platform to work with natural language."
      ]
    },
    {
      "cell_type": "markdown",
      "metadata": {
        "id": "Am03pwm-QBXS",
        "colab_type": "text"
      },
      "source": [
        "### Data\n",
        "\n",
        "The following cell will download all data required for this assignment into the folder `week1/data`."
      ]
    },
    {
      "cell_type": "code",
      "metadata": {
        "id": "dTtBlt3BQBXU",
        "colab_type": "code",
        "colab": {
          "base_uri": "https://localhost:8080/",
          "height": 400,
          "referenced_widgets": [
            "d10fdff23fde440d89f9ceedee317502",
            "705aeebc0f464b04a7a8c079c07a590f",
            "40da7d8e77404905b88a3985670a6ec9",
            "bb4f595ffe6348d5bf6c7054e535032a",
            "348fcfa1bd384033bded246fb600813a",
            "242c9f674f2949448c2a89c6bb3b4a8d",
            "ee538ef02dc940b0b012d0f64e0be341",
            "f4e50ddbc9104133bd40998b25d8bc58",
            "f8de2187eedf4cd7b08e84df94ea87d6",
            "50b5f8c397a6413689125501fac56c47",
            "651fe860a21d41e5b17b6feefcfe6221",
            "8e4fa6243ed141fa81463307127bc2dd",
            "f9ba3134009b4023ae19670ccb6c3a37",
            "eb039c8990f04f48a07e1a715dabba6a",
            "46365cc2c463457da6c1b338bc22f0ec",
            "07b8dccfad98457b85b8a8deec70dd78",
            "b36a7db1b5ab4d58b3ff805333b1655e",
            "13344d19370f4af092fd25b22070ae25",
            "cf84d137442146bebf50bae005657253",
            "c5e29fe411294f79878544b3a5512247",
            "a2830cca7b1c4eefad39b5f880a7d02d",
            "0fa26105da82429e9a15f67a40fccd13",
            "828e977297e24b1e8803a3a391bf08dc",
            "f415b9c6823440179729bb80b7a106b6",
            "4b90864d63b848aa941bee1508f0893d",
            "ac45e7e2908b430dbd8219204959dac0",
            "e67c0c4972bf4f2591e8fd0dbe4577b0",
            "c58d2e2df135414daeafd6cfbcd6096e",
            "31e49bc6ebcf4cd9a8b0dbd88037f923",
            "2f61b153143a4035a2fdda808ef9fec7",
            "f9b1ac3c88dc4522ac29f4682e105959",
            "80aa880e64534231af9138a5a43462f2"
          ]
        },
        "outputId": "21334020-a9ac-4adc-ba3b-5428b1a82101"
      },
      "source": [
        "try:\n",
        "    import google.colab\n",
        "    IN_COLAB = True\n",
        "except:\n",
        "    IN_COLAB = False\n",
        "\n",
        "if IN_COLAB:\n",
        "    ! wget https://raw.githubusercontent.com/hse-aml/natural-language-processing/master/setup_google_colab.py -O setup_google_colab.py\n",
        "    import setup_google_colab\n",
        "    setup_google_colab.setup_week1() \n",
        "    \n",
        "import sys\n",
        "sys.path.append(\"..\")\n",
        "from common.download_utils import download_week1_resources\n",
        "\n",
        "download_week1_resources()"
      ],
      "execution_count": 2,
      "outputs": [
        {
          "output_type": "stream",
          "text": [
            "--2020-06-18 12:46:33--  https://raw.githubusercontent.com/hse-aml/natural-language-processing/master/setup_google_colab.py\n",
            "Resolving raw.githubusercontent.com (raw.githubusercontent.com)... 151.101.0.133, 151.101.64.133, 151.101.128.133, ...\n",
            "Connecting to raw.githubusercontent.com (raw.githubusercontent.com)|151.101.0.133|:443... connected.\n",
            "HTTP request sent, awaiting response... 200 OK\n",
            "Length: 1991 (1.9K) [text/plain]\n",
            "Saving to: ‘setup_google_colab.py’\n",
            "\n",
            "\rsetup_google_colab.   0%[                    ]       0  --.-KB/s               \rsetup_google_colab. 100%[===================>]   1.94K  --.-KB/s    in 0s      \n",
            "\n",
            "2020-06-18 12:46:33 (27.7 MB/s) - ‘setup_google_colab.py’ saved [1991/1991]\n",
            "\n"
          ],
          "name": "stdout"
        },
        {
          "output_type": "display_data",
          "data": {
            "application/vnd.jupyter.widget-view+json": {
              "model_id": "d10fdff23fde440d89f9ceedee317502",
              "version_minor": 0,
              "version_major": 2
            },
            "text/plain": [
              "HBox(children=(FloatProgress(value=0.0, max=7196138.0), HTML(value='')))"
            ]
          },
          "metadata": {
            "tags": []
          }
        },
        {
          "output_type": "stream",
          "text": [
            "\n"
          ],
          "name": "stdout"
        },
        {
          "output_type": "display_data",
          "data": {
            "application/vnd.jupyter.widget-view+json": {
              "model_id": "f8de2187eedf4cd7b08e84df94ea87d6",
              "version_minor": 0,
              "version_major": 2
            },
            "text/plain": [
              "HBox(children=(FloatProgress(value=0.0, max=2166270.0), HTML(value='')))"
            ]
          },
          "metadata": {
            "tags": []
          }
        },
        {
          "output_type": "stream",
          "text": [
            "\n"
          ],
          "name": "stdout"
        },
        {
          "output_type": "display_data",
          "data": {
            "application/vnd.jupyter.widget-view+json": {
              "model_id": "b36a7db1b5ab4d58b3ff805333b1655e",
              "version_minor": 0,
              "version_major": 2
            },
            "text/plain": [
              "HBox(children=(FloatProgress(value=0.0, max=1041379.0), HTML(value='')))"
            ]
          },
          "metadata": {
            "tags": []
          }
        },
        {
          "output_type": "stream",
          "text": [
            "\n"
          ],
          "name": "stdout"
        },
        {
          "output_type": "display_data",
          "data": {
            "application/vnd.jupyter.widget-view+json": {
              "model_id": "4b90864d63b848aa941bee1508f0893d",
              "version_minor": 0,
              "version_major": 2
            },
            "text/plain": [
              "HBox(children=(FloatProgress(value=0.0, max=5091.0), HTML(value='')))"
            ]
          },
          "metadata": {
            "tags": []
          }
        },
        {
          "output_type": "stream",
          "text": [
            "\n"
          ],
          "name": "stdout"
        }
      ]
    },
    {
      "cell_type": "markdown",
      "metadata": {
        "id": "AfSfHHlXQBXZ",
        "colab_type": "text"
      },
      "source": [
        "### Grading\n",
        "We will create a grader instance below and use it to collect your answers. Note that these outputs will be stored locally inside grader and will be uploaded to platform only after running submitting function in the last part of this assignment. If you want to make partial submission, you can run that cell any time you want."
      ]
    },
    {
      "cell_type": "code",
      "metadata": {
        "id": "gKBGPDemQBXa",
        "colab_type": "code",
        "colab": {}
      },
      "source": [
        "from grader import Grader"
      ],
      "execution_count": 3,
      "outputs": []
    },
    {
      "cell_type": "code",
      "metadata": {
        "id": "k3Lm6UVDQBXf",
        "colab_type": "code",
        "colab": {}
      },
      "source": [
        "grader = Grader()"
      ],
      "execution_count": 4,
      "outputs": []
    },
    {
      "cell_type": "markdown",
      "metadata": {
        "id": "PDrqnRKdQBXk",
        "colab_type": "text"
      },
      "source": [
        "### Text preprocessing"
      ]
    },
    {
      "cell_type": "markdown",
      "metadata": {
        "id": "568-34aDQBXl",
        "colab_type": "text"
      },
      "source": [
        "For this and most of the following assignments you will need to use a list of stop words. It can be downloaded from *nltk*:"
      ]
    },
    {
      "cell_type": "code",
      "metadata": {
        "id": "6fsXSQnlQBXp",
        "colab_type": "code",
        "colab": {
          "base_uri": "https://localhost:8080/",
          "height": 51
        },
        "outputId": "687b275a-f83c-4c38-cb9d-f2c5428566bc"
      },
      "source": [
        "import nltk\n",
        "nltk.download('stopwords')\n",
        "from nltk.corpus import stopwords"
      ],
      "execution_count": 5,
      "outputs": [
        {
          "output_type": "stream",
          "text": [
            "[nltk_data] Downloading package stopwords to /root/nltk_data...\n",
            "[nltk_data]   Unzipping corpora/stopwords.zip.\n"
          ],
          "name": "stderr"
        }
      ]
    },
    {
      "cell_type": "markdown",
      "metadata": {
        "id": "pd-UT8qBQBXu",
        "colab_type": "text"
      },
      "source": [
        "In this task you will deal with a dataset of post titles from StackOverflow. You are provided a split to 3 sets: *train*, *validation* and *test*. All corpora (except for *test*) contain titles of the posts and corresponding tags (100 tags are available). The *test* set is provided for Coursera's grading and doesn't contain answers. Upload the corpora using *pandas* and look at the data:"
      ]
    },
    {
      "cell_type": "code",
      "metadata": {
        "id": "XaXmG4kSQBXv",
        "colab_type": "code",
        "colab": {}
      },
      "source": [
        "from ast import literal_eval\n",
        "import pandas as pd\n",
        "import numpy as np"
      ],
      "execution_count": 6,
      "outputs": []
    },
    {
      "cell_type": "code",
      "metadata": {
        "id": "-Rk1OfutQBX2",
        "colab_type": "code",
        "colab": {}
      },
      "source": [
        "def read_data(filename):\n",
        "    data = pd.read_csv(filename, sep='\\t')\n",
        "    data['tags'] = data['tags'].apply(literal_eval)\n",
        "    return data"
      ],
      "execution_count": 7,
      "outputs": []
    },
    {
      "cell_type": "code",
      "metadata": {
        "id": "TkoE1V8NQBX7",
        "colab_type": "code",
        "colab": {}
      },
      "source": [
        "train = read_data('data/train.tsv')\n",
        "validation = read_data('data/validation.tsv')\n",
        "test = pd.read_csv('data/test.tsv', sep='\\t')"
      ],
      "execution_count": 8,
      "outputs": []
    },
    {
      "cell_type": "code",
      "metadata": {
        "id": "X9hgZSv9QBX_",
        "colab_type": "code",
        "colab": {
          "base_uri": "https://localhost:8080/",
          "height": 204
        },
        "outputId": "16386a6f-aec4-4432-da89-f6d7d6f02d2c"
      },
      "source": [
        "train.head()"
      ],
      "execution_count": 9,
      "outputs": [
        {
          "output_type": "execute_result",
          "data": {
            "text/html": [
              "<div>\n",
              "<style scoped>\n",
              "    .dataframe tbody tr th:only-of-type {\n",
              "        vertical-align: middle;\n",
              "    }\n",
              "\n",
              "    .dataframe tbody tr th {\n",
              "        vertical-align: top;\n",
              "    }\n",
              "\n",
              "    .dataframe thead th {\n",
              "        text-align: right;\n",
              "    }\n",
              "</style>\n",
              "<table border=\"1\" class=\"dataframe\">\n",
              "  <thead>\n",
              "    <tr style=\"text-align: right;\">\n",
              "      <th></th>\n",
              "      <th>title</th>\n",
              "      <th>tags</th>\n",
              "    </tr>\n",
              "  </thead>\n",
              "  <tbody>\n",
              "    <tr>\n",
              "      <th>0</th>\n",
              "      <td>How to draw a stacked dotplot in R?</td>\n",
              "      <td>[r]</td>\n",
              "    </tr>\n",
              "    <tr>\n",
              "      <th>1</th>\n",
              "      <td>mysql select all records where a datetime fiel...</td>\n",
              "      <td>[php, mysql]</td>\n",
              "    </tr>\n",
              "    <tr>\n",
              "      <th>2</th>\n",
              "      <td>How to terminate windows phone 8.1 app</td>\n",
              "      <td>[c#]</td>\n",
              "    </tr>\n",
              "    <tr>\n",
              "      <th>3</th>\n",
              "      <td>get current time in a specific country via jquery</td>\n",
              "      <td>[javascript, jquery]</td>\n",
              "    </tr>\n",
              "    <tr>\n",
              "      <th>4</th>\n",
              "      <td>Configuring Tomcat to Use SSL</td>\n",
              "      <td>[java]</td>\n",
              "    </tr>\n",
              "  </tbody>\n",
              "</table>\n",
              "</div>"
            ],
            "text/plain": [
              "                                               title                  tags\n",
              "0                How to draw a stacked dotplot in R?                   [r]\n",
              "1  mysql select all records where a datetime fiel...          [php, mysql]\n",
              "2             How to terminate windows phone 8.1 app                  [c#]\n",
              "3  get current time in a specific country via jquery  [javascript, jquery]\n",
              "4                      Configuring Tomcat to Use SSL                [java]"
            ]
          },
          "metadata": {
            "tags": []
          },
          "execution_count": 9
        }
      ]
    },
    {
      "cell_type": "markdown",
      "metadata": {
        "id": "cFeHXF5eQBYC",
        "colab_type": "text"
      },
      "source": [
        "As you can see, *title* column contains titles of the posts and *tags* column contains the tags. It could be noticed that a number of tags for a post is not fixed and could be as many as necessary."
      ]
    },
    {
      "cell_type": "markdown",
      "metadata": {
        "id": "uR2gpObhQBYD",
        "colab_type": "text"
      },
      "source": [
        "For a more comfortable usage, initialize *X_train*, *X_val*, *X_test*, *y_train*, *y_val*."
      ]
    },
    {
      "cell_type": "code",
      "metadata": {
        "id": "-Hcbf0dnQBYE",
        "colab_type": "code",
        "colab": {}
      },
      "source": [
        "X_train, y_train = train['title'].values, train['tags'].values\n",
        "X_val, y_val = validation['title'].values, validation['tags'].values\n",
        "X_test = test['title'].values"
      ],
      "execution_count": 10,
      "outputs": []
    },
    {
      "cell_type": "markdown",
      "metadata": {
        "id": "1m6MLdutQBYJ",
        "colab_type": "text"
      },
      "source": [
        "One of the most known difficulties when working with natural data is that it's unstructured. For example, if you use it \"as is\" and extract tokens just by splitting the titles by whitespaces, you will see that there are many \"weird\" tokens like *3.5?*, *\"Flip*, etc. To prevent the problems, it's usually useful to prepare the data somehow. In this task you'll write a function, which will be also used in the other assignments. \n",
        "\n",
        "**Task 1 (TextPrepare).** Implement the function *text_prepare* following the instructions. After that, run the function *test_text_prepare* to test it on tiny cases and submit it to Coursera."
      ]
    },
    {
      "cell_type": "code",
      "metadata": {
        "id": "AXbpRcxUQBYJ",
        "colab_type": "code",
        "colab": {}
      },
      "source": [
        "import re"
      ],
      "execution_count": 11,
      "outputs": []
    },
    {
      "cell_type": "code",
      "metadata": {
        "id": "_2enRPU4QBYP",
        "colab_type": "code",
        "colab": {}
      },
      "source": [
        "REPLACE_BY_SPACE_RE = re.compile('[/(){}\\[\\]\\|@,;]')\n",
        "BAD_SYMBOLS_RE = re.compile('[^0-9a-z #+_]')\n",
        "STOPWORDS = set(stopwords.words('english'))\n",
        "\n",
        "def text_prepare(text):\n",
        "    \"\"\"\n",
        "        text: a string\n",
        "        \n",
        "        return: modified initial string\n",
        "    \"\"\"\n",
        "    # text = # lowercase text\n",
        "    # text = # replace REPLACE_BY_SPACE_RE symbols by space in text\n",
        "    # text = # delete symbols which are in BAD_SYMBOLS_RE from text\n",
        "    # text = # delete stopwords from text\n",
        "\n",
        "    text = text.lower()\n",
        "\n",
        "    text = REPLACE_BY_SPACE_RE.sub(' ', text)\n",
        "    text = BAD_SYMBOLS_RE.sub('', text)\n",
        "\n",
        "    text = ' '.join([t for t in text.split(' ') if t not in STOPWORDS and len(t)>0])\n",
        "\n",
        "    return text.strip()"
      ],
      "execution_count": 12,
      "outputs": []
    },
    {
      "cell_type": "code",
      "metadata": {
        "id": "D-CzgclwQBYU",
        "colab_type": "code",
        "colab": {}
      },
      "source": [
        "def test_text_prepare():\n",
        "    examples = [\"SQL Server - any equivalent of Excel's CHOOSE function?\",\n",
        "                \"How to free c++ memory vector<int> * arr?\"]\n",
        "    answers = [\"sql server equivalent excels choose function\", \n",
        "               \"free c++ memory vectorint arr\"]\n",
        "    for ex, ans in zip(examples, answers):\n",
        "        if text_prepare(ex) != ans:\n",
        "            return \"Wrong answer for the case: '%s'\" % ex\n",
        "    return 'Basic tests are passed.'"
      ],
      "execution_count": 13,
      "outputs": []
    },
    {
      "cell_type": "code",
      "metadata": {
        "id": "tvKKvTaMQBYa",
        "colab_type": "code",
        "colab": {
          "base_uri": "https://localhost:8080/",
          "height": 34
        },
        "outputId": "0a7d9016-d384-458f-df47-82f21ecff196"
      },
      "source": [
        "print(test_text_prepare())"
      ],
      "execution_count": 14,
      "outputs": [
        {
          "output_type": "stream",
          "text": [
            "Basic tests are passed.\n"
          ],
          "name": "stdout"
        }
      ]
    },
    {
      "cell_type": "markdown",
      "metadata": {
        "id": "iPCnkQFRQBYg",
        "colab_type": "text"
      },
      "source": [
        "Run your implementation for questions from file *text_prepare_tests.tsv* to earn the points.\n"
      ]
    },
    {
      "cell_type": "code",
      "metadata": {
        "id": "q_z2-zB-QBYg",
        "colab_type": "code",
        "colab": {
          "base_uri": "https://localhost:8080/",
          "height": 102
        },
        "outputId": "d7fe364c-4a0c-44af-a917-bb7806c481d0"
      },
      "source": [
        "prepared_questions = []\n",
        "for line in open('data/text_prepare_tests.tsv', encoding='utf-8'):\n",
        "    line = text_prepare(line.strip())\n",
        "    prepared_questions.append(line)\n",
        "text_prepare_results = '\\n'.join(prepared_questions)\n",
        "\n",
        "grader.submit_tag('TextPrepare', text_prepare_results)"
      ],
      "execution_count": 15,
      "outputs": [
        {
          "output_type": "stream",
          "text": [
            "Current answer for task TextPrepare is:\n",
            " sqlite php readonly\n",
            "creating multiple textboxes dynamically\n",
            "self one prefer javascript\n",
            "save php date...\n"
          ],
          "name": "stdout"
        }
      ]
    },
    {
      "cell_type": "markdown",
      "metadata": {
        "id": "iqEi0jZPQBYk",
        "colab_type": "text"
      },
      "source": [
        "Now we can preprocess the titles using function *text_prepare* and  making sure that the headers don't have bad symbols:"
      ]
    },
    {
      "cell_type": "code",
      "metadata": {
        "id": "krCzrF_zQBYm",
        "colab_type": "code",
        "colab": {}
      },
      "source": [
        "X_train = [text_prepare(x) for x in X_train]\n",
        "X_val = [text_prepare(x) for x in X_val]\n",
        "X_test = [text_prepare(x) for x in X_test]"
      ],
      "execution_count": 16,
      "outputs": []
    },
    {
      "cell_type": "code",
      "metadata": {
        "id": "5vgA8iCdQBYr",
        "colab_type": "code",
        "colab": {
          "base_uri": "https://localhost:8080/",
          "height": 68
        },
        "outputId": "f765258c-cdb8-4cec-9a8a-f17c24339492"
      },
      "source": [
        "X_train[:3]"
      ],
      "execution_count": 18,
      "outputs": [
        {
          "output_type": "execute_result",
          "data": {
            "text/plain": [
              "['draw stacked dotplot r',\n",
              " 'mysql select records datetime field less specified value',\n",
              " 'terminate windows phone 81 app']"
            ]
          },
          "metadata": {
            "tags": []
          },
          "execution_count": 18
        }
      ]
    },
    {
      "cell_type": "code",
      "metadata": {
        "id": "xvTVjZaPe7Me",
        "colab_type": "code",
        "colab": {
          "base_uri": "https://localhost:8080/",
          "height": 1000
        },
        "outputId": "11901dc0-7276-4cb5-92aa-4ba8ec1a7dee"
      },
      "source": [
        "def flat_list_of_list(words_list_of_list):\n",
        "  out = [word for word_list in words_list_of_list for word in word_list]\n",
        "  return out\n",
        "\n",
        "def list_to_dict_of_count(x_list):\n",
        "  out_dict = {}\n",
        "\n",
        "  for x in x_list:\n",
        "    out_dict[x]= 0\n",
        "\n",
        "  for x in x_list:\n",
        "    out_dict[x]= out_dict[x] + 1\n",
        "\n",
        "  out_dict = {k: v for k, v in sorted(out_dict.items(), key=lambda item: item[1], reverse=True)}\n",
        "\n",
        "  return out_dict\n",
        "  \n",
        "\n",
        "words_list_of_list = [comment.split(' ') for comment in X_train]\n",
        "words_list = flat_list_of_list(words_list_of_list)\n",
        "\n",
        "tags_list_of_list = y_train\n",
        "tags_list = flat_list_of_list(tags_list_of_list)\n",
        "\n",
        "list_to_dict_of_count(words_list)\n",
        "\n",
        "\n",
        "# words_list_of_list[0:5]\n",
        "# words_list[0:10]\n",
        "# tags_list[0:10]"
      ],
      "execution_count": 32,
      "outputs": [
        {
          "output_type": "execute_result",
          "data": {
            "text/plain": [
              "{'using': 8278,\n",
              " 'php': 5614,\n",
              " 'java': 5501,\n",
              " 'file': 5055,\n",
              " 'javascript': 4746,\n",
              " 'error': 4388,\n",
              " 'get': 4301,\n",
              " 'c#': 4188,\n",
              " 'python': 4073,\n",
              " 'string': 3652,\n",
              " 'array': 3533,\n",
              " 'data': 3298,\n",
              " 'jquery': 3293,\n",
              " 'value': 3175,\n",
              " 'function': 2896,\n",
              " 'object': 2646,\n",
              " 'class': 2558,\n",
              " 'use': 2422,\n",
              " 'c++': 2312,\n",
              " 'list': 2137,\n",
              " 'method': 2123,\n",
              " 'multiple': 2096,\n",
              " 'text': 1929,\n",
              " 'image': 1849,\n",
              " 'page': 1847,\n",
              " 'rails': 1778,\n",
              " 'form': 1776,\n",
              " 'create': 1757,\n",
              " 'html': 1715,\n",
              " 'type': 1699,\n",
              " 'code': 1664,\n",
              " 'set': 1640,\n",
              " 'working': 1636,\n",
              " 'database': 1631,\n",
              " 'add': 1611,\n",
              " 'convert': 1586,\n",
              " 'mysql': 1572,\n",
              " 'json': 1557,\n",
              " 'c': 1550,\n",
              " 'server': 1543,\n",
              " 'variable': 1542,\n",
              " 'android': 1530,\n",
              " 'values': 1528,\n",
              " 'aspnet': 1506,\n",
              " 'way': 1454,\n",
              " 'application': 1451,\n",
              " 'change': 1441,\n",
              " 'button': 1385,\n",
              " 'find': 1383,\n",
              " 'django': 1373,\n",
              " 'one': 1370,\n",
              " 'without': 1369,\n",
              " 'windows': 1339,\n",
              " 'cannot': 1314,\n",
              " 'table': 1274,\n",
              " 'call': 1261,\n",
              " 'files': 1249,\n",
              " 'ajax': 1248,\n",
              " 'check': 1223,\n",
              " 'time': 1213,\n",
              " 'name': 1174,\n",
              " 'two': 1169,\n",
              " 'ruby': 1164,\n",
              " 'getting': 1159,\n",
              " 'date': 1137,\n",
              " 'web': 1129,\n",
              " 'make': 1127,\n",
              " 'input': 1120,\n",
              " 'user': 1120,\n",
              " 'xml': 1119,\n",
              " 'app': 1116,\n",
              " 'another': 1115,\n",
              " 'element': 1107,\n",
              " 'custom': 1093,\n",
              " 'event': 1088,\n",
              " 'api': 1083,\n",
              " 'access': 1074,\n",
              " 'url': 1057,\n",
              " 'number': 1052,\n",
              " 'spring': 1019,\n",
              " 'view': 1004,\n",
              " 'sql': 1001,\n",
              " 'return': 983,\n",
              " 'mvc': 981,\n",
              " 'select': 980,\n",
              " 'google': 974,\n",
              " 'query': 972,\n",
              " 'inside': 947,\n",
              " 'exception': 944,\n",
              " 'display': 943,\n",
              " 'column': 941,\n",
              " 'read': 940,\n",
              " 'loop': 940,\n",
              " 'swift': 934,\n",
              " 'new': 931,\n",
              " 'work': 931,\n",
              " 'remove': 931,\n",
              " 'load': 912,\n",
              " 'r': 896,\n",
              " 'objects': 867,\n",
              " 'property': 866,\n",
              " 'line': 862,\n",
              " 'cant': 859,\n",
              " 'pass': 840,\n",
              " 'click': 837,\n",
              " 'framework': 822,\n",
              " 'update': 821,\n",
              " 'script': 819,\n",
              " 'vs': 812,\n",
              " 'post': 806,\n",
              " 'null': 797,\n",
              " '2': 795,\n",
              " 'creating': 794,\n",
              " 'net': 791,\n",
              " 'request': 787,\n",
              " 'different': 785,\n",
              " 'field': 778,\n",
              " 'key': 776,\n",
              " 'run': 776,\n",
              " 'row': 769,\n",
              " 'doesnt': 768,\n",
              " 'ios': 763,\n",
              " 'service': 751,\n",
              " 'linq': 736,\n",
              " 'div': 733,\n",
              " 'open': 723,\n",
              " 'window': 720,\n",
              " 'project': 717,\n",
              " 'wpf': 713,\n",
              " 'format': 706,\n",
              " 'best': 706,\n",
              " 'show': 695,\n",
              " 'controller': 694,\n",
              " 'variables': 694,\n",
              " 'undefined': 693,\n",
              " 'specific': 691,\n",
              " 'dynamically': 691,\n",
              " 'adding': 675,\n",
              " 'based': 657,\n",
              " 'angularjs': 653,\n",
              " 'control': 649,\n",
              " 'parameter': 648,\n",
              " 'send': 647,\n",
              " 'model': 644,\n",
              " '3': 641,\n",
              " 'library': 639,\n",
              " 'difference': 639,\n",
              " 'insert': 636,\n",
              " 'first': 636,\n",
              " 'passing': 635,\n",
              " 'vbnet': 635,\n",
              " 'js': 632,\n",
              " 'regex': 628,\n",
              " 'elements': 627,\n",
              " 'codeigniter': 625,\n",
              " 'eclipse': 624,\n",
              " 'within': 624,\n",
              " 'path': 623,\n",
              " 'dynamic': 618,\n",
              " 'visual': 611,\n",
              " 'memory': 606,\n",
              " 'connection': 604,\n",
              " 'possible': 602,\n",
              " 'id': 598,\n",
              " 'thread': 597,\n",
              " 'save': 592,\n",
              " 'default': 591,\n",
              " 'via': 590,\n",
              " '+': 590,\n",
              " 'running': 587,\n",
              " 'size': 585,\n",
              " 'program': 584,\n",
              " 'found': 584,\n",
              " 'content': 582,\n",
              " 'reference': 581,\n",
              " 'issue': 576,\n",
              " 'attribute': 571,\n",
              " 'write': 571,\n",
              " 'studio': 570,\n",
              " 'laravel': 561,\n",
              " 'search': 542,\n",
              " 'test': 540,\n",
              " 'excel': 540,\n",
              " 'static': 539,\n",
              " 'session': 537,\n",
              " 'output': 535,\n",
              " 'http': 530,\n",
              " 'character': 529,\n",
              " 'characters': 529,\n",
              " 'entity': 525,\n",
              " 'current': 523,\n",
              " 'problem': 522,\n",
              " 'client': 520,\n",
              " 'calling': 520,\n",
              " 'empty': 519,\n",
              " 'simple': 517,\n",
              " 'int': 517,\n",
              " 'css': 516,\n",
              " 'parameters': 515,\n",
              " 'upload': 515,\n",
              " 'command': 510,\n",
              " 'reading': 508,\n",
              " 'directory': 504,\n",
              " 'validation': 501,\n",
              " '1': 498,\n",
              " 'map': 496,\n",
              " 'hibernate': 495,\n",
              " 'selected': 493,\n",
              " 'textbox': 492,\n",
              " 'unable': 491,\n",
              " 'browser': 486,\n",
              " 'images': 484,\n",
              " 'item': 484,\n",
              " 'link': 481,\n",
              " 'index': 480,\n",
              " 'facebook': 477,\n",
              " 'expression': 475,\n",
              " 'store': 474,\n",
              " 'setting': 474,\n",
              " 'delete': 472,\n",
              " 'single': 469,\n",
              " 'template': 468,\n",
              " 'like': 466,\n",
              " 'statement': 463,\n",
              " 'strings': 462,\n",
              " 'rows': 461,\n",
              " 'failed': 461,\n",
              " 'header': 460,\n",
              " 'replace': 460,\n",
              " 'loading': 459,\n",
              " 'login': 454,\n",
              " 'box': 453,\n",
              " 'iphone': 452,\n",
              " '4': 450,\n",
              " 'numbers': 449,\n",
              " 'color': 448,\n",
              " 'nested': 446,\n",
              " 'returning': 445,\n",
              " 'print': 443,\n",
              " 'instance': 443,\n",
              " 'background': 443,\n",
              " 'pdf': 441,\n",
              " 'char': 440,\n",
              " 'parse': 440,\n",
              " 'could': 439,\n",
              " 'disable': 438,\n",
              " 'bootstrap': 435,\n",
              " 'message': 434,\n",
              " 'csv': 433,\n",
              " 'module': 433,\n",
              " 'tag': 426,\n",
              " 'chrome': 424,\n",
              " 'converting': 424,\n",
              " 'x': 421,\n",
              " 'parent': 419,\n",
              " 'invalid': 418,\n",
              " 'returns': 416,\n",
              " 'local': 414,\n",
              " 'methods': 409,\n",
              " 'need': 407,\n",
              " 'connect': 403,\n",
              " 'email': 401,\n",
              " 'changing': 400,\n",
              " 'trying': 399,\n",
              " 'response': 396,\n",
              " 'functions': 396,\n",
              " 'install': 393,\n",
              " 'redirect': 390,\n",
              " 'angular': 387,\n",
              " 'order': 387,\n",
              " 'dictionary': 386,\n",
              " 'arrays': 385,\n",
              " 'dropdown': 384,\n",
              " 'classes': 383,\n",
              " 'folder': 381,\n",
              " 'generate': 381,\n",
              " 'bar': 380,\n",
              " 'submit': 380,\n",
              " 'pandas': 379,\n",
              " 'process': 377,\n",
              " 'columns': 376,\n",
              " 'child': 375,\n",
              " 'source': 375,\n",
              " 'checkbox': 375,\n",
              " 'integer': 371,\n",
              " 'count': 369,\n",
              " 'sending': 368,\n",
              " 'parsing': 368,\n",
              " 'items': 368,\n",
              " 'start': 367,\n",
              " 'detect': 365,\n",
              " 'double': 365,\n",
              " 'datetime': 363,\n",
              " 'hide': 363,\n",
              " 'fields': 363,\n",
              " 'jsp': 363,\n",
              " 'console': 362,\n",
              " 'gridview': 359,\n",
              " 'pointer': 359,\n",
              " 'selenium': 357,\n",
              " 'linux': 356,\n",
              " 'constructor': 355,\n",
              " 'import': 354,\n",
              " 'random': 354,\n",
              " '7': 354,\n",
              " 'programmatically': 353,\n",
              " 'action': 353,\n",
              " 'collection': 350,\n",
              " 'instead': 347,\n",
              " 'version': 344,\n",
              " 'datagridview': 342,\n",
              " 'filter': 340,\n",
              " 'sort': 340,\n",
              " 'objectivec': 338,\n",
              " 'website': 336,\n",
              " 'generic': 335,\n",
              " 'last': 334,\n",
              " 'result': 334,\n",
              " 'build': 333,\n",
              " 'system': 332,\n",
              " 'download': 331,\n",
              " 'split': 330,\n",
              " 'properties': 330,\n",
              " 'interface': 329,\n",
              " 'iframe': 329,\n",
              " 'back': 329,\n",
              " 'nodejs': 329,\n",
              " 'cell': 328,\n",
              " 'binding': 328,\n",
              " 'arguments': 328,\n",
              " 'datatable': 326,\n",
              " '5': 326,\n",
              " 'syntax': 326,\n",
              " 'xcode': 325,\n",
              " 'scroll': 325,\n",
              " 'onclick': 323,\n",
              " 'binary': 323,\n",
              " 'external': 321,\n",
              " 'position': 319,\n",
              " 'execute': 318,\n",
              " '0': 318,\n",
              " 'socket': 318,\n",
              " 'rest': 317,\n",
              " 'called': 316,\n",
              " 'missing': 316,\n",
              " 'word': 314,\n",
              " 'maps': 312,\n",
              " 'implement': 311,\n",
              " 'typeerror': 311,\n",
              " 'byte': 310,\n",
              " 'whats': 309,\n",
              " 'extension': 309,\n",
              " 'copy': 309,\n",
              " 'refresh': 308,\n",
              " 'video': 308,\n",
              " 'menu': 307,\n",
              " 'match': 306,\n",
              " 'given': 304,\n",
              " 'argument': 304,\n",
              " 'node': 304,\n",
              " 'wordpress': 303,\n",
              " 'include': 300,\n",
              " 'retrieve': 300,\n",
              " 'regular': 296,\n",
              " 'accessing': 294,\n",
              " 'forms': 292,\n",
              " 'canvas': 292,\n",
              " 'showing': 292,\n",
              " 'document': 291,\n",
              " 'results': 290,\n",
              " 'ui': 289,\n",
              " 'runtime': 289,\n",
              " 'arraylist': 287,\n",
              " 'defined': 287,\n",
              " 'handle': 285,\n",
              " 'drop': 282,\n",
              " 'group': 281,\n",
              " 'apache': 281,\n",
              " 'errors': 281,\n",
              " 'large': 279,\n",
              " 'opencv': 277,\n",
              " 'height': 277,\n",
              " 'compare': 277,\n",
              " 'wcf': 277,\n",
              " 'address': 276,\n",
              " 'ie': 276,\n",
              " 'mobile': 276,\n",
              " 'many': 275,\n",
              " 'properly': 275,\n",
              " 'member': 274,\n",
              " 'equivalent': 274,\n",
              " '8': 273,\n",
              " 'screen': 273,\n",
              " 'exists': 273,\n",
              " 'global': 272,\n",
              " 'plugin': 270,\n",
              " 'password': 270,\n",
              " 'expected': 269,\n",
              " 'vector': 268,\n",
              " 'events': 268,\n",
              " 'jar': 268,\n",
              " 'maven': 268,\n",
              " 'length': 267,\n",
              " 'location': 267,\n",
              " 'writing': 267,\n",
              " 'types': 267,\n",
              " 'numpy': 267,\n",
              " 'servlet': 267,\n",
              " 'html5': 266,\n",
              " 'extract': 266,\n",
              " 'width': 265,\n",
              " 'stored': 265,\n",
              " 'close': 262,\n",
              " 'dataframe': 262,\n",
              " 'dialog': 262,\n",
              " 'certain': 262,\n",
              " 'help': 261,\n",
              " 'used': 261,\n",
              " 'range': 260,\n",
              " 'style': 259,\n",
              " 'names': 258,\n",
              " 'handling': 258,\n",
              " 'prevent': 258,\n",
              " 'automatically': 257,\n",
              " 'works': 257,\n",
              " 'resource': 256,\n",
              " 'magento': 256,\n",
              " 'every': 256,\n",
              " 'tomcat': 255,\n",
              " 'fails': 255,\n",
              " 'cast': 255,\n",
              " 'created': 254,\n",
              " 'pattern': 254,\n",
              " 'warning': 254,\n",
              " 'frame': 253,\n",
              " 'popup': 253,\n",
              " 'wrong': 252,\n",
              " 'contains': 251,\n",
              " 'validate': 251,\n",
              " 'displaying': 251,\n",
              " 'enum': 250,\n",
              " 'updating': 249,\n",
              " 'qt': 249,\n",
              " 'curl': 248,\n",
              " 'package': 248,\n",
              " 'stop': 247,\n",
              " 'must': 246,\n",
              " 'testing': 246,\n",
              " 'listview': 246,\n",
              " 'operator': 245,\n",
              " '2d': 244,\n",
              " 'space': 244,\n",
              " 'put': 243,\n",
              " 'authentication': 243,\n",
              " 'context': 243,\n",
              " 'conversion': 242,\n",
              " 'keys': 240,\n",
              " 'auto': 238,\n",
              " 'structure': 238,\n",
              " 'callback': 237,\n",
              " 'main': 237,\n",
              " 'saving': 236,\n",
              " 'token': 236,\n",
              " 'end': 236,\n",
              " 'exist': 236,\n",
              " 'long': 235,\n",
              " 'tab': 235,\n",
              " 'db': 235,\n",
              " 'problems': 235,\n",
              " 'foreach': 234,\n",
              " 'existing': 234,\n",
              " 'dll': 232,\n",
              " 'always': 232,\n",
              " 'block': 232,\n",
              " 'sorting': 231,\n",
              " 'grid': 231,\n",
              " 'finding': 231,\n",
              " 'matplotlib': 230,\n",
              " 'remote': 230,\n",
              " 'sqlite': 229,\n",
              " 'buttons': 229,\n",
              " 'option': 229,\n",
              " 'bind': 228,\n",
              " 'determine': 228,\n",
              " 'modal': 227,\n",
              " 'firefox': 227,\n",
              " 'stream': 227,\n",
              " 'performance': 227,\n",
              " 'tags': 227,\n",
              " 'label': 226,\n",
              " 'plot': 226,\n",
              " 'mac': 225,\n",
              " 'join': 224,\n",
              " 'decimal': 224,\n",
              " 'combobox': 224,\n",
              " 'uncaught': 224,\n",
              " 'phone': 223,\n",
              " 'radio': 223,\n",
              " 'example': 223,\n",
              " 'chart': 222,\n",
              " 'compile': 221,\n",
              " 'unexpected': 221,\n",
              " 'attributes': 221,\n",
              " 'dom': 219,\n",
              " 'checking': 218,\n",
              " 'correctly': 218,\n",
              " 'right': 217,\n",
              " 'tables': 214,\n",
              " 'point': 214,\n",
              " 'installing': 214,\n",
              " 'lines': 214,\n",
              " 'base': 214,\n",
              " 'mouse': 213,\n",
              " 'float': 213,\n",
              " 'users': 213,\n",
              " 'basic': 211,\n",
              " 'support': 211,\n",
              " 'struct': 210,\n",
              " 'tree': 209,\n",
              " 'making': 208,\n",
              " 'unit': 208,\n",
              " 'unique': 207,\n",
              " 'scope': 207,\n",
              " 'threads': 206,\n",
              " 'correct': 205,\n",
              " 'hash': 205,\n",
              " 'duplicate': 205,\n",
              " 'catch': 205,\n",
              " 'next': 204,\n",
              " 'handler': 204,\n",
              " 'mean': 204,\n",
              " 'already': 204,\n",
              " 'wont': 203,\n",
              " 'even': 203,\n",
              " 'good': 203,\n",
              " 'edit': 202,\n",
              " 'task': 202,\n",
              " 'admin': 202,\n",
              " 'uitableview': 202,\n",
              " 'removing': 202,\n",
              " 'matrix': 201,\n",
              " 'namespace': 200,\n",
              " 'contents': 200,\n",
              " 'pages': 200,\n",
              " 'valid': 200,\n",
              " 'graph': 199,\n",
              " 'dates': 199,\n",
              " 'lists': 198,\n",
              " 'sdk': 197,\n",
              " 'log': 197,\n",
              " 'encoding': 197,\n",
              " 'const': 197,\n",
              " 'debug': 197,\n",
              " 'objective': 196,\n",
              " 'case': 196,\n",
              " 'calculate': 196,\n",
              " 'changes': 196,\n",
              " 'site': 196,\n",
              " 'programming': 195,\n",
              " 'configuration': 195,\n",
              " 'storing': 195,\n",
              " 'side': 195,\n",
              " 'active': 195,\n",
              " 'sum': 194,\n",
              " 'full': 194,\n",
              " 'limit': 194,\n",
              " 'keep': 193,\n",
              " 'jpa': 193,\n",
              " 'top': 192,\n",
              " 'listbox': 192,\n",
              " 'implementation': 190,\n",
              " 'animation': 190,\n",
              " 'unicode': 189,\n",
              " 'append': 188,\n",
              " 'override': 188,\n",
              " 'printing': 187,\n",
              " 'mongodb': 187,\n",
              " 'twitter': 186,\n",
              " 'allow': 186,\n",
              " 'record': 185,\n",
              " 'winforms': 185,\n",
              " 'part': 185,\n",
              " 'resize': 184,\n",
              " 'utf8': 184,\n",
              " 'core': 184,\n",
              " 'lambda': 183,\n",
              " 'loaded': 183,\n",
              " 'mail': 182,\n",
              " 'ip': 182,\n",
              " 'security': 182,\n",
              " 'controls': 182,\n",
              " 'play': 181,\n",
              " 'times': 181,\n",
              " 'pdo': 180,\n",
              " 'layout': 178,\n",
              " 'selection': 177,\n",
              " 'async': 176,\n",
              " 'fatal': 176,\n",
              " 'game': 176,\n",
              " 'records': 175,\n",
              " 'bean': 175,\n",
              " 'language': 175,\n",
              " 'boolean': 174,\n",
              " 'webdriver': 174,\n",
              " 'cookie': 174,\n",
              " 'draw': 173,\n",
              " 'constant': 173,\n",
              " 'switch': 173,\n",
              " 'outside': 173,\n",
              " 'cakephp': 172,\n",
              " 'domain': 172,\n",
              " 'gui': 172,\n",
              " 'force': 172,\n",
              " 'unknown': 171,\n",
              " 'true': 171,\n",
              " 'inserting': 171,\n",
              " 'assign': 169,\n",
              " 'wait': 169,\n",
              " 'port': 168,\n",
              " 'false': 168,\n",
              " 'mode': 168,\n",
              " '20': 168,\n",
              " 'slow': 168,\n",
              " 'named': 168,\n",
              " 'state': 167,\n",
              " 'focus': 167,\n",
              " 'oracle': 167,\n",
              " 'issues': 167,\n",
              " 'requests': 167,\n",
              " 'mapping': 167,\n",
              " 'netbeans': 167,\n",
              " 'available': 167,\n",
              " 'condition': 167,\n",
              " 'multidimensional': 167,\n",
              " 'enable': 166,\n",
              " 'generated': 166,\n",
              " 'ubuntu': 165,\n",
              " 'assembly': 165,\n",
              " 'jdbc': 164,\n",
              " 'uploading': 164,\n",
              " 'clicked': 164,\n",
              " 'device': 164,\n",
              " 'gem': 163,\n",
              " 'populate': 163,\n",
              " 'yii': 163,\n",
              " 'specified': 162,\n",
              " 'swing': 162,\n",
              " 'soap': 162,\n",
              " 'required': 161,\n",
              " 'special': 161,\n",
              " 'engine': 161,\n",
              " 'initialize': 160,\n",
              " 'checked': 159,\n",
              " 'exceptions': 159,\n",
              " '2010': 159,\n",
              " 'executing': 159,\n",
              " 'know': 159,\n",
              " 'network': 158,\n",
              " 'bad': 158,\n",
              " 'native': 158,\n",
              " 'avoid': 157,\n",
              " 'tkinter': 157,\n",
              " 'javafx': 157,\n",
              " 'try': 157,\n",
              " 'design': 157,\n",
              " '6': 157,\n",
              " 'timeout': 156,\n",
              " 'month': 156,\n",
              " 'export': 156,\n",
              " 'webservice': 156,\n",
              " 'efficient': 155,\n",
              " 'trigger': 155,\n",
              " 'n': 155,\n",
              " 'want': 155,\n",
              " '404': 155,\n",
              " 'heroku': 155,\n",
              " 'move': 155,\n",
              " 'question': 155,\n",
              " 'os': 154,\n",
              " 'component': 154,\n",
              " 'timer': 154,\n",
              " 'dont': 154,\n",
              " 'iterate': 154,\n",
              " 'stack': 154,\n",
              " '10': 153,\n",
              " 'zend': 152,\n",
              " 'words': 152,\n",
              " 'body': 152,\n",
              " 'textarea': 151,\n",
              " 'views': 151,\n",
              " 'implementing': 151,\n",
              " 'compiler': 150,\n",
              " 'clicking': 150,\n",
              " 'linked': 150,\n",
              " 'symbol': 149,\n",
              " 'clear': 148,\n",
              " 'render': 148,\n",
              " 'flask': 148,\n",
              " 'root': 148,\n",
              " 'navigation': 148,\n",
              " 'symfony2': 147,\n",
              " 'second': 147,\n",
              " 'define': 147,\n",
              " 'datagrid': 147,\n",
              " 'pointers': 146,\n",
              " 'fill': 146,\n",
              " 'ssl': 145,\n",
              " 'inheritance': 145,\n",
              " 'private': 145,\n",
              " 'route': 145,\n",
              " 'procedure': 145,\n",
              " 'particular': 145,\n",
              " 'rspec': 144,\n",
              " 'information': 144,\n",
              " 'left': 144,\n",
              " 'scrolling': 144,\n",
              " 'declaration': 144,\n",
              " 'status': 143,\n",
              " 'behind': 143,\n",
              " 'bytes': 143,\n",
              " 'fetch': 142,\n",
              " 'fix': 142,\n",
              " 'services': 142,\n",
              " 'calendar': 142,\n",
              " 'reflection': 142,\n",
              " 'push': 142,\n",
              " 'spaces': 142,\n",
              " 'algorithm': 141,\n",
              " 'xpath': 141,\n",
              " 'alert': 141,\n",
              " 'apply': 140,\n",
              " 'cache': 140,\n",
              " 'integers': 140,\n",
              " 'youtube': 140,\n",
              " 'development': 139,\n",
              " 'calls': 139,\n",
              " 'dependency': 139,\n",
              " 'options': 138,\n",
              " 'maximum': 138,\n",
              " 'hex': 138,\n",
              " 'max': 138,\n",
              " 'https': 138,\n",
              " 'usage': 137,\n",
              " 'progress': 137,\n",
              " 'target': 137,\n",
              " 'previous': 137,\n",
              " 'environment': 137,\n",
              " 'models': 136,\n",
              " 'merge': 136,\n",
              " 'title': 136,\n",
              " 'practice': 136,\n",
              " 'internet': 136,\n",
              " 'comparing': 136,\n",
              " 'changed': 135,\n",
              " 'headers': 135,\n",
              " 'notification': 133,\n",
              " 'driver': 133,\n",
              " 'libraries': 133,\n",
              " 'boost': 133,\n",
              " 'matching': 132,\n",
              " 'apps': 132,\n",
              " 'statements': 132,\n",
              " 'panel': 132,\n",
              " 'symfony': 132,\n",
              " 'shared': 132,\n",
              " 'font': 132,\n",
              " 'opengl': 132,\n",
              " 'tests': 132,\n",
              " 'processing': 132,\n",
              " 'comma': 131,\n",
              " 'public': 131,\n",
              " 'xaml': 131,\n",
              " 'installed': 131,\n",
              " 'datepicker': 131,\n",
              " 'separate': 130,\n",
              " 'standard': 130,\n",
              " 'icon': 130,\n",
              " 'resources': 130,\n",
              " 'directive': 129,\n",
              " 'report': 129,\n",
              " 'abstract': 129,\n",
              " 'links': 129,\n",
              " 'htaccess': 129,\n",
              " 'better': 128,\n",
              " 'hidden': 128,\n",
              " 'container': 128,\n",
              " 'serialize': 128,\n",
              " 'debugging': 128,\n",
              " 'logging': 128,\n",
              " 'would': 128,\n",
              " 'asp': 128,\n",
              " 'resolve': 128,\n",
              " 'autocomplete': 127,\n",
              " 'junit': 127,\n",
              " 'configure': 127,\n",
              " 'ggplot2': 127,\n",
              " 'react': 127,\n",
              " 'see': 127,\n",
              " 'hashmap': 127,\n",
              " 'partial': 126,\n",
              " 'alternative': 126,\n",
              " 'queries': 126,\n",
              " 'selecting': 125,\n",
              " 'visible': 125,\n",
              " 'echo': 125,\n",
              " 'messages': 125,\n",
              " 'returned': 125,\n",
              " 'throws': 125,\n",
              " 'devise': 124,\n",
              " 'something': 124,\n",
              " 'keyboard': 123,\n",
              " 'proxy': 123,\n",
              " 'svg': 123,\n",
              " 'checkboxes': 123,\n",
              " 'declare': 123,\n",
              " 'generating': 123,\n",
              " 'denied': 122,\n",
              " 'take': 122,\n",
              " 'jtable': 122,\n",
              " 'whether': 122,\n",
              " 'coordinates': 122,\n",
              " 'escape': 122,\n",
              " 'operation': 121,\n",
              " 'quotes': 121,\n",
              " 'causes': 121,\n",
              " 'virtual': 121,\n",
              " 'formatting': 121,\n",
              " 'extjs': 120,\n",
              " 'day': 120,\n",
              " 'drag': 120,\n",
              " 'jsf': 120,\n",
              " 'reload': 120,\n",
              " 'drawing': 120,\n",
              " 'setup': 120,\n",
              " 'contain': 120,\n",
              " 'shell': 119,\n",
              " 'product': 119,\n",
              " 'dataset': 119,\n",
              " 'intellij': 118,\n",
              " 'machine': 118,\n",
              " 'delegate': 118,\n",
              " 'webpage': 118,\n",
              " 'entities': 118,\n",
              " 'rendering': 118,\n",
              " 'queue': 118,\n",
              " 'strange': 118,\n",
              " 'phonegap': 118,\n",
              " 'containing': 118,\n",
              " 'cells': 118,\n",
              " 'applications': 118,\n",
              " 'twice': 118,\n",
              " 'dropdownlist': 118,\n",
              " 'connecting': 117,\n",
              " 'inline': 117,\n",
              " 'per': 117,\n",
              " 'execution': 117,\n",
              " 'gcc': 117,\n",
              " 'blank': 116,\n",
              " 'relationship': 116,\n",
              " 'uiview': 116,\n",
              " 'level': 116,\n",
              " 'opening': 116,\n",
              " 'ms': 116,\n",
              " 'conditional': 116,\n",
              " 'razor': 115,\n",
              " 'serialization': 115,\n",
              " 'gives': 115,\n",
              " 'widget': 115,\n",
              " 'initialization': 115,\n",
              " 'relative': 115,\n",
              " 'modify': 115,\n",
              " 'safe': 115,\n",
              " 'etc': 115,\n",
              " 'internal': 115,\n",
              " 'nodes': 114,\n",
              " 'jqgrid': 114,\n",
              " 'definition': 114,\n",
              " 'timestamp': 114,\n",
              " 'capture': 114,\n",
              " 'batch': 113,\n",
              " 'importing': 113,\n",
              " 'building': 113,\n",
              " 'retrieving': 112,\n",
              " 'expressions': 112,\n",
              " 'compiling': 112,\n",
              " 'else': 112,\n",
              " 'allowed': 112,\n",
              " 'added': 111,\n",
              " 'still': 111,\n",
              " 'numeric': 111,\n",
              " 'tcp': 111,\n",
              " 'year': 110,\n",
              " 'host': 110,\n",
              " 'sqlalchemy': 110,\n",
              " 'seconds': 110,\n",
              " 'doctrine': 110,\n",
              " 'boot': 109,\n",
              " 'highcharts': 109,\n",
              " 'cookies': 109,\n",
              " 'selector': 109,\n",
              " 'href': 108,\n",
              " 'nsstring': 108,\n",
              " 'foreign': 108,\n",
              " 'jframe': 107,\n",
              " 'jackson': 107,\n",
              " 'starting': 107,\n",
              " 'config': 107,\n",
              " 'annotation': 107,\n",
              " 'embedded': 107,\n",
              " 'fast': 107,\n",
              " 'reset': 106,\n",
              " 'protocol': 106,\n",
              " 'touch': 106,\n",
              " 'injection': 106,\n",
              " 'section': 106,\n",
              " 'firing': 106,\n",
              " 'tabs': 105,\n",
              " 'jaxb': 105,\n",
              " 'webbrowser': 105,\n",
              " 'ascii': 105,\n",
              " 'points': 105,\n",
              " 'closing': 105,\n",
              " 'overriding': 104,\n",
              " 'transaction': 104,\n",
              " 'postgresql': 104,\n",
              " 'trouble': 104,\n",
              " 'hover': 104,\n",
              " 'sharepoint': 104,\n",
              " 'passed': 104,\n",
              " 'labels': 104,\n",
              " 'cursor': 104,\n",
              " 'able': 103,\n",
              " 'gwt': 103,\n",
              " 'recursive': 103,\n",
              " 'specify': 103,\n",
              " 'sequence': 103,\n",
              " 'localhost': 103,\n",
              " 'explorer': 103,\n",
              " 'urls': 103,\n",
              " 'asynchronous': 103,\n",
              " 'assignment': 103,\n",
              " 'replacing': 103,\n",
              " 'deploy': 102,\n",
              " 'fixed': 102,\n",
              " 'webview': 102,\n",
              " 'giving': 102,\n",
              " 'days': 102,\n",
              " 'templates': 102,\n",
              " 'exit': 102,\n",
              " 'fastest': 102,\n",
              " 'base64': 102,\n",
              " 'anchor': 102,\n",
              " 'restful': 102,\n",
              " 'deleting': 102,\n",
              " 'toggle': 102,\n",
              " 'axis': 101,\n",
              " 'nil': 101,\n",
              " 'go': 101,\n",
              " 'v3': 101,\n",
              " 'enter': 100,\n",
              " 'osx': 100,\n",
              " 'proper': 100,\n",
              " 'vb': 100,\n",
              " '500': 100,\n",
              " 'moving': 100,\n",
              " 'digits': 100,\n",
              " 'nhibernate': 100,\n",
              " 'casting': 99,\n",
              " 'ignore': 99,\n",
              " 'stl': 99,\n",
              " 'faster': 99,\n",
              " 'activerecord': 99,\n",
              " 'permission': 99,\n",
              " 'settings': 99,\n",
              " 'pagination': 98,\n",
              " 'mysqli': 98,\n",
              " 'border': 98,\n",
              " 'lock': 98,\n",
              " 'including': 98,\n",
              " 'loops': 98,\n",
              " 'serial': 97,\n",
              " 'declared': 97,\n",
              " 'incorrect': 97,\n",
              " 'caching': 97,\n",
              " 'activity': 97,\n",
              " 'username': 97,\n",
              " 'real': 97,\n",
              " 's3': 97,\n",
              " 'effect': 97,\n",
              " 'sent': 97,\n",
              " 'comparison': 96,\n",
              " 'complex': 96,\n",
              " 'complete': 96,\n",
              " 'safari': 96,\n",
              " 'invoke': 96,\n",
              " 'across': 96,\n",
              " 'uitableviewcell': 96,\n",
              " 'txt': 95,\n",
              " 'void': 95,\n",
              " 'audio': 95,\n",
              " ...}"
            ]
          },
          "metadata": {
            "tags": []
          },
          "execution_count": 32
        }
      ]
    },
    {
      "cell_type": "code",
      "metadata": {
        "id": "hDZdOs5yghlD",
        "colab_type": "code",
        "colab": {
          "base_uri": "https://localhost:8080/",
          "height": 34
        },
        "outputId": "e23c3c70-407b-44d8-f5e8-8c78b8cf100e"
      },
      "source": [
        ""
      ],
      "execution_count": 28,
      "outputs": [
        {
          "output_type": "execute_result",
          "data": {
            "text/plain": [
              "['r']"
            ]
          },
          "metadata": {
            "tags": []
          },
          "execution_count": 28
        }
      ]
    },
    {
      "cell_type": "markdown",
      "metadata": {
        "id": "IqiUiWZxQBY0",
        "colab_type": "text"
      },
      "source": [
        "For each tag and for each word calculate how many times they occur in the train corpus. \n",
        "\n",
        "**Task 2 (WordsTagsCount).** Find 3 most popular tags and 3 most popular words in the train data and submit the results to earn the points."
      ]
    },
    {
      "cell_type": "code",
      "metadata": {
        "id": "nu4CDYmDQBY1",
        "colab_type": "code",
        "colab": {
          "base_uri": "https://localhost:8080/",
          "height": 54
        },
        "outputId": "908eb623-9868-459e-fbc5-a3e44e8de2ff"
      },
      "source": [
        "# Dictionary of all tags from train corpus with their counts.\n",
        "tags_counts = {}\n",
        "# Dictionary of all words from train corpus with their counts.\n",
        "words_counts = {}\n",
        "\n",
        "######################################\n",
        "def flat_list_of_list(words_list_of_list):\n",
        "  out = [word for word_list in words_list_of_list for word in word_list]\n",
        "  return out\n",
        "\n",
        "def list_to_dict_of_count(x_list):\n",
        "  out_dict = {}\n",
        "\n",
        "  for x in x_list:\n",
        "    out_dict[x]= 0\n",
        "\n",
        "  for x in x_list:\n",
        "    out_dict[x]= out_dict[x] + 1\n",
        "\n",
        "  # out_dict = {k: v for k, v in sorted(out_dict.items(), key=lambda item: item[1], reverse=True)}\n",
        "\n",
        "  return out_dict\n",
        "  \n",
        "\n",
        "words_list_of_list = [comment.split(' ') for comment in X_train]\n",
        "words_list = flat_list_of_list(words_list_of_list)\n",
        "\n",
        "tags_list_of_list = y_train\n",
        "tags_list = flat_list_of_list(tags_list_of_list)\n",
        "\n",
        "words_counts = list_to_dict_of_count(words_list)\n",
        "tags_counts = list_to_dict_of_count(tags_list)\n",
        "\n",
        "######################################\n",
        "\n",
        "# print(words_counts)"
      ],
      "execution_count": 35,
      "outputs": [
        {
          "output_type": "stream",
          "text": [
            "{'draw': 173, 'stacked': 20, 'dotplot': 1, 'r': 896, 'mysql': 1572, 'select': 980, 'records': 175, 'datetime': 363, 'field': 778, 'less': 79, 'specified': 162, 'value': 3175, 'terminate': 33, 'windows': 1339, 'phone': 223, '81': 59, 'app': 1116, 'get': 4301, 'current': 523, 'time': 1213, 'specific': 691, 'country': 37, 'via': 590, 'jquery': 3293, 'configuring': 32, 'tomcat': 255, 'use': 2422, 'ssl': 145, 'awesome': 7, 'nested': 446, 'set': 1640, 'plugin': 270, 'add': 1611, 'new': 931, 'children': 79, 'tree': 209, 'various': 27, 'levels': 25, 'create': 1757, 'map': 496, 'json': 1557, 'response': 396, 'ruby': 1164, 'rails': 1778, '3': 641, 'rspec': 144, 'test': 540, 'method': 2123, 'called': 316, 'springboot': 27, 'catalina': 3, 'lifecycle': 9, 'exception': 944, 'import': 354, 'data': 3298, 'excel': 540, 'database': 1631, 'using': 8278, 'php': 5614, 'obtaining': 15, 'object': 2646, 'javalangclasst': 1, 'parameterized': 17, 'type': 1699, 'without': 1369, 'constructing': 8, 'class': 2558, 'q_uestion': 1, 'ipad': 82, 'selecting': 125, 'text': 1929, 'inside': 947, 'input': 1120, 'tap': 20, 'jquerys': 22, 'function': 2896, 'eclipse': 624, 'c++': 2312, 'mingw': 39, 'lauch': 1, 'program': 584, 'terminated': 19, 'javascript': 4746, 'call': 1261, 'one': 1370, 'prototype': 71, 'another': 1115, 'intersection': 17, 'list': 2137, 'sets': 57, 'longer': 40, 'able': 103, 'hide': 363, 'keyboard': 123, 'viewwilldisappear': 2, 'ios7': 26, 'fetch': 142, 'key': 776, 'swift': 934, 'change': 1441, 'pivot': 26, 'header': 460, 'template': 468, '8': 273, 'connectionstring': 14, 'encryption': 72, 'let': 26, 'ui': 289, 'refresh': 308, 'long': 235, 'running': 587, 'operation': 121, 'better': 128, 'way': 1454, 'execute': 318, 'file': 5055, 'python': 4073, 'console': 362, 'output': 535, 'run': 776, 'make': 1127, '2': 795, 'thumbnails': 25, 'codeigniter': 625, 'java': 5501, 'character': 529, 'vs': 812, 'char': 440, 'memory': 606, 'usage': 137, 'bootstrap': 435, 'modal': 227, 'close': 262, 'enter': 100, 'press': 58, 'linq': 736, 'query': 972, 'group': 281, 'retrieving': 112, 'percentage': 47, 'label': 226, 'issue': 576, 'openerp': 15, 'keep': 193, 'objects': 867, 'view': 1004, 'scaling': 13, 'zy': 1, 'axis': 101, 'attributeerror': 63, 'nonetype': 32, 'attribute': 571, 'split': 330, 'append': 188, 'mat': 23, 'scipyiosavemat': 1, 'replace': 460, 'onclick': 323, 'hcommandlink': 2, 'redirect': 390, 'programme': 7, 'accesscontrolalloworigin': 21, 'present': 69, 'requested': 59, 'resource': 256, 'error': 4388, 'creating': 794, 'c#': 4188, 'ijsonvalue': 1, 'cannot': 1314, 'implicitly': 41, 'convert': 1586, 'string': 3652, 'windowsdatajsonijsonvalue': 1, 'django': 1373, 'modelform': 28, 'captialisation': 1, 'show': 695, 'div': 733, 'slide': 56, 'avoid': 157, 'busy': 9, 'spinning': 3, 'laravel': 561, '4': 450, 'inputall': 3, 'returns': 416, 'ajax': 1248, 'post': 806, 'handle': 285, 'neterr_connection_refused': 2, 'year': 110, 'retrofit': 21, 'singleton': 94, 'gson': 53, 'convertor': 3, 'settimer': 3, 'nondialog': 1, 'cpp': 24, 'mfc': 54, 'copying': 76, 'web': 1129, 'reference': 581, 'project': 717, 'top': 192, 'five': 10, 'insert': 636, 'index': 480, 'apache': 281, 'poi': 90, 'page': 1847, 'format': 706, 'worksheet': 16, 'tkinter': 157, 'indeterminate': 3, 'progress': 137, 'bar': 380, 'store': 474, 'image': 1849, 'path': 623, 'jdbc': 164, 'connection': 604, 'associated': 32, 'managed': 43, 'multiple': 2096, 'tables': 214, 'model': 644, 'yii2': 72, 'controller': 694, 'names': 258, 'aspnet': 1506, 'mvc4': 74, 'casting': 99, 'integer': 371, 'array': 3533, 'getting': 1159, 'uploading': 164, 'clear': 148, 'methods': 409, 'printing': 187, 'floats': 28, 'number': 1052, 'zeros': 29, 'simple': 517, 'c': 1550, 'network': 158, 'library': 639, 'usr': 30, 'bin': 44, 'instead': 347, 'local': 414, 'bitmap': 69, 'binary': 323, 'operations': 67, 'default': 591, 'mail': 182, 'working': 1636, 'entity': 525, 'framework': 822, 'distinct': 62, 'extjs': 120, 'checked': 159, 'nodes': 114, 'submit': 380, 'lists': 198, 'element': 1107, 'pass': 840, 'values': 1528, 'html': 1715, 'information': 144, 'dictionary': 386, 'slidetoggle': 6, 'display': 943, 'created': 254, 'opencv': 277, 'android': 1530, 'instantiating': 15, 'namespace': 200, 'wpf': 713, 'screen': 273, 'resolution': 40, 'content': 582, 'static': 539, 'table': 1274, 'cell': 328, 'displayed': 64, 'ios': 763, '9': 52, 'best': 706, 'autocomplete': 127, 'suggest': 8, 'algorithm': 141, 'datastructure': 6, 'backbone': 69, 'modelsave': 7, 'sending': 368, 'put': 243, 'windowlocationreplace': 3, 'redirects': 24, 'given': 304, 'destroies': 1, 'session': 537, 'chrome': 424, 'mvc': 981, 'razor': 115, 'missing': 316, 'collections': 72, 'form': 1776, 'date': 1137, 'ddmmyyyy': 12, 'style': 259, 'dynamically': 691, 'linkbutton': 16, 'affecting': 9, 'others': 29, 'check': 1223, 'point': 214, 'line': 862, 'client': 520, 'request': 787, 'fails': 255, 'timeout': 156, 'simultaneously': 27, 'acquire': 10, 'update': 821, 'graph': 199, 'matplotlib': 230, 'datatable': 326, 'inner': 93, 'join': 224, 'dynamic': 618, 'columns': 376, 'correct': 205, 'realization': 1, 'adapter': 44, 'pattern': 254, 'objective': 196, 'save': 592, 'folder': 381, 'currying': 2, 'datatablesnet': 3, 'ignore': 99, 'rows': 461, 'sorting': 231, 'dom': 219, 'angular': 387, 'directive': 129, 'rectangles': 14, 'next': 204, 'parameters': 515, 'url': 1057, 'zend': 152, 'inheritance': 145, 'access': 1074, 'problem': 522, 'valueerror': 48, '20120719': 1, '082400': 1, 'match': 306, 'ymd': 2, 'hms': 4, 'passing': 635, 'trough': 3, 'sockets': 82, 'child': 375, 'deserializing': 45, 'xml': 1119, 'version': 344, 'application': 1451, 'executable': 79, 'contains': 251, 'unsupported': 49, 'architecture': 62, 'i386': 6, 'com': 81, 'urllib2urlerror': 2, 'urlopen': 8, 'errno': 32, '10061': 5, 'unique': 207, 'combination': 26, 'bind': 228, 'drop': 282, 'first': 636, 'ddl': 9, '31': 63, 'qeurying': 1, 'encrypted': 28, 'attr_encrypted': 1, 'gem': 163, 'clause': 79, 'fields': 363, 'listctrl': 3, 'hack': 12, 'listitems': 2, 'google': 974, 'maps': 312, 'api': 1083, 'generate': 381, 'city': 20, 'state': 167, 'name': 1174, 'mappedby': 4, 'unknown': 171, 'target': 137, 'property': 866, 'applet': 79, 'mac': 225, 'os': 154, '1066': 2, 'latitude': 44, 'longitude': 44, 'mouseout': 9, 'listener': 85, 'wordpress': 303, 'find': 1383, 'row': 769, 'quickly': 29, 'iphone': 452, 'xcodebuild': 2, 'command': 510, 'terminal': 47, 'sapply': 3, 'return': 983, 'matrix': 201, 'need': 407, 'transpose': 12, 'transposed': 1, 'attach': 37, 'dataframe': 262, 'parent': 419, 'programmatically': 353, 'd3': 78, 'js': 632, 'tick': 27, 'spacing': 20, 'gets': 65, 'messed': 7, 'month': 156, 'boundary': 14, 'hash': 205, 'oledbconnection': 4, 'con': 2, 'user': 1120, 'fit': 71, 'needs': 38, 'jsonproperty': 3, 'propertyname': 2, 'somename': 1, 'serializing': 41, 'automatically': 257, 'install': 393, 'toolbarbutton': 1, 'firefox': 227, 'navbar': 25, 'insertitem': 1, 'auto': 238, 'layout': 178, 'constraints': 46, 'interactive': 34, 'interface': 329, 'builder': 63, 'kill': 32, 'process': 377, 'system': 332, 'shell': 119, 'setting': 474, 'timezone': 82, 'cant': 859, 'recent': 19, 'olson': 1, 'facebook': 477, 'help': 261, 'dialog': 262, 'event': 1088, 'load': 912, 'browsers': 88, 'intellij': 118, 'constant': 173, 'expression': 475, 'required': 161, 'case': 196, 'ridviewid': 1, 'dropdown': 384, 'based': 657, 'entries': 63, 'wont': 203, 'work': 931, 'machine': 118, 'pyqt': 51, 'addeventlistener': 11, 'send': 647, 'thread': 597, 'focus': 167, 'listviewitem': 7, 'documentgetelementbyid': 21, 'tableid': 1, 'innerhtml': 46, 'ie8': 92, 'efficient': 155, 'int': 517, 'inverse': 6, 'edit': 202, 'txt': 95, 'conditionally': 27, 'filter': 340, 'iqueryable': 14, 'generic': 335, 'repository': 93, 'invalid': 418, 'indirect': 8, 'decodeindirectref': 1, 'trying': 399, 'record': 185, 'sql': 1001, 'notesnotessession': 1, 'dominonotessession': 1, 'password': 270, 'prompt': 69, 'regex': 628, 'needed': 79, 'play': 181, 'videos': 38, 'website': 336, 'reading': 508, 'stdin': 42, 'blocking': 28, 'video': 308, 'old': 58, 'rest': 317, 'comma': 131, 'separated': 67, 'collection': 350, 'spring': 1019, 'checking': 218, 'member': 274, 'struct': 210, 'gridview': 359, 'export': 156, 'tinymce': 38, 'moxie': 1, 'player': 43, 'media': 54, 'splash': 14, 'propertyplaceholderconfigurerlike': 1, 'accepts': 12, 'csv': 433, 'stringsplit': 11, 'shortened': 2, 'due': 73, 'blank': 116, 'li': 62, 'ngmodel': 17, 'start': 367, 'blackberry': 10, 'programming': 195, 'smloginitemsetenabled': 1, 'counterpart': 2, 'searching': 74, 'sdk': 197, 'quick': 28, 'directory': 504, 'directorynotfoundexception': 2, 'column': 941, 'headings': 2, 'odd': 52, 'even': 203, 'numbers': 449, 'threads': 206, 'alternatives': 34, 'projects': 70, 'similar': 80, 'joomla': 78, 'mambo': 1, 'drupal': 74, 'assign': 169, 'variable': 1542, 'properties': 330, 'accessing': 294, 'global': 272, 'onclicklistener': 11, 'argument': 304, 'uml': 9, 'preg_replace': 44, 'curly': 14, 'brackets': 51, '323': 8, 'bundler': 27, 'could': 439, 'compatible': 33, 'versions': 55, 'railties': 1, 'exe': 85, 'antcreate': 1, 'junit': 127, 'report': 129, 'task': 202, 'facebooks': 7, 'messenger': 4, 'sms': 34, 'broadcast': 19, 'receiver': 11, 'takes': 76, 'highest': 20, 'priority': 28, 'reboot': 5, 'documentgetelementsbyclassname': 2, 'length': 267, '0': 318, 'bypass': 19, 'clientside': 32, 'validation': 501, 'rvm': 67, 'installation': 78, 'ubuntu': 165, '1104': 3, 'trigger': 155, 'carousel': 36, 'socks': 3, 'proxy': 123, 'configuration': 195, 'unable': 491, 'concanate': 1, 'string+variable+string': 1, 'redirecttoaction': 9, 'iterators': 22, 'incompatible': 69, 'destruction': 9, 'dependent': 34, 'constructor': 355, 'parseerror': 4, 'bad': 158, 'symfony2': 147, 'forms': 292, 'options': 138, 'laravel5': 4, 'notfoundhttpexception': 6, 'routecollectionphp': 3, '161': 4, 'submission': 47, 'handling': 258, 'triggers': 17, 'oracle': 167, 'mongoose': 39, 'callback': 237, 'javasecurityinvalidalgorithmparameterexception': 1, 'rc6': 1, 'well': 44, 'rc2': 2, 'updating': 249, 'models': 136, '5': 326, 'canvas': 292, 'issues': 167, 'comparison': 96, 'variables': 694, 'pointing': 19, 'parse': 440, 'possible': 602, 'jump': 24, 'safely': 21, 'destroy': 54, 'window': 720, 'wxpython': 41, 'includes': 43, 'casesensitive': 3, 'systems': 15, 'managepy': 18, 'runserver': 8, 'saving': 236, 'frames': 56, 'waypoints': 2, 'directions_changed': 1, 'compilation': 80, 'found': 584, 'parsecom': 16, 'libgdx': 60, 'implementation': 190, 'iframe': 329, 'position': 319, 'adding': 675, 'calculate': 196, 'correlation': 13, 'remove': 931, 'highly': 4, 'correlated': 2, 'ones': 15, 'pandas': 379, 'optimizations': 6, 'browser': 486, 'perform': 79, 'rendered': 32, 'denied': 122, 'service': 751, 'delegate': 118, 'sbmainworkspace': 1, 'count': 369, 'datagridview': 342, 'scipy': 36, 'build': 333, 'osx': 100, 'ip': 182, 'address': 276, 'mask': 33, 'textbox': 492, 'adodc': 1, 'vbnet': 635, 'commands': 73, 'selected': 493, 'codebehind': 59, 'restrict': 53, 'jqgrid': 114, 'textarea': 151, 'height': 277, 'grid': 231, 'generatorelement': 1, 'sequencetype': 1, 'editor': 82, 'serialization': 115, 'readonlycollections': 1, 'extend': 76, 'exceptions': 159, 'guidelines': 5, 'understand': 41, 'parallelinstances': 1, 'testng': 31, 'suite': 16, 'configure': 127, 'webpage': 118, 'parameter': 648, 'owin': 17, 'host': 110, 'saved': 50, 'rake': 86, 'errors': 281, 'loading': 459, 'kind': 21, 'mutex': 29, 'calculation': 49, 'entities': 118, 'difference': 639, 'cocos2dx': 12, 'lua': 30, 'binding': 328, 'reset': 106, 'dispatchertimer': 3, 'angularjs': 653, 'verify': 53, 'box': 453, 'clicked': 164, 'structure': 238, 'pointer': 359, 'dll': 232, 'pausing': 9, '#': 37, 'milliseconds': 42, 'params': 60, 'requests': 167, 'brace': 3, 'highlighting': 41, 'visual': 611, 'studio': 570, 'email': 401, 'component': 154, 'versus': 43, 'phpmailer': 50, 'cakephp': 172, 'include': 300, 'files': 1249, 'correctly': 218, 'development': 139, 'uiimageview': 65, 'size': 585, 'n': 155, 'stdendl': 4, 'stdcout': 3, 'seperate': 15, 'gc': 21, 'log': 197, 'vm': 25, 'server': 1543, 'fix': 142, 'laravellog': 1, 'opened': 41, 'separate': 130, 'commas': 29, 'basically': 1, 'quotes': 121, 'serversocket': 10, 'port': 168, 'supposed': 13, 'matching': 132, 'reopen': 8, 'expressions': 112, 'void': 95, 'main': 237, 'grouping': 44, 'sort': 340, 'preserving': 23, 'systemconcurrencyasynclock': 1, 'qt': 249, 'mainwindow': 12, 'resize': 184, 'centralwidget': 1, 'resized': 14, 'dispatcher': 21, '00002efd': 1, 'ie': 276, 'href': 108, 'compile': 221, 'single': 469, 'gradle': 75, 'examine': 3, 'code': 1664, 'thats': 18, 'sensitive': 25, 'curl': 248, 'rectangle': 57, 'pygame': 59, 'moves': 8, 'mouse': 213, 'location': 267, 'naming': 45, 'conventions': 17, 'systemwindowsformsiwin32window': 1, 'populate': 163, 'second': 147, 'particle': 2, 'installing': 214, 'sunjava6jre': 1, 'gives': 115, 'render': 148, 'openxml': 10, 'spreadsheet': 40, 'sharedstringtable': 1, 'objectivec': 338, 'commonly': 3, 'used': 261, 'words': 152, 'nsstring': 108, 'generics': 85, 'wildcard': 34, 'define': 147, 'vector': 268, 'undefined': 693, 'switch': 173, 'eval': 59, 'generator': 86, 'services': 142, 'implement': 311, 'ease': 3, 'animation': 190, 'jpa': 193, 'backend': 42, 'changes': 196, 'asynchronously': 38, 'subdomain': 27, 'creation': 72, 'linux': 356, 'preg_match': 49, 'strings': 462, 'open': 723, 'source': 375, 'computation': 6, 'null': 797, 'float': 213, 'jframe': 107, 'basic': 211, 'shapes': 21, 'regular': 296, 'startend': 1, 'detect': 365, 'brightness': 3, 'volume': 20, 'changed': 135, 'horizontal': 64, 'slider': 82, '100': 63, 'width': 265, 'images': 484, 'serial': 97, 'print': 443, 'arduino': 47, 'checkbox': 375, 'outofmemory': 9, 'cvcreatememstorage': 1, 'instance': 443, 'deploy': 102, 'clickonce': 20, 'signing': 8, '2d': 244, 'clickable': 38, 'created_at': 8, 'shopping': 17, 'cart': 42, 'item': 484, 'added': 111, 'compiler': 150, 'oddity': 3, 'declared': 97, 'yet': 23, 'visible': 125, 'replacement': 38, 'cultureinfogetcultures': 1, 'net': 791, 'apps': 132, 'npm': 21, '+': 590, 'mocha': 17, 'watch': 26, 'accurately': 5, 'watching': 6, 'dofilterinternal': 1, 'stl': 99, 'prevents': 9, 'strict': 15, 'superset': 2, 'clock': 22, 'setsystemtime': 1, 'overloading': 52, 'optional': 77, 'tuples': 36, 'statements': 132, 'tomcat7': 6, 'shows': 88, 'inactive': 9, 'users': 213, 'manager': 62, 'backbonejs': 74, 'elements': 627, 'fired': 39, 'views': 151, 'remote': 230, 'notification': 133, 'launch': 45, 'background': 443, 'proper': 100, 'completion': 40, 'vim': 28, 'mobile': 276, 'didnt': 21, 'runtime': 289, 'weird': 54, 'moq': 45, 'nil': 101, 'combine': 94, 'plot': 226, 'read': 940, 'sensor': 2, 'nomethoderror': 24, 'nilnilclass': 19, 'jbutton': 39, 'actionlistener': 19, 'producing': 22, 'several': 71, 'javaawt': 2, 'security': 182, 'catching': 37, 'fullscreen': 30, 'seems': 39, 'parallel': 84, 'prime': 22, 'factorization': 2, 'duplicating': 6, 'script': 819, 'nohup': 1, 'cli': 44, 'tuple': 79, 'yiibootstrap': 1, 'tabs': 105, 'handler': 204, 'examples': 40, 'custom': 1093, 'soft': 11, 'panel': 132, 'windowsce': 5, '60': 19, 'exec': 68, 'status': 143, 'realtime': 36, 'lookup': 48, 'twitter': 186, 'followers': 7, 'looking': 60, 'day': 120, 'calendar': 142, 'three': 61, 'sprite': 31, 'bitmapsave': 4, 'huge': 30, 'leak': 89, 'many': 275, 'relationships': 38, 'taxonomy': 3, 'eloquent': 52, 'write': 571, 'encoding': 197, 'utf8': 184, 'storing': 195, '2dimensional': 12, 'sqlite': 229, 'hibernate': 495, 'gwt': 103, 'grab': 29, 'svg': 123, 'routing': 93, 'plain': 56, 'typescript': 78, 'standard': 130, 'javaioinputstreamreader': 1, 'hangs': 42, 'runs': 52, 'textfield': 68, 'listening': 21, 'socket': 318, 'phpfpm': 18, 'rotating': 30, 'threaded': 23, 'cpu': 55, 'systemstring': 13, 'generically': 4, 'complex': 96, 'convertchangetype': 3, 'javaxcryptobadpaddingexception': 4, 'must': 246, 'zero': 77, 'governing': 1, 'frameworkelement': 1, 'testing': 246, 'internationalization': 10, '2nd': 19, 'httpwebrequest': 42, 'obj': 25, 'facesmessage': 1, 'rendering': 118, 'cause': 57, 'di': 8, 'nginx': 74, 'treats': 2, 'flask': 148, 'receiving': 77, 'space': 244, 'byte': 310, 'boolean': 174, 'pip': 89, '25': 35, 'module': 433, 'suffix': 15, 'certain': 262, 'substring': 90, 'md5': 46, 'nsurl': 10, 'javautilset': 1, 'decimals': 26, 'ffmpeg': 35, 'compresses': 1, 'upto': 6, '32': 69, 'kbps': 1, 'unexpected': 221, 'token': 236, 'connecting': 117, 'ant': 91, 'failed': 461, 'construct': 33, 'symfony': 132, '14': 32, 'domain': 172, 'currently': 39, 'logged': 65, 'initialize': 160, '1000000x1000000': 1, 'double': 365, 'xpath': 141, '10': 153, 'codec': 25, 'decode': 83, '0xae': 1, 'uninitialized': 51, 'equivalent': 274, 'vb': 100, 'left': 144, 'stdout': 43, 'npexp': 1, 'much': 63, 'slower': 35, 'npe': 2, 'manually': 74, 'stage': 8, 'baseonload': 2, 'e': 32, 'dict': 59, 'status_code': 1, 'returning': 445, 'enumeration': 24, 'powershell': 35, 'action_search': 1, 'resolved': 69, 'compression': 15, 'loop': 940, 'nicest': 2, 'winform': 91, 'timers': 8, 'notify': 22, 'timer': 154, 'raised': 12, 'maximize': 16, 'echo': 125, 'statment': 6, 'pdf': 441, 'jvmcfre003': 1, 'major': 6, 'search': 542, 'combo': 46, 'classes': 383, 'sublime': 23, 'datagrid': 147, 'button': 1385, 'two': 1169, 'mathematically': 1, 'paste': 37, 'addressbar': 1, 'ie10': 8, 'syntax': 326, 'end': 236, 'exampphtdocsannouncementsannouncementphp': 1, '143': 1, 'public': 131, 'step': 65, 'histograms': 9, 'ggplot2': 127, 'usernamepasswordauthenticationfilter': 1, 'admin': 202, 'menu': 307, 'whats': 309, 'right': 217, 'connect': 403, 'microsoft': 85, '2007': 20, 'boot': 109, 'respond': 30, 'instanceof': 9, 'allow': 186, 'empty': 519, 'docstring': 3, 'body': 152, 'statement': 463, 'foo': 28, 'canonical': 6, 'transmit': 6, 'protocol': 106, 'buffers': 11, 'uiwebview': 67, 'identify': 45, 'last': 334, 'webviewdidfinishload': 2, 'message': 434, 'rcp': 10, 'job': 71, 'finished': 42, 'patch': 9, 'extension': 309, 'tostring': 35, 'upload': 515, 'back': 329, 'contents': 200, 'nice': 11, 'kendo': 64, 'widget': 115, '2003': 15, 'relationship': 116, 'icon': 130, 'sizes': 22, 'expected': 269, 'jbuilder': 2, 'got': 54, 'true': 171, 'range': 260, 'control': 649, 'linker': 45, 'compiling': 112, 'simulator': 41, 'symbols': 56, '_objc_assign_global': 1, '_objc_assign_ivar': 1, '_objc_assign_strongcast': 1, 'meta': 28, 'httpequivrefresh': 1, 'content0': 1, 'urlhttp': 1, 'wwwxxxxxxlcom': 1, 'indexphp': 19, 'refreshing': 62, 'hierachy': 2, 'prepared': 73, 'constraint': 59, 'within': 624, 'sqlalchemy': 110, 'action_up': 1, 'detected': 39, 'process_reaper': 1, 'recursive': 103, 'handlers': 32, 'overriding': 104, 'eventfiring': 1, 'onload': 38, 'faster': 99, 'determine': 228, 'temp': 10, 'please': 53, 'specify': 103, 'cache_dir': 2, 'disabling': 52, 'click': 837, 'prevent': 258, 'submissions': 3, 'enabling': 32, 'duplicate': 205, 'fixed': 102, 'colspans': 1, 'recommended': 24, 'high': 50, 'traffic': 15, 'fbgetloginstatus': 3, 'dojo': 46, 'switching': 41, 'editable': 42, 'logout': 34, 'authentication': 243, 'groupstyle': 1, 'groups': 54, '1': 498, 'buffer': 94, 'growth': 4, 'strategy': 30, 'login': 454, 'react': 127, 'es6': 34, 'transitionto': 1, 'lines': 214, 'imshow': 13, 'zoom': 79, 'onsubmit': 10, 'ternary': 19, 'operator': 245, 'javalangnoclassdeffounderror': 46, 'org': 17, 'axis2': 16, 'axisfault': 1, 'axis2kernel154jar': 1, 'datagridviewcheckboxcell': 2, 'speech': 12, 'recognition': 19, 'richcombo': 1, 'ckeditor': 74, 'disadvantages': 16, 'making': 208, 'serializable': 34, 'emptiness': 1, 'jumplist': 1, 'catch': 205, 'divide': 32, '2012': 87, 'derived': 66, 'arraylist': 287, 'non': 81, 'calling': 520, 'scope': 207, 'vs2008': 14, 'device': 164, 'mains': 1, 'argv': 11, 'frame': 253, 'rstudio': 26, 'libuuidso1': 1, 'shared': 132, 'transaction': 104, 'aborted': 32, 'persist': 35, '0x': 2, 'mean': 204, 'decimal': 224, 'see': 127, 'characters': 529, 'nscharacterset': 1, 'mathrandom': 6, 'random': 354, 'ints': 33, 'sessions': 71, 'enum': 250, 'nslog': 7, 'messages': 125, 'leaks': 26, 'netuihwnd': 1, 'directuihwnd': 1, 'exact': 50, 'regexp': 35, 'pagination': 98, 'filtering': 93, 'migrating': 21, 'article': 6, 'contect': 1, '25x': 1, '3x': 16, 'initializing': 69, 'nsarray': 59, 'keys': 240, 'mcrypt_module_open': 1, 'causes': 121, '500': 100, 'tolist': 6, 'take': 122, 'generates': 20, 'sinatra': 34, 'computer': 60, 'durability': 1, 'quartz': 20, 'returned': 125, '255': 7, '0xff': 3, 'blocks': 70, 'yii': 163, 'framwork': 1, 'resizing': 63, 'workspace': 12, 'rename': 53, 'mappingjacksonjsonview': 1, 'marshall': 5, 'jaxws': 38, 'jaxb': 105, 'diplay': 4, 'tag': 426, 'link': 481, '3d': 94, 'initialization': 115, 'conversion': 242, 'systemexecutionengineexception': 1, 'thrown': 58, 'shift_jis': 1, 'violation': 53, '1103': 1, 'incorrect': 97, '_post': 61, 'font': 132, 'gradually': 3, 'uilabel': 59, 'concatenate': 61, 'inputs': 64, 'radio': 223, 'hidden': 128, 'win32': 84, 'redrawing': 4, 'htmltextbox': 2, 'deserializes': 2, 'side': 195, 'bit': 90, 'rate': 22, 'avplayer': 16, 'http': 530, 'live': 62, 'audio': 95, 'streaming': 44, 'superuser': 4, 'showing': 292, 'webdevelopers': 1, 'merging': 47, 'datasets': 9, 'common': 66, 'integration': 93, 'crenditials': 1, 'container': 128, 'centering': 9, 'fitting': 6, 'angular2': 34, 'debugelement': 1, 'nativeelement': 1, 'componentfixture': 1, 'driver': 133, 'type_forward_only': 1, 'yaxis': 21, 'intersect': 6, 'xaxis': 36, 'playframework': 5, 'deadlock': 24, 'reissue': 1, 'postgresql': 104, 'merge': 136, 'stringargument': 1, 'factory': 63, 'deserialize': 89, 'compare': 277, 'html5': 266, 'drag': 120, 'events': 268, 'dragleave': 2, 'fires': 23, 'validate': 251, 'download': 331, 'title': 136, 'recording': 13, 'stream': 227, 'insight': 2, 'enable': 166, 'area': 85, 'controls': 182, 'adjusting': 9, 'contrast': 2, 'automatic': 69, 'selectall': 2, 'textboxes': 48, 'numericupdown': 3, 'gotfocus': 2, 'javafx': 157, '22': 23, 'referencing': 36, 'mscorlib': 2, '2010': 159, 'jsonnet': 66, 'serialize': 128, 'works': 257, 'fine': 63, 'parsing': 368, 'sequence': 103, 'gaps': 7, 'posting': 64, 'unchecked': 26, 'checkboxes': 123, 'programatically': 95, 'uiimage': 63, 'uiview': 116, 'winforms': 185, 'tailer': 1, 'logrotate': 1, 'free': 88, 'vectorint': 3, 'arr': 2, '2013': 57, 'caching': 97, 'older': 29, 'threejs': 59, 'mesh': 7, 'meshlambertmaterial': 1, 'light': 25, 'loads': 41, 'extern': 15, 'uncheck': 21, 'swing': 162, 'popup': 253, 'losing': 33, 'repainting': 1, 'timenow': 3, 'localstorage': 48, 'nodejs': 329, 'tell': 85, 'rs': 6, 'marks': 17, 'still': 111, 'vertical': 63, 'redirection': 34, 'extract': 266, 'queryselectorall': 4, 'minus': 18, 'sign': 63, 'site': 196, 'jar': 268, 'jsp': 363, 'mysql2': 11, '187': 7, '106': 8, 'applied': 36, 'operands': 14, 'xcode': 325, '7': 354, 'randomly': 51, 'apostrophe': 16, 'changing': 400, 'css': 516, 'separately': 13, 'dont': 154, 'go': 101, 'beyond': 14, 'gmail': 77, 'contacts': 12, 'oauth': 73, 'windowonload': 11, 'ie7': 33, 'minimum': 34, 'maximum': 138, 'mousebuttondown': 1, 'owner': 6, 'hex': 138, 'hibernatedaosupport': 2, 'native': 158, 'fixing': 9, 'private': 145, 'accessor': 10, 'microsoftvisualstudiotesttoolstypesandsymbolsassembly': 1, 'trouble': 104, 'patterns': 52, 'wicket': 36, 'springbean': 2, 'bean': 175, 'inmemory': 8, 'info': 68, 'javalangoutofmemoryerror': 20, 'heap': 92, 'base64decoder': 1, 'complete': 96, 'updated': 62, 'tab': 235, 'chat': 63, 'bring': 18, 'onelinexmlfiles': 1, 'human': 17, 'readable': 31, 'multi': 95, 'declare': 123, 'scripts': 94, 'javalangclasscastexception': 16, 'orghibernatetypestringtype': 1, 'cast': 255, 'orghibernatetypeversiontype': 1, 'combobox': 224, 'copy': 309, 'allocated': 42, 'moving': 100, 'scroll': 325, 'writing': 267, 'masked': 11, 'disk': 39, 'png': 81, 'core': 184, 'applicatin': 1, 'listexpandoobject': 1, 'interest': 10, 'tvm': 1, 'postback': 74, 'doesnt': 768, 'encrypt': 59, 'iterate': 154, 'lambda': 183, 'equation': 18, 'mapview': 2, 'cl': 2, 'batch': 113, 'cpture': 1, 'calls': 139, 'x': 421, 'seconds': 110, 'fileuploadhasfile': 2, 'give': 81, 'always': 232, 'false': 168, 'cdbcriteria': 4, 'mssql_connect': 5, 'wcf': 277, 'const': 197, 'lpcwstr': 5, 'defined': 287, 'ok': 50, 'unicodeencodeerror': 15, 'oslistdir': 1, 'grant': 8, 'malformed': 14, 'azure': 64, 'ad': 32, 'pin': 15, 'smtp': 88, 'pojos': 5, 'soapaction': 3, 'definition': 114, 'cmd': 30, 'jars': 26, 'skrollr': 1, 'relative': 115, 'mode': 168, 'properly': 275, 'safari': 96, 'extbuttonsplit': 1, 'arrow': 39, 'captcha': 8, 'webbrowser': 105, 'picturebox': 26, 'viewport': 13, 'thisstate': 2, 'getblobreferencefromserver': 1, 'uris': 1, 'absolute': 66, 'addresses': 30, 'permitted': 10, 'typegettype': 3, 'limited': 24, 'actionviewmissingtemplate': 1, 'nunit': 43, 'exceptionconverter': 2, 'javaioioexception': 16, 'gui': 172, 'good': 203, '#anchor': 1, 'locationhash': 4, 'linking': 69, 'rabbitmqc': 1, 'support': 211, 'adonet': 37, 'swf': 20, 'sandbox': 10, '#2060': 1, 'svgsvgelement': 1, 'this_getparam': 1, 'subtract': 34, 'keeps': 26, 'pointers': 146, 'arrays': 385, 'groupby': 35, 'partial': 126, 'gray': 10, 'overlay': 52, 'uibutton': 77, 'knowing': 26, 'sub': 56, 'vectors': 53, 'rebound': 1, 'err_connection_refused': 4, 'uncaught': 224, 'typeerror': 311, 'iis': 93, 'broswer': 1, 'homeaspx': 1, 'types': 267, 'nulltype': 1, 'probability': 10, 'small': 65, 'v': 28, 'big': 76, 'color': 448, 'clearinterval': 3, 'associative': 40, 'onactionexecuting': 2, 'action': 353, 'route': 145, 'attributes': 221, 'keeping': 61, 'infinitely': 2, 'assembly': 165, 'xaml': 131, 'powerpoint': 17, 'designer': 27, 'vsto': 13, 'bound': 73, 'sqldatasource': 7, 'concat': 16, 'result': 334, 'executing': 159, 'windowprint': 12, 'logger': 37, 'clicking': 150, 'hyperlink': 52, 'boostchronotime_point': 1, 'boostchronosteady_clocktime_point': 1, 'dates': 199, 'comment': 48, 'root': 148, 'whole': 92, 'iofileio': 1, 'webbrowserdocumenttype': 1, 'debugging': 128, 'taskscheduler': 3, 'scheduled': 19, 'risks': 3, 'technical': 1, 'special': 161, 'replaced': 5, 'xls': 18, 'msexcel': 3, 'webview': 102, 'apply': 140, 'realm': 33, 'latest': 39, 'inserted': 50, 'pca': 3, 'categorical': 12, 'features': 24, 'uitableviewcontroller': 12, 'nsdictionary': 51, 'getuser': 5, 'registration': 37, 'zip': 95, 'giving': 102, 'multipleform': 1, 'mix': 14, 'break': 93, 'activity': 97, 'listactivity': 1, 'modules': 94, 'requirejs': 35, 'physical': 16, 'overrides': 15, 'wallpaper': 3, '40': 79, 'getasync': 1, 'httpclient': 58, 'alternative': 126, 'webapi': 80, 'track': 44, 'pages': 200, 'speed': 95, 'mkmap': 2, 'automapper': 36, 'mapping': 167, 'dbnull': 7, 'valid10': 1, 'invisible': 15, 'ie9': 54, 'bug': 61, 'joda': 28, 'localdate': 2, 'param': 27, 'semantic': 7, 'interpretation': 3, 'srgs': 1, 'grammar': 10, 'immediately': 34, 'expunging': 1, 'mailbox': 5, 'pythonic': 28, 'bool': 84, 'elasticsearch': 27, 'times': 181, 'logging': 128, 'magento': 256, 'unit': 208, 'jackson': 107, 'deserialization': 43, 'linked': 150, 'nsuserdefaults': 27, 'starting': 107, 'foreach': 234, 'override': 188, 'iterating': 80, 'ifelse': 25, 'thousand': 15, 'separator': 38, 'highcharts': 109, 'sparse': 16, 'interopword': 1, 'preview': 41, 'office': 20, 'storyboard': 64, 'nonzero': 11, 'disappear': 25, 'develop': 19, 'groovy': 40, 'duplicates': 73, 'else': 112, 'uiactivityindicatorview': 1, 'online': 47, 'stored': 265, 'procedure': 145, 'firebird': 8, 'pdo': 180, 'localhost': 103, 'curl_exec': 3, 'pictures': 16, 'gif': 19, 'jpeg': 40, 'idatareader': 1, 'datareader': 6, 'locale': 50, 'skip': 56, 'orderby': 28, 'spark': 53, 'direct': 46, 'cygwin': 28, 'performance': 227, 'tuning': 4, 'jsf': 120, 'ids': 62, 'swapping': 9, 'linkedlist': 26, 'settimeout': 59, 'fn': 6, 'setimmediate': 1, 'universal': 32, 'serverside': 34, 'accurate': 13, 'ray': 4, 'collision': 36, 'detection': 57, 'word': 314, 'doc': 50, 'plist': 28, 'devise': 124, 'jfreechart': 29, 'chartpanel': 1, 'jpanel': 76, 'generated': 166, 'netbeans': 167, 'level': 116, 'privileges': 4, 'nonrooted': 1, 'letter': 93, 'ospath': 2, 'locationservicesenabled': 1, 'yes': 38, 'lazy': 60, 'zerocost': 1, 'music': 16, 'ipod': 5, 'touch': 106, 'pc': 35, 'airtunes': 1, 'styles': 34, 'attached': 23, 'hover': 104, 'pseudo': 6, 'firebug': 26, 'debugger': 67, 'applicationproperties': 7, 'production': 70, 'dealing': 35, 'underlying': 30, 'provider': 85, 'equalitycomparertdefault': 1, 'internally': 14, 'src': 89, 'phpini': 28, 'mockito': 60, 'injecting': 22, 'mock': 93, 'textblock': 22, 'margin': 22, 'linqtoentities': 7, 'gac': 4, 'creator': 29, 'lnk1104': 3, 'opencv_core249dlib': 1, 'raphael': 23, 'alphabetic': 7, 'accent': 5, 'chart': 222, 'every': 256, 'iterations': 9, 'finisarsqlitesqliteexception': 1, 'logic': 48, 'unrecognized': 56, 'plotting': 57, 'monthly': 9, 'ggplot': 81, 'external': 321, 'remaining': 14, 'days': 102, 'till': 19, 'node': 304, 'charts': 55, 'graphs': 24, 'something': 124, 'declares': 9, 'wrap': 52, 'relation': 43, 'auth_user': 1, 'exist': 236, 'different': 785, 'particular': 145, 'credential': 2, 'account': 69, 'alphabetical': 17, 'order': 387, '30': 73, 'rdlc': 20, 'documents': 49, 'mongodbexport': 1, 'stop': 247, 'wrong': 252, 'uint32': 5, 'unsigned': 74, 'textview': 38, 'im': 65, 'invoke': 96, 'ionic': 64, 'span': 59, 'stdsignal': 1, 'stdraise': 1, 'threadsafe': 41, 'started': 57, 'stack': 154, 'sum': 194, 'add_action': 4, 'getjsonarray': 1, 'happens': 49, 'waiting': 80, 'd3js': 63, 'sibling': 10, 'customisations': 1, 'tabularinline': 1, 'self': 89, 'triggered': 39, 'aurelia': 8, 'datatables': 73, 'requests_ntlm': 1, 'dependency': 139, 'injection': 106, 'inject': 54, 'ejbs': 3, 'wal': 1, 'transactions': 42, 'opengl': 132, 'alpha': 23, 'blending': 2, 'redeclaring': 3, 'migrate': 17, 'existing': 234, 'cms': 29, 'like': 466, 'neither': 12, 'queries': 126, 'smooth': 34, 'uitextview': 46, 'bottom': 72, 'mongodb': 187, 'passportjs': 5, 'localstrategy': 1, 'username': 97, 'selection': 177, 'tests': 132, 'idea': 82, '13': 35, 'recursively': 50, 'modify': 115, 'initcomponents': 1, 'want': 155, 'pdfs': 12, 'dompdf': 2, 'phpunit': 71, 'coverage': 17, 'zend_mm_heap': 2, 'corrupted': 19, 'segmentation': 56, 'fault': 64, '11': 62, 'hashmap': 127, 'jstl': 51, 'entry': 89, 'mysql_query': 15, 'mysql_fetch_array': 16, 'cluster': 24, 'numpy': 267, 'ninject': 13, 'identity': 49, 'usermanager': 3, 'transferring': 4, 'defer': 7, 'reader': 35, 'installed': 131, 'easiest': 54, 'consumer': 17, 'webservice': 156, 'traversal': 16, 'iterative': 6, 'templates': 102, 'polymorphism': 33, 'immediate': 11, 'mvc3': 72, 'validationattribute': 2, 'validationcontextmembername': 1, 'awaiting': 4, 'async': 176, 'handled': 26, 'winsound': 2, 'fatal': 176, 'nonobject': 47, 'jtextfield': 38, 'preformated': 1, 'assertion': 24, 'sizewidth0': 1, 'sizeheight0': 1, 'share': 87, 'id': 598, 'rails3': 23, 'jdk': 59, 'onitemselectedlistener': 1, 'fragment': 67, 'activemq': 14, 'stops': 25, 'queue': 118, 'acknowledging': 1, 'bake': 1, 'mysqlsock': 7, 'recognize': 37, 'mamp': 14, 'circular': 41, 'references': 76, 'warnings': 30, 'caused': 31, 'forward': 57, 'declarations': 15, 'digits': 100, 'places': 66, 'infinite': 68, 'getter': 27, 'setter': 40, 'uitableview': 202, 'past': 15, 'relational': 11, 'procedures': 19, 'unloading': 4, 'usual': 3, 'practice': 136, 'minify': 3, 'libraries': 133, 'initialise': 8, 'servlet': 267, 'microsoftsqlserverdtsruntimevariable': 1, '__getitem__': 10, 'definite': 2, 'selenium': 357, 'solution': 87, 'pop': 64, 'dialogs': 17, 'internet': 136, 'explorer': 103, 'cache': 140, 'translate3d': 2, 'androidwidgetlinearlayout': 2, 'androidwidgettextview': 2, 'arrayadapter': 6, 'pushing': 17, 'appengine': 26, 'bot': 15, 'crawler': 20, 'abstract': 129, 'freeze': 18, 'feature': 48, 'shouldnt': 11, 'functions': 396, 'scikit': 7, 'learn': 51, 'dummy': 9, 'grouped': 29, 'carray': 6, 'unicode': 189, 'equivalents': 5, 'openid': 9, 'getexternallogininfo': 1, 'pure': 46, 'virtual': 121, 'inline': 117, 'bundle': 92, 'strange': 118, 'phpmailersetfrom': 1, 'supporting': 13, 'gm': 3, 'ios9': 4, 'crashes': 74, 'accordion': 32, 'activate': 11, 'links': 129, 'delete': 472, 'affect': 11, '64': 51, 'upgrade': 45, '3211': 2, 'reload': 120, 'backing': 19, '20': 168, 'jsf20': 1, 'xsds': 1, 'attr': 17, 'triggering': 29, 'mouseover': 45, 'instruction': 9, 'reduce': 53, 'lag': 9, 'painting': 7, 'filename': 76, 'typeid': 2, 'type_info': 1, 'metatemplates': 1, 'knowledge': 3, 'programmers': 3, 'occurrence': 41, 'optimizing': 21, 'garbage': 64, 'uialertview': 28, 'buttons': 229, 'subviews': 20, 'suggestions': 15, 'aspectoriented': 1, 'scale': 58, 'real': 97, 'datepicker': 131, 'numbered': 4, 'slicing': 15, 'scrolling': 144, 'zooming': 20, 'timeouts': 10, 'fixedpoint': 1, 'arithmetic': 26, 'reflection': 142, 'modified': 45, 'feed': 56, 'itemssource': 13, 'questionhow': 2, 'done': 55, 'paged': 3, 'unions': 1, 'ways': 54, 'happen': 17, 'servlets': 32, 'contextsavechanges': 1, 'nodename': 3, 'sometimes': 36, 'allcaps': 1, 'parsejson': 1, 'transactional': 13, 'multithreading': 64, 'would': 128, 'threading': 58, 'beneficial': 2, 'mutually': 5, 'independent': 25, 'tasks': 71, 'get_template_part': 1, 'part': 185, 'advantages': 30, 'uniformly': 3, 'distributed': 8, 'disable': 438, 'math': 50, '35': 51, 'realms': 2, 'subprocesscall': 6, 'crontab': 10, 'aws': 52, 'performing': 32, 'databinding': 39, 'drawing': 120, 'room': 8, 'inittab': 1, 'alphanumeric': 35, 'dot': 52, 'nsdate': 38, 'utf8_encode': 1, 'chars': 48, 'prepended': 3, 'u': 9, 'opening': 116, 'kcfinder': 2, 'browsephp': 1, 'downloading': 84, 'rather': 50, 'displaying': 251, 'base': 214, 'encoded': 63, 'actually': 58, 'pk': 6, 'rjava': 4, 'clean': 46, 'hql': 32, 'stdmap': 22, 'integrating': 25, 'extensions': 51, 'temporary': 26, 'tempnam': 1, 'getmodulefilenameex': 1, 'psapidll': 1, 'distinguish': 10, '28': 3, '200': 26, 'cet': 2, 'cest': 2, 'ienumerablet': 22, 'cancels': 2, 'optimized': 13, 'min': 53, 'consolelog': 22, 'sync': 26, 'scraping': 56, 'umbraco': 16, 'nonexistent': 7, 'desktop': 74, 'frameworks': 38, 'fade': 45, 'importing': 113, 'libarary': 2, 'pips': 1, 'mysqlpython': 5, 'aptgets': 1, 'pythonmysqldb': 1, 'ajaxfileupload': 2, 'spec': 19, 'war': 60, 'uses': 65, 'gruntwebpack': 1, 'interfacing': 3, 'erlang': 6, 'controllers': 86, 'mkannotationview': 2, 'userlocation': 1, 'documentbodyonload': 1, 'addin': 12, 'w': 73, 'jscrollpane': 19, 'stdthread': 7, 'sleep': 23, 'finding': 231, 'converting': 424, 'dropleave': 1, 'dragndrop': 4, 'according': 52, 'culture': 13, 'suppressing': 5, 'warning': 254, 'retrieve': 300, 'photos': 26, 'fan': 10, 'reactjs': 40, 'immutable': 28, 'carrierwave': 30, 'image_url': 2, 'debounce': 4, 'ngmodelchange': 1, 'middle': 34, 'surrounded': 5, 'stay': 21, 'env': 13, 'cc++': 3, 'natvis': 1, 'indexlistitems': 1, 'diacritics': 1, '32bit': 27, 'exes': 2, '64bit': 53, 'arent': 23, 'phonegap': 118, 'uicollectionview': 49, 'unwanted': 15, '5x5': 1, '0s': 8, 'lined': 2, 'diagonally': 5, 'becomes': 10, 'really': 55, 'slow': 168, 'lot': 10, '404': 155, 'usercontrol': 69, 'masterpage': 16, 'unused': 23, 'json_decode': 16, 'nothing': 64, 'produce': 30, 'plots': 41, 'chunk': 14, 'knitr': 15, 'webdriver': 174, 'pipe': 37, 'cookie': 174, 'life': 7, 'declaration': 144, 'guarantees': 1, 'malloc': 52, 'alignment': 28, 'symbol': 149, 'occurrences': 52, 'nonabstract': 3, 'computed': 14, 'jre': 31, 'supported': 74, 'unless': 16, 'updatecommand': 2, 'validates_acceptance_of': 1, 'acting': 10, 'crazy': 6, 'gsub': 8, 'dd': 45, '1234': 2, 'mysqldb': 22, 'yyyymmdd': 22, 'actual': 62, 'td': 63, 'appending': 49, 'tutorials': 31, 'learning': 49, 'resources': 130, 'faker': 2, 'valid': 200, 'opencl': 13, 'builds': 19, 'failing': 85, 'arguments': 328, 'call_user_func': 6, 'emberjs': 39, 'emberdata': 4, 'wp_logout_url': 1, 'declaring': 44, 'interpreter': 20, 'hard': 24, 'drive': 62, 'makes': 47, 'turn': 76, 'pitch': 5, 'black': 44, 'responsive': 23, 'onmouseover': 19, 'manipulator': 2, 'dump': 25, 'psv': 2, 'prepare': 21, 'documentcreatedocumentfragment': 1, 'documentcreateelement': 7, 'struts2': 59, 'indexjsp': 2, 'mocking': 35, 'nhibernate': 100, 'isession': 2, 'heapys': 1, 'profile': 71, 'twistedweb': 2, 'removing': 202, 'four': 18, 'increase': 68, 'tableview': 86, 'together': 67, 'waste': 2, 'tabitem': 6, 'logs': 21, 'worked': 5, 'wamp': 43, 'sportsstore': 1, 'unfocus': 4, 'docx': 13, 'social': 16, 'stateparams': 1, 'ngrepeat': 72, 'splice': 7, 'scopeapply': 2, 'might': 23, 'httpopenrequest': 1, 'fail': 64, '122': 1, 'results': 290, 'closest': 28, 'series': 89, 'broken': 42, 'bubble': 22, 'bubblenodes': 1, 'manipulate': 27, 'cross': 84, 'windowopen': 31, 'wheel': 10, 'openlayers': 17, 'overflowauto': 1, 'endpoints': 7, 'conflicting': 16, 'previous': 137, 'remotely': 16, 'slice': 31, 'mysqli': 98, 'datakey': 3, 'radgrid': 6, 'settranslatesautoresizingmaskintoconstraintsno': 1, 'deleted': 21, 'objectstatemanager': 1, 'document': 291, 'displays': 30, 'greyed': 4, 'ends': 25, 'repeating': 33, 'try': 157, 'detached': 10, 'joinable': 1, 'posix': 14, 'javamail': 22, 'starttls': 4, 'phps': 40, 'preg_replace_callback': 2, 'plugins': 31, 'mkpointannotation': 1, 'news': 12, 'ticker': 3, 'jsapi': 3, 'routeattribute': 1, 'asks': 6, 'sudo': 6, 'cloud': 39, 'datastore': 16, 'appium': 10, 'desired': 16, 'capability': 4, 'launching': 22, 'navigate': 30, 'identifier': 90, 'consume': 24, 'ensures': 1, 'per': 117, 'jvm': 73, 'exceeding': 3, 'max_user_connections': 3, 'upon': 68, 'reloading': 45, 'phantomjs': 25, '197': 1, 'wall': 22, 'chaine2': 1, 'reservation': 5, 'available': 167, 'tbody': 8, 'region': 35, 'marionette': 9, 'indexday': 1, 'resolving': 15, 'suncertpathbuilderexception': 1, 'certification': 5, 'unittest': 22, 'assemblyinitialize': 1, 'items': 368, 'accuracy': 15, 'msi': 6, 'installer': 26, '7x': 2, 'editing': 62, 'storyboards': 13, 'looping': 71, 'makefile': 51, 'submitting': 67, 'ipython': 29, 'afxbeginthread': 1, 'createthread': 3, 'panels': 21, 'dollar': 16, 'amount': 68, 'confusion': 45, 'redirect_uri': 7, 'dropbox': 17, 'blogger': 1, 'threw': 14, 'javax': 7, 'servletcontext': 8, 'shortcut': 26, 'gd': 23, 'keypress': 27, 'deallocation': 3, 'stdstring': 56, 'comparing': 136, 'arraylists': 15, 'rotate': 77, 'repeated': 30, 'extended': 29, 'protobuf': 17, 'containing': 118, 'thousend': 1, 'shown': 28, 'toolkit': 17, 'polluted': 1, 'precision': 49, 'training': 17, '16bit': 10, 'microcontrollers': 1, 'jtable': 122, 'border': 98, 'appear': 79, 'realworld': 2, 'urls': 103, 'wait': 169, 'typing': 19, 'power': 24, 'getdata': 5, 'mandatory': 9, 'cloneable': 2, 'genfromtxt': 3, 'onclientclick': 6, 'preventing': 35, 'safe': 115, 'maven': 268, 'heroku': 155, 'push': 142, 'git': 50, 'related': 67, 'division': 18, 'signalr': 50, 'hub': 10, 'strformat': 2, 'negative': 84, 'active': 195, 'navigation': 148, 'contextual': 4, 'dispose': 16, 'streamreader': 6, 'streamwriter': 6, 'backgroundimage': 10, 'depending': 84, 'extcomponent': 1, 'timestamp': 114, 'midnight': 8, 'photo': 50, 'puzzle': 8, 'palindromic': 1, 'nullpointerexception': 67, 'managing': 15, 'spring+jsf': 2, 'primefaces': 76, 'advantage': 15, 'pageviewcontroller': 1, 'conform': 9, 'uipageviewcontrollerdatasource': 1, 'radially': 1, 'sweep': 3, '1d': 17, 'figure': 45, 'represent': 23, 'wavefunction': 1, 'repeater': 60, 'jpa2': 6, 'persisting': 20, 'onetoone': 13, 'bidirectional': 13, 'shadow': 23, 'lock': 98, 'taking': 52, 'nullptr': 3, 'codeblocks': 26, 'ide': 72, 'headers': 135, 'lowercase': 33, 'signal': 49, 'unlock': 9, 'alt+f4': 4, 'gems': 37, 'jsoup': 47, 'emacs': 32, 'thu': 2, 'oct': 1, '15': 35, '051921': 1, 'xxx': 21, '2015': 33, '45': 38, 'registry': 49, 'dataintegrityviolationexception': 1, 'notnull': 6, 'transient': 14, 'compress': 23, 'killed': 9, 'sharepoint': 104, 'cancel': 55, '302': 17, 'downloads': 16, 'primary': 87, 'requestpost': 2, 'cdbcommand': 1, 'gettext': 3, 'ion': 3, 'pushes': 3, 'multimodule': 5, 'setup': 120, 'swt': 52, 'release': 60, 'draggable': 25, 'restcontroller': 6, 'itext': 59, 'cssresolver': 1, 'cssfile': 1, 'bounce': 6, 'builtin': 34, 'numpyarange': 1, 'preparedstatementexecuteupdate': 1, 'pool': 47, 'exhaution': 1, 'throwing': 80, 'sqlexception': 12, 'ienumerable': 51, 'db': 235, 'objectcontext': 3, 'mvvm': 92, 'linqtosql': 22, 'silverlight': 81, 'modifying': 43, 'datasource': 83, 'df': 4, 'apis': 28, 'front': 50, 'picture': 57, 'trim': 23, 'spaces': 142, 'reverses': 2, 'members': 66, 'colon': 19, 'simplexml': 39, 'coffeescript': 37, 'youre': 5, 'developing': 35, '53': 29, 'eg': 45, 'customer': 23, 'constants': 47, 'annotations': 71, 'schedule': 23, 'everyday': 3, 'ms': 116, 'uirouter': 16, 'states': 17, 'workbook': 25, 'compares': 2, 'ignores': 14, '20100910': 1, 'validating': 63, 'searched': 3, 'thoroughly': 1, 'pinputmask': 1, 'mask99': 1, '99': 3, '9999': 4, 'scriptbut': 1, 'postfix': 6, 'increment': 95, 'paths': 64, 'xy': 12, 'order_by': 4, 'methodinvoke': 2, 'args': 13, 'capture': 114, 'htmlactionlink': 5, 'inet_ntoa': 2, 'imagebrush': 2, 'arranging': 2, 'toolbar': 36, 'incoming': 18, 'aspx': 66, 'behind': 143, 'whether': 122, 'macros': 24, 'createfile': 7, 'across': 96, 'stmtexecute': 1, 'know': 159, 'successful': 35, 'bytes': 143, 'refactoring': 14, 'chunked': 4, 'memorystream': 16, 'capitalize': 10, 'efficiently': 61, 'bigo': 6, 'clarification': 6, 'freezes': 18, 'oraclejdbcpooloracleociconnectionpoolgetconnection': 1, 'couple': 8, 'minutes': 72, 'treat': 6, 'wchar_t': 6, 'interop': 44, 'underscorejs': 21, 'isnt': 88, 'escaping': 35, 'safest': 4, 'fraction': 4, 'python26': 3, '1204': 11, 'guava': 29, 'multimaps': 1, 'block': 232, 'htmlagilitypack': 26, 'extracting': 87, 'promise': 39, 'windowprompt': 2, 'xpathdocument': 1, 'sorted': 63, 'indexed': 15, 'executefetchrequest': 1, 'refindall': 4, 'named': 168, 'capturing': 28, 'supports': 24, 'platforms': 11, 'x86_64linux': 1, 'colorbar': 4, 'scatterplot': 8, 'unfortunately': 10, 'stopped': 35, 'emulator': 32, 'xmlseealso': 1, 'dyncamiclly': 1, 'transparent': 65, 'finally': 19, 'presentationframework': 1, 'websphere': 34, 'heapq': 1, 'evaluate': 26, 'waitforexit': 2, 'haml': 31, 'image_tag': 4, 'link_to': 27, 'helper': 62, 'begininvoke': 2, 'buttonperformclick': 1, '__dopostback': 8, 'jsonserializersettings': 2, 'equality': 17, 'equivalence': 2, 'design': 157, 'viewmodel': 61, 'setediting': 4, 'accessoryview': 3, 'getbean': 2, 'opposed': 9, 'activerecord': 99, 'clients': 52, 'fork': 38, 'refer': 26, 'option': 229, 'mergeddictionaries': 1, 'var1': 3, 'var2': 3, 'datatableload': 1, 'fbdatareader': 1, 'everything': 50, 'cucumber': 40, 'steps': 17, 'scenario': 16, 'openssl': 44, 'mousebuttondblclick': 1, 'querys': 3, 'menuitemicon': 1, 'datatrigger': 3, 'mongo': 34, 'couch': 2, 'building': 113, 'coder': 4, 'footer': 43, 'uilabeltextcolor': 1, 'junk': 5, 'underneath': 6, 'udp': 76, 'beautifulsoup': 85, 'findall': 11, 'generating': 123, 'po': 3, 'mo': 1, 'managementobject': 2, 'wmi': 19, 'shift': 29, 'ctrl': 9, 'alt': 8, 'contextcomponentscan': 2, 'mvcannotationdriven': 3, 'paper': 13, 'acroform': 1, 'posted': 24, 'package': 248, 'couldnt': 42, 'expand': 35, 'remoteviews': 1, 'synchronization': 27, 'jekyll': 6, 'serve': 26, 'implicit': 47, 'php70fpm': 1, 'ppaondrej': 2, 'speicific': 1, 'checkmark': 6, 'uitbaleview': 1, 'pause': 51, 'equal': 94, 'arbitrary': 39, 'matches': 76, 'appconfigready': 1, 'eager': 20, 'lib': 60, 'following': 89, 'road': 4, 'uint': 4, 'communicate': 25, 's3': 97, 'folders': 55, 'bucket': 16, 'hot': 11, 'extends': 31, 'runtimeexception': 5, 'vs2005': 4, 'strtok': 4, 'containsvalue': 1, 'look': 40, 'crystal': 67, 'reports': 59, 'unicodedecodeerror': 14, 'ascii': 105, '0x96': 1, 'ordinal': 9, '128': 12, 'encodeuricomponent': 5, 'encode': 65, 'pythone': 1, '332': 3, 'age': 12, '24': 45, 'unorderable': 1, 'str': 59, 'simplest': 37, 'credentials': 32, '220': 7, 'mouseenter': 8, 'scanner': 50, 'mq': 22, '701': 2, 'qa': 3, 'categorygetid': 1, 'months': 36, 'selfcleaned_data': 1, 'creates': 25, 'foreign': 108, 'filter_var': 4, 'condition': 167, 'general': 43, 'utility': 17, 'gzip': 25, 'systemtimerstimer': 9, 'subscription': 9, 'management': 58, 'elastic': 25, 'beanstalk': 20, 'category': 59, 'sqlquery': 7, 'asqueryable': 1, 'sketch': 2, 'effect': 97, 'cartoon': 1, 'multithreaded': 43, 'construction': 14, 'trees': 9, 'browsing': 8, 'transform': 47, 'already': 204, 'deck': 7, 'cards': 12, 'permissionerror': 3, 'permission': 99, '192': 11, 'snow': 7, 'leopard': 11, 'including': 98, 'disadvantage': 4, 'mt_rand': 3, 'affected': 10, 'codeignitor': 3, 'resharper': 24, 'complain': 3, 'sublist': 7, 'require': 89, 'loaderror': 17, 'drawrect': 11, 'cropping': 10, 'uiscrollview': 73, 'geom_text': 4, 'suitable': 33, 'jpanels': 9, 'exit': 102, 'receive': 90, 'javaxmailnosuchproviderexception': 1, 'attempting': 29, 'memcache': 23, 'curlopt_cookiejar': 1, 'somehow': 6, 'setcookie': 8, 'maildefinition': 2, 'asp': 128, 'prepend': 8, 'backslash': 14, 'uri': 76, 'membershipgetuser': 3, 'casing': 2, 'listeners': 24, 'focused': 14, 'exactly': 64, 'httpresponse': 11, 'webkit': 24, 'hiding': 64, 'insecure': 6, 'obfuscation': 2, 'dimensional': 55, 'total': 61, '_bstr_t': 1, 'place': 94, 'singlesign': 1, 'crash': 91, 'nskeyedarchiver': 2, 'archiveddatawithrootobjectselfdata': 1, 'pselectonemenu': 1, 'onchange': 65, 'section': 106, 'openmp': 37, 'adventure': 2, 'game': 176, 'driverurl': 1, 'drivernavigate': 1, 'gotourl': 1, 'getbytes': 5, 'implemented': 39, 'getbytesfast': 1, 'company': 6, 'wide': 10, 'pom': 14, 'paging': 25, 'fragments': 22, 'completed': 32, 'installshield': 1, 'selectors': 17, '6': 157, 'segment': 16, 'raw': 78, 'rewritting': 1, 'child_process': 1, 'backgroundworker': 37, 'settings': 99, 'inherited': 48, 'make_pair': 1, 'autofac': 21, 'fullname': 3, 'posix_memalign': 1, 'retuning': 1, 'truncated': 26, '2008': 91, 'awakefromnib': 4, 'applicationwillfinishlaunching': 1, 'applicationdidfinishlaunching': 2, 'recursion': 83, 'substrings': 13, 'exists': 273, 'qtservice': 1, '3610': 1, '10g': 3, 'graphics': 46, 'directx': 19, 'soap': 162, 'autodiscovery': 1, 'providing': 9, 'unistdh': 2, 'posts': 50, 'categoryslugphp': 1, 'ngclick': 20, 'multithread': 22, 'manage': 42, 'reactive': 9, 'instant': 8, 'richtextarea': 1, 'fontfamily': 3, 'necessary': 34, 'listbox': 192, 'barycentric': 1, 'coordinate': 30, 'clamping': 1, 'triangle': 34, 'systemuriformatexception': 2, 'hostname': 28, 'parsed': 18, 'requesturlhost': 1, 'carousels': 2, 'sencha': 32, 'benefits': 18, 'oo': 5, 'databases': 40, 'xmlhttprequest': 56, 'allowed': 112, 'accesscontrolallowmethods': 1, 'preflight': 7, 'role': 30, 'purpose': 46, 'contextloaderlistener': 5, 'translating': 12, 'rsacryptoserviceprovider': 2, 'actions': 42, 'textured': 1, 'quad': 3, 'numerically': 1, 'years': 19, 'illegal': 77, 'directly': 83, 'itemscontrol': 4, 'inconsistent': 13, 'amongst': 2, 'unserialize': 12, 'runinseparateprocess': 1, 'javaiofilenotfoundexception': 9, 'mnt': 2, 'sdcard': 6, 'anonymous': 82, 'users_url': 1, '#deviseregistrationscontroller0x00000003b299b0': 1, 'understanding': 82, 'daemon': 11, 'boost': 133, 'privacy': 1, 'colors': 77, 'individual': 43, 'cxampphtdocsindexphp': 1, '77': 2, 'check_function_exists': 1, 'clock_gettime': 2, 'cmake': 55, 'config': 107, 'homestead': 5, 'discrete': 11, 'stat_density2d': 1, 'variadic': 7, 'wrapper': 52, 'jsonresult': 6, 'layer': 52, 'webapp': 26, 'javalangclassnotfoundexception': 29, 'comfasterxmljacksondatabindjavatype': 1, 'rsa': 38, 'decryption': 32, 'breaks': 60, 'ldap': 47, 'authenticated': 29, 'differences': 51, 'collect': 23, 'fetching': 46, 'bundler_editor': 1, 'environment': 137, 'head': 34, 'mediawiki': 9, 'dojodataitemfilereadstorefetch': 1, 'oncomplete': 3, 'primitive': 34, 'rearrange': 9, 'uploaded': 91, 'passed': 104, 'closures': 19, 'achieve': 20, 'wnetaddconnection2': 1, 'points': 105, 'geography': 2, 'polygon': 45, 'postgis': 4, 'conditional': 116, 'basicdbobject': 1, 'ctrl2': 1, 'l': 7, 'bash': 46, 'counting': 72, 'appears': 37, 'mpi': 16, 'execution': 117, 'systemin': 5, 'segue': 35, 'identical': 24, 'closure': 50, 'lpwstr': 5, 'defaultdict': 5, 'original': 68, 'setfilter': 1, 'mapbox': 5, 'stdout_of_range': 4, 'vector_m_range_check': 1, 'downloaded': 26, 'entire': 78, 'parts': 44, 'res': 5, 'assets': 43, 'gen': 3, 'libs': 9, 'manifest': 32, 'rid': 36, 'loops': 98, 'marker': 85, 'notifications': 44, '3rd': 29, 'party': 38, 'concatenation': 24, 'substituted': 1, 'jni': 63, 'envnewobject': 1, 'opencart': 43, '156': 1, 'product': 119, 'resultsetnull': 1, 'ensure': 34, 'continuing': 6, 'preparedstatement': 24, 'finalized': 2, 'disallowed': 7, 'headertemplate': 6, 'occurred': 73, 'therubyracer': 1, '0101': 1, 'cvfindcontours': 1, 'potential': 5, 'wrapping': 37, 'writer': 17, 'reason': 50, 'completely': 46, 'fastest': 102, 'inputoutput': 1, 'percentages': 9, 'base64': 102, 'adobe': 12, 'air': 8, 'multiselect': 26, 'restricting': 8, 'cells': 118, 'ambiguous': 31, 'tooltip': 74, 'offset': 65, 'apicontroller': 3, 'filling': 36, 'dataset': 119, 'exporting': 45, 'cookies': 109, 'truncate': 17, 'truncating': 8, 'full': 194, 'reinitialize': 6, 'bootstrapselect': 3, 'opens': 24, 'causing': 93, 'discovery': 1, 'pythonrequests': 6, 'systemidentitymodeltokensjwtsecuritytoken': 1, 'str_replace': 8, 'sufficient': 6, 'attacks': 9, 'gcroot': 1, 'jersey': 80, 'injectableprovider': 1, 'context': 243, 'annotation': 107, 'texture': 28, 'plane': 3, 'incrementing': 17, 'preprocessor': 36, 'blob': 89, 'constructors': 40, 'stock': 11, 'market': 5, 'max': 138, 'erase': 14, 'piping': 5, 'resolve': 128, 'isuue': 1, 'clipboard': 36, 'stretching': 3, 'deploying': 63, 'shiny': 54, 'standalone': 30, 'deps': 1, 'included': 53, 'unix': 80, 'stamps': 2, 'alphabetically': 23, 'amazon': 89, 'https': 138, 'coefficients': 4, 'logistic': 7, 'regressions': 1, 'preg_split': 2, 'anchors': 16, 'example': 223, 'commandexecutereader': 1, 'throws': 125, 'google+': 7, 'authresult': 2, 'customise': 5, 'liferay': 20, 'runkit_function_rename': 1, 'simulate': 46, 'determined': 6, 'scrapy': 83, 'scrape': 22, 'websites': 32, 'deprecationwarnings': 1, 'useful': 17, 'explode': 17, 'counter': 49, 'uisearchbar': 15, 'casperjs': 33, 'protect': 17, 'laplacian': 2, 'gaussian': 7, 'crossings': 1, 'nsmutablearray': 58, 'also': 50, 'loggers': 4, 'log4j': 80, 'invalidcastexception': 4, 'unhandled': 66, 'schema': 64, 'overload': 34, 'move': 155, 'retaining': 7, 'listing': 22, 'thisdata': 1, 'interpreted': 16, 'overridden': 13, 'outside': 173, 'oncreateview': 1, 'subscript': 18, 'requires': 82, 'cnstant': 1, 'nonfragile': 1, 'abi': 2, 'cia': 1, 'world': 59, 'factbook': 1, '0x80070001': 1, 'script5009': 1, 'autofill': 5, 'oci_bind_by_name': 3, 'expects': 52, 'repeat': 34, 'intranet': 7, 'center': 94, 'floatingpoint': 4, 'collectionview': 11, 'simply': 14, 'webapplication': 9, 'deployed': 21, 'tornado': 33, 'uitableviewcell': 96, 'uppercase': 23, 'charat': 2, 'purchase': 8, 'nonrenewal': 1, 'inapp': 6, 'restkit': 16, 'nsmanagedobject': 8, 'managedobjectcontext': 2, 'instances': 82, 'eating': 3, 'autoreconnecttrue': 2, 'webpack': 27, 'subset': 44, 'pixels': 38, 'stays': 8, 'jquerymobile': 8, 'round': 55, 'nearest': 24, '005': 3, 'beginwidget': 1, 'tools': 53, 'itunes': 7, 'playlists': 1, 'leftsided': 1, 'collapsible': 7, 'imap_open': 3, 'says': 30, 'specification': 14, 'behavior': 81, 'beginners': 7, 'amazons3io': 1, 's3directoryinfo': 1, 'ram': 12, 'hopefully': 2, 'qwt': 1, 'registerarraydeclaration': 1, 'dbsetlocal': 1, 'geocode': 6, 'ipaddress': 11, 'jumping': 18, 'solving': 9, 'quadratic': 5, 'processing': 132, 'camera': 87, 'es': 16, 'largest': 28, 'n3': 1, '12': 34, '000': 17, 'createmultimaterialobject': 1, 'r62': 1, 'offscreen': 3, 'frequency': 27, 'engine': 161, '27': 47, 'couldnotfindmoduleerror': 1, 'nokogiri': 44, 'coredata': 21, 'doctrine': 110, 'emit': 11, 'nsmutabledictionary': 9, 'checkboxfield': 1, 'uiaccelerometer': 1, 'deprecated': 61, 'treeview': 77, 'javalangstring': 27, 'manhattan': 1, 'distance': 62, 'continuous': 30, 'twodimensional': 26, 'xna': 26, 'keyboardgetstate': 1, 'problems': 235, 'scatter': 19, 'before_destroy': 1, 'elegant': 39, 'atomicintegerincrementandget': 1, 'numeric': 111, 'stdpairfloat': 1, 'stdvectorfloat': 2, 'preference': 13, 'sqlite3_exec': 2, 'crc': 2, 'wxauiauimanager': 1, 'pane': 8, 'centered': 8, 'force': 172, 'arrayssort': 2, 'ocr': 13, 'classify': 3, 'hu': 1, 'invariant': 6, 'moments': 1, 'alert': 141, 'subplot': 5, 'raises': 7, 'subclass': 76, 'superclass': 30, 'week': 49, 'requestmapping': 6, 'secured': 10, 'make_response': 1, 'large': 279, 'directives': 24, 'ngbind': 4, 'cset': 3, 'mismatch': 45, 'shape': 39, 'vs2013': 5, 'codecoverageexe': 1, 'runsettings': 1, 'never': 58, 'parses': 4, 'statistic': 1, 'redis': 36, 'showdialog': 10, 'sounds': 7, 'cocoa': 85, 'love': 1, 'distrust': 1, 'leaving': 20, 'parser': 81, 'getelementsbytagname': 9, 'alternate': 15, 'tr': 30, 'embedding': 24, 'embedded': 107, 'business': 19, 'layers': 21, 'unreachable': 6, 'notsupportedexception': 4, 'encrypting': 19, 'decrypting': 15, 'crypter': 1, 'interfaces': 54, 'differs': 6, 'textmodepassword': 1, 'img': 70, 'withas': 1, 'theme': 43, 'balk': 1, 'generation': 58, 'newtonsoftjsonlinqjarray': 1, 'contain': 120, 'cron': 62, 'integers': 140, 'ordering': 34, 'sections': 22, 'loaded': 183, 'faking': 3, 'capybara': 38, 'howto': 42, 'stdvectort': 1, 'avoiding': 33, 'someone': 32, 'objectoriented': 7, 'devexpress': 34, 'dashboardloading': 1, 'stdcin': 3, 'datetimepicker': 16, 'datatemplateselector': 1, 'choice': 30, 'wildcards': 17, 'routes': 67, 'home': 56, 'shget': 1, 'known': 49, 'folderpath': 1, 'queues': 19, 'appended': 16, 'since': 19, 'june': 1, 'scenarios': 8, 'extremely': 8, 'flow': 27, 'panning': 9, 'raphaeljs': 12, 'cyclic': 5, 'ovveriding': 1, 'exceptionhandler': 2, 'post_save': 3, 'freezing': 8, 'multiply': 39, 'keysvalues': 1, 'backup': 23, 'regexe': 1, 'drivermanage': 1, 'implicitlywait': 1, 'timeunitseconds': 1, 'domains': 27, 'subdomains': 14, 'richtextbox': 43, 'appearing': 29, 'formatter': 17, 'paramerter': 1, 'registrationjsptitle': 1, 'en_gb': 1, 'keyvalue': 30, 'ssh': 38, '_request': 7, '_get': 28, 'javaxmailmessage': 1, 'windowing': 1, 'ala': 2, 'wxwidgets': 12, 'etc': 115, 'differentiate': 7, 'copies': 6, 'pycharm': 55, 'swap': 27, 'stdset': 13, 'xmlnshttp': 1, 'schemasmicrosoftcom': 1, 'discover': 10, 'occurs': 29, 'flatpage': 1, 'registered': 31, 'swipe': 39, 'documentation': 42, 'intermittent': 5, 'assigning': 63, 'periods': 3, 'charcters': 1, 'breaking': 31, 'jasmine': 43, 'spyon': 2, 'fsockopen': 1, 'fgets': 6, 'feof': 1, 'said': 2, 'pydev': 15, 'jython': 18, 'startup': 44, 'shall': 3, 'optimize': 47, 'webxml': 9, 'longest': 24, 'least': 53, 'asynchronous': 103, 'synchronous': 34, 'bitmapdata': 3, 'straight': 10, 'privateobject': 2, 'missingmethodexception': 3, 'maxwidth': 4, 'sharing': 47, 'fast': 107, 'flexible': 13, 'iterator': 85, 'glow': 6, 'usable': 11, 'clientonly': 1, 'querying': 39, 'girl': 13, 'association': 64, 'restore': 18, 'segy': 1, 'bold': 25, '600x600': 2, 'mainstoryboard': 3, 'anchor': 102, 'corners': 16, 'album': 12, 'dbml': 4, 'serialzable': 2, 'unidirection': 1, 'systemdatalinqentityref': 1, 'mark': 37, 'mysqli_num_rows': 1, 'mysqli_result': 4, 'indices': 33, 'indigo': 5, '1304': 1, 'invocation': 23, 'nestedhidden': 1, 'flash': 87, 'ex': 6, 'vml': 1, 'emails': 47, 'sharp': 4, '568h': 1, '2xpng': 2, 'sleeping': 5, 'javasecurityunrecoverablekeyexception': 1, 'recover': 9, 'subclasses': 12, 'extra': 90, 'designed': 5, 'valuechanged': 2, 'repeats': 9, 'del': 5, 'backspace': 10, 'eaten': 1, 'comsybasejdbc2jdbcsybsqlexception': 1, 'overflow': 36, 'classpath': 75, 'beans': 51, 'despite': 21, 'auth': 32, 'swagger': 11, 'crud': 32, 'zf': 3, 'tool': 81, 'recognised': 8, 'include_path': 6, 'mobilechangepage': 2, 'mdb': 14, 'made': 60, 'concrete': 10, 'c#net': 38, 'driven': 12, 'httprequests': 1, 'formal': 6, 'matched': 16, 'occasionally': 6, 'stretch': 16, 'standart': 1, 'menuitem': 5, 'qtextedit': 3, '2000': 6, 'bower': 5, 'restful': 102, 'nserror': 4, 'nilliteralconvertible': 1, 'twisted': 29, 'yields': 6, 'inlinecallbacks': 1, 'listt': 52, 'overlapping': 20, 'segments': 10, 'factorygirl': 13, 'orgcomhibernatehibernateutil': 1, 'preload': 7, 'uiviewcontroller': 53, 'clicks': 42, 'star': 19, 'sysstdout': 3, 'nicely': 3, 'gps': 24, '422': 6, 'infix': 6, 'calculator': 42, 'register': 57, 'cfdataref': 1, 'nsdata': 40, 'absolute_import': 1, 'conflicts': 15, 'unresolved': 46, 'fcbk': 1, 'partialview': 9, 'hashtable': 37, 'remember': 15, 'b': 63, 'rarer': 1, 'keywords': 18, 'volatile': 8, 'explicit': 51, '0xef': 1, 'pythonplotting': 1, 'establish': 14, 'secure': 85, 'selectednodechanged': 1, 'refactor': 10, 'expressionfunct': 3, 'imports': 22, 'overhead': 14, 'subscribed': 2, 'youtube': 140, 'channel': 24, 'dimension': 31, 'multidimension': 3, 'itextsharp': 84, 'reverse': 79, 'bigdecimal': 8, 'scala': 39, 'ejb': 40, 'glassfish': 48, 'elementinsertadjacenthtml': 1, 'transformtoxml': 1, 'wise': 8, 'satelite': 1, 'coordinates': 122, 'assignment': 103, 'birthday': 6, 'file_get_contents': 26, 'cases': 26, 'onsaveinstancestate': 4, 'cs': 22, 'cython': 24, 'windoes': 1, 'clexe': 6, 'pyd': 1, 'baseonpaint': 1, 'javalanginteger': 8, 'messagebox': 22, 'though': 59, 'contentsize': 7, 'x++': 4, 'starts': 32, 'late': 7, 'invoking': 39, 'edge': 25, 'adjacency': 3, 'tinyint': 3, 'functional': 24, 'foreignkey': 18, 'beginner': 32, 'logical': 19, 'na': 17, 'normalizing': 5, 'pixel': 45, 'rolled': 3, 'deleting': 102, 'explicitly': 28, 'raise': 37, 'jsonstring': 3, 'chris': 1, 'pine': 1, 'book': 19, 'destroys': 3, 'pager': 9, 'pthread': 24, 'hosted': 23, 'phpexcel': 54, 'sheet': 63, 'international': 10, 'keyboards': 2, 'fuzzy': 6, 'acceptable': 16, 'padding': 48, 'feedparserparse': 1, 'certificate_verify_failed': 3, 'sessionflush': 1, 'vaadin': 37, 'rethrow': 3, 'propagation': 5, 'oncreate': 8, 'docker': 22, 'positive': 39, 'modifier': 19, 'escape': 122, 'bindingsources': 2, 'vc++': 22, 'iceselectmanycheckbox': 1, 'jsonp': 25, 'fileslength': 1, 'rand': 15, 'decisionswindowsforms': 1, 'version13020000': 1, 'dispatch': 12, 'descending': 20, 'instantly': 5, 'desede': 1, '3des': 2, 'marshalling': 12, 'fortran': 6, 'subroutine': 1, 'chain': 27, 'monotonic': 1, 'pair': 43, 'codility': 6, 'oledb': 21, 'ballon': 1, 'tip': 5, 'sprintf': 23, 'onerror': 3, 'websockets': 22, 'opaque': 2, 'opacity': 18, 'opensuse': 4, 'numpyconcatenate': 1, 'instantiated': 20, 'simplexmlelement': 9, 'helpers': 15, 'environments': 11, 'none': 51, '93': 2, 'mvp': 2, 'applications': 118, 'master': 48, 'performancewise': 1, 'uiviewcontainers': 1, 'exclude': 58, 'pyramid': 10, 'letters': 92, 'attaching': 12, 'polymorphic': 26, 'smoothly': 11, 'animate': 79, 'pretty': 11, 'polynomial': 8, '__block': 3, 'keyword': 94, 'arc': 46, 'enums': 47, 'mkmapview': 22, 'templated': 11, 'foundation': 22, 'modelattribute': 4, 'postgresql84': 1, 'boxes': 41, 'has_many': 34, 'callnamedpipe': 1, 'namedpipeserverstream': 1, 'noreversematch': 2, '_cvcvhaardetectobjects': 1, 'resets': 5, 'jobject': 8, 'jsonreader': 2, 'startarray': 1, 'bindexception': 1, 'satisfy': 4, 'autolayout': 29, 'disabled': 67, 'uitextfield': 60, 'responder': 5, 'alter': 11, 'erasing': 3, 'optimal': 10, 'locations': 22, 'codes': 35, 'combinations': 26, 'toggle': 102, 'streams': 26, 'formats': 25, 'mp3': 52, 'ogg': 1, 'gridviewusing': 1, 'usename': 1, 'orderbydescending': 2, 'subview': 30, 'disappears': 17, 'sure': 38, 'idisposable': 5, 'integrate': 42, 'specifying': 37, 'question': 155, 'language': 175, 'urllibrequesturlopen': 1, '_files': 14, 'ignored': 33, 'sortedset': 2, 'sortedmap': 1, 'backwards': 10, 'bufferedreader': 21, 'cellendedit': 1, 'uploads': 21, 'larger': 31, 'mb': 12, 'instructions': 8, 'purejavascript': 1, '_block_type_is_valid': 1, 'webmethod': 17, 'vbscript': 13, 'regasm': 2, 'answer': 17, 'entityframework': 22, 'discriminator': 5, 'redux': 21, 'reactrouter': 9, 'refreshes': 5, 'mongodbs': 1, 'mongoclient': 6, 'auth_basic': 1, 'anything': 59, 'repaints': 2, 'overflowscroll': 2, 'datetimenowutc': 1, 'timecurrentutc': 1, 'jsonarray': 24, 'jsonobject': 24, 'serving': 23, 'permissions': 53, 'llvm': 10, 'ir': 3, 'clang': 30, 'retrive': 9, 'ampersand': 12, 'bounded': 1, 'animated': 18, 'apple': 32, 'watchkit': 4, 'clipping': 6, 'multilevel': 15, 'typo3': 5, 'salted': 2, 'whereas': 4, 'h2': 16, 'getaddrinfo': 6, 'nsthread': 7, 'nstimer': 18, 'autoreleasepools': 2, 'translate': 31, 'matrices': 22, 'rotations': 3, 'validator': 37, 'isipad': 1, 'merged': 7, 'automated': 20, 'updates': 46, 'depth': 21, 'caption': 5, 'nolonger': 1, 'ror': 31, 'actionmailer': 4, 'activation': 14, 'vichuploaderbundle': 1, 'fun': 2, 'tricky': 5, 'convention': 20, 'lucene': 36, 'concurrentmodificationexception': 5, 'htmltablecellelement': 1, 'fileinfo': 5, 'mimetype': 7, 'description': 34, 'enabled': 40, 'dateparse': 3, 'illegalargument': 1, 'convenient': 2, 'spinner': 28, 'outer': 38, 'mysqlh': 2, 'wsgihandler': 1, 'filejs': 1, 'referenceerror': 48, 'short': 44, 'discount': 7, 'price': 42, 'weblogicxml': 1, 'cvccomplextype24a': 1, 'preferapplicationpackages': 1, 'listview': 246, 'details': 56, 'opera': 8, 'normal': 62, 'histogram': 55, 'websocket': 67, 'initiate': 7, 'track_t': 1, 'argumentscalleetostring': 1, 'argumentscalleename': 1, 'tabbing': 2, 'tabindex': 4, 'dev': 26, 'knockout': 52, 'log4net': 31, 'derby': 1, 'lpcstr': 5, 'outofmemoryexception': 10, 'obtain': 46, 'crossvalidated': 1, 'rsquare': 1, 'linear': 39, 'putobjectfile': 1, 'multidimensional': 167, 'metadata': 38, 'pautocomplete': 1, 'tags': 227, 'populating': 53, 'validations': 11, 'getannotation': 1, 'spoken': 1, 'overlays': 3, '42': 15, 'fill': 146, 'capinsets': 1, 'loginurl': 1, 'whitespace': 41, 'p': 46, 'aes': 37, 'securely': 8, 'tabcontrol': 7, 'pert': 1, 'anchorscroll': 2, 'connections': 73, 'dropped': 5, 'overwrite': 33, 'orgapachecxfinterceptorfault': 2, 'unmarshalling': 10, 'xmlnode': 3, 'htmlaction': 1, 'typed': 23, 'complexity': 21, 'pow': 8, 'destructor': 34, 'nsdateformatter': 11, 'inarray': 3, 'paypal': 71, 'buy': 4, 'mysqldata': 2, 'version6220': 1, 'superview': 8, 'bounds': 39, 'subprocess': 40, 'cmd1': 1, 'cmd2': 1, 'piped': 5, 'simulation': 12, 'card': 36, 'dealer': 1, 'arrayindexoutofboundsexception': 2, 'systemoutofmemoryexception': 6, '700mb': 1, 'pinch': 7, 'redeclared': 2, 'unity': 84, 'reorder': 19, 'controlled': 4, 'tabbar': 14, 'upper': 15, 'ondblclick': 1, 'techniques': 14, 'depends': 12, 'columnexpression': 1, 'throw': 81, 'reflecting': 6, 'highlight': 63, 'dictionaries': 52, 'jinja': 9, 'embed': 76, 'lightest': 2, 'ever': 19, 'except': 75, 'kvm': 1, 'networkrequestfailed': 1, 'communicating': 10, 'firebase': 60, 'sqlstate': 26, 'hy093': 4, 'tokens': 22, 'include_once': 6, 'full_calendar': 1, 'composite': 25, 'observation': 5, 'identified': 2, 'stata': 1, 'bys': 1, '_n': 1, 'el': 23, 'phpmyadmin': 61, 'statistical': 4, 'w8': 1, 'wp': 11, 'insertion': 27, 'received': 50, 'sigill': 1, 'getscript': 2, 'staticresource': 2, 'seem': 38, 'slash': 39, 'twig': 38, 'caret': 7, 'scanf': 45, 'carriage': 13, 'rn': 9, 'delimited': 32, 'webrtc': 21, 'embedd': 1, 'dlls': 25, 'routeconfig': 2, 'animations': 24, 'pick': 14, 'uipickerview': 28, 'whitelist': 2, 'rejection': 2, 'codefirst': 7, 'migration': 53, 'blade': 8, 'embeded': 4, 'connectivity': 8, 'streamcanseek': 1, 'asynctask': 28, 'intents': 1, 'highscore': 1, 'requied': 1, 'beforeshowday': 1, 'spoiler': 1, 'odbc': 34, 'microsoftjetoledb40': 2, 'concurrentskiplistset': 2, 'storageframeworkview': 1, 'underlining': 1, 'come': 27, 'calculating': 82, 'globally': 24, 'launch4j': 1, 'messagingexception': 1, 'clientsize': 1, 'postmessage': 2, 'enumvalueof': 2, 'occurence': 6, 'contexts': 14, 'hlapi': 1, 'imagemagick': 23, 'proportional': 1, 'fblogin': 3, 'arriving': 3, 'suspend': 11, 'uilabels': 4, 'expose': 14, 'flag': 30, 'archive': 18, 'continuewith': 7, 'gridsearchcv': 2, 'score': 17, 'oriented': 14, 'gallery': 29, 'approval': 3, 'limit': 194, 'redownloading': 1, 'backgroundcolor': 5, '__delitem__': 1, 'subclassing': 22, 'collectionsmutablesequence': 1, 'virtualkey': 1, 'webkit_server': 1, 'datatype': 39, 'consecutive': 32, 'tcp': 111, 'sucks': 1, 'generators': 9, 'consolesetcursorposition': 1, 'assignement': 1, 'imageview': 34, '__file__': 5, 'h': 29, 'american': 3, 'uinavigationbar': 14, 'shouldautorotateno': 1, 'stdget1': 1, 'chai': 1, 'material': 19, 'mdselect': 3, 'lodash': 28, 'sitemap': 7, 'align': 48, 'zone': 55, 'compact': 26, 'xpoweredby': 1, 'signinmanager': 1, 'rmi': 35, 'proguard': 15, 'processes': 72, 'androidmanifestxml': 3, 'communication': 87, 'paperclip': 55, 'queryset': 45, 'mem': 2, 'peak': 3, 'ngswitch': 3, 'connector': 16, 'asdataframe': 1, 'super': 38, 'lxml': 42, 'pig': 5, 'javaxfacesfactoryfinder': 1, 'implementing': 151, 'icomparablet': 1, 'delegates': 33, 'weka': 10, 'thumbnail': 47, 'excerpt': 2, 'subarrays': 6, 'illegalstateexception': 10, 'paragraphs': 8, 'seleniumwait_for_condition': 1, 'bindings': 37, 'cut': 31, 'labeling': 4, 'scientific': 13, 'notations': 2, 'wnetuseconnection': 1, 'connects': 3, 'unc': 4, 'ipreviewhandler': 1, 'uncatchable': 2, 'orm': 59, 'lost': 48, 'schemarb': 2, 'regenerated': 2, 'equals': 71, 'foobar': 3, 'challenge': 4, 'bomb_baby': 1, 'runnable': 17, 'executeupdate': 3, 'php5fpm': 4, 'enumvalue': 1, 'perfom': 1, 'detecting': 81, 'initial': 59, 'detail': 26, 'jms': 30, 'corner': 15, 'valgrind': 17, 'possibly': 12, 'flasksecurity': 1, 'selectedindex': 9, 'ostype': 1, 'nsmutable': 3, 'ahead': 1, 'raising': 13, 'validationerror': 2, 'loaders': 2, 'lowest': 6, 'underscore': 47, '_each': 2, '_map': 1, 'mapreducebase': 1, 'mapper': 10, 'portrait': 9, 'landscape': 27, 'x509': 3, 'sqlresultsetmapping': 1, 'javanetconnectexception': 8, 'refused': 54, 'simplexml_load_file': 7, 'closed': 94, 'expecting': 34, 'titles': 11, 'threshold': 4, 'tune': 1, 'attempt': 27, 'direction': 19, 'rotation': 45, 'jobs': 20, 'locate': 44, 'htaccess': 129, 'transactionmanager': 4, 'comments': 69, '43': 16, 'provide': 40, 'additional': 48, 'namedtuple': 1, 'hello': 44, 'dependencies': 86, 'artifact': 16, 'androidpermissionwrite_secure_settings': 1, 'multiprocessing': 56, 'forloop': 13, 'taken': 12, 'borland': 5, 'gcc': 117, 'compilers': 15, 'turtoisesvn': 1, 'neo4j': 9, 'webui': 1, 'unnamed': 3, 'prev': 11, 'slideshow': 22, 'typefile': 16, 'converted': 56, 'hooks': 10, 'woocommerce': 60, 'pyqt4': 25, 'modeless': 2, 'icons': 28, 'pings': 1, 'importerror': 61, 'mlpclassifier': 1, 'sqlite3': 45, 'firing': 106, 'f7': 2, 'oci_execute': 2, 'dies': 4, 'oci_error': 2, 'ul': 33, 'pressing': 26, 'persistenceprovider': 1, 'entitymanagerfactory': 5, 'hashtag': 7, 'structures': 36, 'predicate': 13, 'navigatorplatform': 1, 'today': 17, 'inserting': 171, 'categories': 33, 'rtf': 6, 'kabpersonaddresscitykey': 1, 'undeclared': 20, 'concurrency': 23, 'simultaneous': 13, 'mutexes': 5, 'collectionviewcell': 2, 'gae': 18, 'remote_api': 1, 'mechanize': 27, 'ascx': 10, 'quotable': 2, 'user_id': 3, 'alone': 12, 'removal': 11, 'slave': 3, 'matlab': 41, 'indicator': 18, 'travelport': 1, 'directorycreatedirectory': 1, 'typebutton': 2, 'typesubmit': 4, 'forever': 13, 'closing': 105, 'msql': 3, 'filealways': 1, 'comobject': 1, '80070776': 1, 'unmarshall': 5, 'meteor_wrapasync': 1, 'renamed': 3, 'meteorwrapasync': 1, 'ejbinvokerservlet': 1, 'jmxinvokerservlet': 1, 'phpstorm': 15, 'accessed': 24, 'magic': 16, 'meteors': 3, 'iron': 2, 'router': 27, 'uitableviewcells': 16, 'divider': 2, 'javaxwsrsnotsupportedexception': 1, 'synchronize': 17, 'is_file': 2, 'selectlistitem': 1, 'infowindow': 17, 'assemblyinfo': 3, 'msbuild': 19, 'jenkins': 50, 'nsurlconnection': 15, 'connectiondidfinishloading': 2, 'sun': 8, 'mssql': 34, 'manytoone': 16, 'modelbinder': 1, 'modelbindersadd': 1, 'xss': 20, 'attack': 12, 'readprocessmemory': 2, 'writeprocessmemory': 4, 'gone': 16, 'vnext': 11, 'macro': 88, 'sass': 17, 'requiring': 13, 'predexdebug': 1, 'jqueryget': 4, 'ready': 43, 'sliding': 18, 'putting': 40, 'jqueryui': 17, 'observe_field': 2, 'forgetting': 1, 'javaxcrypto': 2, 'twice': 118, 'myclassmyfunction': 1, 'autocompletion': 5, 'resetting': 13, 'beginning': 47, 'mstest': 9, 'redirecting': 58, 'practise': 8, 'directorygetfiles': 5, 'enumeratefiles': 1, 'locked': 24, 'stuck': 35, 'backgroud': 2, 'redhat': 3, 'instantiate': 64, 'injectmocks': 3, 'resolves': 5, 'internal': 115, 'underline': 11, 'limitation': 4, 'liststring': 37, 'orghibernatequeryexception': 2, 'cropperjs': 1, 'arraycontroller': 3, 'googlesetonloadcallback': 1, 'barriers': 1, 'knockoutjs': 39, 'incredibly': 2, 'semilarge': 1, 'mousemove': 9, 'protractor': 27, 'namevalue': 2, 'ini': 9, 'boostprogram_optionsparse_config_file': 1, 'manipulation': 38, 'bouncing': 4, 'ball': 5, 'ucwords': 1, 'underscores': 16, 'nstextview': 2, 'lwjgl': 8, 'columntype': 1, 'googleappengine': 3, 'fulltextsqlquery': 2, 'datatoggle': 4, 'pill': 1, 'guess': 6, 'compatibility': 20, 'drivers': 5, 'sqlsetconnectattr': 1, 'fopen': 14, 'wideopen': 1, 'reuse': 29, 'nondefault': 7, '+initialize': 1, 'clone': 33, 'autoconf': 1, 'questions': 33, 'cgsize': 3, 'psutil': 1, 'draft': 4, '08+': 2, 'externalization': 1, 'smallintegerfield': 1, 'ranges': 19, 'stringformat': 19, 'consider': 9, 'literal': 67, 'dispatch_queue_t': 2, 'released': 14, 'dispatch_release': 1, 'practices': 75, 'around': 86, 'recently': 4, 'nginclude': 6, 'collectionparallelstream': 1, 'thing': 24, 'floating': 54, 'iteratior': 1, 'produces': 16, 'rsquo': 1, 'mjpeg': 1, 'products': 42, 'prestashop': 14, 'max_execution_time': 5, 'nameerror': 36, 'tk': 3, 'jquerymobileloadpage': 1, 'fallthrough': 2, 'rss': 32, 'wpfs': 3, 'drawingcontextdrawtext': 1, 'expensive': 13, 'signed_request': 1, 'createblockoutputstream': 1, 'hdfs': 14, 'smtpclient': 5, 'mod_wsgi': 17, 'interaction': 15, 'virtualenv': 30, 'comprehension': 34, 'ajaxsubmit': 1, 'synchron': 1, 'cholesky': 1, 'unbind': 12, 'easy': 51, 'stringcontains': 7, 'stringindexof': 3, 'xamarin': 61, 'appconfig': 50, 'cdn': 3, 'excludes': 4, 'aggregation': 5, 'nonaggregate': 1, 'initialized': 53, 'initializer': 39, 'eachother': 4, 'iconv': 3, 'encodings': 6, 'pylab': 7, 'listget': 1, 'iinterface': 1, 'javas': 26, 'concurrenthashmap': 9, 'respond_to': 4, 'respond_with': 4, 'webform': 12, '200p0': 1, 'irb': 4, 'dl': 1, 'fiddle': 3, 'attr_accessor': 5, 'conditionals': 5, 'edges': 7, 'borders': 13, 'rac': 1, 'vertically': 33, 'mandrill': 1, 'webhook': 1, 'contentlengthheader': 1, 'printer': 31, 'preferences': 12, 'updatepanel': 32, 'int32': 13, 'toint32': 1, 'xcodes': 1, 'incomplete': 23, 'pointertoobject': 1, 'c#like': 2, 'zipjs': 1, 'stubs': 4, 'compiled': 43, 'notepad++': 12, 'recognizing': 16, 'htmlerb': 3, 'messing': 6, 'stackoverflow': 11, 'regtlib': 1, 'caught': 20, 'mysqlimulti_query': 2, 'descendants': 4, 'prefix': 48, 'jqueryajax': 17, 'fire': 58, 'success': 89, 'callbacks': 39, 'joined': 8, 'mysql_real_escape_string': 7, 'functionmysqlrealescapestring': 1, 'established': 5, 'interval': 34, 'gemextbuilderror': 1, 'bcryptruby': 2, 'get_example_data': 1, 'jdbctemplate': 9, 'contraint': 2, 'sessionfactory': 17, 'springhibernate': 2, 'seeking': 4, 'convergence': 1, 'optimizefmin': 1, 'expire': 18, 'dead': 9, 'hanging': 13, 'lots': 20, 'openfiledialog': 7, '50': 37, 'backlight': 1, 'djangocountries': 1, 'continuously': 16, 'requestget': 2, 'compressor': 1, 'middleware': 12, 'fclose': 4, 'exchange': 34, 'hselectmanylistbox': 1, 'fselectitems': 1, 'advisable': 3, 'scales': 5, 'subtype': 7, 'originally': 5, 'fly': 31, '22122012': 1, '1700': 1, 'dmy': 2, 'pm': 19, 'inputstream': 41, 'turning': 22, 'processstartinfo': 2, 'concurrent': 46, 'tls': 17, 'systemnetwebexception': 6, 'going': 35, 'capistrano': 39, '127': 7, 'keyup': 15, 'leaflet': 34, 'find_or_create_by_id': 1, 'sequentially': 12, 'splitting': 60, 'parallelforeach': 9, 'iframes': 21, 'sqldatareader': 5, 'minute': 21, 'receives': 10, 'checks': 8, 'ascending': 23, 'd3axistickformat': 1, 'shifted': 2, '0000': 4, 'oracledb': 1, 'formatted': 41, 'predefined': 13, 'density': 14, 'metro': 38, 'grade': 6, 'average': 64, 'grades': 6, 'attachments': 6, 'scalar': 20, 'oledbcommand': 4, 'hibernatetemplatefindbycriteria': 1, 'deatched': 1, 'criteria': 41, 'dc': 1, 'executes': 15, 'visit': 10, 'placeholders': 12, 'checkerboard': 2, 'measure': 31, 'lower': 23, 'adopting': 1, 'growing': 5, 'software': 34, 'directories': 32, 'ascii39': 2, 'earth': 5, '46': 9, 'javaxelpropertynotfoundexception': 3, 'unregistereduserpost': 1, 'stdvector': 30, 'act': 11, 'concatenating': 22, 'datalist': 12, 'inclass': 3, 'comboboxitemsadd': 1, 'choose': 39, 'navigator': 6, 'expect': 11, 'backward': 9, 'gnuplot': 4, 'boundaries': 8, 'ajenti': 1, 'rewrite': 46, 'rules': 45, 'countbubble': 1, 'insertbefore': 4, 'descriptors': 5, 'kernel': 45, 'assistance': 5, 'sqlite3pp': 1, 'components': 58, 'epoch': 15, 'springdatajpa': 5, 'lazyinitializationexception': 2, 'minified': 6, 'radiobutton': 19, 'cdi': 8, 'uinitialized': 1, 'basecontroller': 2, 'divided': 5, 'holding': 12, 'hudson': 3, 'coloumn': 1, 'richtab': 2, 'rerender': 6, 'street': 10, 'xsd': 43, 'intel': 4, 'xdk': 1, 'meaning': 38, 'concurrently': 7, 'androidosnetworkonmainthreadexception': 1, 'systemnetbrowserclienthttpwebrequestendgetresponse': 1, 'systemargumentexception': 5, 'nonascii': 12, 'sound': 56, 'xmlelement': 12, 'xmlattribute': 4, 'bitmapimage': 5, 'systemwindowsmediabrush': 2, 'gmapsjs': 2, '1#ind': 1, 'gulp': 26, 'mainbowerfiles': 2, 'bars': 33, 'accordance': 1, 'managementscope': 2, 'rootcimv2': 1, 'setbounds': 2, 'v2': 23, 'webclient': 33, 'dots': 18, 'destructuring': 2, 'addressalreadyinuseexception': 1, 'dropdownlist': 118, 'operand': 31, 'redraw': 14, 'exc_bad_access': 12, 'querystring': 40, 'htmlencode': 2, 'indexjsppageabout': 1, 'aboutjsp': 1, 'payments': 11, 'outperforming': 1, 'clr': 19, 'hybrid': 6, 'onselectedindexchanged': 3, 'errorrelaxngvrelaxng_err_extracontent': 1, 'camel': 34, 'andengine': 5, 'gamenot': 1, 'delimiters': 12, 'decoding': 31, 'urllib': 8, 'python3': 24, 'findcontrol': 4, 'rolegroup': 1, 'loginview': 1, 'customized': 16, 'evaluating': 20, 'fmt': 1, 'thisgetdomnode': 1, 'reapp': 1, 'specifc': 3, 'closable': 2, 'tabbedpane': 1, 'precendence': 1, 'commit': 25, 'imlementing': 1, 'irouter': 1, 'teardown': 4, 'succeeded': 8, 'filenames': 16, 'exercise': 14, 'margins': 11, 'paddings': 2, 'gridlayout': 9, 'chosen': 12, 'imported': 30, 'filechoose': 1, 'perfectly': 9, 'dimensions': 30, 'delegation': 5, 'realmio': 3, 'ws': 10, 'repeatedfield': 1, 'istrustedtrue': 1, 'toolstripstatuslabeltext': 1, 'windowsh': 8, 'afxv_w32h': 1, 'cstring': 10, 'textboxfor': 7, 'webdrivercss': 1, 'screenshot': 40, 'weeks': 16, 'hbase': 18, 'scan': 33, 'arrows': 12, 'cuda': 32, 'applescript': 5, 'progressbar': 28, 'flip': 26, 'httprequest': 9, 'bindable': 1, 'onpropertychanged': 1, 'cgpoints': 1, 'relatively': 1, 'authenticate': 24, 'domainusername': 1, 'io': 34, 'whose': 19, 'ctor': 4, 'insensitive': 26, 'getcontent': 2, 'cfurlref': 2, 'fsref': 1, 'egetmessage': 1, 'marshalsizeof': 1, 'returnvalue': 2, 'sessioncontextgetbusinessobject': 1, 'daterangefilter': 1, 'uistep': 1, 'sequences': 17, 'mov': 3, 'decorators': 8, '10seconds': 1, 'loadedtnx': 1, 'everyone': 1, 'visitor': 9, 'dbmigrate': 12, 'quantile': 6, 'normalize': 8, 'date_default_timezone_set': 2, 'comparisons': 10, 'multple': 2, 'text_field_tags': 1, 'rule': 41, 'mainc': 1, 'maino': 2, '1300': 1, 'occured': 16, '5212': 1, 'interesting': 3, 'pyside': 15, 'lightweight': 22, 'actionslist': 1, 'bytearrays': 2, 'vendor': 7, 'horizontally': 28, 'robust': 9, 'justified': 3, 'platform': 57, 'phrase': 9, 'finder': 7, 'soapcall': 1, 'chartjs': 48, 'countdown': 26, 'finish': 40, 'debug': 197, 'latex': 11, 'white': 81, 'hashing': 24, 'textpointer': 1, 'jqueryselectbox': 1, 'errorvariable': 1, 'cfstring': 1, 'throughput': 1, 'javalangnosuchfielderror': 5, 'trace': 29, 'everytime': 6, 'overloads': 4, 'numpyrandom': 1, 'nonimported': 1, 'dwarfdump': 1, 'asmx': 20, '18': 24, 'nul': 3, 'arraywithcapacity': 1, 'initwithcapacity': 1, 'lambdas': 13, 'popenwaitpid': 1, 'simplexml_load_string': 8, 'staticmethod': 2, 'systemnetwebsocketsclientwebsocket': 1, 'reliably': 9, 'corefrences': 1, 'corenlp': 3, 'ratings': 1, 'aphp': 1, 'drawable': 2, 'kml': 10, 'continuation': 4, 'behaviour': 65, 'taskcompletionsources': 1, 'qlist': 4, 'arraysum': 1, 'extjs4': 7, 'shift+enter': 1, 'pressed': 56, 'pgpass': 1, 'dbs': 1, 'establish_connection': 1, 'greater': 45, 'hardcoded': 3, 'llvms': 1, 'redeclare': 7, 'previously': 14, 'signature': 45, 'asterisk': 12, 'dequeue': 4, 'ellipse': 8, 'omniauth+facebook': 1, 'filehandlers': 1, 'loggingproperties': 1, 'specifiy': 1, 'everywhere': 4, 'gl': 3, 'listboxitem': 5, 'devices': 57, 'jackjson': 1, 'torquebox': 1, 'anyone': 34, 'getjson': 19, 'projectjson': 1, 'win10': 2, 'targeted': 3, 'tofile': 1, 'atomically': 4, 'jdatepicker': 1, 'anyclass': 1, 'customizing': 23, 'error_messages_for': 1, 'microsoftsharepointdll': 2, 'wss': 1, 'isvisibleproperty': 1, 'psycopg2': 3, 'exotic': 1, 'stubless': 1, 'hexadecimal': 32, 'skills': 6, 'newline': 56, 'multitree': 1, 'libyaml': 2, 'filesystem': 11, 'developer': 39, 'activities': 11, 'autoalign': 1, 'assignments': 10, 'getsupportfragmentmanager': 2, 'adapterviewonitemclicklistener': 1, 'smtpclientdispose': 1, 'processstart': 14, 'animating': 19, 'indexpath': 6, 'redoing': 1, 'analytics': 58, 'restart': 48, 'ce': 27, 'lose': 11, 'preferably': 10, 'terminator': 3, 'nfs': 2, 'select2': 23, 'php_ldapdll': 1, 'situation': 9, 'regenerating': 3, 'square': 47, 'aspect': 21, 'ratio': 24, 'selectedindexchange': 2, 'dataitem': 4, 't1': 1, 't2': 1, 'hook': 38, 'get_the_content': 1, 'systemnethttputilityhtmlencode': 1, 'runtimebinderexception': 2, 'fluent': 24, 'childparentid': 1, 'parentid': 2, 'filecontentresult': 2, 'securest': 2, 'smalles': 1, 'biggest': 9, 'sent': 97, 'cgcontextclosepath': 1, 'cgcontextbeginpath': 1, 'guard': 4, 'icephp': 1, 'mysqli_query': 11, 'meteor': 64, 'derive': 7, 'zoneid': 1, 'zoneoffset': 1, 'recv': 9, 'xpathresolver': 1, 'hosting': 33, 'dio': 1, 'linkedin': 25, 'authorizing': 1, 'gcm': 22, 'javaappletapplet': 1, 'returned10': 1, 'piece': 7, 'navigating': 13, '000080': 1, '4digit': 1, 'military': 3, 'hour': 50, 'crop': 32, 'intelligent': 3, 'textcontent': 1, 'boostasio': 25, 'task_io_service': 1, 'io_service': 3, 'gridbaglayout': 2, 'weight': 6, 'joining': 22, 'imagingcore': 1, 'proptype': 1, 'prop': 10, 'postscontainer': 1, 'profiling': 14, 'hadoop': 59, 'cleanup': 9, 'var': 70, 'multicharacter': 3, 'atof': 1, 'cgi': 26, 'c++11': 48, 'base64outputstream': 1, 'decorator': 21, 'dplyr': 31, 'classcastexception': 12, 'mainactivity': 3, '503': 8, 'non200': 1, 'podspec': 1, 'systemlinqdynamic': 2, 'controlclientid': 1, 'stringscanner': 1, 'lexing': 1, 'htmlcheckbox': 3, 'htmlcheckboxfor': 3, 'ssl_connect': 1, 'returned1': 2, 'errno0': 1, 'statesslv3': 1, 'certificate': 78, 'heterogeneous': 2, 'explain': 45, 'dock': 9, 'javautilregexpatternsyntaxexception': 3, 'postgres': 47, 'unminimize': 1, 'positioned': 6, 'bringing': 5, 'loader': 19, 'yield': 14, 'qmetaobjectinvokemethod': 2, 'reversed': 9, 'branching': 5, 'replacment': 1, 'maybe': 10, 'proc_open': 3, 'z': 19, 'friends': 27, 'ping': 4, 'chomedriver': 1, 'japanese': 14, 'phpqrcode': 1, 'scrollviewwillbegindragging': 1, 'responding': 17, 'undo': 9, 'onetomany': 34, 'allocation': 40, 'stdmake_shared': 1, 'allocate': 33, 'usbgpsreceiver': 1, 'newlines': 18, 'excluding': 30, 'seamless': 3, 'payu': 1, 'payment': 33, 'gateway': 21, 'dataurl': 5, 'referring': 5, 'increasing': 24, 'subsequence': 5, 'logarithm': 2, 'nsnumber': 9, '#2140': 1, 'greek': 11, 'notation': 43, 'imply': 5, 'outputting': 24, 'xhtml': 13, 'ask': 16, 'win': 26, 'textinput': 6, 'viewmodels': 8, 'colsums': 1, 'sqlserver': 8, 'board': 12, 'cover': 7, 'markers': 66, 'implements': 25, 'syncroot': 2, 'stackpanel': 4, 'orientation': 44, 'dbcontext': 18, 'decrease': 6, 'gtkmozembed': 2, 'encodingbase64': 1, 'effects': 20, 'persistent': 27, '__nsarraym': 5, '0x34df0900': 1, 'pull': 33, 'format_map': 1, 'runnnig': 1, 'mixed': 27, 'nonnested': 3, 'pseudoelement': 1, 'afters': 1, 'smiley': 1, 'viewer': 28, 'abilities': 1, 'specifically': 17, 'viewing': 12, 'reporting': 32, 'purposes': 9, 'fbeventsubscribe': 2, 'delegatebegininvoke': 2, 'jboss': 79, 'deployment': 48, 'javalangunsupportedclassversionerror': 7, 'addition': 18, 'servletapijar': 1, 'touchbased': 1, 'mapkit': 13, 'max_expansion': 1, 'tfs': 10, 'fillrect': 4, 'cached': 19, 'gettype': 2, 'runtimetype': 1, 'nsiprocess': 1, 'beanmessage': 1, 'skins': 1, 'sse': 2, 'aspnet4': 1, 'minification': 7, 'cpanel': 11, 'strip': 33, 'agility': 22, 'pack': 37, 'buffered': 8, 'droplist': 1, '__unicode__': 1, '__str__': 1, 'gravity': 6, 'hashed': 4, 'msgbox': 2, 'mediaplayer': 7, 'isplaying': 1, 'utc': 38, 'contact': 43, 'systemdiagnosticsprocess': 3, 'cprogram': 6, 'x86': 13, 'expresstextfilesactiveuserstxt': 1, 'crashing': 32, 'array_chunk': 1, 'failure': 86, 'jlabel': 36, 'settext': 9, 'tableviewcell': 6, '11g': 3, 'xe': 4, 'portuguese': 1, 'ptbr': 1, 'restarting': 14, 'xdocumentdescendants': 1, 'somethinghere': 1, 'cities': 5, 'europe': 2, 'messege': 1, 'circle': 56, 'kinds': 4, 'timestamps': 14, 'explanation': 31, 'presses': 12, 'legal': 10, 'profiler': 10, 'antlr': 2, 'decoupling': 1, 'evaluation': 16, '__php_incomplete_class': 1, '_session': 15, 'dns_get_record': 2, 'xsl': 15, 'crypto': 5, 'writes': 16, 'stderr': 4, 'numpymean': 1, 'minimized': 7, 'i++': 9, '++i': 3, 'treevew': 1, 'scheduler': 19, 'quantifier': 4, 'essential': 2, 'mutual': 2, '2way': 2, 'automation': 20, 'kb': 5, 'listkeyvaluepairstring': 2, 'gauge': 6, 'grails': 24, 'third': 38, 'mockbean': 1, 'nouniquebeandefinitionexception': 1, 'objectid': 9, 'jit': 2, 'segfaults': 2, 'replacing': 103, 'ignoring': 55, 'punctuation': 13, 'cellforrowatindexpath': 10, 'systemunauthorizedaccessexception': 3, 'hashcode': 12, 'unencoded': 1, 'ampersands': 3, 'tabbed': 8, 'quering': 1, 'synchronised': 1, 'taskxresult': 1, 'numpyarray': 4, 'bytestring': 1, 'g': 17, 'occurring': 6, 'ajaxified': 1, 'menus': 25, 'observe': 13, 'observable': 41, 'v3': 101, 'indents': 1, 'continue': 34, 'dpi': 3, 'html2canvas': 2, 'bowerjson': 2, 'packages': 58, 'u014d': 1, 'blur': 20, 'contained': 28, '41+': 1, 'priority_queue': 2, 'postinvalidate': 1, 'nonui': 5, 'liststruct': 1, 'boxed': 3, 'scipyioloadmat': 1, 'couchbase': 6, 'bulk': 28, 'akka': 5, 'successfully': 24, 'readprinter': 1, 'winspooldrv': 1, 'update_all': 1, 'hundred': 4, 'cfg': 2, 'databasephp': 1, 'customization': 1, 'uwp': 23, 'nth': 23, '403': 31, 'forbidden': 23, 'beneath': 2, 'payroll': 2, 'fileinput': 4, 'savefig': 1, 'error14077438ssl': 1, 'routinesssl23_get_server_hellotlsv1': 1, 'arraystoreexception': 1, 'smarty': 18, 'landing': 2, 'mapconst_iterator': 1, 'coding': 43, 'imap': 25, 'chance': 10, 'digit': 52, 'box2d': 4, 'lua_pushcfunction': 1, '__init__': 14, 'frozenset': 1, 'props': 9, 'await': 54, 'ec2': 20, 'www': 10, 'recaptcha': 21, 'preserve': 36, 'uptodate': 4, 'games': 7, 'configurable': 12, 'poms': 2, 'modeladmin': 4, 'qgraphicsview': 4, 'qtcreator': 11, 'getmethodid': 1, 'polymer': 27, 'instruct': 2, 'ajax_select': 1, 'javadocs': 3, 'touri': 1, 'unwise': 1, 'queryselector': 3, 'delivery': 7, 'signals': 13, 'concerns': 5, 'unload': 15, 'approach': 56, 'sqlmethodsdatediffmonth': 1, 'popover': 14, 'manual': 24, 'visualize': 6, 'ghost': 2, 'selectmenu': 5, 'sequencial': 1, 'celleditending': 2, 'commits': 4, 'nas': 9, 'either': 43, 'wp7': 20, 'datetimefield': 8, '_server': 22, 'http_host': 1, 'curve': 14, 'loglog': 2, 'disclosure': 1, 'x64': 22, 'bluetooth': 42, 'le': 3, 'uriinvalidurierror': 1, 'scheme': 17, 'accept': 80, 'wrappers': 3, 'worth': 10, 'webelement': 5, 'tcpresolverquery': 1, 'arabic': 16, 'httpclientpostasync': 4, 'w+': 2, 'subcategory': 5, 'applicationpoolidentity': 1, 'networkservice': 2, 'unavailable': 23, 'htmlentities': 3, 'htmlspecialchars': 6, 'winttopointercast': 1, 'sizewithattributes': 1, 'inaccuracy': 1, 'winrt': 24, 'checkable': 2, 'iso': 23, '8601': 7, 'experiences': 2, 'ideas': 12, 'selectedrow': 1, 'memorycacheset': 1, 'removed': 17, 'similarity': 5, 'packets': 19, 'packet': 16, 'tweet': 12, '__getattribute__': 1, 'benefit': 16, 'assemblyinfocs': 1, 'junit4': 4, 'ref': 19, 'javadoc': 26, '75': 10, 'cumulative': 7, 'sqlcontext': 2, 'subquery': 12, 'unwind': 3, 'trycatch': 22, 'historyback': 3, 'coming': 20, 'de': 9, 'hybi': 1, 'kit': 16, 'surface': 19, 'userdata': 4, 'halt': 3, 'dispatched': 2, 'projectnameexe': 1, 'breakpoint': 12, 'typeof': 7, 'seperated': 5, 'sample': 45, 'solve': 84, 'javamathbigdecimal': 3, 'ljavalangobject': 5, 'formsform': 2, 'minimize': 14, 'arraymap': 3, 'utilities': 2, 'clonestylefrom': 1, 'borderstyle': 1, 'monitoring': 21, 'djangoadmin': 10, 'ib_designable': 1, 'hashes': 42, 'strong': 9, 'unformatted': 1, 'newly': 17, 'extrapolation': 1, 'filtered': 11, 'limitto': 2, 'extending': 56, 'functionality': 53, 'setdisplayhomeasupenabled': 1, 'actionbar': 6, 'httpcontextbase': 2, 'systemio': 1, 'visualbasicfileio': 1, 'loses': 13, 'push_back': 7, 'nfc': 2, 'nfca': 1, 'scheduling': 5, 'clicki': 1, 'imagebutton': 6, 'sentences': 6, 'paragraph': 27, 'positions': 21, 'systemtimer': 4, 'threadingtimer': 5, 'javautilscanner': 4, 'elapsedeventhandler': 1, 'arraysort': 3, 'positioning': 26, 'actively': 11, 'pelement': 1, 'considered': 17, 'canvastodataurl': 5, 'base64_encode': 3, 'javascriptserializer': 2, 'arbitrarily': 2, 'listobject': 15, 'subwords': 1, 'unreferenced': 1, 'javautildate': 20, 'fscanf': 16, 'panda': 4, 'deep': 32, 'pyspark': 21, 'outerjoin': 1, '#hellocontroller0x101d7edb0': 1, 'downloadfileasync': 1, 'fbsdkloginmanager': 1, 'loginwithreadpermissions': 1, 'monitor': 37, 'launches': 3, 'prompting': 4, 'express': 93, 'edition': 13, 'enumerable': 4, 'treated': 4, 'low': 20, 'stable': 10, 'served': 6, 'rollback': 19, 'materialized': 4, 'rubygem': 7, 'setinteger': 1, 'arraylistentity_bikeshoprepair': 1, 'applicable': 17, 'presenter': 3, 'styling': 32, 'unpacking': 4, '__declspec': 5, 'pairs': 60, 'multipart': 39, 'ctrl+t': 1, 'ctrl+n': 1, 'mojo': 1, 'multiline': 42, 'osgetcwd': 4, 'system32': 2, 'accepts_nested_attributes_for': 5, 'practical': 8, 'optimistic': 2, 'locking': 34, 'expired': 15, 'selector': 109, 'lual_register': 1, 'mailform': 1, 'attachment': 41, 'impact': 7, 'redundant': 5, 'eventpagex': 1, 'eventpagey': 1, 'mcr': 1, 'periodically': 13, 'goto': 3, 'handshake': 24, 'bio': 2, 'base_url': 3, 'uisplitviewcontroller': 5, 'uinavigationcontroller': 32, 'pre_controller': 1, 'stls': 6, 'pieces': 9, 'ticks': 14, 'build_nativepy': 1, '3+mini': 1, 'divs': 84, 'shrinking': 4, 'getcurrentposition': 2, 'listcustomobject': 1, 'pipes': 16, 'cs0120': 1, 'health': 3, 'suppress': 22, 'advanced': 24, 'thinking': 3, 'caesar': 6, 'cipher': 16, 'c4430': 4, 'specifier': 17, 'assumed': 4, 'note': 8, 'defaultint': 2, 'xmx': 6, 'amounts': 12, 'jade': 24, 'inkblot': 1, 'textfieldtext': 1, 'matter': 8, 'outlet': 4, 'faq': 2, 'risk': 2, 'overwriting': 16, 'legend': 45, 'guide': 17, 'nan': 35, 'tried': 25, 'parseint': 8, 'zipfile': 5, 'urldecoder': 1, 'instagram': 27, 'datatarget': 4, 'iterable': 11, 'httpclientgetasync': 2, 'violating': 1, 'dataframes': 36, 'ico': 2, 'prefered': 2, 'browserify': 9, 'mainjs': 3, 'chronometer': 1, 'multiplying': 11, 'powers': 3, 'met': 8, 'supersized': 3, 'ostream': 4, 'mvc5': 16, 'laravels': 4, 'resulted': 3, 'transport': 13, 'selectdrows': 1, 'provided': 27, 'pem': 8, 'packageinfojava': 3, 'movable': 4, 'stratego': 1, 'stat': 6, 'located': 15, 'ood': 2, 'touble': 1, 'docall': 2, 'validates_presence_of': 1, 'after_initialize': 1, 'frontend': 25, 'mongoid': 35, 'mongolab': 1, 'hq': 1, 'addons': 3, 'feeding': 2, 'newdata': 1, 'predict': 9, 'displayname': 1, 'zipped': 7, 'oschmod': 1, 'selectedoptions': 1, 'wav': 13, 'allowing': 25, 'gdi+': 15, 'axes': 17, 'extent': 3, 'raster': 5, 'modelformsets': 1, 'managementform': 1, 'tampered': 1, 'enconding': 1, 'documentready': 9, 'nightmare': 2, 'unfinishedstubbingexception': 1, 'thenreturn': 2, 'depended': 1, 'aggregate': 37, 'listx': 2, 'analysis': 15, 'scores': 6, 'drf': 3, '301': 8, 'writable': 13, 'nestedfields': 1, 'list_filter': 1, 'nonarc': 1, 'quit': 17, 'jwindow': 2, 'syntaxerrorexception': 1, 'datatablecompute': 1, 'systemwindowsinteractivity': 1, 'printf': 60, 'important': 10, 'hell': 5, 'var_dump': 8, 'myvar': 1, 'die': 8, 'listen': 33, 'eaddrinuse': 1, 'blinking': 6, 'remain': 11, 'webconfig': 48, 'formula': 28, 'pie': 32, 'jenkin': 1, 'listtype': 2, 'say': 10, 'wifi': 16, 'golang': 3, 'structuring': 3, 'wednesday': 4, 'asprepeater': 1, 'columnname': 2, 'operators': 43, '26': 17, 'linearly': 1, 'formatcemployeesaccdb': 1, 'windowcurrentcontent': 1, 'wiring': 6, 'xsendfile': 1, 'resumesupport': 1, 'time_wait': 1, 'multistage': 1, 'enumgetunderlyingtype': 1, 'binarytree': 3, 'employee': 2, 'pthreads': 18, 'unexpectedly': 21, 'unwrapping': 5, 'exc_bad_instruction': 5, '0x00000000': 4, 'beep': 4, 'structs': 59, 'camelcase': 6, 'densities': 1, 'stripe': 17, 'membership': 18, 'servletrequest': 1, 'objc': 34, 'marked': 16, 'typelibtype': 1, 'typelibtypeflagsfhidden': 1, 'intellisense': 25, 'subwindow': 1, 'perl': 32, 'adminautodiscover': 1, 'cone': 1, 'cylinder': 2, 'routesrb': 5, 'crm': 35, '2011': 26, 'proportionally': 4, 'propertychange': 2, 'html5s': 1, 'socketpair': 2, 'uitabbar': 7, 'syntaxerror': 67, 'timed': 31, 'conversation': 2, 'sslsocket': 1, 'jira': 4, 'reacttoolboxs': 1, 'defining': 39, 'jasperreport': 8, 'directory_separator': 1, 'accessible': 33, 'taskwaitall': 2, 'alive': 18, 'webinf': 23, 'labels': 104, 'pheatmap': 1, 'think': 13, 'outs': 1, 'datatypemismatchincriteriaexpressionerror': 1, 'favored': 1, 'endswith': 2, 'grunt': 21, 'ashx': 8, 'nullable': 23, 'theres': 10, 'tie': 2, 'whos': 2, 'occurance': 5, 'val': 20, 'generalized': 3, 'expandgrid': 3, 'entrypoint': 2, 'assured': 1, 'subdirectory': 12, 'covariance': 3, 'jpg': 39, 'applicationcontext': 7, 'randomsample': 2, 'randomshuffle': 1, 'associations': 16, 'radnumerictextbox': 1, 'ef': 66, 'alertdialog': 12, 'mvvmcross': 3, 'simplify': 9, 'inputted': 7, 'mouselistener': 1, 'rabbitmq': 14, 'mootools': 28, '33': 20, 'blocked': 28, 'iis7': 17, 'referrer': 6, 'formatting': 121, 'conversely': 1, 'systemthreadingabandonedmutexexception': 1, 'abandoned': 3, 'systemsecurityprincipalwindowsidentitygetcurrent': 1, 'chromes': 7, 'inspect': 10, 'thin': 4, 'connectionpool': 3, 'mpmovieplayercontroller': 16, 'playing': 36, 'kafka': 16, 'polling': 12, 'removeall': 3, 'decrypt': 38, 'unmarshal': 5, 'jaxbcontextfinder': 1, 'charsetutf8': 4, 'datatablesjs': 1, 'qwidget': 7, 'irrespective': 2, 'parents': 24, 'lpvoid': 1, 'memcachd': 1, 'columng': 1, 'stlmap': 2, 'android_asset': 2, 'loginjs17': 1, 'evaluates': 1, 'signtool': 1, 'locator': 2, 'invalidselectorexception': 1, 'replaces': 6, 'servers': 38, 'editprofile': 1, 'xms': 3, '10054': 4, 'x2746': 1, 'comboboxs': 2, 'placement': 13, 'vars': 9, 'j2me': 15, 'runner': 8, 'inconclusive': 1, 'activeadmin': 28, 'partials': 4, 'shorts': 2, 'statically': 7, 'nspredicate': 13, 'jwt': 12, 'necessarily': 2, 'getgeneratedkeys': 1, 'uitabbaritem': 3, 'dataattribute': 1, 'csrf': 33, 'verification': 16, 'classic': 18, 'requestfocus': 1, 'uitablevieweditingstyle': 1, 'chtmllink': 1, 'rubygems': 11, 'polyline': 13, 'g++': 56, 'esp': 2, 'mousehover': 1, 'multibyte': 7, 'templatecache': 2, 'jcombobox': 7, 'guards': 2, 'deciphering': 2, 'unscrambler': 1, 'reactchartjs': 1, 'appreciated': 1, 'javalangerror': 2, 'recode': 1, 'datetimedatetime': 3, 'printers': 1, 'populated': 24, 'follow': 33, 'mavenglassfishplugin': 1, 'mapped': 25, 'databind': 18, 'crossbrowser': 14, 'icc': 1, 'gdbinit': 1, 'prettyprinters': 1, 'servletrequestgetparameter': 1, 'servletrequestutilsgetstringparameter': 1, 'dataframesum': 1, 'as_matrixsum': 1, 'fake': 11, 'programmatical': 1, 'indicating': 3, 'statistically': 2, 'significant': 12, 'megabytes': 2, 'mqqueue': 1, 'playground': 4, 'subvector': 1, '65': 4, 'modern': 16, 'pathgetpointatlength': 1, 'assemblies': 14, 'fancybox': 47, 'annotated': 15, 'systemcollectionsgenericlist': 3, 'systemdatadataset': 2, 'uninstall': 24, 'lion': 23, 'dependencysource': 1, 'dependencyobject': 2, 'scrollbar': 40, 'horizontalscroll': 1, 'autosave': 4, 'programmatic': 8, 'adldap': 1, 'belongs': 6, 'unhashable': 5, 'fingerprint': 4, 'recognized': 41, 'theta': 2, 'characterization': 1, 'user_url': 2, 'repairing': 1, 'unreadable': 6, 'inputbox': 3, 'monotouch': 9, 'concurrentlinkedqueuet': 1, 'mutator': 2, 'robot': 9, 'holiday': 2, 'datatask': 2, 'crossdomain': 14, 'customizable': 4, 'linebreak': 3, 'knockback': 1, 'shooting': 3, 'unity3d': 29, 'settingsauth_user_model': 1, 'truthy': 2, 'calculated': 12, 'hangman': 5, 'dosnt': 2, 'nonjqgrid': 1, 'zonejs355': 1, 'stocks': 2, 'interrupt': 15, 'raw_input': 7, 'nonenumerated': 1, '#activerecordrelation': 1, 'beautiful': 28, 'visualstudio': 7, '41': 26, 'externally': 4, '52': 28, 'bundlergemnotfound': 3, 'rake1032': 2, 'sources': 25, 'customunboundcolumndata': 1, 'isolate': 9, 'systemwindowsformswebbrowser': 4, 'appsettingsjson': 1, 'mongocollection': 2, 'dbcollection': 1, 'pinned': 2, 'anyobject': 13, 'pythons': 48, 'strjoin': 1, '16': 43, 'celery': 36, 'radiobuttons': 4, 'nulltext': 1, 'beforeunload': 4, 'worker': 29, 'systemcurrenttimemillis': 6, 'xp': 22, 'bodmas': 1, '400': 28, 'payload': 19, 'radius': 15, 'lighting': 4, 'javaiofile': 2, 'filterstart': 1, 'responded': 4, 'typenot': 1, 'status404': 1, 'coalesce': 4, 'believe': 1, 'formbased': 5, 'chained': 4, 'sigabrt': 1, 'appdelegateh': 2, 'repair': 1, 'regularexpression': 2, 'doxygen': 16, 'expand_as_defined': 1, 'mingws': 2, 'gdbexe': 1, 'woes': 3, 'sigquit': 2, 'delays': 3, 'parentheses': 27, 'capitalization': 2, 'samsung': 4, 'mono': 41, 'fullcalendar': 39, 'javalangillegalthreadstateexception': 2, 'cors': 39, 'columntext': 2, 'ivalidatableobject': 1, 'innertext': 7, '15x': 2, 'boosttimerauto_cpu_timer': 1, 'setupcfg': 1, 'setuppy': 4, 'blink': 5, 'arraysfill': 2, 'aggregates': 2, 'funct': 4, 'funcobject': 1, 'acr': 1, 'aes128': 2, '+factory': 1, 'malformedjsonexception': 1, 'basepackage': 1, 'componentscan': 2, 'subpackage': 1, '0x8': 1, 'activeresource': 2, '0xc0000005': 7, '0x00000004': 2, 'ienumerablechar': 1, 'xwwwformurlencoded': 5, 'programmaticaly': 1, 'surfaceview': 6, 'setzorderontop': 1, 'professional': 6, 'enterprise': 6, 'bxslider': 1, 'methodname': 3, 'defaults': 8, 'formed': 7, 'secondary': 9, 'manytomany': 46, 'arraymyitem': 1, 'jlist': 3, 'lme': 3, 'repaint': 9, 'currentthreadabort': 2, 'considerations': 2, 'allowexternal': 1, 'translations': 4, 'origin': 28, 'stylesheet': 19, 'refreshed': 4, 'welcome': 13, 'odata': 25, 'icontroller': 1, 'stdvectorstdvectort': 1, 'initialisation': 6, 'javalang': 1, 'executors': 1, 'localhost8080': 7, 'richfaces': 12, 'modalpanel': 1, 'lxmlhtml': 5, 'findby': 7, '#ifdef': 5, 'controlling': 16, 'ff': 17, 'ultimate': 5, 'bindingsource': 9, 'dictionarylike': 1, '1000': 26, 'downcast': 2, 'colour': 53, 'fall': 8, 'sees': 3, 'porting': 8, 'recreated': 1, 'cv_8uc3': 1, 'stand': 18, 'towards': 4, 'unescape': 8, 'cstyle': 4, 'choices': 21, 'ld': 12, 'lgl': 2, 'iserror': 1, 'documentlocation': 2, 'webappcontext': 2, 'extraclasspath': 1, 'stringmatches': 2, 'vowel': 3, 'bytearray': 10, 'callable': 35, 'iserializable': 2, 'subscribe': 11, 'senders': 2, 'cocoapods': 17, 'pods': 8, 'plus': 43, 'allows': 21, 'sysgetsizeof': 1, 'unreasonably': 1, 'geting': 5, 'emitted': 2, 'identifying': 11, 'indexes': 34, '101': 4, 'neterr_connection_reset': 2, 'ext': 16, 'picking': 8, 'iterables': 2, 'ee': 41, 'advice': 19, 'threadclass': 1, 'divstyleleft': 1, 'divstyletop': 1, 'opencvs': 2, 'mousecallback': 1, 'ansi': 14, 'pdostatementexecute': 1, 'twodigit': 2, 'cp': 4, 'suming': 1, 'getlocalresource': 1, 'smtplib': 2, '22x': 2, 'dgv': 3, 'appropriate': 23, 'localization': 23, 'httpvaluecollection': 1, 'namevaluecollection': 4, '252': 3, 'reform': 1, 'later': 30, 'httpserver': 3, 'cingetline': 1, 'cin': 12, 'ties': 2, 'tabsphtml': 1, 'dismissing': 6, 'read_html': 2, 'stackd': 1, 'mallocd': 1, 'freed': 12, 'vcforpython27': 1, 'vcvarsallbat': 2, 'ndk': 29, 'app_stl': 1, 'applicationmk': 1, 'nsexpression': 2, 'multimap': 3, 'configured': 23, 'torrent': 4, 'covered': 5, 'cllocationcoordinate2d': 2, 'described': 1, 'djangobook': 1, 'httprequestmessage': 6, 'findchild': 1, 'seed': 29, 'parentdocument': 1, 'scrolltop': 11, 'sop': 1, 'period': 26, 'hitting': 17, 'capable': 4, 'generally': 2, 'oop': 42, 'errorunable': 1, 'gmt': 14, '1582': 1, 'from_unixtime': 1, 'docs': 11, 'whlie': 1, 'endless': 8, 'customize': 43, 'flatten': 21, 'urlparameter': 1, 'modelrules': 1, 'messagedialog': 1, 'underused': 1, 'visualization': 15, 'djangos': 23, 'filefield': 5, 'exif': 2, 'smaller': 32, 'maintain': 34, 'attributte': 1, 'reducing': 12, 'fputcsv': 1, 'resttemplate': 6, '361': 1, 'httpwebrequests': 1, 'timing': 10, 'defaulttargeturl': 1, 'file_put_contents': 6, 'saves': 7, 'half': 9, 'unselect': 1, 'fourier': 4, 'nonrails': 1, 'avmutablecomposition': 1, 'executebatch': 2, 'php5ini': 1, 'godaddy': 9, 'consuming': 28, 'aspxcs': 4, 'alamofire': 23, 'insufficient': 4, 'aload': 1, 'magnific': 1, 'xlsx': 30, 'shadowed': 1, 'versioned': 1, 'socketsetsotimeout': 1, 'tutorial': 84, 'retain': 28, 'claim': 2, 'cs0103': 2, 'pil': 47, 'allowempty': 1, 'cameras': 6, 'cloning': 17, 'recordset': 4, 'j2ee': 14, 'scratch': 9, 'maplist': 1, 'distance_of_time_in_words': 1, 'windowlocationhash': 3, 'mappings': 12, 'nonuniqueresultexception': 1, 'alphabets': 7, 'multiples': 7, 'conditions': 67, 'apns': 10, 'providers': 6, '533': 1, 'session_start': 21, 'kills': 3, 'diamond': 4, 'python+sqlite': 1, 'comboboxes': 4, 'descendant': 1, 'wrapped': 15, 'inaddr_any': 1, 'lineartime': 1, 'centos': 21, '54': 27, 'indexing': 24, 'dashes': 8, 'cgridview': 7, 'accepting': 20, 'suddenly': 15, 'x86mingw32': 1, 'stating': 2, 'modeldbcontext': 1, 'texfield': 2, 'italic': 5, 'jcheckbuttons': 1, 'formerly': 1, 'mathematical': 13, 'jface': 1, 'zend_file_transfer_adapter_http': 1, 'sdl': 13, 'rgb': 52, 'dfdtypes': 1, 'userdetailsservice': 3, 'webservices': 20, 'sqlconnection': 11, 'defaultifempty': 1, 'selectedvalue': 8, 'pyc': 10, 'whilst': 9, 'beta': 18, 'jsig': 1, 'responds': 5, 'pairwise': 6, 'clarify': 2, 'pid': 12, 'qprocess': 1, 'systemdatasqltypessqltypeexception': 1, 'sqldatetime': 2, 'manifestmf': 2, 'markup': 13, 'actionsheet': 3, 'pccf02102': 1, 'preprocessing': 3, 'aix': 1, 'datatextfield': 2, 'aspnets': 4, 'hyperlinkcolumn': 1, 'vector2': 2, 'crosses': 1, 'registering': 19, 'dialpaddesignercs': 1, 'springservletxml': 2, 'rownames': 5, 'updown': 1, 'overflowhidden': 3, 'ci_reporter': 1, 'titlebar': 3, 'flipside': 1, 'summing': 5, 'chartimage': 1, 'ppt': 11, 'setinterval': 42, 'httpstatus': 2, 'responsestatus': 1, 'myprojectjar': 1, 'csvfile': 1, 'representation': 28, 'willing': 1, 'disclose': 1, 'ranking': 2, 'sheetnames': 1, 'velocity': 3, 'communications': 5, 'interrupting': 3, 'optionally': 3, 'setdata': 5, 'breakpoints': 12, 'ddd': 5, 'great': 5, 'resfull': 1, 'marshalbyreftype': 1, 'normally': 7, 'az': 12, 'aspradiobutton': 1, 'reliable': 16, 'requestgetheader': 3, 'referer': 7, 'isset': 15, 'drawer': 12, 'banner': 8, 'java_home': 10, 'referenced': 57, 'mention': 2, 'unfocused': 3, 'mysql_result': 5, 'orto': 1, 'catalogsearch': 1, 'utf': 8, 'whitespaces': 9, 'firewall': 5, 'istallation': 1, 'launched': 6, 'rescue': 3, 'gem_name': 1, 'errorexecution': 4, 'apppredexdebug': 1, 'orggradleprocessinternalexecexception': 1, 'timeline': 14, '713': 1, 'stringstream': 6, 'fontawesome': 8, 'itertoolsislice': 1, 'redo': 2, 'renderbody': 1, '_layoutcshtml': 1, 'persession': 2, 'bootstraptreeview': 1, 'dbcontextsavechanges': 1, 'charlock_holmes0694': 1, 'picker': 54, 'routeprovider': 10, 'disappearing': 11, 'coerces': 1, 'urlconnection#getinputstream': 1, 'urlconnection#getoutputstream': 1, 'multicolumn': 7, 'jquerygetscript': 2, 'lnameofthelibrary': 1, 'rubyproper': 1, 'datestep': 1, 'systemint16': 1, '1054': 7, 'nongeneric': 7, 'ilist': 17, 'ilistt': 6, 'typecasting': 7, 'indexof': 21, 'negate': 1, 'storage': 86, 'spent': 5, 'concise': 5, 'dialogpreference': 1, 'httppost': 20, 'modelstate': 4, 'nets': 6, 'pathcombine': 3, 'slashes': 15, 'backslashes': 6, 'uprofile': 1, 'crawling': 9, 'uncerficated': 1, 'iojs': 1, 'electron': 15, 'guessing': 12, 'posible': 2, 'respone': 1, 'xslt': 28, 'dllmain': 2, 'serves': 1, 'static_castconst': 2, 'generictype': 1, 'jsonstringify': 12, 'programm': 1, 'inbox': 6, 'x32': 1, 'testsuite': 5, 'nonstatic': 32, 'c+1': 1, '256': 11, 'videocaptureopen': 1, 'renaming': 22, 'servertransfer': 2, 'appjs': 5, 'simple_form': 15, 'a4jstatus': 1, 'hcommandbutton': 2, 'httpwebresponse': 4, 'comprehensive': 3, 'elementwise': 11, 'jaxrs': 40, 'determining': 27, 'popped': 1, 'destroyed': 9, 'rfriendly': 1, 'sentestingkit': 1, 'xamarinforms': 17, 'crossplatform': 20, 'stringfilter': 1, 'multivalue': 4, 'twoway': 8, 'elementfrompoint': 1, 'r2': 7, '232': 2, '186': 1, '235': 2, 'activesupportdependenciesmutex': 2, 'discord': 3, 'typedatetime': 1, 'swipegesture': 1, 'gdb': 40, 'xampp': 63, 'win7': 6, 'field_with_errors': 1, 'usertype': 3, 'ismutable': 1, 'ospathisfile': 3, 'static_cast': 7, 'dynamic_cast': 5, 'javasqldate': 7, 'eod': 2, 'datainputstreamreadutf': 1, 'htm': 5, 'responsewritefile': 1, 'massive': 8, 'vs2010': 25, 'chunks': 12, 'qty': 2, 'protected': 44, 'readonly': 55, 'pyplot': 11, 'sitecore': 6, 'analog': 9, 'onto': 24, 'waitforsingleobject': 5, '_beginthreadex': 2, 'icomparer': 1, 'collectionassert': 1, 'reactredux': 1, 'dataview': 6, 'mountain': 2, 'peer': 18, 'djangocoreexceptionsimproperlyconfigured': 2, 'javabeans': 1, 'inputstreamreader': 3, 'isdate': 1, 'ps': 2, 'sends': 13, 'fx': 7, 'macrolike': 1, 'metaprogramming': 4, 'qimage': 5, 'comgooglegsongson': 1, 'eventsources': 1, 'rlapackdll': 1, 'interceptor': 9, 'recycler': 2, 'mysqlperformance': 1, 'complicated': 8, 'orgspringframeworkbeansfactorybeandefinitionstoreexception': 3, 'tabitems': 1, 'posixlt': 1, '79ffee24': 1, '80131506': 1, 'xmldomminidomparse': 1, 'cyrillic': 8, 'mutable': 11, 'webbased': 6, 'concept': 11, 'i18n': 24, 'qpushbutton': 7, 'cycle': 14, 'iterates': 1, 'json_encode': 41, 'v031': 1, 'dealloc': 15, 'windowcryptosigntext': 1, 'methodinvokingfactorybean': 2, 'invoked': 22, 'tells': 4, 'seemingly': 6, 'unrelated': 5, 'subchild': 1, 'duplex': 3, 'disconnection': 2, 'datatimelinechartedday': 2, 'udid': 1, 'provisioning': 3, 'integrityerror': 6, 'unmanaged': 22, '5x': 6, 'syncronized': 1, 'connected': 44, 'loaddata': 1, 'onclose': 2, 'onexit': 1, 'asker': 1, 'detachedcriteria': 1, 'detachedquery': 1, 'entitymanager': 18, 'impersonation': 3, 'hkey_current_user': 1, 'newtonsoft': 6, 't_variable': 11, 'tablename': 3, 'webrequest': 8, 'joshuas': 1, 'jsand': 1, 'validated': 6, 'deepcopy': 1, 'reconcile': 1, 'todays': 14, 'mm': 44, 'yyyy': 41, 'temporarily': 22, 'nslayoutconstraint': 3, 'dictionarystring': 12, 'dowhile': 6, 'mysql_num_rows': 8, 'euler': 8, 'visibility': 28, 'prints': 10, 'thisappendchild': 1, 'scrollto': 6, 'usertransactionsettransactiontimeout': 1, 'iso88592': 3, 'al16utf16': 1, 'nodefetch': 1, 'pending': 11, 'performseguewithidentifier': 5, 'authorization': 32, 'prefixes': 6, 'exceptionmessage': 3, 'ljavalangstring': 1, 'systemiofilenotfoundexception': 5, 'sharpsvndll': 1, 'sigwait': 1, 'css3': 33, 'javasqlsqlexception': 23, 'ora12518': 1, 'excecuting': 2, 'bits': 23, 'workaround': 18, 'intercept': 15, 'observer': 11, '1s': 3, 'visually': 4, 'markergetposition': 1, '_serialize': 1, 'complement': 8, 'synchronise': 3, 'braces': 18, 'delimeters': 1, 'transfer': 60, 'errorcommicrosoftsqlserverjdbcsqlserverexception': 1, 'near': 21, 'extras': 1, 'ds': 2, 'imageslider': 1, 'malfunctions': 1, 'arm64': 4, '_objc_class__sfsafariviewcontroller': 1, 'millionline': 1, 'serialport': 12, 'writetimeout': 1, 'dir': 10, 'comboboxitem': 2, 'adminpy': 1, 'save_model': 2, 'forcefully': 3, 'stringify': 8, 'engines': 9, 'illuminate': 1, 'tokenmismatchexception': 4, 'imgsrc': 3, 'springmvc': 17, 'presentation': 9, 'ot': 1, 'organize': 10, 'stdqueuet': 1, 'downgrade': 12, 'reentrantreadwritelock': 2, 'spot': 5, 'win32_computersystem': 1, 'oemstringarray': 1, 'basis': 8, 'bindingresult': 4, 'systemdrawingimage': 5, 'aspimage': 1, 'persistenceunit': 2, 'pg_config': 1, 'neural': 13, 'networks': 4, 'roc': 2, 'auc': 1, 'det': 2, 'salesforce': 14, 'dash': 18, 'dismiss': 18, 'ips': 4, 'reflect': 11, 'dataadapter': 3, 'scikitlearn': 16, 'tfidfvectorizer': 1, 'trackbar': 3, 'returing': 2, 'caller': 14, 'getgenerictypedefinition': 1, 'aborting': 6, 'gz': 3, 'scintilla': 1, 'dictget': 1, 'subject': 11, 'reencoding': 2, 'script438': 3, 'archetype': 4, 'ordered': 26, 'highgui': 1, 'spliting': 1, '2x': 19, 'inactivity': 8, 'corporate': 1, 'loglikelihood': 1, 'binomial': 3, 'distribution': 26, 'processor': 13, 'marshalled': 3, 'cxampphtdocsslrcreatedata2php': 1, '23': 18, 'coldfusion': 10, 'authetication': 1, '275': 2, '56': 6, 'viewdidload': 8, 'atob': 2, 'chess': 5, 'tokenize': 2, 'nonactiverecord': 1, 'current_user': 8, 'linkedhashmap': 3, 'transition': 52, 'expiration': 9, 'jmeter': 14, 'modifiers': 7, 'zendloaderautoloaderfactory': 1, 'init_autoloaderphp': 1, 'yii2user': 1, 'javaxejbtransactionrolledbacklocalexception': 2, 'devenvexe': 2, 'toplevel': 4, 'unified': 3, 'manner': 10, 'awt': 12, 'heavyweight': 1, 'webgl': 21, 'retina': 5, 'macbook': 3, 'pro': 10, 'geocoding': 14, 'expires': 7, 'renew': 3, 'ngbindhtml': 4, 'br': 37, 'kinects': 1, 'paint': 18, 'reportdatasource': 1, 'intell': 1, 'showed': 3, 'subscribing': 3, 'eventhandler': 7, 'retrieval': 10, 'sorteddictionary': 1, 'behalf': 2, 'mockmvc': 3, 'alreadysorted': 1, 'subsets': 8, 'formscharfield': 1, 'microsecond': 4, 'wallet': 2, 'oraclepkijar': 1, 'geom_map': 1, 'map_id': 1, 'u+1fxyz': 1, 'autowired': 15, 'modelalias': 1, 'modelname': 2, 'facescontextresponsecomplete': 1, 'classbased': 2, 'transitions': 9, 'javarminaming': 1, 'javarmiregistrylocateregistry': 1, 'entered': 35, 'fixedlength': 2, 'arrary': 1, 'flags': 13, 'authenticating': 8, 'vowels': 8, 'touppercase': 4, 'allowable': 1, 'exceeded': 31, 'autocovariance': 1, 'annotate': 11, 'summary': 15, 'statistics': 17, 'favorite': 3, 'introduced': 4, 'gpu': 6, '2410': 1, 'w10': 2, 'urllib2urlopen': 2, 'csvimport': 1, 'leading': 34, 'submenu': 11, 'confirm': 50, 'dropdownextender': 1, 'graphicsclearrect': 1, 'graphicsdrawrect': 1, 'inlineblock': 1, 'rich': 19, 'multithreadedmapper': 1, 'mapreduce': 22, 'manytomanyfield': 5, 'placeholder': 30, 'androidviewinflateexception': 7, '20gb': 1, 'errorlog': 1, 'uiwindow': 2, 'ordereddict': 3, 'dmg': 1, 'bitmapsource': 2, 'angle': 20, 'openshift': 13, 'av': 3, 'chromeruntimeoninstalled': 1, 'openfileoutput': 3, 'mbs': 1, 'communicatin': 1, 'monodevelop': 8, 'jarfile': 2, 'inherits': 9, 'directions': 11, 'reassign': 2, 'resultset': 41, 'pomxml': 19, 'log4jxml': 8, 'respondjs': 1, 'urlstring': 1, 'goes': 18, 'submitted': 17, 'databaselessleasing': 1, 'majority': 3, 'partition': 4, 'textinputcell': 1, 'labelling': 2, 'sanitize': 3, 'jq': 3, 'tinybox': 1, 'superclasses': 3, 'lexicographical': 1, 'msg': 9, 'cvreshape': 1, 'formset_factory': 1, 'aop': 11, 'pointcut': 3, 'specs': 3, 'mirah': 1, 'se': 12, 'orgxmlsaxsaxparseexception': 2, 'delimiter': 23, 'falsy': 2, 'obtained': 7, 'jqbootstrap': 1, 'bindingnavigator': 3, 'datetimenowticks': 1, 'consumption': 11, 'composer': 38, 'scroller': 3, 'transformscale': 1, 'affects': 9, 'uibootstrap': 5, 'bottleneck': 7, 'filenew_____': 1, 'partially': 12, 'trusted': 7, 'callers': 2, 'resolver': 4, 'appearance': 6, 'unsorted': 6, 'utils': 6, 'ppc': 1, 'commicrosoftsqlserverjdbcsqlserverexception': 4, 'memcached': 29, 'overlap': 14, 'superimpose': 2, 'stringempty': 3, 'nullwhich': 1, 'comgoogleandroidgmsinternalzzno': 1, 'flex': 11, 'httpservice': 1, 'wire': 4, 'httpurlconnection': 21, 'javaiobufferedreaderclose': 2, '51': 37, 'mouseclicks': 2, 'read_csv': 8, 'doublelinked': 1, 'downloadfilecompleted': 1, 'downloadprogresschanged': 1, 'orghibernatehqlastquerysyntaxexception': 1, 'nondelegate': 3, 'stars': 6, '490': 2, 'familiar': 1, 'windowaddeventlistener': 1, 'syncdb': 6, 'autoresize': 3, 'ex19c9510': 1, 'ought': 2, 'ctime': 3, 'ngif': 9, 'pymongo': 27, 'killing': 8, 'throttling': 2, 'spawned': 3, 'localizeddescription': 1, 'elemmatch': 1, 'ifstream': 7, 'compute': 29, 'cachebuilder': 2, 'mapmaker': 2, 'chromium': 2, 'imagefield': 14, 'windows8': 5, 'salesordershipmentlist': 1, 'order_increment_id': 1, 'struts': 61, 'logiciterate': 1, 'guice': 22, 'applying': 33, 'qvariant': 3, 'abstractmethod': 1, 'converter': 31, 'demo': 13, '1bit': 3, 'bitfields': 1, 'guidedtourplayground': 1, 'xcode6': 3, 'gotcha': 1, 'theater': 1, 'seat': 1, 'logo': 8, 'sqlcommand': 13, 'commandtext': 2, 'prettify': 1, 'orghibernatepropertynotfoundexception': 4, 'skspritenode': 4, 'skscene': 5, 'mri': 1, 'safety': 25, 'commandline': 21, 'lockbits': 3, 'stride': 4, '1bpp': 1, 'extalljs': 1, 'scrollbars': 12, 'sunday': 11, 'comes': 15, 'substract': 1, 'messagebodywriter': 2, 'perrequest': 1, 'key+value': 1, 'floatvalueof': 2, 'toint': 1, '214': 2, 'wxtextctrl': 2, 'lnk2019': 9, 'xmldocumentvalidate': 1, 'incorrectly': 16, 'namespaces': 41, 'xib': 26, 'comandroidfutureusbusbaccessory': 1, 'usbmanager': 1, 'mysqli_real_escape_string': 1, 'pygtk': 1, 'windowframeslength': 1, 'repositoryrestservice': 1, 'persistenceconfig': 1, 'million': 8, 'removefromsuperview': 5, 'population': 4, 'xpages': 1, 'datetextbox': 1, 'flowdocument': 1, 'listitem': 7, 'charcter': 2, 'effectively': 12, 'abort': 16, 'byreference': 1, 'bypointer': 1, 'attachdbfilename': 1, 'viceversa': 4, 'pkgconfig': 4, 'enhanced': 8, 'forloops': 4, 'debuggerstepthrough': 1, 'structerror': 2, 'unpack': 9, 'counts': 8, 'setrawcookie': 1, 'sslerror': 3, 'prototyping': 3, 'homework': 7, 'commission': 1, 'repeatedly': 5, 'morse': 2, 'ca': 7, 'hang': 18, 'dogfooding': 1, 'ratelimited': 1, 'clarifying': 1, 'insert_id': 2, 'libgcc_s_sjlj1dll': 1, 'tooptionarray': 2, 'antialiased': 3, 'synchronizationcontextcurrent': 1, 'become': 9, 'downloadbutton': 1, 'onpage': 1, 'javatextparseexception': 3, 'unparseable': 5, 'steam': 1, 'javaxjson': 1, 'varchar': 15, 'decomposition': 2, 'imageopacitymask': 1, 'newtonsoftjson': 9, 'serializeobject': 1, 'autowire': 13, 'selfcontradicting': 1, 'requirements': 12, 'xmltype': 2, 'session_set_cookie_params': 1, 'nsbundlemainbundle': 1, 'urlforresource': 2, 'bach1': 1, 'withextension': 1, 'asset_path': 2, 'log4js': 2, 'fileappenders': 1, 'cascading': 10, 'eventtarget': 6, 'changetrackerentries': 1, 'currentvalue': 1, 'originalvalue': 1, 'ef7': 4, 'unread': 6, 'rolling': 14, 'mechanisim': 1, 'babel': 7, '1211': 2, 'contour': 9, 'outline': 11, 'advance': 8, 'httpcontextrequestform': 1, 'iboutlets': 4, 'may': 51, 'asarray': 1, 'ember': 25, 'ngshow': 10, 'laravel4': 3, 'eat': 3, 'typeloadexception': 2, 'violates': 6, 'clearly': 6, 'violate': 1, 'trac': 1, 'rolemanager': 4, 'roles': 23, '401': 19, 'eap': 2, '63': 4, 'afnetworking': 24, 'intermittently': 2, 'tunneling': 1, 'w3c': 5, 'compliant': 4, 'javascriptdelegate': 1, 'propertyinfo': 5, 'iteration': 48, 'pdfwritergetinstance': 1, 'verbose_name': 2, 'stopwatch': 3, 'cmdexe': 6, 'androidsupportv7appcompatrstyleable': 1, 'hours': 62, 'confused': 20, 'instantiation': 19, 'booleanfalse': 1, 'styled': 5, 'py': 15, 'resubmitting': 2, 'sealed': 3, 'activex': 14, 'javazoom': 1, 'jlayer': 1, 'ngdialogprovider': 1, 'pythoncontrollable': 1, 'downloadmanager': 2, 'redefine': 1, 'jinja2': 34, 'optionslength': 1, 'couchdb': 10, 'overwritten': 8, 'pathgetdirectoryname': 2, 'bridge': 9, 'argments': 1, 'timeseries': 11, '95th': 3, 'percentile': 3, 'unserializable': 1, 'celleditor': 1, 'x11': 7, 'devoff': 2, 'numpylinalgnorm': 1, 'interacting': 8, 'windowsopen': 2, 'chef': 7, 'recipe': 2, 'codedomprovider': 1, 'mit': 2, 'course': 3, '1000th': 1, 'filters': 33, 'reviews': 3, 'applicationcss': 1, 'asset': 29, 'pipeline': 21, 'xmlinclude': 2, 'renders': 5, 'preventdefault': 6, 'datagridviews': 5, 'inboundchanneladapter': 2, 'userlogins': 1, 'identity_insert': 6, 'lengths': 10, 'popular': 8, 'eight': 1, 'ftp': 89, 'listremove': 2, 'qfontdatabase': 1, 'fonts': 18, 'families': 1, 'sessionopenactivesession': 1, 'sessionstatuscallback': 1, 'gb': 13, 'rounded': 23, '632': 1, '64beta': 1, 'auto_now': 3, 'auto_now_add': 5, 'runtimeerror': 5, 'jserb': 6, 'viewscripts': 1, 'polygons': 7, 'final': 55, 'tolocaltime': 1, 'microsofts': 2, 'sqlsrv': 4, 'scope_identity': 1, 'volley': 13, 'hardware': 12, 'glubyte': 1, 'glushort': 1, 'reaches': 5, 'helpmsg': 1, '3534': 1, 'nsviewanimation': 1, 'nsurlrequest': 6, 'oneway': 2, 'urllib2': 23, 'partitions': 2, 'piechart': 5, 'doughnut': 3, 'sme': 1, 'automating': 9, 'with_tags': 1, 'keyerror': 8, 'to_datetime': 1, 'standardize': 2, 'hy000': 14, '2002': 4, 'confirmation': 42, 'timecode': 1, 'fileupload': 24, 'nggrid': 2, '0byte': 1, 'initializes': 1, 'systemaccessviolationexception': 5, 'doesnotexist': 1, 'respectively': 4, 'cout': 11, 'manages': 2, '10724': 1, '405': 15, 'init': 45, 'reocur': 1, 'richdatascroller': 1, 'richdatatable': 2, 'pseudorandom': 2, 'movie': 14, 'yielding': 2, 'webcam': 13, 'textures': 13, 'corruption': 10, 'soapclient': 8, 'decreases': 1, 'mysql2error': 7, 'teacherid': 1, 'students': 4, 'enumset': 3, 'drawinrect': 1, 'touchevent': 3, 'bottom_right': 1, 'throw_exceptionhpp': 1, 'stdmove': 1, 'absolutely': 7, 'overscroll': 1, 'thisgetform': 1, 'formpanel': 6, 'nonweb': 1, 'runnning': 1, 'comprehensionlike': 1, 'tripping': 1, 'anonymoustype': 2, 'assigned': 29, 'zf2': 34, 'cachemoney': 1, 'xmlreader': 14, 'otherwise': 8, 'repositories': 10, 'nesting': 14, 'collapse': 30, 'bootstrapcollapsejs': 1, 'sqlitedatabase': 2, 'webpages': 12, 'concern': 4, 'dilate': 1, 'erode': 1, 'nonatomic': 3, 'atomic': 12, 'helloworld': 10, 'karma': 18, 'debuggable': 1, 'radiowrite': 1, 'getenv': 3, 'titleforheaderinsection': 2, 'deflateroutputstream': 1, 'spring+hibernate': 1, 'revised': 1, 'isselected': 2, 'treeviewitem': 2, 'classnotfoundexception': 25, 'poloniex': 1, 'serverclient': 3, 'formating': 4, 'helppaneexe': 1, 'geom_line': 6, 'scene': 22, 'anchorpane': 4, 'means': 20, 'errorproviderclear': 1, 'friendly': 22, 'nethttp': 7, 'paginate': 8, 'preceded': 6, 'fb': 19, 'cforeach': 5, 'scriptlet': 2, 'rebuild': 5, 'pch': 2, 'webclientdownloadstring': 3, 'isodate': 4, 'nonangular': 2, 'prcomp': 2, 'orgrefelections': 1, 'boostregex_search': 1, 'wstring': 4, 'orghibernateexceptionjdbcconnectionexception': 1, 'noclassdeffounderror': 15, 'upgradeutil': 1, 'indentation': 19, 'autorefresh': 3, 'gsp': 1, 'returnurl': 2, 'youyube': 1, 'ioerror': 9, 'witelisted': 1, 'bisection': 2, 'myapp': 4, 'cxf': 32, 'tollfree': 1, 'bridging': 4, 'christmas': 3, 'calayer': 15, 'median': 7, 'anomaly': 2, 'wsawaitformultipleevents': 1, 'networkevents': 1, 'systemnullreferenceexception': 12, 'utokenizers': 1, 'punkt': 1, 'englishpickle': 1, 'xtemplate': 1, 'recommend': 17, 'c++cli': 2, 'aspxnet': 2, 'lowpass': 2, 'units': 4, 'artisan': 5, 'wtforms': 2, 'built': 36, 'delay': 79, 'stuff': 6, 'maximized': 10, 'setaccessible': 1, 'nsinteger': 8, 'sessioninvalidate': 1, '2005': 31, 'j9vminternals': 1, 'mapfragment': 1, 'dictionarycontainskey': 1, 'javah': 2, 'objmtlloader': 1, 'opensource': 11, 'mersenne': 1, 'twister': 1, 'belongsto': 2, 'hasmany': 8, 'datagridviewcheckboxcolumn': 3, 'ormexception': 1, 'annotationdriven': 3, 'outlook': 39, 'reply': 11, 'prepareforreuse': 2, 'dequeuereusablecellwithidentifier': 4, 'tryparse': 3, 'msdos': 1, 'unfollowed': 1, 'sentry': 1, 'accessdeniedexception': 1, 'rendersection': 1, 'magentostore': 1, 'shortest': 11, 'functionprototypemethod': 1, 'datenum': 1, 'authenticationentrypoint': 1, 'datagrampacket': 2, 'written': 51, '0x00': 3, 'bss': 1, 'cacheable': 1, 'executed': 43, 'keystore': 9, 'trained': 2, 'jruby': 9, 'stringjoin': 5, 'pbewithmd5anddes': 2, 'resourceid': 1, 'bookmark': 5, 'compared': 12, 'coded': 5, 'resume': 21, 'played': 5, 'presentmovieplayerviewcontrolleranimated': 1, 'dscp': 1, 'qos': 1, 'wsdl': 50, 'dist': 9, 'getattr': 6, 'unimplemented': 2, 'imagewithcontentsofurl': 1, 'selectedrowscount': 1, 'usb': 38, 'mass': 14, 'libudev': 1, 'operator++': 1, 'a++': 1, '++a': 1, 'gradient': 20, 'layouts': 12, 'extlisttree': 1, 'execlp': 2, 'xmlserializer': 15, 'cwindowstempdll': 1, 'completing': 2, 'gd2': 2, '5614': 1, '1404': 10, 'lts': 4, 'url_for': 4, 'serives': 1, 'sortable': 12, 'dbcreateall': 2, 'text_change': 1, 'configphp': 1, 'functioninclude': 1, 'inceptionv3': 1, 'pretrained': 1, 'imagenet': 1, 'classify_imagepy': 1, 'tensorflow': 47, 'importable': 1, '348': 1, 'seeing': 9, 'authorised': 2, 'smoother': 6, 'cplusplus': 1, 'bitwise': 21, 'toolsjar': 5, 'setcurrentplaybacktime': 1, 'fixtures': 2, 'externals': 5, 'selfmethod': 2, 'httpsessionlistener': 1, 'sessioncreated': 1, 'stringbuilder': 17, 'observing': 4, 'getallfailureexceptions': 1, 'getfailureexceptions': 1, 'jobexecution': 1, 'apktool': 1, 'webcode': 1, 'gathering': 2, 'inputting': 4, '260': 2, 'stdbasic_string_elem': 1, '_traits': 2, '_ax': 1, 'multiplevalue': 1, 'mixing': 20, 'stringfield': 1, 'nonblocking': 13, 'int_ablineplotnew': 1, 'scraped': 3, 'recommendation': 7, 'variabledeclarators': 1, 'localvariabledeclaration': 1, 'easing': 5, 'localize': 7, 'appbar': 3, 'unsupportedoperationexception': 4, 'abstractlistremove': 1, 'operating': 11, 'maproot': 2, 'winsock2h': 2, 'leave': 22, 'colours': 8, 'sysexit': 3, 'appexec_': 1, 'matchevaluator': 1, 'iteratively': 4, 'symbolfile': 1, 'computing': 20, 'avg': 3, 'bare': 3, 'metal': 2, 'permanent': 4, 'regnotifychangekeyvalue': 1, 'endpoint': 26, 'panel1': 1, '145': 2, 'errorscalac': 1, 'm2': 2, 'm2_home': 1, 'camshift': 3, '1page': 1, 'percent': 15, 'precise': 8, 'datahref': 1, 'decrement': 11, 'func': 11, 'servler': 1, 'doget': 3, 'googlelike': 1, 'pacman': 2, 'cabybara': 1, 'skips': 7, 'regarding': 27, 'pop3': 3, 'thead': 2, 'clueless': 1, 'gsons': 1, 'organizing': 3, 'ranks': 1, 'uint8_t': 8, 'unlimited': 7, 'notice': 34, 'viewcookie': 1, 'cake': 13, 'viewphp': 3, '804': 1, 'facet_grid': 3, 'nltks': 1, 'concordance': 1, 'versionname': 1, 'versioncode': 1, 'reconnect': 9, 'asynctaskexecute': 1, 'orgspringframeworksecurityfilterchains': 1, 'securiy': 1, 'gmaps': 1, 'mkannotation': 1, 'uibarbuttonitems': 1, 'uinavigationitem': 2, 'crawlable': 1, 'seo': 14, 'myclass': 6, 'personal': 5, 'lxml2': 1, 'interchangeably': 1, 'ndarrays': 1, 'rowwise': 6, 'columnwise': 6, 'gulpjade': 1, 'get_post': 1, 'efficiency': 17, 'stringreplace': 9, 'soup': 23, 'conversions': 7, 'createfromformat': 1, 't_string': 17, 'timeouterror': 3, 'combining': 43, 'size_t': 9, 'lollipop': 3, 'listed': 5, 'simplejdbccall': 2, 'vuejs': 21, 'vmodel': 1, 'calendars': 3, 'hyperplane': 1, 'ioc': 12, 'nullreferenceexception': 19, 'dispatch_block': 1, 'mime': 26, 'cvscalar': 1, 'hash_hmac': 1, 'responses': 17, 'pathfinding': 1, 'jsonparse': 25, 'vbox': 3, 'gridpane': 3, 'ofstream': 2, 'clearing': 28, 'cisession': 1, 'appstore': 1, 'matchers': 3, 'dry': 4, 'implementationdependent': 1, 'timezoneinfo': 1, 'machines': 10, 'difficulties': 2, 'activesupport3212': 1, 'spider': 11, 'mails': 6, 'primes': 2, 'php_self': 3, 'qml': 20, 'sas': 5, 'factor': 23, 'accomplished': 1, 'ng': 4, 'exported': 6, 'html_attr': 1, 'valued': 2, 'mistake': 9, 'relaycommand': 1, 'recovery': 1, 'caseinsensitive': 10, 'blum': 2, 'shub': 1, 'toggleclass': 4, 'mismatched': 3, 'nearlifo': 1, 'multiprocessingqueue': 2, 'nearfifo': 1, 'microsoftofficeinteropexceldll': 1, 'doesnot': 2, 'autodiscover_tasks': 1, '17': 37, 'rgdal': 2, 'rgeos': 1, '311': 6, 'systemcollectionsgenericliststring': 3, 'subscribers': 5, 'evil': 5, '20g': 1, 'viewresult': 4, 'actionresult': 8, 'sense': 11, 'anyways': 2, 'nonnumeric': 5, '222': 4, 'objectmapper': 5, 'gettime': 4, 'ldexe': 2, 'bindebugfilenameexe': 1, 'poco': 6, 'lightbox': 7, 'passwords': 19, 'adjust': 34, 'autoincrement': 7, 'autofit': 1, 'autozoom': 1, 'rightclick': 8, 'webcore': 1, 'kotlin': 5, 'linkify': 2, 'cordova': 47, 'selflocation': 1, 'requestdispatcher': 1, 'accomplish': 5, 'classname': 21, 'unflattening': 1, 'xl': 1, 'union': 37, 'rights': 7, 'gridstackjs': 1, 'resizable': 18, 'orequals': 1, 'accounting': 2, 'quirks': 2, 'postfields': 1, 'contextmenustrip': 4, 'sender': 15, 'unordered_maptiterator': 1, 'afxpumpmessage': 1, 'stringwithformat': 3, 'request_uri': 5, 'reached': 19, 'errordocument': 2, 'hides': 12, 'uglify': 2, 'jeditorpane': 4, 'nest': 5, 'openstreetmap': 3, 'pltshow': 2, 'verbosetrue': 1, 'odoo': 4, 'keydown': 21, 'listviews': 6, 'circles': 11, 'oval': 2, 'localtime': 8, 'nsregularexpression': 5, 'orgspringframeworkwebcontextcontextloaderlistener': 1, 'productname': 2, 'integrated': 5, 'javase': 3, 'bezier': 4, 'lan': 10, 'iso88591': 6, 'however': 6, 'userscontroller#show': 1, 'jtds': 1, 'startview': 1, 'decade': 3, 'detaching': 3, '7041': 1, '73': 2, 'trailing': 38, '3122': 1, 'strstr': 3, 'decimalparse': 1, 'comexception': 3, 'hresult': 12, '0x80010105': 1, 'rpc_e_serverfault': 1, 'getinhibit': 1, 'ontouch': 4, '69': 1, 'opener': 3, 'checkboxgroupinput': 2, 'iterated': 3, 'makemessages': 2, 'remote_addr': 4, 'default_scope': 3, 'qqmlapplicationengine': 1, 'jsonexception': 4, 'pythonmode': 2, 'stroke': 10, 'simplehttpserver': 3, '00008000': 2, 'testhtml': 1, 'javac': 14, 'uimodalpresentationformsheet': 1, 'autopopulate': 1, 'phppfm': 1, 'initd': 3, 'igniter': 22, 'androids': 4, 'sharedpreferences': 4, 'javalangnullpointerexception': 32, 'mangling': 3, 'enoding': 1, 'configurations': 8, 'drawn': 19, 'cgpath': 2, 'intersects': 2, '1702': 3, '__attribute__': 10, 'packed': 4, 'aligned': 14, 'viewcontrollertype': 1, 'nosuchmethodexception': 5, 'commonsmultipartfileinit': 1, 'myobjects': 1, 'duplicated': 17, 'javaxnetsslsslhandshakeexception': 1, 'sunsecurityvalidatorvalidatorexception': 2, 'pkix': 4, 'optical': 1, 'searches': 5, 'corresponding': 29, 'moved': 9, 'mercurial': 6, 'slowly': 5, 'protection': 8, 'programmer': 8, 'uialertviewcontroller': 1, 'modification': 16, 'emerg': 1, 'confd': 1, 'defaultconf1': 1, 'abstracttablemodel': 2, 'restrictions': 7, 'existence': 14, 'svn': 18, 'e200009': 1, 'xyzjava': 1, 'cdhtmldialogoninitdialog': 1, 'letting': 3, 'qvboxlayout': 3, 'resizes': 4, 'qt4': 6, 'dragging': 22, 'hashhas_key': 1, 'jinput': 1, 'vogella': 2, 'complaint': 1, 'systembadimageformatexception': 1, 'http_referer': 5, 'textviewsetlayoutparams': 1, 'chr': 2, 'hinting': 2, '__call': 2, 'penalise': 1, 'xdocument': 30, 'jax': 1, 'onscreen': 1, 'vanishes': 1, 'q': 9, 'quadrant': 1, 'cshtml': 10, 'nonpointer': 2, 'interpreting': 5, 'findinterval': 1, 'reordering': 8, 'initializers': 16, 'dbcollectionruncommand': 1, 'searchsearch': 1, 'messagessource': 1, 'followed': 18, 'coerced': 5, 'fixnum': 5, 'cucumber+capybara': 1, 'definitions': 15, 'trimming': 4, 'license': 11, 'iorderedqueryable': 1, 'childtheme': 1, 'indicate': 6, 'inheritence': 3, 'solr': 22, 'incrementally': 5, 'hand': 9, 'dynamicexpressionparselambda': 1, 'nscfstring': 1, 'rdd': 7, 'treating': 5, 'quotations': 3, 'getclass': 4, 'troubleshooting': 8, 'onpreupdate': 1, 'strategies': 7, 'deadlocks': 3, 'jpgs': 1, 'clojure': 11, 'setters': 12, 'transactionatomic': 1, 'redefining': 4, 'navigatorgeolocationgetcurrentposition': 2, 'errorpermission_denied': 1, 'windowshowmodaldialog': 3, 'expressjs': 32, 'definitely': 4, 'reserved': 9, 'fields_get': 1, 'usb4javalisten': 1, 'brute': 1, 'pagesize': 3, 'sqli': 1, 'dissconnect': 1, 'concurrentsafe': 1, 'relations': 10, 'windowfunctions': 1, 'scoped': 6, 'configurationerrorsexception': 2, 'javascriptserializerdeserialize': 2, 'relevant': 7, 'ctrlc': 3, 'anymore': 11, 'crm2011': 2, 'jdbcodbcpreparedstatementsetlong': 1, 'reversemap': 1, 'autowiring': 9, 'flasksqlalchemy': 11, 'partitioner': 1, 'diy': 1, 'timepicker': 7, 'ganymede': 1, 'checkboxlist': 12, '7bit': 3, 'parity': 1, 'verifyerror': 1, 'inherit': 26, 'tetris': 1, 'mddialog': 2, 'string8operator': 1, 'mailed': 1, 'segfault': 15, 'stackoverflowexception': 4, 'initializecomponent': 5, 'slf4j': 5, 'logbackclassic': 1, 'decorating': 3, 'myapplication_default': 1, 'sidebar': 14, 'intervention': 5, 'slowed': 1, 'scoping': 9, 'stlstringc_str': 1, 'downloadhandler': 1, 'numeral': 2, 'signs#': 1, 'crawl': 9, 'withtrashed': 1, 'ctree': 1, 'classification': 7, 'readstream': 2, 'timedrotatingfilehandler': 2, 'oauth2serverlaravel': 1, 'grey': 15, 'processrequest': 1, 'uiwindowcontroller': 1, 'hhmm': 9, 'duration': 30, 'aesmanaged': 2, 'stdruntime_error': 1, 'reallife': 1, 'onedimensional': 4, 'objectdatasource': 7, 'carrying': 2, 'msiexec': 1, 'datafile': 1, 'mousewheel': 5, 'mcustomscrollbar': 1, 'sl4': 1, 'asynceventargs': 1, 'invalidoperationexception': 6, 'phpmysql': 3, 'cellbackgroundcolor': 1, 'castle': 10, 'windsor': 11, 'reponses': 1, 'urlcontent': 1, 'mod': 12, '#object': 8, 'bindebugappnamevshostexe': 1, 'appnamevshostmanifest': 1, 'systemstackoverflowexception': 5, 'requestpath': 3, 'ambethia': 1, 'friday': 3, 'widths': 6, 'ycoordinates': 1, 'gesture': 20, 'systemthreading': 2, 'expireable': 1, 'resumable': 3, 'appache': 1, 'assert': 16, 'ndebug': 1, 'zoneddatetime': 1, 'datetimeoffset': 2, 'cmdwindow': 1, 'arraysstream': 1, 'array_name': 1, 'utf8b': 1, 'vectort': 3, 'integral': 14, 'ylim': 4, 'javalangillegalargumentexception': 17, 'traverse': 14, 'inheriting': 15, 'linqsql': 2, 'sine': 6, 'wave': 7, 'opengl_points': 1, 'systemdrawingbrush': 1, 'tray': 5, 'balloons': 1, 'occupy': 2, 'dgw': 1, 'localtobindinglist': 1, 'publish': 24, 'spanish': 6, 'stoi': 3, 'along': 39, 'survey': 2, 'earlier': 6, 'higherlevel': 2, 'constructs': 7, 'easier': 7, 'flows': 1, 'springbatch': 2, 'formsauthenticationformscookiepath': 1, 'collectionviewsourceview': 1, 'mailaddress': 2, 'although': 12, 'forcing': 22, 'taskbar': 13, 'settemplate': 1, 'simplewire': 1, 'greasemonkey': 22, 'crashed': 7, 'doctrine2': 16, 'rr': 1, 'mockinstance_of': 1, 'any_instance': 2, 'nsbitmapimagerep': 1, 'australian': 2, 'toderinputstream': 1, 'rejects': 3, 'ces': 1, 'orgspringframeworkbeansfactorybeancreationexception': 4, 'almost': 6, 'reminder': 2, 'javaxmailmessagingexception': 6, 'servletexception': 4, 'orgeclipsejettywebsocketserverwebsocketserverfactory': 1, 'flattening': 2, 'locationoftouch': 1, 'numberoftouches': 1, 'locally': 32, 'addclass': 8, 'removeclass': 7, 'systemnet': 1, 'barplot': 20, 'targets': 12, 'fallback': 11, 'exits': 8, 'often': 8, 'timeupdate': 2, 'datarow': 12, 'thru': 3, 'fleury': 1, 'hierholzer': 1, 'transformation': 14, 'orthogonal': 3, 'maintaining': 23, 'destination': 17, 'nodevalue': 3, 'javalangabstractmethoderror': 4, 'charsetencoder': 1, 'onmalformedinput': 1, 'charsetdecoder': 1, 'onunmappablecharacter': 1, 'enumbad': 1, 'chtmlajaxlink': 1, 'containers': 23, 'registerclientscriptblock': 1, 'sqlitenet': 1, 'kentico': 1, 'episerver': 1, 'sudden': 4, 'javascripts': 20, 'thistostring': 1, 'addjavascriptinterface': 2, 'italics': 1, 'incomparable': 2, 'emdash': 1, 'accessibility': 7, 'taghandler': 1, 'edittagtag': 1, 'upgrading': 20, 'permutation': 10, 'invert': 3, 'ifs': 6, 'slightly': 6, 'setlatesteventinfo': 1, 'dst': 1, 'php_perldll': 1, 'pecl4win': 1, 'competitors': 1, 'id1039': 1, 'certificates': 17, 'v8': 3, 'mqrc_not_authorized': 1, '2035': 1, 'reconigzed': 1, 'axis2war': 1, 'jboss7': 2, 'delayed': 10, 'update_or_create': 1, 'respect': 15, 'anchoring': 2, 'clsid': 4, 'guid': 23, 'taskrun': 8, 'discourage': 1, 'isa': 2, 'periodic': 8, 'hd': 2, '160': 4, '150': 4, 'addsubview': 4, 'asking': 12, 'refusing': 4, 'dissapear': 2, 'enough': 28, 'dicerolling': 1, 'shake': 3, 'mailer': 22, '325': 1, 'argumenterror': 13, 'mosca': 1, 'rationale': 2, 'diaplay': 1, 'javacexe': 1, 'hold': 20, 'vice': 21, 'versa': 22, 'erroronly': 1, 'scrollview': 23, 'stringstartswith': 1, 'protecting': 4, 'multivaluedictkeyerror': 2, 'requesting': 9, 'orx': 1, 'enumerablerowcollectionstring': 1, 'comibmwsloggingobjecthpelwslogrecord': 1, 'templatedoesnotexist': 4, 'ntopenfile': 1, 'status_object_name_invalid': 1, 'differently': 24, 'smart': 10, 'eventargs': 4, 'vulnerable': 3, 'fileresult': 4, 'invalidate': 11, 'redefinition': 6, 'typedef': 15, 'vibrate': 2, 'nontransparent': 3, 'responseredirect': 7, 'httpcontextcurrentitems': 1, 'rmarkdown': 9, 'transmitted': 1, 'randint': 1, 'uniform': 4, 'selectany': 1, 'initalization': 2, 'latin1': 7, 'folderbrowserdialog': 2, 'selectedpath': 1, 'mycomputer': 1, 'inappropriate': 2, 'ioctl': 2, 'figuring': 4, 'nsoperationqueue': 3, 'kern_invalid_address': 2, 'requestconnectionremoteaddress': 1, 'prefixed': 1, 'ffff': 2, 'airport': 2, 'extreme': 3, 'socketio': 56, 'scrolled': 14, 'taskcreationoptionsattachedtoparent': 1, 'javautillistjavalanginteger': 1, 'solutions': 14, 'user_timeline': 1, 'enumvalues': 3, 'enumsetallof': 1, 'preferable': 4, 'ef4': 4, 'vectorization': 2, 'microsoftvshupserverhttphostx64exe': 1, 'hexstring': 1, 'schema_migrations': 1, 'diff': 19, 'accounts': 10, 'onmouseoverdocumentgetelementbyid': 1, 'pooling': 20, 'tentity': 1, 'localized': 15, 'proc': 8, 'cursor': 104, 'pyvenv': 1, 'sitepackages': 3, 'submitchanges': 3, 'jsonignore': 2, 'bind_result': 2, 'get_result': 1, 'performed': 5, 'actionlisteners': 2, 'higher': 19, 'prebuild': 1, 'postbuild': 1, 'dotnet': 4, 'zend_progressbar': 1, 'before_action': 3, 'ef6': 12, '1st': 17, 'highchart': 15, 'binded': 6, 'signed': 28, 'comparision': 4, 'succinct': 3, 'literals': 17, 'duemilanove': 1, 'configurationmanager': 1, 'mediametadataretriever': 2, 'clauses': 9, 'mongoiderrorsdocumentnotfound': 1, 'administrator': 11, 'hierarchical': 21, 'analyzing': 4, 'lumen': 1, 'permgen': 9, 'medium': 5, 'enclosing': 12, 'ios6': 7, 'slcomposeviewcontroller': 2, 'twtweetcomposeviewcontroller': 1, 'ios5': 13, 'extracticonex': 1, 'setmenuitembitmaps': 1, 'frequently': 5, 'developers': 8, 'altnet': 1, 'bent': 1, 'webstart': 1, 'programs': 26, 'correction': 2, 'zip4j': 2, 'icheck': 1, 'catchable': 4, 'gcode': 2, 'literaly': 1, 'contiguous': 1, 'iequalitycomparer': 2, 'gethashcode': 3, 'leads': 9, 'javalangnosuchmethoderror': 13, 'scalapredefaugmentstring': 1, 'ljava': 7, 'lang': 11, 'lscala': 1, 'stringops': 1, 'january': 1, 'nsdecimalnumber': 2, 'xmlgregoriancalendar': 5, 'jsni': 1, 'jsfunction': 2, '#if': 3, 'konami': 1, 'pythonmysql': 1, 'mysqlclient': 2, 'childs': 11, 'overloaded': 24, 'preferculture': 1, 'callablestatement': 1, 'momentjs': 25, 'meteorjs': 11, 'struggling': 8, 'crc16': 1, '0x8408': 1, 'reactor': 4, 'spreadsheets': 5, 'ssis': 17, 'stacktrace': 7, 'pxd': 1, 'augment': 2, 'currency': 30, 'antiforgerytoken': 1, 'mpmusicplayercontroller': 1, 'xbar': 1, 'qcc': 1, '21': 25, 'ibm': 18, 'emailsend': 1, 'xmlfile': 1, 'typetext': 10, 'usages': 2, 'fileopen': 3, 'find_or_initialize_by_id': 1, 'vernam': 1, 'autoscaling': 1, 'userdefined': 11, 'nonalphabetic': 1, 'fastcgi': 4, 'deletion': 12, 'stdboolh': 1, 'connectedcomponent': 1, 'optimization': 35, 'orghibernatemappingjoinedsubclass': 1, 'orghibernatemappingrootclass': 1, 'executor': 4, 'cassandra': 12, 'cassandradriver': 1, 'multiplication': 28, '__name__': 1, '__main__': 1, 'atime': 1, 'mtime': 2, 'interpret': 9, 'reactnative': 11, 'dynamicmock': 2, 'noninterface': 1, 'nonmarshalbyref': 1, 'onblur': 9, 'googlemap': 5, 'stanford': 11, 'warn': 9, 'classs': 16, 'readwrite': 3, 'inputaccessoryview': 1, 'clashing': 4, 'usercontrols': 10, 'watermarked': 1, 'behaving': 9, 'strangely': 2, 'forecast': 1, 'xctest': 1, 'xctesth': 1, '511': 2, 'unmounted': 2, '5k': 1, 'urlspy': 5, 'pound': 8, 'scopesearch': 1, 'imagesxcassets': 1, 'nsimage': 2, 'slaves': 2, 'packagingpackage': 1, 'apache+php': 1, 'srve0199e': 1, 'outputstream': 11, 'premature': 8, 'indentationerror': 3, 'indent': 18, 'testcase': 5, 'matplot': 2, 'tabpanel': 4, 'processed': 18, 'taskexecutor': 3, 'picke': 1, 'childpage': 1, 'listasenumerable': 1, 'unquoted': 3, 'imagetkphotoimage': 2, 'crosscompiling': 4, 'armv6l': 1, 'armlinuxgnueabigcc': 1, 'rxjavas': 1, 'table2exceljs': 1, 'adjacent': 8, 'ispostback': 4, 'webbrowsr': 1, 'mailr': 1, 'threadgroup': 1, 'observablecollection': 31, 'keystrokes': 4, 'sortby': 3, 'kcgimagepropertygifimagecolormap': 1, 'localsessionfactorybuilder': 1, 'loadable': 2, 'lkm': 1, 'selectlist': 7, 'action_image_capture': 1, 'intent': 24, 'ambiguity': 4, 'sqlparametercollection': 3, 'nonnull': 6, 'sqlparameter': 8, 'chromestoragesync': 1, 'published': 9, 'unpacker': 1, 'k': 15, 'ci': 12, 'autoupdate': 1, 'cloubblockblob': 1, 'acquirelease': 1, 'lease': 2, 'lat': 15, 'lng': 5, 'irregular': 4, 'strongly': 10, 'likely': 4, 'lead': 6, 'reachability': 4, 'formsauthenticationsetauthcookie': 1, 'xhr': 12, 'formshow': 1, 'thought': 4, 'generting': 1, 'celery_always_eager': 1, 'managedinstallerclass': 1, 'datapager': 1, 'unreported': 2, 'javaio': 3, 'filenotfoundexception': 9, 'httputilityhtmlencode': 1, 'backgroundtask': 1, 'deferralcomplete': 1, 'composition': 3, 'msaccess': 4, 'polygonshape': 1, 'ligdx': 1, 'watir': 1, 'lnk2038': 3, 'wildfly': 15, 'curves': 4, 'cmakeliststxt': 2, 'decoration': 2, 'isequaltostring': 3, 'tested': 2, 'gemfile': 12, 'mirror': 2, 'tweets': 8, 'tensorflowattributeerror': 1, 'mul': 1, 'sqlalchemydialectssqlite3': 1, '#socket': 1, 'objectinputstream': 2, '00000000': 2, 'ab': 4, '5226': 1, '407': 4, 'interprocess': 8, 'dsn': 4, 'prediction': 3, 'linebreaks': 9, 'cinget': 1, 'inset': 4, 'uitabbarcontroller': 9, 'nav': 9, 'requestinput': 2, 'referential': 5, 'rowcommand': 3, 'countries': 5, 'depend': 8, 'team': 7, 'unity3dc#': 1, 'executables': 5, 'proj4': 1, 'macos': 5, '1072': 4, 'twos': 3, 'commaseparated': 9, 'pthread_cancel': 2, 'typegetproperties': 1, 'visualisation': 4, 'lstat': 1, 'circuit': 1, 'arrayforeach': 3, 'uikit': 3, 'increases': 4, 'pageable': 2, '19999': 1, 'restoring': 4, 'mysqli_stmtfetch_object': 1, 'floatparse': 1, 'meets': 4, 'requirement': 9, 'plaintext': 5, 'ciphertext': 2, 'preserves': 2, 'designing': 16, 'cool': 3, 'nullreference': 2, 'invoker': 3, 'scss': 5, 'multikey': 3, 'active_for_authentication': 1, 'calculationphp': 1, 'getcookies': 2, 'templaterequest': 1, 'timeoutexception': 1, 'mapsgoogleapiscom': 1, 'mozilla': 8, 'separating': 11, 'ancestors': 1, 'nt': 2, 'authorityanonymous': 2, 'logon': 11, 'soaperror': 3, '127001': 1, 'indexwsdl': 1, 'windowss': 1, 'djangoadminpy': 4, 'gridvew': 1, 'irandomaccessstreamwithcontenttype': 1, 'bg': 2, 'kinect': 10, 'elseif': 3, 'norm': 1, 'cvnorm': 1, 'jscript': 13, 'selects': 13, 'entitytype': 3, 'myhostname': 1, 'pre_replace': 1, 'follows': 9, 'interchangeable': 1, 'removes': 5, '2007+': 1, 'osgi': 13, 'overlook': 1, 'groupbox': 8, 'frozen': 4, 'quantilequantile': 1, 'composed': 3, 'xibs': 1, 'iboutlet': 3, 'creat': 2, 'liner': 3, 'shallow': 6, 'multisite': 3, 'sites': 20, 'chunking': 1, 'appendalltext': 2, 'safearray': 2, 'expandable': 4, 'restsharp': 3, 'has_one': 10, 'stringbuilders': 1, 'appendformat': 1, 'containergetcomponents': 1, 'expacting': 1, 'eclipse+pydev+gae': 1, 'compareto': 9, 'dataannotation': 4, 'shopify': 6, 'datavaluefield': 3, 'autocompletebox': 2, 'scrollableview': 1, 'dozens': 1, 'activerecordsubclassnotfound': 1, 'registries#edit': 1, 'diagram': 6, 'cascadedelete': 1, 'endreceive': 1, 'minor': 5, 'rebind': 4, 'modals': 4, 'represented': 10, 'computers': 20, 'apart': 6, 'coloring': 5, 'chapter': 4, 'cgpdfdocumentgetcatalog': 1, 'categoryphp': 1, 'subcats': 1, 'subcategories': 8, 'renviron': 1, 'clientheight': 2, 'nonsource': 1, 'deblurring': 1, 'deconvolution': 1, 'webroot': 2, 'retriving': 5, 'bluetoothsocketconnect': 1, '256sizeof': 1, 'datatypes': 5, 'dymanically': 1, 'plotline': 2, 'collection_select': 5, 'wish': 1, 'phpbased': 1, 'calues': 1, 'scrolls': 9, 'extensible': 4, 'seen': 14, 'appender': 6, 'ndc': 1, 'applicationexit': 3, 'english': 24, 'nr': 1, 'c2065': 1, 'angulars': 4, 'viewvalue': 1, 'modelvalue': 1, 'redistemplate': 2, 'ora01006': 1, 'alchemy': 3, 'mycomputerfilesystemdeletedirectory': 1, 'altered': 3, 'sprites': 7, 'filelive': 1, 'ffmpegfilelive': 1, 'jframepack': 1, 'uibuttons': 8, 'joins': 22, 'unrolling': 1, 'motion': 9, 'eventhandlert': 2, 'prettycheckable': 2, 'quicksort': 4, 'surefire': 3, 'nonclickable': 1, 'smtpgmailcom': 3, 'processhasexited': 1, 'assume': 8, 'subtracting': 12, 'rescale': 3, 'chnage': 1, 'autoloadphp': 2, 'genericjdbcexception': 1, 'javaxresourceresourceexception': 1, 'ij000459': 1, 'stdlib': 3, 'smallest': 22, 'springjunit4classrunner': 2, 'interleave': 2, 'injected': 8, 'dal': 4, 'qualifier': 6, 'get_range': 1, 'value2': 3, 'maxlength': 4, 'executions': 2, 'effective': 15, 'tips': 14, 'destroyall': 1, 'exampleitemfragment': 1, 'vista': 9, 'turned': 11, 'moment': 9, 'fcollection_select': 2, '0x40': 2, 'stopping': 19, 'cleartripcom': 1, 'testcases': 2, '105': 2, 'suffixes': 1, 'singleline': 2, 'jmsmanagedconnectionfactoryimpl': 1, 'javaxjmsconnectionfactory': 1, 'stackfrombottom': 1, 'recyclerview': 11, 'my_thread_global_end': 2, 'singleinstance': 2, 'mainthread': 2, 'sqlchar': 1, 'harvester': 1, 'print_r': 8, 'applepay': 1, 'pkinapppaymentservice': 1, 'comapplepassdinapppayment': 1, 'sd': 6, 'okay': 4, 'seeds': 3, 'issubclass': 3, 'flase': 1, '4s': 4, 'mechanism': 13, 'rubyjson': 1, 'unittesting': 5, 'commons': 7, 'for_each': 4, 'unordered_map': 7, 'quietly': 1, 'catalog': 8, 'dopost': 1, 'objectforkey': 6, 'valueforkey': 3, 'modalform': 1, 'covert': 4, 'ago': 16, 'fresher': 1, 'column2': 1, 'timezones': 10, 'comvisible': 2, 'cocreateinstance': 3, 'orghibernateimplsessionfactoryimpl': 1, 'wixactioninstallexecutesequence': 1, 'removeexistingproducts': 1, 'typically': 2, 'textfile': 14, 'phpfiles': 1, 'clash': 3, '44': 4, 'sharpssh': 1, 'sftp': 7, 'viewcontroller': 36, 'deallocated': 6, 'dns': 18, 'mavericks': 10, '109': 7, 'people': 22, 'critical': 5, 'contentflowjs': 1, 'dictwriter': 4, '_wctime32': 1, 'time_t': 2, '__time32_t': 1, 'datarows': 9, 'hydration': 1, 'hydrate': 1, 'userclosing': 1, 'thisclose': 1, 'hit': 18, 'comparator': 10, 'debian': 13, '#2': 11, 'viewinstanceundelegateevents': 1, 'thisel': 1, 'revolution': 3, 'randomize': 13, 'arrayliststring': 9, 'diagrams': 3, 'randomized': 3, 'imagejpeg': 3, 'serialise': 2, 'angulartimer': 1, 'micro': 2, 'xmlsapply': 1, 'windbg': 1, 'pdb': 4, 'assure': 1, 'arcs': 2, 'michael': 3, 'hartl': 4, 'infile': 4, 'wp_insert_post': 1, 'httpcontext': 6, 'jtextfields': 4, 'retry': 13, 'javalangarrayindexoutofboundsexception': 6, 'skinnied': 1, 'backrownd': 1, 'queryparam': 1, 'pathparam': 2, 'fbinit': 3, 'oauthexception': 5, 'crosshair': 2, 'hovering': 12, 'rightbarbuttonitem': 2, 'javaxnamingnamenotfoundexception': 3, 'dcserver': 1, 'dclan': 1, 'cnadmin': 1, 'msvc': 14, 'cold': 4, 'observables': 4, 'pngbitmapencoder': 1, 'ndb': 3, 'dbstringlistproperty': 1, 'mediaelement': 7, 'get_form': 1, 'sqliteopenhelpergetwritabledatabase': 1, 'france': 1, 'gave': 1, '273': 4, 'datamain': 1, 'extraction': 5, 'keyvaluepair': 4, 'viewsetsmodelviewset': 1, 'deal': 28, 'scipyoptimizecurve_fit': 1, 'rotator': 3, 'classgetresource': 1, 'classloadergetsystemresource': 1, 'prefer': 9, 'lm': 5, 'lz': 1, 'lrt': 1, 'objectassign': 2, 'polyfill': 4, 'babelloader': 1, 'polar': 6, 'facet': 13, 'attempted': 8, 'newtonsoftjsonjsonconvertserializeobject': 1, 'newtonsoftjsonjsonserializersettings': 1, '_layouts': 1, 'microsoftofficeinteropwordfindexecute': 1, 'regression': 31, 'clarity': 1, 'pixelation': 3, 'asm': 11, 'getrecords': 2, 'nsxmlparser': 4, 'hashmapcontainskey': 1, 'meshes': 3, '_id': 5, 'tolocalestring': 2, 'hstore': 2, 'tesseract': 2, 'before_filter': 6, 'some_modulerb': 1, 'focusout': 1, 'fileversioninfo': 1, 'vacation': 2, 'enforcing': 6, 'fosuserbundle': 9, 'roll': 8, 'cookbook': 3, 'striptext': 1, 'vba': 17, 'objectmapperreadvalue': 1, 'expires_within': 1, 'recognizes': 4, 'sonarqube': 4, '451': 4, 'deviation': 10, 'textboxcell': 1, 'comboboxcell': 2, 'integrity': 14, 'tolistint': 1, 'attach_file': 1, 'emailmessage': 1, 'quality': 14, 'sqlquerydictionarystring': 1, '365': 6, 'ive': 16, 'orgjson': 2, 'jsonelement': 1, 'comgooglegson': 1, 'mettler': 1, 'toledo': 1, 'digital': 13, 'v2x': 1, 'securerandom': 4, 'sessionstorage': 4, 'weak': 11, 'homebrew': 12, '274': 2, 'fabricjs': 21, 'datetimeparseexact': 3, 'generatepasswordresettoken': 1, 'getfragmentmanager': 1, 'findfragmentbyid': 1, 'iqueryabletinclude': 1, 'purchases': 2, 'takewhile': 1, 'dictionarytkey': 3, 'tvalue': 2, 'sys': 10, 'switches': 3, 'pl': 5, 'sp20310': 1, 'bracket': 16, 'fieldset': 7, 'javalangnosuchmethodexception': 2, 'onlogin': 1, 'uriinfo': 1, 'activating': 7, 'jsonserializable': 1, 'jsonserialize': 1, 'onetimeenumerable': 1, 'llvmlink': 1, 'snap': 10, 'footnote': 1, 'heatmap': 5, 'recognising': 1, 'ospathisdir': 3, 'viewphtml': 3, 'imagecreatefromjpeg': 3, 'qplot': 5, 'scrollviewdidenddecelerating': 1, 'sessionsaveorupdate': 1, 'searchbar': 6, 'googleappsscript': 1, 'onedit': 1, 'authorise': 1, 'blowfish': 2, 'restriction': 7, 'autoload': 8, 'elementat': 1, 'scrollspy': 2, 'navpills': 1, 'decoded': 8, 'autologin': 2, 'applicationexecutablepath': 1, 'loggernew': 1, 'cdbconnection': 1, 'nonpositive': 1, 'maxbytesperchar': 1, 'unittests': 4, 'conf': 7, 'validates_attachment_presence': 1, 'deserializer': 4, 'rect': 10, '300gb': 1, 'geom_bar': 3, 'jasperreports': 13, 'ntr': 1, 'compability': 1, 'blobstore': 1, 'set_time_limit': 1, 'refuse': 1, 'javascriptreplace': 1, 'pins': 3, 'contextmenu': 12, 'pushnotification': 3, 'tries': 8, 'uis': 2, 'prohibited': 3, 'reationship': 1, 'asymmetric': 2, 'sessioncookie': 1, 'kick': 1, 'hierarchy': 29, 'jautodoc': 1, 'computations': 1, 'mcrypt_encrypt': 1, '526': 2, 'nonentity': 3, 'redirect_to': 12, 'xrtml': 1, 'booking': 4, 'slot': 4, 'multiactioncontroller': 1, 'exceldocuments': 1, '8bit': 3, 'sentence': 28, 'technique': 9, 'jvms': 5, 'urlaction': 6, 'cc': 4, 'tiltshift': 1, 'fwrite': 6, 'kodependentobservable': 1, 'cleverly': 1, 'contentcontrol': 4, 'aggregateexception': 1, 'springdata': 3, 'dbref': 1, 'xpathselector': 1, 'wants': 12, 'flipping': 8, 'unordered': 14, 'localdatetime': 4, 'pentaho': 2, 'minjs': 1, 'marathi': 2, 'stringgetbytes': 3, 'vb6': 9, 'flowing': 1, 'zenddbadapter': 1, 'gtk#': 1, 'overide': 1, 'stringforkey': 1, 'nsnull': 2, 'static_assert': 3, 'nonvirtual': 4, 'represents': 5, 'filealreadyexistsexception': 1, 'saveastextfile': 2, 'respective': 8, 'toast': 5, 'accumulation': 2, 'datetimeticks': 1, 'datetimetimeofday': 1, 'asterisks': 9, 'rightmost': 2, 'fatalerrorexception': 5, 'handlerphp': 1, 'fname': 1, 'suggestion': 9, 'multitenant': 1, 'grids': 6, 'somemethod': 1, 'farproc': 1, 'compiles': 8, 'indexhtml': 15, 'crosstab': 1, 'constqualified': 1, 'evaluator': 1, 'formdata': 21, 'bootstraping': 1, 'visualstatemanager': 2, 'dynamodbs': 1, 'withlimit': 1, 'dynamodbmapperquery': 1, 'activerecordrecordnotfound': 5, 'symfonys': 1, 'preform': 2, 'calculations': 17, 'nsindexpath': 1, 'audience': 1, 'streamforeach': 2, 'layoutunit': 1, 'wrote': 1, 'expr': 6, 'envir': 3, 'enclos': 3, 'dashed': 6, 'helloworldstruts2': 1, 'reconnecting': 5, 'concurrentdictionary': 4, 'resolutions': 2, '530': 4, 'javalangillegalstateexception': 18, 'pageradapter': 1, 'adapters': 4, 'pageradapter#notifydatasetchanged': 1, 'wp8': 13, 'cs0002': 1, 'adds': 11, 'navstacked': 1, 'getaccesstoken': 1, 'setextendedaccesstoken': 1, 'expiry': 8, 'phpsessid': 6, 'recommendations': 8, 'handlebarsjs': 7, 'propertyplaceholderconfigurer': 5, 'h3': 3, 'popups': 8, 'mule': 6, '34': 18, 'jointable': 1, 'cascade': 10, 'addtarget': 3, 'sku': 3, 'beanwhen': 1, 'camerabase': 1, 'quote': 33, 'discard': 3, 'unmatched': 5, 'telnet': 3, 'enumdisplaydevices': 2, 'guests': 1, 'hint': 9, 'stdvectorunsigned': 2, 'onactivityresult': 2, 'switcher': 3, 'datagridviewrowcollection': 2, 'imageresize': 1, 'folding': 2, 'rainbowparentheses': 1, 'intermediary': 2, 'ioscall': 1, 'significantly': 3, '5000': 3, 'papertogglebuttons': 1, 'pushed': 8, 'psql': 1, 'circumstances': 2, 'nonredundant': 2, 'cocoas': 1, 'begin': 22, 'delegated': 1, 'songs': 3, 'xuid': 1, 'ttl': 1, 'iso8859': 1, 'alphabet': 13, 'sqlconnections': 1, 'interfere': 2, 'laptop': 4, 'tablet': 9, 'mysql_fetch_assoc': 4, 'pickerview': 2, 'mysqliquery': 3, 'resultsgiving': 1, '00': 6, 'presenttime': 1, 'printout': 4, 'taskwhenall': 3, 'mod_deflate': 1, 'zliboutput_compression': 1, 'globals': 6, 'pkey_device_friendlyname': 1, 'mastermind': 1, 'avd': 4, 'consolereadkey': 1, 'subfolder': 20, 'doclip': 1, 'perlstyle': 1, 'behave': 9, 'rejecting': 1, 'accompanying': 2, 'markdown': 23, 'sweave': 1, 'ospipe': 1, 'osfork': 2, 'ansible': 6, 'dockerpy': 1, 'runnables': 1, 'threadpoolexecutor': 2, 'unsubmit': 1, 'fileopener': 1, 'net20': 1, 'qtconcurrentrun': 2, 'documentall': 1, 'ietf': 1, 'bcp': 1, '47': 4, 'moot': 1, 'sharereplay': 1, 'rxjs5': 1, 'innermost': 4, 'regexmatch': 1, 'ist': 5, 'profiles': 7, 'activeprofilesresolver': 1, 'limiting': 20, 'formset': 7, 'multiplied': 2, 'coreanimation': 3, 'searchable': 1, 'rowupdating': 2, 'updateparameters': 1, 'chaining': 15, 'filestream': 7, 'iphones': 3, 'nonamed': 1, 'typedefing': 1, 'vstestconsoleexe': 1, 'impload_source': 1, 'registrations': 2, 'eclipselink': 12, 'nsfetchrequest': 2, 'tomany': 3, 'activerecordstatementinvalid': 2, 'stdfind': 4, 'abc': 5, 'pcfg_openfile': 1, 'issuewith': 1, 'iesicollection': 1, 'resultnum_rows': 1, 'invokerequired': 2, 'grabbing': 10, 'ngclass': 7, 'filledcontour': 1, 'delineate': 1, 'getfetchsize': 1, 'macs': 2, 'limitations': 10, 'securityexceptionno': 1, 'manifiest': 1, 'topk': 1, 'uiimagepickercontroller': 13, 'readmemd': 1, 'windowgetcomputedstyle': 1, 'drawline': 3, 'concisely': 1, '611': 1, 'trend': 2, 'serveresource': 1, 'localjumperror': 4, 'holds': 4, 'sqlite3_column_text': 2, 'notnullfalse': 1, '100143930': 1, 'locators': 1, 'mach': 1, 'cocos2d': 23, 'identifiers': 7, 'parallelfor': 2, 'owl': 2, 'socketerror': 7, 'errnoewouldblock': 1, 'datetimes': 8, 'sknode': 2, 'scenes': 6, 'jvm18': 1, 'wprocessorarchitecture': 1, 'orghibernateannotationexception': 2, 'stamp': 10, 'wizard': 11, 'ability': 6, 'qlayout': 2, 'mock_open': 1, 'patchobject': 1, 'technically': 1, 'before_save': 7, '6d': 1, 'rapid': 1, 'fixes': 1, 'openconnection': 1, 'rb': 3, 'approximate': 4, 'elevation': 3, 'stdmultimap': 1, 'customising': 6, 'xmlelementdecl': 1, 'objectfactory': 3, '7+': 1, 'get_the_terms': 1, 'pros': 15, 'cons': 17, 'adt': 6, 'cdata': 6, 'cls': 2, 'invoices': 2, 'tickets': 1, 'overwrites': 2, 'inspection': 4, 'stdmapx': 1, 'stdvectory': 1, 'resampling': 1, 'financial': 2, 'olhc': 1, 'canexecute': 2, 'mdi': 7, 'mysqldatabase': 1, 'nodejs+socketio': 1, 'dictionarys': 2, 'tic': 4, 'tac': 4, 'toe': 4, 'reentrant': 4, 'github': 21, 'rectangleswrite': 1, '204': 3, 'staticbitmap': 1, 'httpget': 19, 'functionmysqlquery': 1, 'helios': 2, 'apperaing': 1, 'stdc++0x': 3, 'passwordhasher': 1, 'locals': 6, 'c2535': 1, 'bins': 6, 'windowlocation': 14, '1921682533': 1, '2468': 1, 'econnrefused': 3, 'dpkg': 1, 'suckerfish': 1, 'arrayprototypeforeach': 1, 'observations': 4, 'intervals': 10, 'tournament': 2, 'getelementsbyclassname': 10, 'mvcresource': 1, 'stolen': 1, 'cv2ellipse': 1, 'mbstring': 5, 'phpcommon': 1, 'err_sys': 1, 'yesterday': 10, 'entitystore': 1, 'dijitformfilteringselect': 2, 'syspath': 5, 'libcrypto': 1, 'side_effect': 1, 'singularly': 1, 'survdiff': 1, 'printsystemjobinfojobstream': 1, '#include': 17, 'glmnet': 1, 'jqueryperfectscrollbar': 1, 'getelementbyid': 20, 'getelementsbyid': 2, 'gtk': 17, 'executenonquery': 8, 'xcode8': 1, 'nib': 13, 'skipping': 10, 'userinput': 3, 'nsnotfound': 1, 'nsintegermax': 1, 'hits': 6, 'qscrollarea': 1, 'ssrs': 13, 'modelling': 4, 'indefinitelyrecurring': 1, 'calendarlike': 1, 'uniqueentity': 1, 'tpl': 11, 'collected': 5, 'signs': 6, 'cvmat': 9, 'ndarray': 7, 'handles': 13, 'rtsp': 4, 'bitmapframe': 1, 'selftableviewreloaddata': 1, 'sparce': 1, '55': 16, 'numberformatexception': 5, 'thisip_address': 1, 'httpservletrequest#getremoteaddr': 1, 'cipherinit': 1, 'weighted': 5, 'tablesorter': 2, '#htmldocument': 1, 'selftextfielddelegate': 1, 'lifecyclecallbacks': 1, 'searchdisplaycontroller': 1, 'ajaxsuccess': 3, '179': 1, 'drools': 9, 'compositeuniquekeyvalidation': 1, '121': 3, 'as_sql': 1, 'nsnumbers': 1, 'selectionchanged': 4, 'cancelation': 1, 'createnamedpipe': 1, 'primaryexpression': 8, 'datetimeformatterparselocaldate': 1, 'xlim': 2, 'multhist': 1, 'eliminated': 2, 'mkdirectionsrequest': 1, 'javalangunsupportedoperationexception': 2, 'symbolic': 4, 'clickthrough': 1, 'qrc': 2, 'rescource': 1, 'hoc': 4, 'initwithnibname': 1, 'tif': 1, 'toarray': 6, 'fbwebdialog': 1, 'presented': 7, 'anothter': 1, 'icarousel': 3, 'nscomboxs': 1, 'comboboxselectiondidchange': 1, '04': 1, '09': 11, 'yyy': 3, 'apioperation': 1, 'apiauthorizationfilter': 1, 'accessviolation': 1, 'silent': 6, 'aws4hmacsha256': 1, 'blitting': 2, 'issuing': 3, 'octets': 1, 'arraylistinteger': 1, 'viewcontrollers': 7, 'capitalizing': 3, 'value_type': 3, 'javanet': 1, 'qpainter': 2, 'oldest': 3, 'decimalfield': 3, 'zoneinfo': 1, 'footprint': 4, 'saturday': 4, 'ambigious': 3, 'php_sapicli': 1, 'loadhtmlstring': 2, 'nltk': 21, 'codecvt': 1, 'workspacexml': 1, 'prolog': 4, 'protocols': 7, 'gtkfilechooserwidget': 1, 'nsubiquitouskeyvaluestoredidchangeexternallynotification': 1, 'typeimage': 1, 'ansynchronous': 1, '_crtdbgreport': 1, '_crt_rtc_init': 1, 'sdl2': 5, 'rowdata': 1, 'c2248': 3, 'nonrepeating': 2, 'promotion': 2, 'exceptionlistener': 1, 'unbound': 10, 'methodinstance': 1, 'attr_accessible': 3, 'nonint': 1, 'cpencreatepen': 1, 'nsnotificationcenter': 1, 'removeobserver': 1, 'possibile': 2, 'highend': 1, 'portlet': 3, 'classicquerytranslatorfactory': 1, 'astquerytranslatorfactory': 1, 'somes': 1, 'opensslx509certificateerror': 1, 'asn1': 3, 'callout': 7, 'reverseproxy': 1, '3000': 4, 'terminating': 20, 'inplacebitmapmetadatawritertrysave': 1, 'laggy': 1, 'chartsjs': 3, 'thousands': 12, 'australia': 1, 'shipping': 8, 'triger': 1, 'deeply': 7, 'defaultvalue': 4, 'pathparameter': 1, 'app_code': 5, 'straighforward': 1, 'colorizing': 1, 'grayscale': 12, 'breadcrumbs': 3, 'navbarbrand': 1, 'ccscale9sprite': 1, 'separators': 5, 'conver': 3, 'dropdownlists': 5, 'selectedindexchanged': 8, 'childnode': 1, 'localhost85': 1, 'remebering': 1, 'taskfactorycontinuewhenall': 1, 'omit': 6, 'applets': 6, 'documentlevel': 1, 'topright': 1, 'obfuscated': 4, 'googles': 14, 'barrel': 1, 'uitextviews': 2, 'textcontainer': 1, 'ctrl+d': 2, 'u1': 1, 'staffprofileuser': 1, 'onsuccess': 1, 'devicesim': 1, 'loose': 4, 'coupling': 4, 'pdfptable': 5, 'singledispatch': 1, 'unsafe': 12, 'utilize': 4, 'bundled': 2, 'guzzlehttp': 2, 'libluaa': 1, '501': 3, '452': 3, 'morethan': 1, 'cycles': 4, 'lives': 3, 'commented': 4, 'information_schema': 1, 'thefile': 1, 'phpsymfony': 1, 'qlineedit': 5, '411': 4, 'apitwittercom': 1, 'request_token': 1, 'reloaddata': 5, 'limits': 20, 'visitors': 14, 'geolocation': 16, 'redeploying': 4, 'interfering': 4, 'consolewriteline': 7, 'textgetbytes': 1, 'toolchain': 4, 'executescalarasync': 1, 'rasing': 1, 'positional': 4, 'client_socket': 1, 'statusmessage': 1, 'posixcompatible': 1, 'cagradientlayers': 1, 'angularfileupload': 1, 'responsesetheader': 1, 'racktest': 1, 'rack': 5, 'facility': 3, 'bat': 11, 'vision': 3, 'convex': 3, 'hulls': 1, 'convexity': 1, 'defects': 1, 'parallelization': 3, 'getrawinputdevicelist': 1, 'indexer': 7, 'autoreload': 2, 'replicate': 5, 'testimonial': 1, 'interference': 3, 'figures': 10, 'windowsservice': 1, 'routine': 8, 'ymsgrsendimusername': 1, 'javalangdouble': 1, 'sigusr1': 2, 'sigusr2': 1, 'productionlog': 1, 'favourite': 1, '1303': 1, '809': 1, 'mapkey': 1, 'hibernatehql': 1, 'anaconda': 24, 'onactionexecuted': 1, 'actionfilter': 2, 'lexicographically': 2, 'documentcookie': 1, 'bstr': 3, 'ensuring': 9, 'wraps': 3, 'putty': 2, 'f': 15, 'nonclass': 1, 'datatransfer': 3, 'jdbcodbc': 1, 'inflating': 11, 'androidsupportdesignwidgetnavigationview': 1, 'cdt': 3, 'windows7': 5, 'solved': 12, 'curious': 2, 'transferrable': 1, 'minimise': 1, 'minimising': 1, 'sliders': 4, 'chinese': 14, '+conflicting': 1, 'sepia': 1, 'navigationbar': 7, 'poptorootviewcontrolleranimated': 2, 'rubyselenium': 1, 'httpservletresponse': 5, 'webdriverchromedriver': 1, 'sometime': 2, 'scrollleft': 4, 'sha256': 6, 'avfoundation': 7, 'flood': 2, 'ddhhmmss': 1, 'observablecollectiondynamic': 1, 'icompare': 1, 'uniqueness': 6, 'candidate': 6, 'rewriting': 14, 'objectorghibernatemappingexception': 1, 'pan': 8, 'hyphen': 13, 'control+click': 1, 'daily': 8, 'itemupdating': 1, 'node_modules': 1, 'retake': 1, 'uiimagepicker': 4, 'dupes': 1, 'buttonfield': 2, 'statuscode': 1, 'erasure': 2, 'templatefield': 6, 'semicolonseparated': 1, 'automapping': 2, 'pulling': 15, 'hair': 1, 'viewed': 8, 'facet_wrap': 3, 'facets': 5, 'parentchild': 5, 's+': 1, 'lambdaconversionexception': 1, 'utilproperties': 2, 'systemwebuidesign': 1, 'instantiateviewcontrollerwithidentifier': 4, 'isolatedstoragefile': 1, 'isolatedstoragefilestream': 1, 'iff': 1, 'fcm': 6, '166': 1, '__definegetter__': 1, 'serialisation': 3, 'cobjectcobject': 2, 'cobject': 2, 'transportclient': 3, 'inserts': 15, 'sysstdinread': 2, 'consistently': 5, 'zindex': 15, 'recognizer': 4, 'exchage': 1, 'datatemplate': 16, 'cleaning': 6, 'weblogic': 33, 'family': 6, 'strlen': 6, '1024': 5, 'px': 6, 'dataannotations': 5, 'emulate': 12, 'ospathsamefile': 1, 'publish_actions': 1, 'sysargv': 7, 'javaxxmlwswebserviceexception': 1, 'versioncontrolserver': 1, 'codecademy': 3, '19': 14, 'baloon': 1, 'getdate': 6, 'ssms': 4, 'autogenerate': 1, 'subscriptions': 3, 'orphaned': 3, 'wen': 1, 'tapping': 4, 'uidocumentinteractioncontroller': 1, 'filled': 18, 'spread': 2, 'magically': 2, 'turns': 10, 'php5': 15, 'concepts': 9, 'explained': 4, 'theanos': 1, 'tensorvariable': 3, 'commiteditingstyle': 1, 'prices': 7, 'onpostexecute': 4, 'combined': 13, 'orgpostgresqlutilpsqlexception': 2, 'pg_hbaconf': 1, 'matchcase': 1, 'wholeword': 1, 'taskdef': 2, 'packagenameclassname': 1, 'invalid_grant': 2, 'unwrapped': 2, 'entitycollection': 2, 'threadstart': 4, 'naive': 2, 'bayes': 2, 'contract': 9, 'coclass': 1, 'apples': 6, 'unmappedclasserror': 1, 'sqlalchemyextdeclarativedeclarativemeta': 1, 'nodelist': 2, 'multilingual': 3, 'dropevent': 1, 'basehtml': 3, 'eventclick': 1, 'india': 2, 'qwerty': 1, 'spacebar': 2, 'sendkeyssendwait': 1, 'datagetdata': 1, 'ws_clipchildren': 1, 'invalidaterect': 1, 'telerik': 17, 'acces': 6, 'cv_32s': 1, 'enforce': 7, 'evicting': 1, 'cascadeevict': 1, 'filesaveas': 1, 'defaulttablemodel': 2, 'addrow': 1, 'buffering': 6, 'streamed': 6, 'idiom': 9, 'unset': 12, 'ms_directroutematches': 1, '237': 2, 'transfering': 1, 'htmltableelementinsertrow': 1, 'programmed': 1, 'likes': 3, 'ilistindexof': 1, 'xmlhttp': 3, 'vectorclass': 1, 'windowlistener': 1, 'pt_register': 1, 'requestscoped': 1, 'linenumber': 2, 'jscriptasp': 1, 'sidekiq': 1, 'anymatch': 1, 'recreate': 6, 'replicating': 4, 'decimalformat': 1, 'displayblock': 1, 'logically': 2, 't_logical_or': 1, 'sslsslerror': 2, '_sslc749': 1, 'systemsetproperties': 1, 'preferred': 17, 'servletcontextlistener': 3, 'quadrants': 1, 'directed': 5, 'pkcs#12': 1, 'pfx': 1, 'p12': 2, 'xmlnodeselectsinglenode': 1, 'summarise_each': 2, 'collecting': 7, 'imageapi': 1, 'libmysqlclientdev': 1, 'expanding': 11, 'collapsing': 5, 'repetitive': 1, 'widgets': 33, 'notimplementedexception': 2, 'bigint': 5, 'pthread_create': 11, 'datadumper': 1, 'dumping': 6, 'datastructures': 1, 'glrotate': 1, '48': 5, 'primitives': 4, 'spying': 2, 'orginal': 1, 'scipysparsehstack': 1, 'manged': 1, 'asio': 17, 'deadline_timer': 1, 'validationrule': 1, 'interthread': 1, 'descriptor': 16, 'initbinder': 3, 'rotated': 10, 'parcelable': 4, 'viewbased': 1, 'entitycommandexecutionexception': 1, 'trydequeue': 1, 'systemcollectionsconcurrent': 1, 'replacewith': 2, 'extpanel': 1, 'previews': 5, 'navigationcontroller': 6, 'querysets': 5, 'interact': 11, 'tolistasync': 2, 'dbset': 4, 'hyperlinks': 10, 'emailheaderparser': 1, 'imaplibfetch': 1, 'graphicsenvironment': 1, 'todo': 2, 'compressed': 8, 'oraclejdbcdriveroracledriver': 2, 'apachepoi': 5, 'arp': 2, 'uistoryboard': 1, 'calculates': 4, 'tracking': 31, 'intact': 6, 'webstore': 1, 'accesscontrolcontext': 1, 'cpphow': 1, 'parametrized': 5, 'dark': 4, 'pythonadapt': 1, 'surrounding': 3, 'testcode': 1, 'removerange': 1, 'tmatesoft': 1, 'sqljet': 1, 'sqljetexception': 1, 'cnamestr': 1, 'bootstraps': 4, 'v232': 1, 'mvvmlight': 4, 'newer': 10, 'migrations': 14, 'ilistsource': 1, 'hwnd': 4, 'radlistbox': 2, 'trasferring': 1, 'viewforrow': 2, '410': 1, '435final': 1, 'establishing': 4, 'attributemodifier': 1, 'ajaxlink': 2, 'tokenizing': 4, 'scheduledexecutorservice': 2, 'spawn': 7, 'datagridviewrow': 4, 'sonatype': 1, 'repo': 10, 'mysqli_free_result': 2, '110': 8, 'precompiling': 2, '1568': 1, 'glsl': 11, 'writeobject': 5, 'headless': 5, 'scopes': 16, 'redisrb': 3, 'forces': 3, 'regeneratorruntime': 1, '321': 3, 'phpsort': 1, 'requestuseris_authenticated': 1, 'mapinteger': 4, 'onetoonefield': 5, 'scramble': 1, 'illegalmonitorstateexception': 3, 'embeddedwebapplicationcontext': 1, 'semaphores': 2, 'javaprocess': 1, 'segmented': 2, 'crudrepository': 5, 'unfinished': 2, 'hibernate+spring': 1, 'detailview': 2, 'selfclose': 1, 'windowclose': 4, 'qas': 1, 'operate': 4, 'listsize': 1, 'listisempty': 1, 'selfresponseoutwrite': 1, 'html4': 2, 'embeds_many': 1, 'embeds_one': 2, 'listsplistitem': 1, 'talk': 9, 'booltovisibilityconverter': 1, 'rebinding': 3, 'flat': 14, 'sizeof': 11, 'embeding': 3, 'easyvideoplayer': 1, 'selfclosing': 5, 'crossorigin': 11, 'sqllite': 1, 'avplayerstatusreadytoplay': 1, 'variants': 4, 'loadcontent': 1, 'occurences': 6, '050': 2, 'accesses': 1, 'frustration': 2, 'dailyrollingfileappender': 3, 'consoleappender': 1, 'thisrender': 1, 'thiselement': 1, 'auinotebookgetselection': 1, 'awaitable': 3, 'suited': 2, 'particles': 2, 'nsinternalinconsistencyexception': 3, 'satisfying': 3, 'stayup': 1, 'clclientisbackgroundable': 1, 'internalfclient': 1, 'waitpid': 2, 'hints': 4, '691': 2, 'methodology': 1, '40rc1': 1, 'onoptionsitemselected': 2, 'ios4': 2, 'audiotoolbox': 1, 'audioservicesh': 1, 'rowsadded': 1, 'dramatically': 2, 'cash': 1, 'treeviewitems': 1, 'name1': 1, 'sizechanged': 2, 'rxjava': 9, 'symbolname': 1, 'dialogbox': 5, 'complains': 8, 'stringappend': 1, 'elapsed': 18, 'lnk2001': 7, 'routecollection': 1, 'mapmvcattributeroutes': 1, 'jnativehook': 1, 'triplet': 2, 'systemwebui': 1, 'explorerexe': 2, 'metamodel': 3, 'abcxyz': 1, 'plupload': 2, 'ienumerablekeyvaluepairstring': 1, 'coefficient': 3, 'clob': 10, 'checkboxs': 5, 'elemeny': 1, 'lags': 2, 'anagram': 2, 'ontouchmove': 2, 'touched': 4, 'ossystem': 6, 'substitute': 7, 'itemtemplate': 11, 'rowdatabound': 4, 'authcomponentlogin': 1, 'textreader': 1, 'puppet': 3, 'getname': 2, 'post_build': 1, 'future': 17, 'libgraph': 1, 'graphicsh': 4, 'xssfworkbook': 4, 'feedback': 8, 'stringentity': 1, 'recipient': 8, 'summation': 1, 'gulpwatch': 1, 'subsequent': 4, 'aspnet_sessionid': 1, 'activecheckbox': 1, 'servertoclient': 1, 'mute': 3, 'away': 26, 'alias': 32, 'nuget': 12, '2017': 4, 'rc': 7, 'addmigration': 2, 'updatedatabase': 1, 'phonegaps': 3, 'navigatorglobalizationdatetostring': 1, 'protractorhow': 1, 'gettexttrim': 1, 'javautilrandom': 2, 'unlink': 2, 'androidstudio': 3, 'proxies': 7, 'gruntjs': 5, 'jdbccategorydataset': 1, 'onclientclickaspnetformtarget': 1, '_blank': 2, 'simples': 1, 'fileseekp': 1, 'interlockedexchanget': 1, 'intended': 13, 'uu2013': 2, 'pandasio': 1, 'directorynames': 1, 'rmpfr': 1, 'mpfrh': 1, 'girdview': 1, 'terribly': 2, 'orghsqljdbcdriver': 1, 'stringnamed': 1, 'twilio': 6, 'libhdfs': 1, 'keras': 7, 'bullet': 4, 'protobufs': 2, 'messagebuilder': 1, 'fielddescriptor': 1, 'serialized': 20, 'datascope': 1, 'hourglass': 1, 'equalization': 2, 'colored': 11, 'textchange': 2, 'pwizard': 1, 'poutputpanel': 1, 'add_view': 1, 'intro': 1, 'particleeffect': 1, 'sublayers': 4, 'offline': 15, 'emded': 1, 'gmap': 5, 'tsv': 3, 'colletion': 1, 'ontouchend': 1, 'placing': 10, 'kubuntu': 1, 'mage': 2, 'adminhtml': 1, 'formphp': 1, '463': 1, 'dropdownbutton': 2, 'com_dotnet': 1, 'anyway': 14, 'vc': 1, 'programmr': 1, 'javalangstackoverflowerror': 2, 'precommit': 3, 'committed': 6, 'logn': 2, 'vue': 6, 'didselectrowatindexpath': 10, 'swinglibrary': 1, 'oledbdataadapter': 1, 'happened': 3, 'xxxx': 9, '12554': 1, 'ctrlclick': 1, 'rsp': 1, 'correspond': 4, 'add_foreign_key': 1, 'cobol': 1, '2920811': 1, 'keyedmessage': 1, 'producersend': 1, 'vectorpush_back': 2, 'rating': 9, 'redirected': 14, 'clones': 1, 'twitterframework': 1, 'stick': 4, 'ther': 2, 'autoclick': 1, 'pecl_http': 1, 'min3d': 1, 'session_decode': 1, 'decreasing': 4, 'converttostring': 3, 'rapidly': 3, 'knobs': 1, 'sfsafariviewcontroller': 1, 'execv': 4, 'concerning': 2, 'qt5_use_modules': 1, 'mappermap': 1, 'constructusing': 1, 'windowlocaton': 1, 'windowpathname': 1, 'factors': 11, 'cxampphtdocsemployeesphp': 1, 'tchar': 2, 'prbs': 1, 'validity': 4, 'conforming': 4, 'fetchsize': 1, 'db2': 16, 'loggedin': 4, 'pythoninstagram': 2, 'federated': 1, 'xcode4': 2, 'activity_mainxml': 1, 'ioncontent': 2, 'specials': 1, 'basemap': 3, 'subplots': 13, 'serializes': 1, 'nsurlsession': 4, 'finalize': 6, 'collector': 13, 'reusing': 15, 'twitter4j': 1, 'owa': 1, 'snapping': 1, 'list_append': 1, 'updateexpression': 1, 'browse': 17, 'asyncfileupload': 3, 'msvcprtlib': 1, 'incremented': 4, 'implicity': 3, 'systemwindowsformscolumnheader': 1, '414': 2, 'leaves': 12, 'authenticationprovider': 1, 'collapses': 3, 'mangles': 1, 'contenttype': 14, 'oserror': 10, 'blog': 11, 'assertionerror': 6, 'structured': 5, 'contentdocument': 3, 'apn_on_rails': 1, 'nvidias': 1, 'rawvalue': 2, 'mathfloor': 2, 'communicationexception': 1, 'wrongly': 4, 'octal': 6, 'setenvif': 1, 'fulfills': 1, 'fbui': 1, 'nonfunction': 2, 'gain': 5, 'knownfoldersdocumentslibrary': 1, 'manipulating': 16, 'jta': 4, 'jbosskitchen': 1, 'setzoomscaleanimated': 1, 'messes': 2, 'rh': 1, 'rmathh': 1, 'deliverable': 1, 'unite': 1, 'lazyload': 2, 'dropable': 1, 'produced': 3, 'varimax': 1, 'newbie': 15, 'graphics2d': 1, 'pointerto': 1, 'tabpane': 3, 'paginate_links': 1, 'iostream': 5, 'equest': 1, 'prefetch': 3, 'introducing': 2, 'loadall': 1, 'miss': 6, 'v1084': 1, 'onepage': 4, 'checkout': 25, 'rbindfill': 1, 'gpio': 2, 'end_of_maintenance': 1, 'outofmemoryerror': 13, 'whiling': 1, 'logics': 1, 'hotel': 1, 'rooms': 2, 'persistencecontext': 1, 'meandefault': 1, 'radix': 3, 'conflict': 21, 'idl': 1, 'wsgirequest': 5, 'routecontroller': 2, 'routesphp': 2, 'silverlights': 1, 'neuralnet': 3, 'nonconformable': 2, 'xmpp': 12, 'datasetreadxml': 1, 'dofinal': 1, 'tlsv12': 2, 'datacontext': 18, 'iduitextfielddelegate': 1, '_nullable': 1, 'homedataform': 1, '__strong': 2, 'phpscript': 2, 'outputs': 11, 'documentactiveelement': 2, 'draganddrop': 4, 'dictreader': 3, 'illuminateauthgenericuser': 1, 'mdichild': 1, 'refuses': 8, 'qstring': 12, 'systemdatasqlclientsqldatareader': 3, 'systemiconvertible': 4, 'customised': 2, 'hood': 3, 'commitallowingstateloss': 1, 'syncfs': 1, 'waits': 1, 'disc': 3, 'stub': 13, 'slots': 6, 'findviewbyid': 8, 'requiredfieldvalidator': 3, 'marshallergetnode': 1, 'splitcontainer': 4, 'bouncycastle': 1, 'activatorcreateinstance': 2, 'activatorcreateinstancet': 1, 'diffrent': 1, 'standardinput': 1, 'exiting': 9, 'acm': 1, '10038': 1, 'jolly': 1, 'jumpers': 1, 'escapejs': 1, 'vkcom': 1, 'nethttppost_form': 1, 'xmlserialization': 1, 'v321': 1, 'threadjoin': 4, 'windowblur': 2, '86400000': 1, 'reloads': 3, 'cuevideobyid': 1, 'jobsxml': 1, 'webforms': 15, 'backcolor': 9, 'checkboxfor': 4, 'memcpy': 4, 'windowpostmessage': 2, 'autopostback': 4, 'indexpathforselectedrow': 2, 'uitableviews': 4, 'apnsphp': 2, 'churn': 1, 'stylish': 1, 'presentations': 1, 'ppts': 1, 'activated': 4, 'baseform': 1, 'compositekeys': 1, '278': 2, 'pypm134': 1, 'refs': 3, 'cellforrow': 1, 'lexicographic': 1, 'orgspringframeworkbeansfactorynosuchbeandefinitionexception': 2, 'springsecurityfilterchain': 2, 'bindparam': 7, 's3getobjectinfo': 1, 'googlemaps': 6, 'couples': 1, 'suns': 1, 'comsun': 1, 'risking': 3, 'eml': 1, 'cyclomatic': 2, 'throwable': 5, 'palette': 1, 'dstables': 1, 'spa': 5, 'continous': 1, '15k': 1, 'dao': 13, 'vo': 2, 'httplistener': 3, 'macho': 6, 'unauthorized': 21, 'acl': 5, 'soil': 1, 'dictionarykey': 1, 'systemthreadingtask': 1, 'wpdb': 1, 'is_page': 4, 'junittest': 1, 'cube': 6, 'availability': 13, 'convolution': 1, 'ocaml': 2, 'formated': 3, 'xmlns': 8, 'appdelegate': 8, 'iduiapplicationdelegate': 1, 'flatmap': 2, 'employs': 1, 'objnil': 1, 'mysqli_stmtbind_result': 1, 'lookupid': 1, 'bluetoothchatexample': 1, 'webcams': 1, 'std': 21, 'threadabortexception': 4, 'overrun': 1, 'jndi': 28, 'looked': 2, 'servicelocator': 1, 'generalize': 1, 'riffle': 1, 'shuffle': 7, 'opinion': 2, 'battleship': 5, '1053': 4, 'timely': 5, 'fashion': 8, 'issuesetcharacterencoding': 1, 'latlng': 4, 'd3tip': 1, 'elasticache': 1, 'lettuce': 1, 'faint': 1, 'mpi_init': 1, 'quickstart': 4, 'coexist': 1, 'radiobuttonlist': 7, 'systemdataentityinfrastructuredbquery': 1, 'books': 8, 'mfmailcomposeviewcontrollers': 1, 'tapped': 8, 'nginxconf': 1, 'istream': 2, 'fresh': 5, 'vertices': 7, 'vertex': 12, 'persistence': 22, 'iclientmessageinspectorbeforesendrequest': 1, 'fileuploadgetfilename': 1, 'fakepath': 1, 'knitred': 1, 'bindinghandler': 1, 'stubbing': 7, 'shmop': 1, 'understood': 3, 'allocates': 3, 'recurring': 6, 'buildxml': 7, 'winapi': 19, '64k': 1, 'pad': 12, 'feel': 8, 'translucent': 2, 'subprocesscheck_output': 5, 'check_output': 1, 'msstdfmtdll': 1, 'imagesource': 4, 'execjsprogramerror': 1, 'welcome#index': 1, 'rake17': 1, 'require_gem': 1, 'mainobject': 6, 'parked': 1, 'imgttftext': 1, 'eth0': 1, 'presence': 13, 'projections': 1, 'perspective': 6, 'explains': 1, 'cfrelease': 1, 'autoscroll': 9, 'pointline': 1, 'taobao': 1, 'yahoo': 6, 'fantasy': 1, 'sports': 1, 'pinterest': 3, 'uisref': 3, 'angularuirouter': 3, '#define': 28, 'wacky': 1, 'hasse': 1, 'treemap': 6, 'oci_no_data': 1, 'oci8': 2, 'crlf': 5, 'xmlnodetype': 1, 'hungs': 1, 'freases': 1, 'clinkpager': 2, 'publishing': 8, 'hosts': 4, 'plan': 7, 'orgapachemavenplugins': 1, '131': 2, 'curlopt_certinfo': 1, 'supplied': 22, 'tricks': 7, 'commysqljdbcdriver': 7, 'undecorated': 1, 'severe': 3, 'skd': 1, 'drivermanagergetconnection': 3, 'us': 15, 'storagesbackendss3boto': 1, 'xmldiffpatch': 1, 'strictmode': 1, 'argumentcalleelength': 1, 'link_to_addremove': 1, '#simpleformformbuilder': 1, 'commysqljdbcpreparedstatementsetblob': 1, 'iljava': 1, 'jetty': 21, 'ontabchangelistener': 1, 'lpthread_start_routine': 1, '140': 1, 'jframeb': 1, 'ut': 1, 'awteventqueue0': 5, 'separation': 7, 'filter2d': 1, 'cleanly': 5, 'incrementable': 2, 'menustrip': 1, 'slowing': 4, 'bootstrapped': 1, 'htmlparse': 2, 'russian': 4, 'sp1': 4, 'little': 15, 'endian': 7, 'bitshift': 1, 'datesetdate': 1, 'asserting': 3, 'flashdata': 3, 'forced': 7, 'ospathexpanduser': 1, 'update_attributes': 8, 'objectmethod': 1, '0027': 1, 'dropping': 10, 'trycatchfinally': 1, 'rails4': 7, 'errnoeinval': 1, 'rb_sysopen': 4, 'primeface': 1, 'picklist': 5, 'xmlelementwrapper': 1, 'touchable': 2, 'superfinalize': 1, 'programmically': 2, 'spawns': 1, 'findhomography': 1, 'cvfindhomography': 1, 'tabseparated': 1, '0x09': 1, 'flowlayout': 3, 'hashmapstring': 4, 'alphabetize': 3, 'crosscorrelation': 1, 'nonperiodic': 1, 'retrieved': 22, 'loginredirect': 1, 'semicolon': 15, 'howtoconvertjavarddtodataset': 1, 'ql': 1, 'errorchecked': 1, 'getdeclaredmethod': 1, 'swaps': 4, 'ondestroy': 1, 'ondispose': 1, 'osenviron': 2, 'programfiles': 1, 'julian': 1, 'boostrapcss': 1, 'sized': 14, 'dreamweaver': 5, 'cs6': 1, 'formspy': 1, 'admins': 4, 'fstream': 7, 'requestquerystring': 6, 'storagefile': 2, 'singletons': 7, 'microsoftaspnetfriendlyurls': 1, 'essentially': 1, 'columnizing': 1, 'ipv4address': 1, 'postgress': 1, 'pgerror': 4, 'creds': 1, 'facadephp': 1, '216': 2, 'illuminatefoundationapplicationmissing': 1, 'phonenumber': 2, 'c1083': 5, 'opencv2': 5, 'corehpp': 1, 'sanitation': 1, 'vlookup': 1, 'formulas': 6, 'sxssfworkbook': 1, 'multiparameter': 1, 'sideeffect': 1, 'hacker': 1, 'proofing': 1, 'opsforvalue': 1, 'valueoperations': 1, 'stdarray': 2, 'snaps': 1, 'mouseup': 5, '504': 5, 'php+framework': 1, 'mktime': 3, 'miles': 5, 'subimage': 2, 'shrink': 7, 'stylevisibility': 2, 'phtml': 9, 'coin': 4, 'breezejss': 1, 'imagewidth': 1, 'imageheight': 1, 'interceptors': 4, 'servletmodule': 1, 'hashless': 1, 'ajaxcall': 2, 'euclidean': 3, 'max_length': 1, 'charfield': 1, 'needle': 4, 'haystack': 1, 'get_or_create': 7, 'popping': 3, 'productive': 1, 'charcodeat': 1, 'stringfromcharcode': 1, '55349': 1, 'multiindex': 4, '0x000000000': 1, 'excelfile': 1, 'canada': 1, 'alwaysdatacom': 1, 'typeinitializationexception': 1, 'somewhere': 5, 'tail': 15, 'raspberry': 10, 'pi': 12, 'gphoto2': 1, 'regrow': 1, 'boilerplate': 4, 'csrf_protect': 1, 'modelforms': 3, 'user_version': 1, 'error_404php': 1, 'houghlinesp': 1, 'grammatically': 1, 'nonlinear': 6, 'sparselil_matrix': 1, 'uniqid': 5, 'obvious': 3, 'universalnewline': 2, 'invite': 2, 'weekends': 8, 'approuter': 2, 'backbonemarionettejs': 1, 'art': 4, 'bundling': 6, '52week': 1, 'participation': 1, 'uisrefactive': 1, 'expiring': 5, 'soon': 5, 'numberic': 1, 'solitaire': 2, 'klondike': 1, 'fish': 1, 'javalanglinkageerror': 3, 'aything': 1, 'numberofrowsinsection': 2, 'djangorestframework': 13, 'choosing': 18, 'someones': 2, 'mess': 2, 'snprint': 1, 'lifetime': 9, 'nsinvalidargumentexception': 14, '0x1d53b6b0': 1, 'squished': 1, 'webinflib': 1, 'angualrjs': 2, 'sustaining': 1, 'logincomponenthtml': 1, 'excessive': 4, 'passenger': 35, 'cloudtableexecutebatch': 1, 'tablebatchoperation': 1, 'storageexception': 1, 'xmemory': 1, 'c++0x': 7, 'wheres': 7, 'overridable': 4, 'efficently': 1, 'rail': 1, 'printersettings': 1, 'getcurrent': 1, 'reverts': 2, 'oracledatasource': 1, 'ucp': 1, 'dbcp': 3, 'fadein': 14, 'fadeto': 2, 'drawbacks': 5, 'jasper': 25, 'railss': 2, 'rails_root': 1, 'railsroot': 1, 'installs': 4, 'wow': 1, 'ondrawitem': 1, 'reputation': 2, 'dynamicsized': 1, 'idle': 27, 'dbprepare': 1, 'normalizespace': 2, 'normalized': 3, 'mod_rewrite': 20, 'mistyped': 1, 'nonwordpress': 1, 'ngdisabled': 7, 'finger': 8, 'httptransport': 1, 'transfermode': 1, 'urlfetch': 4, 'nonjavascript': 1, 'unknownhostexception': 2, 'filephp': 2, 'guaranteed': 9, 'pthread_cond_signal': 1, 'wake': 4, 'translation': 17, 'find_element_by_css_selector': 1, 'kivy': 23, 'ast': 3, 'yiiapp': 1, 'dbcreatecommand': 1, 'uisegmentedcontrol': 5, 'listfind': 1, 'systemdelegate': 1, 'pathforresource': 3, 'nonunique': 1, 'notempty': 1, 'sqrt': 2, 'nsmakerange': 1, 'replacebytesinrange': 1, 'decompress': 3, 'virtualenvwrappersh': 1, 'phpymadmin': 1, 'simulating': 7, 'pushstate': 4, 'reversing': 12, 'futurejs': 1, 'xmlsyntaxerror': 1, 'assertexists': 1, 'multirow': 2, 'detailed': 6, 'converttodecimal': 1, 'as7': 1, 'sever': 5, 'orgspringframeworkwebservletpagenotfound': 1, 'nohandlerfound': 2, 'flush': 15, 'anagrams': 3, 'enumerate': 10, 'evp_decryptfinal_ex': 1, '61': 20, 'architectural': 4, 'enlarged': 1, 'bind_param': 6, 'float32array': 1, 'redrawn': 2, 'nasm': 2, 'locks': 11, 'recycleview': 1, 'incompatibleclasschangeerror': 1, 'startproject': 1, 'jtextarea': 3, 'layered': 2, 'blurred': 2, 'udf': 3, 'reachable': 3, 'jalerts': 1, 'mysqlparameter': 2, 'seleniums': 1, 'prism': 7, 'viewbag': 12, 'scipyoptimizeminimize': 1, 'legacy': 12, 'dn': 2, 'phpfpmconf': 1, 'phpfpmd': 1, 'orgglassfishdeploymentcommondeploymentexception': 1, 'llog': 1, 'boostposix_time': 2, 'timewithzone': 2, 'timezonenow': 2, 'mcpkit': 1, 'shellapplication': 1, 'uploadify': 2, 'onallcomplete': 1, 'getresourceasstream': 3, 'ora01461': 1, 'dependancy': 3, 'builidng': 1, '__get': 1, '__get__': 1, '__getattr__': 1, 'mysql_insert_id': 2, 'captured': 11, 'minutesseconds': 1, 'datas': 2, 'effitive': 1, 'throttle': 3, 'rxobservable': 1, 'selfcontained': 1, 'plaform': 1, '6x': 2, 'onbeforeunload': 4, 'gs_initps': 1, 'ienumerablebase': 1, 'ienumerablederived': 1, 'metacafe': 1, 'comgooglegsonjsonsyntaxexception': 2, 'begin_array': 1, 'billion': 1, 'libza': 1, 'doom': 1, 'passes': 7, 'gracefully': 7, 'ssid': 1, 'nl2br': 3, 'nonrest': 1, '360': 5, 'degrees': 16, 'locating': 8, 'modelspy': 5, 'progmatically': 1, 'iap': 3, 'msvcr100dll': 2, 'okhttp': 3, 'okio': 1, 'add_meta_box': 1, 'weirdness': 3, 'datagridrowstyle': 1, 'rewriterule': 5, 'subarray': 9, 'slices': 7, 'disregard': 1, '0xe0434352': 2, 'stdqueue': 4, 'jpas': 1, 'reusable': 9, 'succeeds': 2, 'clears': 5, '211': 3, 'datamodel': 1, 'tripledes': 2, 'pruning': 1, 'detector': 3, 'apt': 4, 'javaee': 5, 'interdependent': 1, 'rubys': 10, 'synchronously': 7, '1101': 1, 'suggests': 1, 'confined': 1, '130': 3, 'find_if': 2, 'invent': 2, 'squareroot': 1, 'nonnullable': 6, 'slack': 1, 'sax': 2, 'wellformed': 4, 'dbseed': 6, 'ifstructure': 1, 'classifierpredict': 1, 'acode': 1, 'xlibh': 1, 'toolstrip': 3, 'sselect': 3, 'lable': 4, 'javanetmalformedurlexception': 3, 'fk': 1, 'palettes': 3, 'distinguishable': 1, 'bw': 1, 'exponents': 4, 'cancan': 1, 'doubles': 19, 'assignable': 2, 'baz': 1, 'teamcity': 6, 'httpkernel': 1, 'credit': 13, 'scanning': 10, 'c++s': 2, 'stdsort': 4, 'connectioncreatestatement': 1, 'executequery': 3, 'showasaction': 1, 'lvl': 1, 'ngoptions': 6, 'dice': 5, 'pep8': 2, 'shrinks': 2, 'breadth_first_visit': 1, 'enableshared': 1, 'environmentgetfolderpath': 1, 'commonapplicationdata': 2, 'datagridviewrowscount': 1, 'nav_menu': 1, 'selecttemplate': 1, 'copied': 11, 'msdn': 1, 'xtype': 4, 'fps': 2, 'listboxselectedindexchanged': 1, 'igrouping': 2, 'blues': 1, 'biginteger': 6, 'unbundle': 1, 'maintains': 4, 'stringification': 3, 'fedora': 5, 'edatagetdata': 1, 'xmlstring': 2, '1092': 2, 'facescontextutilsgetwebapplicationcontext': 1, 'facescontextgetcurrentinstance': 1, 'rangeerror': 5, 'setrequestheader': 5, 'usemultiple': 1, 'mysqldump': 2, 'phpeclipse': 1, 'cookiejs': 1, 'modelandview': 3, 'red': 15, 'javascriptionicangular': 1, 'typescriptionic': 1, '2angular': 1, '1gb': 5, 'jaxdws': 1, 'pre': 12, 'aes256': 5, 'toggling': 10, 'rvalue': 5, 'ordereddictionary': 1, 'listdictionary': 2, 'hybriddictionary': 1, 'uidatepicker': 7, 'scrollable': 16, 'history': 26, 'groupbys': 1, 'applys': 1, 'exited': 16, 'navigateurl': 1, 'messageboxiconexclamation': 1, 'messageboxiconwarning': 1, 'windowscrollto': 1, 'dictionarylength': 1, 'deprecation': 3, 'alias_method_chain': 1, 'attributed': 3, 'edmentitytypeattribute': 1, 'edmschemaattribute': 1, 'beginexecutereader': 1, 'mocked': 8, 'phimagemanager': 1, 'mtp': 2, 'adb': 6, 'stringisnullorempty': 4, 'drl': 3, '630': 1, 'pir': 1, 'sensors': 1, 'alerts': 4, 'x86_64': 14, 'textfieldshouldchangecharactersinrange': 1, 'rethrowing': 2, 'ucs2': 4, 'webbrowsers': 1, 'loadcompleted': 1, 'symmetric': 7, 'illuminatehttprequest': 1, 'rely': 4, 'singelton': 2, 'gateways': 2, '217': 1, 'windoweventsrcelement': 1, 'webdrive': 1, 'iosocket': 1, 'flashes': 2, 'videoid': 1, 'gdatayoutubecom': 1, 'feeds': 12, 'server2008': 1, 'beginexecutenonquery': 3, 'endexecutenonquery': 2, 'requestparam': 7, 'reportviewer': 5, 'qwebpdf': 1, 'webspace': 1, 'lookahead': 1, 'abouce': 1, 'decodeuri': 1, 'fpermissive': 1, 'jsfiddle': 9, 'variations': 4, 'nums': 1, 'recompile': 5, '71': 9, 'invalidkeyexception': 1, 'str_extract': 1, 'datetimeparse': 4, 'cancellation': 8, 'listviewitems': 2, 'portable': 16, 'systemxml': 2, 'performances': 2, 'dataimage': 2, 'descriptions': 5, 'inaccessible': 4, 'clustering': 17, 'readasdatacontractstring': 1, 'threadrun': 1, 'handlerpost': 1, 'c1xx': 1, 'javanese': 1, 'pdo_oci': 1, 'thymeleaf': 23, 'oob': 1, 'classregistryinit': 1, 'onbegindrag': 1, 'ctreectrl': 1, 'quartile': 4, 'rebuilding': 3, 'wget': 7, 'scriptmanager': 2, 'registerstartupscript': 1, 'runtimeexec': 3, 'msvc10': 1, 'couchrest': 1, 'systemdrawingcolor': 4, 'pressure': 1, 'throug': 1, 'arrayfilter': 1, '904': 1, 'mojarra': 1, 'executorservice': 8, 'orgapachecatalinaconnectorrequest': 1, 'systemdataentityinfrastructurecommitfailedexception': 1, 'cpuid': 1, 'md5js': 1, 'scannernext': 1, '_xmem': 1, 'tr1': 1, 'yaxxz': 1, 'msvcp90ddll': 2, 'eof': 22, 'navbarfixedtop': 1, 'repositioning': 1, 'springel': 1, '#fieldshaserrors': 1, 'systemtype': 7, 'xyz': 7, 'dropzonejs': 3, 'usa': 2, 'nsobject': 11, 'rails_env': 2, 'backlash': 1, 'outputted': 3, 'dispatcherinvoke': 2, 'analogue': 2, 'wrongtype': 1, '#g': 1, 'sublimetext': 2, '341': 1, 'xmldocument': 4, 'charset': 16, 'java+mysql': 1, 'downloadable': 6, 'unauthorizedaccessexception': 4, 'filecopy': 6, 'idiomatic': 8, 'idxxx': 1, 'college': 2, 'graduate': 1, 'jbossas711final': 1, 'var1var2': 1, 'taxes': 1, 'parseobject': 1, 'observablecollections': 1, 'loginlogout': 1, 'responsesendredirect': 1, 'requestmethoddelete': 1, 'regex_replace': 1, 'undefs': 1, 'defines': 6, '000+': 2, 'receivetimeout': 1, 'sts': 2, 'appli': 1, 'remainder': 7, 'terrain': 3, 'filechangeinfo': 1, 'adhere': 2, 'messaging': 14, 'logi': 1, 'systemlayoutsizefittingsizeuilayoutfittingcompressedsize': 1, 'vexed': 1, 'prototypes': 10, 'recipients': 8, 'microsoftspeechrecognition': 1, 'dimentional': 2, 'microsoftnethttp': 1, 'hierarchicaldatatemplatetriggers': 1, 'sessionstored': 1, 'datetimenow': 5, 'dirty': 13, 'squares': 9, 'c2593': 1, 'improve': 22, 'ended': 9, '64512': 1, 'apache2': 10, 'readfile': 5, 'corrupt': 10, 'tagsoup': 2, 'skspritenodes': 3, 'spritekit': 14, 'childnodes': 5, 'stripping': 7, 'install_failed_missing_shared_library': 1, 'junction': 1, 'impossible': 10, 'qtreeview': 4, 'evenly': 7, 'divisible': 7, 'manualreseteventwaitone': 1, 'typeadapter': 2, 'jsonwriter': 2, 'ioninput': 2, 'loggerjs': 1, 'javaudp': 1, 'regloadkey': 1, 'sanity': 1, 'multiplayer': 7, 'viable': 8, 'otherone': 1, 'writelines': 1, 'testweb': 1, 'bufferedwriter': 2, 'distiinguishing': 1, 'clean_fieldname': 1, 'populates': 2, 'mongoosejs': 1, 'policy': 13, 'disallows': 2, 'syntaxhighlighter': 1, 'autoloader': 2, 't_foreach': 1, 'ols': 3, 'estimation': 7, 'ar': 4, 'term': 14, 'pgconnectionbad': 3, 'myname': 1, 'javaxvalidation': 1, 'jbossdeploymentstructure': 1, 'linkedblockingqueue': 2, 'concurrentlinkedqueue': 1, 'socket_connect': 2, 'functionsocketconnect': 1, 'javalangunsatisfiedlinkerror': 9, 'xxxso': 1, 'classloader': 16, 'arraylistcomparable': 1, 'systemtimeoutexception': 1, 'mscorlibdll': 6, 'looks': 15, 'djangodbutilsdatabaseerror': 1, 'discretization': 1, 'chosenjqueryjs': 1, 'debugprint': 1, 'mondors': 1, 'mscaptcha': 2, 'httphandler': 5, 'incident': 1, 'sums': 9, 'unabletocompleteexception': 1, 'icloud': 7, 'btninverted': 1, 'petclinic': 1, 'jqueryvalidate': 3, 'varying': 13, 'functionedit': 1, 'iobservable': 3, 'tmyproperty': 1, 'sortedlistmyclass': 1, 'arrayofclassname': 1, 'rxjs': 5, 'mergemap': 1, 'clientid': 6, 'remote_user': 1, 'datagridvew': 1, 'tile': 14, 'scaffolding': 6, 'unsecured': 1, 'msinternalnamedobject': 1, 'snake': 11, 'throught': 3, 'walls': 1, 'fram': 2, 'usermask': 1, 'scriptinjector': 1, 'vs2012': 14, 'getmethod': 3, 'productionenv': 1, 'systemdbnullvalue': 1, 'listboxs': 3, 'streampublish': 3, 'columndefinition': 1, 'presentmodalviewcontroller': 1, 'libclang': 1, 'multiplebagfetchexception': 1, 'mpmovieplayerviewcontroller': 5, 'wrt': 3, 'microphone': 3, 'agc': 1, 'stream_socket_client': 4, 'delphi': 19, 'tolongdatestring': 1, 'ss': 2, 'stray': 5, '210': 4, 'androidphonegapapp': 1, 'ff5': 1, 'deallocate': 2, 'pristine': 2, 'safehandle': 1, 'deterministically': 2, 'therein': 1, 'gulpmocha': 1, 'fileuploadpostedfile': 2, 'prn': 3, 'associating': 2, 'msword': 5, 'pathstring': 1, 'pathgeneric_string': 1, 'chronological': 1, 'usaco': 1, 'preparedstatements': 1, 'repainted': 1, 'entityset': 1, 'definingquery': 1, 'updatefunction': 1, 'ctype': 2, 'hinputtext': 1, 'hdatatable': 1, 'termcolor': 1, 'qtablewidget': 5, 'inotifypropertychanged': 4, '0x80040e14': 1, 'kerberos': 2, 'fulljustification': 1, 'graphicsdrawstring': 1, 'controlc': 1, 'commandc': 1, 'devieces': 1, 'generaly': 1, 'alertbuilder': 1, 'getcalculatedvalue': 1, 'nullterminated': 3, 'representing': 14, 'linkedlists': 2, 'collect2': 1, 'adapt': 5, 'positionwhy': 1, 'jasperexception': 1, 'gruntcontribrequirejs': 1, '33554432': 1, 'exhausted': 7, 'listindex': 3, 'mightnotexist': 1, 'illegalannotationsexception': 1, 'song': 4, 'man': 3, 'subversion': 7, 'added_to_cart': 1, 'form_validation': 4, 'graphing': 7, 'jquerylike': 1, 'domdocument': 3, 'urlcontains': 1, 'urlstartswith': 1, 'eagerly': 1, 'shutdown': 17, 'reduced': 1, 'shortcuts': 6, 'int64': 5, '1kb': 1, 'cstdio': 1, 'pushplugin': 1, 'systemxmlserialization': 1, 'directoryinfo': 3, 'beta2': 1, 'lengthy': 2, 'review': 4, 'appdomainbasedirectory': 1, 'httpcontextcurrentservermappath': 3, 'mirc': 1, 'textinputlayout': 1, 'unicodeincompatible': 1, 'minimizes': 1, 'peek': 2, 'edittext': 27, 'spell': 3, '90': 12, 'blurry': 1, 'monotonically': 1, 'hibernates': 3, 'saveorupdate': 2, 'reciprocal': 3, 'rank': 12, 'rowspan': 4, 'columnspan': 1, 'homing': 1, 'missiles': 1, 'aim': 1, 'mysqlifetch_row': 1, 'portion': 12, 'apaches': 1, 'formdesktopbounds': 1, 'joint': 2, 'inference': 8, 'removeattribute': 2, 'wo': 1, 'ecma': 2, 'lnk4217': 1, 'lnk4049': 1, 'quantity': 8, 'gridarrange': 2, 'west': 1, 'itempanel': 1, 'programing': 4, 'weakly': 1, 'retained': 3, 'recordcount': 2, 'mysql_connect': 11, '531': 3, 'php_oci8dll': 1, 'clientserver': 6, 'mysqls': 4, 'aes_decrypt': 1, 'cxampphtdocstest': 1, 'hej': 1, '#includes': 1, 'ndimensional': 4, 'csproj': 4, 'quizquestions': 1, 'arraylistcustomobject': 1, 'arraylistobject': 4, 'wordwrap': 2, 'get_post_meta': 3, 'mysql_store_result': 1, 'mysql_fetch_row': 3, 'accesskey': 1, 'des': 9, 'libarchive': 1, 'multiplelist': 1, 'functoolspartial': 2, 'servicestacktext': 4, 'sleekxmpp': 1, 'substitution': 4, 'app_data': 3, 'localdb': 1, 'javalangstringsplit': 1, 'viewspy': 4, 'ports': 19, 'systeminvalidcastexception': 4, 'microsoftvisualbasicdll': 2, 'padded': 4, 'nthchild': 1, 'sqldbtype': 1, 'htmlspanelement': 1, 'dicts': 5, 'agrument': 1, 'geo': 6, 'degree': 14, 'start_sticky': 1, 'start_not_sticky': 1, 's3client': 1, 'nodevalidator': 1, 'dbparameter': 1, 'tselectonemenu': 1, 'hhmmss': 14, 'checkchange': 1, 'strcpy': 10, 'invoice': 6, 'mongocursor': 2, 'pinvoke': 6, 'javaxjms': 1, 'confusing': 8, 'jaxbcontext': 2, 'packagename': 3, 'uicollection': 1, 'sel': 2, 'imp': 1, 'jwtauth': 1, 'umbracocreate': 1, '1collection': 1, '2single': 1, 'expense': 1, 'pythonlinkedin': 1, 'cronphp': 1, 'thows': 2, 'a1': 1, 'b1': 1, 'lamports': 1, 'mvvmwpf': 1, 'versioning': 10, 'topleft': 1, 'smalldatetime': 2, 'refesh': 1, 'early': 9, 'partitioning': 3, 'hive': 15, 'smashing': 3, 'aout': 2, 'dumped': 6, 'listliststring': 4, 'todense': 1, 'elegantly': 2, 'mongodbnative': 1, 'nonempty': 10, '74': 2, 'hapi': 1, '#myid': 1, 'myid': 2, 'loadresourceasstream': 1, 'virtualization': 2, 'facetracking': 1, 'gridpanel': 4, 'lt': 5, 'disposed': 11, 'nonbacktracking': 1, 'subexpression': 1, 'exp': 4, 'sessionscontroller#create': 2, 'jetbrains': 2, 'webstorm': 9, 'cope': 1, 'mathpow': 1, 'fractional': 4, 'j2sescale': 1, 'contentpane': 3, 'keystroke': 2, 'javaxpersistencepersistenceexception': 1, 'perroute': 1, 'virtualhost': 2, 'mscomm32ocx': 2, '6i': 1, 'compiletpload': 1, 'guitext': 3, 'apply_along_axis': 1, 'companys': 1, 'follower': 2, 'reponse': 7, 'lvalue': 11, 'menubar': 6, 'nonajax': 1, 'cllocationmanagerauthorizationstatus': 1, 'clauthorizationstatusnotdetermined': 1, 'swiftobjc': 1, 'parsererror': 4, 'watermark': 6, 'extender': 3, 'echos': 1, 'gige': 1, 'dataflow': 1, 'hadoops': 1, 'djangocoremanagement': 2, 'dolayout': 1, 'ur': 1, 'specialization': 10, 'schemalocation': 1, 'assemblyunable': 1, 'nonactivity': 2, 'javasecurityspecinvalidkeyspecexception': 1, 'javasecurityinvalidkeyexception': 1, 'ioexception': 14, 'der': 2, 'sequencegenerator': 2, 'responsecontext': 1, 'subscriptable': 7, 'wit': 1, 'equivallent': 1, 'oswalk': 3, 'dendrogram': 3, 'remembered': 1, 'survfit': 1, 'coxme': 1, 'characterencodingfilter': 1, 'listusercontrol': 1, 'perrow': 1, 'semicircle': 1, 'simpleform': 2, 'databehaviour': 1, 'compressing': 8, 'fos': 4, 'userbundle': 2, 'ifelifelse': 2, 'isprime': 1, 'already_invoked': 1, 'raketask': 2, 'loaddefaults': 1, 'antlrruntimenoviablealtexception': 1, 'msvcr90dll': 1, 'soapinclude': 1, 'databound': 18, 'crossvalidation': 1, 'sklearn': 9, 'operator+': 4, 'ie11': 18, 'modelbuilder': 1, '0000100002': 1, 'setmaxresults': 2, 'supply': 6, 'foreground': 16, 'flickering': 10, 'lockfree': 2, 'springbeansxyxsd': 1, 'dataframeapply': 1, 'alters': 1, 'automate': 16, 'prompts': 3, 'altering': 3, 'ndkbuildcmd': 1, 'mssql_query': 1, 'qsplitter': 1, 'setsizes': 1, 'prior': 7, 'unflatten': 1, 'selfinvoking': 1, 'dataaccessexception': 2, 'xmlwritersettings': 1, 'writeendelement': 1, 'tensors': 1, 'securing': 3, 'gender': 6, 'male': 1, 'female': 1, 'abbreviations': 5, 'filerenameto': 2, 'staticfiles': 1, 'csstransitions': 1, 'redcarpet': 1, 'dotnetnuke': 4, 'usercontrollergetuser': 1, 'portalid': 1, 'userid': 9, 'transactionscope': 9, 'transactionabortedexception': 1, 'issuer': 2, 'theory': 2, 'parallelise': 2, 'subnodes': 1, 'beforeclass': 4, 'heapdump': 2, 'reach': 10, 'httpresponsemessage': 5, 'startactivityforresult': 3, 'fileexists': 4, 'inexistent': 1, 'jfoldercreate': 1, 'open_basedir': 2, 'fetched': 9, 'forloopcounter0': 1, '#13': 2, 'viewpager': 10, 'ionicscroll': 1, 'mysql_error': 2, 'actioning': 1, 'systemwebuiwebcontrolsgridview': 1, 'accessories': 1, 'srcs': 1, 'composers': 1, 'classmap': 1, 'javanetsocketexception': 12, 'deleteobject': 2, 'systemwebuipageprocessrequestmain': 1, 'includestagesbeforeasyncpoint': 1, 'includestagesafterasyncpoint': 1, 'uiimages': 5, 'wider': 1, 'broke': 4, 'dateformat': 3, 'rkobjectmanager': 1, 'shuts': 2, 'datefromstring': 5, 'dubious': 1, 'named_scope': 3, '3gp': 3, 'orgsqlitejdbc': 1, 'javaxsqldatasource': 2, 'thus': 2, 'to_csv': 1, 'duplicatekeyexception': 2, '#1': 8, 'linearlayout': 11, 'blobs': 2, 'pdoexception': 12, 'phasset': 1, 'npcs': 1, 'objectset': 2, 'informations': 3, 'presetting': 1, 'getdatefromformat': 1, 'contenttemplate': 2, 'systemprivatecorelibnidll': 1, 'javaxmail': 4, 'targeting': 7, 'find_by_sql': 2, 'urlconnection': 3, 'nonexclusive': 1, 'aka': 13, 'borderless': 2, 'customvalidationattribute': 1, 'specifed': 2, 'rangebased': 5, 'rangeinit': 1, 'datetimezone': 3, 'winter': 1, 'summer': 1, 'administration': 5, 'setwindowlongptr': 1, 'gwlp_userdata': 1, 'addvalueeventlistener': 1, 'nosuchmethoderror': 6, 'orgapachehadoophdfsdfsinputstream': 1, 'manytomanyfields': 5, 'textedit': 3, 'strtolower': 2, 'jre_home': 1, 'onrestoreinstancestate': 1, 'kitkat': 1, 'orgspringframeworkjdbcdatasourcedrivermanagerdatasource': 2, 'xamarinios': 3, 'dispatch_async': 5, 'dispatch_sync': 1, 'tcpsocket': 2, 'ccnode': 1, 'dockercompose': 2, 'netuseadd': 1, 'netapi32dll': 1, '2gb': 6, 'find_in_set': 1, 'macosx': 6, 'siblings': 4, 'myuserdetailsservice': 1, 'improving': 10, 'randomizing': 2, 'stdlist': 9, 'v60': 1, 'passback': 1, 'shrinked': 1, 'upcasting': 2, 'downcasting': 2, 'relocation': 2, 'associate': 13, 'rbenv': 1, 'wh_keyboard_ll': 1, 'surround': 2, 'windowbuilder': 1, 'shorthand': 6, 'documentwrite': 6, 'xmlhttponreadystatechange': 1, 'qualify': 3, 'characterdigit': 1, 'converters': 5, 'filtercontextresult': 1, 'catastrophic': 1, '0x8000ffff': 1, 'e_unexpected': 1, 'accessorytype': 1, 'javautilmapentry': 1, 'rst': 3, 'requestsexceptionsconnectionerror': 1, 'retries': 1, 'readline': 12, 'selfreferential': 2, 'belongs_to': 22, 'aspnetdb': 1, 'javaxxmlwssoapsoapfaultexception': 1, 'dx11': 1, 'setwebviewclient': 1, 'setwebchromeclient': 1, 'handlebars': 17, 'complications': 2, 'spring3': 1, 'ban': 1, 'rollnearest': 1, 'utlity': 1, 'cal': 2, 'uuid4': 1, 'includes_url': 1, 'wpincludes': 1, 'webpackconfigjson': 1, 'retransmission': 1, 'combadlogicgdxgraphicsgl10': 1, 'streamnotsupported': 1, 'accdb': 2, 'branch': 8, 'scm': 1, '_mixin': 1, 'subqueries': 9, 'linq2sql': 4, 'publicly': 4, 'listmyobj': 1, 'dfto_records': 1, 'sessioned': 1, 'nonsessioned': 1, 'visits': 4, 'servermappath': 3, 'buttonclick': 6, 'radar': 3, 'clarified': 1, 'correspondence': 1, 'twitterbootstrap': 5, 'sscanf': 9, 'lua_state': 2, 'emulating': 2, 'aro': 1, 'aco': 1, 'access_log': 1, 'dependencyexpression': 1, 'undefinedmetricwarning': 1, 'fscore': 3, 'illdefined': 3, 'predicted': 2, 'samples': 13, 'severity': 2, 'oraclejdbcdrivert4cconnectionisvalid': 1, 'systemoutprintln': 6, 'timespec': 1, 'nanoseconds': 6, 'tv_nsec': 1, 'responsewrapper': 1, 'escaped': 19, 'cgiescapehtml': 1, 'qheaderview': 1, 'javaiostreamcorruptedexception': 1, 'troubleshoot': 3, 'hg': 4, 'modelobjectsget': 1, 'epoll_pwait': 1, 'urlstreamhandler': 1, 'thirdparty': 11, 'pixelbypixel': 1, 'faults': 1, 'numberofsectionsintableview': 1, 'prerequisites': 2, 'nonconst': 6, 'stdvectordouble': 1, 'programmingerror': 2, 'datetimerangefield': 1, 'coercion': 2, 'asnumeric': 2, 'friend': 11, 'fql': 4, 'ttable': 1, 'animals': 1, 'invalidspecificationexception': 1, '193': 18, '29': 4, 'cricket': 1, 'scoreboard': 2, 'encountered': 19, 'comapplecoresimulatorsimerror': 1, '146': 1, 'thisgetcontext': 1, 'dominator': 1, 'identityrole': 1, 'daylight': 6, 'savings': 6, 'scalesfree': 1, 'db_host': 1, 'cwampwwwcbmallindexphp': 1, 'unzip': 7, 'withevents': 2, 'previouspage': 2, 'shadows': 4, 'redistributable': 3, 'wix': 5, 'c++11deleted': 1, 'participate': 1, 'stackoverflowerror': 7, 'finite': 6, 'logcat': 5, 'substr': 3, 'qthread': 3, 'qdialog': 3, 'reject': 9, 'gcj': 1, 'timespan': 12, 'promisethen': 2, 'addattributetofilter': 1, 'german': 7, 'umlauts': 1, 'idx': 1, 'googlechrome': 1, 'httpshandler': 1, 'tm': 3, '1and1': 1, 'ucfirst': 1, 'namespaced': 7, 'stdios_basetrunc': 1, 'stdios_baseout': 1, 'subsetted': 1, 'ear': 10, 'clustered': 3, 'dialogfragment': 2, 'forwardedtypes': 1, 'copyonwrite': 1, 'crawlspider': 2, 'fillable': 1, 'pointerexception': 1, 'copyonwritearraylist': 3, 'frequent': 12, 'occasional': 3, 'formhelper': 3, 'sheets': 16, 'c#s': 7, 'useminprepare': 1, 'transforming': 8, 'determinant': 3, 'dense': 2, 'myprojectservletxml': 1, 'ran': 5, 'processbuilder': 2, 'googleapi': 2, 'priorities': 3, 'activerecordunknownattributeerror': 2, 'ajaxcontroltoolkit': 3, 'modalpopup': 3, 'okcontrolid': 1, 'aspbutton': 5, 'onvaluechange': 1, 'select_tag': 5, 'flamingo': 1, 'ribbon': 4, 'systemloadlibrary': 1, 'saxparser': 2, 'inputing': 2, 'configparser': 4, 'asynchronousserversocketchannel': 1, 'dispay': 2, 'wxstaticbox': 1, 'javaxtransactionrollbackexception': 1, 'abbreviation': 4, 'drag+drop': 1, 'normalization': 4, 'stylesheets': 8, 'propertychangedeventhandler': 2, 'onclickcall_locker': 1, 'ngroute': 6, 'eselectplus': 1, 'bankers': 1, 'fxp': 1, 'composerassetplugin': 1, 'autoheight': 2, 'submits': 10, 'sre_constantserror': 1, 'processexec': 1, 'precompiled': 6, 'aligning': 9, 'mysql_init': 1, 'doubts': 4, 'formsets': 4, 'nsalert': 1, 'allocating': 10, 'totality': 1, 'heartbeat': 4, 'pixelwise': 1, 'imaging': 1, 'fluentmigrator': 1, 'nonclustered': 1, 'primarykey': 2, 'subtabs': 1, 'prepopulate': 4, 'codingcompliant': 4, 'holes': 2, 'jodatime': 13, 'acelerator': 1, 'atmosphere': 1, 'uploader': 14, 'errorexception': 2, 'culprit': 3, '0d0a': 1, 'dowork': 4, 'parkactivity': 1, 'subfolders': 13, 'rescue_from': 1, 'reraise': 1, 'np': 1, 'uicollectionviewcells': 2, 'inf': 4, 'findone': 2, 'interview': 20, 'circumvent': 2, 'translated': 5, 'bcreatedocumentfragment': 1, 'arraycontains': 1, 'qcroreapplication': 1, 'qapplication': 5, '536': 1, '3byte': 1, '4byte': 1, 'bodycontains': 1, 'iteratorremove': 2, '2010110': 1, 'documentexeccommand': 3, 'birth': 8, 'strerror': 1, 'noun': 2, 'stat_function': 2, 'fblogout': 1, 'classcircularityerror': 1, 'gem_original_require': 1, 'cloudyscripts': 1, 'delegating': 3, 'uap': 1, '105860': 1, 'soapmessage': 3, 'gemset': 3, 'documenting': 1, 'datetoday': 2, 'nio': 16, 'fastlines': 1, 'things': 13, 'papercliperrorsnotidentifiedbyimagemagickerror': 1, 'deselect': 7, 'domparserparsefromstring': 1, 'xml5619': 1, 'filemove': 4, 'nsautoresizingmasklayoutconstraint': 1, 'strength': 9, 'getjsons': 1, 'sdist': 2, 'cdis': 2, 'guices': 2, 'twitters': 1, 'glcolor4f': 1, 'executesql': 1, 'springsecurity': 8, 'microsoftdataodata': 2, 'languages': 19, 'ressources': 2, 'jsonxs': 1, 'sort_by': 3, 'ctrl+c': 3, 'alternatingrowbackground': 1, 'datagridrow': 2, 'edited': 10, 'rerenders': 1, 'schemes': 4, 'nickname': 1, 'imessenger': 1, 'vms': 1, 'monthcalendar': 1, 'saying': 8, 'wiener': 1, 'cv': 8, 'uncommitted': 3, 'catransaction': 2, '1real': 1, 'capital': 8, 'systemxmlxmlnode': 1, 'systemxmllinqxelement': 1, 'scipysignalfind_peaks_cwt': 1, 'mp4': 15, 'move_uploaded_file': 9, 'facebookinit': 1, 'flash9': 1, 'datatableselect': 3, 'meant': 10, 'intermediate': 9, 'didupdatelocations': 2, 'didupdatetolocation': 1, 'cachecontrol': 2, 'initialising': 5, 'thumb': 6, 'alphabetindexer': 1, 'stdmapint': 2, 'stdbasic_stringchar': 4, 'instancetype': 1, 'stylesheet_link_tag': 1, 'albums': 3, 'getlocaltime': 1, 'kernel32dll': 2, 'getmodulebase': 1, 'pushviewcontroller': 7, 'sql_latin1_general_cp1_ci_as': 1, 'memmove': 2, 'inequality': 2, 'angles': 3, 'file_get_html': 1, 'javaattachment': 1, 'orgpostgresqldriver': 1, 'mini': 3, 'gai': 1, 'qtcpsockets': 1, 'informing': 1, 'accountlock': 1, 'mvc2': 9, 'dopostback': 2, 'capturestackbacktrace': 1, 'sadly': 1, 'stdclass': 10, 'vis': 1, 'questionbasic': 1, 'backgroundposition': 5, 'permalinks': 2, 'poor': 8, 'scalability': 2, 'javanio': 2, 'fileexistsatpath': 1, '_': 15, 'isdirectory': 4, 'unsafemutablepointerobjcbool': 1, 'blacklist': 3, 'dts': 1, 'filereader': 5, 'nswindowcontroller': 2, 'nsviewcontroller': 1, '4way': 1, 'temperature': 10, 'sudoku': 2, '3x3': 3, 'ending': 19, 'wether': 1, 'phpstorms': 2, 'deeper': 4, '2311': 2, 'adaptive': 3, 'carry': 6, 'restricted': 5, 'sock_dgram': 1, 'sock_stream': 1, 'nut': 1, 'scripting': 18, 'onstatechange': 2, 'author': 4, 'postauthorname': 1, 'cascadeclasifier': 1, 'facerecognizer': 1, 'fisherface': 1, 'qsqlquery': 1, 'beanfactory': 1, 'fetchall': 5, 'datagridviewcomboboxcell': 2, 'teradata': 2, 'weeknumber': 1, '505': 1, 'combox': 3, 'busybox': 1, '0x17c0f5c': 1, '0x17c3298': 1, 'er': 1, 'fancy': 7, 'reduction': 3, 'iskindofclass': 3, 'datataskwithurl': 1, 'createifnotexists': 1, 'entires': 2, 'poller': 1, 'solid': 5, 'money': 8, 'setprecision': 2, 'superinit': 1, 'reinstalling': 2, '#400': 1, 'packing': 6, 'forwarding': 10, 'dropdowns': 9, 'calendargetinstance': 2, 'vb2010': 3, 'lodashmap': 1, 'stringprototypetolowercasecall': 1, 'urimapper': 1, 'corresponds': 8, '_self': 1, 'flicker': 2, 'homepage': 12, 'base_fields': 1, 'bufferedreadernextline': 1, 'flashing': 3, 'deselecting': 2, 'sendgrid': 2, 'javalangruntimeexception': 8, 'javalanginstantiationexception': 1, 'dbsets': 2, 'thinks': 5, 'setcelleditor': 1, 'titanium': 5, 'consolereadline': 5, '300': 3, 'face': 7, 'detectmultiscale': 1, 'capybaraexact': 1, 'have_selector': 1, 'ejbjarxml': 2, 'succeed': 1, 'confirmed': 2, 'multipleobjectsreturned': 1, 'appcompiledebugjavawithjavac': 1, 'realmobject': 1, 'dirname': 3, 'python33_dlib': 1, 'hashmaps': 8, '502': 10, 'typekey': 1, 'collage': 1, 'selectfeature': 1, 'oschdir': 3, 'sendmailasync': 1, 'clock_monotonic': 1, 'pthread_mutex_timedlock': 1, 'pthread_cond_timedwait': 2, 'developed': 6, 'uirouters': 1, 'statechangeerror': 1, 'permission_denied': 1, 'cvgetmat': 1, 'facebooklike': 1, 'eventwait': 1, 'intensive': 5, 'thisurisegment': 1, 'kepler': 6, '432': 3, 'm6': 1, 'luna': 5, 'setbadgetext': 1, 'tomorrow': 2, 'nildependencies': 1, 'pmessage': 2, '#1052': 1, 'hitcounter': 1, 'htmlelement': 6, 'getattribute': 5, 'dryer': 1, 'java8': 9, 'packaged': 4, 'alertbox': 1, 'filepathfield': 1, 'drawatpoint': 1, 'ciimage': 2, 'greeting': 1, 'netty': 27, '133020': 1, 'ihtmldocument2documentelementouterhtml': 1, 'recreating': 4, 'vstring': 1, 'replication': 4, 'innodb': 4, 'systemdataoledboledbexception': 1, 'getbounds': 2, 'typehinting': 1, 'getresources': 1, 'openrawresource': 1, 'schemas': 3, 'javasecuritycertcertpathvalidatorexception': 1, 'trust': 5, 'cvtree': 1, 'talking': 1, 'supposedly': 1, 'namenode': 2, 'uiscrollviews': 2, 'processform': 1, 'javaxpersistencetableindexes': 1, 'ljavax': 2, 'pdo_mssql': 1, 'viewpoint': 1, 'jee6': 1, 'eax': 3, 'person': 10, 'unfollow': 1, 'dayname': 1, 'compositeid': 1, 'donut': 4, 'displaymemberpath': 1, 'goback': 2, 'glob': 4, 'uiimagejpegrepresentation': 1, '__cmp__': 1, '__hash__': 1, '486': 1, 'drilldown': 4, 'dim': 8, 'dosfeel': 1, 'prototypejs': 6, 'elementprototypeappendchild': 1, 'dbupdateconcurrencyexception': 1, 'guarantee': 5, 'comvaadinshareduibuttonbuttonserverrpc': 1, 'xslcompiledtransform': 1, 'mastering': 1, 'requestbody': 8, 'hashset': 6, 'rhow': 1, 'memberexpression': 1, 'unaryexpression': 1, '1603': 1, 'leafletr': 1, 'exclusive': 5, 'statics': 2, '1358731920220jpg': 1, 'autoinclude': 1, 'c2079': 1, 'righthand': 1, 'stateless': 6, 'stores': 9, 'misplaced': 5, 'permutations': 14, 'error101': 1, 'servicename': 1, '_groups_': 1, 'dsxml': 1, 'hiveserver2': 1, 'listcustom_class': 1, 'valuesomevalue': 1, 'println': 6, 'exc_breakpoint': 3, 'codeexc_i386_bpt': 1, 'subcode0x0': 3, 'gulpngannoate': 1, 'agentlib': 1, 'rowspecific': 1, 'datagridviewcomboboxcolumn': 3, '05f': 1, '05': 10, 'impl': 1, 'stateful': 2, 'tofixed': 3, 'instr': 2, 'consoledir': 1, 'jqueryload': 2, 'containt': 1, 'sharpziplib': 1, 'checkd': 1, 'cmapcmgray': 1, 'iuseremailstore': 1, 'studios': 3, 'localhost8983': 1, 'producerconsumer': 2, 'test_coredataappdelegate': 1, 'xelementtostring': 1, 'centre': 3, 'vnc': 1, 'lgpl': 2, 'printed': 15, 'whiele': 1, 'textvalue': 1, 'pdo_mysql': 2, 'set_message': 1, 'binds': 4, 'dataloadingtext': 1, 'tld': 1, 'facebookgetsession': 2, 'dbcontextdatabaseexecutesqlcommand': 1, 'additivity': 1, 'webhttpbinding': 1, 'tableattribute': 1, 'systemcomponentmodeldataannotationsschema': 2, 'gridlines': 6, 'orgopenqaseleniumnosuchelementexception': 2, 'smallbin': 1, 'cvaddweighted': 1, 'check_box': 2, 'intra': 1, 'variability': 1, 'monochrome': 1, 'ptrdiff_t': 3, 'stdvectorsize': 1, 'androidruntime': 1, 'selfpresent': 1, 'tagged': 1, 'powerful': 2, 'file_field': 1, 'promises': 15, 'outputed': 2, 'sprintf_s': 2, 'eb': 2, 'seleniumwebdriver': 5, 'htmlunitdriver': 2, 'transparency': 13, 'networkconnectionchanged': 1, 'piglatin': 1, 'html+javascript': 1, 'rigidbody': 3, 'ienumerableexcept': 1, 'releases': 2, 'hiddenfield': 3, 'decimal128': 1, 'probably': 7, 'standardized': 2, 'limt': 1, 'javahome': 1, '11+': 1, 'evalution': 1, 'ngchecked': 3, 'assistant': 2, 'iduipickerviewdatasource': 1, '__init__py': 6, 'closeevent': 1, 'cmd+q': 1, 'nonpod': 1, 'ora01465': 1, 'rewrites': 1, 'useragent': 1, 'ethernet': 3, 'cable': 3, 'lob': 1, 'executorservicesubmit': 1, 'vectorstring': 7, 'systemenum': 1, 'forin': 7, 'glib': 1, 'autocommit': 1, 'lottery': 1, 'calculuator': 1, 'minwidth': 1, 'proportions': 4, 'pojo': 15, 'actionlink': 8, 'fits': 5, 'slopes': 1, 'sale': 2, 'err': 4, 'subscripts': 2, 'subkey': 2, 'lxmletree': 2, 'synchronized': 25, 'seleniumwebdriverz': 1, 'orgapachehadoopconfconfiguration': 1, 'polls_choice': 1, 'poll_id': 1, 'amp': 11, 'pageaspx': 1, 'polls': 1, 'xmlxsl': 1, 'idictionary': 5, 't_else': 2, 'cheat': 4, 'datarolepage': 2, 'nsdictionaries': 2, 'htmleditor': 1, 'profilebase': 1, 'celsius': 3, 'fahrenheit': 4, 'extensionmethod': 1, 'datarowcollection': 1, 'bearer': 5, 'indexroute': 1, 'dataframeix': 1, 'lesser': 2, 'barcode': 10, 'intermec': 1, 'pb20': 1, 'lineprinter': 1, 'keychain': 6, 'mddialogfinally': 1, 'windowinnerheight': 1, 'systemidisposable': 2, 'troubles': 9, 'nsexception': 1, 'bitarray': 3, 'wmic': 1, 'bringtofront': 2, 'unusual': 6, 'migrated': 1, 'assetsprecompile': 6, 'parametervalue': 1, 'tooltiplike': 1, 'favicon': 3, 'javaspring': 1, 'contextxml': 4, 'identifiedtype': 1, 'radial': 2, 'trycatchs': 1, 'chokes': 3, 'calendarselectedvalue': 1, 'instance_eval': 2, 'class_eval': 2, 'postconstruct': 2, 'memoryerror': 5, 'ews': 7, 'filed': 3, 'pdfstamper': 2, 'systemwide': 1, 'occur': 11, 'soh': 1, 'point3dtopoint': 1, 'pointandztopoint3d': 1, 'wellformatted': 1, 'orghibernatepropertyvalueexception': 1, 'imageviewstartanimating': 1, 'layoutthe': 1, 'androidsupportv4viewviewpager': 2, 'viewdata': 5, 'ienumerableselectlistitem': 3, 'pesttype': 1, 'multiset': 2, 'nextlong': 1, 'reveal': 5, 'lay': 1, 'mopedbsondocument': 1, 'shortcode': 3, 'ticked': 1, 'pivoting': 2, 'satisfied': 2, 'hung': 4, 'sdf': 2, 'authenticate_admin': 1, 'cartphp': 1, 'allowablemovement': 1, 'vector3': 2, 'request_method': 3, 'imagick': 2, 'localy': 1, 'hybi10': 1, 'environmental': 4, 'longrunning': 5, 'ws_ex_transparent': 1, '328': 4, 'networkstream': 2, 'readasync': 1, 'send_data': 3, 'send_file': 3, 'sqlsrv_query': 2, 'nokogirijava': 1, 'nicer': 1, 'getvariables': 1, 'increments': 4, 'fbsdkaccesstoken': 1, 'currentaccesstoken': 1, 'channels': 5, 'streamcollect': 2, 'typesafe': 4, 'streamtoarray': 1, 'intfunctiona': 1, 'iv': 3, 'unidecode': 1, 'esc': 2, 'slowdown': 2, 'uiviewanimationoptioncurveeaseout': 1, 'autoinc': 1, 'medoo': 1, 'ganymed': 2, 'float32': 1, 'float64': 3, 'cleartimeout': 3, 'strutsservestatictrue': 1, 'servestaticbrowsercachefalse': 1, 'balancing': 1, 'activerecordrelation': 2, 'involve': 2, 'subsetting': 5, 'nonna': 1, 'havent': 3, 'autocompleteextender': 3, 'octetstream': 1, 'attributeconverter': 2, 'awss3errorsinvalidaccesskeyid': 1, 'natively': 2, 'requestis': 1, 'isotopejs': 1, 'namingexception': 1, '423': 4, 'meter': 2, 'crossthreading': 1, 'community': 6, 'developes': 1, 'preloading': 3, 'registerbroadcast': 1, 'opensslcipher': 1, 'stdbegin': 1, 'stdend': 1, 'hr': 3, 'sec': 6, 'onclientclickwindowopen': 1, 'destaspx': 1, 'ib': 4, 'cleared': 6, 'likelihood': 1, 'estimator': 3, 'tax': 4, 'guest': 1, 'zurb': 8, 'ellipsoid': 1, 'resulting': 10, 'energy': 2, 'ipa': 2, 'modifies': 3, 'bordercontainer': 1, 'ssl_error_protocol_version_alert': 1, 'iniitializing': 1, 'objwritersave': 1, 'jtablegetselectedrow': 1, 'cer': 1, 'listinterface': 1, 'hasclass': 2, 'pasting': 4, '1030am': 1, '730pm': 1, 'shorter': 10, 'cancelling': 3, 'entitystatedeleted': 2, 'maincpp': 3, 'benchmark': 9, 'datatypeconvertor': 1, 'parsedatetime': 1, 'ssh2_scp_recv': 1, 'acess': 1, 'djangocontribsites': 1, 'site_id': 1, 'glvertexattribpointer': 1, 'gldrawelements': 6, '70+': 1, 'perthread': 1, 'observablearray': 2, 'iostreamh': 2, 'controlleras': 1, 'ci_sessions': 1, 'stoppropagation': 3, 'prebundle': 1, 'warmup': 2, 'smallint': 1, '1604': 3, 'considering': 4, 'malicious': 3, '#activerecordconnectionadapterstabledefinition0x7f2a8fb07c30': 1, 'individually': 7, 'pandasread_csv': 3, 'accents': 7, '3515': 1, '11110': 1, 'standards': 8, 'syllables': 4, 'rubyrailstutorialorg': 1, 'setselectedanimated': 2, 'easyautocomplete': 1, 'html+css': 2, 'quarterly': 2, 'servletinit': 2, 'logindispacher': 1, 'externalise': 1, '80': 16, 'rewrited': 1, 'errorassociationrelation': 1, 'activemodelcompatible': 2, 'to_partial_path': 1, 'off_t': 1, '0x80010106': 1, 'currentapplicenseinformationisactive': 1, 'authlogout': 1, 'realpath': 1, 'dimensioned': 1, 'yyyymmm': 1, '2009mar': 1, 'listsomething': 1, 'gethostname': 1, 'spite': 1, 'uique': 1, 'mygdxgame': 1, 'fullfill': 1, 'systemtypeloadexception': 2, 'accessory': 7, 'k3d': 1, 'gridtext': 1, 'classnotfoundexceptions': 1, 'lombokdata': 1, 'validationexception': 2, 'submenus': 5, 'thermal': 1, 'appphp': 2, 'hows': 1, '__rtc_checkesp': 1, 'encapsulated': 1, 'caspereach': 1, 'rspecs': 2, 't_if': 2, 't_function': 3, 'disk_1': 1, 'makemyrice': 1, 'cart_updatephp': 1, '_fopenunix2003': 1, 'dbconnectionquery': 1, 'loadcomplete': 1, 'semaphoreslim': 1, 'varbinary': 7, 'pyobject': 1, 'hdd': 2, 'systemdatetime': 7, 'getdoctrine': 1, 'symfonycomponenthttpfoundationresponse': 1, 'referred': 3, 'led': 1, 'dominoes': 1, 'laying': 1, '_sdl_main': 1, 'asenvironment': 2, 'workstation': 4, 'springs': 9, 'messagesourcegetmessage': 1, 'spanspan': 1, 'classtext': 1, 'tle': 1, 'hotels': 1, 'spoj': 3, 'canonicalizing': 1, 'unobtrusive': 2, '413': 4, 'chromesockets': 1, 'hacking': 5, 'crecordset': 1, 'screens': 6, 'compulsory': 1, 'semitransparent': 4, 'fileoutputstream': 8, 'kinda': 1, 'anycpu': 2, 'rubygemsorg': 1, 'httpcontextcurrent': 4, 'queryover': 1, 'convertible': 4, 'arm': 12, 'systemlinqiqueryable': 2, 'button_to_function': 1, 'xdocumentsave': 2, 'configuraionerror': 1, 'auto_start_request': 1, 'approximations': 1, 'randomness': 1, 'achieved': 2, 'ios8': 9, 'autocompleting': 1, 'jerseyserver': 1, 'dumps': 2, 'tcl_asyncdelete': 1, 'googlemapsgeocoder': 1, 'grep': 9, 'clientcredentials': 1, 'servicecertificate': 1, 'cssjavascript': 1, 'objectstyledisplay': 1, 'tooltips': 12, 'spider_idle': 1, 'datetimepickerdatevalue': 1, 'cif': 4, 'processclose': 1, 'onemany': 2, 'gselect': 1, 'optionvalue': 1, 'environmentgetcommandlineargs': 1, 'utf16': 3, 'stdwstring': 3, 'isfile': 3, 'eq': 1, 'fileinputstream': 5, 'imgproccvtcolor': 1, 'model_name': 3, 'nilclassclass': 2, 'galaxianlike': 1, 'enemy': 6, 'movement': 14, 'itemchecked': 1, 'subitemclicked': 1, 'wkwebview': 3, 'kafkaproducer': 1, 'downs': 1, 'osstatus': 2, '67028': 1, 'qgraphicsscene': 1, '0kb': 1, 'is_paged': 1, 'sed': 2, 'regexes': 2, 'recvfrom': 6, 'food': 2, 'fences': 1, 'expressstatic': 1, 'threadpool': 20, 'dockerfile': 2, 'rubybuild': 1, 'listwebelement': 1, 'vims': 1, 'jsondictionary': 1, 'workflow': 13, 'mappedname': 1, 'forest': 3, 'nsanimationcontext': 1, 'reprogramming': 1, 's3botostorage': 1, 'fool': 1, 'proof': 2, 'validates': 4, 'orphanremoval': 1, 'advertising': 3, 'itemsearch': 1, 'observablelist': 1, 'miner': 1, 'multiprocessingprocess': 3, 'subprocesspopen': 14, 'viewsetrouter': 1, '268': 1, 'forstructure': 1, 'christmastree': 1, 'xdocumentload': 2, 'isolated': 7, 'depthfirst': 2, 'maze': 2, 'fd_sets': 1, 'smtpauthenticationerror': 1, 'accepted': 11, 'systemexception_complusexceptioncode': 1, 'heavy': 4, 'belongstomany': 2, 'snapshots': 1, 'jsonlayout': 1, 'javaniofilenosuchfileexception': 1, 'visualc++': 1, 'nonwww': 1, 'fitline': 1, 'screensaver': 1, 'flyweight': 1, 'photosupload': 1, 'screwing': 1, 'football': 4, 'soccer': 1, 'activerecordbaseconnectionexecute': 1, 'jqueryvalidateunobtrusive': 1, 'entrust': 1, 'ai': 4, 'ole_handle': 1, 'hicon': 3, 'gap': 9, 'plotted': 3, 'cerr': 2, 'uiclearcolor': 1, 'boostassign': 1, 'aliasing': 4, 'myappcertificatecrt': 1, 'cacert': 2, 'winxp': 6, 'ime': 1, 'imagettftext': 4, 'jsonutilityfromjson': 1, 'itms': 1, 'ifelseif': 2, 'ladder': 2, 'grape': 1, 'shadowing': 2, 'windowlocationhref': 7, 'basichttpbinding': 3, 'datatablerows': 1, 'repond': 1, 'ngchange': 7, 'ngkeyup': 2, 'scopewatch': 2, 'composing': 1, 'korean': 3, '__contains': 1, 'will_paginate': 4, 'f__anonymoustype12': 1, 'systemint64': 1, 'consoleapplication1profile': 1, 'tickcount': 1, 'vevo': 1, 'zend_rest_controller': 1, 'zend_rest_client': 2, 'grand': 6, 'central': 7, 'parallelize': 3, 'superinterface': 3, 'subinterface': 2, 'invalid_request': 2, 'client_id': 2, 'pronounce': 1, 'mapviewviewforoverlay': 1, 'treenode': 3, 'ocunit': 1, 'nsnotification': 3, 'ngsrc': 2, 'granularity': 1, 'money_format': 1, 'dto': 6, 'neterr_incomplete_chunked_encoding': 1, 'replica': 3, 't5': 1, 'eofexception': 2, 'uint8': 6, 'cfwritestreamwrite': 1, 'pyplotbarh': 1, 'awss3errorsnosuchkey': 1, 'pagetitle': 2, '__line__': 4, 'getsession': 1, 'associaton': 1, 'androidwidgetbutton': 1, 'androidviewviewonkeylistener': 1, 'hyphenated': 2, 'jsf2': 4, 'example_group': 1, 'subhash': 2, 'comsunxmlinternalwsfaultsoapfaultbuilder': 1, 'labeltext': 4, 'composerjson': 2, 'jaccard': 1, 'cvreleaseimage': 1, 'mind': 1, 'encapsulate': 2, 'alike': 3, 'httpresponseredirect': 3, 'getphysicalnumberofcells': 1, '461': 3, '1110': 6, 'nghide': 7, 'tensor': 7, 'glyths': 1, 'flasks': 1, 'applogger': 2, 'excess': 2, 'email_confirmation': 1, '_global_offset_table_': 1, 'onwards': 1, 'functionmax': 1, 'paramiko': 4, 'javaxservlet': 3, 'javascriptexecutor': 2, 'shell32dll': 2, 'prefersstatusbarhidden': 1, 'placed': 15, 'stepthrough': 1, 'caches': 4, 'freely': 1, 'cardinal': 1, 'postorder': 1, 'reads': 9, 'functionsessionstart': 2, 'entirely': 3, 'uniq': 2, 'xa0101': 1, 'setdefaultconnectionfactory': 1, 'dbconfiguration': 1, 'snippet': 5, 'win32exception': 2, 'ccsharedfpic': 1, 'contenteditable': 12, 'checbox': 2, 'uncheked': 1, 'editmode': 3, '0x3d': 1, 'jsonparser': 4, 'userprofilemanager': 1, 'slimlangs': 1, '24hour': 1, 'toggles': 1, 'digg': 1, 'uicollectionviewcell': 12, 'successfull': 1, 'permanently': 4, 'tablecell': 4, 'aggregating': 3, 'thisaddin': 1, 'hmvc': 3, 'arhitecture': 1, '20100215t200528000z': 1, 'gzipstream': 1, 'crossprojectreference': 1, 'permisssion': 1, 'repositoryitemsearchlookupedit': 1, 'imac': 1, 'residing': 3, 'signin': 2, 'xmsnet': 1, 'cwsmq0082e': 1, 'mavenremoteresourcesplugin': 1, 'resaved': 1, 'replyto': 1, 'as_json': 3, 'colorpicker': 3, 'aheads': 1, 'icontact': 1, 'simplemappingexceptionresolver': 1, 'uicontroleventstate': 1, 'caseinsensitivecompare': 2, 'simpleformatter': 1, 'todataurl': 3, 'worksheets': 3, 'javautilstackiterator': 1, 'ienumerablecast': 1, 'exercises': 2, 'getdetails': 1, 'transclusion': 1, 'webbrowserinvokescript': 1, '80020006': 1, 'vimeo': 1, 'clck': 1, 'writting': 2, 'ssl_ctx_set_default_verify_paths': 1, 'copyright': 3, 'clicktochange': 1, 'producer': 11, 'formload': 1, 'jdbcmysql': 3, 'localhost3306': 1, 'javaniofileaccessdeniedexception': 1, 'proceed': 7, 'fibonacci': 6, 'archeticture': 1, 'coordinator': 1, 'phase': 9, 'appdelegatebelow': 1, 'bolded': 1, 'indirectly': 7, 'trait': 3, 'registred': 1, 'deeplinks': 1, 'pic': 2, 'nonmain': 1, 'sequelize': 6, 'microsoftvisualbasiccompilerservicesdesignergenerated': 1, 'thpattern': 1, 'carouselindicators': 1, 'embeddable': 2, 'flowable': 1, 'wrightfisher': 1, 'genetic': 2, 'drift': 1, 'videojs': 1, 'celeryschedules': 1, 'winrts': 1, 'richeditbox': 1, 'javascriptwindowlocationhref': 1, 'assigns': 4, 'immutability': 1, 'getlogin': 1, 'systemwebwebpagesrazor': 1, 'photostream': 1, 'requestform': 4, '__eventtarget': 1, 'systemwebhttpexception': 2, 'silence': 4, 'anaylzer': 1, '#200': 6, 'tos': 1, 'attachement': 1, 'nonbutton': 2, 'tabstrip': 2, 'leaked': 5, 'serviceconnection': 2, 'extracts': 1, 'require_once': 10, 'dotted': 6, 'myfunction': 1, 'juno': 5, 'idataerrorinfo': 2, 'xdocumentparse': 3, 'deallocating': 2, 'send_mail': 3, 'aspriseocr': 1, 'javalibrarypath': 5, 'sailsjs': 12, 'vb6dll': 1, '4gb+': 1, 'nonlanguage': 1, 'j_spring_security_check': 3, 'orgeclipseswtswtexception': 1, 'glyphicons': 2, '333': 1, 'utilization': 3, 'springwithdamping': 1, 'saml': 1, 'sso': 4, 'matplotlibs': 2, 'dateformatter': 2, 'subelement': 1, 'elementtree': 3, 'themeinfo': 1, 'multidimensionalarray': 1, 'datatheme': 1, 'getoutputstream': 3, 'begins': 3, 'cllocationmanager': 3, 'scssphp': 1, 'visualise': 1, 'heart': 3, 'measuring': 6, 'xiaomi': 1, 'miband': 1, 'ble': 2, 'jcheckbox': 2, 'lnk2028': 1, '0a000040': 1, 'djangocorepaginator': 1, 'tiff': 7, 'constantsstring': 1, 'fselect': 1, 'preprinted': 1, 'battery': 4, 'savez': 1, 'pod': 8, '0321': 1, 'claidehelp': 1, 'heightforrowatindexpath': 2, 'ibinspectable': 1, 'oneliner': 6, 'bufferedreaderreadline': 1, 'jshint': 3, 'xx': 9, 'fsubmits': 1, 'decompile': 4, 'systemcore': 2, 'version2050': 1, 'actiont': 4, 'characteristics': 1, 'stringtrim': 1, 'autoimplement': 1, 'bitwiselike': 1, 'listsubclass': 1, 'listsuperclass': 1, 'fed': 1, 'minheight': 1, 'whichevers': 1, 'bigger': 8, 'kicks': 1, 'windowparentpostmessage': 1, 'rake092': 1, 'textboxs': 5, 'inspector': 7, 'becoming': 1, 'quiz': 17, 'memcachepy': 1, 'readablebytechannel': 1, 'digest': 10, 'onselect': 3, 'deletekey': 1, 'lwjglutiljar': 1, 'belong': 9, 'repeaters': 2, 'avada': 1, 'integervalueof': 1, 'intvalue': 2, 'dt': 1, '_registercomponent': 1, 'svgjs': 1, 'transferred': 8, 'dte': 1, '#1136': 1, 'setfont': 1, 'personally': 1, 'suit': 1, 'capitan': 5, 'themeliquid': 1, 'balance': 6, 'activerecordconnectionnotestablished': 1, 'chooser': 5, 'nxn': 2, 'finds': 3, 'dialect': 5, '1111': 1, 'visiblity': 1, 'javalangillegalstateexeption': 1, 'finisha': 1, 'ellipsis': 3, 'is_granted': 1, 'richtext': 1, 'collaborate': 1, 'standardoutputread': 1, 'startinforedirectstandardinput': 1, 'orgapachemavenplugininstallinstallmojo': 1, 'finishes': 12, 'f#': 6, 'ehandlerapply': 1, '180_60': 1, '180_51': 1, 'operable': 3, 'laravel52': 1, 'lparam': 2, 'printwriter': 3, 'largest_integer': 1, 'bridged': 1, 'showwindow': 1, 'reducers': 2, 'creators': 1, 'libssl': 2, 'uipagecontrol': 1, 'errow': 1, 'dps': 1, 'cauchy': 1, 'basicdblist': 1, 'hexahedrons': 1, 'nsdateformat': 1, 'nonbroadcastable': 1, 'postprocessbeforeinitialization': 1, 'beanpostprocessor': 1, 'errorthe': 2, 'ionicscrolldelegateresize': 1, 'inlines': 6, 'basegameutils': 2, 'agreement': 2, 'invokecommandaction': 1, 'mine': 2, '343': 2, 'shellbut': 1, 'serverr': 1, '58': 2, 'hadoop_home': 1, 'dependencycheck': 1, 'spring3x': 1, 'javasqlconnection': 1, 'c3p0': 1, 'sdl_mixer': 1, 'enumerating': 4, 'obrat': 1, 'setsuma': 1, '0x64139d0': 1, 'dividing': 6, 'interpolating': 2, 'win32api': 3, 'setupdigetdeviceinterfacedetail': 1, 'sixmovesxmlrpc_client': 1, 'txtarea': 1, 'glass': 1, 'wm_setcursor': 1, 'arrange': 6, 'reverse_array': 1, 'solidcolorbrush': 2, 'row_number': 2, 'jacksons': 1, 'typereference': 1, 'my_model': 2, 'getview': 1, 'baseadapter': 2, 'clickevent': 1, 'onfocus': 5, 'midi': 1, 'chromedriver': 11, 'htmlimageelement': 3, 'c1190': 1, 'decrypted': 2, 'dependently': 1, 'responseoutputstream': 1, 'beforeafter': 1, 'asf': 1, 'medians': 1, 'databasesyml': 1, 'contentlength': 10, 'gzipped': 4, 'customdrawn': 1, 'entering': 22, 'lhs': 1, 'improper': 4, 'nsfilemanager': 1, 'createdirectoryatpath': 1, 'excelimport': 1, 'axspreadsheet': 1, 'tdd': 8, 'httpwebrequestpost': 1, 'observableobject': 1, 'inotifypropertychanging': 1, 'fellow': 1, 'nerds': 1, 'backbonesync': 2, 'modelfields': 1, 'errorcontroller': 1, 'cubes': 3, 'multilanguage': 7, 'presenting': 4, 'savechangesexception': 1, 'actionurl': 1, 'javalangreflectmethod': 2, 'titlepageindicator': 1, 'closes': 19, 'bigquery': 5, 'enduser': 1, 'asposixct': 1, 'processenv': 2, 'node_env': 1, 'bizarre': 5, 'before_validation': 1, 'heights': 4, 'listint': 8, 'query_string': 1, 'raiseevent': 1, 'textareas': 4, 'domconfiguratorconfigureandwatch': 1, 'coercing': 3, 'datetimedate': 6, 'vbas': 1, 'doevents': 3, 'websql': 5, 'generationtypeauto': 1, 'to_string': 3, 'numerical': 13, '1522': 1, 'authorize': 4, '+i': 1, 'vagrant': 13, 'mobaxterm': 1, 'insertions': 3, 'pipeseparated': 2, 'autolayouts': 1, '42000': 3, '1064': 4, 'multipage': 3, 'jpegs': 2, 'sqldatasourceenumeratorinstancegetdatasources': 1, 'xsltparam': 1, 'disposal': 2, 'loadlibrary': 1, 'uxxxx': 1, 'ord': 2, '35inch': 1, 'publically': 1, 'autosize': 3, 'tablelayoutpanel': 2, 'randomaccessfile': 4, 'comctcwstxexcwstxeofexception': 1, 'errorcatch': 1, 'opencsv': 1, 'sslcontext': 3, 'readlines': 1, 'javawexe': 3, 'ugly': 4, 'plotnew': 2, 'liberal': 1, 'systemarraycopy': 2, 'roman': 3, 'system_error': 1, 'apachecommons': 1, 'javalangstringindexoutofboundsexception': 2, '9009': 1, 'textfields': 9, 'provides': 3, 'parameterless': 10, 'variation': 3, 'nvarchar': 7, 'visualizations': 1, 'nsurlresponse': 2, 'craziness': 1, 'pluginsjs': 1, 'priorityqueue': 2, 'strpos': 7, 'trigging': 1, 'springannotation': 1, 'dispatcherservlet': 3, 'pascal': 3, 'hebrew': 1, 'ctrlchar': 1, 'combiner': 2, 'pools': 4, 'fpdf': 1, 'systemdirectoryservicesdll': 1, 'h8013110e': 1, 'detects': 2, 'htmliframe': 1, 'htmlgenericcontrol': 3, 'base10': 1, 'nsurlsessiondatatask': 3, 'usbport': 1, 'successive': 3, 'approximation': 1, 'ientitychangetracker': 2, 'nondigits': 2, 'nondecimals': 1, 'orgspringframeworkcachecachevalueretrievalexception': 1, 'worry': 1, 'pathelement': 1, 'myclassclass': 2, 'assests': 1, 'slim': 2, 'pulsing': 1, 'documentfragment': 1, 'uploadedfile': 1, 'inputsupplier': 1, 'outputsupplier': 1, 'lookups': 3, 'strptime': 7, 'junitjunit412': 2, 'serializer': 19, 'typenamehandling': 1, 'savestate': 1, 'loadstate': 1, 'supplemental': 1, 'disconnect': 12, '0xffffffff': 1, 'shdocvw': 1, 'c#razor': 1, 'onmouseout': 3, 'zodiacal': 1, 'programmes': 2, 'webappstarttstartup': 1, 'date_diff': 1, 'marshal': 12, 'datahandler': 1, 'xmlattachmentref': 1, 'editorfor': 4, 'systemint32': 8, 'enablejsapi1': 1, 'jqueryfileupload': 2, 'colums': 1, 'classmethods': 2, 'dereference': 4, 'ienumerablevaluetype': 1, 'setimage': 4, 'reopening': 2, 'to_json': 5, 'sim': 4, 'precall': 1, 'dword': 5, 'cbc': 2, 'dijitcalendar': 1, 'libzdylib': 1, 'libsqlite3dylib': 2, 'yml': 3, 'ajaxcalled': 1, 'faradayconnectionfailed': 1, '9200': 1, 'systemxmllinqdll': 1, 'authorized': 7, 'lighten': 2, 'darken': 3, 'blend': 3, 'htmlradio': 1, 'readclipboard': 1, 'green': 2, 'yellow': 4, 'netserverenum': 1, 'ngrep': 1, 'highlights': 3, 'setclob': 1, 'injdbc': 1, 'anonymoususer': 2, 'cooked': 1, 'modes': 7, 'noticed': 1, 'dispatch_after': 2, 'uboot': 1, 'ttfb': 3, 'm3u8': 1, 'vanilla': 6, 'varlenfeature': 1, 'fixedlenfeature': 1, 'idm': 1, 'getelementsbyname': 2, 'secondary_y': 1, 'lua_close': 1, 'responsebody': 5, 'keycode': 8, 'borderthickness': 2, 'horizontalpanel': 1, 'fully': 22, 'hull': 1, 'inertial': 1, 'componentwillreceiveprops': 1, 'atomicboolean': 1, 'cgcolorref': 2, 'demonstrate': 2, 'race': 4, 'relink': 2, 'authenticableprincipallastlogon': 1, 'lastlogontimestamp': 1, 'qlistqvariantmap': 1, 'dictfromkeys': 1, 'templatehelpers': 1, 'marionettecompositeview': 1, 'sockjs': 1, 'boostposix_timemicrosec_clocklocal_time': 1, 'inflated': 1, 'additive': 2, 'subtractive': 1, 'sphere': 8, 'getsupportactionbar': 1, 'strikethrough': 2, 'xelement': 15, 'cs1061': 4, 'aspstation_pages_stationfield_aspx': 1, 'resizeiframe': 1, 'pos': 6, 'tagging': 5, 'requestcontext': 4, 'context_instance': 1, 'jquerydatatablesrails': 1, 'directoryinfogetdirectories': 1, 'searchpattern': 1, 'sharer': 1, 'indirection': 4, 'verifycsrftokenphp': 2, 'tunnel': 2, 'regroup': 2, 'grouper': 1, 'ngfor': 2, 'ddsmoothmenu': 1, 'mockitos': 1, 'xmlserialize': 1, '0x10': 1, 'radmaskedtextbox': 1, 'form1': 9, 'callvoidmethodv': 1, 'klass': 1, 'stdmapfind': 1, 'schemavalidation': 1, 'topmost': 2, 'selectively': 3, 'containskey': 4, '#error': 2, 'abstractcontrolleractionnotfound': 2, '162e9db178183d33822a3b00b5aed793b1a37971': 1, 'simplecaptchacontroller': 1, 'averaging': 4, 'last_insert_id': 3, 'cf': 7, 'listfragment': 3, 'basestream': 1, 'orgspringframeworkormhibernate4localsessionfactorybean': 1, 'facing': 5, 'propertyinfogetvalue': 2, 'kvo': 2, 'ultrajson': 1, 'zend_soap_autodiscover': 1, 'selectpicker': 3, 'apk': 14, 'datacolumn': 3, 'formsauthentication': 3, 'transportation': 1, 'liste': 2, 'logins': 5, 'collectionviewlayout': 1, 'sizeforitematindexpath': 1, 'mocks': 3, 'actors': 2, 'bindinggroupcommitedit': 1, 'validatewithoutupdate': 1, 'multiplier': 1, 'constriaint': 1, 'alarm': 4, 'base36': 1, 'javaobjectdiff': 1, 'involving': 10, 'microsoftpracticesunityconfiguration': 1, 'r6016': 1, 'scikitlearns': 2, 'svm': 12, 'rbf': 2, 'legitimate': 3, 'scipyoptimizefmin_bfgs': 2, 'computes': 2, 'fprime': 1, 'uibarbuttonitem': 9, 'uitoolbar': 6, 'contracts': 1, 'parsefloat': 1, 'lnk1120': 4, 'unpermitted': 2, 'happening': 11, 'javalangverifyerror': 4, 'magerun': 1, 'mageruncode': 1, 'mageruntype': 1, 'afnetwork': 1, 'editablefalse': 1, 'exceeds': 5, 'sonar': 16, 'complaining': 6, 'useless': 5, 'ocijdbc11dll': 1, 'doctrine2+symfony2': 1, 'bundles': 9, 'tickinterval': 1, '421': 3, 'maximium': 1, 'oninit': 2, 'returneddata': 1, 'listviewmodel': 2, 'ij': 2, 'ji': 1, 'undivided': 1, 'springsecurityweb': 1, 'mpeg': 1, 'abstractwizardformcontroller': 1, '_sh_secure': 1, '_sh_denywr': 1, 'setdt': 1, 'paired': 6, 'canon': 2, '900': 2, '800': 2, 'so_debug': 1, 'collison': 1, '250': 2, 'getwindowhandles': 1, 'webdriverjs': 5, 'companies': 2, 'waitall': 3, 'systemdrawing': 5, 'actionscript': 14, 'orghibernateexceptiongenericjdbcexception': 2, 'canonot': 1, 'boostasioipmulticastjoin_group': 1, 'domnodelist': 1, 'pcolormesh': 4, 'gnu': 7, 'makefiles': 7, 'logstash': 6, 'windowparent': 3, 'windowtop': 1, 'contenttypes': 1, 't_encapsed_and_whitespace': 2, 'connectiontimeout': 1, 'nsstream': 2, 'cfstream': 3, 'ghostscript': 1, 'paused': 5, 'unitofwork': 1, 'modelmultiplechoicefield': 4, 'checkboxselectmultiple': 3, 'marrayadapter': 1, 'readclassdescriptor': 1, 'resolveclass': 1, 'permit': 2, 'indicated': 2, 'parentnode': 3, 'subtraction': 10, 'ship': 2, 'mageregistry': 1, 'current_product': 1, 'maxpermsize': 1, 'basics': 9, 'debug_backtrace': 1, 'oracleconnection': 2, 'oraclecommand': 2, 'max_input_vars': 1, 'wireframetrue': 1, 'orghibernatedialectmysqldialect': 1, 'mdf': 4, 'aspectj': 9, 'weaving': 3, 'trends': 2, 'myclassclassgetresource': 2, 'getpath': 1, '510': 7, 'dos': 9, 'runnotifier': 1, 'yiibaseinvalidparamexception': 1, 'msvcr120dll': 1, 'msvcp120dll': 1, 'putobject': 1, 'bypassing': 5, '#1045': 1, 'jaxbproperties': 1, 'bitbucket': 3, 'mysqlexecute': 1, '1048': 3, 'mips': 3, 'uid': 5, 'activeupnetmailmessage': 1, 'messageid': 1, 'qlisttat': 1, 'findcontours': 3, 'contours': 5, '802': 1, 'adjustable': 1, 'implications': 3, 'runtimepermission': 1, 'taskcurrentid': 1, 'organizational': 1, 'sessionid': 1, 'c++win32': 1, 'wc_button': 1, 'sigxcpu': 1, 'fielderror': 2, 'htmlnode': 1, 'sslhandshakeexception': 3, 'connectiong': 1, 'matchtimeoutinmilliseconds': 1, '426': 1, 'log4jwarn': 3, 'maxfilesize': 1, 'orgapachelog4jdailyrollingfileappender': 1, 'readystate4': 1, 'responsetext': 4, 'read_excel': 2, 'formkey': 1, 'form2': 6, 'yaml': 20, 'orgspringframeworkbootautoconfigureormjpahibernatejpaautoconfiguration': 1, 'rounding': 28, 'neighbour': 2, 'selectable': 5, 'beforeselectrow': 1, 'noneascii': 1, 'latin1_swedish_ci': 1, 'jqueryeasing': 1, 'thiseasing': 1, 'orgw3cdomdocument': 1, 'trans': 5, '0912': 1, 'unresponsive': 4, 'controlleruser': 1, 'inconsistently': 1, 'offer': 6, 'cil': 1, 'canonicalize': 2, 'involved': 3, 'spied': 1, 'b64decode': 1, 'untitled': 1, '111': 9, 'pracitce': 1, 'edittextgettext': 1, 'httplib2': 1, 'handleerror': 3, '36': 10, 'isinconsistent': 1, 'strcasecmp': 4, 'systemobjectgettype': 1, 'systemtypegettype': 1, 'myeclipse': 1, 'linkage': 6, 'broadcasted': 1, 'rootscope': 7, 'reasteasy': 1, 'responsereadentity': 1, 'resteasy003290': 1, 'backed': 4, 'xmlrootelement': 4, 'setapartmentstate': 1, 'preexisting': 5, 'chartonclick': 1, 'rrawvalue': 1, '312': 1, 'quiet': 1, 'sp': 2, 'cutepdf': 1, 'setcontent': 1, 'sortlist': 2, 'rubylike': 2, 'jdk160_20': 1, 'jscrollbar': 2, 'magentto': 1, 'sendbroadcast': 1, 'intentservice': 2, 'reactornotrestartable': 1, 'bjyprofiler': 1, 'propertys': 5, 'synthesized': 2, 'owned': 3, 'workers': 8, '307': 5, 'fortranlike': 1, 'mainly': 3, 'kv': 5, 'orghibernatestalestateexception': 1, 'datacontract': 3, 'javascripteventhandler': 1, 'createdatabaseifnotexists': 1, 'processmainmodule': 1, 'ff4b7': 1, 'threadlocal': 5, 'cellediting': 1, 'msys': 1, 'rm': 3, 'enummemberattribute': 1, 'trap': 12, 'accesing': 5, 'crossword': 2, 'metaclass': 2, 'checkaccess': 1, 'activecontroller': 1, 'upvote': 1, 'downvote': 1, 'nsmutableattributedstring': 1, 'junitcorerunclasses': 1, 'enterkeypress': 1, 'boostposix_timeptime': 2, 'mongodate_t': 1, 'multiprocessor': 1, 'disdvantages': 1, 'es2015': 2, 'addmvc': 1, 'javautilmap': 3, 'unsafepark': 1, 'objectwait': 1, 'nonnegative': 6, 'peaks': 1, 'phrases': 5, 'jaxbelement': 2, 'comsunorgapachexpathinternaloperationsstring': 1, 'orgcodehausjacksonjsonparseexception': 1, 'servletwar': 1, 'directoryexists': 1, 'uncompress': 2, 'rafaeljs': 1, 'errormessage': 2, 'stringreplaceall': 3, 'shifting': 7, 'sqlsrv_fetch_object': 1, 'editions': 2, 'perror': 3, 'rebase': 1, 'speeding': 6, 'documenttext': 1, 'marshaled': 1, 'mappedsuperclass': 3, 'consol': 1, 'laravel51': 1, '231': 2, 'quoting': 3, 'nonmodel': 3, 'oftype': 2, 'factories': 5, 'slidedown': 4, 'slideup': 3, '__new__': 3, 'constellation': 1, 'sampling': 3, 'ninjaide': 1, 'applicationhtmlerb': 1, 'pwc3990': 1, 'getwriter': 2, 'stdstringc_str': 1, 'collapsed': 2, 'booleans': 6, 'filezilla': 1, 'formcheckbox': 1, 'newsletter': 4, 'xmailer': 1, 'snippets': 5, 'balanced': 4, 'rightview': 2, 'clientx': 1, '__call__': 2, 'pythonflask': 2, 'couchdbkit': 1, 'irrelevant': 2, 'hashmapget': 3, 'criterias': 3, 'deauthorize': 1, 'clangomp': 1, 'netsmtp': 1, 'systemuri': 2, 'selections': 5, 'gennerated': 1, 'maketrans': 1, 'boxshadow': 3, 'runtimegetruntime': 5, 'multiprocess': 7, 'facebook4j': 3, '201634': 1, 'jtidy': 1, 'official': 12, 'pong': 1, 'mnist': 3, 'fully_connected_feedpy': 1, 'hierarchial': 2, 'subexpressions': 1, 'pci': 1, 'compliance': 2, 'reformat': 4, 'deserialising': 2, 't_echo': 1, 'fsubmit': 1, 'initilizing': 1, 'signmagnitude': 1, 'pulse': 3, 'asynchttpclient': 3, 'qtableview': 7, 'cost': 10, 'dbcommandcommandtimeout': 1, 'orghibernatehibernateexception': 3, 'transactionmanagerlookup': 1, 'subproperty': 1, 'shader': 5, 'pythontkinter': 1, 'collisions': 4, 'acucli': 1, 'public_html': 2, 'ihcws': 1, 'paynowphp': 1, 'orgjsonsimpleparserparseexception': 1, 'excelexe': 1, 'applicationrb': 2, 'scrap': 4, 'colouring': 2, 'nations': 1, 'viewstate': 7, 't_include_once': 1, 'datestring': 1, '#region': 1, 'spacedelimited': 2, 'inter': 3, 'qrcodepng': 1, 'nsapplicationsupportdirectory': 1, 'array_filter': 3, 'jdbcsqlserver': 1, 'nbsp': 7, 'mlp': 1, 'jodatimepassing': 1, 'scanned': 2, 'unhandledexception': 1, 'ratingbar': 1, 'ibooks': 2, 'moduleclassmethod': 1, 'resourcebundle': 2, 'messagesource': 5, 'firmware': 1, 'playback': 7, 'initally': 1, 'nsuserdefault': 3, 'nim': 2, 'serverphp': 1, 'continually': 3, 'brush': 2, 'fitted': 2, 'genericservlet': 1, 'testtask': 1, 'gt': 6, 'microsoftwebadministration': 1, 'dotnethighcharts': 1, 'reinstantiated': 1, 'qualifying': 5, 'orgspringframeworktransactionplatformtransactionmanager': 1, 'resubmission': 2, 'firefoxdriver': 3, 'selfnavigationcontroller': 3, 'rowid': 2, '_nsautoreleasenopool': 1, 'geom_raster': 2, 'geom_tile': 3, 'systemboolean': 2, 'inheritable': 2, 'allow_url_fopen': 3, 'firappcreateuserwithemail': 1, 'xe2': 1, 'navstackedtab': 1, 'errnoeconnreset': 1, 'buttonenabled': 1, 'monkey': 1, 'redirectattributes': 1, 'addattribute': 2, 'addflashattribute': 1, 'before_create': 1, 'subapplication': 1, 'principalcontext': 2, 'contexttypedomain': 1, 'domainnamecom': 1, 'linkedhashmapstring': 2, 'typespecific': 1, 'usermanagercreate': 1, 'systemmissingmethodexception': 2, 'xdebug': 2, 'discipline': 1, 'diagnostic': 5, 'uipageviewcontroller': 4, 'situations': 3, 'integerfields': 1, 'linaleig': 1, 'javacscript': 1, 'rerun': 4, 'backdrop': 3, 'compensate': 1, 'misspelled': 1, 'behaves': 7, 'stanfordparser': 1, 'dbtransaction': 2, 'find_or_create_by': 1, 'iterablesfrequency': 1, 'iterablet': 1, 'predicatet': 1, '_cookie': 4, 'jsonparsererror': 4, '757': 2, '0x800703e3': 1, 'bytearrayinputstream': 1, 'streamhashmapstring': 1, '#39': 1, 'erb': 9, 'executereader': 9, 'weekly': 8, 'webserver': 19, 'keychainwrapper': 1, 'analyticsjs': 1, 'beancreationnotallowedexception': 1, 'dojoioframesend': 1, 'dynamodb': 13, 'ellipses': 3, 'postmeta': 1, 'postthreadmessage': 1, 'icredential': 1, 'crosslanguage': 2, 'webpart': 8, 'valmatch': 1, 'expandoobject': 1, 'xpathsapply': 2, 'flavors': 2, 'stringbyevaluatingjavascriptfromstring': 3, 'systemoutwrite': 1, 'ejb3': 7, 'mutate': 4, 'cleaner': 5, 'qwizard': 1, 'servelet': 4, 'structuredproperty': 1, 'synthesize': 7, 'getselected': 2, 'dalvik': 2, 'dex': 4, 'lcom': 2, 'squareup': 2, 'netbios': 1, 'typeconverter': 1, 'listlike': 1, 'filterchainproxy': 1, 'node_save': 2, 'multitasking': 1, 'modus': 2, 'watchfile': 1, 'paranoia': 2, 'reversal': 2, 'trays': 2, 'defaultrestriction': 1, 'entitybean': 1, 'xmlnodelistselectsinglenode': 1, 'simpledateformatparse': 3, 'date_created': 1, 'int_': 1, 'numeric_limitst': 1, 'granados': 1, 'dynamical': 5, 'receipients': 1, 'exploding': 2, 'htmls': 2, 'seticon': 2, 'formmail': 1, 'refiltering': 1, 'qlabel': 7, 'xmlenumvalue': 1, 'cfform': 1, 'bestfit': 3, 'setcolor': 1, 'fbeventsjs': 1, 'taps': 2, '0323': 1, 'motionrecognitionmanager': 1, 'mscontextservice': 1, 'entityframeworksdll': 1, 'matlabs': 4, 'meshgrid': 2, 'cu3er': 1, 'htmldocument': 3, 'ses': 1, 'smtpdataerror': 1, '554': 1, 'compose': 3, 'autoclose': 1, 'didreceiveremotenotificationfetchcompletionhandler': 2, 'bodystyleoverflowy': 1, 'millions': 4, 'reqested': 1, 'colspan': 3, 'recursiveinclude': 1, 'enity': 1, 'percall': 1, 'simple_form_for': 1, 'form_for': 9, 'cgrect': 6, 'spritenode': 1, 'sqlite_open': 1, 'clickanddrag': 1, 'downandmove': 1, 'jtextpane': 2, 'simpletest': 1, 'spoofing': 2, 'objectanimationusingkeyframes': 1, 'plug': 3, 'unsafe_unretained': 2, 'trick': 6, 'avassetexportsession': 2, 'webbrowserdocumenttext': 1, 'sip': 7, 'webdialer': 1, 'debuggerlaunch': 1, 'setitem': 1, 'getitem': 1, 'active_admin': 2, 'registerdevicenotification': 1, 'nonobvious': 2, 'setcompatibletextrenderingdefault': 1, 'eventlistener': 7, 'elementinvokemember': 1, 'regexreplace': 4, 'selectionmode': 1, 'multiextended': 1, 'mousekey': 1, 'doubleclick': 4, 'dotmatrix': 1, 'infra': 1, 'parallelly': 2, 'bestpractices': 1, 'classifier': 7, 'progresslistener': 1, 'asmatrixdataframe': 1, 'loss': 12, 'myinterceptor#onflushdirty': 1, 'matcher': 2, 'motherboard': 1, 'deviceid': 1, 'bios': 1, 'student': 8, 'iscroll': 3, 'phonegaphow': 1, 'requestheader': 1, 'valums': 3, 'ajaxupload': 1, 'wp_handle_upload': 1, '8000': 1, '203': 3, '054133': 1, 'apr': 3, 'pdt': 2, 'extractor': 1, 'avi': 3, 'mkv': 1, 'xsrf': 2, 'jtables': 1, 'ppb_graphics2dpaintimagedata': 1, 'wssesecurity': 1, 'oraclejdbcdriver': 1, 'dev_appserverpy': 2, 'danish': 1, 'charaters': 1, 'cv2cvcv_cap_prop_frame_count': 1, 'gpa': 5, 'sapui5': 7, 'asc': 4, 'desc': 4, 'getdispatchertype': 2, 'httpservletrequest': 11, 'bytearraybuffer': 1, 'minima': 1, 'maxima': 2, 'propertytype': 1, 'mutexlock': 1, 'unique_lock': 1, 'comxxxclass': 1, 'issued': 1, 'activator': 1, 'stylizing': 1, 'datavisualizationchart': 1, 'dashboard': 7, 'kwargs': 5, 'sagepay': 1, 'jabswitch': 1, 'infer': 6, 'block_copy': 1, 'wherequery': 1, 'belongs_torelationship': 1, 'railscachefetch': 1, 'dbnullvalue': 1, 'systemdouble': 1, 'usertransaction': 1, 'wp81': 3, 'systemcollectionsgenericienumerableint': 1, 'nstimers': 2, 'cleanest': 4, 'chaning': 1, 'uuid': 8, 'tabbaritem': 1, 'beginrequest': 1, 'xmlrpc': 1, 'argc': 3, 'waitting': 1, 'get_headers': 1, 'abnormally': 2, 'amout': 2, 'wins': 1, 'nullableint': 2, 'mfcs': 1, 'ftp4j': 1, 'dequeuereusablecellwithidentifierforindexpath': 2, 'templating': 7, 'stddeserializer': 1, 'subtypes': 2, 'inclusive': 4, 'remotetestrunner': 1, 'wrappanel': 2, 'admob': 12, 'interstitial': 2, 'passwordprotected': 1, 'openreadcompletedevent': 1, 'someting': 1, 'adbkeypub': 1, 'c3861': 2, 'rolldice': 1, 'exposing': 10, 'networkdiscovery': 1, '70': 10, '225': 2, 'microsoftservicehostingtools': 1, 'bcd': 1, 'unregisters': 1, 'listlistdouble': 1, 'getimagesize': 2, 'imagefile': 2, 'tmp_name': 3, 'defaultpersistenceunit': 1, 'tilde': 4, 'expansion': 5, 'includewhatyouuse': 1, 'rangeslider': 1, 'latin': 9, 'defaultviewdate': 1, 'plsql': 4, 'windowonbeforeunload': 5, 'max_allowed_packet': 1, 'efficent': 1, 'isenabled': 1, 'knowledgebase': 1, 'mockrestserviceserver': 1, 'qmainwindow': 3, 'ri': 1, 'rdoc': 1, 'formwith': 1, 'constructorerror': 1, 'comesc#winforms': 1, 'hashsett': 1, 'has_and_belongs_to_many': 2, 'fatel': 1, 'wx': 1, 'wxh': 1, 'testngxlm': 1, 'dangers': 2, '42s02': 2, '1146': 4, 'graduated': 1, 'telling': 6, 'immune': 1, 'spacial': 1, 'jumps': 4, 'rbind': 8, 'ipn': 17, 'getaccessor': 1, 'illegalaccessexception': 2, 'disassembler': 1, 'systemdllnotfoundexception': 1, 'unknowndepth': 1, 'globalasax': 6, '_environ': 1, 'has_key': 1, 'resultmvc3': 1, 'jsondecodeerror': 2, '228': 1, '227': 1, 'rnet': 2, 'scriptmanagerregisterstartupscript': 1, 'timeframe': 1, 'nanosecond': 1, 'array_udiff': 1, 'itemsproperty': 1, 'createnativequery': 1, 'indexerror': 11, 'inputget': 1, 'reacts': 2, 'functioning': 4, 'pep358': 1, 'checkedlistbox': 9, 'systemxmlserializationxmlserializerdeserialize': 1, 'marry': 1, 'routedatavalues': 1, 'accesscontrolallowheaders': 3, 'octave': 2, 'access_token': 3, 'mesage': 1, 'prefereably': 1, 'storyboardview': 1, 'listphtml': 2, 'insertedbranddrugdetailsid': 1, 'jsoupconnect': 1, 'apachehttpclient': 1, 'numpydtype': 2, 'playlist': 9, 'unsubscriptable': 3, 'commandsgetoutput': 1, 'simultate': 1, 'pymedia': 1, 'timespans': 1, 'virtualmode': 2, 'verbatim': 2, 'mfmailcomposeviewcontroller': 3, 'express+monogdb+jade': 1, 'sas7bdat': 1, 'dct': 1, 'pmw': 1, 'intrerface': 1, 'freetype': 2, 'modeler': 1, 'checksum': 5, 'geom_smooth': 3, 'boxplot': 8, 'backgournd': 1, 'qlite': 1, '3xstring': 1, 'securityfilterchainregistration': 1, 'responseend': 3, 'trendy': 1, 'networked': 2, 'greedy': 2, 'reluctant': 1, 'quantifiers': 1, 'typeliteral': 1, 'banking': 3, 'refetchevents': 1, 'soap+xml': 1, 'acuraccy': 1, 'usinganything': 1, 'sorry': 6, 'went': 7, 'avaudioplayer': 10, 'easily': 18, 'pedantic': 1, 'rpsec': 1, 'ioscheckmark': 1, 'hilight': 1, 'buttononclicklistener': 1, 'postlink': 2, 'occurances': 3, 'sqlclient': 3, 'uiviewcontrollers': 5, 'getinputstream': 3, 'searchbartextdidbeginediting': 1, 'guy': 1, 'yy': 2, 'offsetleft': 1, 'clientleft': 1, 'kno': 1, 'nonasynchronously': 1, 'simpledateformat': 4, 'gaussianblur': 1, 'sobel': 3, 'derivatives': 3, 'minimizing': 1, 'maximizing': 1, 'slcomposeserviceviewcontroller': 1, 'webmvcautoconfigurationadapter': 1, 'useunicodetrue': 1, 'characterencodingutf8': 1, 'springmanaged': 1, '8bpp': 1, 'subitems': 4, 'filenotfound': 1, 'nonassociated': 1, 'sap': 2, 'forgot': 2, 'xcomment': 1, 'cscript': 1, 'webbrowserdocument': 1, 'phpmail': 2, 'ipc': 4, 'mutations': 1, 'dna': 2, 'query_posts': 1, 'brand': 1, 'repackaged': 1, 'errormodule': 1, 'swprintf': 1, 'drops': 3, 'linksave': 1, 'overflows': 3, 'keyed': 4, 'listened': 1, 'servertoserver': 1, 'slug': 10, 'listitemcollection': 1, 'mailsend': 2, 'foundations': 1, 'session_register': 3, 'functionsessionregister': 1, 'imagebased': 2, 'textbased': 1, 'mice': 2, '322': 5, 'paintcomponent': 2, '2n1': 1, 'domdocumentsave': 2, 'painteventargsgraphics': 1, 'controlcreategraphics': 1, 'vs2015': 3, 'windowload': 2, 'hubconnection': 1, '212': 4, '31rc4': 2, 'springdatamongodb': 1, 'socketrecv': 2, 'actionsherlockbar': 1, 'popupmenu': 1, 'mpi_scatter': 2, 'approve': 1, 'arg': 9, 'javanullpointer': 1, 'previewing': 1, 'dismissviewcontrolleranimated': 2, 'zones': 4, 'renderdatatable': 1, 'mapk': 2, 'extensionmethods': 1, 'simpe': 1, 'clienttemplate': 1, 'clientdetailtemplate': 1, 'aborts': 1, 'nettcp': 1, 'pcolor': 1, 'wavread': 1, 'etree': 4, 'ipad2': 1, 'optionparser': 1, 'passengerinstallapache2module': 2, 'aes_string': 1, 'equiv': 1, 'jsonvalue': 2, 'canactivate': 1, 'drawings': 2, 'subprocesspopenwait': 1, 'unloaded': 3, 'qprogressbar': 1, 'environ': 1, 'aliases': 6, 'shoot': 3, 'options_from_collection_for_select': 1, 'exchanging': 1, 'nlp': 3, '223': 1, 'indexbased': 1, 'documentdomain': 2, 'systemnethttpobjectcontentt': 1, 'clangonwin': 1, 'graceful': 3, 'windowed': 3, 'socketsetperformancepreferences': 1, 'defaultconstructor': 1, 'reinterpret_castint': 1, 'static_castint': 1, 'static_castvoid': 1, 'bytea': 4, 'bank': 6, 'execexception': 1, 'filesjavajdk170_79binjavaexe': 1, 'outgoing': 9, 'setautoresizingmask': 1, 'php_memcachedll': 1, '524': 1, 'python35': 1, 'jsondumps': 5, 'guidance': 3, 'filesize': 6, 'cutoff': 1, 'foundation_export': 1, 'addtaghelper': 1, 'stringindexoutofbounds': 1, 'interpreters': 1, 'productsphpcat1': 1, 'myfolder1': 1, 'myproduct1': 1, 'requestgetowincontext': 1, 'regopenkeyex': 2, 'gedit': 1, '32756': 1, 'chunkp': 1, 'demand': 4, '539': 1, 'log_errors': 1, 'lenny': 1, 'locationhref': 6, '2147483645': 1, 'authorityutils': 1, 'setalpha': 1, '303': 7, 'catalinaout': 3, 'glibc': 3, 'xssf': 3, 'season': 2, 'dockable': 1, 'dilemma': 3, 'algorithmic': 1, 'icmp': 1, 'tcpudp': 1, 'cql': 1, 'xhrpost': 1, '#defines': 3, 'jak': 1, 'changepage': 2, 'messagehandler': 1, 'googlemapsmap': 1, 'invalidvalueerror': 2, 'setmap': 1, 'qcoreapplication': 1, 'setlocale': 2, 'lc_all': 1, 'casts': 5, 'pymysql': 2, 'comparable': 9, 'collectionsort': 1, 'dedicated': 1, 'beaninstantiationexception': 2, 'terminology': 2, 'compiletime': 9, 'nonkey': 2, 'dotstar': 1, 'badly': 4, 'postive': 1, 'quickest': 9, 'execmavenplugin121': 1, 'ecipse': 1, 'autologout': 2, 'trafic': 1, 'statistica': 1, 'sta': 2, '324': 2, 'neterr_empty_response': 1, 'gemloaderror': 4, 'userscontroller#new': 1, 'ultimatelistctrl': 1, 'sqliteconnection': 1, 'disposedobject': 1, 'configsections': 1, 'constructed': 10, 'stringsxml': 4, 'latency': 4, 'locales': 3, 'sendkeys': 5, 'vith': 1, 'preferencescreen': 2, 'mathmax': 3, 'numberformat': 2, 'apireadfacebookcom443': 1, 'enlarge': 4, 'htmlvaluefor': 1, 'xxpropertyname': 1, 'modelpropertyname': 1, 'selectonelistbox': 1, 'sessionscope': 1, 'reasons': 16, 'disconnected': 10, 'perimeter': 3, 'htmlvalidationmessagefor': 3, 'webservlet': 2, 'saveas': 4, 'unassigned': 3, 'systemwindowscontrolslistview': 1, 'systemwindowsformslistview': 1, 'sequential': 12, 'login_required': 4, 'gauss': 1, 'elimination': 2, 'validade': 1, 'aware': 5, 'backtracking': 1, 'recusrion': 1, 'predispatch': 2, 'postdispatch': 1, 'errorhandler': 2, 'objc_msgsend': 3, 'wkt': 1, 'sdo_geometry': 1, 'ssize_t': 1, 'jsonsyntaxexception': 1, 'realloc': 9, 'ants': 1, 'swift3': 6, 'dojox': 1, 'tortoise': 2, 'highlighted': 13, 'lboost_systemmt': 1, 'phpunitphar': 1, 'versionphp': 1, 'documentbodyscrolltop': 1, 'stdvectors': 2, 'androidsupportv4app': 1, 'fragmentmanager': 2, 'simplexmlloadfile': 1, 'firstchild': 2, 'datetimeminvalue': 1, 'disapper': 1, 'viewdatamodel': 1, 'differentdifferent': 1, 'gis': 5, 'configurationproperties': 2, 'networking': 9, 'singlethreaded': 2, 'ongoing': 3, 'check_box_tag': 3, 'c4189': 1, 'poolableconnectionfactory': 2, 'maphilight': 1, 'deactivate': 1, 'jsonserializer': 2, 'vs2017': 1, 'terminatethread': 1, 'infinate': 1, 'documentframes': 1, 'introduce': 4, 'nonstandard': 5, '__leave': 1, 'horribly': 1, 'minimal': 9, 'allocations': 4, 'boost_filesystem_version': 1, 'switchcase': 7, 'htmltable': 3, 'uiimagepickercontrollereditedimage': 1, 'systemioioexception': 4, 'mtom': 1, 'savechanges': 4, 'datacontractserializer': 1, 'classloading': 2, 'keychainitemwrapper': 1, 'arcified': 1, 'eliminate': 9, 'querysyntaxexception': 2, 'touchscreens': 1, 'felix': 1, 'osgiwiringpackage': 1, 'additem': 1, 'drawerlayout': 2, 'crmconnection': 1, 'disableoutputescaping': 1, 'android+phonegap': 1, 'twitterizer': 1, 'newtownjson': 1, 'boostbad_get': 1, 'boostget': 1, 'currenly': 1, 'extensive': 1, '#0': 2, 'integerclass': 1, 'intclass': 1, 'upgradeable': 1, 'readerwritelock': 1, 'resultsetnext': 1, 'so_reuseport': 1, 'autcomplete': 1, 'renderitem': 1, '__tcp_connection_write_eof_block_invoke': 1, '89': 1, 'canceled': 1, 'selfjoin': 2, 'urlforubiquitycontaineridentifier': 1, 'v2+': 1, 'unstable': 2, 'orgspringframeworkwebbindannotation': 1, 'innerwidth': 1, 'soapui': 5, 'regexextracting': 1, 'didselectrow': 3, 'datetimewith': 1, 'reasonable': 4, 'tableviewheader': 1, 'mediaview': 1, 'argumentexception': 1, 'jpegbitmapdecoder': 1, 'subnet': 1, 'multiplicative': 1, 'origins': 2, 'statictext': 1, '#rspeccoreexamplegroup': 1, 'dvd': 1, 'rom': 2, 'table_for': 1, 'paginator': 1, 'reqest': 2, 'agetclass': 1, 'aclass': 1, 'numpyargmax': 2, 'argmin': 1, 'startindex': 2, 'releasing': 12, 'kernels': 4, 'http_accept': 1, 'psp': 1, 'moderate': 1, 'unowned': 2, 'approved': 2, 'rejected': 11, 'apientry': 1, 'keyword_class': 1, 'keyword_do': 1, 'accroding': 1, 'ionrangeslider': 1, 'performselect': 1, 'mysqlconnect_timeout': 1, 'rootviewcontroller': 3, 'parsexmlfileaturl': 1, 'episode': 2, 'perfect': 12, 'jvd': 1, 'print_thumbnail': 2, 'php53': 1, 'qfilesystemwatcher': 1, 'emits': 1, 'directorychanged': 1, 'hasp': 1, 'correlations': 2, '_iotextiowrapper': 3, 'checkbuilt': 1, 'gift': 1, 'cgrectintegral': 1, 'parsergenerator': 1, 'jdbcodbcdriver': 1, 'headphone': 1, 'jack': 1, 'blogs': 2, 'initwithcoder': 1, 'getactionbar': 1, 'mongomapper': 1, 'orgopenqaseleniumsessionnotcreatedexception': 1, 'cmake_install_prefix': 1, 'cwinthread': 1, 'toggleaction': 1, 'jquerysending': 1, 'psychso': 1, 'suspended': 1, 'framewok': 1, 'v6': 1, 'orgspringframeworkexpressionparsercontext': 1, 'alerting': 1, 'pushpin': 1, 'engineering': 3, 'staruml': 1, 'stdafxh': 1, 'timeticks': 1, 'jsonlib': 1, 'photocapturedevice': 1, 'nokia': 2, '920': 1, 'subselect': 3, 'collectionrnparameter': 1, 'shobjidlh': 1, 'countvectorizer': 1, 'vocabulary': 1, 'wasnt': 6, 'scrapping': 2, 'gcd': 8, 'initiating': 2, 'orghibernatepropertyaccessexception': 1, 'illegalargumentexception': 7, 'actionfilterattribute': 1, 'ddmmmyyyy': 3, 'appsrc': 1, 'gstreamer': 12, 'udpsink': 1, 'as3': 9, 'objectlistview': 1, 'imagewithdata': 1, '640': 1, '480': 1, 'systemwindowsautomation': 1, 'overcome': 1, 'crossthread': 8, 'ridiculously': 2, 'thumbs': 1, 'cancelled': 5, '_numberofitemsinsection': 1, 'requestgetparameter': 4, 'orgjsoupnodesdocument': 1, 'orgw3cdomnode': 2, 'div_name': 1, 'innerhtmlxmlhttpresponsetext': 1, 'begincommit': 1, 'badges': 2, 'bubbles': 2, 'mysqld': 3, 'c2664': 1, 'usermode': 1, 'svc': 2, 'textsearch': 1, 'startswith': 1, 'overriden': 3, 'fpmphp': 1, 'blind': 1, 'resourceconfig': 1, 'ifthenelse': 2, '600pm': 1, 'mat4perspective': 1, 'tds': 3, 'commandbuffercontext': 2, 'primcount': 1, 'createsqlquery': 3, 'querylist': 3, 'wsimport': 3, '1many': 1, 'story': 4, 'futuretask': 1, 'inet': 2, 'cidr': 2, 'dbconnection': 2, 'imagecreatefromstring': 2, '6digit': 1, 'systemdrawingsize': 1, 'ociparse': 1, 'setfirstresult': 1, 'ton': 1, 'h1': 7, 'vale': 1, 'clcik': 1, '192rc': 1, 'oncheck': 3, 'complie': 1, 'fills': 2, 'illuminatesupportfacadesloglisten': 1, 'justmock': 1, 'scalable': 6, 'datasetmerge': 1, 'deletesubkey': 1, 'overcoming': 2, 'subdirectories': 11, 'bootstrapper': 2, 'wwwxxxxxxxxxxcom': 1, 'fbaudiencenetwork': 1, 'v410': 1, 'hypertext': 1, 'spy': 8, 'armnonelinuxgnueabig++': 1, 'tomcat7run': 2, 'dual': 7, 'rolling_apply': 2, 'ienumerableanonymous': 1, '__version__': 2, 'cjuidialog': 1, 'getresponsestream': 1, 'openssh': 1, 'rowobject': 1, 'onunload': 4, 'arounds': 1, 'nonfinal': 4, 'angularinmemorywebapi': 1, 'ctorparametersmap': 1, 'configurationmanagergetsection': 1, 'assemblygetexecutingassembly': 3, 'messagelistener': 1, 'prebuffer': 1, 'blueprint': 6, 'trebuchet': 1, 'calibari': 1, 'facebookgetuser': 2, 'meterplot': 1, 'pg': 7, 'multiplatform': 3, 'noimage': 1, 'singly': 7, 'javautilobjectsrequirenonnull': 1, 'preconditionschecknotnull': 1, 'cropped': 3, 'systeminvalidoperationexception': 5, 'systemdatadll': 4, 'nls_language': 1, 'agent': 2, 'chd4': 1, 'lookuperror': 1, 'auth_user_model': 1, 'interminal': 1, 'outbound': 3, 'dict_cursor': 1, 'handlebar': 3, '313': 2, 'webapplicationinitializer': 3, 'orgspringframeworkbootspringapplication': 1, 'settingwithcopywarning': 1, 'gantt': 1, 'charting': 4, '12345': 3, 'langid': 1, 'rubyonrails': 3, 'copytree': 1, 'negated': 1, 'analyze': 2, 'hs_err_pidxyzlog': 1, 'afterwards': 6, '120': 1, 'httpresponsemessagecontent': 2, 'newtonsoftjsonjsonreaderexception': 1, 'pitfalls': 4, 'htmlhelpertmodel': 1, 'morsecode': 1, 'xmlresourceparser': 1, '20111213': 1, 'monday': 9, 'tuesday': 5, 'bannerview': 1, 'diagnosing': 2, 'localeus': 1, 'packaging': 3, 'alihackeval': 1, 'alihackcom': 1, 'takepicture': 1, 'onpicturetaken': 1, 'multples': 1, 'vb2005': 2, 'querydescriptorstype': 1, 'traindesccollection': 1, 'knnmatchimpl': 1, 'bottommost': 1, 'untitled2maincpp': 1, 'autocapitalization': 1, 'mulesofts': 1, 'anyponit': 1, 'traces': 1, 'historypushstate': 2, 'bgr': 3, 'pcalendar': 1, 'pdatatable': 3, 'pajax': 2, 'dateselect': 1, 'thislock': 1, 'passbyreference': 3, '430final': 1, '143release': 1, 'action_refresh': 1, 'nonhierarchical': 1, 'overflowerror': 1, 'infinity': 7, 'r4ds': 1, 'wsaeconnreset': 1, 'fadeout': 8, 'notch': 1, 'infowindows': 3, 'consumes': 3, 'antialias': 2, 'workbench': 3, 'userdetails': 1, 'deny': 9, 'gccs': 5, '#pragma': 8, 'lineedit': 1, 'httpstatuscode': 1, 'print_notify_info_data': 1, 'sessionsave': 2, 'filetransfer': 2, 'rsinvaliddatasourcereference': 1, 'among': 10, 'constrained': 5, 'tied': 2, 'donationsactivity': 1, 'isotope': 2, 'datacontrolfield': 1, 'redshift': 2, 'settingprivacy': 1, 'scrollviewer': 6, 'foreignobject': 2, 'kr': 2, 'unsatisfied': 3, 'target_blank': 3, '560': 1, 'retrieves': 2, 'prep': 1, 'requestanimationframe': 2, 'wipe': 3, 'entityframeworkcore': 1, 'ctrl+a': 1, 'dlclose': 1, 'initially': 7, 'listboxes': 5, 'principal': 6, 'jqueryfadein': 1, 'accesscontroller': 1, 'abrahams': 1, 'followsorgxmlsaxsaxexception': 1, 'simpledeserializer': 1, 'readutf': 1, 'datainputstream': 3, 'validationmessagefor': 2, 'quest': 3, 'arithmetical': 1, 'narrow': 4, 'flashplayer': 1, 'libv8': 1, '311817': 1, 'androidsupportv7': 1, 'imodelbasicacks': 1, 'behaviours': 1, 'stylesetproperty': 1, 'multistore': 2, 'minsdkversion': 2, 'targetsdkversion': 1, 'mx': 2, 'collider': 2, 't_sl': 1, 'tier': 5, 'ajaxifying': 1, 'secondlevel': 1, 'wallposts': 1, 'cannotsendrequest': 1, 'regexr': 1, 'singleruntrue': 1, '32651error': 1, 'default_url_options': 2, 'actionviewtemplateerror': 5, 'livereload': 1, 'proxify': 1, 'fscaf': 1, 'proramming': 1, 'htmlunit': 1, 'v85': 1, 'bootstrapcss': 1, 'held': 6, 'illegical': 1, 'corpus': 5, 'referentialconstraint': 1, 'storegenerated': 1, 'shared_ptr': 1, 'modelobj': 1, 'threemesh': 1, '_namespacepath': 1, 'viewable': 4, 'audioqueue': 1, 'twiiter': 2, 'mage_page_block_html_topmenu': 1, 'vpn': 2, 'hi': 6, 'fetchtype': 1, 'canvasdrawbitmap': 2, 'movies': 2, 'ejbclient': 1, 'exclusion': 3, 'sentmailer': 3, 'domwindow': 2, 'iboutletcollection': 2, '0x8013101b': 1, 'probing': 1, 'mod_ruby': 1, 'fedora20': 1, 'systemiofilemovehow': 1, 'datamembers': 1, 'nosuchelementexception': 2, 'cmakeliststxt30': 1, 'cmake_c_compiler': 1, 'wysiwyg': 2, 'soundeffectfromstream': 1, 'batchprocesses': 1, 'bea': 2, 'systemdrawingbitmap': 3, 'textchanged': 3, 'keypressed': 3, 'onbackpressed': 1, 'locationpath': 5, 'strutsxml': 1, 'mysql_fetch_object': 2, 'mapfile': 2, 'zendx': 1, 'marshalqueryinterface': 1, 'collapsibles': 1, 'freeware': 1, 'disgner': 1, 'win32_printjob': 1, 'user_root_path': 1, 'cxampphtdocsprojectindexphp': 1, 'lazyloading': 3, 'analyzer': 4, 'php7': 5, 'navigates': 3, 'colvis': 1, 'confuse': 3, 'javautilconcurrentlinkedqueue': 1, 'datagridviewcell': 2, 'blanks': 5, 'flushing': 7, 'unmarshalled': 1, 'onclickwindowprint': 1, 'newest': 5, '901': 1, 'osubuntu': 1, '1604lts': 1, 'systemexit': 5, 'fileutils': 2, 'strdup': 1, 'interlockedexchangepointer': 1, 'baseurl': 1, 'redirecttoroute': 1, 'isvalid': 4, 'getmessages': 1, 'cloudera': 1, 'doubly': 11, 'intparse': 2, 'numericupdownvaluetostring': 1, 'imagexcassets': 1, 'opposing': 1, 'requestgetattribute': 1, '++num': 1, 'num++': 1, 'byref': 2, 'infragistics': 1, 'hibernatecfgxml': 6, 'orgdom4jdocumentexception': 1, 'treeset': 5, 'onescriptafter': 1, 'to_date': 2, 'snr': 1, 'osm': 2, 'tiles': 8, 'dblib': 4, 'answers': 4, 'ln': 2, 'mathflog': 1, 'volumechanged': 1, 'avsystemcontroller_systemvolumedidchangenotification': 1, 'cbn_selchange': 1, 'gtkimage': 1, 'cairo': 1, 'persons': 3, 'trustmanager': 1, 'warp': 1, 'tosuccesscallbackstring': 1, 'writejavascript': 1, 'netscp': 1, 'nodegooglemaps': 1, 'btoa': 1, 'sessrun': 1, 'tfglobal_variables_initializer': 1, 'stringnpos': 1, 'ctrl_c': 1, 'sigint': 3, 'datamining': 2, 'inspite': 2, 'setattribute': 9, 'ie6': 5, 'consists': 2, 'vsphere': 1, 'esxi': 1, 'phones': 8, 'cd': 3, 'desktoplike': 2, 'implementations': 14, 'dsacryptoserviceprovider': 1, 'select_related': 3, 'genericforeignkey': 1, 'driving': 7, 'executescalar': 4, 'thursday': 2, 'aspxpopup': 1, 'aspxgridview': 6, 'defination': 2, 'rvas': 1, 'pe': 2, 'number_format': 3, 'floor': 4, 'plans': 3, 'asserttrue': 1, 'ecosystem': 2, 'launcher': 7, 'viewcompatpostinvalidateonanimation': 1, 'enumspecific': 1, 'odt': 1, 'jodreports': 1, 'listobj': 1, 'domxml_open_mem': 2, 'alternating': 5, 'treemapstring': 1, 'treesetstring': 1, 'printthis': 1, 'constantly': 13, 'interpolation': 15, 'minifier': 1, 'strips': 2, 'rds': 2, 'pythonlike': 1, 'array_splice': 1, 'array_slice': 1, 'invokeonmainthread': 1, 'int32minvalue': 1, 'int32maxvalue': 1, 'ngblur': 1, 'fpassthru': 1, 'easypiechart': 1, 'javalangobjectclone': 1, 'evaluated': 7, 'qt_version_tag': 1, 'googlemobileads': 1, 'notebook': 9, 'completes': 7, 'systeminread': 1, 'word_tokenize': 1, 'qcombobox': 1, 'microsoftofficeinteropexcel': 2, 'care': 2, 'alignments': 2, 'dtype': 9, 'angularui': 6, 'scaled': 5, 'submiting': 4, 'gpuimageh': 1, 'gpuimage': 1, 'displaymember': 2, 'nsarrays': 2, 'windows64bit': 1, 'autoindent': 1, 'backnaviitem': 1, 'onclickevent': 1, 'edits': 1, 'qualification': 2, 'x3': 1, 'x5': 1, 'x7': 1, 'preparecall': 1, 'wellimplications': 1, 'listboxobjectcollection': 1, 'environmentgetexternalstoragedirectory': 1, 'commandbutton': 4, 'enrollment': 1, 'webdrivermanager': 1, 'eacces': 3, 'uiimagewritetosavedphotosalbum': 2, 'ruining': 1, 'exec_': 1, 'windowanalyticssetuserid': 1, 'myuserid': 1, 'bullets': 6, 'whatsapp': 4, 'qlabelsettext': 1, 'textviewdidchange': 1, 'wkhtmltopdf': 1, 'j9': 1, 'stringsubstring': 2, 'choke': 2, 'stringlength': 1, 'appendchild': 6, 'javabin': 1, 'skybox': 1, 'seams': 1, 'secret': 13, 'diffie': 1, 'hellman': 1, 'codepen': 1, 'windowsformspanel': 1, '32767': 2, 'jrxml': 1, 'fac': 1, 'dalvikvm': 1, 'watchify': 1, 'virtualbox': 7, 'zfcusers': 1, 'halo': 1, 'unspecified': 7, 'flight': 2, 'especially': 3, 'thisformsubmit': 1, 'fgetc': 1, 'boostasiostreambuf': 2, 'comgooglecommonbaseplatformsystemnanotime': 1, 'supress': 4, 'xsi': 2, 'objc_setassociatedobject': 1, 'neuroph': 1, 'assembling': 3, 'scipymiscimread': 1, 'contentwindow': 1, 'findsongbysize': 1, 'situated': 2, 'jgit': 1, 'ipaddrscopeid': 1, 'systemnetsocketssocketexception': 3, 'pf': 2, 'oraoledb': 1, 'unreliable': 3, 'hardcoding': 2, 'attend': 1, 'matplotlibpyplotimshow': 1, '331': 2, 'controltextdidchange': 1, 'nstextfields': 1, 'webjars': 1, 'contextpath': 1, 'ob_start': 4, 'imagefromstream': 2, 'cousins': 1, 'tukey': 1, 'formattingpattern': 1, 'jfactory': 1, 'tomandjerryhostelcom': 1, 'findandreplace': 1, 'besides': 3, 'zipping': 7, 'jqueryui1817': 1, 'requirments': 1, 'repurpose': 1, 'viewmodelcloser': 1, 'locationtostring': 1, 'animationwithduration': 1, 'conundrum': 1, '202': 6, '0x76c11b0': 1, 'mutated': 3, 'enumerated': 4, 'datagramprotocol': 1, 'clip': 7, 'clipper': 1, 'miliseconds': 1, 'weblistener': 1, 'storedprocedure': 2, '1010': 4, 'maverick': 1, 'meerkat': 1, 'ccscrollview': 1, 'elevated': 2, 'pst': 5, 'jlabels': 5, 'scrollpane': 2, 'socketiocontrol': 1, 'clocks_per_sec': 2, 'phpsimplexml': 1, 'loginfacebookcom': 1, 'vulnerability': 5, 'yyyymmddthhmmss+0530': 1, 'verbs': 1, 'vc10': 2, 'vc11': 5, 'comprehensions': 5, 'rdata': 6, 'postasync': 3, 'bowerrc': 1, 'cursors': 5, 'mystery': 2, 'asserts': 1, 'python+mongodb': 1, 'gridfs': 1, 'channelread': 1, 'customisation': 3, 'renegotiation': 1, 'badge': 10, 'accordingly': 7, 'gettickcount': 2, '_win64': 1, 'resultsetgetstring': 1, 'colname': 1, 'topdow': 1, 'warpperspective': 1, 'multiprocessingpoolmap': 1, 'variance': 3, 'applicationresources': 1, 'navcollapse': 1, 'titaniumnetworkonline': 1, 'orgomgcorbamarshal': 1, 'warnung': 1, 'iop00810011': 1, 'cgpoint': 3, 'cccallfuncnd': 1, 'javaxmicroeditionio': 1, 'legendonlyt': 1, 'max_input_time': 1, 'javaxswingjtable': 1, 'roleprovider': 1, 'warns': 1, 'unlike': 3, 'urlencode': 4, 'orgosgiutiltrackerservicetracker': 1, 'datalength': 1, 'ecb': 1, 'pkcs1padding': 1, 'rubydebug19': 1, 'linecache19': 1, '200p247': 1, 'md5hex': 1, 'popviewcontrolleranimated': 3, 'interactions': 1, 'glm': 2, 'getimagedata': 3, '306': 1, 'php4': 1, '610': 2, 'savechangesasync': 1, 'nomatching': 1, 'editors': 3, 'pyclewn': 1, 'ajaxrequest': 2, 'geometry': 6, 'texturebrush': 1, 'gccollectioncount': 1, 'pip3': 1, 'datetimetoday': 2, 'proceeding': 2, 'msconfigexe': 1, 'cryptic': 1, 'sslsocketfactory': 1, 'lockable': 2, 'railsajax': 1, 'cqlsh': 1, 'php_eval': 1, 'htmlparser': 4, 'syspathappend': 1, 'awake': 1, '0xc2': 1, 'objectsfilter': 1, 'setmaximumsize': 1, 'setminimumsize': 2, 'timedriven': 1, 'javathread': 1, 'numpyndarrays': 1, 'selectbox': 4, 'validators': 7, 'adresses': 2, 'uploadfile': 1, 'unmd5': 1, 'traversing': 9, 'verifying': 8, 'phantomjss': 1, 'onresourcerequested': 1, 'jsfjsjsf': 1, 'jsfjsxhtml': 1, 'overrideimplements': 1, 'jsonrootname': 1, '4char': 1, '01': 3, 'attempts': 10, 'multiproperties': 1, 'mockitoverify': 1, 'bluej': 2, 'massaction': 1, 'prebudled': 1, 'esque': 1, 'luhn': 1, 'backreferences': 2, 'authattempt': 2, 'atomshell': 1, 'lift': 2, 'mariadb': 3, 'authorisation': 1, 'bulb': 1, 'security_attributes': 1, 'createprocess': 4, 'comp': 2, 'izing': 1, 'matat': 1, '537': 1, 'i2c': 1, 'tiva': 1, 'xmlhttpreadystate4': 1, 'xmlhttpstatus200': 1, 'clothoids': 1, 'graphically': 1, 'setjpegquality': 1, 'acsv': 1, 'failures': 4, 'prblem': 1, 'classbody': 1, 'fileprint': 1, 'javalike': 2, 'roundabout': 3, 'thow': 1, 'isoformat': 1, 'emiting': 1, 'expressionmakeindex': 1, 'rle': 1, 'selfsigned': 6, 'haarcascades': 1, 'eye': 2, '1string': 1, '570': 1, 'listdate': 1, 'listlistdate': 1, 'subsequently': 1, 'marshaling': 2, 'intptrs': 1, 'fasterxml': 2, 'funcbool': 1, 'memset': 4, 'functionlike': 1, 'texture2d': 1, 'datataskwithrequest': 1, 'fabricgroup': 1, 'tire': 1, 'hspace': 1, 'reaching': 5, 'pullin': 1, 'n+1': 1, 'biglm': 1, 'scrapyhow': 1, 'ipv4': 7, 'sockaddr_in': 4, 'ipv6': 10, 'sockaddr_in6': 1, 'attendance': 2, 'strftime': 2, 'pointerevents': 1, 'djangomailer': 1, 'flexwrap': 1, 'addressable': 1, 'draw9patch': 1, 'iofilecopy': 1, '190': 1, 'valuearray': 1, 'rock': 3, 'scissors': 2, 'angularcli': 2, 'chartarea': 1, 'sigcont': 1, 'getxmlhttp': 1, 'rectangular': 7, 'uiresponder': 1, 'dbforge': 1, 'modded': 1, 'smof': 1, 'mockitowhen': 2, 'toggl': 1, 'chose': 2, 'farthest': 1, 'qglwidget': 2, '02s': 1, '2s': 1, 'oracles': 4, 'getconstructor': 1, '_ah': 1, 'openid_verify': 1, 'orgcodehausjacksonjsongenerationexception': 1, 'overflowing': 1, 'scaffoldcss': 1, 'jplayer': 1, 'linearsvc': 2, 'filterdispatcher': 2, 'dropdownchecklist': 1, 'catextlayer': 1, 'bordercolor': 2, 'androidthemedialog': 1, 'appcompat': 1, 'scattersmooth': 1, 'specifierqualifierlist': 2, 'type_name': 1, 'aescmac': 1, 'arraypush': 1, 'webimage': 1, '2016': 2, '80080005': 1, 'mpdf': 1, 'invoicepdf': 1, '3cscript': 1, 'spiral': 2, 'relates': 1, 'workflows': 1, 'monads': 2, 'enableviewstate': 1, 'systemdatasqlite': 3, 'version10650': 1, 'springdatamongo': 1, 'userspecified': 1, 'approximated': 1, 'programtically': 1, 'after_sign_in_path_for': 2, '__autoreleasing': 1, 'orchard': 3, 'forth': 4, 'dbal': 3, 'onetime': 3, 'mcrypt': 2, 'cvc': 1, '242': 2, 'camelcontext': 1, 'sqlceme30dll': 1, '0x0': 2, 'multipartfile': 2, 'deliver': 2, 'preconditions': 1, 'blocksize': 1, 'keysize': 1, 'encription': 1, 'windowshowmodeldialog': 1, 'retreiving': 1, 'writeprotected': 1, 'fileinfocopyto': 1, 'humanformat': 1, 'nsrect': 2, 'xae': 1, 'eintr': 1, 'cookiemiddleware': 1, 'illegalreferencecount': 1, 'decoder': 2, '0x80004005': 3, 'didreceiveremotenotification': 2, 'rdp': 4, 'nonconsecutive': 2, 'javalangincompatibleclasschangeerror': 3, 'table1idtable2uid': 1, 'table2active1': 1, 'difficulty': 8, 'jsqmessage': 1, 'mwindows': 1, 'bilinear': 1, 'pauses': 3, 'froala': 1, 'cointoss': 1, 'php_serialclassphp': 1, 'wtp': 1, 'passcode': 2, 'meessage': 1, 'scalars': 1, 'interned': 1, 'ecmascript6': 1, 'responsewrite': 3, 'extdatajsonstore': 1, 'httpequiv': 1, 'rotatefliptype': 1, 'claims': 4, 'wpdboptions': 1, 'newsfeed': 1, 'st_distance': 1, 'javaxinject': 1, 'usascii': 3, 'filelike': 1, 'rcolorbrewer': 1, 'orghibernatelockmodepessimistic_write': 1, 'rt': 6, '100mb': 2, 'modelvalidate_unique': 1, 'taskcontinuewith': 2, '14041': 1, 'qapplicationmainwidget': 1, 'inlinestyle': 1, 'hwpf': 1, 'ubiquitous': 1, 'fread': 5, 'bcrypt3110': 1, 'androidasynchttpjar': 1, 'ireport': 1, 'xframeoptions': 2, 'sameorigin': 2, 'epreventdefault': 3, 'nullcoalescing': 2, 'frontend_devphp': 1, 'viewwillappear': 5, 'viewdidlayoutsubviews': 1, 'multiterm': 1, 'checkdnsrr': 1, 'excelvba': 1, 'dynamicly': 4, 'systemlayoutsizefittingsize': 2, 'tableheaderview': 1, 'runwithparams': 1, 'zipf': 1, 'mother': 1, 'father': 1, 'modelchoicefield': 6, 'filesreadallbytes': 1, 'pathsget': 1, 'eventmachine100beta3': 1, 'lua_states': 1, 'headerview': 2, 'bluetoothservice': 1, 'lefthand': 5, 'nearly': 2, 'optimizer': 2, 'javahow': 3, 'futurefuturet': 1, 'futuret': 2, 'andor': 1, 'djangoaxes': 1, 'captures': 3, 'customvalidator': 2, 'libboostsystem': 1, 'has_many_and_belongs_to': 1, 'affix': 3, 'distinquish': 1, 'queried': 2, 'clickfunction': 1, 'bag': 3, 'rspecnomethoderror': 1, 'came': 3, 'httpcontextgetglobalresourceobject': 1, 'my_function': 1, 'datalabel': 1, 'realease': 1, 'htmldocumentdocumentnode': 1, 'anybody': 3, 'fileloadexception': 1, 'syllabus': 1, 'npsqlentityframework7': 1, 'npgsql': 1, 'precompressed': 1, 'orgapachetaglibsstandardtagrtcoreurltag': 1, 'pdosessionstorage': 1, 'nonmapped': 2, 'orgspringframeworkaopsupportaoputilsinvokejoinpointusingreflection': 1, 'aoputilsjava317': 1, 'objectnode': 2, 'jsonnode': 2, 'opencv21': 1, 'xsltprocessorimportstylesheet': 1, 'nextline': 3, 'wowza': 1, 'comandroidsupportdesign2220': 1, 'sqlvalue': 1, 'qunit': 2, 'editted': 1, 'serviceprocessinstaller': 1, 'definitive': 2, 'antixss': 1, 'ajaxsent': 1, 'simplist': 1, 'fputs': 1, 'errno32': 1, 'technology': 8, 'filegetmimetype': 1, 'rescuing': 1, 'forming': 2, 'keepalive': 3, 'cartesian': 7, '621355752000000600': 1, 't0': 1, 'unidirectional': 2, 'lexical': 6, 'dependencyproperty': 5, 'resourcebadcfg': 1, 'resourceget': 1, 'omp': 5, 'charecter': 1, 'pageviewer': 1, '8513': 1, '900m19': 1, 'incompatibility': 2, '57': 2, 'opts_chunkset': 1, 'rootdir': 1, 'datetimetryparseexact': 3, 'datapoint': 3, 'setvalue': 3, 'nulls': 4, '__gnu_cxx__normal_iterator_iteratorl': 1, '_container': 1, 'tecplot': 1, 'diagonal': 12, 'touches': 6, 'tbmenu': 1, 'jbuttons': 8, 'triple': 8, 'systemwebwebpagesdisplaymodeprovider': 1, 'jsi18n': 1, 'mapviewdelegate': 1, 'autorelease': 3, 'readexisting': 1, 'zendsearchlucenelucene': 1, 'zendframework2': 1, 'loosing': 2, 'contacted': 1, 'didfinishlaunchingwithoptions': 1, 'cutting': 4, 'check_auth_continue': 1, '574': 1, 'netsmtpsyntaxerror': 1, 'multidisplay': 1, 'signup': 6, 'aob': 1, 'setfilterqueryprovider': 1, 'probabilistic': 1, 'httpput': 2, 'topics': 1, 'listboxitemsadd': 1, 'outlets': 3, 'php535': 1, 'dismissed': 2, 'listday': 1, 'specclass': 1, 'memberfunction': 1, 'renderdepth': 1, 'register_shutdown_function': 1, 'fieldsvbnet': 1, 'cfgxml': 1, '49': 1, 'glulookat': 1, 'fbrequestconnection': 1, 'runned': 1, 'parameterization': 1, 'parabola': 1, 'plural': 1, 'singular': 4, 'formtastic': 1, 'componentinfo': 4, 'function_exists': 1, 'multiplot': 1, 'usemethod': 2, 'getmodelinfo': 1, 'uitableviewrowaction': 1, 'boostlocale': 1, 'util': 6, 'arizona': 1, 'begining': 1, 'layering': 1, 'avaudioengine': 1, 'unplug': 1, 'headphones': 2, 'errortimeout': 1, 'buildscript': 1, 'noob': 7, 'rollbackexception': 2, 'classa': 2, 'asenumerable': 1, 'marionettebackbone': 1, 'paypal_lib': 1, 'doinbackground': 4, 'krajee': 2, 'sizing': 4, '10022': 1, 'tomcats': 2, 'connectors': 2, 'httpd': 2, 'getbbox': 1, 'getboundingclientrect': 1, 'getclientrects': 1, 'hackerrank': 1, 'finetuning': 1, 'bufferedoutputstream': 2, 'backingbean': 1, 'customly': 1, 'greyscale': 1, 'orgjsonjson20090211': 1, 'xor': 2, 'ionradio': 1, 'urlopenstream': 2, 'dhosting11742398htmltestloginphp': 1, 'consoles': 3, 'clicklistener': 1, 'indian': 4, 'npoi': 1, 'renvironment': 1, '256bit': 1, 'microcontroller': 2, 'mydivstyledisplay': 1, 'programaticaly': 1, 'incomplete_string': 1, 'mousedown': 9, 'shgetspecialfolderpath': 2, 'iso8601': 2, 'customadapter': 1, 'numpyndarray': 1, 'inplace': 2, 'resourcedesignercs': 1, 'linuxspecific': 1, 'cc1plus': 1, 'execvp': 2, 'resignfirstresponder': 1, 'filedelete': 2, 'sysstdin': 1, 'ctrld': 1, 'contextfree': 1, 'upstream': 6, 'ocean': 1, 'slows': 7, 'uintptr_t': 1, 'classnotfound': 1, 'directorys': 2, 'dateadd': 3, 'indexjs': 1, 'javautillist': 3, 'filecontents': 1, '350m': 1, '300ms': 3, 'touchdevices': 1, '_setlayerconfig': 1, 'peopledetectpy': 1, 'textfieldparserreadfield': 1, 'dangling': 1, 'subclassed': 1, 'ngattr': 1, 'codecoverage': 2, 'filterphp': 1, 'c#idiomatic': 1, 'nondestructive': 1, 'switched': 2, 'disconnectedcontext': 1, 'managementobjectsearcher': 3, 'nonhexadecimal': 1, 'dplyrselect': 2, 'assertarrayequals': 1, 'listblobsegmented': 1, 'textclock': 1, 'runworkercompleted': 5, 'unsafemutablepointeruint8': 1, 'subtitution': 1, '000webhost': 3, 'preg_match_all': 3, 'superscript': 4, 'bases': 2, '10060': 3, 'collection_radio_buttons': 1, 'mdonclose': 1, 'stdunique_lockstdmutex': 1, 'stdlock_guardstdmutex': 1, 'rails_relative_url_root': 1, 'relative_url_root': 1, 'template_context_processors': 1, 'oneline': 3, 'startdate': 1, 'csvdictwriterwriterows': 1, 'datatablemerge': 1, 'reexport': 1, 'itis': 2, 'openclose': 1, 'qlistt': 1, 'qdatastream': 3, 'onkeylistener': 1, 'countryselect': 1, 'subtitles': 3, 'highstock': 3, 'arulesviz': 1, 'bluecolor': 1, 'frozensets': 1, 'emailaddressattribute': 1, 'draggables': 1, 'resizables': 1, 'documentsubmit': 1, 'styledisplay': 2, 'scanf_s': 1, 'systemlinqiqueryableint': 1, 'proximity': 1, 'disallow': 5, 'dafaframe': 1, 'guavas': 2, 'transformandconcat': 1, 'bestseller': 1, 'multipanel': 1, '+followsymlinks': 1, 'hostgator': 1, 'scaffold': 4, 'djangodb': 1, 'wesbite': 1, 'onscroll': 3, 'languagehindi': 1, '4019final': 1, 'ionettychannelchanneloutboundbufferentry': 1, 'deepsleepmode': 1, 'stdostream': 2, 'shell_exec': 10, 'domexception': 3, 'email_from': 1, 'visited': 8, 'playfair': 2, 'deploymentmanagercreationexception': 1, 'malaysia': 1, 'msb3073': 1, 'libtestsexe': 1, 'vcend': 1, '1073740940': 1, 'depdencies': 1, 'commenting': 4, 'urlpatterns': 1, 'switchpreference': 1, 'onchecked': 1, 'cups': 1, 'javaxprint': 1, 'nslocale': 1, 'preferredlanguages': 2, 'standarduserdefaults': 3, 'applelanguages': 1, 'datamember': 4, 'systemnetmailsmtpexception': 2, '215': 2, 'persistentid': 1, 'simplification': 1, 'boostthread': 2, 'cert': 5, 'pasted': 4, '__tostring': 1, 'iinterfacet': 1, 'databse': 2, 'law': 2, 'splitted': 2, 'windowstate': 1, '_city_id': 1, 'mysqlnd': 2, 'ppa': 2, 'backfacevisibility': 1, 'ftp_put': 3, 'clientbase': 1, 'reactnativemaps': 1, 'appcache': 1, 'new_something_path': 1, 'textvariable': 2, 'percentiles': 1, 'websocketclient': 1, 'pcre': 1, 'avcapturevideopreviewlayer': 2, 'persists': 2, 'dbcreate': 7, 'damaged': 1, '20151012': 1, 'php_mysqlidll': 1, 'php_mysqldll': 1, 'freeing': 6, 'zopim': 1, 'branding': 1, 'quoted': 4, 'scipysavetxt': 1, 'systemlinqenumerable': 2, 'linqkit': 1, 'predicatebuilder': 1, 'keyedcollection': 1, 'has_secure_password': 4, 'password_digest': 1, 'angulargooglemaps': 1, 'systemnetmailattachment': 1, 'undeline': 1, 'systemdrawingdll': 1, 'foreachrdd': 2, '28105#0': 1, 'syncing': 4, 'cannnot': 1, 'checkall': 1, 'methodimploptionsnoinlining': 1, 'inlining': 1, 'libtdsodbcso': 1, 'allday': 1, 'ransack': 2, '372': 2, 'codebases': 1, 'overlaped': 1, 'redbean': 1, 'phpcurl': 1, 'aptget': 2, 'easymock': 1, 'poll': 6, 'ckeditordomelementcreatefromhtml': 1, 'controllor': 1, 'isequal': 2, 'presents': 1, 'graphchart': 1, 'cmdline': 2, 'backbonemarionette': 2, 'beforeclose': 1, 'realmoptional': 1, 'httpclientexecute': 1, 'afterrender': 1, 'documentbodyscrollheight': 1, 'documentbodyoffsetheight': 1, 'nscfboolean': 1, 'lotus': 5, 'notes': 5, 'createlistfromarraylike': 1, 'speckle': 1, 'noise': 3, '601': 1, 'charsequence': 4, 'themes': 2, 'filebased': 2, 'webclientopenread': 1, 'jquerypowered': 1, 'pythonselenium': 1, 'rstem': 1, 'lerp': 1, 'pageload': 5, 'ioss': 2, 'falling': 2, 'tipoestablecimiento': 1, 'nodelistitem': 1, 'scren': 1, 'mysterious': 7, 'tsource': 1, 'etimedout': 4, 'relate': 6, 'emberjsdata': 1, 'typeahead': 6, 'saver': 1, 'preffered': 1, 'log4jproperties': 3, 'keyalias': 1, 'buildproperties': 1, 'deadlocking': 1, 'imageplot': 1, 'qdockwidget': 1, 'asjson': 1, 'incremental': 5, 'autosum': 1, 'touchesbeganwithevent': 1, 'nsset': 3, 'uievent': 2, 'multiprocessingpoolsmap_async': 1, 'misconfigured': 1, 'nsbundle': 1, 'openssl_sign': 1, 'sscryptos': 1, 'listls': 1, 'clearselection': 1, 'appsettingjson': 1, 'disposing': 9, 'technologies': 3, 'repeatable': 1, 'cpus': 5, 'intmax': 1, 'ionicscrolldelegate': 1, 'childwindow': 2, 'slashwith': 1, 'bandwidth': 3, 'wwwmechanizefile': 1, 'sqliteexception': 2, 'tablewhile': 1, 'jfilechooser': 3, 'datagriditemssource': 1, 'enumerablerange': 1, 'w3schools': 1, 'coda': 1, 'plot_surface': 1, 'longitudinal': 1, 'verbosegc': 1, 'cwindows': 1, 'onsjar': 1, 'cab': 2, 'stringclone': 1, 'hssfworkbook': 2, 'ojdbc': 1, 'onitemclicklistener': 2, 'filenotfounderror': 4, 'winerror': 3, 'preferwebinfclasses': 1, 'idclass': 2, 'composit': 1, 'qt5': 8, 'wid': 1, 'equalitycomparert': 1, 'itextsharpxmlworker': 1, 'createuser': 1, 'cusersatul': 1, 'raiandroidsdkssystemimagesandroid22': 1, 'mvcarray': 1, 'arraycollection': 2, '#hash': 2, 'adult': 1, 'nude': 1, 'customerid': 1, 'slinkedlist': 1, 'to_i': 1, 'gludisk': 1, 'icommand': 4, 'odmanager': 1, 'clue': 2, 'resending': 2, 'touchend': 3, '100gb': 1, 'albumtestmodelalbumtabletestcontroller': 1, 'yosemite': 5, '1008813135': 1, 'subclasss': 2, 'propertydescriptoraddvaluechanged': 1, 'httpget_response': 1, 'dataframegroupby': 1, 'regrouping': 1, 'advise': 1, 'relativelayout': 1, 'clickoncedeployed': 1, 'gecko': 1, 'intrusion': 1, 'tablechange': 1, 'datasources': 9, 'threadingtaskparallelfor': 1, 'filewriter': 3, 'numberformatter': 2, 'modelremove': 1, 'unsatisfiedlinkerror': 5, 'dumpdata': 2, 'natural': 12, 'marshallingview': 1, '1366': 2, 'datetimeformatinfo': 1, 'formatdate': 1, 'jde': 1, 'threadsafty': 1, 'toplocationreplace': 1, 'sstream': 1, 'eventually': 2, '4k': 1, 'l1': 1, 'l2': 2, 'fbid': 1, 'holidays': 4, 'chromewebrequestonbeforerequestaddlistener': 1, 'tomcat7mavenplugin': 2, 'matchtemplate': 2, 'stdshared_ptr': 2, 'alljava': 1, 'halted': 1, 'require_no_authentication': 1, 'devmode': 1, 'nonprimary': 2, 'programattically': 1, 'sqlite3operationalerror': 3, 'nscalendar': 1, 'interactively': 1, 'toolset': 4, 'v140_xp': 1, 'certificateexception': 2, 'appname': 3, 'customcellname': 1, 'confirmable': 1, 'rememberable': 1, 'orgjbossmscservicefail': 1, 'msc': 2, 'msc000001': 1, 'jbossdeploymentunit': 1, 'post_module': 1, 'requirementstxt': 3, 'printonly': 1, 'paginated': 3, 'goal': 8, 'maveninstallplugin': 1, 'htmlhidden': 1, 'cleanurls': 1, 'multiviews': 1, 'asax': 1, 'latebinding': 1, 'descendents': 2, 'mysql2026': 1, 'remotecommand': 2, 'unittestable': 1, 'singletonderived': 1, 'stackexchange': 1, 'kramdown': 1, 'locadatetime': 1, 'constraintviolationexception': 2, 'error100ae081elliptic': 1, 'routinesec_group_new_by_curve_nameunknown': 1, 'rxjss': 1, 'evolution': 1, 'oauth2': 10, 'carts': 2, 'forking': 2, 'charecters': 1, 'axshdocvwaxwebbrowser': 1, '1u': 2, 'mailitems': 1, 'verbose': 5, 'systemtypeinitializationexception': 1, 'forjson': 1, 'violin': 1, 'getch': 2, '__dlopen': 1, 'dlopen': 6, 'taskcompletionsource': 1, 'isinstance': 2, 'getrange': 1, 'codeexc_1386_invop': 1, 'first_or_create': 3, 'noninvocable': 1, 'systemwebhttprequestservervariables': 1, 'bst': 4, 'corrected': 2, 'exisiting': 1, 'nearby': 2, 'onmouseleave': 1, 'acceptbutton': 1, 'selectselect': 1, 'exceptional': 1, '3221225477': 2, 'friendship': 1, 'iloggerfacade': 1, 'callermembername': 1, 'dynamicallyadded': 1, 'toolbox': 8, 'paintsettextsize': 1, 'swfit': 1, 'jbjavadesktop': 1, 'tt_content': 1, '62': 3, 'uk': 5, 'currenttime': 2, 'hibrernate': 1, 'brew': 6, 'php56mongo': 1, 'bootstrapsprockets': 1, 'displaytablecell': 2, 'transportlevel': 1, 'reflections': 2, 'jwplayer': 1, 'structserror': 1, 'omitted': 1, 'httpfoundationresponse': 1, 'ftell': 1, 'apparently': 3, 'cocoapod': 2, 'privately': 3, 'living': 1, 'pyo': 1, 'camelcased': 1, 'subobjects': 1, 'applciation': 1, 'rowname': 1, 'resultsets': 2, '257': 1, 'ajaxsetup': 2, 'fobjcarc': 1, 'excepiton': 1, 'tweetsharp': 1, 'expanded': 6, 'outermost': 1, 'mantissa': 2, 'cogrouped': 1, 'pysparkresultiterableresultiterable': 1, 'transformations': 4, 'centring': 1, 'conservative': 1, 'my_bundle_name': 1, 'a4jcommandlink': 1, 'rails3+': 1, 'locktimeout': 1, 'sdl_delay': 1, 'bookmarks': 4, 'equally': 2, 'highmap': 1, 'pinning': 1, 'browsersleep': 1, 'somebody': 2, 'watchposition': 1, 'codeblock': 1, 'prog': 2, '1073': 2, 'checkboxgroup': 1, 'jframes': 3, 'activemqs': 1, 'sticky': 8, 'reescape': 1, 'delims': 1, 'get_posts': 1, 'assetsfolder': 1, 'platformjs': 1, 'selectquery': 1, 'declarative': 2, 'roolbackfor': 1, '9s': 2, 'heaps': 1, 'algorithms': 14, 'ipport': 2, 'localhostport': 2, 'display_errors': 1, 'standardanalyzer': 2, 'memoedit': 1, 'sqlmethods': 1, 'notreadableexception': 1, 'abstractdecoderphp': 1, 'geochart': 3, 'bundlergemfilenotfound': 1, 'whenever': 6, 'reqparams': 2, 'doanswer': 2, 'queuereceiver': 1, 'picalibrate': 1, 'undistortion': 1, 'servicestack': 16, '3+': 2, '_znst8ios_base4initd1ev': 1, 'glibcxx_34': 1, 'aps': 1, 'sqlserver2000': 1, 'dynamicmap': 2, 'cwampwwwnetupdatephp': 1, 'pfquerytableviewcontroller': 1, 'disadvantes': 1, '__date__': 1, 'nsdates': 3, 'cultureinfo': 3, 'fluentnhibernate': 5, 'phpcs': 1, 'array_pluck': 1, 'keyframe': 1, 'turkish': 2, 'classt': 4, 'fpm': 2, 'gitlab': 2, '#id': 3, 'reliability': 2, 'simplequeue': 1, 'joinablequeue': 2, 'viewgroup': 1, 'surl': 1, 'str1': 1, 'str2': 1, 'c_str': 1, 'aspimagebutton': 1, 'fromcharcode': 1, 'utf8encoding': 1, 'medom': 1, 'monster': 3, 'accelerator': 3, 'xtrabars': 1, 'arrayindexof': 2, 'mongoso': 1, 'uimap': 1, 'fairly': 1, 'ons': 1, 'ideal': 3, 'windows1252': 2, 'uisearchbars': 1, 'ix': 2, 'loc': 2, 'iloc': 1, 'inputed': 2, 'systemwebmvchtmlhelper': 2, 'reprojecting': 1, 'bowerinstall': 1, 'mutiple': 4, 'pickerviews': 1, 'inputviews': 1, '0x80240007': 1, 'multigraphs': 1, 'capabilities': 6, 'cronjobs': 1, 'verb': 2, 'codesleeve': 1, 'stapler': 1, 'functionally': 1, 'findandmodify': 2, 'learned': 1, 'caches_action': 1, 'cache_path': 1, 'dfgroupby': 1, 'modwsgi': 2, 'qbytearray': 1, 'marshmallow': 2, 'pipedinputstream': 3, 'transpiling': 1, 'gulpbabel': 1, 'sqlite3busyexception': 2, 'forecolor': 4, 'whiny': 1, 'nils': 3, 'cudamallochost': 1, '180': 3, 'dollars': 1, 'quarters': 3, 'dimes': 1, 'nickels': 1, 'pennies': 1, 'prettyphoto': 1, '#prettyphoto': 1, 'flocking': 1, '200+': 1, 'boids': 1, 'qr': 5, '191': 2, 'problematic': 4, 'tcpclient': 4, 'tcpserver': 1, 'v40': 2, '30mins': 1, 'newstyle': 1, 'memorycacheadd': 1, 'brewer': 1, 'spectrum': 2, 'modalpopupextender': 8, 'systemwebhttppostedfile': 1, 'webmessagebodystyle': 1, 'regardless': 12, 'graphicsdevice': 1, 'setmonth': 1, 'summaryrbga': 1, 'listviewselecteditem': 1, 'angled': 1, 'triangles': 9, 'vcf': 2, 'meanings': 1, 'dbreset': 3, 'mq_open': 1, 'mediarecorder': 1, 'modular': 4, 'commandparser': 1, 'setuptools': 5, '108': 4, 'textlength': 1, '6392': 2, 'pydns': 1, 'dig': 1, 'rel': 1, 'setparameter': 4, 'reshaping': 1, 'fexceptions': 1, 'isdisplayed': 1, 'dojodataitemfilewritestore': 1, 'class_name': 5, 'foreign_key': 1, 'gettimestamp': 1, 'lnk1561': 1, 'sweet': 1, 'o_rdwr': 2, 'o_rdonly': 1, 'o_wronly': 1, 'invalidargumentvalue': 2, 'containment': 1, 'tt': 4, 'koch': 1, 'snowflake': 1, 'cheked': 1, 'real_escape_string': 1, 'objdebug': 1, 'bindebug': 1, 'trie': 1, 'windowhistorygo': 1, 'supportedinterfaceorientations': 1, 'interacts': 1, 'tokenizer': 4, 'uncomment': 1, 'cxampphtdocsfinalnewmailphp': 1, 'statments': 1, 'enters': 3, 'getlasterror': 2, 'throughout': 3, 'enviroment': 1, 'testthat': 1, 'unsticking': 1, 'xd1': 1, '443': 1, '8080': 2, 'pybluez': 1, 'banners': 1, 'everybody': 1, 'jsoncreator': 1, 'gviz': 1, 'marionettejs': 2, 'impersonateloggedonuser': 1, 'multidimentional': 2, 'jagged': 2, 'linqs': 4, 'exceptionstypeerror': 2, 'oject': 1, 'mixins': 1, 'jtextpanes': 1, 'httparty': 1, 'faraday': 1, 'autorotation': 2, 'restyled': 1, 'nhibernatedialectoracle9idialect': 1, 'getstaticmethodid': 1, 'mymethod': 2, 'jgraph': 2, 'contentdisposition': 4, 'arraylength': 4, 'listcount': 1, 'cookie_jar': 1, 'drawingbitmap': 1, 'drawingimage': 1, 'topframe': 1, 'oberserver': 1, 'radiogroup': 2, 'entitites': 1, 'seralized': 1, '++': 3, 'winwordexe': 1, 'verified': 3, 'ssh2_auth_pubkey_file': 2, 'foreignkeys': 1, 'deletes': 7, 'multivariate': 6, 'stdsetinsert': 2, 'xcoordinates': 1, 'nonlatin': 1, 'pthread_key_create': 1, 'eu': 2, 'vat': 2, 'coupon': 1, 'sqlce': 5, 'ddslick': 1, 'servicemanager': 2, 'collectstatic': 4, 'pythagorean': 3, 'triples': 2, 'spaced': 3, 'authenticationmanager': 1, 'richfileupload': 3, 'opendir': 1, 'get_user': 1, 'sidebyside': 3, 'cbind': 3, 'progressdialog': 2, 'activiy': 1, 'drawingpanel': 1, 'linkedlistgetlast': 1, 'windowlocationreload': 2, 'inferred': 5, 'hibernatecannot': 1, 'gridspec': 1, 'builderxmlmarkup': 1, 'errorprovider': 2, 'gluperspective': 1, 'doubleanimation': 1, 'attachmentcollection': 2, '15208': 1, 'dalviksystempathclassloader': 2, 'joystick': 1, 'prefab': 2, 'falls': 9, '#htmlinputelement': 1, 'tolowercase': 5, 'visualstate': 1, 'ihandlerservice': 1, 'ldap_connect': 1, 'unsaved': 4, 'stripes': 2, 'publishable': 1, 'p++': 1, 'dereferencing': 5, 'hashable': 2, 'buildrun': 1, 'rpt': 1, 'plotpredict': 1, 'predictplot': 1, 'cited': 1, 'literature': 1, 'rbindlist': 3, 'wtih': 1, 'websocketnode': 1, 'multiclient': 2, 'socketserver': 2, 'javascriptvoid': 2, 'angularuibootstrap': 1, 'idbtransaction': 1, 'mysqldsock': 2, 'autohotkey': 3, 'orgapachetomcatjdbcpool': 1, 'selectnodecontents': 1, 'fat': 1, 'fontsize': 7, 'windowconfirm': 2, 'divconfirm': 1, 'strmessage': 1, 'xmls': 2, 'congrats': 1, 'ideone': 1, 'codepad': 1, 'compileonline': 1, 'est': 5, 'textboxtext': 6, 'notices': 3, 'reported': 3, 'jtokentostring': 1, 'strongest': 1, 'asneeded': 1, 'objcopy': 1, 'failedorghibernateexceptionjdbcconnectionexception': 1, 'driver#connect': 1, 'probable': 3, 'tabitemvisibilityhidden': 1, 'ishellitem': 1, 'backslashdot': 1, 'pythonsplit': 1, 'turnjs': 1, 'errorcode': 1, 'systemdatasqlclient': 1, 'jsondecoderjsondecodeerror': 1, 'earliest': 3, 'inform': 2, 'mysql_data_seek': 1, 'javaxxmlbindannotationxmlrootelement': 1, 'begincollectionitem': 1, 'java4': 1, 'java5': 2, 'odometry': 1, 'rgbd': 1, 'unsupportedclassversionerror': 2, 'noname': 1, 'gridcontrol': 3, 'plinqinstantfeedbacksource': 1, 'boostasiodeadline_timer': 1, 'xsltlistviewwebpart': 1, 'organisation': 2, 'restful_authentication': 1, 'funq': 1, 'ndkr5': 1, 'bresenhams': 1, 'realmode': 1, 'tifs': 1, 'postedfile': 1, 'createview': 2, 'limiter': 3, 'perticular': 1, 'arraylistmultimap': 1, 'rackspace': 1, 'mosso': 1, 'echoing': 7, 'fetch_assoc': 3, 'precedence': 4, 'androidtextclipboardmanager': 1, 'webdriverfindelements': 1, 'invalidelementstateexception': 1, 'mvcresources': 3, 'beans1xml': 1, 'appdata': 3, 'cllocationdegrees': 1, 'prepened': 1, 'clockwork': 2, 'orgspringframeworksecuritycoregrantedauthority': 1, 'datatablegetchanges': 1, 'array_search': 6, '0th': 1, 'halftransparent': 1, 'dllimport': 3, 'singlephp': 1, 'circumstance': 4, 'arise': 1, 'hrefjavascript': 1, 'pathgettempfilename': 1, 'affinity': 1, 'webfarm': 1, 'numpy192': 1, 'httpbackendexpectget': 1, 'paise': 1, 'wordbyword': 1, 'uisavevideoatpathtosavedphotosalbum': 1, 'invalidargumentexception': 3, 'beanstalkd': 1, 'xmlarray': 1, 'formatjs': 1, 'formatjson': 1, 'suphp': 1, 'torus': 1, 'x00x00': 1, 'multipath': 2, 'pythondjango': 2, 'python3django': 1, 'charge': 4, 'hydrator': 1, 'rowgateway': 1, 'jqueries': 1, 'breezedts': 1, 'ambient': 2, 'papercliprails': 1, 'hashtags': 1, 'bindtocontroller': 1, '206': 1, 'parallelogram': 3, 'mcrypt_decrypt': 1, 'uiimagepickerviewercontroller': 1, 'after_save': 4, 'unboundlocalerror': 2, '__import__': 3, 'stringified': 2, 'asked': 2, 'mavenize': 2, 'platformer': 1, 'paperclips': 1, '00function': 1, 'instantiante': 1, 'nsundomanager': 1, 'valuecollection': 1, 'ienumarablet': 1, 'rcurl': 1, 'selectedindexchanging': 1, 'independently': 5, 'rownotintableexception': 1, 'initcomponent': 1, 'extdefine': 1, 'footballgame': 1, 'bddomainentitiesfootballgame': 1, 'tomcat7tcnative1dll': 1, 'ia': 2, 'amd': 2, 'daterange': 3, 'piecewise': 2, 'mapply': 2, 'anotation': 1, 'usin': 1, 'tiled': 4, 'nstextstorage': 1, 'doest': 3, 'protocolviolationexception': 1, 'contentbody': 1, 'verbtype': 1, 'left_join': 1, 'summarizing': 1, 'mailsystemnet': 1, 'zeroes': 5, 'callserver': 1, 'postbacks': 4, 'systemiounmanagedmemorystream': 1, 'v53': 1, 'textareavalue': 1, 'scripted': 2, 'busyindicator': 1, '2014': 3, 'lighter': 4, 'unescaping': 3, 'transformer': 2, 'orgapachehttpimplconntsccmthreadsafeclientconnmanager': 1, 'stdliststdpair': 1, 'content_scripts': 1, 'background_page': 1, 'syswebformspagerequestmanagerservererrorexception': 2, 'datastring': 1, 'errorworks': 1, 'phpmyadminhelp': 1, 'stringindex': 1, 'frontmost': 1, 'exponentially': 2, 'iidentitymessageservice': 1, 'parmetis': 1, 'rootafter': 1, 'unrar': 1, 'majorminor': 7, 'ini_set': 2, 'exceptionsattributeerror': 2, 'htmlresponse': 1, 'urljoin': 1, 'jupyter': 6, 'testhtml1': 1, 'appeared': 1, 'comfasterxmljacksondatabindexcunrecognizedpropertyexception': 1, 'setmaxrows': 1, 'http_basic_authenticate_with': 1, 'spotlight': 2, 'flashlight': 1, 'inputhard': 1, 'php_codesniffer': 1, 'graphical': 5, 'logginginfo': 1, 'webgrid': 5, 'usig': 1, 'ora00933': 2, 'dateperiod': 1, 'aint': 1, 'sint': 1, 'ptype': 1, 'pushbutton': 1, 'dbshell': 1, 'canadian': 1, 'postal': 1, 'viewwithtag': 2, 'jquerydata': 3, 'qopenglwidget': 1, 'datacontextgettabletentity': 1, 'objectcontextcreatequeryt': 1, 'sqlsrv_connect': 3, 'wscriptshell': 1, 'reinterpret_cast': 3, 'fabric': 2, 'ungrouped': 1, 'controltype': 1, 'parties': 1, 'androidgraphicsbitmap': 1, 'wsdl4j': 1, 'biztalk': 1, 'leaderboard': 3, 'screencapture': 1, 'phusionpassenger': 1, 'admindashboardcontroller': 1, 'scanners': 2, 'bitmaps': 4, 'titleize': 3, 'xfacebook': 1, 'domparser': 1, 'artificial': 4, 'prettyprint': 3, 'colorpalette': 1, 'unqualifiedid': 8, 'errorc++': 1, 'typesafety': 2, 'drawcontours': 1, 'unbuffered': 5, 'prores': 1, 'apch': 1, 'personac30': 1, 'pyfiles': 1, 'manipulatable': 1, 'pdomysql_attr_found_rows': 1, 'gradienttransparent': 1, 'masking': 6, 'kcgerrorillegalargument': 1, 'cgsunionregionwithrect': 1, 'concatall': 1, 'immutablexxx': 1, 'a4': 4, 'jsonload': 2, 'reg_binary': 1, 'propagation_required': 1, 'isolation_default': 1, '__android_log_write': 1, 'sailssocketsjoin': 1, 'sailssocketsbroadcast': 1, '3g': 3, 'binaries': 4, 'ycbcr': 1, 'nonwsdl': 1, 'post_max_size': 2, 'upload_max_filesize': 3, '#mongoclient': 2, 'pythonldap': 1, 'khmer': 1, 'subgroups': 2, 'cancellationexception': 2, 'acknowledgement': 3, 'directjngine': 1, 'directstore': 1, 'antipattern': 5, 'parametermissing': 1, 'hasmorepages': 1, 'celcius': 1, 'tempdata': 2, 'scriptlets': 1, 'exceptioncode': 1, 'dashgreaterthan': 1, 'libc': 4, 'regards': 2, 'fortnight': 1, 'c3867': 1, 'coord_flip': 1, 'grocery': 1, 'commandparameter': 2, '0255': 1, 'webkittransformorigin': 1, 'examplecom': 1, 'wwwexamplecom': 1, 'listadd': 2, 'lossy': 2, 'funny': 1, 'safeseh': 1, 'subitem': 4, 'delta': 6, 'adsl': 1, 'modem': 1, 'postingback': 1, 'wishlist': 1, 'nonlocal': 2, 'inequalities': 2, 'vfor': 4, 'windowsformshost': 1, 'compound': 6, 'autogenerated': 5, 'mutabledatetimes': 1, 'setdate': 3, 'javautilarraylist': 2, 'gm_xmlhttprequest': 1, 'consideration': 1, 'adress': 2, 'touchpad': 1, 'gui_logindll': 1, 'opne': 1, 'removeduplicates': 1, 'mysqldatamysqlclientmysqlexception': 1, 'notebooks': 1, 'pchar': 2, 'jdni': 1, 'orgglassfishjerseyclientjerseyclientbuilder': 1, 'dpinstexe': 1, 'privilege': 3, 'bcm2835': 1, 'buttonlabel': 1, 'variableoutlet': 1, 'nltkpy27': 1, 'evict': 1, 'targetiframe': 1, 'oops': 2, 'actionbarsherlock': 3, 'objectsend': 1, 'javautilconcurrentmodificationexception': 3, 'var_export': 2, 'servletxml': 1, 'dom4j': 3, 'documentexception': 3, 'activityindicator': 1, 'parseexception': 1, 'geminstallerror': 1, 'c#webservice': 1, 'nbwithout': 1, 'loopbut': 1, 'luabind': 1, 'dtd': 1, 'getsystemtimezones': 1, 'principles': 1, 'devserver': 2, '6u31': 1, 'nid': 2, 'play2': 1, 'formsmodelform': 1, 'initwithstring': 1, 'debit': 2, 'extensionmysql': 1, 'imageflow': 1, 'lazyloadjs': 1, 'commonj': 1, 'workmanagertaskexecutor': 1, 'splitteronpattern': 1, 'actioncontrollerroutingerror': 2, 'getters': 11, 'readheavy': 1, '35m+': 1, 'autoconfiguration': 2, 'truetype': 1, 'opentype': 1, 'imagefont': 1, 'err_too_many_redirects': 2, 'java_opts': 1, 'asssets': 1, 'enum#tostring': 1, 'desirable': 1, 'managedbeanpreprocessingexception': 1, 'netmask': 1, 'purge': 1, 'snapshot': 4, 'boostregex': 1, 'uitablecell': 1, 'palindrome': 6, 'armv7s': 2, 'testmethod': 1, 'listboxfor': 1, 'documentlocationhref': 2, 'predicatewithformat': 1, 'inconsistency': 1, 'categorylike': 1, 'cv2fillpoly': 1, 'cv2fillconvexpoly': 1, 'seqhilo': 1, 'itunesconnect': 1, 'todos': 1, 'cudamodule': 1, '249': 3, 'debug_process': 1, 'paperinput': 2, 'coreinput': 1, 'positionfixed': 1, 'seting': 1, 'geofence': 1, 'routingerror': 4, 'qpixmap': 1, 'xdamage': 1, 'xrender': 1, '#stripelistobject': 1, 'uncompressed': 3, 'jqbootstrapvalidation': 1, 'propertyref': 1, 'listbyte': 1, 'pthreadh': 3, 'mixin': 4, 'locationlistener': 1, 'glue': 2, 'inversion': 1, 'reactivevalues': 2, 'conditionalpanel': 1, 'invalid_handle_value': 4, 'speedup': 2, 'selfincluded': 1, 'polish': 1, 'papa': 2, 'compositetransform': 1, 'enabledependentanimation': 1, 'multicast': 2, 'ionnavview': 2, 'urlvalidator': 1, 'optionfirstchild': 1, 'awk': 2, 'modelfield': 2, 'imap_sort': 1, 'plays': 3, 'scissorrockpaper': 1, 'simpler': 3, 'systemoutprint': 2, 'invalidstateerror': 2, 'qcolumnview': 1, 'powerof': 1, 'wcfintegration': 1, 'nightly': 1, 'masterviewcontroller': 1, 'nondefaul': 1, 'glrecti': 1, 'mpeg4': 1, 'orgjsonjsonexception': 7, 'actionperformed': 5, 'is_uploaded_file': 1, 'execl': 4, 'flickerng': 1, '1310': 1, 'nsdocumentdirectory': 1, 'nsuserdomainmask': 1, 'synchonization': 1, 'javasqlresultset': 1, 'bootsrap': 1, 'nonbreaking': 1, '0xc2a0': 1, 'stringgrid': 1, 'fm': 1, 'footnotes': 1, 'solaris': 6, 'incestuous': 1, 'vectoruint8_t': 1, 'objectivecs': 1, 'oreilly': 1, 'multipartrequest': 1, 'laws': 1, 'visualvm': 3, 'methodargumentnotvalidexception': 1, 'valuetype': 1, 'meteorflush': 1, '_file': 2, 'festive': 1, 'v4': 3, 'jsonconverter': 4, '_com_error': 3, 'orgopenqaseleniumstaleelementreferenceexception': 1, 'commysqljdbcexceptionsjdbc4mysqlsyntaxerrorexception': 2, 'marshalallochglobal': 1, 'appyaml': 4, 'xxyy': 1, 'worldexe': 2, 'terminates': 4, 'sigsegv': 2, 'greatest': 3, '702': 2, '706': 1, 't_paamayim_nekudotayim': 1, 'acts': 2, 'smoothscroll': 1, 'debugfalse': 2, 'user_interaction_required': 1, 'yelp': 1, 'pycuda': 1, 'contextconfiguration': 3, 'runwith': 2, 'webappconfiguration': 1, 'taskfactorystartnew': 4, 'nonssl': 1, 'ts': 5, 'rsruby': 1, 'multicolored': 1, 'systemobject': 3, 'realize': 2, 'lostfocus': 2, 'inputverifier': 1, 'reversetaborder': 1, 'memcmp': 2, 'salt': 6, 'gettypes': 1, 'notifydatasetchanged': 2, 'inscribe': 1, 'jsessionid': 3, 'mf_media_engine_err_src_not_supported': 1, 'wmv': 2, 'stringwithcontentsoffile': 1, 'popout': 1, 'spuipopoutmenu': 1, 'knows': 2, 'fs': 6, 'testexecutionlistener': 1, 'listviewitemcollection': 1, 'rdl': 2, 'nsnotifications': 2, 'proprietary': 1, 'collada': 1, 'abandon': 2, 'udpclient': 5, 'hyperlinkfield': 1, 'popenreturncode': 1, 'renegotiate': 1, 'uibmodal': 1, '__cxa_allocate_exception': 1, 'swig': 1, 'resourcemanager': 1, 'occuring': 1, 'stringendswith': 1, 'atom': 2, '1904': 1, 'checkbutton': 4, 'modelsdecimalfield': 1, 'stringio': 1, 'assertraise': 1, 'ntp': 1, 'qtvertical': 1, 'headerdata': 1, 'qsqlquerymodel': 1, 'mainmethod': 1, 'numeration': 1, 'gtktextview': 1, 'gtk+': 3, 'sysdeo': 1, 'doctrines2s': 1, 'bindvalue': 3, 'textpaste': 1, 'grouped_options_for_select': 1, 'phpcli': 1, 'witth': 2, 'inexplicably': 2, 'fileappendalltext': 1, 'jps': 1, 'nsbutton': 4, 'cxampphtdocsmyfilesloginphp': 1, 'fontcolor': 2, 'javascriptlike': 1, 'headerelements': 1, 'qualified': 4, 'pageresult': 1, 'getnextpagelink': 1, 'getinlinecount': 1, 'schemaupdate': 2, 'leafletjs': 4, 'aspxlistbox': 1, 'nosql': 4, 'enymlfile': 1, 'necessity': 3, 'deserialized': 7, 'messagegetbody': 1, 'sha512': 1, 'booleanfield': 4, 'bubbling': 8, 'pushstack': 2, 'phpexcel_reader_ireadfilter': 1, 'dxampphtdocstestsexample1php': 1, 'microsoftpracticesenterpriselibrarycommon': 1, '85': 3, 'remembers': 1, 'symlinked': 1, '12c': 2, 'orgapachetaglibsstandardtagelcorewhentag': 1, 'listiterator': 3, 'hasnext': 3, 'overflownone': 1, 'validationgroup': 1, '+inf': 1, 'datagridview1': 1, '_win32': 1, 'jstring': 1, 'detailedjmssecurityexception': 1, 'quartz+hibernate': 1, 'eats': 1, 'jumbled': 1, 'uibezierpath': 3, 'byroundingcorners': 1, 'erroraccess': 1, 'javanethttpretryexception': 1, 'systemdatasqlclientsqlexception': 7, 'phone_types_phone_type_id': 1, 'is_writable': 1, 'javautilarrayssort': 1, 'jquerysvg': 1, 'rangevalue2': 1, 'graphobject': 1, 'clashes': 1, 'glmapbuffer': 1, 'bitmapgetbitmapbits': 1, 'crypt': 4, 'tnsnamesora': 1, 'socketsometimes': 1, 'mechanics': 1, 'frameless': 1, 'aero': 1, 'normaliza': 1, 'handwriting': 1, 'portal': 3, 'encodeurl': 1, 'encoderedirecturl': 1, 'tensorflows': 2, 'next_batch': 1, 'modeled': 1, 'scipysparsecsr_matrix': 1, 'jasminenode': 1, 'uiviewanimationoptionbeginfromcurrentstate': 1, 'imonadt': 1, 'upcoming': 2, 'boto': 1, 'create_key_pair': 1, '403authentication': 1, 'systemdatadatarow': 3, 'exclamation': 3, 'deimal': 1, 'par': 1, 'mfrowc': 1, 'densityplots': 1, 'mouseleave': 4, 'undeclare': 1, 'house': 3, 'ldapcontext': 2, 'dircontext': 1, 'keyedtuple': 1, 'zoomable': 1, 'seating': 2, 'ondragover': 1, 'occupied': 3, 'createservice': 1, 'error_invalid_address': 1, '0x000001e7': 1, 'generalpurpose': 1, 'termsetgroup': 1, 'jsonignoreproperties': 1, 'ienumerablefoo': 1, 'afnetworkingh': 1, 'identityuser': 1, 'timeunit': 1, 'fbembed': 1, 'assignto': 1, 'eventlisten': 1, 'devise_for': 2, 'rijndael': 1, 'nserrorpointer': 1, 'qualifies': 2, 'sha1': 6, 'mongojava': 1, 'mb_substr': 2, 'smoothdivscroll': 1, 'unequal': 1, 'xc2xa0': 1, 'numberhelper': 1, 'binarytype': 1, 'unityenginevector3': 1, 'tmp': 15, 'get_wheel_delta_wparam': 1, 'arel_table': 1, 'methodmodule': 1, 'plsa': 2, 'textboxesusing': 1, 'imageurl': 2, 'systemdesigndll': 1, 'sessionscontroller': 2, 'assetnotprecompilederror': 1, 'html5rails': 1, 'csvreader': 2, 'progid': 2, 'mystringisnullorempty': 1, 'uniquely': 2, 'animatewithduration': 2, 'registerclass': 1, 'forcellwithreuseidentifier': 1, 'databaseyml': 4, 'imagedata': 3, 'eventsrcelement': 2, 'to_s': 1, 'aspglobal_asax': 1, 'th': 8, 'hastime': 1, 'mainactivitythis': 1, 'orgspringframeworkwebservletdispatcherservlet': 2, 'cdetailview': 1, 'tictactoe': 4, 'feet': 2, 'meters': 3, 'post_id': 1, 'iterparse': 1, 'mising': 1, 'databasecan': 1, 'tiny': 2, 'mce': 3, 'exlusion': 1, 'taskilist': 1, 'autodetect': 3, 'shouldoverrideurlloading': 1, 'acts_as_nested_set': 1, 'indexoutofbound': 1, 'booting': 1, '508': 1, 'jconfirm': 1, 'anova': 1, 'authenticate_user': 2, 'duplicatemappingexception': 1, 'gdkpixbuf20': 1, 'daloradius': 1, 'dbphp': 2, 'mozila': 1, 'orgapachecommonslang3': 1, 'cookielib': 1, 'longtitude': 1, 'inspecting': 3, 'adapted': 1, 'forbids': 3, 't_new': 1, 'test6_2php': 1, 'materials': 1, 'hdf5': 2, 'tsql': 3, 'flot': 2, 'nstimeinterval': 2, 'onhashchange': 1, 'objectpoolt': 1, 'httpservletresponsewrapper': 1, 'qdialogbuttonbox': 2, 'hasmap': 1, '__thiscall': 1, '__cdecl': 2, 'in_array': 7, 'loosecoupling': 1, 'caf': 1, '10by10square': 1, 'investigating': 2, 'sockettimeoutexception': 3, '4096': 2, 'datacontractjsonserializer': 1, 'watchpoints': 1, 'myfilephp': 1, 'datalink': 1, 'optim': 2, 'nonfinite': 2, '_hypot': 1, 'disableclick': 1, 'scenekit': 1, 'mkusertrackingmodefollowwithheading': 1, 'userspace': 3, 'sysfs': 2, 'igmpv3': 1, 'pkt': 1, 'shade': 1, 'strcmp': 5, 'equivelant': 1, 'intcmp': 1, 'knob': 1, 'hashtables': 1, 'shrinktofit': 2, 'getidentifier': 1, 'iselementpresent': 1, 'cachedstaticfilesstorage': 1, 'subdocument': 3, 'session_save_every_request': 1, 'session_cookie_secure': 1, 'deepest': 3, 'safearrayputelement': 1, '30x': 1, 'spinbox': 1, 'unterminated': 9, 'maxbounds': 1, 'projection': 6, 'forbid': 3, 'deriving': 1, 'moduleexports': 5, 'mutating': 2, 'mutablearray': 1, 'stdbind': 3, 'stdfunctions': 1, 'expands': 4, 'c2018': 1, 'sysdate': 1, 'sid': 4, 'iopopen': 1, 'nethttpget': 3, 'mapboxjs': 1, 'accessspecifiers': 1, 'roracle': 1, 'formatnumber': 2, 'azaz': 1, 'synchronizing': 2, 'jarraybyte': 1, 'elif': 6, 'tracing': 2, 'keypresses': 3, 'pdostatement': 2, 'isometric': 1, 'coords': 4, 'cryptopublickeyrsa': 1, 'wm_command': 2, 'replay': 2, 'navpopto': 1, 'revert': 5, 'uninstalling': 4, 'col': 3, 'accented': 7, '_atl_apartment_threaded': 1, '_atl_free_threaded': 1, 'codebase': 2, 'cascadealldeleteorphan': 1, 'nonorphaned': 1, 'robotstxt': 3, 'thisinputpost': 3, 'unparsed': 1, 'to_html': 1, 'uidialog': 1, 'gca': 1, 'number_with_delimiter': 1, 'recognizers': 1, 'gccarmnoneeabi': 1, 'droppeddown': 2, 'setpropertiestofetch': 1, 'unhide': 6, '116': 1, 'photoshop': 3, 'cmyk': 5, 'imageless': 1, 'base_model': 1, 'v80': 1, 'xfe': 1, 'tableviewcontroller': 2, 'reuseidentifier': 2, 'blocksuper': 1, 'lightlest': 1, 'bigrams': 3, 'trigrams': 1, 'constness': 1, 'expressionadd': 1, 'odbcdatareader': 2, '1deep': 1, 'mapstring': 8, 'historygo': 3, 'mathematics': 2, 'indefinite': 1, 'assemblyload': 2, 'ztemporadaz_pk': 1, 'designated': 4, 'rolling_sum': 1, '1000x1000': 1, 'cloudstorageaccount': 1, 'stem': 1, 'p4a': 1, 'batches': 7, 'writehead': 1, 'jcrop': 1, 'sendsynchronousrequestreturningresponseerror': 1, 'thumbnailphoto': 1, 'cat': 2, 'redbus': 1, 'ticket': 3, 'ioh': 1, 'windowself': 1, '19x': 1, 'piechartview': 1, 'javaprogram': 1, 'rspecinstall': 2, 'barchart': 6, 'mailing': 2, 'srandom': 1, 'slides': 5, 'consumed': 2, 'facebookpage': 1, 'autoincrementing': 3, 'breakable': 1, 'raiserror': 1, 'scatter_matrix': 1, 'converttoint16': 2, 'cvmatat': 1, 'spring+hiberntae': 1, '__maybe_unused': 1, 'iasyncresult': 1, 'multilines': 1, 'notifier': 2, 'stdioh': 3, 'accelerated': 1, 'slidein': 2, 'ics': 4, 'uiimageviewhidden': 1, 'cvh': 1, 'webscriptendpoint': 1, 'gotchas': 4, 'warned': 1, 'computationally': 3, 'gmm': 2, 'astructname': 1, 'c#datetimenow': 1, 'mainform': 3, 'actuator': 2, 'vps': 1, 'javasqlsqlexceptiondatabase': 1, 'appdomaincurrentdomainsetupinformationconfigurationfile': 1, 'expander': 1, 'rain': 1, 'maxfev': 1, '__future__': 1, 'harder': 2, 'anytime': 1, 'scheduledthreadpoolexecutor': 2, 'performselectorwithobjectwithobject': 1, 'imageicon': 4, 'counterclockwise': 1, '8040': 1, 'javanetbindexception': 2, 'offsetwidth': 3, 'netsfehcachecachemanager': 1, '4e3bb0': 1, 'queuesender': 1, 'pythonpath': 3, 'emailvalidator': 1, 'lke': 1, 'disableddisabled': 1, 'viewhelper': 1, 'minzoom': 1, 'readystate': 4, 'runat': 2, 'stumped': 2, '3+hibernate': 1, 'cgwindow': 1, 'findoneandupdate': 1, 'returnnewdocumenttrue': 1, 'factorynosuchbeandefinitionexception': 1, 'ftpchangeworkingdirectory': 1, 'appxamlcs': 1, 'zend_http_useragent': 1, 'androidnpe': 1, 'activityforresult': 1, 'action_appwidget_pick': 1, 'amplitude': 1, 'fft': 6, 'httputility': 2, 'retains': 3, 'windowsforms': 3, 'swifts': 3, 'assertconfigurationisvalid': 1, 'jbdc': 2, 'nscfnumber': 1, 'sourceroot': 1, 'uipickerviews': 2, 'specialize': 1, 'excetption': 1, 'infront': 2, 'af_packet': 1, 'concole': 1, 'performselectorwithobjectafterdelayinmodes': 1, 'approaches': 3, 'autoit': 1, 'udfs': 1, 'meridian': 1, 'sizetype': 1, 'ncoldatatype': 1, 'twitteroauth2python': 1, 'faulting': 1, 'clrdll': 1, '4030319544': 1, 'msn': 1, 'gtalk': 1, 'textviews': 3, 'click_link': 1, 'outputcache': 1, 'observablearrays': 1, 'image_feedphp': 1, '27__unicode__': 1, 'listner': 1, 'modeling': 1, 'twenty': 1, 'twelve': 2, 'asteriskshape': 1, 'cursorat': 1, 'typedate': 2, 'barrier': 3, 'bc': 3, 'shipped': 1, 'js+php': 1, 'javalangnumberformatexception': 8, 'auction': 4, 'interrupts': 2, 'ts2304': 1, 'ts2529': 1, 'commysqljdbcexceptionsjdbc4mysqlnontransientconnectionexception': 1, 'establishment': 1, 'spam': 7, 'javasqlblob': 1, 'taskstart': 1, 'awsebcli': 1, 'blessed': 1, '195': 1, 'writedatagram': 1, 'datetimedatetimenow': 1, 'hhmmssss': 1, 'bounces': 1, 'ibrowser': 2, 'odbc_connect': 1, 'uinavigation': 3, 'submodules': 3, 'encounter': 2, 'segmenter': 1, 'partofspeech': 1, 'tagger': 4, 'pptx': 2, 'jasminesuite': 1, 'differ': 8, 'bufferedimage': 4, 'iplimage': 4, '2031': 2, 'uiinterfaceorientation': 1, 'twostage': 1, 'cv2line': 1, 'cv2circle': 1, 'orgeclipseuiideworkbench': 1, 'toequal': 1, 'snapin': 1, 'setcellvalue': 1, 'htmleditfor': 1, 'hasnt': 3, 'codegniter': 1, 'ontouchlistener': 1, 'database1': 1, 'sa': 4, 'thickness': 2, 'jodatimedatetime': 1, 'bulleted': 1, 'r6010': 1, 'microsoftvisualbasicpowerpacks': 1, 'repetition': 7, 'systemlinqorderedenumerable2': 1, 'systemcollectionsgenericienumerable1': 2, 'signalled': 1, 'admit': 1, 'subentities': 1, 'lazily': 3, 'setintbegin': 1, 'antivirus': 1, 'whence': 1, 'cometh': 1, 'apachespark': 1, 'executeasync': 1, 'systemdataentitysqlserverdefaultsqlexecutionstrategy': 1, 'streamtokenizer': 1, 'wordchars': 1, 'nexttoken': 1, 'systemeventhandler': 2, 'underfined': 1, 'invientcharts': 1, 'contextmode_world_readable': 1, 'contextopenfileoutput': 1, 'bigram': 2, 'myusername': 1, 'myusercurrentprincipalidentityname': 1, 'datcontext': 1, 'nsstringencoding': 1, 'eachdo': 1, 'mimetext': 1, 'deserializeobject': 2, 'fist': 1, 'rowindex': 4, 'customxml': 1, 'c#40': 1, 'c#copy': 1, 'typefriendly': 1, 'amslidemenu': 1, 'replicates': 1, 'chromeless': 1, 'onshown': 1, 'en': 3, 'tablewidget': 1, 'ordinary': 3, 'indexedcolors': 1, 'reactiveextensions': 1, 'webob': 1, 'mathh': 4, 'specifiers': 2, 'ppm': 1, 'orghibernatemappingexception': 1, 'orghibernatemappingcolumn': 1, 'orgspringframeworkwebservletviewinternalresourceviewresolver': 1, '750': 1, 'tone': 2, 'coloured': 2, 'way2sms': 1, 'ibinspectables': 1, '2053': 1, 'embeddedid': 3, 'orgmockitorunners': 1, 'unwrap': 2, 'optionalnone': 1, 'pulled': 4, 'mailparse': 1, '562': 1, 'illuminatedatabasemodelmodel': 1, 'residual': 1, 'convertrect': 2, 'accelerating': 2, 'goval': 1, 'breakout': 1, 'selectedbackgroundview': 1, 'stdbitset': 1, 'jdialog': 2, 'grows': 2, 'uiimageviews': 2, 'graphic': 6, 'orgjunitrunnerjunitcore': 1, 'ngmaterial': 1, 'isassignablefrom': 1, 'tpkeyboardavoidingscrollview': 1, 'extformfieldfile': 1, 'extformpanel': 1, 'entityframeworksqlserverdll': 1, 'maskedinput': 1, 'javaxnamingnamingexception': 1, 'jbas011843': 1, 'initialcontextfactory': 1, 'orgjnpinterfacesnamingcontextfactory': 1, 'dialogue': 3, 'nscombobox': 1, 'secauthorize': 1, 'accesshasrole': 1, 'htmldocumentbody': 1, 'rad': 1, '_bindall': 3, '#includedirenth': 1, 'seek': 2, 'smoothing': 2, 'invokes': 3, 'dimentsional': 1, 'firapp': 1, '_objc_class__firapp': 1, 'calendarclone': 1, 'spin': 3, 'nonexistant': 1, 'bc30037': 2, 'stringbyreplacingpercentescapesusingencoding': 1, 'lc3a9on': 1, 'lon': 5, 'warn_redirect': 1, 'listpicker': 2, 'abstraction': 2, 'anywhere': 9, 'document_root': 3, 'yaxes': 2, 'spit': 2, 'initializer_list': 2, 'stale': 8, 'javalangclassformaterror': 2, 'marshalgetactiveobject': 1, 'setdefault': 1, 'truncation': 4, 'modelformset_factory': 1, 'createproject': 2, 'gpl': 3, 'millisecond': 4, 'tmx': 1, 'supportedinterfaceorientationsforwindow': 1, 'msg_moreflagged': 1, 'orgeclipseswtwidgetsbutton': 1, 'orgapachemavenpluginsmavencompilerplugin': 1, 'defaultcompile': 1, 'xsstring': 1, 'xsdatetime': 1, 'isnull': 3, 'totally': 5, 'excelworkbooksaveas': 2, 'ajaxbeginform': 4, 'openpoppop3': 1, 'largeadressaware': 1, 'threadsleep': 12, 'invalidprotocolbufferexception': 1, 'concatenated': 4, 'nondelimited': 1, 'tcpstream': 1, 'last4': 1, 'zendsessioncontainer': 1, 'pylabshow': 1, 'qcoreapplicationexec': 1, 'spinwaitspinuntil': 1, 'wild': 5, 'sslpeerunverifiedexception': 1, 'pandasfactorize': 1, 'passthru': 1, 'ac': 1, 'submodule': 2, 'yyyymmddthhmmssfffz': 1, 'rdbms': 1, 'hashsetremoveall': 1, 'pdffile': 2, 'subfieldbase': 1, 'fieldfrom_db_value': 1, '415': 7, 'overlaps': 7, 'uxe4': 2, 'split_iterator': 1, 'cam': 1, 'manipulable': 1, 'fgetcsv': 2, 'androidviewinflateexceptionbinary': 1, 'line#7': 1, 'ies': 3, 'blocker': 2, 'agruments': 1, 'swiftc': 2, 'javaxpersistencespipersistenceunitinfogetvalidationmode': 1, 'december': 1, 'beantype': 1, 'deduction': 1, 'deploys': 1, 'pronunciation': 1, 'slic': 2, 'gaining': 2, 'djangopushnotifications': 1, 'unixodbc': 1, 'foundnsqlstate': 1, '01000': 2, 'attribs': 2, '0x751fc52f': 1, '0x71a': 1, 'flags0x1': 1, 'continued': 3, 'mod_passenger': 1, 'immediatelyinvoked': 1, 'iife': 1, 'slickutil': 1, 'texturebind': 1, 'vectorerase': 1, 'nsstrings': 1, 'daos': 1, 'formselect': 3, 'nhibernare': 1, 'joinqueryover': 1, 'icecast': 1, 'shoutcast': 1, 'xprof': 1, 'numpad': 2, 'foselasticabundle': 1, 'kg': 3, 'lb': 2, 'worldpay': 1, 'restclient': 2, 'lnk': 2, 'disassemble': 1, 'ivars': 6, 'ctrl+enter': 1, '310': 7, 'neterr_too_many_redirects': 3, 'theano': 10, 'cloned': 2, 'cooperate': 1, 'coiterate': 1, '2710_2': 1, 'bidimensional': 2, 'environmentnewline': 4, 'concerned': 1, 'http_raw_post_data': 2, 'media_handle_upload': 1, 'basepage': 1, 'asp1dll': 1, 'asp2dll': 1, 'appenders': 4, 'therefore': 2, 'dosenot': 1, 'datasrc': 1, 'collectionviewsource': 3, 'tiebreak': 1, 'subtree': 3, 'stepup': 1, 'htmlinputelement': 2, 'geven': 1, 'vimscript': 1, 'infrastructure': 3, 'rngcryptoserviceprovider': 2, 'qall': 1, 'silently': 7, 'float_t': 1, 'app_devphp': 1, 'base64encode': 2, 'timeseriescollection': 1, 'blended': 1, 'reveals': 1, 'powered': 2, 'wwww3org': 2, '2001': 2, 'xmlschema': 2, 'restapi': 2, 'extendeddatatable': 2, 'md5encrypted': 1, 'webapicore': 1, 'childes': 1, 'button_to': 6, 'sameline': 1, 'variabledeclaratorid': 2, 'parser_all': 1, 'rmd': 2, 'eventtriggerbehavior': 1, 'simple_array': 1, 'json_array': 1, 'charsets': 2, 'md5hashed': 2, 'httpmodule': 5, 'siteurl': 1, 'mappanto': 1, 'rendertargetbitmap': 1, 'soaprequest': 1, 'uithread': 2, 'tabdelimited': 2, 'zg': 1, 'getassembly': 1, 'getexecutingassembly': 1, 'propertyinfosetvalue': 1, 'hyperlinked': 1, 'userdetail': 1, 'ccombobox': 1, 'clearcolor': 1, 'uicollectionviewdidselectitematindexpath': 1, 'urlgeneratorphp': 1, '314': 3, 'omitting': 3, 'visibilty': 1, 'stringequals': 3, '10000': 3, 'campaign': 2, 'nsmutableurlrequest': 1, 'sethttpmethod': 1, 'decending': 1, 'errornotregistered': 2, 'sqlsrv_exec': 1, 'checkbox1checked': 1, 'requestgetuserprincipal': 1, 'consolidate': 1, 'stmterror': 1, 'stmterrno': 1, 'ipv4mask': 1, 'applycurrentvalues': 1, 'bindingexpression': 3, 'inoutest': 1, 'autoplay': 6, 'datepipe': 1, 'outfile': 2, 'currenlty': 1, 'equations': 7, 'backgroundworkerdowork': 1, 'validatorbased': 1, 'qtreactor': 1, 'taskt': 4, 'userdefaults': 2, 'getresource': 1, 'observablecollectiont': 1, 'browserbased': 1, 'createdataframe': 2, 'parametrise': 1, '0x53': 1, 'gms': 1, 'googleplayservicesutil': 1, 'authorizations': 1, 'max_digits': 1, 'decimal_places': 1, 'tdelegate': 1, 'pois': 1, 'jpane': 1, 'mvcserializer': 1, 'constrain': 5, 'raisepropertychanged': 2, 'coursera': 1, 'pollution': 1, 'dragenter': 2, 'givefeedback': 1, 'tablecells': 1, 'ontop': 1, 'multiform': 1, 'viewdidunload': 2, 'massassign': 4, 'cgaffinetransform': 2, 'distinguished': 2, 'elclick': 1, 'sharpgl': 2, 'jquerycss': 2, 'tiers': 1, 'fulltext': 6, 'databased': 1, 'kilobytes': 1, 'denoted': 1, 'mid': 1, 'systemmanagement': 1, 'javaxpersistenceentitymanager': 2, 'socketreceive': 1, 'nstextfield': 5, 'education': 1, 'nlminb': 1, 'templatesyntaxerror': 2, 'idmyid': 1, 'typeisassignablefrom': 1, 'aspmenu': 1, 'websitemap': 1, 'ts2339': 1, 'webkiturl': 1, 'directorymove': 1, 'cropit': 2, 'inturn': 1, 'wysywg': 1, 'muliple': 1, 'epplus': 1, 'graphicsview': 1, 'controlbegininvoke': 1, 'synchronizationcontext': 1, 'ibaction': 5, 'jsonorg': 1, 'renderaction': 1, 'audiolab': 1, 'converttodouble': 1, 'ancestry': 1, 'htmldropdownlist': 3, 'xmlnsxsihttp': 1, 'xmlschemainstance': 1, 'misaligned': 1, 'billing': 4, 'required_scope_missing': 1, 'cllocation': 1, 'acrofield': 1, 'latlngliteral': 1, 'rubygmail': 1, 'getbody': 1, 'writeto': 1, 'webscraping': 4, 'find_all': 1, 'javautilhashmapentry': 1, 'stringstring': 1, 'generatedsources': 1, 'hoverover': 1, 'htmltextboxfor': 3, 'pyx': 3, 'eventmachine': 1, 'dictionaryint': 3, 'prefixprefix': 1, 'bandpass': 2, 'interpolate': 4, 'neighbours': 3, 'stdc++11': 2, 'auto_ptr': 1, 'querydict': 4, 'regressors': 1, 'multiprojects': 1, 'optionals': 2, 'truly': 4, 'avspeechutterance': 1, 'listcustomobjects': 1, 'requestmappinghandlermapping': 1, 'hindi': 2, 'consecutively': 1, 'datatemplatevisualtree': 1, 'datatemplatetriggers': 1, 'proxybased': 1, 'zipcode': 1, 'phpexcel_worksheetupdatecachedata': 1, 'phi': 1, 'eccentricities': 1, 'find_elements_by_css_selector': 1, 'nosameuser': 1, 'base26': 1, 'numpys': 5, 'mgrid': 1, 'opinions': 2, 'surrogate': 1, 'jsoncpp': 1, 'curlexception': 2, 'error14094410ssl': 2, 'routinesssl3_read_bytessslv3': 2, 'httpmessageconverter': 2, 'announcement': 1, 'timestamp_sys100ns': 1, 'orgeclipsepersistenceexceptionsdatabaseexception': 1, 'javasqlsqlsyntaxerrorexception': 2, 'ora00911': 1, 'unmarshaling': 2, 'thread_resource_error': 1, 'comfasterxmljacksondatabindjsonmappingexception': 1, 'selfreference': 1, 'ngrams': 1, 'unigrams': 1, 'nescessity': 1, 'kendoui': 7, 'temperatures': 1, 'rcw': 2, 'dijit': 3, 'filteringselects': 1, 'asynchonous': 1, 'excelpackage': 1, 'clamp': 1, 'magnitude': 3, 'replaceobjectatindex': 1, 'sqlserverspatialdll': 1, 'camelize': 1, 'darker': 3, 'reada': 1, 'identification': 2, 'enumerateobjectswithoptionsusingblock': 1, 'unexplained': 2, 'endif': 3, 'reloop': 1, 'uigesturerecognizer': 2, 'uitabbarcontrollers': 1, 'morenavigationcontroller': 1, 'find_package': 2, 'pythonlibs': 1, 'koutilsarrayforeach': 1, 'samekey': 1, 'water': 1, 'hstmt': 1, 'stacking': 5, 'operationcontract': 1, 'selffinish': 1, 'pushingonly': 1, 'poppingonly': 1, 'open_memstream': 1, 'reconstruction': 1, 'nsassert': 1, 'research': 2, 'conopen': 1, 'errori': 1, 'qdoublevalidator': 1, 'systemcomponentmodelwin32exception': 1, 'inefficient': 1, 'boxlayout': 2, 'thisname': 3, 'liked': 2, 'hrxml': 1, 'positionopening': 1, 'stringenumconverter': 1, 'mpmovieplayer': 2, 'hrefjavascriptsomemethod': 1, 'iphone5': 1, 'valueserror': 1, 'androidonclick': 3, 'textviewsettext': 1, 'removeobjectsinarray': 1, 'getschema': 1, 'django+celery': 1, 'celeryd': 1, 'listchild': 1, 'listparent': 1, 'domainuser': 1, 'directoryentry': 2, 'weblogicsocketmuxer': 1, 'webogic': 1, 'localmachine': 1, '100k': 3, '1m': 1, 'gmsmarker': 1, 'coordinaets': 1, 'vectorunsigned': 1, 'jsonproperties': 1, 'joption': 1, 'acceptlanguage': 1, '187head': 1, '24hr': 2, 'flushmodeauto': 1, 'flushmodealways': 1, 'uiroundedrectbutton': 1, 'accidenlty': 1, 'invocations': 1, 'nextdouble': 2, 'thismodeleach': 1, 'reappear': 2, 'whitelisting': 1, 'cdo': 1, 'setbackgroundcolor': 1, 'javaiobufferedreader': 1, 'crawlerprocess': 1, 'python33': 2, '_tkagg': 1, 'autoreleasingunsafepointernsstring': 1, 'nsscanner': 2, 'getimagetype': 1, 'succinctly': 2, 'linechart': 3, 'waterfall': 1, 'uialertviewstyleplaintextinput': 1, 'continues': 6, 'orghibernatetype': 1, 'mpi_gatherv': 3, 'textsize': 1, 'idint': 1, 'namestring': 1, 'zillow': 1, 'themeresource': 2, 'win8': 4, 'crossfading': 1, 'topic': 2, 'attrib': 1, 'datetimetooadate': 1, 'selectcommandconnection': 1, 'stdmapinsert': 2, 'filesaverjs': 1, 'blobjs': 1, 'cachedoutputstream': 1, 'uploadprecompiling': 1, 'equating': 1, 'excel5php': 1, 'dedupe': 1, 'extconfrb': 2, 'setcurrentcelladdresscore': 1, 'kable': 3, 'faulty': 1, 'cordovawebview': 1, 'sendjavascript': 1, 'entitys': 1, 'onsave': 2, 'javautillogging': 3, 'testable': 2, 'dotnetbar': 1, 'adapter1class': 1, 'javaxnamingnoinitialcontextexception': 1, 'setbackgroundimage': 1, 'forbarmetrics': 1, '235959': 1, 'contenttypeapplication': 1, 'clientbuilder': 1, 'associationtypemismatch': 2, 'hashwithindifferentaccess': 2, '#1265': 1, 'uvariables': 1, 'rownum': 2, 'continously': 4, 'pagenation': 1, 'execute_process': 1, 'inverting': 3, 'installpackages': 1, 'internetexplorer': 1, 'enterkey': 1, 'filereaderonprogress': 1, 'htonl': 1, 'ntonhl': 1, 'speakers': 2, 'drawimage': 8, 'stringescape': 1, 'stdcondition_variable': 1, 'atomicbool': 1, 'endinvoke': 1, 'eventhandlerbegininvoke': 1, 'audioflinger': 1, 'msecs': 1, '2236': 1, 'usecases': 1, 'intbuffer': 1, 'bytebuffer': 3, 'byteorder': 3, 'gles20': 1, 'ireports': 2, 'nonwords': 1, 'serialportwrite': 1, '1311': 2, 'mycontroller': 1, 'classloaders': 3, 'messageboxshow': 5, 'stings': 2, 'sqlitedatabaserawquery': 1, 'crafting': 1, 'lnk1181': 2, 'debugmainobj': 1, 'auto_increment': 3, 'glmunproject': 1, 'confirmed_at': 1, '#user': 2, 'naivebayesclassifier': 1, 'quotation': 8, 'surname': 2, 'soapvar': 1, 'orgspringframeworkinstrumentclassloadingtomcattomcatinstrumentableclassloader': 1, 'applicationopenforms': 1, 'notifying': 4, 'javalangobject': 1, 'manyrelatedmanager': 2, 'checkedtextview': 1, 'processstartinfoargument': 1, 'xmllike': 1, 'grabcut': 1, 'opencvjava': 1, 'querywise': 1, 'massassignment': 1, 'ondeviceready': 1, 'libphonenumber': 1, 'suggested': 3, '0x800a1391': 1, 'dictated': 1, 'wchar': 4, 'dim3': 2, 'dimgrid': 1, 'numblocks': 1, 'findallbyattributes': 1, 'processclosemainwindow': 1, 'reindexing': 2, 'findnode': 1, '404php': 1, 'dbpull': 3, 'curlopt_protocols': 1, 'curlproto_sftp': 1, 'gruntcontribclean': 1, 'pageview': 1, 'radwindow': 1, 'imitate': 4, 'watercolor': 1, 'max_size': 1, 'websecurityinitializedatabaseconnection': 2, 'websecurity': 2, 'describe': 7, 'reindex': 3, 'containerresponsefilters': 1, 'tailq': 1, 'queueh': 1, 'sqlserver2008': 1, 'countres': 1, 'largechange': 1, 'queuepeek': 1, 'allkeys': 1, 'keyssortedbyvalueusingselector': 1, 'datetimeformatterbuilder': 1, 'intgeration': 1, 'recipientlistrouter': 1, 'distributions': 5, 'knuthmorrispratt': 1, 'fiile': 1, 'systemwebhttpfiltersactionfilterattribute': 1, 'current_user_can': 1, 'bmi': 3, 'featuring': 1, 'schoolboy': 1, 'dragend': 2, 'dragstart': 2, '_e3': 1, 'rprofilesite': 1, 'pagedlistholder': 1, 'triangular': 3, 'taskpool': 1, 'shot': 4, 'timekeeping': 1, 'commandargument': 1, 'baseh': 1, '0981028': 1, 'suspending': 3, 'structmaking': 1, '#htmlobjectelement': 1, 'redrawworkflow': 1, 'twittermixin': 1, 'jshowoff': 1, 'datadll': 1, 'ctypes': 2, 'filetype': 2, 'tinyurl': 1, 'structlayout': 1, 'pack1': 1, '20110328094108069414': 1, '280': 1, 'sides': 9, 'microsoftteamfoundation': 1, '11000': 1, 'visualising': 1, 'audiotrack': 2, 'bytestream': 2, 'stitching': 4, 'winerror87': 1, 'bloat': 2, 'weekend': 5, 't1357634942292': 1, 'pdoonly': 1, 'ifnull': 2, 'restfull': 3, 'distorted': 2, 'flatedecode': 3, 'externalinterface': 2, '37': 2, 'avaiable': 1, 'lithuanian': 1, 'uigraphicsgetimagefromcurrentimagecontext': 1, 'hadoop101': 1, 'fitbounds': 2, 'pdfpcell': 3, 'programcs': 1, 'listcitem': 1, 'objlst': 1, 'socketbind': 1, 'q#': 1, 'to_sql': 4, 'matplotlibpyplot': 4, 'get_object_or_404': 1, 'setview': 1, 'create_links': 1, '12hour': 3, 'popstate': 1, 'microsoftsqlservertypes': 1, 'version11000': 1, 'celldetailtextlabel': 1, 'uitableviewcellstylesubtitle': 1, 'modelserializer': 4, 'overiding': 1, 'formatxml': 1, 'settestclasses': 1, 'java8oracle': 1, 'dyno': 2, 'dynos': 2, 'staying': 3, 'idiomatically': 1, 'challenges': 2, 'popupuncaught': 1, 'accessable': 1, 'ormlike': 1, 'applicationdidenterbackground': 2, 'buttonss': 1, 'kcfrunloopdefaultmode': 1, 'systemindexoutofrangeexception': 2, 'sortkeyfunctions': 1, 'itemgetter': 1, 'strlower': 1, '3am': 1, 'edit3089': 1, 'script16389': 2, 'stdlibh': 1, 'inserthtml': 1, 'fbsdkloginbutton': 1, 'authenticationsectionmode': 1, 'comandroidinternalpolicyimplphonewindowdecorview': 1, 'b5596468': 1, '0456': 1, '144': 2, 'systemiformatprovider': 1, 'jspparam': 1, 'ui_mainwindowh': 1, 'decompressing': 1, 'nonnsobject': 1, 'cgfloat': 4, 'questionnaire': 2, 'ads': 2, 'nspersistentstorecoordinator': 2, 'addpersistentstorewithtype': 1, 'itextitextsharp': 1, 'datatipformat': 1, 'erases': 1, 'stanfordnlp': 1, 'antpathmatcher': 1, 'resharpers': 1, 'sh': 4, 'javalangreflecttype': 1, 'kclerrordomain': 1, 'systemnetsockets': 1, 'dispatching': 2, 'conquer': 3, 'documentreferrer': 1, 'versionjava': 1, 'code1': 2, 'subcode': 1, 'canvasgettop': 1, 'neun': 1, 'xsdexe': 1, 'nodegetboundingclientrect': 1, '151': 1, 't_endif': 1, 'fileparts': 1, 'directoryservices': 1, 'graphfacebookcom': 1, 'searchqquerytypeobject_type': 1, 'getusermedia': 2, 'datalabels': 1, 'packageinfosignatures': 1, 'buildconf': 1, 'v2311': 1, '_end': 1, 'waittime': 1, 'orghibernateenginejdbcenvspijdbcenvironment': 2, 'nonalphanumeric': 3, 'nonhyphen': 1, 'openpyxl': 2, 'utc+1': 1, 'asynchrounously': 1, 'systemwebuiwebcontrolslabel': 2, 'persian': 5, 'nonanimatable': 1, 'modulus': 5, 'exponent': 8, 'silly': 3, 'std_string_const_iterator_elem': 1, '_alloc': 1, 'jstestdriver': 1, 'messy': 2, 'collapsable': 3, 'adminlte': 4, 'offset_y': 1, 'jspinclude': 3, 'vsdoc': 1, 'ciphers': 2, 'cfsocket': 2, 'rad7': 1, 'processid': 2, 'cv_window_autosize': 1, 'indexsearcher': 1, 'indexwriter': 1, 'kolmogorovsmirnov': 1, 'chisquared': 1, 'buttononclick': 1, 'nameserver': 1, 'nstableview': 2, 'fieldname': 2, 'sparksql': 3, 'proposed': 1, 'erowcell': 1, 'localhost9000': 2, 'postinitialization': 1, 'inputsource': 2, 'displayindex': 1, 'shading': 2, 'hmmss': 1, 'datafields': 1, 'jqxlistbox': 1, 'fbml': 2, 'printstream': 2, 'initiated': 3, 'revoke': 1, 'ch': 1, 'targetparametercountexception': 2, 'terms': 10, 'discussion': 1, 'sqlceconnection': 1, 'mount': 1, 'classical': 2, 'algebra': 2, 'melting': 1, 'spans': 3, 'libsa': 1, 'rake1004': 1, 'stringbuffer': 2, 'reweighted': 1, 'opposite': 6, 'displaynone': 10, 'parseuser': 1, 'breplace': 1, 'quot': 5, 'att_date': 1, '01011990date': 1, 'typecasts': 1, 'disables': 4, 'ld_preload': 1, '0x1a': 1, 'foci': 1, 'combing': 1, 'ripping': 1, 'rollout': 1, 'rational': 6, 'rhapsody': 1, 'resourcedictionary': 3, 'nicedit': 2, 'wysiwyh': 1, 'classforname': 5, 'jsonconvert': 2, 'systemiodirectorynotfoundexception': 1, 'syntx': 1, 'isolation': 5, 'cs0433': 1, 'linkedlistt': 4, 'guessed': 1, 'headerpermodule': 1, 'nsclassfromstring': 1, 'nsstringfromclass': 2, 'parentopener': 1, 'ns_enum': 1, 'haskell': 2, 'averages': 2, 'springbeans': 1, 'import_request_variable': 1, 'imagecopyresampled': 2, 'crons': 1, 'revisions': 1, 'whileloop': 2, 'rendertransformorigin': 1, 'groupingby': 1, 'doctrine24': 1, 'methodxpath': 1, 'idmanage_area': 1, 'xe8': 1, 'rhombus': 1, 'dfs': 2, 'bfs': 1, 'mimicking': 1, 'iobservablestring': 1, 'certified': 1, 'engineers': 1, 'sqlite3warning': 1, 'pixelated': 1, 'fontface': 3, 'bridgingheaderh': 1, 'relogged': 1, 'wm_mousemove': 1, 'sendasync': 1, 'nsstack': 1, 'nsqueue': 1, 'after_create': 1, 'stats': 5, '__package__': 1, 'sendmail_from': 2, 'assemblyplugins': 1, 'jarplugins': 1, 'shadedplugins': 1, 'filteredvalue': 1, 'asyncawait': 3, 'photoshopstyle': 1, 'posterization': 1, 'angularjskarmajasmine': 1, 'databaserelated': 1, 'french': 5, 'ablout': 1, 'bubble_compiledjs': 1, 'invocationtargetexception': 2, 'replicated': 1, 'createdat': 1, 'updatedat': 1, '5050': 1, 'enterwritelock': 1, 'corrupting': 2, '#10': 1, 'mvcs': 3, 'logicequal': 1, 'app_id': 2, 'areas': 6, 'autogenerating': 1, 'nonconstant': 1, 'placeholderfragment': 1, 'viewscoped': 2, 'chatbox': 1, 'reenable': 4, 'binning': 1, 'reinstall': 6, '366': 1, 'dom4j161jar': 1, 'buildpath': 2, 'doctrine23': 1, 'nextint': 3, 'nextfoo': 1, 'namely': 1, 'button1': 1, 'doublebutton1': 1, 'phonestyle': 1, 'shadowboxjs': 1, 'doubleparse': 1, 'userbean': 1, 'undefiend': 1, 'parallax': 2, 'consistetly': 1, 'assist': 3, 'ctrl+space': 1, 'centimeters': 1, 'inches': 2, 'imagine': 1, 'jsondecode': 1, 'webhelper': 1, 'yyyymmddhhmmss': 1, 'rfid': 3, 'friction': 1, 'contenteditabletrue': 2, 'columnbreakbefore': 1, 'connectin': 2, 'setdefaults': 1, 'unclosed': 3, 'nature': 3, 'rear': 1, 'xmlfiles': 1, 'targetname': 2, 'jsonserializerattribute': 1, 'equal_to': 1, 'inverted': 3, 'spcalendarview': 1, 'stringcompareordinal': 1, 'unobstructive': 2, 'armv5': 1, 'opencvpython': 1, 'codegen': 1, 'proto': 3, 'orghibernateinstantiationexception': 1, 'compilationinitializer': 1, 'datetimetime': 1, 'fromnow': 1, 'hasmanythrough': 2, 'systemobjectdisposedexception': 3, 'systemwindowsformsdll': 1, 'decouple': 1, 'nonimmediate': 1, 'trywithresources': 1, 'keybinding': 1, 'getexternalcontext': 1, 'facescontext': 2, 'gcc4008': 1, 'gcc432': 1, 'mediatypetext_plain': 1, 'jerseycore116jar': 1, 'werror': 1, 'h2db': 1, 'unslider': 1, 'openhardwaremonitor': 1, 'lucenelike': 1, 'preemption': 1, 'classcastexceptioncomgoogleappenginetoolsdevelopmentapiproxylocalimpl': 1, 'comgoogleappenginetoolsdevelopmentapiproxylocal': 1, 'sendmessagecallback': 1, 'getrequest': 1, 'session_id': 1, 'nondeallocated': 1, 'netcreateserver': 1, 'securitylimit_extensions': 1, 'belowe': 1, 'assertcatch': 1, 'assertthrows': 1, 'datagridviewtextboxcolumn': 1, 'anypostback': 1, '5s': 2, 'libobjcadylib': 1, 'objc_msgsend15': 1, 'jobberbase': 1, 'gon': 2, 'jersey17': 1, '_sslc661': 1, 'microsoftxmldom': 1, 'rc1015': 1, '168': 3, 'regexpression': 1, 'selectelement': 1, 'oracledataaccess': 1, 'version211160': 1, 'codeiginter': 1, 'fading': 7, 'introduction': 3, 'dropdownchoice': 1, 'compoundpropertymodel': 1, 'hyper': 2, 'opensessioninviewfilter': 1, 'nextsibling': 2, 'pkcs7': 1, 'encryptor': 1, 'decryptor': 1, 'addrule': 1, 'insertrule': 2, 'witout': 1, 'bussines': 1, 'applicationconfigphp': 1, 'parenthesis': 10, 'splashscreen': 1, 'listclass': 3, 'asterix': 1, 'onreadystatechange': 6, 'v1500': 1, 'amd64': 2, 'mockitojunitrunnerclass': 2, 'mockitoannotationsinitmocks': 1, 'ora12505': 1, 'tnslistener': 1, 'ressendfile': 5, 'show_sql': 1, 'hovertext': 1, 'springbased': 1, 'externalized': 2, 'dynamicpoller': 1, 'streak': 1, 'contributions': 2, 'diskpart': 1, 'rscripts': 1, 'cllocationmanagerdelegate': 1, 'nsuinteger': 1, '1062': 4, 'habtm': 2, 'transformable': 1, 'cocoahow': 1, 'complile': 1, 'j': 10, 'jdk17': 2, 'renderers': 1, 'lobcreator': 1, 'threadgetuncaughtexceptionhandler': 1, 'uncaughtexception': 1, 'linearlayouts': 1, 'coordiantes': 1, 'parallelizing': 3, 'deployable': 1, 'tableviews': 5, 'c99': 3, 'appsettings': 5, 'httpcontextcurrentsession': 1, 'contextsession': 1, 'time_ago_in_words': 1, 'tty': 1, 'afterexecute': 1, 'resubmit': 2, 'popuppanel': 1, 'unprotect': 1, 'spots': 1, 'userprincipalsgetauthorizationgroups': 1, '1301': 1, 'decompression': 1, 'respository': 1, 'populator': 2, 'sqldataadapterfillschema': 1, 'amplify': 1, 'mkdir': 4, 'progressively': 1, 'javanetunknownhostexception': 2, 'gtm': 1, 'layouttransform': 1, 'lmysqlclient': 1, 'actor': 2, 'heighth': 1, 'fold': 2, 'oninitdialog': 1, 'topagedlist': 1, 'pysqlite2': 1, 'dbapi2': 1, 'charactervalueof': 1, 'gadget': 1, 'myobject': 1, 'txtfile': 1, 'arrayaslist': 1, 'phpexcel_exception': 1, 'solarized': 1, 'gvim': 2, 'httpclienterror': 1, 'collaborative': 1, 'num_rows': 2, 'soup4413': 1, 'redirectroute': 1, 'systemsecuritycryptography': 2, 'phantom': 4, 'futurecompatible': 1, 'broadcastreceiver': 2, 'onreceive': 1, 'datetolocaletimestring': 1, 'assync': 1, 'windowinnerwidth': 2, 'xps': 2, 'xmldata': 1, 'performselector': 5, 'withobject': 2, 'afterdelay': 3, 'j_spring_security_logout': 1, 'heard': 1, '550': 3, '573': 2, 'retrying': 2, 'namedtuples': 2, 'flashbased': 1, 'swfupload': 1, 'securityconfig': 1, 'javaconfig': 2, 'form_name': 1, 'applicationscope': 1, 'webdrivers': 2, 'slight': 2, 'freamwork': 1, 'version6000': 1, 'prebound': 2, '2195': 1, '2196': 1, 'shfileoperation': 2, 'cabasicanimation': 2, 'pdfcontentbyte': 1, 'easingout': 1, 'clientcredentialtype': 1, 'panelgroup': 1, 'activexobject': 3, 'excelapplication': 1, 'h5validate': 1, 'argsort': 1, 'spcecific': 1, 'readcsv': 1, 'lack': 4, 'regaining': 1, 'rmr2': 1, 'svmformula': 1, 'setmnemonic': 1, 'colorize': 1, 'somewhat': 3, 'flexibility': 2, 'seg': 5, 'do_bind_function': 1, 'libphp5so': 1, 'lookupedit': 1, 'encodingutf8': 2, 'testfixturesetup': 2, 'fundamentals': 1, 'servicebaserun': 2, 'datetimedatetimehour': 1, 'appledouble': 1, 'anti': 3, 'bi': 1, '__file__etc': 1, 'putall': 1, 'suburi': 1, 'virus': 1, 'upsert': 4, 'granted': 1, 'xsltcontext': 1, 'inbuilt': 3, 'propertychanged': 4, 'executorsnewfixedthreadpool': 1, 'javasecurityaccesscontrolexception': 2, 'javalangruntimepermission': 1, 'accessclassinpackagesunmisc': 1, 'dotseparated': 3, 'pathvariable': 3, 'reverse_lazy': 1, 'placeautocompleteactivity': 1, 'rvmshell': 1, 'autoresizing': 2, 'autobuild': 2, 'f5': 2, 'outofdate': 1, 'jvmdll': 3, 'row_array': 1, 'result_array': 1, 'related_name': 3, 'wc': 1, 'strand': 1, 'geotrans': 1, 'gameobject': 4, 'angularuitinymce': 1, 'tabset': 1, 'plunker': 1, 't_exit': 1, 'nonproxyhosts': 1, 'formals': 1, 'clip_on': 1, 'colons': 1, 'streetview': 1, 'imagery': 1, 'figaro': 1, 'xeditable': 1, 'stdgenerate': 1, 'stduniform_real_distribution': 1, 'maxjsonlength': 1, 'orgapachecommonsloggingimpllogfactoryimpl': 1, 'cumbersome': 1, 'ajaxweb': 1, 'annually': 1, 'pythonrestclient': 1, 'screenheight': 1, 'screenwidth': 2, 'generatedvalue': 3, 'expandablelistview': 5, 'expandablelistadapter': 1, '__int64': 1, 'vise': 1, 'orgapachecommonslangserializationutilsclone': 1, 'ut010006': 1, 'systemnethttp': 2, 'version4000': 2, 'cultureneutral': 3, 'publickeytokenb03f5f7f11d50a3a': 1, 'convertpoint': 1, 'blackandwhite': 1, 'requestformgetvalues': 1, 'after_touch': 1, 'pngs': 4, 'lineoriented': 1, 'nulldisplaytext': 1, '0x88980406': 1, 'wrapper_objects': 1, 'thread_info': 1, 'destructed': 1, '#class0x007f099c303390': 1, 'reversely': 1, 'lifecyclespecific': 1, 'mebuddycom': 1, 'socketexception': 8, 'scale_x_datetime': 1, 'ngview': 2, 'desktopgetdesktop': 1, 'convienience': 1, 'aught': 1, 'ngvalid': 1, 'rsaserviceprovider': 1, 'nontable': 1, 'awss3': 2, 'conforms': 3, 'dispatch_group_async': 1, 'pareto': 1, 'gettextcontents': 1, 'n2log': 1, 'classobj': 1, 'errorcould': 1, 'comandroidtoolsbuildgradle0132gradlejar': 1, 'localhost3000': 2, 'preparestatement': 2, 'uninitialised': 2, 'skype': 1, 'nocacheregionfactoryavailableexception': 1, 'so_keepalive': 1, 'localdrive': 1, 'nderived': 1, 'supertypes': 3, 'formvalidation': 1, 'bundlemainpath': 1, 'forresource': 1, 'pefilepy': 1, 'unityenginecomponent': 1, 'addforce': 2, 'borderradius': 2, 'icontains': 1, 'mouseeventoffsetx': 1, '34e': 1, '38': 2, 'conjunction': 2, 'readresolve': 1, 'stddistance': 1, 'balancer': 4, 'directorysearcher': 2, 'xmltextreader': 2, 'uitextfields': 2, 'backtrace': 2, 'textwriter': 1, 'javafxapplication': 1, 'stdresult_of': 1, 'nonerror': 1, 'nganimate': 3, 'twoplayer': 1, 'turnbased': 1, 'systemwindows': 2, 'itemclick': 3, 'branchless': 1, 'akkaspring': 1, 'twocharacter': 1, 'bbc': 2, 'gifs': 2, 'number_with_precision': 1, 'wpblogheaderphp': 2, 'functionrequire': 2, 'annotationbased': 3, '201': 2, 'usercontrolled': 1, 'appid': 1, 'sdh': 1, 'load_path': 1, 'membershipservice': 1, 'userservice': 2, 'aliastobeanresulttransformer': 1, 'interfacessettings': 1, 'trapezoid': 1, 'leibniz': 1, 'colorramppalette': 1, 'developement': 1, 'onnext': 1, 'rx': 6, 'subscribeon': 1, 'schedulertaskpool': 1, 'ssh2': 3, 'programmaticallyopened': 1, 'apos': 1, 'specifications': 2, 'heading': 4, 'tailing': 1, 'stdbasic_string': 1, 'glitch': 1, 'unity2d': 2, 'phonegapp': 1, 'readr': 1, 'write_csv': 1, 'codeeval': 1, 'ring': 4, 'buttonisenabled': 1, 'pear': 2, 'smtpauth': 1, 'workonly': 1, 'jssor': 1, 'reactivate': 1, 'webform_docallback': 1, 'pointstart': 1, 'wxgrid': 1, 'script_name': 1, 'deferred': 8, 'base64encodingstringwithoptions': 1, 'eperm': 2, 'fsrename': 1, 'htmlattributes': 4, '437final': 1, '1036': 1, 'setlastmodified': 1, 'getparameterbyname': 1, 'lte': 1, 'aregexobjectreplace': 1, 'pluginhow': 1, 'databaseclass': 1, 'fillna': 3, 'microsoftdataentity': 1, 'file_path': 1, 'errnoenoent': 2, 'sqldependencystart': 1, 'objectclone': 2, 'clearbatch': 1, 'recalculate': 1, 'postupdate': 2, 'unstub': 2, 'arraycount': 2, 'racing': 2, 'websecurityconfigurer': 1, 'curlopt_range': 1, 'lucid32': 1, 'ident': 1, 'session_destroy': 3, 'sqldataadapter': 3, 'ls': 2, 'scopedata': 1, 'systemcollectionsgenericienumerableanonymoustype#1': 1, 'systemcollectionsgenericlistcustom': 1, 'readability': 2, 'dynamics': 10, 'arraylistindexof': 1, 'jquerypost': 3, 'pcs': 2, '142': 2, 'nontechnical': 1, 'producertemplatesendbodyandheader': 1, 'collection1': 1, 'collection2': 1, 'vmware': 4, 'untrusted': 6, 'tribonacci': 1, '103': 3, 'aescrypt': 1, 'userscript': 1, 'inlinelike': 1, 'gridviewdatasource': 1, 'unlisted': 1, 'pythonmagick': 1, 'jpeg2000': 1, 'assumerole': 1, 'ef5s': 1, 'bus': 4, 'plugable': 1, 'consumers': 3, 'readobject': 2, 'extracing': 1, 'pathexpand': 1, 'emfile': 2, 'pygamesurface': 2, 'noobie': 1, 'pathappend': 1, 'invitations': 1, 'guids': 3, 'indented': 3, 'abstaction': 1, 'registerable': 1, 'log4netdll': 1, 'timerelapsed': 1, 'announced': 1, 'steve': 1, 'ballmer': 1, 'func_get_args': 4, '0index': 1, 'srczip': 1, 'setdelegate': 2, 'strutsprepareandexecutefilter': 1, 'javabat': 1, 'fluently': 1, '132': 3, 'kde': 2, 'transactionindoubtexception': 1, 'mindbody': 1, 'oraclejdbcoracleconnection': 1, 'assert_raise': 1, 'browserswitchto': 1, 'group_by': 2, 'orghibernatetypejava8datetimetypecontributor': 1, 'hselectonemenu': 4, 'highlevel': 2, 'toolkits': 1, 'perhaps': 3, 'interupt': 1, 'contactus': 1, 'delivering': 1, 'resultinfo': 1, 'whonull': 1, 'request1': 1, 'result1': 2, 'dataintent': 1, 'dynamicresource': 1, 'resourcekey': 1, 'javabean': 7, 'attribus': 1, 'systemproperty': 1, 'gradletaskgraphwhenready': 1, 'accelerometer': 3, 'concurrencyfailureexception': 1, 'soapheader': 2, 'base16': 1, 'hexadecimals': 1, 'cvacc': 1, 'mediatype': 2, 'epoll': 4, 'ballonpopupextender': 1, 'generationtype': 1, 'rackcache': 1, 'ceiling': 2, 'viewset': 4, 'error_get_last': 1, 'examplebased': 1, 'recall': 1, 'arch': 2, 'pread': 2, 'savable': 1, 'vbs': 4, 'updateprogress': 2, 'okhttpclient': 1, 'jarray': 2, 'string#scan': 2, 'spine': 1, 'jsmvc': 1, 'lithium': 1, 'pythonlists': 1, 'itemcommand': 3, 'qmenu': 2, 'inconsistencies': 1, 'allocator': 4, 'maven3': 1, 'mavenantrunplugin': 1, 'cctextfieldttf': 1, 'attachwithime': 1, 'whithout': 2, 'importresource': 1, 'orgspringframeworkwebutilnestedservletexception': 1, 'tracked': 1, '164': 1, 'hijacking': 2, 'willcascadeondelete': 1, 'generateresource': 1, 'beandefinitiondecorator': 1, 'contexthttprequest': 1, 'calloc': 7, 'fid': 2, 'managed_file': 1, 'graphicsactivity': 1, 'zipopen': 1, 'mathsqrt': 2, 'newtonraphson': 2, 'roots': 2, 'sendingmail': 1, 'jphpmailerphp': 1, 'emailer': 1, 'soapmessagecontext': 1, 'defaultphp': 1, 'unproxy': 1, 'interfaceerror': 1, 'acts_as_commentable': 1, 'book_id': 1, 'getcomputedstyle': 1, 'classimplementations': 1, 'filereadalllines': 2, 'overflowed': 1, 'specfic': 1, 'overinjection': 1, 'nonmember': 1, 'rbegin': 1, 'rend': 1, 'thispostinput': 1, 'minutessecondsmilliseconds': 1, 'skew': 3, 'etarget': 1, 'sunmiscfloatingdecimalreadjavaformatstring': 1, 'floatingdecimaljava1009': 1, 'visc++': 1, 'breakers': 1, 'mexfile': 1, 'errorresponsetext': 1, 'accessors': 3, 'sorts': 4, 'hashmapk': 1, 'bought': 2, 'rdds': 1, 'where_in': 1, 'uitavleviewcell': 1, 'unpaid': 1, 'reloadgrid': 1, 'j2eeflexprojdeployable': 1, 'registerinstance': 1, 'googleappenginedjango': 1, 'nswindow': 2, 'withing': 1, 'posixct': 1, 'screwy': 1, 'arange': 1, 'dictionaryt': 1, 'managert': 1, 'skactions': 1, 'i0': 3, 'ilistalength': 1, 'relaying': 1, 'pagingenabledyes': 1, 'requestgetparametermap': 1, 'rootnode': 1, 'preios': 1, 'setlocationrelativeto': 1, 'monitors': 3, 'ultralight': 1, 'applicationonly': 1, 'wp_editor': 1, 'preselected': 3, 'grandparent': 2, 'windowcrypto': 1, 'ienumerableobject': 2, 'ienumerableint': 2, '12pm': 1, '5am': 1, 'cstr': 1, 'targetentity': 1, 'cronjob': 2, 'ammount': 1, 'performselectorinbackground': 4, 'inputstreams': 3, '3212': 2, 'develompent': 1, 'bfatal': 1, 'seq': 1, 'ajaxtoolkit': 1, '#53632': 1, '1265': 2, 'warn_data_truncated': 1, 'windoweval': 1, 'phpquery': 1, 'flashblock': 1, 'gulprubysass': 1, 'storyboardrepeatbehavior': 1, 'ineffective': 1, 'onleave': 1, 'sercer': 1, 'discards': 2, 'qualifiers': 5, 'verifyset': 1, 'obsolete': 4, 'cuser': 1, '1027pm': 1, 'win32_printer': 1, 'windowlocationancestororigins': 1, 'systemweb': 3, 'getreadabledatabase': 1, 'xhr2': 1, 'dragdrop': 4, 'dragged': 4, '2byte': 1, 'get_post_gallery': 1, 'tablayoutpanel': 2, 'autonumber': 1, 'offsetx': 1, 'offsety': 1, 'androidosasynctask': 1, 'authorizationheader': 1, 'orghibernatecachespiregionfactory': 1, '438': 1, 'unregister': 1, 'enqueue': 3, '+android': 1, 'doctype': 4, 'innitial': 1, 'objgetclass': 1, 'asplabel': 2, 'asptexbox': 1, 'bytesize': 1, 'speicfic': 1, 'list_display': 2, 'windowsetinterval': 1, 'skin': 2, 'picked': 3, 'webviews': 4, 'combeaxmlstreammxparserfactory': 1, 'jcl': 1, 'hooking': 3, 'hamls': 1, 'inetpub': 1, 'wwwroot': 1, 'semaphore': 2, 'wanted': 6, 'log10': 1, 'log2': 2, 'o2': 2, 'sortusingcomparator': 1, 'documentopen': 1, 'documentclose': 1, 'focuschecking': 1, 'mimic': 3, 'selectpollpoll': 1, 'symphony': 1, 'rsymphony': 1, 'doctrinemoduleauthenticationadapterobjectrepositorysetidentityvalue': 1, 'loosely': 2, 'odbc_exec': 1, 'chromeextensiongetviews': 1, 'correctness': 2, 'selfviewframe': 1, 'swallows': 3, 'memberinfo': 1, 'accessconrolalloworigin': 1, 'collectionofelements': 2, 'annotating': 3, 'windowevent': 2, 'numpysavez': 1, 'v901': 1, 'hipstamatic': 1, '_wtoi': 1, 'nonnumerical': 1, 'bundlejs': 1, 'vendorbundlejs': 1, 'checkedchanged': 2, '177': 2, 'adapterupdate': 1, 'stdset_difference': 1, 'propery': 2, 'add_image_size': 1, 'cfcharts': 1, 'mimedata': 1, 'corebluetooth': 1, 'bluetoothmanager': 1, 'toolbars': 2, 'wpfslider': 1, 'valuechangedevent': 1, 'redundancy': 3, 'disconnecting': 2, 'closeasync': 1, 'closeoutputasync': 1, 'formatters': 2, 'salamander': 1, 'webclients': 1, 'downloadstringcompleted': 1, 'doublequote': 2, 'btnenabled': 1, 'usernames': 3, 'marginauto': 1, 'downloding': 1, '__nscfstring': 4, 'autoreleased': 1, 'maximixe': 1, '87': 4, 'gridviews': 3, 'cssclass': 2, 'escapes': 2, 'fixedsized': 1, 'processs': 2, 'mysitecom': 1, 'datetimenowtostring': 1, 'hmm': 1, 'hbitmap': 3, 'arrayprototypeindexofcall': 1, 'default_index_tablespace': 1, 'orgspringframeworkwebservletviewjsonjsonview': 1, 'before_request': 1, 'systemcollectionsgenericiliststring': 1, 'dbtransactioncommit': 1, 'disruptions': 1, 'unchecking': 3, 'recv_size': 1, 'pkfk': 1, 'javaxwsrsclientclient': 1, 'readtimeout': 1, 'microsoftpracticesenterpriselibrarylogging': 1, 'charcodes': 1, 'charcode': 1, 'javaxservletservletcontainerinitializer': 1, 'timesheets': 1, 'swtwin32': 1, 'receipts': 1, 'vectorize': 4, 'querytranslatorfactory': 1, 'isbasiclatin': 1, 'islatin1supplement': 1, 'stripper': 1, 'qtguiqtextedit': 1, 'c0': 1, 'optparserprint': 1, 'inout': 2, 'addrees': 1, 'uiprogressview': 1, 'obscuring': 1, 'typechecking': 1, 'widest': 2, 'transforms': 4, 'genders': 1, 'updateview': 1, 'psychsyck': 1, 'mouses': 1, '0x80070057': 1, 'rtjar': 2, 'vbscripts': 1, 'isempty': 1, '#userscontroller0x007fda4c2c5208': 1, 'assembler': 3, 'entropy': 1, 'sunrise': 2, 'sunset': 2, '52x': 1, 'fam': 1, 'taskschedulerfromcurrentsynchronizationcontext': 1, 'eclipses': 5, 'substringwithrange': 1, 'glgenbuffers': 1, 'httputilityparsequerystring': 1, 'encodes': 1, 'comentityrole': 1, '#parent': 1, 'ordinalchild': 1, '#somechild': 1, 's1093': 1, 'directoryenumeratefiles': 1, 'toolstripcontrolhost': 1, 'subtle': 2, 'railsupdate': 1, 'sysinvalidoperationexception': 2, 'elementtreeparse': 1, 'cwindowssystem32shdocvwdll': 1, 'groupon': 1, 'preemptively': 1, 'com1': 2, 'endorsed': 1, 'referenceerrorajax': 1, 'loadfromjson': 1, 'customers': 3, 'charges': 1, 'cxampphtdocsglobalclassphpmailerphp': 1, '1235': 1, 'kbs': 1, 'argumentoutofrangeexception': 2, 'printable': 5, 'ngcloak': 2, 'basedon': 1, 'webcrawler': 2, 'passive': 1, 'functionfopen': 1, 'php_network_getaddresses': 3, 'dotnotation': 1, 'wordapplication': 2, 'systemcollectionsgeneric': 1, 'systemcollections': 1, 'afxmessagebox': 1, 'mainframe': 1, 'whatever': 4, 'created_on': 1, 'configureawait': 1, 'rowdefinitionheight': 1, 'rowdefinition': 1, 'heightauto': 1, 'charsetnames': 1, 'charsetforname': 3, 'monte': 1, 'carlo': 1, 'plenty': 1, 'deadlocked': 1, 'mysettings': 2, 'intelligence': 4, 'elsewhere': 5, 'stripped': 3, 'indexoutofrangeexception': 2, 'javascriptinterface': 3, 'jelly_bean': 1, 'datasetaccess': 1, '551': 1, 'htmldocumentinvokescript': 1, '420': 1, 'adaboostregressor': 1, 'execfile': 1, 'registrykey': 1, 'eventhandlerteventargs': 1, 'getexternalfilesdir': 2, 'longpolling': 1, 'defintion': 2, 'backgroundthread': 1, 'impersonated': 2, 'movements': 2, 'bytearrayoutputstream': 4, 'equilateral': 1, 'dbtestload': 1, 'hoisting': 1, 'unninstall': 1, 'intercepting': 5, 'termination': 2, 'yii20': 1, 'dotall': 1, 'd3behaviorzoom': 1, 'idshow': 1, 'xpage': 1, '4x4': 2, 'localeresolver': 1, 'destructors': 7, 'gtkbutton': 2, 'userinterface': 1, 'basing': 1, 'sourcecode': 3, 'redirect_tos': 1, 'uitabs1': 1, 'raminsql': 1, 'pushback': 1, 'highchartss': 1, 'onready': 1, 'log4j2properties': 1, 'iis6': 2, 'windowlocatonreload': 1, 'fox': 1, 'documentumserviceforidp': 1, 'hpc': 1, 'hssfsheet': 1, 'depressed': 1, 'datetime2': 1, 'xamarinandroid': 3, 'annotationreader': 1, '_viewphp': 1, 'net4': 2, 'jerseyservletmodule': 1, 'attchment': 1, 'wp_mail': 2, 'setreuseaddress': 1, 'multidatatrigger': 2, 'webviewloaddatawithbaseurl': 1, 'pubdate': 1, 'csvmalformedcsverror': 1, 'sdl_textures': 1, 'posix_spawn': 1, 'editingaccessorytype': 1, 'phusion': 4, 'utuntu': 1, 'univariate': 1, 'systemwebuiwebcontrolscheckbox': 1, 'pokedex': 1, 'dbmodel': 1, 'pageddatasource': 1, 'injector': 5, 'access_denied': 1, 'singleordefault': 2, 'armeabigcc': 1, 'sooperfish': 1, 'boostasioiptcpsocket': 1, 'addressing': 2, 'mediainsert': 1, 'train': 5, 'strsafeh': 1, 'javagetting': 1, 'mulitple': 5, 'instanced': 1, 'ckeditorstylessetadd': 1, 'ivar': 5, 'stdmake_unique': 2, 'incorporating': 1, 'phpsdk': 2, 'v300': 1, 'gameloop': 1, 'xmldsig': 1, 'oswrite': 1, 'filehandler': 1, 'introductory': 2, 'courses': 1, 'padas': 1, 'unsubscribe': 5, '2dimension': 1, 'systemwindowsmedia': 1, 'hashsetremove': 1, 'minimallocking': 1, 'fscreatedirectoryunicode': 1, 'systemservicemodelendpointnotfoundexception': 1, 'uicolor': 2, 'searchdisplaycontrollersearchresultstableview': 1, 'dataid': 4, 'navbarpage': 1, '4bit': 2, 'adder': 1, 'usort': 1, 'doctrinecommoncollectionsarraycollection': 2, 'baseclass': 3, 'derivedclass': 1, 'v52': 1, 'v5229': 1, 'authguard': 1, 'blowing': 1, 'asphiddenfield': 1, 'onvaluechanged': 1, 'datetimegettimezone': 1, 'cvgpu': 1, 'libxml': 1, 'xmlversionh': 1, 'staticazi': 1, 'systemwindowsmediacolor': 1, 'filemkdirs': 1, 'determing': 1, 'dt_hash': 1, 'array_sum': 1, 'threadname': 1, 'threadid': 2, 'log_level': 1, 'xwpfparagraph': 1, 'asymptotes': 1, 'resides': 2, 'stringbyreplacingcharactersinrange': 2, 'restorecompletedtransactionswithapplicationusername': 1, 'is_a_function': 1, 'tableviewreloaddata': 1, 'interacted': 1, 'twodimentional': 1, 'handlerinterceptor': 2, 'forcibly': 4, 'quicker': 2, 'is_null': 1, 'justify': 2, 'windowresources': 1, 'senchatouch': 2, 'multitasks': 1, 'uing': 1, 'nspopupbutton': 1, 'nstoolbar': 1, 'keyword_ensure': 1, 'endofinput': 1, 'sessionvar': 1, 'parallely': 1, 'rpc': 5, 'isbn': 1, 'sidenav': 1, 'specjs': 1, 'fitdist': 1, 'dnormal': 1, 'writevalueasstring': 1, 'hashkey': 1, 'estimating': 2, 'enumerationstring': 1, 'enumerationobject': 1, '0x22c4f60': 1, '0x22c51b0': 1, 'dbnamedbotablename': 1, 'django_auth_ldap': 1, 'acquiring': 3, 'gdbs': 1, 'identically': 2, 'labeled': 2, 'win32_fan': 1, 'swings': 5, 'metrostyle': 1, 'findmethod': 1, 'typenumber': 3, 'modelstored': 1, 'formatflagsconversionmismatchexception': 1, 'shaders': 5, 'correcting': 1, 'onclosing': 1, 'avialable': 1, 'naukri': 1, 'eee': 1, 'mmm': 3, 'c#switch': 1, 'nsviewcontrollerclose': 1, 'windowswiftstoryboard': 1, 'processdebugmanifest': 1, '_objc_class__paytabcardreaderviewcontroller': 1, 'objcclassref': 1, 'viewcontrollero': 1, 'reflectively': 2, 'boosts': 3, 'axb': 1, 'jsonrepresentation': 1, 'objectselect': 1, 'datadir': 1, 'caseswitch': 1, 'caneditrowatindexpath': 1, 'transcluded': 3, 'organise': 1, 'array_unshift': 1, 'navlistpanel': 1, 'disquss': 1, 'blue': 6, 'tabular': 2, 'swaggernet': 1, 'jtabbedpane': 3, 'j_security_check': 2, 'javasqltimestamp': 3, 'utcbased': 1, 'mysql_selectdb': 1, 'closebutton': 1, 'loadbalancer': 1, 'libmms': 1, 'remotefunction': 3, 'pay': 5, 'asyncresult': 2, 'aobut': 1, 'overruning': 1, 'genre_id': 1, 'annoted': 1, 'genreid': 1, 'voting': 2, 'votes': 1, 'tally': 3, 'j48': 1, 'nolock': 1, 'assuming': 2, 'irequiressessionstate': 1, 'ireadonlysessionstate': 1, 'beaninjection': 1, 'failedcould': 1, 'phpsql': 2, 'disagree': 1, 'multipe': 1, 'dommanipulating': 1, 'local_dbbin': 1, 'blackboard': 1, 'orghibernatetoolschemaspicommandacceptanceexception': 1, 'sqlite3sqlexception': 1, 'commentsmicropost_id': 2, 'unary': 2, 'complied': 1, 'graphicspy': 1, 'anotother': 1, 'intensity': 2, 'boxs': 1, 'mainpage': 1, 'imagefrombuffer': 1, 'aspgridview': 1, 'intelij': 2, 'bftask': 1, 'xsddatetime': 1, 'method_missing': 1, 'whitelist_attributes': 1, 'activerecordbaseclass': 1, 'dreaded': 1, 'onuserpreferencechanged': 1, 'rootelements': 1, 'mmdevice': 1, 'cexit': 1, 'fancyarrowpatch': 1, 'javaxejbjar': 1, 'metismenu': 1, '67108864': 1, '4459414': 1, 'convenience': 3, 'conceptscript': 1, 'stdtm': 1, 'stdgmtime': 1, 'pannel': 1, '__asm': 2, 'nop': 2, 'libjpeg': 2, 'weights': 4, 'notified': 5, 'socketchannel': 3, 'checklist': 3, 'bad_authentication': 1, 'hexagonal': 1, 'bourbon': 1, 'soapserver': 1, 'cmt': 1, 'mathatan': 1, 'len': 9, 'primitivetype': 1, 'semantics': 4, 'stdmutex': 2, 'leafletdraw': 1, 'loggingdisable': 1, 'javaxservletannotation': 1, 'inappbrowser': 2, 'restangular': 1, 'numerous': 4, 'interp2d': 1, 'maperase': 1, 'mapend': 1, 'maxheight': 2, 'preceding': 2, 'socketbeginsend': 1, 'approcach': 1, 'solely': 3, 'systemdatadatarowview': 6, 'undefind': 1, 'mysqli_connect': 6, 'hyphens': 7, 'handlebarscompile': 1, 'leaf': 5, 'jtree': 3, 'pylibrabbitmq': 1, 'hibernateoracle': 1, 'collate': 1, '100alpha2': 1, 'applicationcontextxml': 5, 'mplot3d': 1, 'sheetname': 1, 'melt': 2, '2columnsright': 1, 'oh': 2, 'selling': 1, 'tacking': 1, 'touching': 2, 'staff': 2, 'accesss': 1, 'comliferayportalsecurityauthprincipalexception': 1, 'dlfileentry': 1, 'textctrl': 1, 'qstandarditemmodel': 1, 'cmath': 3, 'gcc48': 1, 'writerow': 2, 'writerows': 2, 'styleleft': 1, 'reifiable': 1, 'loadmenu': 1, 'verticallyoriented': 1, 'streamnull': 1, 'vsts2010': 1, 'onthefly': 3, 'narrowing': 2, '618': 1, 'jdo': 1, 'configsource': 4, 'pythonh': 3, 'systemwindowscontrolsimage': 1, 'texturing': 2, 'manytoonefield': 1, 'infrequentlyused': 1, 'pclose': 1, 'payment_status': 1, 'cgframe': 1, 'documentonclick': 2, 'togglebutton': 2, 'portably': 3, 'reflectionmethodinvokeargs': 1, 'performancenow': 1, 'datenow': 2, 'singlequoted': 1, 'doublequoted': 1, 'pthread_setschedparam': 1, 'sched_other': 1, 'mars': 2, 'racetoinitialize': 1, 'datagridcolumn': 1, 'yesconflict': 1, 'queueing': 1, 'ole': 4, 'libxercescso28': 1, 'detemine': 1, 'nsvalue': 1, 'tableperhierarchy': 2, 'idproperty': 1, 'qtimer': 2, 'crosspage': 1, 'typecast': 4, 'cssselector': 1, 'orgapachepoipoixmldocument': 1, 'flaskjson': 1, 'elidedsemicolonandrightbrace': 1, 'meanshift': 1, 'cores': 4, 'processors': 4, 'm2e': 2, 'buildhelper': 1, 'sr1': 1, 'readpreference': 1, 'beforesave': 1, 'reserve': 6, 'geometric': 3, 'setvisible': 2, 'hellospring': 1, 'hellohtm': 1, '_setcustomvar': 1, 'toprecision': 1, 'jetty_logs': 1, 'jetty_home': 1, 'orgapachecxfbindingsoapsoapmessage': 1, 'symlinks': 2, 'infoplist': 3, 'localizations': 1, 'indexpathsforvisiblerows': 1, 'djangotinymce': 2, 'hat': 3, 'totalfreespace': 1, 'availablefreespace': 1, 'crush': 1, 'datetimetostring': 2, 'bucketlist': 1, 'xhrpolling': 1, 'boostrap': 2, 'nettys': 2, 'htmlmarkup': 1, 'idattribute': 1, 'getgraphics': 1, 'noncopyable': 4, 'templateurl': 2, 'u00a0': 1, 'lb_getcursel': 1, 'lb_gettext': 1, 'nsoperation': 3, 'imei': 1, 'vectorvalued': 1, 'aspgrid': 1, 'ienumeratorcurrent': 1, 'ienumeratortcurrent': 1, 'upwards': 2, 'pythonsybase': 1, 'edmx': 2, 'stdforward': 2, 'parameterizedthreadstart': 1, 'webfaultexception': 1, 'exceptiondetail': 1, 'blurring': 3, 'array_multisort': 1, 'navigatoruseragent': 1, 'qlpreviewcontroller': 2, 'intrinsic': 2, 'crunch': 1, 'suntlsrsapremastersecret': 1, 'keygenerator': 1, 'filterfilter': 1, 'gradientn': 1, 'invitable': 2, 'gibberish': 2, 'cactivedataprovider': 1, 'webpackjsonp': 1, 'stdadvance': 1, 'advancing': 1, 'validationconstraint': 1, 'uiimagepickercontrollerreferenceurl': 2, 'seckeychainitemref': 1, 'seckeychainfindgenericpassword': 1, 'stringvar': 1, 'zerodatetimebehavior': 1, 'crossoriginanonymous': 1, 'accumulate': 1, 'totals': 5, 'sentinel': 4, 'dest': 1, 'mutablecopy': 1, 'browsercapini': 1, 'mysql_row': 1, 'useradminphp': 1, '184': 2, 'xsltransformtransform': 1, '12th': 1, 'pizza': 2, 'aggregationoutput': 1, 'heteroskedasticity': 1, 'asphiddenfieldvalue': 1, 'c3493': 1, 'web20': 1, 'numpyall': 1, 'gcgettotalmemory': 1, 'feasible': 1, '_imp__jni_createjavavm': 1, '_hresult': 1, '2146232969': 1, 'facelets': 1, 'webdevelopment': 1, 'modulo': 5, 'useor': 1, 'array_push': 2, 'myarray': 1, 'scaleup': 1, 'balancers': 1, 'dojodata': 1, 'stucture': 1, 'python3x': 2, 'servicepointmanagersecurityprotocol': 1, 'scrollstotop': 1, 'metaprogram': 1, 'currentuser': 2, 'selectonemenu': 4, 'mvccontribpagination': 2, 'mvccontribgrid': 1, 'machineconfig': 1, 'oci_fetch_array': 1, '516': 1, 'mysqldatareader': 1, 'ylimit': 1, 'scale_y_continuous': 1, 'drop_duplicates': 1, 'printdebug': 1, 'imageclone': 1, 'monolog': 1, 'dbms': 2, 'handler404': 1, 'handler403': 1, 'handler500': 1, 'parametersaddwithvalue': 1, 'utc4': 1, 'eastern': 1, 'bcc': 3, 'dbsett': 2, 'togglable': 1, '34x': 1, 'nonword': 1, '+#': 1, 'e2e': 4, 'resumebootstrap': 1, 'httpsconnection': 1, 'unselectable': 3, 'vary': 4, 'gldrawarray': 1, 'consistent': 4, 'string#hash': 1, 'fdb': 1, 'postload': 1, 'cs0119': 1, 'denotes': 1, 'x00': 2, 'curdate': 1, 'genexpr': 1, 'lance': 1, 'hunts': 1, 'getselectedfieldvalues': 1, 'wb': 1, 'wxpanel': 3, 'jdbccant': 1, 'text2': 1, 'owns': 1, 'created_date_time': 1, 'quitting': 1, 'chatting': 2, 'aar': 1, 'gotten': 1, 'influence': 1, '__textcoal_nt': 1, 'deprecate': 1, 'sierra': 1, 'spritesheet': 1, 'msvcs': 1, '__base_file__': 1, 'myprogramminglab': 1, 'regexps': 1, '_t': 1, 'underscoret': 1, 'errorstring': 1, 'isable': 1, 'finalreference': 1, 'directoryentryinvoke': 1, 'changepassword': 1, 'routeparams': 3, 'configs': 2, 'doctrineormqueryqueryexception': 1, 'semantical': 1, 'querybuilder': 2, '3840': 1, 'knnmatch': 1, 'rsnns': 1, 'bashsh': 1, 'disable_with': 2, 'runaway': 2, 'untitesting': 1, 'debounced': 1, '_lodash': 1, 'authorizeattribute': 6, 'scrollbox': 1, 'amending': 1, 'setvalueat': 2, 'traditional': 2, 'blockingqueue': 1, 'fopenmp': 2, 'spamspython': 1, 'splitbutton': 1, 'reappears': 1, 'condtion': 1, 'cvvideowriter': 1, 'invalidated': 1, 'aspcheckbox': 2, 'bewteen': 1, 'jquerymerge': 1, '20032010': 1, 'seedrb': 1, 'setpixels': 1, 'propagationrequires_new': 1, 'macine': 1, 'd3select': 1, 'selfframeelement': 1, 'aplication': 3, 'youtubemp3org': 1, 'orghibernateactiondelayedpostinsertidentifier': 1, 'javalanglong': 4, 'encapsulating': 1, 'gl_half_float': 1, 'einsum': 1, 'belonging': 6, 'browsed': 1, 'int16': 3, 'fpic': 3, 'stddequepush_back': 1, '20px': 2, 'subprocedure': 1, 'unmappablecharacterexception': 1, 'scannerusedelimiter': 1, 'strictly': 4, 'iir': 2, 'xmlaccesstype': 1, 'resend': 3, 'classerror': 1, 'classnginvalid': 1, 'uint16': 1, 'exploration': 1, 'rover': 1, 'initwithtitle': 1, 'radcombobox': 1, 'sjf': 1, 'unfilled': 1, 'pandasto_datetime': 1, 'massage': 1, 'socketid': 2, 'varclus': 1, 'hmisc': 1, 'pfquery': 1, 'platformindependent': 1, 'nonconcurrent': 1, 'leds': 1, 'objectequals': 1, 'nls_date_format': 1, 'eula': 1, 'coerce': 3, 'geom_pointrange': 1, 'htmltablecell': 2, 'markerend': 1, '0xc000007b': 2, 'androidgraphicsbitmapfactorynativedecodeasset': 1, 'subtitle': 3, 's3responseerror': 2, 'propertiessettingsdefault': 2, 'onsearchrequested': 1, 'dropdropdown': 1, 'selecteditem': 9, 'ecommerce': 2, 'bargraph': 1, 'mongoerror': 3, 'topology': 1, 'imagemagicknet': 2, 'dispatch_once_t': 1, 'callee': 2, 'actioncontrollerinvalidauthenticitytoken': 1, 'chops': 1, 'drawtext': 2, 'win32_process': 1, 'payout': 1, 'projectswifth': 1, 'loadobjectsatresourcepath': 1, 'getopt': 1, 'argp': 1, 'moscow': 1, '__proto__': 1, 'getactivity': 2, 'rightcorner': 1, 'methode': 1, '18f4550': 1, 'stepexecutioncontext': 1, 'scaleaspectfit': 1, 'setleftview': 1, 'systemcall': 1, 'mountpoint': 1, 'highchartsjs': 1, 'uitableviewiphone': 1, 'datagridcells': 1, 'celleditingtemplate': 1, 'ojbect': 1, 'onloadedmetadataevent': 1, 'firstresponder': 2, 'imagepickercontroller': 1, 'memoryusage': 1, 'hackers': 2, 'marshalexception': 2, 'stdtr1': 1, 'c++0xs': 1, 'capturebyvalue': 1, 'tomcatjersey': 1, 'stupefied': 1, 'memcpy2d': 1, '340': 4, 'getfile': 1, 'substitutions': 1, 'domdocuments': 1, 'unwieldy': 1, 'gamehelper': 1, 'commad': 1, 'exculde': 1, 'realmcreate': 1, 'strictlayered': 1, 'promote': 1, 'modularity': 1, 'unnecessary': 8, 'mpi_reduce': 1, 'orb': 1, 'addserver': 1, 'propertymock': 1, 'selfdefined': 2, 'texbox': 3, 'stringfromdate': 1, 'performstep': 1, 'mouseevent': 2, 'nunitframework': 1, 'controlleruser_sessions': 1, 'perform_update': 1, 'propety': 1, 'configurationyml': 1, 'javaawtcontainer': 1, '__name____main__': 1, 'cronlike': 1, 'aspfileupload': 1, 'webapp2': 2, 'swiftmailer': 1, 'httpsurlconnection': 5, 'beforemethod': 2, 'mdate': 1, 'stdvectorpush_back': 2, 'phantomjsnode': 1, 'screenshots': 1, 'jsons': 2, 'groovys': 2, 'jsonslurper': 1, 'msexchange': 1, 'uiblureffect': 1, 'hierarchal': 1, 'easyphp539wwwinventoryaddavayaphp': 1, 'instantiationexception': 2, 'zend_db_table': 1, 'theyre': 2, 'onmessage': 2, 'onopen': 1, 'listtadd': 1, 'applicationhow': 1, 'ifloop': 1, 'cwampwwwformsphp': 1, 'outlines': 2, 'mediainfo': 1, 'checker': 5, 'streamr': 1, 'multiword': 3, 'libgmp10dll': 1, 'properites': 1, 'es5862': 1, 'audioservicesaddsystemsoundcompletion': 1, 'callbackmethod': 1, 'datetimecreatefromformat': 1, 'dummies': 2, 'incease': 1, 'itertools': 1, 'mvppassive': 1, 'mvpsupervising': 1, 'nscache': 1, 'autoremoval': 1, 'ptr': 7, 'actionbaractivity': 1, 'subroutines': 1, 'leap': 3, 'viewpagerinstantiateitem': 1, 'cognito': 1, 'longvalueof': 1, '1l': 2, 'pywin32': 1, 'htmldropdownlistfor': 3, 'jssc': 2, 'reside': 1, 'wakeup': 1, 'getid': 1, 'listproduct': 1, 'activeadmins': 1, 'plusone': 1, 'qstackedwidget': 1, 'proglem': 1, 'jqueryeach': 3, 'listcomprehension': 1, 'win32_networkadapterconfiguration': 1, 'routines': 2, 'wso2': 1, 'esb': 2, 'importnode': 2, 'encryptingdecrypting': 1, 'exahange': 1, '32x': 1, 'acrofields': 1, 'example_user': 1, 'autoincremented': 1, '__psynch_mutexwait': 1, 'multiprocessingdummy': 1, 'utilising': 1, 'routelink': 1, 'necesssary': 1, 'maxreceivedmessagesize': 1, 'unstringifying': 1, 'findfirst': 1, 'ora03113': 1, 'endoffile': 1, 'commonslogging': 1, 'jdklogging': 1, 'libcurl': 4, 'looped': 3, 'templatefields': 1, 'requesthtml': 1, 'deviceinputwithdevice': 1, 'requestsexceptionstoomanyredirects': 1, 'systemchar': 1, 'flipclockjs': 1, 'minimock': 1, 'sendsynchronousrequest': 2, 'multiroute': 1, 'noncentered': 1, 'githubbased': 1, 'cgiparse_qs': 1, 'service_manager': 1, 'thisdbinsert_id': 1, 'thisdbquery': 1, 'rng': 1, 'outerhtml': 2, 'alghorithm': 1, 'read_sql': 2, 'serivce': 1, 'nsmutablestring': 3, 'pandasdataframeto_csv': 1, 'collectionscounter': 1, 'gmsautocomplete': 1, 'jpasystemexception': 1, 'mqs': 1, 'managers': 1, 'vimipython': 1, 'tranfer': 1, 'invalidauthenticitytoken': 1, 'regularexpressionvalidator': 2, 'mysqlintegrityconstraintviolationexception': 2, 'convolutional': 1, 'varies': 3, 'queuequeue': 1, 'likeordislike': 1, 'simpledoublepropertyaddlistener': 1, '_omp_get_thread_num': 1, '1046': 1, 'upside': 3, '#19': 1, 'constrains': 2, 'single_table': 3, 'setupset': 2, 'selectedimageindex': 1, 'redeliver': 1, 'envruncmd': 1, 'addall': 2, 'typesysui_timer': 1, 'textoverflow': 1, 'inventory': 3, 'functionpointer': 1, 'accordionpane': 1, 'model_propertyvalue': 1, 'smartphones': 1, 'watchgroup': 2, 'watchcollection': 1, 'cv2': 3, 'volumes': 2, 'htmlradiobuttonfor': 1, 'euro': 4, 'checkstyle': 2, 'avoidind': 1, 'hamburger': 1, 'pushout': 1, 'slideout': 1, 'interp2': 1, 'responsewriteasync': 1, 'exton': 1, 'randomseed': 2, 'xmletreeelementtreeelement': 1, 'configurate': 1, 'cclayercolor': 1, 'open3popen3': 1, 'v12': 1, 'antialiasing': 1, 'teleriks': 1, 'radeditor': 1, 'systemtransactions': 1, 'rest+json': 1, 'brian': 1, 'goetz': 1, 'memoizer': 1, 'pyobject_call': 1, 'applicationuser': 2, 'looses': 1, 'taskwait': 3, 'doublechecked': 1, 'displayssearchbarinnavigationbar': 1, 'text_field': 7, 'scaledrawable': 1, 'capped': 2, '20m': 1, 'zopeinterface': 1, 'sysadmin': 1, 'unexpectedrollbackexception': 1, 'storeconnect': 1, 'createandshowgui': 1, 'begintransaction': 2, 'nonprepared': 1, 'cedar': 1, 'requesturlreferrertostring': 1, 'htacces': 1, 'potentially': 7, 'dangerous': 6, 'reevaluated': 2, 'arrayforeachcall': 1, 'arraymapcall': 1, 'test_input': 1, 'signout': 1, 'developergserviceaccountcom': 1, 'classstatic': 1, 'classinstance': 1, 'totalmemory': 1, 'pyttsx': 1, 'selfivar': 1, 'systemthreadingtimer': 3, 'socketgetfqdn': 1, 'uitextviewdelegate': 1, 'nsforegroundcolorattributename': 1, 'singleresult': 1, 'ipcrenderer': 1, 'ipcmain': 1, 'short_open_tag': 2, 'freetext': 1, 'ne': 1, 'xasp': 1, 'occlusion': 1, '20120903t063531z': 1, 'w7': 2, 'crosscompilation': 1, 'xap': 1, 'pushd': 1, 'threadabort': 3, 'aboutmemory': 1, 'heads': 1, 'hasownproperty': 1, 'propertyisenumerable': 1, 'groupjoin': 2, 'skip_before_filter': 1, 'walking': 4, 'commiting': 1, 'executedataset': 1, 'buckets': 1, 'editfields': 1, 'windowtopdocumentbodyscrolltop': 1, 'conv2d_transpose': 1, 'deconv': 1, 'out_backprop': 1, 'deactivated': 2, 'authcheck': 1, 'ngaction': 1, 'bounding': 7, 'explorator': 1, 'skshapenode': 1, 'flawed': 1, '#12': 1, 'scaletimerange': 1, 'tabbarcontroller': 4, 'shouldselectviewcontroller': 1, 'horner': 1, 'ubuntuwhat': 1, 'protocolerror': 1, 'excelxls': 1, 'america': 1, 'new_york': 1, 'setenv': 1, 'unsetenv': 1, 'putenv': 1, 'tasking': 1, 'form_tag': 6, 'graciously': 1, 'tackle': 1, 'fxcop': 1, 'systemexception': 1, 'separatly': 1, 'undefinded': 1, 'leaking': 2, 'simplejdbctemplate': 2, 'udl': 1, '0x77081d76': 1, 'ntdlldll': 1, 'stereo': 1, 'visionexe': 1, '0x00000014': 1, 'systemreflection': 1, 'jqueryparsejson': 2, 'forceful': 1, 'wap': 1, 'shut': 3, 'uigesturerecognizers': 1, 'uiviews': 5, 'threat': 1, 'elem': 1, 'formsubmit': 3, 'rangeformulaarray': 1, 'formulaarrays': 1, 'streamseek': 1, 'seekoriginbegin': 1, 'bootstrapsass': 2, 'xmljavatypeadapter': 1, 'text_field_tag': 1, 'writeablebitmap': 2, 'appclassgetresourceasstream': 1, 'testproperties': 1, 'inputmismatchexception': 2, 'proxy0': 1, 'interfacespatient': 1, 'protoc': 2, 'date_part': 1, 'yyyymmddn': 1, 'bogus': 1, 'advertised': 1, 'authplain': 1, 'statementexecuteupdate': 1, 'jsonconverters': 1, 'readjson': 1, 'datasetwritexml': 1, 'peers': 2, 'erroneous': 2, 'scriptsrender': 1, 'makerchecker': 1, 'u001b': 1, 'systemdbnull': 2, 'systembyte': 4, 'tablepertype': 1, 'texts': 1, 'zoomsetting': 1, 'listdouble': 2, 'transitive': 3, 'yielded': 2, 'modelget': 1, 'spacemargin': 1, 'itextsharpitext': 1, 'colonseparated': 1, 'inetaddress': 1, 'inet6': 1, 'customwindows': 1, 'createdon': 1, 'nsvalidationerrorobject': 1, 'bootbox': 1, 'setvisibility': 1, 'smtphandler': 1, 'usermapped': 2, 'winmain': 1, 'wwinmain': 2, 'sigma': 1, 'paramh': 1, 'inhertiance': 1, 'wpdbinsert': 2, 'htmlembedded': 1, 'chromestorage': 1, 'markov': 3, 'chains': 1, 'avcodec_encode_video2': 1, 'avcodec_decode_video2': 1, 'shgetimagelist': 1, 'shgetfileinfo': 1, 'batchfile': 1, 'senchatouch20': 1, 'addref': 1, '3rdparty': 1, 'explanatory': 1, 'articles': 8, 'polly': 1, 'mysqli_stmtget_result': 1, 'chromeextension': 2, 'subdir': 1, '_main': 1, 'saveandflush': 1, 'simplejparepository': 1, 'serializationexception': 4, 'verifing': 1, 'spreadsheet_excel_reader': 2, 'retrived': 1, 'insertobjectatindex': 2, 'specificviewaspx': 1, 'mvcnet': 2, 'x+': 1, 'tweak': 2, 'cuts': 1, 'linkextractor': 1, 'modellevel': 1, 'autoconnect': 1, 'yx': 1, '142s': 1, 'c2731': 1, 'improvements': 2, 'rewritebase': 1, 'perdirectory': 1, 'featured': 3, 'loadstringw': 1, 'toplinks': 1, 'magentos': 2, 'pagexml': 2, 'atm': 2, 'queuing': 1, 'nginix': 1, 'retype': 1, 'sessions#destroy': 1, 'quartzcore': 1, 'cicolorh': 1, 'applicationquit': 1, 'multi_json131': 1, 'applicationhelpertestfill_in': 1, 'xxxdll': 1, 'sha': 1, 'qaudiooutput': 1, 'encountering': 2, 'underrunerror': 1, 'drivermanagerdatasource': 1, 'accumulator': 2, 'cows': 1, 'numpyloadtxt': 2, 'lineheight': 1, 'codeigniters': 5, 'gccollect': 2, 'php+jquery': 1, 'applicationcurrentdispatcher': 1, 'dependencyobjectdispatcher': 1, 'resouce': 1, 'counted': 1, 'pyrebase': 1, 'wikipedia': 5, 'xmldataprovider': 2, 'medfilt2': 1, 'def': 3, 'exhibition': 1, 'verisign': 1, 'obtrusive': 1, '00120': 1, 'ipermission': 1, '__construct': 4, 'reflect_on_association': 1, 'classclass': 1, 'islamic': 1, 'prayer': 2, 'curiosity': 2, 'rewritecond': 1, '__setstate__': 1, '__getstate__': 1, 'systemcollectionsgenericilist1': 1, 'chamilo': 1, 'pyodbc': 2, 'cdf': 3, 'c2039': 3, 'stdbasic_fstream': 1, 'ionicplatformready': 1, 'directing': 3, 'nyt': 1, 'archives': 3, 'overlapped': 3, 'processcrash': 1, 'priori': 1, 'xmlhttpresponseresponsetext': 1, 'mousedrag': 1, 'nsinvalidunarchiveoperationexception': 1, 'invariance': 1, 'contravariance': 1, 'uninitalized': 1, 'urandom': 1, 'apicentric': 1, 'iso88599': 1, 'smtplivecom': 2, 'connect_time': 1, 'atl': 1, 'numbermax_value': 1, '17976931348623157e+308': 1, '9007199254740992e+1024': 1, 'flipview': 2, 'responcegetentity': 1, 'xmlbuilder': 2, 'prepareeditor': 1, '406': 2, '_pluck': 1, 'mongojavadriver293jar': 1, 'exceptiongetmessage': 1, 'lglut32': 1, '21000': 1, 'update_column': 1, 'ns_error_file_corrupted': 1, 'tdcontent': 1, 'licontent': 1, 'rabbit': 1, 'rhc': 1, 'urlresource': 1, 'connectionthe': 1, 'closedwhile': 1, 'denies': 1, 'stripestripecharge': 1, 'behaviors': 2, 'xmldocumentloadxml': 1, 'gapiauthauthorize': 1, 'findquery': 1, 'tomorrows': 3, 'selenium2': 1, 'imutils': 1, '02': 1, '07': 1, 'ages': 2, 'v200beta2': 1, 'misunderestanding': 1, 'nupkg': 1, 'drill': 3, 'listanimal': 1, 'tiger': 1, 'arraylisttiger': 1, 'boostasiobased': 1, 'upvalues': 1, 'doubleanimationusingkeyframes': 1, 'takeordered': 1, 'candidates': 3, 'flagsort': 1, 'x27': 1, 'x22': 1, 'mathround': 8, 'entitydatasource': 3, 'thissetvalues': 1, 'favicons': 1, 'oci_connect': 1, 'malloced': 1, 'staticaly': 1, 'subscripted': 2, 'opensslsslsslerror': 1, 'provideruserkey': 1, 'v21': 1, 'windowopener': 2, 'vc++6': 1, 'orgosgiframeworkbundleexception': 1, 'orgeclipseequinoxconsole': 1, 'bom': 1, 'array_key_exists': 2, 'fswritefile': 1, 'yyyymmddthhmmsssssz': 2, 'dereferenceing': 1, 'objectfactorygetinstance': 1, 'fseek': 1, 'occupying': 2, 'emittergravity': 1, 'ccparticlesystemquad': 1, 'systemtimers': 2, 'sqlcode723': 1, 'mybase': 1, 'uipangesturerecognizer': 2, 'touchesbegan': 3, 'fileeachfile': 1, 'cmap': 1, 'selfupdating': 1, 'beautifulsoupfind': 1, 'aspxcheckbox': 1, 'date_field': 1, 'kmeans': 1, 'argumentnullexception': 2, 'filterexpression': 1, 'focusing': 1, 'popupwindow': 1, 'defaultproxy': 2, 'nonkeyword': 2, 'suds': 1, 'saxparseexception': 2, 'isenabledfalse': 1, 'stackable': 1, 'assemblyloadfile': 1, 'multiselected': 1, 'cinfail': 1, 'geospatial': 1, 'rawqueryset': 1, 'topological': 1, 'anonymouspipeserverstreamread': 1, 'systemintptr': 1, 'pdfdocument': 1, 'datepickerios': 1, 'uiviewcontrollerhellodelegate': 1, 'tablesorterjs': 1, 'knock': 1, 'jniexport': 1, 'jroute_': 1, 'multipartformdata': 1, 'fakerequest': 1, 'sink': 1, 'dup2': 1, 'oraclecommands': 1, 'jsoninclude': 2, 'commercial': 3, 'lifo': 1, 'expectedexception': 1, 'emptyborder': 1, 'flushmodemanual': 1, 'qobjects': 1, 'datable': 1, 'activerecordodbcadapter': 1, 'imagecrop': 1, 'cprinting': 1, 'allowpartiallytrustedcallersattribute': 1, 'line_plot': 1, 'experience': 6, 'intstream': 1, 'globaljsp': 1, 'jspc': 1, 'cq5': 3, 'archtype': 1, 'legible': 1, 'standalonexml': 2, 'dialectresolutioninfo': 1, 'hibernatedialect': 1, 'guessers': 1, 'setcursorpos': 1, 'bufferedimages': 1, 'hog': 1, '0xcccccccc': 1, 'mining': 4, 'postscontroller': 1, 'redacted': 1, 'arraysstringaslist': 1, 'emailing': 1, 'pyvmomi': 1, '++counter': 1, 'counter++': 1, 'bdd': 1, '1314': 1, 'cucumberjava': 1, 'stdofstream': 1, 'guestbook': 1, 'parallelism': 3, 'odbc_num_rows': 1, 'scannerhasnextline': 1, 'ctrl+z': 1, 'imagechops': 1, 'perenvironment': 1, 'propertyplaceholder': 1, 'pdos': 1, 'validateerror': 1, 'timespanfromhours': 1, 'hrs': 1, 'emptystacks': 1, 'ecancel': 2, 'classisinstance': 1, 'objc2': 1, 'captureelement': 1, 'bufferstrategygetdrawgraphics': 1, 'fullscreenexclusive': 1, 'ancestor': 7, 'phoneattribute': 1, 'urlattribute': 1, 'dio_read': 1, 'mp': 1, 'kannada': 1, 'copywin32resources': 1, 'frozing': 1, 'iresourcestream': 1, 'myresources': 1, 'qstringlist': 3, 'assetdatabaserefresh': 1, 'invalidating': 4, 'not_contains': 1, 'codecs': 1, 'assetpipeline': 1, 'stringposition': 1, 'uitapgesturerecognizer': 1, 'htacess': 1, 'window_loaded': 1, 'patched': 1, 'indivdual': 1, 'modularly': 1, 'dup': 1, 'xbox': 3, 'objectstylecolor': 1, 'unhex': 2, 'convincing': 1, 'unsuccessful': 4, 'hreflink': 1, 'solvedefault': 1, 'vamos': 1, 'unchangable': 1, 'listenum': 1, 'arrayindexofobjectpassingtest': 1, 'ee6': 1, 'commence': 1, 'binaryreaderread': 1, 'binaryreaderreadbytes': 1, 'timestampable': 1, 'disks': 1, 'java+jni': 1, 'bunch': 4, 'httpsolrserver': 2, 'pcl': 1, 'columnchart': 1, 'john': 3, '4294967295': 2, 'htmlulistelement': 1, 'unresolvable': 1, 'javaexe': 4, 'httpprovider': 1, 'systemplatformnotsupportedexception': 1, 'sapi': 1, 'assemblythe': 1, 'webbrowserdocumentdomdocument': 1, 'sln': 2, 'subcomponents': 1, 'braced': 1, 'backbutton': 2, 'capacity': 5, 'droolsnet': 1, 'cubic': 3, 'csharp': 5, 'mainloop': 3, 'waitfor': 2, 'systemsecuritycryptographyaes': 1, 'haxisgridlinescount': 1, 'domelement': 4, 'uint8array': 2, 'sqlite3_load_extension': 1, 'fprintf': 3, 'whith': 1, 'expressionactiont': 1, 'methodcall': 1, 'artifacts': 8, 'expire_action': 1, 'wakelock': 1, 'sampler': 1, 'bsf': 1, 'postprocessor': 1, 'riddles': 1, 'winjsuirepeater': 1, 'rot13': 2, 'caps': 4, 'cheap': 2, 'pyjamas': 1, 'pyjs': 1, 'invalidation': 1, 'javaniobuffer': 1, 'glvertexpointer': 1, 'interception': 1, 'licence': 2, 'viewwilllayoutsubviews': 2, 'reoccurring': 1, 'prod': 1, 'colorname': 1, 'doubleisnan': 1, 'clientidmodeautoid': 1, 'jsonifyed': 1, 'publickey': 4, 'fancybox134': 1, 'initialised': 2, 'getlocalsocketaddress': 1, 'getremotesocketaddress': 1, 'facesontext': 1, 'zoomin': 1, 'categoryaxis': 1, 'eclispe': 1, 'passwordbox': 2, 'inprivate': 1, 'incognito': 1, 'editfor': 1, 'roulette': 1, 'orgcodehausjacksonmapjsonserializablewithtype': 1, 'uidatepickermodecountdowntimer': 1, 'clientscriptregisterstartupscript': 1, 'occures': 1, 'insertadjacenthtml': 1, 'restructure': 1, 'postcode': 2, '#ifndef': 1, 'traceback': 3, 'gained': 1, 'ospathsupports_unicode_filenames': 1, 'tank': 1, 'breadthfirst': 1, 'date_format': 1, 'dispatcherbegininvoke': 1, 'namespacing': 1, '2mb': 3, 'xtratab': 1, 'ajaxformsubmitbehavior': 1, 'ifstatement': 4, 'willset': 1, 'didset': 1, 'uiapplication': 2, 'sharedapplication': 1, 'openurl': 1, 'jslint': 1, 'sethttpbody': 1, '655': 1, '612': 1, 'meta_query': 1, 'persistenly': 1, 'java7': 3, 'ressetcontenttype': 1, 'downloaing': 1, 'javaxwsrsproduces': 1, 'mediatypes': 1, 'emitting': 3, 'qrunnable': 1, 'bing': 1, 'userinteraction': 2, 'libstdc++': 2, 'glcapabilities': 1, 'noinput': 1, 'v70': 1, 'mysqlsyntaxerrorexception': 1, 'getlist': 2, 'comparehist': 1, 'cfnotificationcenteraddobserver': 1, 'session_unregister': 1, 'iis75': 2, 'py3k': 1, 'endcoding': 1, 'meteorhttppost': 1, 'arraylike': 2, 'interactivepopgesturerecognizer': 1, 'messagetype': 1, 'listdictionarystring': 1, 'ing': 1, 'orgjbossnettychannelsocketnio': 1, 'encoder': 5, 'precomputed': 1, 'promp': 1, 'keypad': 1, 'dataformatstring': 3, 'comsunmirrorapt': 1, 'h10': 2, 'indexfile': 1, 'ruby_noexec_wrapper': 1, 'yaxix': 1, '16b': 1, 'springbind': 1, 'statuserrormessage': 1, 'infowindowclose': 1, 'validationmessage': 1, 'callable__': 1, 'updater': 1, 'rlelike': 1, 'catches': 3, 'stealing': 6, 'ifmodified': 1, 'int32_t': 1, '3010': 1, 'c#indexed': 1, 'animator': 2, 'hpp': 2, 'c4251': 2, 'consolewriteln': 1, 'readtable': 3, 'uprgrading': 1, '++it': 1, 'it++': 1, 'arrayadapterstring': 1, 'orgjunit': 1, 'dialogform': 1, 'sktexturefilteringnearest': 1, 'sktextureatlas': 1, 'bcrypt': 2, 'all_build': 1, 'zero_check': 1, 'crudrepositority': 1, 'cfakepath': 1, 'expectmessage': 1, 'accordingtoscreenresolution': 1, 'ienumerablexelement': 2, '40417': 1, 'mysqldatareadergetbytes': 1, 'handleopenurl': 1, 'prepersist': 1, 'loginsystems': 1, 'iosapps': 1, 'urlsafe': 1, 'mailhandlerphp': 1, 'contacthtml': 1, 'nonissue': 1, 'psychsyntaxerror': 3, 'definitionand': 1, 'ie7ie8': 1, 'minimums': 1, 'javascriptapplied': 1, 'metatags': 1, 'negatives': 1, 'timezoneinfogetsystemtimezones': 1, 'facebox': 1, 'expiredurl': 1, '134217728': 1, 'stanfordcorenlp': 1, 'securityerror': 1, 'nonmanaged': 1, 'shortdatetime': 1, 'panes': 1, '141': 2, 'istreamignore': 1, 'qtoolbar': 1, 'parking': 1, 'contention': 2, 'windowonunload': 1, 'typical': 4, 'xmlbeans': 1, 'reverting': 2, 'office356': 1, 'applyblurwithradius': 2, 'current_useris_authenticated': 1, 'domrepeat': 1, 'erea': 1, 'trucncated': 1, 'impressions': 1, 'before_update': 2, 'javascriptbased': 1, 'serverfree': 1, 'attributedstring': 1, 'geom_violin': 1, 'bindy': 1, 'synchronising': 1, 'studiio': 1, 'buildgradle': 1, '245': 2, 'ggsave': 2, 'pragma': 3, 'oleddb': 1, 'autoscaffolder': 1, 'rereading': 1, 'abs': 1, 'requestscope': 3, 'datagridviewlinkcell': 1, 'orgapachecommonsmathstatstatutils': 1, 'engnotation': 1, 'topbar': 1, 'std_lockit': 1, 'timedout': 2, 'updatepanels': 1, 'applicationinitializer': 1, 'c2057': 1, 'coffeescriptjs': 1, 'magickimage': 1, 'qt45': 1, 'reduxpersist': 1, 'ctooltipctrl': 2, 'mysqlconnector': 1, 'elf': 1, 'compleately': 1, 'displaydatechanged': 1, 'filesystemexception': 1, 'filescreatesymboliclink': 1, 'fillopacity': 1, 'mailmessagebody': 1, 'modelphp': 1, '827': 1, 'binary_search': 1, 'setthreadexecutionstate': 1, 'travelling': 1, 'salesman': 1, 'php+curl': 1, 'systemserviceprocessservicebase': 1, 'unwinding': 1, 'mkcircle': 1, 'csvdictreader': 2, 'stdfunction': 7, 'cbt': 2, '154': 1, 'xcode5': 2, '___umodsi3': 1, 'datagridtextcolumn': 1, 'allowfileaccessfromfiles': 1, 'validates_numericality_of': 1, 'runtimetypehandle': 1, 'unescaped': 2, 'djangoapp': 1, 'explore': 2, 'addtoset': 1, 'fieldsets': 1, 'bufferoverflowulib': 1, 'taskdelay': 3, 'pg_fetch_all': 1, 'poolapply_async': 1, 'anglarjs': 1, 'qlr': 1, 'stability': 1, 'delayed_job': 1, 'cel': 1, 'infor': 1, 'setflash': 1, '20000': 1, 'defaultconstructed': 1, 'onanimationend': 1, '__objc__': 1, 'windowserror': 2, '183': 1, 'uiviewexclusivetouch': 1, 'apprequest': 2, 'uints': 1, 'convexitydefects': 1, 'ngapp': 1, 'jtext_': 2, 'entryset': 1, 'collectioncreate': 2, 'prims': 1, 'linklabel': 1, 'contenturl': 1, 'sysexcepthook': 1, 'hasrole': 2, 'htmlbeginform': 1, 'highlite': 1, 'simplecursoradapter': 1, 'ii': 2, 'findbugs': 1, 'arraycopy': 2, 'clientcontextloads': 1, 'textareahow': 1, 'systemwebuiwebcontrolsbutton': 2, 'systemwebuiwebcontrolslinkbutton': 1, 'qualitytoolsunittestframework': 1, '12000': 1, 'templatetag': 1, '#9679': 1, 'externalizable': 1, 'mvs': 1, 'wait_object_0': 1, 'status_wait_0': 1, 'prefilled': 1, 'c2106': 2, 'error_log': 1, 'insists': 1, 'encodingasciigetstring': 1, 'apprequests': 1, 'serviceclient': 1, 'getint': 2, 'shfileopstruct': 1, 'rep': 1, 'qsize': 1, 'rescrape': 1, 'toolkitscriptmanagercs': 1, 'githubcom': 1, 'sstephenson': 1, 'execjs': 1, 'runtimes': 1, 'ipendpoint': 2, 'deadline': 1, 'datetimepickers': 1, 'keyset': 2, 'x509certificate2': 2, 'fbconnect': 1, 'clockpicker': 1, 'optimisation': 1, 'chosing': 1, 'demonstration': 1, 'lucky': 2, 'workbookbeforeclose': 1, 'imaps': 1, 'readiness': 1, 'reconstruct': 1, 'passwordfield': 1, 'spatials': 1, '42s22': 3, 'mi': 1, '149': 1, 'javapairrddmax': 1, 'viewvisible': 1, 'addcls': 1, 'shorten': 4, 'dyld': 2, 'rpath': 3, 'libswift_stdlib_coredylib': 2, 'experimental': 1, 'log_2': 1, 'unweighted': 1, 'undirected': 3, 'mode_world_writeable': 1, 'hrtimers': 1, 'clockid_t': 1, 'webrequestgetresponse': 1, 'onsteptimeout': 1, 'ushort': 4, 'listappend': 1, 'rstudiogd': 1, 'create_no_window': 1, 'oddly': 2, 'switchtothiswindow': 1, 'qlistview': 2, 'concurrentbagt': 1, 'mvc6': 2, 'orgjadirausertypedateandtimejodaintegratorusertypejodatimehibernateintegrator': 1, 'assemblygettype': 1, 'enrich': 1, 'httpruntimecacheinsert': 1, 'wsdl2java': 2, 'cfiledialog': 1, 'systemarray': 2, 'stella': 1, 'remotewebdriver': 1, 'readlock': 1, 'sales': 3, 'reducer': 2, 'wideimage': 1, 'nonentities': 1, 'unidentified': 1, 'mysqlifetch_array': 1, 'imagestring': 1, 'owlcarousel': 2, 'py32': 1, 'divicon': 1, 'detectenvironment': 1, 'mvn': 8, 'drags': 1, 'exploded': 4, 'aspnetmaxjsondeserializermembers': 1, 'subprofiles': 1, 'pdfing': 1, 'fridays': 1, 'hbm': 1, 'colorlightgreen': 1, 'emberstate': 1, 'involves': 2, 'instancescount': 1, 'players': 4, 'snakeimage': 1, 'dragdropped': 1, 'c2448': 1, 'functionstyle': 2, 'ngkeypress': 1, 'immutablemultidict': 1, 'isauthorized': 1, 'httpclientconnecttimeouterror': 1, 'fb_graph': 1, 'beforeremove': 1, 'mutators': 1, 'fixedcolumns': 1, 'hiddenbscollapse': 1, 'dictonary': 1, 'routereusestrategy': 1, 'shoulddetach': 1, 'clobbering': 1, 'vtbl': 1, 'stylemaxheight': 1, 'traditionally': 1, 'isfinite': 1, 'elementappendchild': 1, 'delimiterbasedframedecoder': 1, 'pubsetbuf': 1, 'unbinding': 1, 'jvt': 1, 'applicationcontextaware': 1, 'enforced': 1, 'table_uiprefs': 1, 'staticfilehandler': 1, 'tagbuilder': 1, 'excanvasjs': 1, 'hotmail': 3, 'metering': 1, 'statego': 2, 'isformfield': 1, 'ulli': 4, 'remains': 3, 'teach': 3, 'marketing': 1, 'masterdetailpage': 1, 'capitalise': 1, 'orghibernatesessionfactoryopensession': 1, 'scopemvpsetuntouched': 1, 'loginconfig': 1, 'look#input': 1, 'unicodewarning': 1, 'curl_easy_perform': 1, 'stor': 1, 'smoke': 1, 'dragn': 1, 'hight': 1, 'javaiofilelength': 1, 'simulators': 1, '#selector': 1, 'abuse': 1, 'numpygenfromtxt': 2, 'xamlcompiler': 1, 'wmc1006': 1, 'xxxyyyzzz': 1, 'stringwhitespace': 1, 'ical': 1, 'laser': 1, 'invaders': 1, 'gitlab50': 1, 'hasheach': 1, 'itersleft': 1, 'emailmultialternatives': 1, 'win2003': 1, 'javalangstringreplace': 1, 'orgjacoco': 1, 'jacocomavenplugin': 1, 'actioncontroller': 1, 'storefind': 1, 'backbonecollectionprototypeadd': 1, 'mn': 1, 'resub': 3, 'loginform': 1, 'stdgnu++11': 1, 'allow_destroy': 1, 'jrdatasource': 1, 'ns2': 1, 'routinesssl23_get_server_helloreason': 1, '1112': 2, 'todolistitemview': 1, 'userscontroller': 3, 'alogrithm': 1, 'rserver': 1, 'xamarinauth': 1, 'ssl_ctx_new': 2, 'c2784': 1, 'exepath': 1, 'configurationmanageropenexeconfiguration': 1, 'mystringreplace': 1, 'check_phone': 1, 'ora00936': 2, 'sqlite3programmingerror': 1, 'bbq': 1, 'waithandle': 1, 'reactivevar': 1, '10002': 1, 'systemdrawingregion': 1, 'timestring': 2, 'heartbeats': 1, 'beat': 2, 'ic': 1, 'default_url': 2, 'boost_param_test_case': 1, 'boosttest': 1, '#inject': 1, 'msie': 1, 'hashchange': 3, 'systemgetproperty': 2, 'userhome': 1, 'packagejson': 3, 'page_loadcomplete': 1, 'squre': 1, 'datapoints': 1, 'beeswarm': 1, 'scriptbundle': 2, 'tristate': 3, 'unknowns': 1, 'cacheclear': 1, 'envprod': 1, 'nodebug': 1, 'point3d': 2, 'spherical': 1, 'magnifier': 1, 'socket_recv': 1, 'formfile': 1, 'codefileregistrationaspxcs': 1, 'nvp': 1, '81002': 1, 'gestures': 1, 'adjusted': 2, 'notboundexception': 1, 'actionform': 1, 'phpserial': 1, 'tryerror': 1, 'domresult': 1, 'glteximage2d': 3, 'jswebkit': 1, 'integermax_value': 2, 'count_recursive': 1, 'nonarray': 1, '001': 2, '010': 3, 'neterr_insufficient_resources': 1, 'deosnt': 1, 'cr': 3, 'lf': 2, 'getintextra': 1, 'strtotime': 5, 'ouputting': 1, 'array_count_values': 2, 'admintabularinline': 1, 'preinstall': 1, 'cookbooks': 2, 'gemspecificationplatform_cross_targets': 1, 'digitalread': 1, 'documentqueryselectorall': 1, 'cypher': 3, 'parsedouble': 3, '28000': 1, 'guides': 1, 'uriescape': 2, 'cgiescape': 1, 'mvcreportviewer': 1, 'll1': 1, 'destructing': 1, 'microsoftdotnetprojectmodel': 1, 'travisci': 1, 'pylabhist': 1, 'normed1': 1, 'systemwebwebpages': 2, 'neterr_name_not_resolved': 1, 'traincascade': 1, 'webbrowserprint': 1, 'commandlets': 1, 'radiobuttonfor': 1, 'desaturate': 1, 'nonfullscreen': 1, 'locateregistrycreateregistry': 1, 'fileplease': 1, 'abcreatestringwithaddressdictionary': 1, 'faviconico': 2, 'session_expire_at_browser_close': 1, 'singletonmodel': 1, 'oauth_access_token': 1, 'facebooksdk': 2, 'mysqli_select_db': 1, 'locationno': 1, 'tamil': 1, 'javafacebookapi': 1, 'fbcanvassetautoresize': 1, 'appuse': 1, 'helo': 1, 'rfc2821': 1, '4111': 1, 'memory_limit': 2, 'valueeventlistener': 1, 'childeventlistener': 1, 'securitycontext': 2, 'stmtfetch': 1, 'pdofetch_assoc': 2, 'javacsublimebuild': 1, 'nsunknownkeyexception': 1, '0x8a45930': 1, 'setvalueforundefinedkey': 1, 'clientscriptmanager': 1, 'wndproc': 1, 'implementaion': 1, 'absent': 1, 'converts': 9, 'shutdownhook': 1, 'dispose_on_close': 1, 'exit_on_close': 1, 'yui': 1, 'engineer': 2, '0x00000100': 1, 'spinlock': 1, 'configlocation': 1, 'supplementary': 2, 'soapfault': 5, 'javaionotserializableexception': 2, 'webpacks': 1, 'domnode': 1, 'popupview': 1, 'nouns': 1, 'bootstrap_form': 1, 'rails_bootstrap_forms': 1, 'httpcontextuseridentityname': 1, 'msienumrelatedproducts': 1, 'msigetproductinfo': 1, 'abecedarian': 1, 'langauge': 3, 'grandchild': 3, '#26321': 1, 'hsql': 1, 'listclear': 1, 'length20': 1, 'index20': 1, 'devc++': 2, 'processwaitforinputidle': 1, 'preprocesser': 1, 'diffrence': 1, 'cc1': 2, 'unrecognised': 1, 'recordgccswitches': 1, 'radiating': 1, 'xxxxbindebugprojectdll': 1, 'nsfetchrequestresult': 1, 'mnemonics': 1, 'stringescapeutils': 1, 'sublines': 1, 'selenuim': 1, 'stringescapeutilsunescapehtml': 1, 'nanoscroller': 1, 'rewind': 4, 'guis': 5, 'popupish': 1, 'require_from_group': 1, 'encompass': 1, 'conjunctions': 1, 'prepositions': 1, 'dotenv': 1, 'linked_files': 1, 'uniqueid': 1, 'autoscale': 2, 'tablewidgets': 1, 'itemat': 1, 'weirdly': 1, 'swtichto': 1, 'mapkeypath': 1, 'forkexec': 1, 'pulseall': 1, 'os_xpc_error': 1, 'captiona': 1, 'sdl_setvideomode': 1, 'enclosed': 6, 'reexecute': 1, 'fixefox': 1, 'progressive': 1, 'cc_on': 1, 'combinefileinputformat': 1, 'traced': 1, 'contenu': 1, 'lments': 1, 'doit': 1, 'inclure': 1, 'un': 3, 'balisage': 1, 'ou': 1, 'caractres': 1, 'au': 1, '185': 2, 'bmi2577777777777778': 1, 'obscenities': 1, 'fsock': 1, 'infrequently': 1, 'audit': 2, 'signon': 1, 'iprincipal': 1, 'repeateritem': 1, 'formhas_errors': 1, 'formerrors': 1, 'docklayoutpanel': 1, 'rethrown': 1, 'dojoconnect': 1, 'leveraging': 2, 'deviceready': 3, '350021': 1, 'seperatly': 1, 'transfered': 1, 'googlemapslatlng': 2, 'javaxfacesmodelselectitem': 1, 'mysqlimysqli': 1, '1044': 1, 'krolls': 1, 'stemming': 2, 'instancespecific': 1, 'javaxservlethttp': 2, 'datepickers': 2, 'systemdatalinqbinary': 1, 'responsexml': 2, 'outofbounds': 2, 'pandasdataframeplothexbin': 1, 'clientbased': 1, 'datarowview': 2, 'mailmessage': 1, 'advancedby': 1, 'ifstatements': 2, 'unauthorizedexception': 1, 'numpyrandomdirichlet': 1, 'pertain': 1, 'vaules': 1, 'systemdataoracleclient': 1, '817': 1, 'registerhelper': 1, 'registerboundhelper': 1, 'unpublished': 1, 'gwtincubator': 1, 'req_perms': 1, 'ext_perms': 1, 'channelwrite': 1, 'wnohang': 1, 'puttext': 1, 'comet': 1, 'csb': 1, 'committing': 2, 'notfoundexception': 2, 'depndant': 1, 'implemenation': 1, 'beginwritetransaction': 1, 'rlmrealm': 1, 'delegatinghandler': 1, 'oauthauthorizationserver': 1, 'cicle': 1, 'rewriteengine': 1, 'authuserfile': 1, 'hes': 1, 'jim': 1, 'multitenantaspnet': 1, 'excute': 2, 'numerals': 3, 'zoomed': 1, 'button_click': 1, 'localhost27017': 1, 'sslpeerunverifiedexceptionpeer': 1, 'ignoresslissues': 1, 'stiching': 1, 'formatexception': 2, 'array_walk': 1, 'overall': 1, 'datareceived': 2, 'sessioncontains': 1, 'clazz': 1, 'getwindowinformationinternal': 1, 'nodejsserved': 1, 'actioncontrollerunknownformat': 2, '237mb': 1, '70mb': 1, 'synonyms': 2, 'stylesrender': 1, 'multiuser': 1, 'progammatically': 1, 'jfree': 3, 'simplemodal': 1, 'dexpathlist': 1, 'writefile': 4, 'winbase': 1, 'tablelike': 1, 'tenth': 1, 'applicationauthication': 1, 'minitab': 1, 'shovel': 1, 'plusequals': 1, 'plusminutes': 1, 'invalid_parameter': 1, 'functionwide': 1, 'comsunjerseyguicespicontainerservletguicecontainer': 1, 'oracledataaccessclientoracleconnectionopen': 1, 'gpumat': 1, 'cgaffinetransformmakerotation': 1, 'cgaffinetransformrotate': 1, 'orghibernatesessionexception': 1, 'drives': 2, 'uno': 3, 'pageflip': 1, 'adminmodeladmin': 1, 'columnvisblefalse': 1, 'beforesend': 1, 'memorable': 1, 'selective': 3, 'singleabstractmethod': 1, 'interruption': 2, 'awareness': 1, 'wireframe': 2, 'startanimating': 1, 'sequenceequal': 1, 'centralizing': 1, 'rowcount': 2, 'runspace': 1, 'cv2ml_knearest': 1, 'find_nearest': 1, 'lets': 2, 'objectchangelistener': 1, 'xmlnodelistcount': 1, 'xmlnodelistitem': 1, 'zxing': 1, 'weakhashmap': 1, 'crosscompile': 2, 'getordefault': 1, 'putifabsent': 1, 'downloadfile': 1, 'marquee': 4, 'kriesi': 1, 'getfields': 2, 'layoutkindsequential': 1, 'fastforward': 1, 'mmvm': 1, 'networkerror': 2, 'uploadphp': 1, 'defaultdate': 1, 'javasql': 3, 'javasqldatetime': 1, 'webapplicationexception': 1, 'ahover': 1, 'startapp': 1, 'enabledocumentfunction': 1, 'debugassert': 1, 'eventpreventdefault': 4, 'xxxxxxxxdll': 1, 'behined': 1, 'to__atomic_fetch_add_4': 1, 'aescryptoserviceprovider': 1, 'pebble': 1, 'requirerole': 1, 'selectfield': 1, 'rectmove': 1, 'efninit': 1, 'pricing': 1, 'decodings': 1, 'javalangindexoutofboundsexception': 2, 'tying': 1, 'drawcalls': 1, 'cyberlevel9c1731': 1, 'newdirectbytebuffer': 1, 'listarray': 1, 'transformed': 1, 'gate': 1, 'scrolldown': 1, 'ienumable': 1, 'enumerablerowcollection': 1, 'sp_executesql': 1, 'jdbcpostgresql': 1, 'rijndaelmanaged': 1, 'htmlraw': 1, 'jsonencode': 2, 'valiadation': 1, 'curls': 2, 'asynchdns': 1, '712': 3, 'itertoolsproduct': 1, 'systemservicemodelclientbaseopen': 1, 'uialertviews': 2, 'memberwise': 1, 'initialiser': 1, 'lual_dostring': 1, 'basic_resolver_query': 1, 'wituout': 1, 'numerics': 1, 'coretoolbar': 1, 'tall': 1, 'buddhist': 2, 'listfiles': 1, 'fxml': 2, 'coffescript': 1, 'userdir': 2, 'stringbyappendingpathcomponent': 1, 'calayers': 4, 'cornerradius': 1, 'neterr_quic_protocol_error': 1, 'knet': 1, 'n1': 1, 'sqldatetimeminvalue': 1, 'icollectiont': 4, 'untyped': 1, 'multiprocessingmanagerlist': 1, 'stringwriter': 1, 'jcomponent': 1, 'mysqlerror': 1, 'gethostbyname': 1, 'argumentcaptor': 1, 'javabased': 4, 'backgroundmediaplayer': 1, 'far': 8, 'parallaxstyle': 1, 'stretchy': 1, 'hacks': 2, 'dnx': 1, 'c4703': 1, 'pnamesptr': 1, 'httpwebreqest': 1, 'csvlike': 1, 'fosrestbundle': 1, 'ftoa': 1, 'num': 4, 'databaseblog_posts': 1, 'lesscss': 1, 'nonvector': 1, 'jmsi18nroutingbundle': 1, 'ngmodeldatefmt': 1, '20150529t190616693209z': 1, 'dialobox': 1, 'ufunc': 1, 's32': 3, 'theorem': 2, 'lasagne': 1, 'entitylistener': 1, 'sos': 1, 'colorsys': 1, 'fullform': 1, 'anchorlike': 1, 'multiarray': 1, 'tabhost': 2, 'stdmapemplace': 1, 'multible': 1, 'printservicelookuplookupprintservice': 1, 'wherein': 2, 'assertions': 3, 'unexpectedalertpresentexception': 1, 'purely': 4, 'zend_db_adapter': 1, 'weave': 1, 'schedulers': 2, 'unschedulejob': 1, 'rglplot3d': 1, 'branches': 2, 'unifdef': 1, 'louder': 1, 'diceroll': 1, 'accommodate': 3, 'imagecopyresized': 1, 'imagecopy': 2, 'setresponsepage': 1, 'manipulated': 1, 'comappleproducttypebundleuitesting': 1, 'iphonesimulator': 1, 'injectors': 1, 'stdpromise': 1, 'djangounicodedecodeerror': 1, 'force_unicode': 1, 'deletebyquery': 1, 'boostshared_ptr': 2, 'bitconverter': 1, 'proxy96': 1, 'ticketappdatesfacade': 1, 'jsps': 4, 'readdir': 1, 'dataprovider': 1, 'nullpointer': 7, 'conncreatestatement': 1, 'coverting': 2, 'swrevealviewcontroller': 1, 'programmetically': 1, 'ccsave': 1, 'httpcontextcurrentsessionid': 1, 'systemwindowsnidll': 1, 'comandroidnpp': 1, 'acr122': 1, 'nfcstatus_invalid_state': 1, 'windowalert': 1, 'mouseevents': 1, 'promo': 1, 'factory_girl': 1, 'leakage': 2, 'prerolling': 1, 'loginservlet': 1, 'twisteds': 1, 'modulespecific': 1, 'setcontextclassloader': 1, 'curl_setopt': 3, 'requestenv': 1, 'omniauthauth': 1, 'ux00': 1, '1452': 1, 'selectedtext': 1, 'falcon': 1, 'metaprograming': 1, 'uitextfieldtext': 1, 'imageioread': 1, 'textviewbuffertype': 1, 'icommandcanexecute': 1, 'namespacehandler': 1, 'initials': 1, 'websession': 1, 'preparing': 3, 'androidosbuild': 1, 'invitation': 1, 'sysyem': 1, 'addressfilter': 1, 'fancybox2': 1, 'fancyboxresize': 1, 'highperformance': 1, '4th': 3, 'javautilarraylistadd': 1, 'javalangfloat': 1, 'systemwindowsformsstring': 1, 'iwin32window': 2, 'remote_host': 1, 'human_time_diff': 1, 'autoimplemented': 6, 'systemlinqexpressionsexpressionlike': 1, 'iset': 1, 'autoexpand': 1, 'qsortfilterproxymodel': 1, 'polygonline': 1, 'authlogin': 1, 'myappcom': 1, 'marking': 4, 'autoloading': 3, 'collectionvalued': 1, 'ccrbtakes': 1, 'inode': 1, 'jquery1102minmap': 1, 'eulers': 1, 'totient': 1, 'systemwebhttprequestvalidationexception': 1, 'xsdstring': 1, 'svg+xml': 2, 'datanode': 1, '1290149059': 1, 'crendentials': 1, 'reassigning': 1, 'mins': 2, 'sqldf': 2, 'factorial': 4, 'recusive': 1, 'astype': 1, 'datastatec': 1, 'ldap_list': 1, 'gruntngconstant': 1, 'gcoverhead': 1, 'consist': 1, 'setenabled': 1, 'xsitype': 1, 'microsoftofficeinteropworddocument': 1, '_applicationquit': 1, '1113': 1, 'industry': 1, 'orgspringframeworkwebcontextsupportservletcontextfactorybean': 1, 'log4jdtd': 1, 'ajaxphp': 1, 'evp_bytestokey': 1, 'thfield': 1, 'enoent': 3, 'uitable': 1, 'hope': 1, 'autosubmit': 1, 'reflected': 2, 'systemdata': 1, 'use_ssl': 1, 'decided': 1, 'linregress': 1, 'bygroup': 1, 'java+maven+intellij': 1, 'linuxs': 1, 'o_direct': 1, 'jtoken': 5, 'cmsamplebuffer': 1, 'udunits2': 1, 'r33': 1, 'authenticity': 3, 'xmlvalue': 2, 'viewmodellocator': 1, 'viewfirst': 1, 'observers': 2, 'caml': 1, '__setattr__': 2, 'self__dict__': 1, 'scanffunction': 1, '213': 1, 'extgridpanel': 1, 'sunniocsutf_8': 1, 'mapiutilh': 1, '#includemapiwinh': 1, 'openqa': 1, 'setdooutput': 1, 'setdoinput': 1, 'headlink': 1, 'ora12704': 1, '2094': 1, '2095': 1, 'userscope': 1, 'sizetofit': 2, 'delivered': 2, 'comlowagietextparagraph': 1, 'comlowagietexttable': 1, 'wh_getmessage': 1, 'shouldrecognizesimultaneouslywithgesturerecognizer': 1, 'othergesturerecognizer': 1, 'get_absolute_url': 2, 'midexecution': 1, 'onsubmitsubmitform': 1, 'onsubmitreturn': 1, 'submitform': 1, '0xffff0000': 1, 'exsis': 1, 'slimscroll': 1, 'formsauthenticationtimeouttotalminutes': 1, 'gtkcombobox': 1, 'unpublish': 1, 'aem': 2, 'yesterdays': 1, 'javaawtdesktopbrowse': 1, 'witha': 1, 'dialer': 1, 'comandroidlibrary': 1, 'touchmove': 2, 'javaxxmlsoap': 1, 'mmdrawercontroller': 1, 'comamazonawsauthawscredentials': 1, 'gamequery': 1, 'judge': 2, 'mailserver': 1, 'c2143': 3, 'manipulationcompleted': 1, 'bfmatcher': 1, 'javautilvector': 1, 'stringindexoutofboundsexception': 2, '#endregion': 1, 'virtualenvironment': 1, 'systemnetwebclient': 1, 'directivenegative': 1, 'colourgroup': 1, 'facetsdrug': 1, 'leverage': 1, 'zerosize': 1, 'allowunsaferenegotiation': 1, 'getbuttondown': 1, 'cure': 1, 'img_load': 2, 'livecom': 1, 'orgapachehadoopmapredfilealreadyexistsexception': 1, 'folderbrowserdialogs': 1, 'punct': 2, 'hsv': 1, 'fillreport': 1, 'activerecordreadonlyrecord': 1, 'infoscontroller': 1, 'nonnas': 1, 'celltable': 2, 'canceling': 1, 'uinavigationcontrollerdelegate': 1, 'recipes': 1, 'uinput': 1, 'indeed': 2, 'merges': 2, 'touchablehighlight': 1, 'mysqli_report_strict': 1, 'pygamekeyget_pressed': 1, '329': 1, 'djavarmiserverhostnamelocalhost': 1, 'qfile': 1, 'unbalanced': 3, 'signatures': 5, 'render_to_string': 1, 'dijkstra': 2, 'emptied': 1, 'radians': 2, 'formattedexception': 1, 'rosuda': 1, 'jri': 1, 'rengine': 1, 'setadapter': 1, 'scriptmanagerregisterclientscript': 1, 'bc30627': 1, 'bc30465': 1, 'serverfunctions': 1, 'x1f': 1, 'projecting': 1, 'errors_on': 1, 'logginglogger': 1, 'lambdaexpression': 2, 'http_post': 1, 'loadwith': 1, 'pdfjs': 2, 'buildpack': 1, 'fileblob': 1, 'actiondispatchhttpuploadedfile': 1, 'prefilling': 2, 'itoa': 1, 'java18': 1, 'reactcreateelement': 1, 'oauth2tokengranter': 1, 'resourceownerpasswordtokengranter': 1, 'hreftel5555555': 1, 'qgraphicsitem': 1, 'itemtapped': 1, 'itemselected': 1, 'nose': 1, 'exccedwith': 1, 'breezejs': 2, 'minmaxpriorityqueue': 1, 'falsified': 1, 'modulated': 1, 'cosine': 4, 'reactrouters': 1, 'browserhistory': 1, 'credits': 2, '24hrs': 1, 'openparentapplicationreply': 1, 'pivotgrid': 1, 'tablesorterpager': 1, 'boostalgorithmjoin': 2, 't_inline_html': 1, 'cavalrylogger': 1, 'labelalign': 1, 'jqwidgets': 1, 'jqxgrid': 1, 'jqxdropdownlist': 1, 'filloval': 1, 'denote': 1, 'rstyle': 2, 'displayonly': 1, 'noneditable': 1, 'dart': 1, 'railsinstaller': 1, 'expressrouter': 1, 'appget': 1, 'wsdl2py': 1, 'csrf_token': 2, 'editurl': 1, 'jsmooth': 1, 'systemphp': 1, 'cphppear': 2, 'dwampwwwz': 1, 'pthread_mutex_unlock': 2, 'proble': 1, 'jarscanner': 1, 'river': 1, 'filing': 1, 'zeroargument': 1, 'logisdebugenabled': 2, 'observabletoasync': 1, 'mtaudioprocessingtap': 1, 'baseball': 1, 'interopcdo': 1, 'autoresizingmask': 1, 'htmlpartial': 3, '__': 2, 'resolveurl': 1, 'solver': 1, 'npuzzle': 1, 'persistencecreateentitymanagerfactory': 1, 'fmod': 1, 'coprimes': 1, 'maxing': 2, 'version8': 1, 'routevaluedictionary': 1, 'graphicsdrawimage': 1, 'cryptography': 3, 'writecsv': 1, 'helvetica': 1, 'entityconnectionstringbuilder': 1, 'forked': 1, 'legendre': 1, 'arguements': 1, 'multimedia': 1, 'setlayout': 1, 'parseusercurrent': 1, 'requestcookies': 3, 'netsshauthenticationfailed': 1, 'registrationids': 1, 'arrives': 2, 'javasctipt': 1, 'acquired': 3, 'principle': 1, 'disjunction': 1, 'validateform': 1, 'definded': 1, 'defwindowproc': 2, 'processterminate': 1, 'jqueryuidatepicker': 1, 'cfilecache': 1, 'togther': 1, 'tower': 1, 'orgjsonjsontypemismatch': 1, 'systemconfiguration': 1, 'unique_together': 1, 'serializers': 3, 'setw': 1, 'colorimageframe': 1, 'tukeyhsd': 1, 'craps': 2, 'asplinkbutton': 1, 'enables': 1, 'cvarargtype': 1, 'doby': 2, 'phpintl': 1, 'mailto': 5, 'cheatsheet': 1, 'inet_aton': 1, 'kocomputed': 1, 'androidviewwindowmanagerbadtokenexception': 1, 'androidosbinderproxy': 1, '739b5ae': 1, 'pdosetattribute': 1, 'critical_sections': 1, 'winthreads': 1, 'setcell': 1, 'savecell': 1, 'blanking': 1, 'scale_continuous': 1, 'knapsack': 1, 'rowcells': 1, 'gridview1_selectedindexchanged': 1, 'noncontigous': 1, '0x800a03ec': 2, 'uipopoverpresentationcontroller': 1, 'jsonmappingexception': 1, 'newbies': 1, 'articlecontroller': 1, 'strcat': 3, 'rc5': 1, 'searchtwitter': 1, 'whatwg': 1, 'offsite': 1, 'harmful': 1, 'boostasioio_service': 1, 'ibindinglist': 1, 'contentpresenter': 1, '0x5e10': 1, '0x7f35': 1, 'preclean': 1, 'systemcollectionsobjectmodel': 1, 'emptytext': 1, 'oraclejdbcdriveroracleconnection': 1, 'bonkers': 1, 'contourf': 2, 'angulartranslate': 1, 'dbconnphp': 1, 'uiimagepickercontrollers': 1, 'mysqlproc': 1, 'methodid': 1, 'selectorsyspublishdatedate': 1, 'popen': 5, 'fileinfolength': 2, 'titleview': 1, 'refcount': 1, 'htmlhiddenfor': 2, 'employeemanager': 1, 'itextsharptexttable': 1, 'hibernateconnectionprovider_class': 1, 'fnclick': 2, 'oncheckedchanged': 1, 'restaurant': 2, 'emenu': 1, 'reclaimed': 1, 'loh': 1, 'fragmentation': 1, 'jscroll': 1, 'javacounting': 1, 'stdstoi': 1, 'com+': 1, 'tornadoweb': 1, 'nights': 1, 'office365': 2, 'maibox': 1, 'belong_to': 3, 'kal': 1, 'holo': 2, 'crfs': 1, 'executefetchrequesterror': 1, 'cols': 1, 'ciphersuite': 1, 'colobar': 1, 'imagegrid': 1, 'rse': 1, 'avframework': 1, 'rdlctablix': 1, 'registerusernotificationsettings': 1, 'vectorconst': 1, 'jintellitype': 1, 'avaudiosessioncategoryplayandrecord': 1, 'multidiensional': 1, 'unchained': 1, 'subreports': 1, 'microseconds': 1, 'em_setsel': 1, 'subtexturing': 1, '5211': 1, 'productivity': 1, 'boostmake_shared': 1, 'xcode42': 1, 'conflicted': 4, '__bridge': 2, 'dynamiclinqquery': 1, '1510': 1, 'systemvoid': 1, 'seekable': 1, 'phpbb': 2, 'systemdatasqlitesqlitefactory': 1, 'keycodes': 1, 'systemwindowsformsaxhostinvalidactivexstateexception': 1, 'linest': 1, 'rowfilter': 1, 'responseaddheader': 1, 'houtputtext': 2, 'smartphone': 1, 'docstrings': 1, 'geteventlisteners': 1, 'headphtml': 1, 'drawlayerincontext': 1, 'timetable': 1, 'keysalt': 2, 'keysrbutton': 1, 'keysshiftkey': 1, 'ioutils': 1, 'recieved': 1, 'tolocaledatestring': 2, 'categoryattribute': 1, 'multiply_definedsuppress': 1, 'dodge': 1, 'redisnamespace': 1, 'pandastslibtimestamp': 1, 'versioncontrol': 1, 'nonmaven': 1, 'uts': 1, 'utc0': 1, 'trulia': 1, 'typecheckbox': 1, 'namequoterequiredservices': 1, 'webdriverwait': 3, 'waituntil': 1, 'expectedconditionspresenceofallelementslocatedby': 1, 'osremove': 2, 'bytetocharconverter': 1, 'cordovaexec': 1, 'altrtjar': 1, 'secretkey': 1, 'reducebykey': 1, 'groupbykey': 1, 'mapbyvalues': 1, 'testlocation': 1, 'replace_entities': 1, 'darwin': 1, 'viewforannotation': 1, 'picklingerror': 1, 'some_array': 1, 'xj': 1, 'mfmessagecomposeviewcontroller': 1, 'msoffice': 1, 'fractal': 1, 'dropdownmenu': 1, 'startmonitoringsignificantlocationchanges': 2, 'reportdatasourceconnections': 1, 'colorspace': 2, 'ggpot2': 1, 'callis': 1, 'activedirectoryldapauthenticationprovider': 2, 'setsearchfilter': 1, 'healthcareproviderexe': 1, '20170110t180000000z': 1, 'ith': 1, 'decoed': 1, 'alertviewcancel': 1, 'glyphicon': 2, 'railsmodule': 1, 'geom_density': 2, 'assetic': 1, 'mango': 1, 'xamp': 1, 'worklight': 1, 'html+php': 1, 'webclientdownloaddataasync': 1, 'pyvisa': 1, 'presentviewcontroller': 3, 'cartridge': 1, 'systemdataentity': 2, 'keyvaluepairt': 1, 'listt2': 1, 'masonry': 3, 'selectcase': 1, 'memberstatus': 1, 'gruntbrowserify+mapify+coffeescript': 1, 'urlencodedformentity': 1, 'openprocess': 2, 'onkeyup': 3, 'ionviews': 1, 'revaluate': 1, 'oauth10a': 1, 'i18': 1, 'dadatetimedistance_in_wordsabout_x_hours': 1, 'avaliable': 2, '4x': 1, 'koa': 1, 'stutters': 1, 'unify': 1, 'ie7+': 1, 'mapfind': 1, 'healthy': 1, 'nmake': 1, 'd8021': 1, 'usercontrolverticalscrollvalue': 1, 'memchr': 1, 'strchr': 2, 'getfileversioninfosize': 1, 'turtle': 1, 'hugging': 1, 'fixture': 3, 'systemload': 3, '#each': 1, 'additional_header': 1, 'entring': 1, 'setreadonly': 1, 'instanceready': 2, 'ssh2_exec': 1, 'su': 1, 'productcollection': 1, 'significand': 1, 'returntype': 1, 'passbyvalue': 2, 'activerecords': 1, 'tmpfs': 1, 'jalali': 2, 'enobufs': 1, 'sendmail': 4, 'vector3d': 1, 'gcds': 1, 'dispatch_once': 1, 'listmodel': 1, 'defaultlistmodel': 1, 'confidentiality': 1, 'constructorarg': 3, 'beziercurveto': 1, 'quadraticcurveto': 1, 'comgargoylesoftwarehtmlunitscriptexception': 1, 'jsxset_innerhtml': 1, 'outward': 1, 'npy': 1, 'strip_tags': 1, 'inputthenoutput': 1, 'environmentcurrentdirectory': 1, 'timestamped': 1, 'avframe': 2, 'codebirdphp': 1, 'statuses': 2, 'bestpractice': 1, 'propagate': 2, 'hasattribute': 1, '4095': 1, 'allequal': 1, 'prematurely': 1, 'directoryiterator': 1, 'dbcommand': 2, 'cusor': 1, 'fnobj': 1, 'functionname': 2, 'pfsockopen': 1, 'pathsegment': 1, 'djangocore': 1, 'settingspy': 3, 'cap_gstreamer': 1, 'javalangexception': 2, '730013': 1, 'youtubeinitializationresultservice_invalid': 1, 'eol': 2, 'crosscontext': 1, 'boost_foreach': 3, 'navlinks': 1, 'subtotal': 1, 'jobexecutionvetoed': 1, 'joblistener': 1, 'execured': 1, 'medispose': 1, 'meclose': 1, 'pathfield': 1, 'acquiretokenasync': 1, 'documentqueryselector': 1, 'norms': 1, 'eta': 1, 'listxx': 1, 'hashsetxx': 1, 'nullrnparameter': 1, 'fsread': 1, 'shelltoast': 1, 'displayfield': 1, 'naomit': 1, 'redactions': 1, 'nonvalued': 1, 'misunderstand': 1, 'workingi': 1, 'mvchtmlstring': 1, 'qtsdk': 1, 'documentstylesheets': 2, '__exit__': 1, 'php+odbc': 1, 'antidebugging': 1, 'patching': 2, 'ssl_error_no_cypher_overlap': 1, 'destroying': 4, 'some_project': 1, 'revealing': 1, 'error740': 1, 'removeallanimations': 1, 'successively': 2, 'comprehention': 1, 'multistep': 2, '0x80131904': 2, 'javadstreamstring': 1, 'javarddstring': 1, 'nodejs+express+jade': 1, 'stylecss': 1, 'epli': 1, 'nammi': 1, 'nonselectable': 1, 'renderer': 6, 'createnewfile': 1, 'useris_authenticated': 1, 'constreference': 1, 'qhboxlayout': 1, 'requestspy': 1, 'randn': 1, 'wwritestrings': 2, 'swizzling': 1, 'contentflow': 1, 'addon': 7, 'randomjumpahead': 1, 'c2678': 3, 'cschemastring': 1, 'start_object': 1, 'addslashes': 1, 'datatogglebutton': 1, 'unsupportedencodingexception': 1, 'identityh': 1, 'v7': 1, 'v13': 1, 'abbreviated': 2, 'dataadapterupdate': 1, 'mattlewis92': 1, 'lying': 1, 'hundreds': 2, 'addobject': 3, 'exteach': 1, 'wiki': 3, 'orgapachetomcatjarscanner': 1, 'f11': 1, '__setitem__': 2, 'between_time': 1, 'imap_fetchstructure': 1, 'getrangeat': 1, 'filedownload': 1, 'successcallback': 1, 'orgspringframeworkbatchitemitemstreamexception': 1, 'elsif': 1, 'setwindowpos': 2, 'mdradiobutton': 1, 'clever': 2, 'directorypointers': 1, '++46': 1, 'negotiate': 2, 'button1_click': 2, 'coff': 1, '#activerecordassociationscollectionproxy': 1, 'submit_tag': 1, 'datagridtextcolumns': 1, 'elementstyle': 2, 'looperprepare': 3, 'databasedriven': 1, 'relationstable': 1, 'annual': 3, 'withdrawing': 1, 'depositing': 1, 'onresize': 1, 'f1': 3, 'sytemin': 1, 'systemout': 1, 'tradeoffs': 1, 'viewvalues': 1, 'viewitems': 1, 'itervalues': 1, 'iteritems': 1, 'settingup': 2, 'xlsc': 1, 'boto3': 1, 'isolines': 1, 'dllfunction': 1, 'dynamo': 1, 'domain1': 1, 'hartls': 3, 'static_pages_specrb': 1, '535571': 1, 'orgpostgresqljdbc3jdbc3poolingdatasource': 1, 'ajaxful': 1, 'taskstartnew': 1, 'actionobject': 2, '__main': 1, 'intentionally': 1, 'start_url': 1, 'caroufredsel': 2, 'getrootpane': 1, 'lanuages': 1, 'selectnodes': 1, 'nans': 2, 'skipped': 3, 'nonodeavailableexception': 1, '#transport#1': 1, 'ifvrlxsusdgvyfzl_rabkg': 1, '101010109': 1, '1010101099300': 1, 'jparepository': 2, 'identifiergenerationexception': 1, 'multifile': 1, 'cffile': 1, 'serverfile': 1, 'base64string': 2, 'attribude': 1, 'setgid': 1, 'perls': 2, 'taint': 1, 'gradles': 1, 'spec_helperrb': 1, 'collectionssort': 2, 'decibel': 2, 'icomparable': 2, 'overlaying': 4, 'nonsignificant': 1, 'suppression': 3, 'devappserver': 1, 'appenginemavenplugin': 1, 'precede': 1, 'ttest': 1, 'sslstream': 1, 'msvcp120ddll': 2, 'jsontool': 1, 'preselecting': 1, 'lefthandside': 1, 'gchar': 1, 'strongreference': 1, 'geocoded': 1, 'xmldeseralize': 1, 'restate': 1, 'httpbackend': 1, 'clickheretoexpand': 1, 'psd': 1, 'difficulttofind': 1, 'fnoobjcarc': 1, 'fno_objc_arc': 1, 'ajaxsend': 1, 'openshift_mysql_db_socket': 1, 'inet_pton': 1, 'onuploadedcomplete': 1, 'asyncfileuploader': 1, 'rectified': 1, 'relu': 1, 'jquery171min': 1, 'cybersource': 1, 'cybersourcewssecuritysignature': 1, 'webworkerthreads': 2, 'pdf2htmlex': 1, 'kristin': 1, 'lpthw': 1, 'ex50cant': 1, 'propertiesresourcesresx': 1, 'updatable': 1, 'freestyle': 1, 'buggy': 2, 'documentbuilder': 1, 'onmouseoverevent': 1, 'valuesqueryset': 1, 'javamongo': 1, 'classmethod': 3, 'mp3s': 1, 'javacv': 1, 'binarytreenode': 1, 'insted': 1, 'array_pop': 2, '587': 2, '0xcc': 1, 'dependancies': 1, 'apn': 2, 'functionstreamsocketclient': 1, 'gatewaysandboxpushapplecom2195': 2, 'insertcommand': 1, 'managedbeancreationexception': 1, 'richbean': 1, 'tee': 1, 'constistant': 1, 'pdostatementfetchall': 1, 'decent': 2, 'touchstart': 5, 'touchlist': 1, 'setobject': 1, 'setspecifictype': 1, 'contentservice': 1, 'findelements': 3, 'quits': 1, 'fee': 2, 'somestring': 1, 'interchange': 2, 'wow6432node': 2, 'whitelistbased': 1, 'oraclejdbcoracledriver': 1, 'localesensitive': 1, '18x': 1, 'planning': 1, 'qoutes': 1, 'orgjbossloggingloggerdebugf': 1, 'colreorder': 1, 'readrds': 1, 'selfid': 1, 'systemwindowsformstextbox': 3, 'oauthdata': 1, 'stdfunctionvoid': 1, 'wwwgooglecom': 1, 'exporticalzip': 1, 'hovered': 2, 'phpcreated': 1, 'fixedsize': 2, 'ggplots': 2, 'dbi': 1, 'railslike': 1, 'sessionattribute': 1, 'modrewrite': 1, 'rasterizing': 1, 'indocument': 1, 'transformforward': 1, 'shouldautorotate': 1, 'fk_claims_patients': 1, 'classformaterror': 2, 'selectfromwhere': 1, 'standardengine': 2, 'standardhost': 2, 'standardcontext': 2, 'sendasynchronousrequest': 3, 'windowonclick': 2, 'notifyjs': 1, 'scrollintoview': 2, 'systemxmlxmldocuments': 1, 'slippery': 1, 'equidistant': 1, 'getresult': 2, 'part0000': 1, '10f': 2, '1065353216': 1, 'lockfileex': 2, 'fusion': 3, 'pops': 3, 'zkfc': 1, 'galleries': 2, 'libpq': 1, 'queueget': 1, 'builders': 1, 'handcoding': 1, 'perforce': 1, 'meaningful': 2, 'jspdf': 2, 'kilometers': 2, 'hackerrankcom': 1, 'findhackerrank': 1, 'wp_debug': 1, 'systemnotsupportedexception': 1, 'createorextendtables': 1, 'datepickerfragment': 1, 'jsdoc': 1, 'broker': 3, 'opengl32': 1, 'setkey': 1, 'autoshape': 1, 'systemwindowsinputkey': 2, 'boostfilesystem': 1, 'directory_iteratoroperator': 1, 'noncompound': 1, 'indexeddb': 1, 'nonjava': 1, 'spoof': 1, 'nsjsonserialization': 1, '_isundefined': 1, 'webkitoverflowscrolling': 1, '3213': 1, 'orders': 2, 'asprise': 1, 'northwind': 1, 'fishers': 1, 'rowsums': 1, 'libtorrentrasterbar': 1, 'py_initialize': 1, 'unistall': 1, 'foreachloop': 2, 'gamestate': 1, 'datetimeutcnow': 1, 'systemdrawingicon': 1, 'encypted': 1, 'mpi_bcast': 1, 'angularmaterial': 1, 'extmcrypt': 1, 'expandablelistactivity': 1, 'pluginmanagement': 1, '__end__': 1, 'manufacture': 1, 'microsoftvisualbasicfileio': 1, 'textfieldparser': 1, 'ldaps': 1, 'jquery_data': 1, 'phonebook': 1, 'javaxservletservletexception': 4, 'componentinfoandroidviewinflateexception': 1, 'gmp': 1, 'srctest': 1, 'survival': 1, 'ctrlf': 1, 'pygametimewait': 1, 'freez': 1, 'showerrors': 1, 'springwebscoket': 1, 'anguarjs': 1, 'uploader+406': 1, 'firbug': 1, 'yosmeti': 1, 'entitlements': 1, 'rrnn': 1, 'magickwand': 1, 'pg_exec': 1, 'gtkbuttons': 1, 'innerborder': 1, 'translator': 1, 'aic': 1, 'bic': 1, 'arima': 1, 'kernel32lib': 1, 'magephp': 1, 'mmddyyyy': 1, 'processdata': 1, '1084': 2, 'mint': 2, 'listfooclass': 1, 'mysqli_fetch_array': 1, 'rust': 1, 'viewresolver': 1, 'xbootclasspath': 1, 'distances': 3, 'vk_': 1, 'ensurepip': 1, 'systemwindowsformssavefiledialog': 1, 'sdk4': 1, 'dict_keys': 2, 'performselectoronmainthread': 3, 'strangeness': 1, 'abspath': 1, '0302': 1, 'reshape': 4, 'modelstateisvalid': 2, 'databaseagnostic': 1, 'csharpcodeprovider': 2, 'logarithmic': 4, 'minussign': 2, 'xammp': 1, 'cs0117': 1, 'menuitems': 2, 'javaxusb': 1, 'liferayportal70cega1': 1, 'pwc6345': 1, 'javaca': 1, 'subscriber': 1, 'multiresourceitemwriter': 1, 'flatfileitemwriter': 1, 'windowdocument': 1, 'statuscoderesult': 1, 'responsemessageresult': 1, 'surpress': 1, 'startmenu': 1, 'sourcing': 2, 'cryptographicexception': 2, 'recurse': 1, 'mega': 1, 'died': 1, 'librarys': 1, 'mileage': 1, 'seriescollection': 1, 'tonight': 1, 'morning': 1, 'trackablecollection': 1, 'structunpack_from': 1, 'alloc': 7, 'gtkcritical': 1, 'gtk_widget_show': 1, 'gtk_is_widget': 1, 'jeditable': 2, 'toupper': 4, 'getclassloader': 1, 'configproperties': 1, 'zombie': 2, '1234567': 1, '34567': 1, 'animatio': 1, 'urllibrequest': 1, 'metroframework': 1, 'orgapachecatalinalifecycleexception': 1, 'truststore': 1, 'configureservices': 1, 'startupcs': 2, 'objcba': 1, 'objconstructor': 1, 'hhmmssfff': 1, 'addtype': 2, 'xhttpdphp55': 1, 'pcalendars': 1, 'selectlistener': 1, 'databindings': 1, 'phpews': 1, 'tcpdf': 4, 'pdfimage': 1, 'bools': 3, 'suppose': 2, 'settingsemail_host_user': 1, 'supporterror': 1, 'piblishing': 1, 'vrepeat': 1, 'servletoutputstream': 3, 'pulsating': 1, 'ruby193': 1, 'prepareforsegue': 5, 'tuplelistint': 1, 'listtupleint': 1, 'override_function': 1, 'apd': 1, 'updateable': 1, 'charmap': 2, 'questionconcatenate': 1, 'characterrn': 1, 'zendframework': 3, 'rakes': 1, 'select_': 1, '439final': 1, 'gram': 1, 'schmidt': 1, 'tasktype': 1, 'stdingets': 1, 'adaptivethreshold': 2, 'cv_8uc1': 1, 'javaxjws': 1, 'noscript': 1, 'differend': 1, 'mutliple': 1, 'checkedvalue': 1, 'railsadmin': 1, '2colour': 1, 'nonmocked': 1, 'gnome': 1, 'simpleadapter': 1, 'msvc++2010': 1, 'clusters': 2, 'loadtxt': 2, 'cfc': 1, 'metaclasses': 1, '__slots__': 1, 'dispatch_get_main_queue': 1, 'putback': 1, 'unget': 1, 'rnns': 1, 'newton': 1, 'derivative': 2, 'numpyfloat64': 4, 'pageisvalid': 2, 'serialdatareceivedeventhandler': 1, 'urlscan': 1, 'restricts': 1, 'values_at': 1, 'deepzoom': 1, 'tablevaluedfunctions': 1, 'getdocumentbase': 2, 'department': 5, 'ptp': 2, 'openmpi': 1, 'filepath': 5, 'comboboxhow': 1, 'appuser': 1, 'illuminatefoundationauthuser': 1, 'datafilter': 2, 'inaccurate': 1, 'globalphp': 1, 'yymmdd': 1, 'editting': 1, 'postpersist': 1, 'factorymethod': 2, 'lint': 1, 'nodetype': 1, 'koapplybindings': 1, 'find_element_by_class_name': 1, '221': 3, 'pdofetch_key_pair': 1, 'multichoicemodelistener': 1, 'collagelike': 1, 'dynamicallycreated': 1, 'edittexts': 1, 'enumerableemptyt': 1, 'systemargumentoutofrangeexception': 2, 'webhostbufferpolicyselector': 1, 'nonbuffered': 1, 'onkeydown': 3, 'insertsections': 1, 'setobjectforkey': 2, 'uicollectionviewitemkey': 1, 'foreignkeyreferencealreadyhasvalueexception': 1, 'specialized': 1, 'base_sitehtml': 1, 'scattergraph': 1, 'base64_decode': 1, 'activequery': 2, 'add_settings_field': 1, 'notepad': 1, 'phpexcel_iofactorycreatereader': 1, 'pricate': 1, 'mesuapplecom': 1, 'comapplemobileassettextinputspellchecker': 1, 'androidrlayoutsimple_list_item_1': 2, 'hashlib': 1, 'digests': 1, 'htmlcharacters': 1, 'themeswitcher': 1, 'upload_to': 1, 'hash_map': 2, 'androidcontentresresourcesnotfoundexception': 2, '#0x7f040019': 1, 'assoc': 2, 'kibana': 1, 'msb6006': 2, 'detach': 2, 'extendible': 1, 'doubling': 1, 'complexh': 1, 'opensslvh': 1, 'untill': 1, 'completly': 1, 'enctypemultipart': 1, 'hashpassword': 1, 'chord': 1, 'lme4': 1, 'scrolly': 1, '84': 2, 'mssql_fetch_assoc': 1, 'onpaint': 2, 'waitone': 1, 'webtable': 1, 'getthreadtimes': 1, 'get_queryset': 2, 'searcharraylist': 1, 'acronym': 3, 'texttransformuppercase': 1, 'err_file_not_found': 1, 'flattenchildren': 1, 'cannotloadbeanclassexception': 1, 'createrange': 2, 'asptextbox': 2, 'user_signed_in': 1, 'createcontextualfragment': 1, 'nonenglish': 2, 'includejs': 1, 'sampleservlet': 1, 'encapsulation': 3, 'enumbody': 1, 'blockstatement': 1, 'zts': 1, '2152': 1, 'rsqlite': 1, 'orghibernatequeryparameterexception': 1, 'request_finished': 1, 'stdvectorresize': 1, 'reallocate': 1, 'resubs': 1, 'oci_parse': 2, 'asciiz': 1, 'selsectonemenu': 1, 'valuechangelistener': 1, 'phpmysqli': 1, 'setserializationoptions': 1, 'mongocsharpdriver': 1, 'mvc#': 1, 'btnsaveclick': 1, 'datetimeformat': 1, 'patterndd': 1, 'replacements': 3, 'seriescharttype': 1, '5mb': 2, 'resultresponsetext': 1, 'htmljavascript': 1, 'atlctrlshift': 1, 'errorsyntax': 1, 'herokuhosted': 1, 'iowincontext': 1, 'websocketaccept': 1, 'crmsvcutil': 1, 'gridlike': 1, 'halting': 2, 'proxied': 1, 'asplistview': 1, 'spinjs': 1, 'datagridvieweditingcontrol': 1, 'pydbg': 1, 'sce': 1, '123': 2, 'sqlalchemyexccompileerror': 1, 'securityyml': 1, 'preallocate': 1, 'n2': 1, 'orms': 2, 'systemdatasqlsqldatasourceenumerator': 1, 'webworkers': 1, 'searchlookupedit': 1, 'unretweet': 1, 'retweeted': 1, 'twitteroauth': 1, 'doubleclicks': 1, '0x76a0b9bc': 1, 'requirehttps': 1, 'maximal': 1, 'publicfolders': 1, 'qfileflush': 1, 'qfileclose': 1, 'readymade': 1, 'jam': 1, 'insertobject': 1, 'atindex': 1, 'registrationscontroller': 1, 'rsvgtipsdevice': 1, 'winsock': 1, '10049': 1, 'testdelegate': 1, 'bootstrapthemed': 1, 'const_defined': 1, 'uninformative': 1, 'holders': 1, 'strengths': 1, 'loadgeojson': 1, 'wxwidgets294include': 1, 'libgcc_libmswu': 1, 'structseq': 1, 'timestruct_time': 1, 'representations': 1, 'activerecordtypeinteger': 1, 'intermittenly': 1, 'figured': 1, 'monitorpulseall': 1, 'countup': 2, 'getdlgitemtext': 1, 'preallocated': 1, 'classipress': 1, 'sqlalchemyexcresourceclosederror': 1, 'array_replace': 1, 'array_merge': 1, '#home': 1, 'openid4java': 1, 'googlevisualization': 1, 'modelviewset': 1, 'hfont': 2, '410release': 1, '436final': 1, 'applicationcurrentproperties': 1, 'contenttransferencoding': 1, 'serious': 2, '1100': 1, 'socketfactory': 1, 'remap': 1, 'todictionary': 2, 'emoticons': 3, 'collisionhandling': 1, 'authenication': 1, 'bycssselector': 2, 'classonlymethod': 1, 'simplexlsxclassphp': 1, 'dynatablejs': 1, 'datatablejs': 1, 'clickhandler': 1, 'onpaintbackground': 1, 'steals': 2, 'dltk': 1, 'spp': 1, 'removelastobject': 1, 'authenticationidentitymanager': 1, 'qpaintdevice': 1, 'painted': 1, 'subsub': 1, '10k+': 1, 'jiin': 1, 'arrayclass': 1, 'systemdiagnosticsconditional': 1, 'libjvmdylib': 1, 'successul': 1, 'orgspringframeworkbeansfactoryxmlxmlbeandefinitionstoreexception': 1, 'xed': 1, 'refcursor': 1, 'jnp': 2, 'qplots': 1, 't_num_string': 2, 'sqlite3dll': 1, 'optionsetvalue': 1, 'fullcalender': 1, 'itextpdf': 1, 'xmlworkerhelper': 1, 'toolstripmenuitem': 1, 'options_for_select': 3, 'boostbinary': 1, 'jdeveloper': 1, '11117': 1, 'bmp': 5, 'jsx': 2, 'error_reporting': 1, 'boundfields': 1, 'sysconf': 1, '_sc_clk_tck': 1, 'string8': 1, 'openssl_pkcs7_sign': 1, 'debugtrue': 2, 'deathly': 1, 'pain': 2, 'cq': 3, 'roi': 2, 'hovers': 2, 'hbrbackground': 1, 'jqueryuiautocompletejs': 1, 'flexbox': 2, '319': 1, 'djcelery': 1, 'entitymanagerflush': 1, '10base': 1, 'mtex': 1, 'systemdiagnosticsdebuggerlaunch': 1, 'getparameter': 1, 'phpinfo': 3, 'negating': 1, 'elementanimate': 1, 'domainnsurlerrordomain': 1, 'code1017': 1, 'jazz': 1, 'cx_oracle': 1, 'timedeltas': 1, 'codebased': 1, 'seeding': 4, 'php556': 1, 'spending': 1, 'geocoder': 4, 'mistakes': 1, '12700125': 1, 'savefiledialog': 2, 'availably': 1, 'subprocesspopenstdout': 1, 'jasperviewer': 1, 'admintimewidget': 1, 'solo': 1, 'poisson': 1, 'ggplot2s': 1, 'onnavigatedto': 1, 'comgoogleandroidgmsmeasurementinternalzzz': 1, 'servicewrapper': 1, 'uc': 1, 'fifo': 4, 'raspbian': 1, 'unfamiliar': 2, 'generalised': 1, 'tksimpledialogaskstring': 1, 'boolforkey': 1, 'datepickerdialog': 1, 'rundatefont': 1, 'cakephp20': 1, 'missiong': 1, 'resample': 3, 'ga': 1, 'dbocategories': 1, 'servicestacknet': 1, 'apacheds': 1, 'varident': 1, '__destruct': 1, 'xaccelredirect': 1, 'chk': 1, 'uislider': 2, 'brown': 1, 'getremoteuser': 1, 'findreplace': 1, 'assertc++': 1, 'eigenvalue': 1, 'eigenvectors': 3, 'dashcode': 1, 'wp_query': 3, 'dmp': 1, 'nhibernatedriveroracledataclientdriver': 1, 'requestfiles': 3, 'listwhere': 1, 'return_var': 1, 'max_file_size': 1, 'ormstyle': 1, 'zend_db_table_abstract': 2, 'autokill': 1, 'easyphp': 1, 'neater': 1, 'servicebase': 1, 'cater': 1, 'dhrystone': 2, '600': 2, 'pils': 1, 'imageshow': 1, 'brings': 2, 'viewers': 1, 'cocosdenshion': 1, 'ruler': 2, 'errorno': 1, 'ora02089': 1, 'boostany_cast': 1, 'useridentityisauthenticated': 2, 'websecurityisauthenticated': 1, 'macports': 1, 'domloadhtmlfile': 1, '_sresre_match': 2, 'aspxpopupcontrol': 1, 'lbfgsb': 1, 'preauthorize': 3, '1970': 1, 'listboxscrollintoview': 1, 'gst_object': 1, 'smo': 3, 'curl_multi': 1, 'zipoutputstream': 1, 'outlookfolder': 1, 'outlokmapifolder': 1, 'writers': 1, 'confirmbox': 1, 'nonroot': 1, 'sparkcontext': 1, 'datacontexts': 1, 'lower_bound': 2, 'jqueryjs': 1, 'jquerylitejs': 1, 'php55': 1, 'delimit': 3, 'autofilter': 2, 'eachin': 1, 'appicon120x120': 1, 'xmlhttpresponsetext': 2, 'errorsystemwindowsformsdatagridviewselectedcellcollection': 1, 'legends': 5, 'checkmarks': 1, 'importance': 2, 'c#winforms': 1, 'vectorized': 1, 'abpeoplepickernavigationcontroller': 1, 'unredefining': 1, 'domaincomfirebaseiid': 1, 'code6': 1, 'leader': 1, 'javasqlpreparedstatement': 2, '8859': 1, 'nettysocketio': 1, 'authentification': 2, 'scale_x_date': 1, 'stepping': 3, '435': 2, '3dlut': 1, '3dl': 1, 'srgb': 1, 'cielab': 1, 'application_acquirerequeststate': 1, 'commentout': 1, 'naviagating': 1, 'strtol': 1, 'persisted': 4, 'perception': 1, 'thissource': 1, 'substantially': 1, 'djangoselect2': 1, 'automodelselect2field': 1, 'modelcreate': 1, 'attrvalue': 1, 'tr1regex': 1, 'resumed': 2, 'xmltodataframe': 1, 'osmakedirs': 1, 'inherent': 1, 'andalso': 1, 'oracledataaccessclientoracleexception': 1, 'ora01008': 1, 'oracledataaccessclient': 1, 'obraining': 1, 'getrepository': 1, 'erro': 1, 'javaxnetsslsslexception': 1, 'protocol_version': 1, 'onlocationchanged': 1, 'alljs': 1, 'alljs57': 1, 'alt+tab': 1, 'ctr+alt+delete': 1, '+tomcat': 1, 'autorezise': 1, 'preprocessorif': 1, 'bdk': 1, 'pagebeforeload': 1, 'stomp': 1, 'dosent': 2, 'investigate': 1, 'autoupdating': 1, 'gridviewcolumn': 2, 'rowmapper': 1, 'authors': 3, 'setattr': 1, 'authenticationexception': 1, 'dymo': 1, 'proptable': 1, 'producers': 2, 'puphet': 1, 'userreferences': 1, 'user_idinteger': 1, 'firstordefault': 6, 'generatorlike': 1, 'seniors': 1, 'idioms': 1, 'onmouseenter': 1, 'cwndcreatedlgindirect': 1, 'm_hwndnull': 1, 'pkg_resourcesdistributionnotfound': 2, 'pip141': 1, 'jsfajaxrequest': 1, 'openers': 1, 'netcat': 1, 'asynctaskexecutor': 1, 'symfony28': 1, 'opensubkey': 1, 'formclosing': 2, 'arrowkeys': 1, 'relcanonical': 1, 'crossenabled': 1, 'tostringcall': 1, '777': 1, '1byte': 1, 'systemlinq': 2, 'sshkitcommandfailed': 1, 'applicationjs': 3, 'meetings': 1, 'waveform': 1, '1172': 1, 'consisted': 1, 'pselectbooleancheckbox': 2, 'bitmanipulation': 1, 'djangodbutilsoperationalerror': 1, 'auth_customuser': 1, 'seasonal': 1, 'stdless': 1, 'send_keys': 1, 'strtr': 1, 'voice': 2, '404s': 1, 'linkingobjects': 1, 'infobubble': 1, 'geom': 1, 'contentoffset': 1, 'cudamalloc': 1, 'phpword': 2, '#egg': 1, 'lazyfalse': 1, 'reporterlog': 1, 'nrow': 1, 'polyhedron': 1, 'donation': 2, 'confuses': 2, 'comimport': 1, 'httpsys': 1, 'nm': 1, 'objdump': 1, 'wheelevent': 1, 'annotaions': 1, 'netsmtpauthenticationerror': 2, '310rc5': 1, 'nontransactional': 1, 'get_xxxxxx': 1, 'unlocking': 1, 'stringnext': 1, 'slowmoving': 1, 'javaxxmltransformtransformer': 1, 'actionmessages': 1, 'tight_layout': 1, 'randomaccesfile': 1, 'find_or_initialize_by_columname': 1, 'somevalue': 1, 'hyperlinkbutton': 1, 'contentdialog': 1, 'ismultiple': 1, 'determines': 1, 'geom_density2d': 1, 'pizel': 1, 'lancard': 1, 'britain': 1, 'geronimoservlet_30_spec10jar': 1, 'azerty': 1, 'respondstoselector': 3, 'removeallfiles': 1, 'bit0': 1, 'bit1': 1, 'bit2': 1, 'csstidy': 1, 'datediff': 3, 'gentle': 1, 'nudge': 1, 'ziparchiveclose': 1, 'toolsversion120': 1, 'async_write': 2, 'granturipermission': 1, 'qmimedata': 1, 'errnoh': 1, 'featurettes': 1, 'id5': 1, 'javaxelelexception': 1, 'comsunelexpressionfactoryimpl': 1, 'simpleformcontroller': 1, 'nulltoboolconverter': 1, 'maintainable': 3, 'strike': 1, 'capslock': 1, 'appends': 2, 'inbetween': 2, 'vectordouble': 1, 'incllude': 1, 'forelse': 1, 'foreachelse': 1, '_reentrant': 1, 'classcreate': 1, 'eraser': 2, 'excpth': 2, 'iconvertible': 1, 'setactiveitem': 1, 'removechild': 4, '14099': 1, 'find_element_by_xpath': 1, 'satellite': 1, 'shutting': 2, 'calendarset': 1, 'loggging': 1, 'pageinit': 1, 'formember': 1, 'save_form': 1, 'inlined': 2, 'alongside': 2, 'initcap': 1, 'azaz09_': 1, 'abc123': 1, 'stat_summary': 1, 'jsperf': 1, 'carret': 1, 'soupstrainer': 1, 'strain': 1, '_set': 1, 'charity_set': 1, 'superglobal': 3, 'read_csvgiven': 1, 'illuminatequeueclosurephp': 1, 'css_attribute': 1, 'thisget_element': 1, 'sentiment': 1, 'libcudartso70': 1, 'xxxxx': 1, 'controlclick': 1, 'partly': 2, 'each_with_index': 1, 'ncurses': 2, 'wfc': 1, 'pypyodbc': 1, 'hogs': 1, 'experiencing': 1, 'fileclose': 1, 'requesttoken': 1, 'load_csv': 1, 'travis': 3, 'outdated': 2, 'devisetesthelpers': 1, 'prioritize': 1, 'finishing': 4, 'listlist': 1, 'jcenter': 1, 'geocodegeocoder': 1, 'undefine': 1, 'mysqlcommandexecutenonquery': 1, 'downside': 2, 'requiresnew': 1, 'identities': 1, '#7': 1, 'tooltipserviceduration': 1, 'gregorian': 2, 'understading': 1, 'rematch': 2, 'joone': 1, 'encog': 1, 'noncapturing': 1, 'version_requirements': 1, 'nov': 1, 'ctp': 2, 'v120': 1, 'underlines': 1, 'pythonhow': 2, 'outlooks': 1, 'runworkerasync': 1, 'va_list': 3, 'overwiting': 1, 'nuspec': 1, 'nontest': 1, 'functionsphp': 4, 'xattribute': 2, 'xnamespace': 1, 'var3': 1, 'interp': 1, 'onclicklisteners': 1, 'wcfservice': 1, 'systray': 1, 'cssforced': 1, 'h264': 1, 'zerodelay': 1, 'gwtmavenplugin': 2, 'gentask': 1, 'fieldsfunction': 1, 'parcel': 2, 'pfimageview': 1, 'adjustpan': 1, 'setimeactionlabel': 1, 'springorm': 1, 'jtaplatform': 1, 'hibernatecore': 1, 'testngxml': 2, 'dynamicupdate': 1, 'dynamicinsert': 1, 'voodoo': 1, 'fileds': 1, 'registraion': 1, 'com_users': 1, 'rails326': 1, '3th': 1, 'bothers': 1, 'joincolumn': 1, 'conflating': 1, 'svcutilexe': 1, 'nonget': 1, 'valuepush': 1, 'qpoint': 1, 'get_video_info': 1, 'assocation': 1, 'luainterface': 1, 'nonrecursive': 3, 'utf8_general_ci': 1, 'convertion': 2, 'costly': 1, 'setpreferredsize': 3, 'itextsharptoolxmlxmlworkerhelpergetinstance': 1, 'parsexhtml': 1, 'tabspace': 1, '__nsdictionaryi': 1, '0x16e9900': 1, '0x16e96f8': 1, 'selfredirect': 1, 'aprovider': 1, 'componentdidrender': 1, 'pasticular': 1, 'hypen': 1, 'coins': 1, 'dategettime': 1, 'cryptojs': 1, 'inbody': 1, 'maitain': 1, 'option_groups_from_collection_for_select': 1, 'robotics': 1, 'lab': 1, 'registrationcontroller': 1, 'tlb': 2, 'aspxgrid': 1, '__initi__py': 1, 'subsequences': 3, 'comgooglegsoninternallinkedtreemap': 1, 'pandasdataframe': 2, 'succession': 1, 'enqueued': 1, 'guielements': 1, 'fir': 1, '1001': 2, 'divisors': 1, 'readcsvffdf': 1, 'onstop': 1, 'ajaxjquery': 1, 'gbk': 1, 'qdoublespinbox': 1, 'systemdatadatarowcollection': 1, 'elipsis': 1, 'bnotice': 1, 'night': 3, 'serverxml': 1, '23000': 2, 'brushing': 1, 'empirical': 1, 'fsolve': 1, 'createwindowex': 2, 'messageonly': 1, 'cutout': 1, 'restframework': 1, 'mongooperations': 1, '48bpp': 1, 'ieee': 1, 'flocked': 1, 'unlocked': 1, 'unmapped': 2, 'datetimestamp': 1, 'tale': 1, 'stupidly': 1, 'duplication': 2, 'typeradio': 1, 'addoverlay': 1, 'righttoleft': 1, '#5': 1, 'f_globals': 1, 'thisfunction': 1, 'optgroups': 1, 'papersize': 1, 'overlappingmarkerspiderfier': 1, 'cdocumentsthehistorydbaccdb': 1, 'placevalue': 1, 'product_new': 1, 'astyle': 1, 'similarly': 1, 'randomsetseed': 1, 'webinvoke': 1, 'regain': 1, 'javaawtrobotkeypress': 1, 'mousepress': 1, 'pyapns': 1, 'unicoded': 1, 'print_media_type': 1, 'pdfkit': 1, '402': 1, 'replacestate': 1, 'wpcontent': 1, 'adminajaxphp': 1, 'rails_envdevelopment': 1, 'localisation': 1, 'arrayformat': 1, 'workarounds': 2, 'tfslice': 1, 'bbcode': 1, 'filewithout': 1, 'xamlset': 1, 'svnkit': 1, 'pdfviewer': 2, 'functionmoveuploadedfile': 1, 'loginbutton': 1, 'ngpattern': 1, 'get_text': 1, 'at_css': 1, 'ifchanged': 2, 'sp2010': 1, 'monoandroid': 1, 'codeexc_i386_invop': 1, '224': 1, 'unclear': 1, 'resultclose': 1, 'mysqliclose': 1, 'mysql_attr_init_command': 1, '5512': 2, 'onkeypress': 3, 'counterparts': 1, '_tchar': 1, 'annotationexception': 1, 'toone': 1, 'createelementns': 1, 'serialversionuid': 3, 'ontext': 1, 'web_accessible_resources': 1, 'javautilhashmap': 1, 'was_published_recentlyadmin_order_field': 1, 'pub_date': 1, 'appurls': 1, 'config_varsmk': 1, 'xampplinux': 1, 'parasitic': 1, 'db_debug': 1, 'evp_cipher_ctx_': 1, 'evp_cipher_ctx_init': 1, 'inevitable': 1, 'railspng': 1, 'android+java': 1, 'propertygrid': 1, 'possibility': 6, 'reactelementjs': 1, 'websocketservlet': 1, 'doctrineschemaupdate': 1, 'dumpsql': 1, 'requestgetparameters': 1, 'ef5': 3, 'jiggle': 1, 'onfling': 1, 'checkbx': 1, 'windowpopup': 1, 'htpp': 1, 'getlocationonscreen': 1, 'getlocationinwindow': 1, 'uiviewanimatewithduration': 2, 'dispatchevent': 1, 'spantags': 1, 'labeltags': 1, 'bugs': 2, 'storyboardcreated': 1, 'iasyncresultasyncwaithandle': 1, 'formate': 1, 'yyyymmddthhmmsssssssz': 1, 'lower_case_table_names': 1, 'uibinder': 1, 'uiwith': 1, 'lnk1102': 1, 'inpage': 1, 'userini': 1, 'libsystemdylib': 1, 'automaticly': 1, '335': 1, 'navbartoggle': 1, 'erp': 1, 'faulted': 1, 'imageio': 1, '5c': 1, '0d': 2, 'gradients': 3, 'programdata': 1, 'winioerror': 1, 'pandigital': 1, 'textblocktext': 1, 'writeconcern': 1, 'unloadnamespace': 1, 'dynamicaly': 3, 'cpickle': 1, 'springjava': 1, 'keylistener': 1, 'hasnextint': 1, 'logwriter': 1, 'dimentions': 1, 'sendcompleted': 1, 'unconventional': 1, 'panby': 2, 'rerendering': 4, 'datagridviewlinkcolumn': 1, 'treeitem': 1, 'winnth': 2, 'parsers': 2, 'askopenfilename': 1, 'counters': 3, 'http_user_agent': 1, 'deferring': 1, 'polmyer': 1, 'ironajax': 2, 'functor': 2, 'defaultstyleproto': 1, 'xpathjs': 1, 'noninteractively': 1, 'remove_if': 1, 'fill_between': 2, 'systemthreadingtaskstask': 2, 'autodividers': 1, 'stdlistt': 1, 'jsongetjsonarray': 1, 'actionbegininvoke': 1, 'delaration': 1, 'datewithtimeintervalsincenow': 1, 'sourcefile': 1, 'organization': 4, 'saas': 1, 'phpstore': 1, 'user_path': 1, 'documentnewpage': 1, 'mod_jk': 1, 'goods': 1, 'psr1': 1, '2compilant': 1, 'phphintorg': 1, 'north': 2, 'mapggplot2': 1, 'operationcontextscope': 1, 'subprojects': 2, 'armv7': 3, '19033': 1, 'defaultcelleditor': 1, 'distributing': 1, 'tilemaps': 1, 'cap': 5, 'sqalchemy': 1, 'apc': 2, 'munched': 1, 'submitfunction': 1, 'methodinterceptor': 2, 'javasqltime': 1, 'pvr': 1, '8888': 2, 'symlink': 1, 'study': 1, 'abline': 2, 'syntactical': 1, 'zendeskcom': 1, 'uibuttonbaritem': 1, 'v14': 2, 'skspirtenode': 1, 'u2014': 1, 'vsnprintf': 1, 'vsprintf': 1, 'parametirized': 1, 'appcontext': 1, 'createuserwizard': 1, 'membershipcreateuser': 2, 'idbcontextfactory': 1, 'interopb': 1, 'particularly': 2, 'tokenstorage': 1, 'stretched': 1, 'isolationlevel': 1, 'networkactivityindicatorvisible': 1, 'freehand': 1, 'reencode': 1, 'donts': 2, 'jasmin': 2, 'verions': 1, 'c1014': 1, 'backgroundworkers': 1, 'exploited': 1, 'took': 1, 'paints': 1, 'classnames': 1, 'exc_bad': 1, 'unclickable': 1, 'imread': 2, 'unicodes': 1, 'errorbar': 2, 'increment_id': 1, 'valueforkeypath': 1, '67': 1, 'variety': 1, 't_constant_encapsed_string': 2, '5x7': 1, 'gi': 1, 'time_date_data': 1, 'pointertomember': 1, 'ten': 2, 'limitinternalrecursion': 1, 'catenated': 1, 'javaxfacesresource': 1, 'jqueryxhtml': 1, 'externalcontext': 2, 'annotationname': 1, 'targetframework': 1, 'dh': 2, 'keypair': 2, 'oauth2native': 1, 'converterparameter': 2, 'autocorrect': 1, 'spelling': 1, 'elementinnerhtml': 1, 'srccomexamplewebbeerselectjava': 1, 'nsmanagedobjectcontext': 1, 'hierarchyrequesterror': 1, 'expectcause': 1, 'hamcrest': 1, 'proportunatly': 1, 'labelfor': 2, 'multihandlesliderextender': 1, 'scalabale': 1, 'shellexecute': 1, 'pgundefinedtable': 1, 'musicians': 1, 'lshift': 1, 'rshift': 1, 'wm_keydown': 2, 'favor': 1, 'proxyconnection': 1, 'autoformatting': 1, 'variablepage': 1, 'sentitive': 1, 'xcodebeta': 1, 'dictionaryadd': 2, 'classdec': 1, 'taskbased': 1, 'applicationdidreceiveremotenotificationfetchcompletionhandler': 2, 'distinguishes': 1, 'prepopulating': 1, 'button_press_event': 1, 'lbsd': 1, 'runatserver': 1, 'fileinputinput': 1, 'timespantryparseexact': 1, 'ljavautilarraylist': 1, 'deepcopying': 1, 'voter': 2, 'trade': 1, 'impute': 1, 'presentviewcontrolleranimatedcompletion': 1, 'folks': 1, 'listtindexof': 1, 'androidrecyclerview': 1, 'webfx': 1, 'cashapelayer': 1, 'hubs': 1, 'naturally': 1, 'patheffects': 1, 'neteller': 1, 'merchant': 1, 'qdesktopwidgetscreengeometry': 1, 'instrrev': 1, 'uicollectionviewcontroller': 2, 'hook_menu': 1, 'componentsseparatedbystring': 1, 'vc6': 1, 'blows': 1, 'pg_dump': 1, 'checkedcomboboxedit': 1, 'input_dataread_data_sets': 1, 'mnist_data': 1, 'one_hottrue': 1, 'vibrating': 1, 'create_user': 1, 'outputformat': 1, 'dependencytree': 1, 'testreporter': 1, 'spanerror': 1, 'reheap': 1, 'dividers': 1, 'tivar': 1, 'filesrc': 1, 'infirst': 1, 'kohana': 1, 'lineto': 1, '65535': 1, 'localnotification': 1, 'orthographic': 1, 'listcollectionview': 1, 'serverthe': 1, 'phpunitskelgen': 1, 'sigchld': 1, 'pageopen': 2, 'multiapps': 1, 'ok_button': 1, 'attributes_for': 1, 'envelope': 5, 'postion': 2, 'matplotlibpyplotquiver': 1, 'sp_databases': 1, 'chartareacollection': 1, 'refind': 1, 'gzipping': 1, 'application_postauthenticaterequest': 1, 'release_6': 1, 'orgeclipsepersistenceinternaljpamodelgencanonicalmodelprocessor': 1, '63mb': 1, 'triggerlike': 1, 'sinister': 1, 'greplike': 1, 'numpycorrelate': 1, 'ignorecase': 1, 'filter_input': 2, 'requestsfutures': 1, 'javausing': 1, 'bitfield': 1, 'differents': 2, 'skin_js': 1, 'jawt': 1, 'textfieldshouldbeginediting': 1, 'typereferencee': 1, 'classe': 1, 'cancellable': 1, 'honeycomb': 1, 'tupleis': 1, 'boostposix_timeduration': 1, 'pos_infinite': 1, 'vulnerabilities': 2, 'jscoffee': 1, 'dbentityentry': 1, 'unclick': 1, 'topmenuphp': 1, 'topmenuphtml': 1, 'estimate': 1, 'ppsize': 1, 'aspupdatepanel': 1, 'indicators': 1, 'rgba': 3, 'realmtransformer': 1, 'set_error_handler': 2, 'framebuffer': 1, 'cubemaps': 1, 'gles': 1, 'httppostedfilebase': 2, 'ckeditorplugin_controller_path': 1, 'stanfordnertagger': 1, 'loggerfactory': 1, 'graphicscopyfromscreen': 1, 'net_device': 1, '2632': 1, 'weighing': 1, 'rs232': 4, 'exinvisible': 1, 'struggle': 2, 'afterclass': 3, 'tear': 1, 'eventlog': 1, 'wpconfigphp': 2, 'colclasses': 1, 'win32_desktopmonitor': 1, 'nehotspothelper': 1, 'networkextension': 1, 'ios90': 1, 'commandtimeout': 1, 'signinwithemailandpassword': 1, 'emailauthprovider': 1, 'mathfmathfapproximately': 1, 'dlsslgooglecom': 1, 'addons_listxml': 1, 'dataframereset_index': 1, 'growl': 2, 'arel': 1, 'fdopen': 2, 'orgmockitoexceptionsmisusinginvaliduseofmatchersexception': 1, 'webm': 2, 'ogv': 1, 'django_tables2': 1, 'errorunresolved': 1, 'clustergram': 1, 'navigatoronline': 1, 'autoconverting': 1, 'exponential': 4, 'doubleparsedouble': 1, 'autogrow': 1, 'wsgiinput': 1, 'checkboxmodel': 1, 'c4700': 1, 't_break': 1, 'asfreq': 1, '#import': 2, 'set_value': 1, 'qmark': 1, 'informative': 1, 'tomcatjdbc': 1, 'pooled': 2, 'nonsynchronized': 1, 'php_connect_nonb': 1, 'inputprocessor': 1, 'conversations': 1, 'stopwords': 2, 'scraper': 3, 'browserifyshim': 1, '24h': 1, 'urlencoderencode': 1, 'atribute': 1, '0x800a01a8': 1, 'collectionfetch': 1, 'naked': 1, 'makearray': 1, 'appdomain': 1, 'consolewrite': 1, 'util_usbuirtdll': 1, 'isgraph': 1, 'itemview': 2, 'flv': 1, 'csvread': 1, 'identityuserloginstring': 1, 'listcontains': 1, 'draper': 2, 'packs': 2, 'uiviewcontentmodescaleaspectfit': 2, 'notequal': 1, 'tunnelling': 1, 'testunit': 1, 'repl': 2, '200mb+': 1, 'ldf': 1, 'c++using': 1, 'jqueryhtml': 2, 'getwindow': 1, 'queueempty': 1, '#411': 1, 'revision': 2, 'errorsfirst': 1, 'fromat': 1, 'fromfunction': 1, 'browers': 1, 'dijitlayoutbordercontainer': 1, 'binary_log_typesh': 1, '2sec': 1, 'wssecurity': 1, 'clientvalidationfunction': 1, 'static_url': 2, 'inclusion': 6, 'cyclical': 1, 'msb5010': 1, 'aspnet_40_64bit': 1, 'dict_items': 1, 'dict_values': 1, 'colorxml': 1, 'patternmatcher': 1, 'patternmatches': 1, 'unsafepointerunsafepointercfloat': 1, 'centers': 1, 'schemaexport': 1, 'mobiledevices': 1, 'xss_clean': 2, 'displayfor': 2, 'isrowversion': 1, 'didgits': 1, 'pandasseries': 1, 'textfieldshouldchangecharactersinrangereplacementstring': 1, 'customobject': 3, 'mdx': 1, 'modalonly': 1, 'containedin': 1, 'contentresult': 1, 'implode': 4, 'observeondispatcher': 1, 'threadpoolqueueuserworkitem': 2, 'serializations': 1, 'eclipseini': 1, '45s': 1, 'whenall': 1, 'annoyance': 1, 'clang++': 3, 'gfortran': 1, 'thrownsystemdllnotfoundexception': 1, 'crc32': 2, 'sdi': 1, 'cformview': 1, 'ns1clientauth_1': 1, 'stdoutsync': 1, 'releasestringutfchars': 1, 'getstringutfchars': 1, 'datastax': 1, 'nohostavailableexception': 1, 'abstractmethoderror': 1, 'jadiru': 1, 'agnostic': 1, 'monospaced': 1, 'loadhitstore': 1, 'unsequenced': 1, 'immutablebitset': 1, 'scrollheight': 2, 'netbean': 1, 'pythondev': 1, 'apt_pkg': 1, 'stacks': 2, 'ult': 1, 'imgtype': 1, 'choicefield': 3, 'fighting': 1, 'scriptpy': 2, 'comfasterxmljacksoncorejacksoncorejar1911': 1, 'elasticjs': 1, 'repeateritemdatabound': 1, 'formerror': 1, 'meteoruserid': 1, 'changeable': 1, 'redirectback': 1, 'onmousedown': 1, 'nonowning': 1, 'c#driverdeserialize': 1, 'bsonarray': 1, 'add_filter': 2, 'emulation': 3, 'netwebresponse': 1, 'shoudnt': 1, 'adbapi': 1, 'dictcursor': 1, 'diacritic': 1, 'hypotenuse': 1, 'targethref': 1, 'href#img': 1, 'resouces': 1, 'stdlock_guard': 2, 'begingetresponse': 1, 'orgcodehausmojoexecmavenplugin160exec': 1, 'ors': 1, 'getlogicaldrives': 1, 'meassage': 1, 'aspnet40': 1, 'reactchildrenonly': 1, 'xlsm': 3, 'setpoolable': 1, 'controltransfer': 1, 'webhooks': 1, 'heigh': 1, 'clipped': 1, 'horseman': 1, 'jrc': 1, 'mongoosemodel': 1, 'localsessionfactorybean': 1, 'httpurlconnectiongetinputstream': 1, 'aes512': 1, 'twitterlike': 1, 'cacheitem': 1, 'regionname': 2, 'responsibility': 1, 'tuotiral': 1, 'european': 1, 'phpthumb': 1, 'testcompile': 1, 'tomact': 1, 'xmlunit': 1, 'raise_error': 1, 'locationreload': 3, 'alamofirerequest': 1, 'urlrequestconvertible': 1, 'webserviceref': 1, 'referencecs': 1, 'hasanyrole': 1, 'alfresco': 5, 'integerarray': 1, 'ondragleave': 1, 'pdftotext': 1, 'ajaxrespondersregister': 1, 'linebreaksbr': 1, 'tomcat6': 2, 'st_mode': 1, 'webkitsearchcancelbutton': 1, 'cs0246': 1, 'recompiling': 1, 'utilisation': 1, '#value': 1, 'formtasticsemanticformhelper': 1, 'ejs': 1, 'domainavfoundationerrordomain': 1, 'code11821': 1, 'dependencyjars': 1, 'withot': 1, 'interleaving': 2, 'g_timeout_add': 1, 'arraysaslist': 2, 'javautilarraysarraylist': 1, 'nonsense': 1, 'modelsdatetimefield': 1, 'pubnubcom': 1, 'pushercom': 1, 'validatejs': 1, 'decompiling': 2, 'waitforselector': 1, 'imageliteralresourcename': 1, 'bicubic': 1, 'exposed': 1, 'cordovas': 1, 'autozooming': 1, 'someobject': 1, 'translatable': 1, 'scheduledthreadpoolscheduleatfixedrate': 1, 'discarded': 1, 'itextsharpdll': 2, 'tensorproto': 1, 'tour': 3, 'decrese': 1, 'objectanimator': 2, 'translateanimation': 2, 'sscanf_result': 1, 'kindkde': 1, 'navjustified': 1, 'hasdata': 1, 'annotationconfigapplicationcontext': 1, 'trims': 1, 'plesk': 1, 'chpt': 1, 'removelot': 1, 'validationsummary': 3, 'mammalh': 1, 'columnfamily': 1, 'rehash': 1, 'visibilityhidden': 3, 'javaiocloseable': 1, 'rc4011': 1, 'getenumerator': 1, 'opting': 1, 'ie8mode': 1, 'dochostuiflag_dpi_aware': 1, 'mmap': 3, 'munmap': 1, '783rd': 1, 'netifaces': 1, 'keytool': 1, 'diffrentiated': 1, 'tablelayout': 1, 'lstrip': 1, 'doctrineormquerybuildergetresult': 1, '2038': 1, '320': 1, 'adapter_pageradapter': 1, 'configurationsection': 1, 'nodegd': 1, 'jsfile': 1, 'mailitem': 1, 'dopar': 1, 'stringisempty': 1, 'shdocvwshellwindows': 1, 'selectoption': 1, 'syncvar': 1, 'scrollviews': 1, 'queryobject': 1, 'appliance': 1, 'tryremove': 1, 'autocreate': 1, 'schemata': 1, 'localxml': 1, 'setundecorated': 1, 'collectionchanged': 1, 'isitemclickenabled': 1, 'allocconsole': 1, 'nextelementsibling': 1, 'uirouting': 1, 'alnum': 1, 'getyear': 1, 'start_session': 1, 'bashstyle': 1, '1237898': 1, 'designmode': 2, 'requestuserhostname': 1, 'targetexception': 1, 'sess_match_ip': 1, 'unquote': 1, 'scrolltoexact': 1, 'hivehcatalog': 1, 'hcatalog': 1, 'hivehcatalogcorejar': 1, 'gbp': 1, 'nvcc': 1, '__float128': 1, 'objectcategoryuser': 1, 'cn': 2, 'samaccountname': 2, 'eden': 1, 'survivor': 1, 'nonvoid': 2, 'sesstion': 1, 'messagesourceaware': 1, 'atags': 1, 'cheerio': 1, 'smartfilterbar': 1, 'filtertype': 1, 'overview': 1, 'transliterator_transliterate': 1, 'wampserver': 2, 'nethttps': 1, 'slugs': 1, 'delegatemethod': 1, 'gwttestcase': 1, 'd3symbol': 1, 'ivalueconverter': 1, 'browsersync': 2, 'compliation': 1, 'requestuser': 2, 'easy_install': 2, 'httpurlconnections': 1, 'defaultprettyprintingwriter': 1, 'einaros': 1, 'taskexwhenall': 1, 'subreport': 2, 'rake1011': 1, 'parentview': 1, 'dbwritetable': 2, 'overwritng': 2, 'arules': 1, 'assignability': 1, 'emulators': 1, 'pesented': 1, 'neat': 1, 'dutch': 1, 'orgapachehttpclientclientprotocolexception': 1, 'meanjs': 1, 't_boolean_and': 1, 'dropdownlistfor': 3, 'dbupdateexception': 2, 'javautilarrays': 2, 'discrepancy': 2, 'responsebinarywrite': 2, 'viewforfooterinsection': 1, 'docmddeleteobject': 1, 'ifdef': 2, 'imagined': 1, 'activity_main': 1, 'bulding': 1, 'cnn': 1, 'complaints': 1, 'lxmlobjectify': 1, 'database_authenticatable': 1, 'shared_from_this': 1, 'memorymapped': 1, 'directsound': 1, 'pageviews': 1, 'thrashing': 1, 'nonserializable': 1, 'imagesmoothingenabled': 1, 'canvases': 1, 'determin': 1, 'httpmodules': 1, 'robbers': 1, 'preavailable': 1, 'uitableviewdatasource': 1, '7062': 1, 'pythonstartup': 1, 'treelike': 2, 'geocomplete': 1, 'zippysharecom': 1, '226': 3, 'disaplay': 1, 'iscrolljs': 2, 'memoryviews': 1, 'nocoverage': 1, 'flawlessly': 1, 'laddabuttons': 1, 'viewlist': 1, 'rubyexe': 1, 'c#converting': 1, 'sucessfully': 1, 'objectgettype': 1, 'selfview': 1, 'widgetid': 1, 'uxa3': 1, 'tubes': 1, 'pythonpil': 1, 'filestreams': 1, 'multivalued': 1, 'maplong': 1, 'mfmailcomposer': 1, 'arrayprototypefilter': 1, 'selfvalidating': 1, 'orgapachesolrcommonsolrexception': 1, 'simplifying': 2, 'listttoarray': 1, 'windowsservices': 1, 'anon': 1, 'systemargumentnullexception': 4, 'authorities': 2, 'deploymigrations': 1, 'colormap': 2, 'jinjas': 1, 'p2': 1, 'openpopup': 1, 'cewp': 1, 'htmldocumentevent': 1, 'r_home': 1, 'largebinary': 1, 'jsonencoded': 1, 'ngresource': 1, 'initparam': 1, 'hrefjavascriptdosomething': 1, 'oauth2clientclient': 1, 'win32_networkadapter': 1, 'netenabled': 1, 'createcriteria': 1, 'principalcontextvalidateuser': 1, 'omph': 1, 'szarrayenumerator': 1, 'systemcollectionsgenericienumerator': 1, 'ed': 1, 'ienumerableienumerableint': 1, 'ienumerableints': 1, '344': 1, '0x9d': 1, 'handing': 1, 'ownership': 3, 'datalists': 1, 'routerlinkactiveoptions': 1, 'mapa': 1, 'listb': 1, 'postman': 3, 'quotedprintable': 1, 'srand': 2, 'phper': 1, 'lenght': 1, 'popuphtml': 1, 'harris': 1, 'selfviewlayoutifneeded': 1, 'x86_64pccygwingcc': 1, 'jradiobutton': 2, 'grandchildren': 1, 'after_add': 1, 'before_add': 1, 'triplets': 1, 'routed': 2, 'mysql_field_name': 1, 'applicationrestart': 1, 'backticks': 1, 'qsqldatabase': 1, 'requestpostget': 2, 'sth': 2, 'simulates': 1, 'helps': 1, 'listmyclass': 1, 'ink': 1, 'mathinputcontrol': 1, 'httpserverfactory': 1, 'configparsernosectionerror': 1, 'myvars': 1, 'form_builder': 1, 'htmlcontrol': 1, 'styleadd': 1, 'catransform3d': 1, '+530': 1, 'java_tool_options': 1, 'memberof': 2, 'backgroung': 1, 'updated_at': 4, 'sensative': 1, 'drawplaceholderinrect': 1, 'multithreads': 2, 'filetestexists': 1, 'singlecolumn': 1, 'injectorunpr': 3, 'spfile': 1, '2359': 1, 'itextextractionstrategy': 1, 'locationtextextractionstrategy': 1, 'atlases': 1, 'yuv': 1, 'rpcliteral': 1, 'unqualified': 3, 'infinitepagingview': 1, 'islands': 1, 'bluescreen': 1, 'designtime': 1, 'mixer': 1, 'doubleproperty': 1, 'qsqltablemodel': 1, 'nonenumerable': 1, 'variablesize': 1, 'viewdidappear': 1, 'tablecolumn': 1, 'wsgi': 1, 'microsoftexceptionmessagebox': 1, 'qtablewidgetitem': 1, 'timestampdiff': 1, 'comparer': 3, 'resourcesresx': 1, 'applicationillegal': 1, 'script1002': 1, 'csvtable': 2, 'psr0': 1, 'c++14': 1, 'binarywriter': 1, 'recyclerviewadapter': 1, 'arraylistsubtype': 1, 'arraylisttype': 1, 'isnan': 1, 'bindingtargetupdated': 1, 'firring': 1, 'undesired': 1, 'ninfinity': 1, 'petersons': 1, 'embeddednavigator': 1, 'stat_smooth': 1, 'ios5delete': 1, 'uibackgroundtaskinvalid': 1, 'postbackurl': 1, 'offdatabase': 1, 'currencies': 2, 'mainwindowxaml': 1, 'spaceless': 1, 'javascsript': 1, 'systemdatadataviewmanagerlistitemtypedescriptor': 1, 'spiderable': 1, 'javaw': 1, 'nilclass': 1, 'diagonals': 1, 'monad': 2, 'systemformatexception': 2, 'zend_http_client': 1, 'setdefaultencoding': 1, 'popupcontrolextender': 1, 'systemwindowsformsdatagridviewrow': 1, 'winmodelsresourcemodel': 1, 'webtolead': 1, 'imacro': 1, 'attrclassimg': 1, 'uploadifive': 1, 'xmlanyelement': 1, 'knights': 1, 'endblock': 3, 'forget': 1, 'patternsyntaxexception': 1, 'response_change': 1, 'errorid560022': 1, 'messagethe': 1, 'xpaypalapplicationid': 2, 'getsource': 1, 'dbgp': 1, 'gemsets': 2, 'powerset': 1, 'globalmemorystatusex': 1, 'decision': 4, 'htmlcxx': 1, 'linuxstyle': 1, 'coffee': 1, 'base64encoded': 3, 'commentscontroller': 1, 'reflector': 2, 'isatty': 1, 'stdcinstd': 1, 'babelify': 1, 'sourcetype': 1, 'yiis': 1, 'cactiveform': 2, 'dnn': 1, 'resourcemanagment': 1, 'exceptionsunicodedecodeerror': 1, 'opengls': 1, 'gluint': 1, 'zerosized': 1, '330': 1, 'slanted': 1, 'mouseovers': 1, 'jemalloc': 1, 'my_translated_string': 1, 'collation': 1, 'utf_general_ci': 1, 'breakage': 1, 'instantiable': 2, 'e5': 1, 'persistenceunitmetadata': 1, 'enabledin': 1, 'customusernamepasswordvalidatortype': 1, 'railstutorialorg': 1, 'orggradleapiartifactsconfiguration': 1, 'ssl_context': 1, 'containerview': 1, 'databasedependent': 1, 'systemrandom': 1, 'nodetypealias': 1, 'comm': 3, 'htmlbased': 1, 'pageresources': 1, 'disable_functions': 2, 'pairing': 1, 'relating': 3, 'fontbold': 1, 'headerstyle': 2, '__nscfnumber': 1, 'getproperty': 1, 'bindingflagsignorecase': 1, 'mh_bundle': 1, 'dylib': 2, 'v200beta15': 1, 'startservicectrldispatcher': 1, '1063': 1, 'patches': 1, 'optparse': 1, 'creating+reading+appending+binary': 1, 'qglformat': 1, 'inturrupts': 1, 'refrence': 2, 'thisprops': 1, 'multiview': 2, 'webpackconfig': 1, 'ftp_login': 1, 'geotag': 1, 'functionsystem': 1, 'boostbind': 3, 'substring_index': 1, 'outlier': 2, 'sym': 1, 'modelbuildercreatebox': 1, '305': 2, 'javaawtheadlessexception': 1, 'comtrendiwssjscan': 1, 'inadvertently': 1, 'pgrowl': 1, 'setnumberoflines': 1, 'artist': 1, 'systemwebservicesprotocolssoapexception': 1, 'c1010070': 1, 'hibernateexception': 4, 'copyandswap': 1, 'dismissviewcontroller': 1, 'invalidclassexception': 1, 'lookandfeel': 1, 'resemble': 1, 'hist': 4, 'lfilter': 1, 'modulename': 1, '1000+': 1, 'array_map': 4, 'inserted_primary_key': 1, 'dbengineconnect': 1, 'gl_out_of_memory': 1, 'attachthreadinput': 1, 'compressible': 1, 'djangjo': 1, 'method_descriptor': 1, 'viewcell': 1, 'attributeusage': 1, 'attributetargetsmethod': 1, 'easyslider': 1, 'jprogressbar': 1, 'aspnetusers': 1, 'memoryefficient': 1, 'vtable': 2, 'binay': 1, 'u_char': 1, 'sigpipe': 1, 'nsrange': 2, 'diffgram': 1, 'tga': 1, 'objectbut': 1, 'tolower': 2, 'principalsearcher': 1, 'cygwincompiled': 1, 'ipadpopover': 1, 'linkexit': 2, 'textfieldshouldreturn': 3, 'mdautocomplete': 1, 'restated': 1, 'angular1': 1, 'xjcsimple': 1, '0x5f': 1, 'runtimewarning': 2, 'defaultpng': 1, 'sublayer': 1, 'snireadsyncoverasync': 1, 'copypaste': 2, 'djangotemplate': 1, 'blongs': 1, 'modifications': 1, 'postalcode': 1, 'addressdetails': 1, 'arraywitharray': 1, 'urlretrieve': 1, 'microsoftaceoledb120': 2, 'uibpopover': 1, 'zend_mail': 1, 'recored': 1, 'usning': 1, 'systemdrwaingcolor': 1, 'namevaluesectionhandler': 1, 'bubblesort': 1, 'splits': 2, 'aspxcallbackpanel': 1, 'systemmath': 1, 'sin': 2, 'cos': 2, '1420': 1, 'keyevent': 1, 'statbin': 1, 'statcount': 1, 'systemnetmail': 1, 'incrementation': 1, 'conversionexception': 1, 'ntlm': 2, 'moveup': 1, 'movedown': 1, 'jqzoom': 1, 'systemsoundid': 1, 'activerecordserializationto_xml': 1, 'reflow': 1, 'crossplattform': 1, 'alibrary': 1, 'javalangsecurityexception': 1, 'denial': 1, 'fulfil': 1, 'autocorrelation': 3, 'pandastoolsplotting': 1, 'libpcsclite': 1, '03': 1, 'checkpoint': 1, 'javabuffered': 1, 'brreadline': 1, 'nszombieenabled': 1, 'categorize': 2, 'comming': 1, 'fillet': 1, 'crossover': 1, 'updatesourcetriggerpropertychanged': 1, 'buildformadd': 1, 'airplane': 1, 'networkcredential': 1, 'waitinginmainsignalcatcherloop': 1, 'hooksr': 1, 'mobilesafari': 2, 'lambdabased': 1, 'typereferencet': 1, 'lldb': 1, 'debuggers': 2, 'raddatepicker': 1, 'wasteful': 1, 'chmod': 1, 'dictitems': 1, 'dictiteritems': 1, 'geom_segment': 2, 'thisvalue': 1, 'array_keys': 1, 'array_values': 1, 'jsonview': 1, 'rainbow': 2, 'heightstyle': 1, 'execcommand': 1, 'javassistutilproxyproxy': 1, 'rectanglesjava': 1, 'win32comclient': 1, 'javautilloggingconfigfile': 1, 'reinstantiate': 1, 'incomming': 1, 'spearmans': 1, 'composerphar': 1, 'persisitence': 1, 'orientations': 1, '__stdcall': 1, 'runing': 1, 'datedec': 1, 'replaceall': 5, 'domainame': 1, 'unindent': 2, 'javapairrdd': 1, 'keynotfoundexception': 1, 'rail3app': 1, 'subform': 1, 'remembering': 1, 'firehelp': 1, 'processcmdkey': 2, 'stringbyreplacingoccurrencesofstring': 1, 'brighter': 1, 'imagepicker': 1, 'selfget_serializer': 1, 'requesthandler': 1, 'syntactically': 2, 'item2': 1, 'tuplestring': 1, 'subpixel': 2, 'epass2003': 1, 'dashdelimited': 1, 'betweeen': 2, 'mediatypeapplication_json': 1, 'webapi2': 3, 'sqlite3corruptexception': 1, 'discriminant': 1, 'objectprototypehasownpropertycall': 1, 'objectprototypehasownproperty': 1, 'isdebugenabled': 1, 'getchildhtml': 1, 'w3wpexe': 1, 'orghibernatenonuniqueresultexception': 1, 'ipads': 2, 'orghibernateexceptionconstraintviolationexception': 1, 'current_timestamp': 1, 'select_sum': 1, 'cpprest': 1, 'ljavalangbyte': 1, 'mscrm': 1, 'inputtext': 2, '__del__': 1, 'saveall': 2, 'nulling': 1, 'embeddedcassandraserverhelper': 1, 'rootelement': 1, 'windowbeforeunload': 1, 'cookiecontainer': 1, 'apachecxf': 1, 'httpcomponents': 2, 'magic_quotes_gpc': 2, 'szimek': 1, 'signature_pad': 1, 'textwrapwrap': 1, 'textwrapfill': 1, 'droptarget': 1, 'july': 1, 'brightening': 1, 'tracepoint': 1, 'eeg': 1, 'neurosky': 1, 'mindwave': 1, 'skview': 1, 'uimodalpresentationstyle': 1, 'imagelocation': 1, 'accidental': 2, 'mockable': 1, 'set_new_handler': 1, 'cmp': 3, 'installinstallfile': 1, 'writeable': 1, 'authentication_token': 1, 'sumbit': 1, 'soket': 1, 'mini_magick': 1, 'applicationname': 1, 'cliprect': 1, 'trivial': 2, 'boxing': 2, 'unboxing': 1, 'dilation': 1, 'erosion': 1, 'stdaddressof': 1, 'cloest': 1, 'confidential': 1, 'excels': 1, 'quotient': 2, 'bootstrapmodaljs': 2, 'y__eq__': 1, '75th': 1, 'messageheader': 1, 'messagebodymember': 1, 'inconcistency': 1, 'public_path': 1, 'cxampphtdocs': 1, 'javasecuritynosuchalgorithmexception': 1, 'pbe': 1, 'aescbcopenssl': 1, 'spanning': 2, 'metacharacter': 1, 'c2672': 1, '__surrogate_func': 1, 'stdupper_bound': 1, 'commandt': 1, 'openjdks': 1, 'sourceset': 1, 'flavor': 2, 'srcdirs': 1, 'encompasses': 1, 'arraylistcontains': 2, 'php_ssh2dll': 1, 'sp3': 1, 'gdjpeg': 1, 'recoverable': 1, 'ldap_opt_debug_level': 1, 'adaptively': 1, 'fileuploadparser': 1, 'offsetof': 1, 'cultureinfoinvariantculture': 2, 'nonce': 2, 'wherelistiteratortolist': 1, 'puts': 3, 'asort': 1, 'rasort': 1, 'xefxbfxbd': 1, 'xxxxxx': 1, 'installplatlib': 1, 'pydistutilscfg': 1, 'dfiloc': 1, 'mainwindowxib': 1, 'pythonss': 1, 'failes': 2, 'undestand': 1, 'et': 2, 'elevatezoom': 1, 'xoauth': 1, 'highchartjs': 1, 'basic_filebuf': 1, 'freetds': 1, 'timeintervalsincenow': 1, 'pageunload': 1, 'bundlerdeployed': 1, 'accordian': 1, 'cvcreateeigenfacerecognizer': 1, 'treelistcontrol': 1, 'navbarcontrol': 1, 'javajre6libi386jvmcfg': 1, 'al': 1, 'speical': 1, 'dropzone': 2, 'nsinvocation': 2, 'setselector': 1, 'ora12557': 1, 'tnsprotocol': 1, 'singleelement': 1, 'async_send': 1, 'setmodel': 1, 'std430': 1, 'cassert': 1, 'asserth': 1, 'webapps': 1, 'videowriter': 2, '554kb': 1, 'xf0x9fx98x9c': 1, 'calchist': 1, 'orgeclipsewstserveruiinternalprovisionaluidecoratormanager': 1, 'filter_validate_email': 1, 'backbonehistory': 1, 'challange': 1, 'gross': 2, 'default_controller_and_action': 1, '0x1': 2, 'natives': 2, 'dijitdialog': 1, 'responsesetcontenttype': 1, 'rhel': 1, 'libstdc++so': 1, 'gurus': 1, 'summaries': 1, 'stdpackaged_task': 1, 'stdunique_ptr': 1, 'interfaceinstances': 1, 'repopulate': 2, 'appcelerator': 2, 'tableviewrow': 1, 'selectedbackgroundcolor': 1, 'setsotimeout': 1, 'matrixparam': 1, 'errortable': 1, 'triplepointers': 1, 'setlayoutparams': 1, '40+': 1, 'importexport': 1, 'cryptographic': 1, 'rpush': 1, 'iregionnavigationjournalgoback': 1, 'invocationwithmethodsignature': 1, 'sharepointcreatedmodifiedinfo': 1, 'serializationresponse': 1, 'code1011': 1, 'reflective': 1, 'lpstr': 1, 'd3minjs1': 1, 'mnan': 1, 'nanlnan': 1, 'ado': 6, 'tint': 2, 'fmdb': 2, 'ko': 2, 'ownerdraw': 1, 'inetaddressgetbyname': 1, 'sigaction': 1, 'lessthan': 1, 'greaterthan': 1, 'systemstringsplit': 1, 'exceptionmapper': 1, 'fromarray': 1, 'freopen': 1, 'remoteserver': 1, 'flto': 1, '2028': 1, 'resorting': 1, 'registeronsubmitstatement': 1, 'customframe': 1, 'imgareaselect': 1, 'mutability': 1, 'weblogic92': 1, '92': 1, 'cron_scheduler': 1, 'layoutmargins': 1, 'membershipusergetallusers': 1, 'functioncall': 1, 'midway': 1, 'imagenamed': 2, 'is_staff': 1, 'is_superuser': 1, 'uploadpart': 1, 'syndicationfeed': 1, 'uninstallstring': 1, '2009': 1, 'googlendk': 1, '538': 1, 'winner': 2, 'entrek': 1, 'codesnitch': 1, 'ironruby': 1, 'saturdays': 1, 'framing': 1, 'mangled': 2, 'erd': 1, 'ienumerableienumerablet': 1, 'singlevaluestoptracking': 1, 'wixcom': 1, 'edicycom': 1, 'pivotitem': 2, 'xctestcase': 2, 'mic': 2, 'speaker': 1, 'coffeescripts': 1, 'darts': 1, '240': 1, 'userprofile': 2, 'drupal7': 1, 'electronic': 1, 'commadelimited': 2, 'aterror': 1, 'codeh10': 1, 'descapp': 1, 'methodget': 2, 'objaddeventlistener': 1, 'datadefinitionformulafieldsitemtext': 1, 'wow6432': 1, 'messin': 1, '__dir__': 1, 'mapreduceinputlineinputformatlinespermap': 1, 'mapredmaxmapfailurespercent': 1, 'locationsearch': 2, 'windowparentdocument': 1, 'typeuser': 1, 'httpcode': 1, 'observabledefer': 1, 'millis': 1, 'qtabwidget': 1, 'ionicframework': 1, 'cmakedefine': 1, 'filesystemwatcher': 2, 'mozfullscreenchange': 1, 'symbolmethod': 1, 'exploitable': 1, 'kayak': 1, 'ppk': 1, 'propertiessettings': 2, 'backupstore': 1, 'workings': 1, 'avsamplebufferdisplaylayer': 1, 'ie9compabilitymode': 1, 'script601': 1, '261': 3, 'rotatetransform': 1, 'onretainnonconfigurationinstance': 1, 'selfhosted': 2, 'taskcontinuationoptionsonlyonfaulted': 1, 'marshalcopy': 1, 'intptr': 2, 'xfbml': 1, 'colorwithpatternimage': 2, 'lglut': 1, 'crosssubdomain': 1, 'commonsvalidator': 1, 'gtlds': 1, 'singlylinked': 1, 'out_of_range': 1, 'bitmapdecoder': 1, 'javacameraview': 1, 'basestring': 1, 'typesstringtype': 1, 'jvisualvm': 1, '510ga': 1, 'inception': 2, 'myprojectdll': 1, 'calcualte': 1, 'thier': 1, 'predictive': 1, 'jcarousel': 1, 'definiton': 1, 'install_lib': 2, 'buildlib': 1, 'plottin': 1, 'ttys0': 1, 'ttyusb0': 1, 'kept': 2, 'bootstrap_icon': 1, 'infomessage': 1, 'javaxmailauthenticationfailedexception': 3, 'donate': 1, 'bilateral': 1, 'vbapplication': 2, 'aspnethost': 1, '0xa5': 1, 'orgapachehttpimplclientcloseablehttpclient': 1, 'ridedit_message': 1, 'deploymigrate': 1, 'ccs': 1, 'fxstrikethrough': 1, 'cs1518': 1, 'sysobjects': 1, 'countdownlatch': 3, 'cacertpem': 1, 'imageformat': 1, 'containervalidate': 1, 'libma': 1, 'repetitions': 2, 'databindereval': 2, 'overwritable': 1, 'transparently': 1, 'wpconfig': 1, 'crosssiteiframe': 1, 'gwtxml': 1, 'requestgetsession': 1, 'jsr303': 1, 'lpctstr': 1, 'suits': 1, 'sessionscoped': 1, 'ringtone': 2, 'ringtones': 1, 'tablerows': 1, 'grouplayout': 1, 'reinitializing': 1, 'jcarousellite': 2, 'queryfetch': 1, 'chameleon': 1, 'consonant': 1, 'mechanims': 1, 'jsonencoding': 1, 'functionstrpos': 1, 'hidden_field': 1, 'strncmp': 1, 'gemremotefetcherfetchererrorssl_connect': 1, 'erno0': 1, 'statesslw3': 1, 'completionblock': 1, 'viewcshtml': 1, 'scrollabletrue': 1, 'parameterised': 2, 'distribute': 2, 'curl_init': 1, 'profilers': 1, 'debugged': 2, 'jumptask': 1, 'falsetrue': 1, 'v44': 1, 'neatly': 1, 'systemdataentityinfrastructuretableexistencechecker': 1, '613': 1, 'deactivating': 1, 'youtubephp': 1, 'areachart': 3, 'nsdictionarys': 2, 'commandlinearguments': 1, 'ldap_bind': 1, 'lattitude': 1, 'loginjsp': 1, 'signedindeprecated': 1, 'playbook': 1, 'html_safe': 1, 'datetimediff': 1, '5217': 2, '#3': 2, 'i1': 1, '20k': 1, 'fastclick': 1, 'pkcs5padding': 1, 'editableiphone': 1, 'aspnetmvc4': 1, 'extention': 2, 'httpsecurity': 2, 'setups': 2, 'pthread_t': 1, 'equivelants': 1, 'mysqliexecute': 1, 'autoellipsis': 1, 'configsecret_key_base': 1, 'staircase': 1, 'incompatibilities': 1, 'ienumerablestring': 2, 'shifts': 1, 'getbyid': 1, 'expert': 2, 'sockertrecv': 1, 'filtertoolbar': 1, 'checkboxischecked': 1, 'nullablebool': 1, 'pma': 1, 'numpymatrix': 1, 'noninteger': 2, 'onattach': 1, 'orgelasticsearchcommonlucenelucene': 1, 'mediaattachment': 1, 'crops': 1, 'pythonwrite': 1, 'objectc': 1, 'imagecolorallocatealpha': 1, 'onconfigurationchanged': 1, 'pbxproj': 1, 'xcodeproj': 1, 'improvement': 2, 'splitview': 1, 'eventbus': 1, 'eventobject': 1, 'sessionmanager': 1, 'backgrounds': 3, 'calendarminute': 1, 'lisp': 1, 'uitextfieldviewmodewhileediting': 1, 'refill': 1, '44w': 1, 'ghostdriver': 1, 'hasextension': 1, 'opencvhpp': 1, 'paginating': 2, 'loging': 1, 'crockfords': 1, 'comitextpdftextpdfpdfarray': 1, 'comitextpdftextpdfprindirectreference': 1, 'applicationexception': 1, 'euclids': 1, 'logistic_sgd': 1, 'lattice': 1, 'midpoint': 2, 'httpsession': 2, 'contravene': 1, 'unfocusable': 1, 'windowsformscontrol': 1, 'horspool': 1, 'sophisticated': 1, 'stringdouble': 1, 'threadsetdefaultuncaughtexceptionhandler': 1, 'aspplaceholder': 1, 'uivibrancyeffect': 1, 'multer': 1, 'listunknown': 1, 'systemreflectionpropertyinfo': 1, 'appointment': 3, 'webelements': 1, '1020': 1, '19s': 1, 'uicomposition': 1, 'xamarinformscolor': 1, 'djangolike': 1, '1433': 1, 'recognise': 2, 'statementsetmaxrows': 1, 'statementsetfetchsize': 1, 'comandroidbrowser': 1, 'resigning': 1, 'propagating': 2, 'errortext': 1, 'qserialport': 1, 'textobject': 1, 'grow': 2, 'downwards': 1, 'canread': 1, 'canwrite': 1, 'wsdl2phpgenerator': 1, '1115': 1, 'httprequestretryhandler': 1, 'coregraphics': 1, 'accountscreateuser': 1, 'hellip': 1, 'invokelater': 1, 'aftersave': 2, 'supplying': 1, 'jfactorygetsession': 1, 'easymaps': 1, 'leavecriticalsection': 1, 'navgationbar': 1, 'r75': 1, 'wince': 2, 'wth': 1, 'osrename': 1, 'setoncloserequest': 1, '100ms': 1, 'zclip': 1, 'radtreeview': 1, 'configyml': 2, 'findfirstfile': 2, 'iodirectorygetfiles': 1, 'linebyline': 1, 'crystalreport': 1, 'jniregistry': 1, 'comicejniregistry': 1, 'dnssafehost': 1, 'multicore': 2, 'trail': 2, 'object_changes': 1, 'gppsignin': 1, 'ssh2_connect': 1, 'fbgraphapi': 1, 'multijsondecodeerror': 1, 'emailfoo': 1, 'barcom': 1, 'appletviewer': 1, 'posx': 1, 'posy': 1, 'addobjects': 1, '462': 1, 'oracletype': 1, 'amazons3client': 1, 'nthoftype': 1, 'vectorizing': 1, 'oauthproblem': 1, 'signature_invalid': 1, 'cuda_cliip': 1, 'ondemand': 2, 'mousemotionlistener': 2, 'shipment': 1, 'minimalist': 1, 'kruskaltest': 1, 'prefetch_related': 2, 'operational': 1, '1273138130': 1, 'iclientchannel': 1, 'userspecific': 1, 'touchswipe': 1, 'f4': 1, 'executemany': 1, 'get_the_category_list': 1, 'printflike': 1, 'mobilecoreservices': 1, 'tableadapter': 1, 'collatz': 2, 'boring': 1, 'systemthreadingthreadsleep': 1, 'warwebinflib': 1, 'acts_as_tree': 1, 'drawingrendering': 1, 'multijoin': 1, 'enumerables': 1, 'conrollers': 1, 'instanciating': 1, 'fromtimestamp': 1, 'colmeans': 1, 'isalive': 1, 'tracebackformat_exc': 1, 'print_exc': 1, 'ressend': 2, 'makefileerror': 1, 'dijkstras': 1, 'defaultrout': 1, 'cv_8u': 2, 'cv_64f': 1, 'segmentbased': 1, '0x00051526': 1, 'mysqli_error': 1, '0l': 1, 'form_rest': 1, 'orgjsonjsonobject': 1, 'pathpy': 1, 'htmleditorfor': 3, 'subcollection': 1, 'persmission': 1, 'avl': 1, 'grdiview': 1, 'dataitems': 1, 'bitmapfactory': 1, 'dictinary': 1, 'inviter': 2, 'andyvr': 1, 'picedit': 1, 'javaxwsrspath': 1, 'qmap': 1, 'jsonloads': 2, 'strokes': 3, 'autoarima': 2, 'validationhaserror': 1, 'orghibernateutiljdbcexceptionreporter': 1, 'messageics': 1, 'datafield': 1, 'offcanvas': 1, 'mmss': 1, 'cprogramming': 2, '0x8007007e': 1, 'usng': 2, 'adminlogentry': 1, 'apimodelsuser': 1, 'bootstrapdatepicker': 1, 'stringvalueof': 1, 'surnames': 1, 'groupings': 2, 'ccheckbox': 1, 'inhtml': 1, 'getchar': 2, 'frustrated': 1, 'googlemapsplacessearchbox': 1, 'requried': 1, 'dnd': 1, 'windowdevicepixelratio': 1, 'scanline': 1, 'lbs': 1, 'centimeter': 1, 'qboxlayout': 1, 't_object_operator': 2, 'autostart': 1, 'pyuic': 1, 'javasqltypes': 1, 'spreadsheetgear': 1, '39': 1, 'cppcheck': 1, 'pictureform': 1, 'leftalign': 2, 'documnets': 1, 'doent': 1, 'operationcontext': 1, 'newtons': 1, 'resilient': 1, 'optgroup': 2, 'compatability': 2, 'probabilities': 1, 'gettingstarted': 1, 'trimdirectivewhitespaces': 1, 'actionsclassphp': 1, 'onpageselected': 1, 'leptonica': 1, 'ques': 1, 'enummap': 1, 'cookieparser': 1, 'reqcookies': 1, 'f12': 1, 'ctrl+s': 2, 'systemiofile': 2, 'ransacksearch': 1, 'search_form_for': 1, 'gcmbroadcastreceiver': 1, 'streamwrite': 1, 'threadstop': 2, 'asscociate': 1, 'on_change': 1, 'createfilemapping': 1, 'mapviewoffile': 1, 'libswiftcoredylib': 1, 'siocsifhwaddr': 1, 'fcntl': 1, 'beanref': 1, 'v2160': 1, 'island': 1, 'consisting': 2, 'nonintersecting': 1, 'jsonarraytolistmyobject': 1, 'linq2xml': 1, 'winhttp': 1, 'allowed_methods': 1, 'javalangillegalaccesserror': 1, 'orgapachepoiutilpoiloggerlog': 1, 'orgapachepoiopenxml4jopczippackage': 1, 'actionscript3': 1, 'zend_layout': 1, 'uitableviewscrollpositiontop': 1, 'alarmclock': 1, 'templatized': 1, 'upcase': 1, 'angularbusy': 1, 'statechangestart': 1, 'imagecreatetruecolor': 1, 'pchart': 1, 'variant': 2, 'javalangreflect': 1, 'jsonstringfy': 1, 'j_username': 1, 'j_password': 1, 'pyximport': 1, 'imagescontroller': 1, 'repositoryitemgridlookupedit_valuechanged': 1, 'abstractdefaultajaxbehavior': 1, 'getcallbackurl': 1, 'marshalptrtostructure': 1, 'accessviolationexception': 1, 'systemiofilesysteminforefresh': 1, 'itemu': 1, 'facts': 1, 'facter': 1, 'costumize': 1, 'corrupts': 1, 'oraclemanageddataaccessclient': 1, 'systemdatasqlclientsqlcommandsqlcommand': 1, 'systemdatasqlclientsqlconnection': 1, 'svg4601': 1, 'condensed': 1, 'othere': 1, 'conventional': 2, 'log4jappendererror': 1, 'gas': 1, 'stringcharacterviewindex': 1, 'strideable': 1, 'toby': 1, 'endindex': 1, 'sinusoidal': 1, 'butterworth': 1, 'genericfilterbean': 1, '1529': 1, 'gridview_rowcommand': 1, 'shortner': 1, 'dbinsert': 1, 'xforwardedfor': 1, 'flyout': 1, 'objectsget': 1, 'configurationmanagerconnectionstringsisreadonly': 1, 'setupdigetclassdev': 1, 'jenkinswar': 1, 'menu_settings': 1, 'coneline': 1, 'imputation': 1, 'periodic_task': 1, '544': 1, '64x64': 1, 'visiting': 2, 'comibmicuicu4jpom341': 1, 'multiview2activeviewindex': 1, 'mvcbased': 1, 'addpreferencesfromresource': 1, 'notifyall': 2, 'refering': 1, 'pspermgen': 1, 'filejava': 1, 'differing': 4, 'nonparallel': 1, 'ziparchive': 1, 'mapproj': 1, 'ctrl+p': 1, 'apc_define_constants': 1, 'hidef': 1, 'reduceroutputclass': 1, 'codeanalyzement': 1, 'codereview': 1, 'iunitycontainer': 1, 't_while': 1, 'openjdk170_65': 1, 'adservemodel': 1, 'couchbasemodel': 1, 'datatime': 2, 'script1006': 1, '_meta': 2, 'thenby': 2, 'applicationcurrentresources': 1, 'mergechangesfromcontextdidsavenotification': 1, 'unbiased': 1, 'pusher': 1, '_splitpath_s': 1, 'iwebkit': 1, 'createfileasync': 1, 'installedlocation': 1, 'storagefolder': 1, 'artifically': 1, 'swapped': 1, 'petperson': 1, 'lpass': 1, 'pde': 1, 'after_update_path_for': 1, 'basehttprequesthandler': 1, 'uipickerviewdelegate': 1, 'dbsortclause': 1, 'apimodelproperty': 1, '136': 1, 'parameternameprovider': 3, 'page_clientvalidate': 1, 'd3selectall': 1, 'lobby': 1, 'matchmaking': 1, 'detailsview': 2, 'systemenvironmentspecialfolder': 1, 'nonwhitespace': 2, 'ostream_iterator': 1, 'reordered': 1, 'mediaplayersetdatasource': 1, 'socketshutdown': 1, 'orghibernateobjectnotfoundexceptionno': 1, 'fog': 1, 'c1041': 1, 'datetolocalestring': 1, 'vline': 2, 'humanreadable': 1, 'beside': 2, 'testjava': 1, 'uicicolor': 1, 'colorspacename': 1, 'nonthreaded': 1, 'countdowntimer': 1, 'matchcollection': 1, 'noninherited': 1, 'full_name': 1, 'selectinput': 1, 'jacked': 1, '_tkintertclerror': 1, 'wm': 1, 'radpivotgrid': 1, 'htmlchart': 1, 'mongoose+nodejs': 1, 'stepbystep': 1, 'spline': 2, 'scipyinterpolate': 1, 'lowamplitude': 1, 'oscillating': 1, 'dialogresult': 1, 't_elseif': 1, 'successives': 1, 'regions': 4, 'corelocation': 2, 'userfriendly': 4, 'fnfooconstructor': 1, 'cellrenderer': 1, 'misclassifiction': 1, 'bagging': 1, 'celeryev': 1, 'parameterbindingexception': 1, 'xaa': 1, 'jqbargraph': 1, 'idid': 1, 'cccolor3b': 1, 'serverhandleclient': 1, 'ngtest': 1, 'gettestability': 1, 'swithching': 1, 'orgspringframeworksecurityconfigsecuritynamespacehandler': 1, 'smtps': 1, 'errnoeaddrinuse': 1, 'contingency': 1, 'centred': 1, 'microsoftsqlserver': 1, 'signincallback': 1, '000webhostcom': 1, 'routetableroutesmaphttproute': 1, 'alphanumerics': 1, 'inmemorydaoimpl': 1, 'homecontrollerphp': 1, 'apphttpcontrollerscontroller': 1, 'button1click': 1, 'button2click': 1, 'a5': 1, 'preparedstatementexecutequery': 1, 'userconfig': 1, 'liveconnectsession': 1, 'reinterpreting': 1, 'karmanghtml2jspreprocessor': 1, 'reuseing': 1, 'distributable': 1, 'jui': 1, 'doctrines': 1, 'clickability': 1, 'imagelist': 2, 'httpparams': 1, 'namevaluepair': 1, 'alpahnumeric': 1, 'alamofireframework': 1, 'createfisherface': 1, 'junit4testadaptercache': 1, 'keyboardwillshow': 1, 'coroutines': 1, '+java': 1, 'icredentials': 1, 'prelude': 1, 'sinks': 1, 'playbin2': 1, 'doubled': 2, '0xf0': 1, 'easyxdm': 1, 'skewing': 1, 'realtive': 1, 'mkmfrb': 1, '1065': 1, 'cachestats': 1, 'initwithcontentsofurl': 1, 'make_tuple': 1, 'iter': 1, 'noniterator': 2, 'disconnects': 1, 'scrollspeed': 1, 'api2': 1, 'jwtauthforwebapi': 1, 'lorg': 3, 'datasoure': 1, 'mysqlnewconnection': 1, 'maxinum': 1, 'lapindrome': 1, 'sem_post': 1, 'sem_wait': 1, 'pthread_mutex_lock': 2, 'mediasource': 1, 'directivity': 1, 'deserial': 1, 'ajaxhow': 1, 'func_defaults': 1, '__defaults__': 1, 'unhighlight': 1, 'systemdataentitysqlexception': 1, 'edmstring': 1, 'edmint32': 1, 'forwardonly': 1, 'unauthenticated': 2, 'sign_in': 2, 'file1': 2, 'any1': 1, 'sparkr': 1, 'fieldnames': 1, 'uva': 1, 'flatfilereader': 1, 'requestcontentlength': 1, 'reqsession': 1, 'connectredis': 1, 'getmonth': 1, 'wximage': 2, 'tftp': 1, 'exctract': 1, 'unaligned': 1, 'windowpageyoffset': 1, 'netaddr': 1, 'python27': 2, 'onetwothree': 1, 'pictureboxes': 1, 'bugzilla': 1, 'pygameimageload': 1, '412': 1, 'angularbootstrap': 2, 'ihardwareservice': 1, 'setstring': 1, 'javaiotmpdir': 1, 'cfbundleversion': 1, 'recommending': 1, 'extlistview': 1, 'odontogram': 1, 'shortlived': 1, 'chromeruntime': 1, 'runloop': 2, '408': 1, '409': 1, 'deals': 1, '4bytes': 1, 'numpyresize': 1, 'numpyreshape': 1, 'gridrow': 1, 'gridcolumn': 1, '10827': 1, 'indirectory': 1, 'happeing': 1, 'urlfield': 1, 'decreaser': 1, 'angularelement': 3, 'emf': 1, 'wmf': 2, 'idevice': 1, 'staging': 1, 'controlsfind': 1, 'stament': 1, 'convertviewfindviewbyid': 1, 'convertview': 1, 'flexcel': 1, 'excell': 1, 'csvs': 1, 'yseries': 1, 'xvalue': 2, 'jspusebean': 2, 't_for': 1, 'wpfcontrol': 1, 'exec_bad_access': 1, 'taskspageviewcontroller': 1, 'tableviewnumberofrowsinsection': 2, 'statusstrip': 1, 'sticking': 3, 'insertrows': 1, 'subsettable': 1, 'controler': 1, 'mycnf': 1, 'vectormat': 1, 'insane': 3, 'microsoftofficeinterop': 1, 'ocl': 1, 'converttodatetime': 1, 'pythonpyqt4': 1, 'saiyan': 1, 'webkitblobbuilder': 1, 'batchupdateexception': 1, 'hough': 1, 'htmlcollectionnameditem': 1, 'forefox': 1, 'usleep': 2, 'sleepfortimeinterval': 1, 'extracted': 1, 'bsts': 1, 'xelementload': 1, 'jdbcucanaccess': 1, 'cusersasim': 1, 'iqbaldocumentspersoninfoaccdb': 1, 'rowdeleting': 2, 'submithandler': 2, 'cdockingpane': 1, '4010': 1, 'wordpressgenerated': 1, 'breadcrumb': 2, 'generationtypetable': 1, 'isdigit': 1, '48pm': 1, 'prohibit': 1, 'renderjson': 2, 'bartype': 1, 'addactionlister': 1, 'xyjfree': 1, 'lda': 1, 'crosshost': 1, 'assertequal': 1, 'assertnotequal': 1, 'bother': 1, '2tuples': 1, 'xmlnodelist': 3, 'nodeset': 3, 'liveupdate': 1, 'timeouttask': 1, 'tid': 1, 'stdexception': 5, 'configjson': 2, 'static_castchar': 1, 'nsfetchedresultscontroller': 3, 'systemlinqexpressionsexpression': 1, 'setaccesstoken': 1, 'fbs': 1, 'ajaxgoogleapiscom': 1, 'avassetimagegenerator': 1, 'seperator': 3, 'clgeocoder': 2, 'typehidden': 1, 'ctrl+key': 1, 'hexadecimalvalue': 1, 'aspwebform1_aspx': 1, 'simpleblobdetector': 2, 'practises': 2, 'labelframe': 1, 'kdd': 1, 'cup': 1, 'getelementbyname': 1, 'communicated': 1, 'systemservicemodel': 3, '1e5': 1, 'directoryinfogetfiles': 1, 'tablets': 2, 'droid': 1, 'getresponsecode': 1, 'multipartentity': 1, 'simultanous': 1, 'iplayer': 1, 'connectssl': 1, 'c2338': 1, 'boosthas_trivial_destructortvalue': 1, 'boostlockfreequeue': 1, '0xfb': 1, 'page_load': 4, 'flaskg': 1, 'ncr': 1, 'detectors': 1, 'uicollectionviewflowlayout': 2, 'nscoder': 2, 'fig': 1, 'metroui': 1, 'presseddragreleased': 1, 'confidence': 3, 'setstate': 3, 'listperson': 1, 'kaminari': 1, 'setdragimage': 1, 'pdofetch_class': 1, 'dbproviderfactories': 1, 'get_avatar': 1, 'seens': 1, 'arraycomparison': 1, 'verify_credentials': 1, '6x6': 1, 'bufferedinputstream': 2, 'activitycomponentinfo': 1, 'outputstreamwriter': 1, 'filenotfoundexceptions': 1, 'acessing': 2, 'systemiostream': 1, '5612': 1, 'centerrect': 1, '___sincos_stret': 1, 'cue': 1, 'getjsonobject': 1, 'appnameconfig': 1, 'convince': 1, 'pseudoelements': 1, 'filestxt': 1, 'lengthjava': 1, 'error_sharing_violation': 1, 'sdl_blitsurface': 1, 'copyable': 1, 'namingstrategy': 1, 'gridcall': 1, 'l_textbounds': 1, 'asgraphicsannot': 1, 'xlabel': 2, 'javac18': 1, 'delete_if': 2, 'keyframesanimation': 1, 'ikvm': 1, 'numpyr_': 1, 'linenumbertable': 1, 'javatized': 1, '++argv': 1, 'dataadapterfill': 1, 'bindall': 1, 'commysqljdbcpackettoobigexception': 1, 'writerenabled': 1, 'writerisenabled': 1, 'nicescroll': 1, 'rubyoci8': 1, 'py2cairo': 1, 'uirefreshcontrol': 1, 'mongohq': 1, 'ieee754': 1, 'singleprecision': 1, 'keyboardinput': 1, 'avatar': 2, 'jqueryon': 1, 'touchscreen': 1, 'seralizer': 1, 'angularminjs': 1, 'otable': 1, 'unselected': 2, 'impressionist': 1, 'phpunits': 1, 'setupbeforeclass': 1, 'jsonfield': 1, 'textclipping': 1, 'cs5001': 1, 'weekdays': 3, 'c1189': 1, 'raytracing': 1, 'bs4': 1, 'db_user': 1, 'dvwa': 1, 'simpliest': 1, 'formfield_for_foreignkey': 1, 'enclosure': 1, 'feels': 1, '0x8002801d': 1, 'type_e_libnotregistered': 1, 'tiling': 1, 'addinstall': 1, 'createdthird': 1, 'pngencoder': 1, 'lu': 1, 'proposal': 1, 'messagecontract': 1, 'wm_devicechange': 1, 'plex': 1, 'databasesqlquery': 1, '7u45': 1, 'makemigrations': 1, 'wampp': 1, '#2002': 1, 'urllib3': 1, 'smartbind': 1, 'volumelabel': 1, 'pageconfirm': 1, 'stdvectorstdvectoruc': 1, 'lum': 1, 'forkpty': 1, 'computecentroids': 1, 'elevate': 1, 'mainwindowhandle': 1, 'angularroutejsmin': 1, 'sfinae': 1, 'specializations': 1, 'tablefooterview': 1, 'iwd': 1, 'getitemhtml': 1, 'elementatof': 1, 'dotdot': 1, 'dotdotdot': 1, 'permethod': 1, 'instruments': 1, 'isfileurl': 1, '0x712e450': 1, 'requestfactory': 1, 'swedish': 2, '751': 1, 'reactapp': 1, 'stdmax': 1, 'orbxjs': 1, 'workable': 1, 'weired': 1, 'lazyfetch': 1, 'barcodes': 2, 'writeline': 1, 'subobject': 1, 'netstreampause': 1, 'execved': 1, 'droppable': 5, 'bodyparser': 1, 'rpostgresql': 1, 'relationtablename': 1, '__key__': 1, 'webadministration': 1, 'expresscreateserver': 1, 'errorbars': 1, 'pthread_mutex_trylock': 1, 'comboboxfor': 1, 'valuefield': 1, 'mpi4py': 2, 'ironrouter': 1, 'odbcexception': 1, 'vftable': 1, 'penalty': 2, 'setdatavector': 1, 'jqueryinarray': 2, '714': 1, 'typhoeusrequestnew': 1, 'typhoeusrequestget': 1, 'reentrantlocktrylock': 1, 'csvwriterows': 1, 'msgboxstyles': 1, 'loadview': 1, 'deviceconfigviewcontroller': 1, 'bigendian': 1, 'noncode': 1, 'maxthreads': 1, 'fontsizex': 1, 'pt': 1, 'loadstring': 1, 'databindcrosstable': 1, 'peekbatch': 1, 'autoupdates': 1, 'differnce': 1, 'totable': 1, 'functors': 1, 'orgjfreechartjfreechart': 1, 'inspired': 1, 'encouraged': 1, 'endofline': 1, 'ceasing': 1, 'thisoptionsspecialeasing': 2, 'thisprop': 1, 'ndkbuild': 1, 'local_src_files': 1, '_sqlcxt': 1, 'isdialogmessage': 1, 'preorder': 1, 'inorder': 2, 'traversals': 1, 'testplan': 1, 'imdb': 1, 'ulong': 2, 'backbonemodel': 1, '#3115': 1, 'stddefh': 1, 'gtin': 1, 'leetspeak': 1, 'ngonchange': 1, 'whil': 1, 'ngondetect': 1, 'hasfile': 1, 'status0': 1, 'emptying': 1, 'llhno': 1, 'fbdidlogin': 1, 'framerate': 1, 'bincount': 1, 'unscrollable': 1, 'applicationrun': 1, 'emisnull': 1, 'intend': 3, 'misbehaving': 1, 'prefil': 1, 'mssql_fetch_array': 1, '532': 2, 'regard': 1, 'this_id': 1, 'aspnetmvc': 5, 'settimestamp': 1, 'loadmodel': 1, 'bindmodel': 1, 'max_input_nesting_level': 1, 'pgcrypto': 1, 'pgp': 1, 'stringclass': 2, 'case_when': 1, 'mismatchsenderid': 1, 'workbookgetworkbook': 1, 'jexcel': 1, 'mydir': 1, 'restsharporg': 1, 'shielding': 1, 'microsoftofficeinteropword': 1, 'orgapachecommonsloggingimpllog4jlogger': 1, 'startforeground': 1, '_model_changes': 1, 'sessioncommit': 1, 'basicclientcookie': 1, '2318': 1, 'basepath': 1, 'winformsapp': 1, 'procedured': 1, '23x': 1, 'november': 1, 'styledisplaynone': 1, 'freebsd': 1, 'staleelementreferenceexception': 1, 'bezel': 1, 'rubymine': 1, 'cudamemcpyhosttodevice': 1, 'turtles': 1, 'builtinsattributeerror': 1, 'gempaths': 1, 'peculiarities': 1, 'isnullorempty': 1, 'requirementparse': 1, 'bdistegg': 1, 'identificaton': 1, 'reactcreateclass': 1, 'divisibility': 1, 'eaglview': 1, 'unhover': 1, '1xx': 1, 'interpolationnearest': 1, 'fileh': 2, 'boostassignlist_of': 1, 'pairstring': 1, 'qregexp': 1, 'tablecellrenderer': 1, 'readasasync': 1, 'specifies': 2, 'navigational': 1, 'qmake': 1, 'javalangthrowable': 1, 'zerocopy': 1, 'orwhere': 1, 'sessionpop': 1, 'munmap_chunk': 1, 'conversionservice': 1, 'taskthrowifexceptional': 1, 'systemcollectionsgenericlistgamelibrarycardscard': 1, 'gamelibrarycardscard': 1, 'sucess': 1, 'underscore_case': 1, 'pendular': 1, 'ia32': 1, 'webb': 1, '6036': 1, 'followees': 1, 'verdana': 1, 'getline': 3, 'ipad3': 1, 'dataslide': 1, 'strpbrk': 1, 'debugtrace': 1, 'script1015': 1, '64bits': 1, 'uuuuuu': 1, 'tz': 1, 'multiprocessingpool': 1, 'textlabel': 1, 'detailtextlabel': 1, 'new_confirmation_path': 1, 'tomee': 1, 'jbossas': 1, 'dbmigrationup': 1, 'dispatchgroup': 1, 'longdouble': 1, 'javanetidn': 1, '280150072': 1, 'nonverbatim': 1, 'swiping': 2, 'mainwordlist': 1, 'rfc3339': 1, 'pygresql': 1, 'dsl': 1, 'screw': 1, 'find_each': 1, 'disapearing': 1, 'skpsmtpmessage': 1, '0127': 1, 'ctrldrag': 1, 'local_assigns': 1, 'cascadeclassifier': 1, 'objectgetclass': 1, 'syscall': 2, 'model_selection': 1, 'orarguments': 1, 'backboneviewconstructor__super__': 1, 'que': 1, 'erros': 1, 'componentsseparatedbycharactersinset': 1, 'werrorformatsecurity': 1, 'nszone': 1, 'initwithzone': 1, 'toolbelt': 1, 'partial_fit': 1, 'latentdirichletallocation': 1, 'shopby': 1, 'setupget': 1, 'stringsasfactorstrue': 1, 'propertydescriptorgetvalue': 1, 'propertydescriptorsetvalue': 1, 'optimising': 2, 'mysqli_field_type': 1, 'sproc': 1, 'pandasiocommoncparsererror': 1, 'amore': 1, 'teacher': 2, 'nsmanagedobjectmodel': 1, 'accross': 2, 'gtbfieldid': 1, 'jsonstore': 1, 'cvfilestorage': 2, 'dotnetopenauthaspnet': 2, 'filedrop': 1, 'lessjs': 1, 'systemwindowsformslabel': 1, 'datasourceinsertparametersadd': 1, 'userguidtostring': 1, 'ngresponse': 1, 'evaluationfunction': 1, 'loadmodule': 1, 'wsgi_module': 1, 'mod_wsgiso': 1, 'floatparsefloat': 1, 'integerparseint': 2, 'cloneequivalent': 1, 'exceed': 1, '300m': 1, 'innerxml': 1, 'thiselhtml': 1, 'thiselappend': 1, 'nastrings': 1, 'h13': 1, 'logentries': 1, 'activerecordassociationtypemismatch': 3, '3235': 1, 'urlconnectiongetinputstream': 1, 'c#50': 1, 'interfacebased': 1, 'inappbilling': 1, 'xslmessage': 1, 'captivenetwork': 1, 'hotspot': 1, 'tangent': 2, 'spawnpreparer': 1, 'responsible': 1, 'sideeffects': 1, 'classmapping': 1, 'collating': 1, 'truetrueclass': 1, 'microsoftcsharp': 1, 'outerheight': 1, 'bootstrapless': 1, 'zeropadded': 1, 'php_pdo': 1, 'xcodesaving': 1, 'cfilename': 1, '_invoke': 1, 'asphyperlinkfield': 1, 'zaxis': 1, 'sendinput': 3, 'shelllike': 1, 'iintervention': 1, 'timesheet': 1, 'zfcuser': 1, 'avformatcontext': 1, 'putimagedata': 1, 'performant': 1, 'iphonevideo': 1, 'studion': 1, 'asdynamic': 1, 'faultexceptiondetailerrorcode': 1, 'faultexceptiondetailmessage': 1, 'int32array': 1, 'parrallel': 1, 'forks': 1, 'comawesome_project': 1, 'comawesome_projectmainactivity': 1, 'contextcomponent': 1, '#someid': 1, 'trapsprockets': 1, 'atrule': 1, 'bootst': 1, 'javaxservletunavailableexception': 1, 'crawlservlet': 1, 'winhttpgetproxyforurl': 1, 'acrobat': 1, 'atoi': 1, 'ol': 2, 'movedheader': 1, 'getinstance': 1, 'routerlink': 1, 'layoutattributesforelementsinrect': 1, 'nssortdescriptor': 1, 'securezeromemory': 1, 'codeiginiter': 1, 'parameterbuffer': 1, 'selectcommand': 2, 'scheduledtimerwithtimeinterval': 1, 'otsus': 1, 'errorexpected': 1, 'socketh': 1, 'idbag': 1, 'body_class': 1, 'controlcache': 1, 'uihighlighted': 1, 'c2440': 4, 'stdvector_ty': 2, 'outrun': 1, 'gcaddmemorypressure': 1, 'lapack_lite': 1, 'nokogirixml': 1, 'nokogiriparse': 1, 'edittemplate': 1, 'fastthread': 1, 'functionalstyle': 1, 'complexdouble': 1, '+0d': 1, 'stdfstreams': 1, 'typenames': 1, 'qdatetime': 1, 'orgapachecommonsnet': 1, 'mysqli_connection': 1, 'youcompleteme': 1, 'ycm_extra_confpy': 1, 'replacechild': 1, 'async_read': 1, 'sigfillset': 1, 'http_accept_language': 1, 'itemstyle': 1, '__repr__': 1, 'effecient': 1, 'nsinterval': 1, '700': 1, 'grooveshark': 1, 'ionfooter': 1, 'powershellscript': 1, 'strreplace': 1, 'autoreseteventwaitone': 1, 'addpoint': 1, 'xlwt': 1, 'gingerbread': 2, 'scipys': 3, 'cobyla': 1, 'cordovajs': 1, 'getpixel': 1, 'monobehaviour': 1, 'androidjava': 1, 'createprocessasuser': 2, 'devtool': 1, 'searchviews': 1, 'ii++': 1, 'systemuint32': 1, 'nannan': 2, 'findnextfile': 1, 'national': 1, 'reg': 1, 'isolating': 1, 'dragover': 1, 'idiots': 1, 'arrayobjecth': 2, 'stdvectorcomparisonpair': 1, 'twostate': 1, 'mimics': 1, 'err_empty_response': 1, 'libxml2': 2, 'ccmaes': 1, 'unpacked': 1, 'thread__init__': 1, 'stringwithcontentsofurlencodingerror': 1, 'top1': 1, 'typ': 1, 'rpcgen': 1, 'pedagogical': 1, 'anayltics': 1, 'customaction': 2, 'samemachine': 1, 'exceptionexisting': 1, 'jobrepository': 1, 'substringfromindex': 1, 'taglib': 1, 'uifont': 1, 'ovalshape': 1, 'rectangleshape': 2, 'sdl_setcolorkey': 1, 'jsonpretty_generate': 1, 'unpretty': 1, 'nivoslider': 1, 'xsdschema': 1, 'wsdltypes': 1, '2fixnum': 1, 'tocolumns': 1, '137': 1, '+1': 4, 'ibm_java': 1, 'child_nodes': 1, 'parent_last': 1, 'fluid': 1, 'asyncresttemplate': 1, 'strspn': 1, 'spectified': 1, 'karma+jasmine': 1, 'targetblank': 2, 'cakephp300zip': 1, 'afxwinh': 1, '5px': 1, 'portability': 1, 'gridclass': 1, 'nonlvalue': 1, 'penny': 1, 'netcompact': 1, 'restfully': 1, 'tcl': 1, 'newtonsoftjsonlinqjproperty': 1, 'newtonsoftjsonlinqjobject': 2, 'observablearrayremoveall': 1, 'empties': 1, 'concated': 1, '447': 2, 'stdgnu++0x': 1, 'libeay32dll': 1, 'spritebatchdrawstring': 1, 'menues': 1, 'phpsend': 1, 'mochajs': 1, 'qabstractlistmodel': 1, 'programminghow': 1, 'defocus': 1, 'lamp': 3, 'php536': 1, 'chatto': 1, 'forbiddenattributeserror': 1, 'uiusernotificationsettings': 1, 'force_ssl': 1, 'builtin_function_or_method': 3, 'harm': 1, 'svgobject': 1, 'javasyntax': 1, 'specifiying': 1, 'timedelta': 2, 'socketiojs': 1, '_layout': 1, 'metainf': 1, 'cxfxml': 1, 'actionbuilder': 1, 'systemwebmvc': 4, 'clgetdeviceids': 1, 'javaxpersistenceentitymanagerfactory': 1, 'warpackage': 1, 'ngsanitize': 1, 'multiclients': 1, 'resort': 2, 'timertask': 2, 'reffering': 1, 'dyanamicaly': 1, 'nonlinq': 1, 'javascriptblock': 1, 'membervalue': 1, 'positiondodge': 1, 'isingleresult': 1, 'internationalisation': 1, 'scrolltorowatindexpath': 1, 'listdatetime': 1, 'renderintodocument': 1, 'aboutconfig': 1, 'dllexport': 1, 'algorithmsort': 1, 'cactiverecord': 1, 'refactorrename': 1, 'inexplicable': 1, 'shannon': 1, 'fano': 1, 'javaxservletjspjspexception': 1, 'applicationwillterminate': 1, 'xmlnodes': 1, 'featureattributes': 1, 'serialiser': 1, 'appendto': 2, 'pythondevel': 1, 'domstring': 1, 'confirmdialog': 1, 'inferior': 1, '2710': 1, '06': 1, 'choppy': 1, 'eom': 1, 'flaskapp': 1, 'gunicorn': 1, 'ijavaproject': 1, 'observesingleevent': 1, 'omni': 1, '72': 1, 'monetmodelsagenttransmission': 1, 'pywebkitgtk': 1, 'vine': 1, 'dial': 1, 'monodroid': 3, 'autoid': 1, 'datetime64': 1, 'pageroutedatavalues': 1, 'decile': 1, 'grayscalebrushes': 1, '22http': 1, 'wwwastateedu': 1, 'vrs': 1, 'listeningexecutorservice': 1, 'setchecked': 1, 'testasp': 1, 'htmlservice': 1, '1210': 2, 'mysql_stmt_execute': 1, 'presskey': 1, 'jqueryvideobg': 1, 'uicontrol': 3, 'xlab': 1, 'configuratilon': 1, 'singletable': 1, 'uiusernotificationtype': 1, 'ios10': 1, 'javaneturlinit': 1, 'javasecurity': 1, 'c2084': 1, 'multiplegroup': 1, 'raspberrypi': 1, 'environmentusername': 1, 'defaultapppool': 1, 'objectclass': 1, 'listtsort': 1, 'mysqllink': 1, 'todatetime': 1, 'httpcontextcurrentserverexecute': 1, '0x80072f0d': 1, 'responseentityt': 1, 'wxprogressdialog': 1, 'paintparts': 1, 'rowprepaint': 1, 'joptionpane': 1, 'showinputdialog': 1, 'ericbarnes': 1, 'codeigniterevents': 1, 'systemwebwebpagestypehelperobjecttodictionaryuncached': 1, 'documented': 1, 'media_root': 1, 'media_url': 1, 'static_root': 1, 'admin_media_prefix': 1, 'maxdropdownitems': 1, 'ejbtransactionrolledbackexception': 1, 'objectwindowsforms': 1, 'insertonsubmit': 2, 'enviornment': 1, 'cscexe': 1, 'appprocessreleaseresources': 1, 'willrotatetointerfaceorientation': 1, 'smartwin': 1, 'indexesofobjectspassingtest': 1, 'beancreationexception': 1, 'elasticsearchrepository': 1, 'dbgeography': 2, 'xxmaxheapfreeratio45': 1, 'layoutspagebase': 1, '_crt_secure_no_warnings': 1, 'mutex_lock': 1, 'cond_wait': 1, 'pinchzooming': 1, 'progresschanged': 2, 'modelviewcontroller': 1, 'cursorindexoutofboundsexception': 1, 'gs': 1, 'c++get': 1, 'liststrings': 1, 'upload_err_cant_write': 1, '26+': 1, 'unclarity': 1, 'pthread_exit': 1, 'samelevel': 1, 'funtion': 1, '0100': 2, 'nonvisible': 1, 'phpexcel_shared_dateisdatetime': 1, 'phpexcel_cell': 1, 'wse': 1, 'geopoint': 2, 'spadded': 1, '434': 1, 'parameterizedtypeimpl': 1, 'javalangclass': 1, 'rememberme': 1, 'whack': 1, 'mole': 1, 'cxampphtdocspploginphp': 1, 's3putobjectrequest': 1, 'pen': 1, 'hoverhighlight': 1, 'chromeextensiononrequestaddlistener': 1, 'uint64': 1, 'mouseclick': 1, 'objectproperties': 1, 'arrayelements': 1, 'conditioned': 1, 'clearest': 1, 'qdebug': 1, 'application_endrequest': 1, 'freezepy': 1, 'summarize': 2, 'hotfix': 1, 'directoryinfodelete': 1, 'directorydelete': 1, 'nestedlist': 1, 'prevention': 2, 'reward': 1, 'examined': 1, '8204': 1, 'mavencompileclasspath': 1, 'managementcall_command': 1, 'lodashjs': 1, 'functionapply': 1, 'zend2': 1, 'cropper': 1, 'fooled': 1, 'addaddress': 1, 'shadowjar': 1, 'grayed': 1, 'subtext': 1, 'y0': 2, 'loaddatawithbaseurl': 1, 'automapperautomappermappingexception': 1, 'automapperdll': 1, 'getpassgetpass': 2, 'equalities': 1, 'socketendaccept': 1, 'ftpliberror_perm': 1, 'itemdatabound': 1, 'symfony2+doctrine2': 1, 'chrometabsexecutescript': 2, 'backgroundjs': 2, 'routeresource': 1, 'methodnotallowedhttpexception': 1, 'ajaxerror': 1, 'yeoman': 3, 'csslint': 1, 'ctabctrl': 1, 'needing': 2, 'conjecture': 1, 'defaultconnection': 1, '17nov2011': 1, 'multiroom': 1, 'ervletapijar': 1, '972': 1, 'offending': 2, 'servletclass': 2, 'createex': 1, 'returncode': 1, 'have_content': 1, 'domdocumentloadhtml': 1, 'htmlparseentityref': 1, 'pyfftw': 1, 'fftw': 1, 'app_label': 1, 'baking': 1, 'fbgraphuser': 1, 'ihttpactionresult': 1, 'getawaiter': 1, 'columnspecific': 1, 'extgridcheckboxselectionmodel': 1, 'torch': 1, 'ipp': 1, 'mf': 1, 'selfhosting': 1, 'getactivenetworkinfo': 1, '08': 2, 'ind2sub': 1, 'sub2ind': 1, '7+8': 1, 'pt_br': 1, 'mallocc': 1, 'expectations': 1, 'fetchcolumn': 1, 'mws': 1, 'taskschedulerunobservedtaskexception': 1, 'contentsrect': 1, 'fileversioninfofileversion': 1, 'httpwebrequestendgetresponse': 1, 'orgapachemavenpluginsmavenantrunplugin17': 1, 'unscope': 1, 'with_exclusive_scope': 1, 'depreciated': 1, 'woocommerces': 1, 'floatthead': 1, 'androidwidgetlistview': 1, '_pywrap_tensorflow_internal': 1, 'hitch': 1, 'xhrget': 1, 'monitortryenter': 1, 'tostringcreator': 1, 'soundplayer': 1, '2darray': 1, 'packagea': 1, 'packageb': 1, 'cv2cv_fourcc': 1, 'sha1+salt': 1, 'sqlite3_prepare_v2': 1, 'suo': 1, 'cs1056': 1, 'terminalapp': 1, 'mailservicexml': 1, 'jsonforeach': 1, 'rescheduling': 1, 'c1902': 1, 'collectorstomap': 1, 'secondarytable': 1, 'nondomain': 1, 'postix': 1, 'c++what': 1, 'preparedstatemen': 1, 'always_inline': 1, 'inlinable': 1, 'wattributes': 1, 'vuerouter': 1, 'fetch_array': 2, 'doubledot': 1, 'tripledot': 1, 'timespinner': 1, 'redefined': 1, 'curlopt_postfields': 1, 'cumulated': 1, 'omr': 1, 'updatecounter': 1, 'fnupdate': 1, 'fndraw': 1, 'genericxaml': 1, 'co': 1, 'compositeelement': 1, 'delete+insert': 1, 'windowsmobile': 1, 'merger': 1, 'after_filter': 1, 'applicationprocessmessage': 1, 'bootstrappopovers': 1, 'idhere': 1, 'systemdecimal': 1, 'findclass': 2, 'literalcontrol': 1, 'queryperformancecounter': 1, 'outofthebox': 1, '65279': 1, 'read_json': 1, 'mediator': 1, 'jsongz': 1, 'array_nameclassname': 1, 'unpackage': 1, 'repackage': 1, 'getelementsbytagnamens': 1, 'orgapachemavenpluginmojoexecutionexception': 1, 'micropython': 1, 'hotspots': 1, 'javautilcalendar': 2, 'fulfilled': 1, 'getcontext': 1, 'sehexception': 1, 'verify_authenticity_token': 1, 'neighbors': 1, 'shuttlebox': 1, 'moznullprincipal': 1, 'posthandle': 1, 'rspeccount': 1, 'fullranked': 1, 'picturesourcetype': 1, 'photolibrary': 1, 'savedphotoalbum': 1, 'jrbeancollectiondatasource': 1, 'iskindof': 1, 'toisostring': 1, 'imaged': 1, 'thisnotation': 1, 'array_unique': 1, 'arrayprototypeslice': 1, 'reattach': 1, 'ntile': 1, 'semi': 2, 'baby': 1, 'autoproperty': 1, '__unsafe_unretained': 1, 'mph': 1, 'bxxxx': 1, 'asychronous': 2, 'examining': 1, 'applcation': 1, 'vs10': 1, 'valude': 1, 'stmt': 2, 'systemnumericsbiginteger': 1, '3f': 1, 'resultclass': 1, 'index_admin_users_on_email': 1, 'fnmatch': 1, 'remote_file': 1, 'longlistselector': 2, 'formview': 1, 'usd': 1, 'javaxservletservlet': 1, 'assetfiledescriptorgetfiledescriptor': 1, 'houtputscript': 1, 'fluentmappingsaddfromassembly': 1, '193p286': 1, 'jframesetdecoratedlookandfeel': 1, 'formatin': 1, 'fallocate': 1, 'remotedataerror': 1, '4012': 1, 'defaulthttpclient': 3, 'systemstringcomparer': 1, 'systemstringcomparison': 1, 'gdi': 1, 'roundrect': 1, 'headerhtml': 1, 'svgwrite': 1, 'enumerator': 1, 'cyrilic': 1, 'appropriatelytyped': 1, 'httpresponseend': 1, 'microsoftwebinfrastructure': 1, 'version1000': 2, 'publickeytoken31bf3856ad364e35': 1, 'curved': 3, 'ajar': 1, 'bjar': 1, 'cjar': 1, 'djar': 1, 'ejar': 1, 'dldebugc': 1, '14044': 1, 'parentiframe': 1, 'systemtimerstimerset_enabled': 1, 'password_hash': 1, 'password_verify': 1, 'something_decode': 1, 'mysqlprocesstable': 1, 'announcer': 1, 'cvsaveimage': 1, 'rtd': 1, 'filetxt': 1, 'forcedirected': 1, 'grailsservice': 1, 'caddr_t': 1, 'viewpagerindicator': 1, 'microsoftreportingservicesdataprocessingidatareader': 1, 'hibernateproperties': 3, 'befor': 1, 'dexfileclass': 1, 'setreaddataonly': 1, 'enablememoryoptimization': 1, 'detachnewthreadselector': 1, 'woocommerce_get_cart_item_from_session': 1, 'aa': 1, 'enlargment': 1, 'selectelements': 1, 'applicationthreadexception': 2, 'appdomaincurrentdomainunhandledexception': 2, 'staleelementreference': 1, 'thisrows': 1, 'googleauthorizationcodeflow': 1, 'zendframework104': 1, 'maptodouble': 1, 'webserviceexception': 1, 'writables': 1, 'notserializableexception': 1, 'rakefile': 1, 'gemspec': 1, 'indefinetly': 1, 'binwidth': 1, 'sktexture': 1, 'masterdetail': 1, 'freemarker': 1, 'hmstring': 1, 'boosting': 1, 'qlistwidgetitem': 1, 'findasync': 1, 'signal_set': 1, 'createdesktop': 1, 'autoformat': 1, 'netframework': 1, 'hypot': 1, 'findbynameandtype': 1, 'implemation': 1, 'surprisingly': 1, 'retreving': 1, '10x': 1, '3px': 1, 'mudflap': 1, 'mkstemp': 1, '1728': 1, 'ups': 1, 'cwmic': 1, 'boostpython': 1, 'lucenes': 1, 'scoredocscore': 1, 'apostrophes': 3, 'firstcup': 1, 'afhttpclienth': 1, '062014xlsx': 1, 'securtycontext': 1, 'boxnet': 1, 'ilistsize': 1, 'enhanceable': 1, 'untraceable': 1, '6+': 1, 'uiimage+imageeffects': 1, 'xamarinformsmap': 1, 'interrupted': 1, 'coincidence': 1, 'servercertificatevalidationcallback': 1, 'msb4006': 1, 'low_memory': 1, 'memory_map': 1, 'pdread_csv': 1, 'address0x0': 1, 'opacity0': 1, 'sdl2dll': 1, 'iso1': 1, 'iso2': 1, '58x': 1, 'latlong': 1, 'qquickitem': 1, '_countof': 1, 'quaternions': 1, 'passphrase': 1, 'randombytes': 1, 'postincrement': 1, 'futures': 1, 'inputvariable': 1, 'concurrentbag': 2, 'htmltablerow': 1, 'tfoot': 1, 'googlemapsmarker': 1, 'endings': 3, 'order_invoicetpl': 1, 'wfstream': 1, 'urlencoded': 3, 'htmlscriptelement': 1, 'ora06413': 1, 'msdb': 1, 'stoproutinghandler': 1, 'createuserwizards': 1, 'wilcoxtest': 1, 'referencesvcmap': 1, 'inrequestscope': 1, 'navwalker': 1, 'deployments': 1, 'printserver': 1, 'printqueue': 1, 'semifixed': 1, 'secret_key_base': 1, 'tagname': 2, 's4': 1, 'jnienvsetbytearrayregion': 1, 'cvwaitkey': 1, 'columnindex': 1, 'checkin': 1, 'datagram': 1, 'bse': 1, 'nse': 1, 'footerdata': 1, 'datetimelabelformats': 1, 'variabe': 1, 'odometer': 1, 'elementdata': 1, 'limit_choices_to': 1, 'appml': 1, 'degradation': 1, 'linqtoxml': 1, 'drawingmanager': 1, 'rootview': 1, 'allegro': 1, 'ifconfig': 1, 'framelayout': 1, 'calltime': 1, 'stringgethashcode': 2, 'imagecontacts': 1, 'ylabel': 1, 'arrival': 1, 'socketgetinputsteamread': 1, 'tzinfo': 1, 'stdmultimapequal_range': 1, 'dataimporthandler': 1, 'nonblock': 2, 'getsockopt': 1, 'optvalue': 1, '113': 1, 'covariant': 1, 'selfs': 2, 'cgwarpmousecursorposition': 1, 'gtkh': 1, 'selectmany': 4, 'ismember': 2, 'c2061': 1, 'noticeundefined': 1, 'contextuser': 1, 'application_authenticaterequest': 1, 'xmlids': 1, 'thereafter': 1, 'phpmyadminlike': 1, 'jrswapfilevirtualizer': 1, 'sundays': 1, 'hysteresis': 1, 'mappers': 1, 'proportion': 1, 'modc': 1, 'atomicinteger': 1, 'jsobject': 1, 'multigrid': 1, 'getrequesturl': 1, 'springcore': 1, 'uniquetrue': 1, 'phpinis': 1, 'sessionsave_path': 1, 'invalidateviews': 1, 'rakedsl': 1, 'spends': 1, 'threadlock': 1, 'actionbutton': 1, 'systemdll': 1, 'javamy': 1, 'periodtype': 1, 'monthos': 1, 'iwant': 1, 'pypdf': 1, '1000s': 1, 'thisgetchildhtml': 1, 'createpattern': 1, 'summedup': 1, 'podfile': 1, '1040': 1, 'outwards': 1, 'unlist': 1, 'juli': 1, 'logfactory': 2, 'timesleep': 1, 'wwwtestcom': 1, 'abcpdf': 2, 'dispatchpopulateaccessibilityevent': 1, '__nscfarray': 1, 'objectatindex': 4, 'multipule': 1, 'interpeter': 1, 'dereferenced': 1, 'nongregorian': 1, 'windowsettimeout': 2, 'thumbnailwebscreenshotsscript': 1, 'useshellexecute': 1, 'systemthreadingreaderwritercount': 1, 'dynamicallysized': 1, 'jcodec': 2, 'adjective': 1, 'synced': 1, 'affixed': 1, 'rearranging': 2, 'c2783': 1, 'deduce': 2, 'v1': 1, 'fileread': 3, 'ioread': 1, 'reconfigure': 1, 'objloader': 1, 'reducehow': 1, 'predict_proba': 1, 'decision_function': 1, 'javaawtimage': 1, 'insides': 1, 'htmlgrid': 1, 'cacheitemremovedcallback': 1, 'onwheel': 1, 'u2022': 1, 'doubleindexing': 1, 'harmonic': 1, 'legato': 1, 'affable': 1, 'serialportlist': 1, 'jaxb2marshaller': 1, 'immediatly': 1, 'errnoeacces': 1, 'sprockets': 1, 'gridview_rowdeleting': 1, 'editbox': 1, 'sharepoints': 1, 'itemcollection': 1, 'listgetitems': 1, 'failedorghibernatehibernateexception': 1, 'popularity': 1, 'spel': 1, 'register_activation_hook': 1, 'koobservable': 1, 'tabsetpanel': 2, '2012115': 1, '20120115': 1, '21600000': 1, 'javaeclipse': 1, 'simplified': 2, 'entitynotfoundexception': 1, 'openxlsx': 1, 'authidentify': 1, 'xmlhttprequestobject': 1, 'regsvr32': 1, 'graying': 1, 'vscode': 2, 'utilise': 1, 'synthesis': 1, 'datetime__construct': 1, 'correspondent': 1, 'remoteviewsservice': 1, 'controlinvoke': 1, 'revealtab': 1, 'likegate': 1, 'pp': 1, 'vectorcountry': 1, 'ohattributedlabel': 1, 'rvmrc': 1, 'improperly': 2, 'differential': 1, 'performs': 1, 'tableviewheightforrowatindexpath': 1, 'visibilitychanged': 1, 'roweditlistener': 1, 'autodeploy': 1, 'ripple': 2, 'zcwchar_t': 1, 'blow': 1, 'catalinapolicy': 1, 'highscores': 1, 'javascriptwritten': 1, 'contextrefreshed': 1, 'paintdc': 1, 'didselectitematindexpath': 1, 'dg': 1, 'alot': 1, 'nonbreakspaces': 1, 'imul': 1, 'deserialise': 2, 'testmysqlphp': 1, 'argb': 3, 'hasone': 1, 'endpointconfigurationname': 1, 'freecodecamp': 1, 'autorenewable': 1, 'inapppurchase': 1, 'arena': 1, 'sharepoint2010': 1, 'om': 1, 'ecmascript': 3, 'arraylistnode': 1, 'skip_confirmation': 1, 'consoleapplication5programmyfirst': 1, '20052013': 1, 'umbrella': 2, 'truth': 1, 'ireadonlylist': 1, 'jvector': 1, 'onregionclick': 1, 'parameterizedtype': 1, 'outputing': 1, 'appprovidersappserviceprovider': 1, 'sqlalchemyexcnoforeignkeyserror': 1, 'noforeignkeyserror': 1, '10th': 1, 'audioengine': 1, 'audioplayer': 1, 'config_yml': 1, 'wikistyle': 1, 'textile': 1, 'leaseexpiredexception': 1, 'uirepeat': 2, 'ui_mainwindow': 1, 'sectionresponsestatusline': 1, 'omniauth': 2, 'javaxnamingcontext': 1, 'orgapachecatalinacontext': 1, 'loadingicon': 1, 'messageconsumer': 1, 'prerequestfilters': 1, 'requestfilters': 1, 'jeasyui': 1, 'xyplot': 1, 'minarearect': 1, 'rotatedrect': 1, 'omegle': 1, 'fillcolor': 1, 'xssfcell': 1, 'blobslice': 1, 'sliced': 1, 'soapheaderexception': 1, 'array_sort': 1, 'funcstring': 1, 'nginject': 1, 'ngannotate': 1, 'registery': 1, 'uiimagevew': 1, 'endash': 1, 'microposts': 1, 'weather': 2, 'misc': 1, 'assemblyreferences': 1, 'perconfigurationbasis': 1, 'preconstructed': 1, 'modalviewcontrollers': 1, '_data': 1, 'containerdataitem': 1, 'stdvectordata': 1, 'stdstringdata': 1, 'comple': 1, 'idfa': 1, 'arranged': 1, 'aftermarket': 1, 'daemonglobal': 1, 'contant': 1, 'displayable': 1, 'eventwaithandle': 1, 'celltemplate': 1, 'integertostring': 1, 'sharekit': 1, 'qvector': 1, 'iauthorizationfilter': 1, 'onauthorization': 1, 'arraylisthashmapstring': 1, 'irbrc': 1, 'irrational': 1, '100200': 1, 'servname': 2, 'smtpstart': 1, 'crosscutting': 1, 'incl': 1, 'redeploy': 2, 'wars': 2, 'vticker': 1, 'driveinfogetdrives': 1, 'xmins': 1, 'rollovers': 1, 'orient': 1, 'agument': 1, 'pandasdataframeto_json': 1, 'originated': 1, '178': 1, 'maxuploadsize': 1, 'weaklyreferenced': 1, 'formlogins': 1, 'ipdb': 1, 'assetinstall': 1, 'setondismisslistener': 1, 'categorystrings': 1, 'vaiable': 1, 'databaseerror': 1, 'evidence': 1, 'jdbcoraclethin': 1, 'localhost1521xe': 1, 'executeexcel4macro': 1, 'datazoomimage': 1, 'pipedoutputstream': 1, 'autoresizecolumns': 1, 'firstname': 1, 'getfirstname': 1, 'endpointaddress': 1, 'databaseentitydokumenty': 1, 'blendnewtonsoftjsondll': 1, 'solutionpackages': 1, 'yposition': 1, 'objcclassh': 1, 'resjson': 1, 'integrationtest': 1, 'fileexist': 1, 'apphttprequestsrequest': 1, 'savefile': 1, 'hep': 1, 'ctrlm': 1, 'pagephp#sample': 1, 'chromedriverexe': 1, 'intstring': 1, 'datacolunm': 1, 'tlsmail': 2, 'similarities': 2, 'refining': 1, '++x': 1, 'appcompatactivity': 2, 'glblendfuncseparate': 1, 'filteringselect': 1, 'wsgipassauthorization': 1, 'rbinom': 1, 'deviates': 1, 'aspxcombobox': 1, 'list_route': 1, 'bsd': 1, 'dylibs': 1, 'databaseconnection': 1, 'whoops': 1, 'jquert': 1, 'datefield': 3, 'authenticationtypessecuresocketslayer': 1, 'authenticationtypessecure': 1, 'crossmodule': 1, 'templateparameterlists': 1, 'bindhpp': 1, 'mounted': 1, 'stateitem': 1, 'quiver': 1, 'streamplot': 1, 'pessimistic': 2, 'socketerrorcode': 1, 'nativeerrorcode': 1, 'myhkgypv': 1, 'errcode': 1, 'keycollection': 1, 'dfifference': 1, 'embertextfield': 1, 'drawables': 1, 'holdready': 1, 'fri': 1, 'jun': 1, '000000': 1, 'utc+0100': 1, '20130621': 1, 'uiviewsetalpha': 1, '_sslc2084': 1, '012': 1, 'xclass': 1, 'xclassyclass': 1, 'setupsequence': 1, 'jsplitpane': 1, 'momentcalendar': 1, '002100': 1, 'ean13': 1, 'rc1': 1, 'pecl': 1, 'learnpythonorg': 1, 'ggplotgrob': 1, 'getdeclaredfields': 1, 'showshareui': 1, 'stringcontent': 1, 'formurlencodedcontent': 1, 'abstractmultitenantconnectionprovider': 1, 'selectoneradio': 1, 'javaxnamingdirectoryschemaviolationexception': 1, 'numpylinalg': 1, 'scipylinalg': 1, 'scipysparselinalg': 1, 'jacobi': 1, 'laplace': 1, '2147483648': 1, 'actionbarsethomebuttonenabled': 1, 'loan': 2, 'formprocessing': 1, 'morgan': 1, '800final': 1, 'sqlalchemyexcoperationalerror': 1, 'operationalerror': 4, 'sqlclr': 1, '0x00b21840': 1, 'testerexe': 1, '06f': 1, 'transposing': 2, 'filereadalltext': 1, 'httpfs': 1, 'impersonate': 1, 'dataset1': 1, 'bitmap_nji': 1, 'skbitmap': 1, 'wordcount': 1, 'unsuppored': 1, 'catransformlayer': 1, 'softkeyboard': 1, 'intercellspacing': 1, 'param1': 2, 'suspects': 1, '1045': 2, 'internalselfref': 1, 'actionevent': 1, 'transportwithmessagecredential': 1, 'forum': 1, 'navcontroller': 2, 'deleteonsubmit': 1, 'svgg': 1, 'randomforest': 1, '#reportscontroller0xde24d2c': 1, 'usernametoken': 1, 'requestmappingvalue': 1, '110x': 1, 'ef1': 1, 'errorwarning': 1, 'innerclasses': 1, 'orgjsonschema2pojogradle': 1, 'visualizer': 1, 'read_sms': 1, 'figcaption': 1, 'httpapplicationstate': 1, '__dict__': 1, '1darray': 1, 'interoperability': 1, 'filepaths': 1, '132011': 1, 'wih': 2, 'systemaction': 1, 'xmladapter': 2, 'rapidxml': 1, 'fragmented': 1, 'stringtokenizer': 1, '1102': 1, '16u20': 1, 'everday': 1, 'sinlge': 1, 'stringliterals': 1, 'overtype': 1, '22p02': 1, '14mb': 1, 'conceptual': 1, 'sans': 1, 'serif': 1, 'v723+': 1, 'relief': 1, 'irritation': 1, '8puzzle': 1, 'assertclass': 1, 'mapset': 1, 'async_read_until': 1, '11502': 1, 'onlistitemclick': 1, 'scannextline': 1, 'comboboxedit': 1, 'twistedpersistedstyles': 1, 'sapmtable': 1, 'androidjavaclass': 1, 'elliptical': 1, 'text+0x5f': 1, 'comandroidinternalview': 1, 'keybord': 2, 'pluck': 2, 'orghibernatesessionfactorygetcurrentsession': 1, 'calender': 2, 'intersecting': 2, 'sytem': 1, 'intwritatble': 1, 'initwithdictionary': 1, 'htmlagilitypackhtmldocument': 1, 'bitstring': 1, 'vstsc': 1, 'toolsversion': 1, 'postbacktrigger': 2, 'classpathresource': 1, 'highguiimread': 1, 'v24': 1, 'exportsmethods': 1, 'classloaderphp': 1, 'activitythreadperformlaunchactivity': 1, 'activitythreadactivityclientrecord': 1, 'suing': 1, 'orgapachecommonscompressarchiverszipunsupportedzipfeatureexception': 1, 'epub': 1, 'customcreationconverter': 1, 'liststreamforeach': 1, 'fillin': 1, 'selectedsegmentindex': 1, 'removable': 1, 'crated': 1, 'bz2': 1, '272': 1, 'hfind': 1, 'localflavor': 1, 'fastcoloredtextbox': 1, 'autowordselection': 1, 'is_interactive': 1, 'dropdownstyle': 1, 'filesfind': 1, 'zd': 1, 'defferent': 1, 'pug': 1, 'reporter': 1, 'lowsrc': 1, 'presigned': 2, 'validationeventargs': 1, 'planebuffergeometry': 1, '1120': 1, 'arrayresize': 1, 'windowfocus': 1, 'jquerysteps': 1, 'surfing': 1, 'doctrinemappingimport': 1, 'symmetricalfalse': 1, 'stringpropertys': 1, 'stringlistproperty': 1, 'viewswitching': 1, 'success1': 1, 'concurency': 1, 'readhtmltable': 1, 'deflatestream': 1, '4gb': 2, 'dijitbyid': 1, '172': 1, 'pre_': 1, 'methodsave': 1, 'sparkles': 1, 'poolclose': 1, 'screencasts': 2, 'elementappend': 1, 'aesthetics': 3, 'mature': 1, 'wamps': 1, 'listlast': 1, 'runonuithread': 2, 'ggpairs': 1, 'p2p': 1, 'jre17': 1, 'textfiles': 1, 'remoteexception': 1, 'nonchrome': 1, 'bad_instruction': 1, 'retweet': 1, 'httpresponseexception': 3, 'stdfaxh': 1, 'resig': 1, 'formatutilextutilformatdaterenderer': 1, 'fmtmessage': 1, 'keykey': 1, 'publisher': 1, 'msmq': 1, 'getobjectclass': 1, '10200': 1, 'servicehost': 1, 'motivation': 1, 'tablegrob': 1, 'seal': 1, 'anyhashable': 1, 'beginbackgroundtaskwithexpirationhandler': 1, 'pinvok': 1, 'organising': 1, '109error': 1, 'vbcatching': 1, 'binder': 2, 'contentdispositioninline': 1, 'mainobj': 1, 'pathgeometry': 1, 'centroid': 1, 'nonstrings': 1, 'ancova': 1, 'someother': 1, 'usercontrollerphp': 1, 'dupe': 1, 'huffman': 1, 'sklightnode': 1, 'falloff': 1, 'ftpwebrequest': 1, 'edititemtemplate': 1, 'rawpostdataexception': 1, 'segues': 1, 'incrementations': 1, '25ghz': 1, 'i7': 1, 'javasqlsqlexceptionno': 1, 'mydb': 1, 'uiswipegesturerecognizer': 1, 'upper_bound': 1, 'scrollbarsyes': 1, 'fiddler': 1, 'forminline': 1, 'asciifiles': 1, 'qtextstream': 1, 'systemwebuiwebcontrolslistitem': 1, 'fields_for': 1, 'stdstod': 2, 'jarraycontains': 1, 'removeeventlistener': 2, 'garbagecollector': 1, 'indexpathforcell': 1, 'onboard': 1, 'catchall': 1, 'parrent': 1, 'vfat': 1, 'jvmvrfy013': 1, 'violated': 1, 'tresult': 1, 'multiprocessingmanager': 1, 'javaioutfdataformatexception': 1, 'arrayprototype': 1, '__e3_': 1, 'jitter': 1, 'factored': 1, 'replacetext': 1, 'mddatepicker': 1, 'activemodel': 2, 'subchildren': 1, 'kanonymity': 1, 'ldiversity': 1, 'explaining': 2, 'ioloop': 1, 'run_sync': 1, 'scrolltocaret': 1, 'nameresolutionfailure': 1, 'smartcard': 1, 'hotplug': 1, 'html5video': 1, 'ftp_delete': 1, 'compilergenerated': 1, 'fla': 1, 'rrc': 1, 'password_confrimation': 1, 'qstyleditemdelegate': 2, 'covering': 1, 'prestashops': 1, 'frontoffice': 1, 'mailsender': 1, 'smtpserver': 1, 'gimp': 1, 'blah': 2, '68': 1, 'c4100': 1, 'iosapp': 1, 'changelistener': 1, 'subtable': 1, 'locationmanagerrequestwheninuseauthorization': 1, '_env': 1, 'getservicelocator': 1, 'directorysearch': 1, 'xlsb': 1, '__func__': 2, '__function__': 3, 'androidlocalization': 1, 'toolbaritem': 1, 'd3layouttree': 1, 'dotstarquestionmark': 1, 'fell': 1, 'swoop': 1, 'javanetsockettimeoutexception': 1, '1element': 1, 'cloudsorlserver': 1, 'thisfetch': 1, 'functionrequireonce': 1, 'phpdomdocumentload': 1, 'microtime': 1, 'unlinked': 1, 'cgrectmake': 1, 'farbtastic': 1, 'urlport': 1, 'cview': 1, 'scrollwindowex': 1, 'disappeared': 1, 'axhost': 1, 'systemruntimeinteropservicescomexception': 1, '0x80029c4a': 1, 'selectrowatindexpath': 1, 'require_debug_false': 1, 'djangoutilslogcallbackfilter': 1, 'callbackfilter': 1, 'settranslatesautoresizingmaskintoconstraints': 1, 'paperclipstoragefogexcon': 1, 'derived2': 1, 'filesort': 1, 'sysapplicationadd_load': 1, 'bigchar': 1, 'setlogo': 1, 'concats': 1, 'provisional': 1, 'topicmodels': 1, 'transposes': 1, 'brain': 1, 'teaser': 1, 'biometrics': 1, '#1075': 1, 'recycled': 1, 'storegeneratedpattern': 1, 'mscomctlocx': 1, 'printdocument': 3, 'printpreviewdialog': 1, 'draws': 3, 'contraints': 1, 'car': 2, 'acceleration': 2, 'braking': 1, 'applicaton': 1, '253': 1, '#1064': 1, 'btree': 1, 'engineinnodb': 1, 'imap_search': 2, 'respecifying': 1, 'expectedmyexceptionclass': 1, 'hears': 1, 'echoed': 2, 'rescaling': 1, 'servicecontract': 1, 'avaudiorecorder': 1, 'or_': 1, 'and_': 1, 'gridviewrow': 1, 'dat': 2, 'webs': 1, 'ngdirty': 1, 'xhrsend': 1, 'skycons': 1, 'objectanonymous': 1, 'nonnil': 1, 'docking': 3, 'eventstoppropagation': 1, 'yid': 1, 'unauthorised': 1, 'vectorvectorobject': 1, 'textcolor': 1, 'unconnected': 2, '100px': 1, 'date_select': 2, 'dojos': 1, 'jsonreststore': 1, 'mysqldatamysqlclientmysqlconnection': 2, 'fanout': 1, 'paremeter': 1, 'sytemxml': 1, 'lastsibling': 1, 'striplashes': 1, 'scipyweave': 1, 'gridgetselectionmodel': 1, 'getselection': 2, 'dropdowntoggle': 1, 'sidetask': 1, 'renderrow': 1, 'webdesign': 1, 'fit_generator': 1, 'vshostexe': 1, 'ssl_cert_file': 1, 'path_to_file': 1, 'sanitizing': 3, 'isrequired': 1, 'isreference': 1, 'dbdoracle': 1, 'vsessionprogram': 1, 'effcient': 1, 'iserviceprovider': 1, 'yarn': 2, 'shooter': 1, 'scopevariable': 1, 'getsessionfactorygetcurrentsession': 1, 'polynomials': 3, 'gf': 1, 'multifield': 1, 'inlcude': 1, 'automap': 1, 'enumh': 1, 'manage_pages': 1, 'icefaces': 1, 'jbas011859': 1, 'alway': 1, 'setjaxbvalidationeventhandler': 1, 'segement': 1, 'tipsy': 1, 'ambigous': 1, 'threestate': 1, 'frontpage': 1, 'spawning': 1, 'discouraged': 1, 'playlistid': 1, 'devicewatcher': 1, 'ejbexceptions': 1, 'viewdiddisappear': 1, 'libboost_tread': 1, '315': 1, 'sessionhandlerread': 1, 'authorizationfilterattribute': 1, 'actionarguments': 1, 'pdbset_trace': 1, 'modpython': 1, 'fluff': 1, 'systemgc': 1, 'sqlite3rangeexception': 1, 'unipath': 1, 'emailjs': 2, 'progmem': 1, 'monitorpulse': 1, 'mpmovieplayercontrollers': 1, 'qq': 2, 'dog': 1, 'test_dbtable': 1, 'waitkey': 2, '254': 1, 'templateapplication': 1, 'xml2assoc': 1, 'urllib2request': 1, 'funnel': 2, 'routeparam': 1, 'findwindow': 2, 'stdlength_error': 1, 'basic_string_s_create': 1, '_global_default_timeout': 1, 'columncount': 1, 'confirm_success_url': 1, 'userdatabase': 1, 'widgetvar': 1, 'listselectlistitem': 1, 'aws_access_key_id': 1, 'aws_secret_access_key': 1, 'mediumtext': 1, '8388608': 1, 'komappingfromjs': 1, 'scatterplotmatrix': 1, 'javalangexceptionininitializererror': 1, 'collectiondefaultdict': 1, 'codeignitorbootstrap': 1, 'rmic': 2, 'xjson': 1, 'pop_back': 1, 'orwhat': 1, 'fileszie': 1, 'endianness': 1, 'php538': 1, '2k8': 1, 'moz': 1, 'cucumbers': 1, 'afterstep': 1, 'multicheckbox': 1, 'shutilrmtree': 1, 'dictupdate': 1, 'interpretor': 1, 'unixlayman': 1, 'htmlattribute': 1, 'setimageresource': 1, '11mins': 1, 'ecg': 1, 'schools': 1, 'zend_db': 2, 'zend_db_tablegetdefaultadapter': 1, 'netiom': 1, '1day': 1, 'google_play_services_version': 1, 'goals': 1, 'byteslike': 1, 'productionready': 1, 'fulltextsearch': 1, 'writealltext': 1, 'messagesproperties': 1, 'decide': 1, 'androidr': 1, 'javaawtlist': 1, 'bnh': 1, 'xcode6b3': 1, '__osswapint16': 1, 'scrolltojs': 1, 'orgksoap2serializationsoapobject': 1, 'yearly': 1, 'wserver442': 1, 'service1svc': 1, 'fetch_object': 1, 'incometable': 1, 'errror': 1, 'fetchedresultscontroller': 1, 'objectatindexpath': 2, 'bottlenecks': 1, 'many_many': 1, 'smallers': 1, 'child_exception': 1, 'incell': 1, 'glassfish3': 1, 'executemultipleresponse': 1, 'respose': 2, 'leftmost': 1, 'modulebased': 1, 'aempty': 1, 'abool': 1, 'aitem': 1, 'aany': 1, 'aall': 1, 'capicom': 2, 'honor': 1, 'postgresql91': 1, 'activerecordbase': 1, 'd3csv': 1, 'uncommon': 1, 'filechannelmap': 1, 'dirt': 1, 'bodybodyencode': 1, 'endfor': 1, 'asyncronous': 1, 'became': 1, 'unmarshallable': 1, 'd3d11_create_device_debug': 1, 'http_build_query': 1, 'basename': 1, 'dodragdrop': 1, 'signer': 1, 'addrange': 1, 'uitabbaritems': 1, 'forwarded': 1, 'java6': 2, 'typeusername': 1, 'selfdata': 1, 'syndicationfeeds': 1, 'zkstringserializer': 1, 'session_regenerate_id': 1, '_csverror': 1, '131072': 1, 'popupin': 1, 'measurement': 2, 'actionviewoutputbuffer': 1, 'wp+db+phpmyadmin': 1, 'win6+': 1, 'breakdown': 1, 'bell': 1, 'async_read_some': 1, 'stllist': 1, 'evenhandler': 1, 'elementonchange': 1, 'base64d': 1, 'unchangeable': 2, 'codingbat': 3, 'sumnumbers': 1, 'omnicompletion': 2, 'taskcanceledexception': 1, 'systemappcontext': 1, 'adddays': 1, 'appmodel': 1, 'ioshow': 1, 'spannthchild': 1, 'soaphttpclientprotocol': 1, 'angularfullstack': 1, 'encoidng': 1, 'webmatrixdatadynamicrecord': 1, 'architectures': 1, 'requestlocation': 1, 'lifecyclememory': 1, 'jinternalframe': 1, 'prefersource': 1, 'preferdist': 1, 'historyforward': 1, 'dstream': 1, 'containerrequestfilter': 1, 'containerresponsefilter': 2, 'op': 1, 'cracking': 1, 'cryptdecrypt': 1, 'evenlysized': 1, 'hooked': 2, 'neutral': 1, 'querytable': 1, 'jqueryfn': 1, 'neighboring': 1, 'spatial': 1, 'ccsprite': 1, 'nonuniq': 1, 'classified': 1, 'junkmail': 1, 'systemwebhttpunhandledexception': 1, 'initgraph': 1, 'nsobjectype': 1, 'flashmessenger': 1, 'mysqlproxy': 1, 'backends': 1, 'rassdk': 1, 'spls': 1, 'tabulating': 1, 'validation_errors': 2, 'truncates': 2, 'dataeven': 1, 'openssl_verify': 1, 'braceenclosed': 1, 'tube': 1, 'ussing': 1, 'classloadergetresourceasstream': 1, 'domstyle': 1, 'openfilename': 1, 'jsonformatted': 1, 'stdio': 1, 'interpolated': 1, 'nilto_json': 1, 'version4500': 1, 'publickeytokenf7660c0f5438cda5': 1, 'eric': 1, 'hyndss': 1, 'clearrect': 1, 'checkstate': 1, 'sectioned': 1, 'qtpython': 1, 'qtreewidget': 1, 'workfactorycreate': 1, 'compositescript': 1, 'randomnext': 2, 'visibleviewcontroller': 1, 'uinavigationcontrollers': 1, 'variablesized': 1, 'settimout': 1, 'setuptestdata': 1, 'failedstatus0x1': 1, 'ubr': 1, 'flength': 1, 'html+js': 1, 'subprocesses': 3, 'streamreadbyte': 1, 'streamwritebyte': 1, 'rtsenable': 1, 'unknown0': 1, 'javasscriptserializer': 1, 'aswebcore00089': 1, 'screenprimaryscreen': 1, 'panto': 1, 'jmxconsolewar': 1, 'jbossas43': 1, '3dimensions': 1, 'idinteger': 2, '0x15': 1, 'kmllayers': 1, 'hitormiss': 1, 'securityauthenticated': 1, 'securedclass': 1, 'gapi': 1, 'extfileinfo': 1, 'constraining': 1, 'isarray': 1, '8x8': 1, 'listmytype': 1, 'systemcoredll': 1, 'pythonbest': 1, 'ignore_result': 1, 'update_state': 1, 'deviceside': 1, '0x50e2df58': 1, 'aspnet_client': 1, 'system_web': 1, '4_6_81': 1, 'stylebackgroundcolor': 1, 'spec_helper': 1, 'invalid_character_err': 1, 'facto': 1, 'rehashing': 2, '#reprocess': 1, 'inputview': 1, 'tearing': 1, 'refers': 2, 'taller': 2, 'alphnumeric': 1, 'boostlexical': 1, 'numpynd': 1, 'poolmap': 1, 'xmlhttprequestsend': 1, 'injections': 3, 'last_query': 1, 'systemwebhttputilityhtmlencode': 1, 'differentiating': 1, '+0': 1, 'stdfor_each': 2, 'normals': 1, 'tui': 1, 'newb': 1, 'setpixel': 1, 'dialogselenium': 1, 'imagemap': 1, 'gzopen': 1, 'javaniochannelsclosedchannelexception': 1, 'pfloginviewcontroller': 1, 'listviewextractitemvalues': 1, 'listviewdataitem': 1, 'tbgridview': 1, 'fontawsome': 1, 'subdictionaries': 1, 'errorcall': 1, 'arrayprototypeevery': 1, 'timezoneinfoconverttime': 2, 'confide': 1, 'get_bloginfo': 1, 'template_directory': 1, 'pouplate': 1, 'glassdoor': 1, 'employerid': 1, 'immutablelistcopyof': 1, 'quinemccluskey': 1, 'swift_smtptransport': 1, 'squiggle': 1, 'twiddle': 1, 'interruptedexception': 1, 'script5': 1, 'complaing': 1, 'unprepared': 1, '_base': 1, 'continuousintegration': 1, 'webapplications': 1, 'declaringtype': 1, 'reflectedtype': 1, 'guiceservletcontextlistener': 1, 'yvalue': 1, 'faceted': 1, 'jnih': 1, 'unaltered': 1, 'toastmaketext': 1, 'lineargradientbrush': 1, 'landsat': 1, 'grass': 1, 'curlopt_cookiefile': 1, 'boostcontainervector': 1, 'admod': 1, 'hovermenuextender': 1, 'subcontrols': 1, 'systemcomponentmodeldataannotations': 1, 'saverestore': 1, 'dnnclassifier': 1, 'iris': 1, 'range_field': 1, 'sidemenu': 2, 'rafjs': 1, 'findwindowex': 1, 'succedeed': 1, 'failsafe': 1, 'oid+large': 1, 'autorepainting': 1, 'bookscontroller#create': 1, 'bookscontroller': 1, 'myvectorerase': 1, 'myptr': 2, 'pointed': 1, 'd3dkmdt_video_output_technology': 1, 'fakeadapter': 1, 'xquery': 1, 'many2many': 1, 'long_calls': 1, 'largeaddressaware': 1, 'hinputsecret': 1, 'poolhikaricp': 1, 'pdoparam_int': 1, 'createserversocket': 1, 'set_sequence_name': 1, 'loaderphp': 1, 'instaram': 1, 'beacause': 1, '535578': 1, 'vulcanization': 1, 'column_changed': 1, 'statusbar': 1, 'filesystemprovider': 1, 'v61': 1, '2px': 1, 'chopped': 1, 'tanhsigmoid': 1, 'the_post_thumbnail': 1, 'hget': 1, 'urlliburlretrieve': 1, 'jquery+django': 1, 'sqlcontainer': 1, 'createdatachannel': 1, 'canary': 1, 'fileexpand_path': 1, 'mc9090g': 1, 'pthen': 1, 'pretty_print': 1, 'gds': 1, 'imagerotate': 1, 'uncompyle': 1, 'uncompyle2': 1, 'flexigrid': 1, 'arraybuffer': 1, 'verticalalign': 1, 'daynumber': 1, 'lowercamelcase': 1, 'refqualified': 1, 'isnotnull': 2, 'webapiconfig': 1, 'vector2d': 2, 'tags_attributes': 1, 'qtwa_deleteonclose': 1, 'jsondate': 1, 'grabs': 1, 'libary': 1, 'shellwordsshellescape': 1, 'scexe': 1, 'bucketthe': 1, 'addressed': 1, 'impliment': 1, '4inch': 1, 'to_a': 1, 'to_ary': 1, 'scrollwidth': 1, 'clientwidth': 1, 'navigablestrings': 1, 'userinfo': 2, 'requestupgradestrategy': 1, 'uripathextensionmapping': 1, 'read_table': 1, 'cyphp': 1, 'nontext': 1, 'chrashes': 1, 'nskeyedunarchiver': 1, '1049': 1, 'ohyunjun': 1, 'astral': 1, 'reused': 1, 'resolvers': 1, 'set_data': 1, 'autoimporting': 1, 'enableautoimport': 1, 'multilabel': 1, 'pdh': 1, 'phpci': 1, 'socketdisconnect': 1, 'socketclose': 1, 'dependecy': 1, 'nagle': 1, 'illustration': 1, 'commerce': 1, 'app_name': 1, 'xslttransform': 1, 'python27dll': 1, 'applecom': 2, 'ipadair': 1, 'visites': 1, 'abstractlist': 1, 'nonintegral': 1, 'tiledmap': 2, 'curlopt_timeout': 1, 'curlopt_connecttimeout': 1, 'enhancment': 1, 'getchildrencategoriesgetimageurl': 1, 'land': 1, 'superlayers': 1, 'orange': 2, 'refire': 2, 'wherever': 1, 'json_pure': 1, 'libxcb': 1, 'pushbullet': 1, 'shouldchangecharactersinrange': 2, 'exconerrorsmovedpermanently': 1, 'registrationscontroller#update': 1, 'jni_onload': 1, 'playstatechange': 1, 'usbview': 1, 'woff': 1, 'awss3putobject': 1, 'urlrewrite': 1, 'rewritemap': 1, 'makefilewin': 1, 'fltk': 1, 'cfdictionaryref': 1, 'abmutablemultivalueref': 1, 'mavendeployplugin': 1, 'forcerefresh': 1, 'cygdrive': 1, 'javaxpersistencejoincolumnforeignkey': 1, 'someelement': 1, 'fibers': 1, 'resuming': 1, 'php+mysql': 2, 'selecteddate': 2, 'closedxml': 1, 'geometryfacevertexuvs': 1, 'geometryvertices': 2, 'pocket': 1, 'lapply': 1, 'xlleft': 1, 'xlright': 1, 'xlcenter': 1, 'objectinputstreamreadobject': 1, 'nic': 1, 'ajaxactionlink': 1, 'httpmethod': 1, 'outofmemoryerrors': 1, 'nodeappendchild': 1, 'otf': 1, 'addfontfile': 1, 'splicing': 1, 'servletcontextgetrequestdispatcher': 1, 'servletrequestgetrequestdispatcher': 1, '07002': 1, 'projectwide': 1, 'invokescript': 1, 'projective': 1, 'sbin': 2, 'startmastersh': 1, 'orgapachesparklaunchermain': 1, 'filter_validate_url': 1, 'unixprocess': 1, 'eventfilter': 1, 'receipt': 1, 'c2296': 1, 'cxampphtdocsglasanjeindexphp': 1, 'transmission': 1, 'dateutil': 1, 'tagsinput': 1, 'setfinishedselectedimage': 1, 'javanetprotocolexception': 1, 'promised': 1, '16280': 1, '16272': 1, 'iosuitabbar': 1, 'extentionless': 1, 'orgapachehadoopsecurityaccesscontrolexception': 1, 's3n': 1, 'accident': 1, 'collectiontsum': 1, 'aushortproperty': 1, 'fieldsecuritycritical': 1, 'projectbasedir': 1, 'toggled': 1, 'getedgelist': 1, 'igraph': 1, 'unmatching': 1, 'startinfoarguments': 1, 'rolesallowed': 1, 'springjunit4classrunnerclass': 1, 'thread1': 1, 'ctrlz': 1, 'carousal': 1, 'sessiongettransaction': 1, 'sessionbegintransaction': 1, 'earproject': 1, 'edataclear': 1, 'localbean': 1, 'viewholder': 1, 'typeface': 2, 'methodview': 1, 'eigsh': 1, 'eigenvalues': 2, 'outstanding': 1, 'compilemsnativedll': 1, 'hadoopcommon': 1, 'zend_pdf': 1, '1056': 1, 'ismouseover': 1, 'saw': 1, 'eventvalidation': 1, 'webkitformboundary': 1, 'submodels': 1, 'retured': 1, 'faultexception': 1, 'listmyobject': 1, 'swingutilitiesinvokelater': 1, 'hypocenter': 1, 'piggy': 1, 'someclass': 2, 'bytebufferwrap': 1, 'itertoolscombinations': 1, '0x10049b470': 1, 'do_get': 1, '32bitdll': 1, 'objectgraph': 1, 'ionslides': 1, 'batchwriteitem': 1, 'dllinterface': 1, 'squeeze': 1, 'methodgetparametertypes': 1, 'weakeventmanagerteventsource': 1, 'teventargs': 1, 'propertychangedeventmanager': 1, 'ashot': 1, '1025round': 1, '102': 2, 'cancelable': 1, 'getwindowthreadprocessid': 1, 'emulates': 1, 'getxpathcount': 1, 'brushlike': 1, 'headaches': 1, 'bytearraycontent': 1, 'expressed': 1, 'beforeaction': 1, 'debuggingthreadexit': 1, 'aws3': 1, 'javautilnosuchelementexception': 1, 'multithreadings': 1, 'use_block_in_frame': 1, 'spi': 1, 'sdkpublish': 1, 'dockpanel': 1, 'decorated': 2, 'basic_string': 1, 'cloumn': 1, 'javaxsecuritysaslsaslexception': 1, 'authentic': 1, 'cookiestxt': 1, 'cvboundingrect': 1, 'getcount': 1, 'getchildcount': 1, 'tensorflowpython': 1, 'htmlinputelementclass': 1, 'htmlbuttonelementclass': 1, 'getiterator': 1, 'maxkeys': 1, 'dataexternalid23151': 1, 'thishtmlcheckboxfor': 1, 'searchview': 1, 'desktops': 1, 'androidusername': 1, 'sqlcode': 1, '42818': 1, 'xx0': 1, 'yy0': 1, 'xendx1': 1, 'yendy1': 1, '24bit': 2, 'specical': 1, 'stringfind': 1, 'mentioned': 2, 'serialportopen': 2, 'cudahostalloc': 1, 'consistency': 2, 'asyncwaterfall': 2, 'textbox1text': 1, 'uplaoding': 1, 'pythonerrno': 1, 'app_scoped_user_id': 1, 'tryupdatemodel': 1, 'ajaxdecoder': 1, 'trackballcontrols': 1, 'javarddlabeledpoint': 1, 'sklearnclassifier': 1, 'setdebug': 1, 'libsdl2_image20so0': 1, 'displacing': 1, 'threadtimer': 1, 'axacropdflibaxacropdf': 1, 'incontext': 1, 'stupid': 1, 'zombies': 1, 'cs0029': 1, 'microsoftbclasync': 1, 'stripslashes': 1, 'sqlcommandbuilderderiveparameters': 1, 'ipropertystorage': 1, 'sched_fifo': 1, 'unsure': 1, 'preparedstatementsetter': 1, 'editorformodel': 2, 'labelframes': 1, 'setgpid': 1, 'unseen': 1, 'systemfuncentitytype': 1, 'editortemplate': 1, 'sdl_init': 1, 'mmjmenu': 1, 'unconverted': 1, 'recieve': 1, 'nh30': 1, 'asyncsocket': 1, 'useing': 1, 'windowsfoundationuniversalapicontract': 1, 'adwords': 1, 'tabcontainer': 1, 'levelrangefilter': 1, 'environmentfailfast': 1, 'extmenumenus': 1, 'httpruntimecache': 1, 'spl_object_hash': 1, 'javaxcryptoillegalblocksizeexception': 1, 'inflater': 1, 'hollow': 2, 'removehandler': 1, '284': 1, 'ssleay32dll': 1, 'interlockedexchange': 1, 'volatilewrite': 1, 'value1': 2, 'sqlite3dbbase': 1, 'keepass': 1, 'failedphpmailer': 1, 'install_name_tool': 1, 'sqltype': 1, 'vbnethow': 1, 'tahoma': 1, 'dlg': 1, 'squashed': 1, 'createfont': 1, 'datasnapshot': 1, 'noinitialcontextexception': 2, 'deploy_resource': 1, 'ssh_wrapper': 1, 'libsasldll': 1, 'shownbsdropdown': 1, 'todataurljs': 1, 'unrecoverable': 1, 'debuggeragent': 1, 'dwp': 1, 'formidable': 1, 'png_all_filters': 1, 'thread#start': 1, 'systemdrawingfont': 1, 'javaxswingtimer': 1, 'javautiltimer': 1, 'gil': 1, 'snapped': 2, 'verify_peer': 1, 'parsequery': 1, 'orgspringframeworkcontextapplicationlistener': 1, 'requestbrowserplatform': 1, 'cdll': 1, 'pids': 1, 'namelist': 1, 'fitdistr': 1, 'nal': 1, 'indifferent': 1, 'printingsystem': 1, '__nsdictionarym': 1, '0x13f26a60': 1, 'bbold': 1, 'deleter': 1, 'avcapturesession': 2, 'accesstoken': 2, 'accesstokensecret': 1, 'maven2': 2, 'spin_lock_init': 1, 'define_spinlock': 1, 'pytesseract': 1, 'implemet': 1, 'ienumerablebyte': 1, 'alternatively': 1, '__lt__': 1, '80040154': 1, 'swipeleft': 1, 'swiperight': 1, 'conda': 2, 'insufficientexecutionstackexception': 1, 'mvchtmlstringcreate': 1, 'indexreader': 1, 'suboptimal': 1, 'touchesmoved': 1, 'touchesended': 1, 'mediastartrecord': 1, '__builtin__': 1, '59': 2, 'contextparam': 1, 'beandiscoverymodeannotated': 1, 'hmodule': 1, '1142': 1, 'mdy': 1, 'dismisscontroller': 1, 'moused': 1, 'fragmentactivity': 1, 'pdata': 1, 'b+': 1, '_thread': 1, 'eresult': 1, 'workcompleted': 1, 'uicalendar': 1, 'designercs': 1, 'starter': 1, 'orgbouncycastlejceproviderjdkkeypairgeneratorrsabeaninfo': 1, 'hostid': 1, 'pythonvalueerror': 1, '118': 2, 'setneedsdisplay': 1, 'thisbody': 1, 'setvisibile': 1, 'tooltipster': 1, 'rbase': 1, 'rrecommended': 1, 'symfonycomponenthttpfoundationfileuploadedfile': 1, 'predicting': 1, 'udacity': 1, 'sunshine': 1, 'treemodel': 1, '12bit': 1, 'finishtransaction': 1, 'devises': 1, 'ms_description': 1, 'enhancing': 1, 'wadl': 1, 'php_admin_value': 1, 'htmlcollection': 1, 'nodelists': 1, 'wwwauthenticate': 1, 'hrefjavascriptfunc': 1, 'onclickfunc': 1, 'server2005': 1, 'use_transactional_fixtures': 1, 'detectcores': 1, 'sortedarrayusingselector': 1, 'continental': 1, 'geographical': 1, 'probe': 2, '13113': 1, 'plate': 1, 'python276': 1, 'aopnamespaceutilsregisterautoproxycreatorifnecessary': 1, 'springframework': 1, 'parsercontext': 1, 'sybase': 4, 'cs0444': 1, 'userinteractionenabled': 1, 'tedious': 1, 'zend_db_select': 1, 'noty': 1, 'rolling_std': 1, 'npstd': 1, 'http_post_files': 1, 'gziped': 1, 'converttobase64string': 1, 'convertfrombase64string': 2, 'encodingutf8getbytes': 1, 'encodingutf8getstring': 1, 'processer': 1, 'api3': 1, 'autoreconnect': 1, 'uinavigationitemleftbarbuttonitem': 1, 'exclusively': 1, 'jxmapkit': 1, 'openstreetmaps': 1, 'angularmodule': 1, 'xsany': 1, 'dottemplate': 1, 'slope': 2, 'dtos': 1, 'vcredistexe': 1, 'msms': 1, 'boostenable_if': 1, 'boostdisable_if': 1, 'pascals': 1, 'subviewsuperview': 1, 'orgspringframeworkbeansfactorycannotloadbeanclassexception': 1, 'elementclassname': 1, 'oid': 1, 'datewise': 1, 'block_given': 1, 'setregion': 1, 'whys': 1, 'jcreator': 1, 'iphonehow': 1, '_get_url': 1, 'httpclientbuilder': 1, 'ospathbasename': 1, 'alwaysonbottomwindow': 1, 'uirequirespersistentwifi': 1, 'hibernatemappingexception': 1, 'enterpise': 1, 'specially': 1, 'sunsecuritysslsslcontextimpltls10context': 1, 'nonprinting': 1, 'tilemap': 1, 'registerclientscriptcode': 1, 'qfileinfolist': 1, 'snprintf': 1, 'overruns': 1, 'facebookapi': 1, 'qss': 1, 'gemsrubyforgeorg': 1, 'dominant': 1, 'urlprevious': 1, 'informal': 1, 'multicolumntext': 1, 'jaxbelementbook': 1, 'hurt': 1, 'mailchimp': 1, 'persenels': 1, 'moxiemanager': 1, 'sparksubmit': 2, 'unmappable': 2, 'reverted': 1, 'xdocumentelement': 1, 'programatic': 1, 'actionshow': 2, 'controllerwaitinglists': 1, 'formatnil': 1, 'idnil': 1, '972010': 1, 'alternatingrowstyle': 1, 'rowstyle': 1, 'qtooltip': 1, 'arraylistfloat': 1, 'dmavenmultimoduleprojectdirectory': 1, 'cdcdrawtext': 1, 'ontextchanged': 1, 'backgroundimages': 1, 'rotate_around': 1, 'systemsystemexception': 1, 'windowsphone': 1, 'walk': 2, 'rproject': 1, 'i18nnode': 1, 'processname': 1, 'datetimemin': 1, 'emptyor': 1, '230': 1, 'nodemanager': 1, 'setted': 1, 'stdinserter': 1, 'vectorise': 1, 'garch': 1, 'javalangruntimeexceptionan': 1, 'standardtokenizer': 1, 'setreader': 1, 'archived': 2, 'toc': 1, 'staticlib': 1, 'jdk7': 1, 'systemdataentityinfrastructuredbquery1': 1, 'systemcollectionsgenericienumerable': 2, '2048': 1, 'ipaddr': 1, 'jqxhr': 1, '3digit': 1, 'digitally': 1, 'chellange': 1, 'dbproviderfactory': 1, 'dbdataadapter': 1, 'scrollbaroffset': 1, 'pricephtml': 1, 'bibtex': 1, 'j42': 1, 'dbase_open': 1, 'fatalthrowableerror': 1, 'providerrepositoryphp': 1, 'netbeans8': 1, 'critieria': 1, 'mysqlresult': 1, 'recompiles': 1, 'errorfailed': 1, 'comandroidsupportconstraintconstraintlayoutso': 1, 'sessionautostart': 1, 'imagepickercontrollerdidfinishpickingmediawithinfo': 1, 'uiimagepickercontrollerdelegate': 1, 'ujs': 1, 'hrefs': 2, 'bulgarian': 1, 'mock_calls': 1, 'turboc': 2, 'jqueryvalidating': 1, 'multiwar': 1, 'prettytable': 1, '173': 1, 'g_hash_table_lookup': 1, 'sampleapplication': 1, 'exceptionstacktrace': 1, 'typeform': 1, 'robospice': 1, 'hotkey': 1, 'ufeff': 1, 'tiledmaprendererrender': 1, 'disallowing': 1, 'duplicatehandle': 1, 'qint64': 1, 'subtly': 1, 'afterreceiverequest': 1, 'fragile': 1, 'abstractcontrollerdoublerendererror': 1, 'mbprogresshud': 1, 'hud': 1, 'nslinebreakbywordwrapping': 1, 'textmessage': 1, 'plpgsql': 1, 'sti': 1, 'render_to_response': 1, '1074': 1, 'win32con': 1, 'completecases': 1, 'linspace': 1, 'turbolink': 1, 'getthe': 1, 'webresourceaxd': 1, 'deselected': 1, 'ixedit': 1, 'attachment_will_change': 1, 'alamofireupload': 1, 'deterministic': 1, 'utf32': 1, 'cs2001': 1, 'runexample': 1, 'swiftsupport': 1, '731': 1, 'rowediting': 1, 'maxdepth': 1, '520': 1, 'captive': 2, 'nullabledatetime': 1, '0x8002000b': 1, 'decentralization': 1, 'getintfield': 1, 'referencedcolumnnames': 1, 'imagebox': 1, 'sign_up_params': 1, 'hexa': 1, 'classwise': 1, 'instrumentation': 1, 'textnode': 1, 'higlighted': 1, 'chatclient': 1, 'strophe': 1, 'updatesourcetrigger': 1, 'trilinear': 1, 'day+1': 1, 'mobiles': 1, 'devtools': 1, 'unsegment': 1, 'json_': 1, 'controlvisible': 1, 'tabcontrols': 1, 'webpagesource': 1, 'ilike': 1, 'androidwidgetgridviewsetadapter': 1, 'androidwidgetlistadapter': 1, 'urlcreateobjecturl': 1, 'blobnull': 1, '1241563': 1, 'diffrerent': 1, 'ontouchevent': 1, 'emptybody': 1, 'geometryfaces': 1, 'to_key': 1, 'eventtrigger': 1, 'sess_ibfocfkgbpfaoimac34nkjotp2': 1, 'c2582': 1, 'xutility': 1, 'getvariable': 1, 'rpg': 1, 'csvclose': 1, 'flushed': 3, 'threadspecific': 1, 'oncheckedchange': 1, 'onflush': 1, 'antstyle': 1, 'patternsets': 1, 'uiscrollbar': 1, 'multiplelevel': 1, 'datetimedatetoday': 1, 'benchmarked': 1, 'rnn_cell': 1, 'deque': 3, 'rscript': 3, 'geoms': 1, 'memory_get_peak_usage': 1, 'departute': 1, 'javafunction': 1, '58031': 1, 'eventual': 1, 'unfix': 1, 'autowidth': 1, 'exaclty': 1, 'htmlagility': 1, 'outputstreamclose': 1, 'outputstreamflush': 1, 'registers': 1, 'subprocesspipe': 1, 'validate_presence_of': 1, 'rspecexamplegroupsuservalidations': 1, 'excellent': 1, 'cu': 1, 'datatooltip': 1, 'superoncreate': 2, 'thet': 1, 'visualbasic': 1, 'admin_console_server': 1, 'orgslf4jimplstaticloggerbindersingleton': 1, 'alertios': 1, 'luke': 1, 'calendaryear': 1, 'selfassigned': 1, 'cahceable': 1, 'nonargument': 1, 'connectionstrings': 1, 'enumeratormovenext': 1, 'awssdk': 2, 'img_init': 1, 'img_quit': 1, 'lazyfoo': 1, 'decaying': 1, 'gpx': 1, 'behavoir': 1, 'atexit': 1, 'zeroterminated': 1, 'oracledatasourcemakeurl': 1, 'appdomaincurrentdomainbasedirectory': 1, 'systemenvironmentcurrentdirectory': 1, 'jerseyapimessageexception': 1, 'wakefulbroadcastreceiver': 1, 'equallyspaced': 1, 'systemerrprintln': 1, 'helping': 1, 'calcuation': 1, 'buildphonegap': 1, 'framesetlayout': 1, 'wscript': 1, 'cellstyle': 1, 'hourly': 1, 'es5': 2, 'dragmove': 1, 'checkbuttons': 1, '_contains': 1, 'sysprefix': 1, 'interruptions': 1, 'pythonmodeel': 1, 'isessionqueryover': 1, 'isessionget': 1, 'acted': 1, 'adjustments': 1, 'nsbitmaprep': 1, 'stringoffset': 1, 'firstdigit': 1, 'webgird': 1, 'reciever': 1, 'mysite': 1, 'decryptexception': 1, 'baseencrypterphp': 1, 'db_select': 1, 'frameorigin': 1, 'foundry': 1, 'httpcontextcurrentrequestuserhostaddress': 1, 'icollection': 1, 'mysql_close': 1, 'mysql_free_result': 1, 'reverse_iterator': 1, '0x80020005': 1, 'disp_e_typemismatch': 1, 'rlayoutmain': 1, 'addmilliseconds': 1, 'confimation': 1, 'cv_32f': 1, 'bolding': 1, 'uipicker': 1, 'navigationitem': 1, 'pano2vr': 1, 'panorama': 1, 'expirable': 1, 'setcustomobject': 1, 'microsoftsqlservermanagementsmofailedoperationexception': 1, 'batchparserdll': 1, 'incorporate': 1, 'usermanagercreateasync': 1, 'active_record': 1, 'has_and_belongs_to_many_association': 1, 'apotomo': 1, '13digit': 1, 'induce': 1, 'blinks': 1, 'nokgiri': 1, 'pillow': 1, 'commongodbbasicdbobject': 1, 'mondodb': 1, 'sdl_image': 1, 'objecttree': 1, 'imadjust': 1, 'formcleaned_data': 1, 'myframe': 1, '080010105': 1, 'playboard': 1, 'minesweeper': 1, 'navigatorgeolocation': 1, 'uistatusbar': 1, 'kbhit': 1, 'setaccesscontrol': 1, 'systemreflectiontargetinvocationexception': 1, 'nokogirihtmldocument': 1, 'orgapachexercesparserssaxparser': 1, 'smb': 1, 'mapint': 1, 'bin2hex': 1, 'hex2bin': 1, 'pacejs': 1, 'afterfind': 1, 'drupalsettings': 1, 'malloc_stats': 1, 'easeoutbounce': 1, 'prevented': 1, 'ubiquity': 1, 'calibration': 1, 'tornadohttpclient': 1, 'run_line_magic': 1, 'qtcoreddll': 1, 'homehtml': 1, 'jqueryjsver171': 1, 'dbconnect': 1, 'phonegapjs': 1, 'thisrequestis': 1, 'dboaspnet_usersinroles_getrolesforuser': 1, 'accountexpires': 1, 'orgapachelog4jconsoleappender': 1, 'afhttpclient': 2, 'gethighestcolumn': 1, 'sigkill': 1, 'servicemodel': 1, 'malformedparameterizedtypeexception': 1, 'loadcount': 1, 'redactor': 1, 'colorsxml': 1, 'imagegrabscreen': 1, 'javaxnetsslsslprotocolexception': 1, 'unrecognized_name': 1, 'stringreverse': 1, 'separte': 1, 'issuedata': 1, 'regardingobjectid': 1, 'allowdefinitionmachinetoapplication': 1, 'insertsubview': 1, 'belowsubview': 1, 'date_range': 1, 'sslsessioncachetimeout': 1, 'gang': 1, 'crosssite': 1, 'classcleanup': 1, 'abaqus': 1, 'jaxbcontextnewinstance': 1, 'packagistorg': 1, 'packagesjson': 1, 'scrollwheel': 1, 'defeat': 1, 'v183': 1, 'backreference': 1, 'matplotlibpylabimshow': 1, 'localstoragesetitem': 1, 't_lnumber': 1, '10+': 1, 'googleapiclientbuilderenableautomanage': 1, 'pickle': 1, 'unpickle': 1, 'ngcontroller': 1, 'importrow': 1, 'cancelanimationframe': 1, 'angulardraganddroplists': 1, 'arraylistsize': 1, 'javapns': 1, 'javaapns': 1, 'processgetoutputstream': 1, 'x0ax0d': 1, 'interpolatefilterprovider': 1, 'interpolatefilter': 1, 'getimage': 1, '0x6891460': 1, 'figurecanvas': 1, 'filenamexml': 1, 'mysqlconnectorjava5113binjar': 1, 'overloading+': 1, 'diects': 1, 'columnreorder': 1, 'longlength': 1, 'geoip': 3, 'popupcontrol': 1, 'openxmlformats': 1, 'spreadsheetml': 1, 'x2006': 1, 'ctworkbookfactory': 1, 'parse_url': 1, 'importjxl': 1, '265': 1, 'compositedataboundcontrol': 1, 'enumerableexcept': 2, 'capistrano2133': 1, 'f2': 1, 'orgspringframeworkjdbcuncategorizedsqlexception': 1, 'ftpsftp': 1, '351': 1, 'thymeleafexternal': 1, 'imagecolorat': 1, 'weakself': 1, 'postgressql': 1, 'preserved': 1, '_timeb': 1, 'gcc46': 1, 'actionrequestvalidationexception': 1, 'mex': 1, '2012a': 1, 'headerlocation': 1, 'defaultaspx': 1, 'fieldstorage': 1, '__m128': 1, 'atanh': 1, 'archyperbolic': 1, 'simple_html_dom': 1, 'antlrcollectionsastgetline': 1, 'fixate': 1, 'rigorous': 1, 'formm': 1, 'qbuttongroup': 1, 'fosuser': 1, 'nonnamespaced': 1, 'ros': 1, 'dismissible': 1, 'treasure': 1, 'hunt': 2, 'setjmp': 1, 'longjmp': 1, 'quicksand': 1, 'orgspringframeworkcontextapplicationcontextaware': 1, 'systemwindowscontrolstextbox': 1, 'polylines': 1, 'tapply': 1, 'doublylinked': 2, 'c4droid': 1, 'commportidentifiergetportidentifiers': 1, '0x8007002': 1, 'twiddling': 1, 'autosuggest': 2, 'datatypedate': 1, 'tempfilemkdtemp': 1, 'textmodedate': 1, 'asqueryablet': 1, 'commysqljdbcpreparedstatement': 1, 'getcfg': 1, 'msfullscreenchange': 1, 'mans': 1, 'descriptionattribute': 1, 'documentcreateevent': 1, 'filewritealltext': 1, 'flatpages': 1, 'hotkeys': 1, 'drupal_goto': 1, 'collectionscriteriaexpr': 1, 'notlike': 1, 'housenumber': 1, 'differnet': 1, 'learnstreet': 1, 'jarwithdependencies': 1, 'syntaxhighlighting': 1, 'wtsqueryusertoken': 1, 'descended': 1, 'mirrordisposition': 1, 'flavours': 1, 'androidmanifest': 1, 'futuresaddcallback': 1, 'futurestransform': 1, 'becomefirstresponder': 1, 'createelement': 1, 'navutils': 1, '10001': 1, 'test1php': 1, 'disapears': 1, 'loadproperty': 1, '1n': 1, 'loadscriptsphp1': 1, 'a+1': 2, 'qfiledialog': 1, 'barplots': 1, 'jqgrids': 1, 'saturation': 1, 'layergroup': 1, 'object_to_array': 1, 'blaze': 1, 'sessionidmanager': 1, 'systemservicemodelwebhttpbinding': 1, 'doctrine_connection_exception': 1, 'messagelisteneradapter': 1, 'performselectorwithobject': 1, 'globalconstructor': 1, 'glovepie': 1, 'itextpdf530jar': 1, 'simplecart': 1, 'platformbrowserdynamic': 1, 'imediately': 1, 'unsupportedcharsetexception': 1, 'alamofirepass': 1, 'openmptasks': 1, 'viewscript': 1, 'stdmutexlock': 1, 'cgbitmapcontext': 1, 'getsecurityid': 1, 'iinternetsecuritymanager': 1, 'decimalmaxvalue': 1, 'criterion': 2, 'boostvariant': 1, '995': 1, 'orelse': 1, 'geom_rect': 1, 'sharedcachemode': 1, 'datastretch': 1, 'opencv249jar': 1, 'conference': 1, 'selecte': 1, 'onitemclick': 1, 'orghibernatevalidatorengineconfigurationimplgetdefaultparameternameprovider': 1, 'hscroll': 1, 'onauthenticationsuccess': 1, 'googledrive': 1, 'oauth2callback': 1, 'changeset': 2, 'reusesocket': 1, 'array#include': 1, 'formparam': 1, 'inserttext': 1, 'datagramsocket': 1, 'antixsrf': 1, 'changetext': 1, 'rootscopeon': 1, 'vcard': 1, 'subsections': 1, 'truthiness': 1, 'getrequestdispatcher': 1, 'tgz': 1, 'reopened': 1, 'is_a': 1, 'gorm': 1, 'computationaly': 1, 'netsfjasperreportsenginejrexception': 1, 'pypipythonorg': 1, 'mytype': 2, 'unsubscribed': 1, 'jbosswebxml': 1, 'oraoledboracle': 1, 'salting': 1, 'mainfrom': 1, 'eventtargetid': 1, 'commonschunkplugin': 1, 'nonentry': 1, 'uiapplicationwillenterforegroundnotification': 1, 'applicationstate': 1, 'uiapplicationstatebackground': 1, 'routereload': 1, 'pdbs': 1, 'useruploaded': 1, 'notfound': 1, 'sslexception': 3, 'hellorequest': 1, 'deducible': 1, 'abcd': 1, 'makevars': 1, 'cmds': 1, 'ksoap': 1, 'vlc': 1, 'libmysqldll': 1, 'get_json': 1, 'multipartentitybuilder': 1, 'pdofetch': 2, 'dbl_epsilon': 1, 'commanew': 1, 'qt48': 1, 'jacksonjsonprovider': 1, 'mobicents': 1, 'callid': 1, 'selectioncolor': 1, 'taskrunsyncronously': 1, 'baseadress': 1, 'quarter': 2, 'googleyoutube': 1, 'startf_useshowwindow': 1, 'funcsomething': 1, 'check_password': 1, 'tens': 1, 'glatlngbounds': 1, 'loadmoreitemsasync': 1, 'aerial': 1, 'multivariable': 2, 'autotype': 1, 'takeiteratord__3a1': 1, 'shouldoverridekeyevent': 1, 'autocompleteservice': 1, 'autofocus': 1, 'googlecharts': 1, '20110217': 1, 'february': 1, '17th': 1, 'psuedo': 1, 'get_user_pages_fast': 1, 'regularexpressionattribute': 1, 'wwwprogress': 1, 'remotemessage': 1, 'onmessagereceived': 1, 'c11': 1, 'citing': 1, 'users#index': 1, 'offcenter': 1, 'apm': 1, 'jscontext': 1, 'rejcted': 1, 'orgcodehausjacksonjsonfactory': 1, 'schemaini': 1, 'xwebkitspeech': 1, 'onwebkitspeechchange': 1, 'reseting': 1, 'descendent': 1, 'comgooglefirebaseauth': 1, 'unsafemutablerawpointer': 1, 'procedural': 2, 'omp_get_wtime': 1, 'custon': 1, 'extmessagebox': 1, 'nsmanagedobjects': 1, 'tenancy': 1, 'pjpeg': 1, 'maxpwdage': 1, 'activedirectory': 1, 'mysqlcommand': 1, 'isprepared': 1, 'qname': 1, 'cvmoments': 1, 'ajust': 1, 'macro+0': 1, 'systemcollectionsgenericilist': 1, 'openjpa': 1, 'entitytransaction': 1, 'adopt': 2, '4000': 1, 'webproxy': 1, '10053': 2, 'listint32': 1, 'get_the_id': 1, 'postid': 1, 'the_id': 1, 'dependencyproperties': 1, 'ireadonlylistt': 1, 'systemdatacommondatarecordinternal': 1, 'dispatch_barrier_async': 1, 'ca2214': 1, 'errorcause': 1, 'content_changed': 1, 'getcharacters': 1, 'recieving': 1, 'observablecollectionstring': 1, 'stdruntime_errorwhat': 1, 'e_fail': 1, 'harddisk': 1, 'getclientsize': 1, 'virtualizing': 1, 'uniformgrid': 1, 'subfunction': 1, 'datav1': 1, 'datav2': 1, 'code101': 1, 'errorobject': 1, 'filterable': 1, 'shuttle': 1, 'humanfriendly': 1, 'c++11library': 1, 'pirate': 1, 'addedaspnet': 1, 'consonants': 2, 'mercury': 1, 'getdelim': 1, 'rmysql': 1, 'nonnative': 1, 'tfnnembedding_lookup': 1, 'php5imagick': 1, '54171precise+1': 1, 'inch': 1, 'javaxnetsslsslcontext': 1, 'magazine': 1, 'addy': 1, 'osmani': 1, 'sucessive': 1, 'drawback': 1, 'correclty': 1, 'script1028': 1, 'buildfile': 2, 'refreshtoken': 1, 'logonuser': 1, 'fraps': 1, 'servletjsp': 1, '__typeof': 1, 'threadexclusive': 1, 'jqueryminjs': 1, 'appsjs': 1, 'pgstringdatarighttruncation': 1, 'ioslides': 1, 'byvalue': 1, 'thisfinish': 1, 'rbinding': 1, 'ffdf': 1, 'plaintextfile': 1, 'subforms': 1, 'countbyenumeratingwithstateobjectscount': 1, 'manger': 1, 'lookat': 1, 'ct100': 1, 'slowest': 1, 'microsoftaspnetmembershipopenauth': 1, 'usingjava': 1, 'peculiar': 1, 'inubuntu': 1, 'intergral': 1, 'containerservlet': 1, 'catalogs': 1, 'appicon': 1, 'scale_fill_brewer': 1, 'uniquequeue': 1, 'uniquereplacementqueue': 1, 'boosthash_combine': 1, 'hashvalues': 1, 'timercallback': 1, 'reloadsections': 1, 'sectionheader': 1, 'systemdataentitymodelconfiguration': 1, 'invites': 1, 'hike': 1, 'xmlroot': 2, 'jsoupjar': 1, 'ssl_error_ssl': 1, 'matofkeypoint': 1, 'feature2d': 1, 'htmlanchorelement': 1, 'javaee6': 1, 'connectstring': 1, 'regenerate': 1, 'alarmmanager': 1, 'setrepeating': 1, 'onmeasure': 1, 'requestfeature': 1, 'orgapachejasperjasperexception': 1, 'threadsetapartmentstate': 1, 'namespacename': 1, 'rightjustify': 1, 'nsdatecomponents': 1, 'tot': 1, 'sqllike': 1, 'wkwebkit': 1, 'datadetectortypes': 2, 'onpageshow': 1, 'onpagehide': 1, 'symptoms': 1, 'sl': 1, 'echoclient': 1, 'webflow': 1, 'exceptioncontrolled': 1, 'bernoulli': 1, 'urlexternalphpfile': 1, 'cvloadimage': 2, 'parenthetical': 1, 'japplet': 1, 'stdlock': 1, 'unimplementable': 1, 'smileys': 1, 'getresponse': 1, 'javapairrdds': 1, 'touch2': 1, 'localstore': 1, 'oostructure': 1, 'getposition': 1, 'supportedhow': 1, 'ofmessages': 1, 'ace': 1, '96': 1, 'privatekey': 1, 'ondraw': 1, 'qsettings': 1, 'subdocuments': 1, 'runonce': 1, 'mbstowcs': 1, '#div_nameid': 1, 'violations': 1, 'create_view': 1, 'deques': 1, 'cellular': 1, 'querystringbindable': 1, 'httpservlet': 1, 'mappath': 1, 'javautilproperties': 1, 'iphone5c': 1, 'viewwilltransitiontosize': 1, 'getelement': 1, 'javaawtcomponentgetname': 1, 'setname': 1, 'datetimeinterface': 1, 'domcontentloaded': 1, 'npos4294967295': 1, 'valreplace': 1, 'azaz09': 3, 'javautilarraylistt': 1, 'shrink_to_fit': 1, 'ctemp': 1, 'reqests': 1, 'filemanager': 1, 'beforeeach': 1, 'jre7': 1, '_winmaincrtstartup': 1, 'readystate1': 1, 'pdofetchall': 1, 'ixmlserializable': 1, 'gant': 1, 'comfort': 1, 'onexception': 1, 'webdrivereventlistener': 1, 'jpanel#setvisible': 1, 'unchanged': 1, 'jstls': 1, 'currencycode': 1, 'employ': 1, '190k': 1, 'ditto': 1, 'thispropsdatamap': 2, 'sortexpression': 1, 'pivottable': 1, 'requestfile': 1, 'libpaths': 1, 'sendto': 2, 'nametxt': 1, 'datetimeindex': 1, 'wxlistctrl': 1, 'comfacebooksdk': 1, 'ides': 2, 'inprocess': 1, 'selectizejs': 1, 'moneta': 1, 'basic_file': 1, 'funcionality': 1, 'geophp': 1, 'boosttss_cleanup_implemented': 1, 'frequencies': 2, 'incidence': 1, 'startkey': 1, 'stopkey': 1, 'lmer': 1, 'glmer': 1, 'nonrotating': 1, 'uiselect': 1, 'pathname': 1, 'cedarsupported': 2, 'nativehadoop': 1, 'platformsnappy': 1, '674': 1, 'shiftjis': 1, 'cp932': 1, 'settingssettings': 1, 'libclntshso': 1, 'systemwindowscontrolsprimitivestogglebuttonchecked': 1, 'user_mailer': 1, 'registration_confirmation': 1, 'ajaxupdater': 1, 'ngselect': 1, 'categorizing': 1, 'uiswitch': 2, 'gr': 1, 'elf_x86_64': 1, 'datagridviewrowheight': 1, 'typename': 1, 'autobox': 1, 'allowed_domains': 1, 'xtrascheduler': 1, 'jsonprovider': 1, 'curtime': 1, '3hrs': 1, 'resx': 5, 'pipecommunicate': 1, 'createjs': 1, 'tweenjs': 1, 'lightning': 2, 'logfile': 2, 'witness': 1, 'orbital_app': 1, 'methodinfo': 1, 'osticket': 1, 'executestorequery': 1, 'accessdatasource': 1, 'aspxauth': 1, 'qdesktopservicesopenurl': 1, 'instance_variable': 1, 'threaddump': 1, 'openssl_public_encrypt': 1, 'addrinfo': 1, 'coredumpdirectory': 2, 'systemwindowsinteractivitybehavior': 1, 'commonlib': 1, 'norepositorybean': 1, 'hostenth_addr_list': 1, 'sockaddr': 2, 'filedialog': 1, 'angularfromjson': 1, 'form_open_multipart': 1, 'get_sitegroups': 1, 'methodhandle': 1, 'ansii': 1, 'popunder': 1, 'userstore': 1, 'geocodergetlocations': 1, 'textareafield': 1, 'pyrun': 1, 'whit': 1, '__bridge_transfer': 1, 'myappexeconfig': 1, 'themself': 1, 'rb_thread_select': 1, 'dijittitlepane': 1, 'microsoftcsharp430': 1, 'pyst': 1, 'proxying': 1, 'anatomy': 1, 'scriptservice': 1, 'mysteriously': 1, '6plus': 1, 'dj_database_url': 1, 'typeings': 1, 'nlineinputformat': 1, 'linkedllist': 1, 'applyif': 1, 'orgeclipsejdtlaunchingjre_container': 1, '6bit': 1, 'desaturation': 1, 'winsdk': 1, 'addchild': 3, 'qgroupbox': 1, 'locality': 1, 'ns_block_assertions': 1, 'capybaraelementnotfoundunable': 1, 'nonsocket': 1, 'codewars': 1, 'editingstyleforrowatindexpath': 1, 'phpunable': 1, 'qwidgetmousemoveevent': 1, 'currentpage': 1, 'php_auth_user': 2, 'numberpicker': 1, 'nextchar': 1, 'c2533': 1, 'javaxmailinternetinternetaddress': 1, 'econnreset': 1, 'fgets+sscanf': 1, 'captions': 1, 'textacular': 1, 'adjustment': 1, '711': 1, 'rewritten': 3, 'testacular': 1, 'efentity': 1, 'smarter': 1, 'sendkey': 1, 'getcodebase': 1, 'nativehr0x80070057': 1, 'nativehrnativestack': 1, 'nativestack': 1, 'qpen': 1, 'alteration': 1, 'cextension': 1, 'py_buildvalue': 1, 'session_unset': 1, 'mailgun': 1, 'aggregated': 1, 'tight': 2, 'setp': 1, 'openfire': 1, 'loadurl': 1, 'cs4014': 1, 'commandq': 1, 'templatetags': 1, 'installed_apps': 1, 'orchestration': 1, 'dummycom': 1, 'ntext': 1, 'dbmigration': 1, 'xfdf': 1, 'abstracting': 1, 'mailitemhtmlbody': 1, 'x0020': 1, 'localhost9092': 1, 'differenet': 1, '2f': 1, 'noted': 1, 'dataonlyexcelformatoptions': 1, 'csliderctrl': 1, 'vtype': 1, 'enhancement': 1, 'requestoriginalrequest': 1, 'addrs': 1, 'signaling': 2, 'clvisit': 1, 'flux': 1, 'asynctrue': 1, 'opencv_world310dll': 1, 'skshapenodes': 1, 'md4': 1, 'crypto++': 1, 'pageispostback': 1, 'activationcontext': 1, 'rest_framework': 1, 'orgapachetilesrequestapplicationcontext': 1, 'javatextdateformat': 1, 'alldeleteorphan': 1, 'nh': 1, 'payment_id': 1, 'nsoutputstream': 1, 'skimage': 1, 'neighbouring': 1, 'mongodate': 1, '112': 1, 'indesigner': 1, 'aspnet5': 1, 'shaking': 1, '1094': 1, 'setcurrentdirectory': 1, 'blockedlinkedqueue': 1, 'retailprice': 1, 'copyfileex': 1, 'fro': 1, 'ranging': 1, 'beacons': 1, 'date_modify': 1, 'onauth': 1, 'incist': 1, 'controlslistview': 1, 'createline': 1, 'btnradio': 1, 'mechanizeresponsecodeerror': 1, 'servletfileuploadparserequest': 1, 'content_tag_for': 1, 'multivaluefield': 1, 'impementation': 1, 'dplyrn': 1, 'processoutputdatareceived': 1, 'keyvalues': 1, 'javaxel': 1, 'maileraddaddress': 1, 'domaincom': 2, 'hometown': 1, 'javautilregex': 1, 'c#30': 1, 'devolpment': 1, 'rgb2lab': 1, 'paperslider': 1, 'hiddeninput': 1, 'scipyinterpolateinterp1d': 1, 'blit': 1, 'ctng': 1, 'icsharplib': 1, 'glyphs': 1, 'seh': 1, 'sjlj': 1, 'upgraded': 4, 'nonserialized': 1, 'facades': 1, 'treenodes': 1, 'spreadshirt': 1, 'optionsettype': 1, 'scattered': 1, 'matplotlibpyplotcontourf': 1, 'listjs': 1, 'djangoform': 1, 'selectmultiple': 2, 'ggplot2r': 1, 'stat_count': 1, 'aesthetic': 1, 'systemwebroutingrequestcontext': 1, 'pymssqloperationalerror': 1, '20009': 1, 'seamlessly': 2, 'undebug': 1, 'errorjavac': 1, 'popupmode': 1, 'datanginit': 1, 'contentvalues': 1, 'nsurlconnections': 1, 'functionbased': 1, 'humongous': 1, 'cheating': 1, 'sqlexpress': 1, 'boostasiodetailnoncopyable': 1, 'licensing': 1, 'listofcontrols': 1, 'owning': 1, 'typeliteralsett': 1, 'mentioning': 1, 'bytecode': 2, 'summaryby': 1, '1500': 1, 'traveled': 1, 'changedattributes': 1, 'breaksnewline': 1, 'wxprocess': 1, 'jettyrunwar': 1, 'persistenceexception': 1, 'environmentdefault_schema': 1, 'getwidth': 1, 'accessability': 1, 'canceleventargs': 1, 'redissharp': 1, 'servicestackredis': 1, 'django17': 1, 'setforegroundwindow': 1, 'flaskextsecuritydatastoresqlalchemyuserdatastore': 1, 'visiblefalse': 1, 'omniauthshopifyoauth2': 1, 'warningincompatible': 1, 'presentationframeworkaero2': 1, 'routepost': 1, 'wif': 1, 'rolldown': 1, 'cloudconfigurationmanagergetsetting': 1, 'configurationread': 1, 'objcbool': 1, 'ob_end_flush': 1, 'vspackage': 1, 'toolbarsearch': 1, 'pythonspidermonkey': 1, 'chefsolo': 1, 'chefresourcepythonpip': 1, 'boostmulti_index_container': 1, 'adox': 1, 'subnode': 1, 'find_element_by_name': 1, 'custome': 1, 'iequalitycomparert': 1, 'positionsticky': 1, 'activerecordrecordinvalid': 1, 'orgapachemavenpluginsmavenfailsafeplugin212verify': 1, 'pg_fetch_row': 1, 'in_addr': 1, 'jbossmq': 1, 'protocal': 1, 'webpshere': 1, '19kb': 1, 'persistencexml': 1, 'jspinner': 1, 'subdoc': 1, 'html50': 1, 'permissionevaluator': 1, '_timestamp': 1, 'oncheckedchangelistener': 1, 'androidosbundle': 1, 'cvseq': 1, 'rplotspdf': 1, 'constlike': 1, 'gnustep': 1, 'dayclick': 1, 'contentmd5': 1, 'jerseys': 1, 'c2056': 1, 'modularize': 1, 'futurewarning': 2, 'valueof': 1, 'inspectismethod': 1, 'inspectisfunction': 1, 'emberobserver': 1, 'reimplementing': 1, 'grect': 1, 'djano': 1, 'matchsuccess': 1, 'getruntime': 1, 'didreceivememorywarning': 1, 'mymodal': 1, 'vanity': 1, 'mahalanobis': 1, 'mssql_execute': 1, 'qmetamethod': 1, 'qobjectconnect': 1, 'mysqlprov': 1, 'ibmdadb2': 1, 'eventdata': 1, 'casteljaus': 1, 'derivates': 1, 'postgres+sqlalchemy': 1, 'defaultfuncnow': 1, 'transfers': 2, 'jpatransactionmanager': 1, 'contextfilltext': 1, 'crisp': 1, 'contexttranslate': 1, 'united': 1, 'nsentitydescription': 1, '_loginpartial': 1, 'keyboardinputchangedselection': 1, 'sniffing': 2, 'statet': 1, 'elementcollection': 1, 'redirectresult': 1, 'uniq_be2ddf8cbcf5e72d': 1, 'vt100': 1, 'offclick': 1, 'cvsvm': 1, 'hogdescriptor': 1, 'landmines': 1, 'hplc': 1, 'chromatogram': 1, 'exam': 2, 'grading': 1, 'mailapp': 1, 'uibmodalopen': 1, 'angualr': 1, '_partialviewcshtml': 1, 'listens': 1, 'outofrange': 2, 'error_messages': 1, 'encodeuri': 1, 'mathematica': 1, 'setadd': 1, 'xhrstatus': 1, 'cdocuments': 1, 'htmlhelper': 1, 'circulation': 1, 'lst': 2, 'onselectrow': 2, 'processingcore': 1, 'imageops': 1, 'solutionwide': 1, 'shorturl': 1, 'comgoogleinjectcreationexception': 1, 'myautoscalefactor': 1, 'marshalbyreference': 1, 'pathjoin': 1, 'cps': 1, 'accumulating': 1, 'configtimeout_in': 1, 'nsviews': 1, 'stringbufferinputstream': 1, 'checkboxchecked': 1, 'trendline': 1, 'previewkeydown': 1, 'rgeo': 1, 'maintaing': 2, 'formserialize': 1, 'aopscopedproxy': 1, 'proxytargetclassfalse': 1, 'usercreationform': 1, 'curlopt_ssl_verifypeer': 1, 'es3': 1, 'charisnumber': 1, 'advertisement': 1, 'startupbat': 1, 'scalahtml': 1, 'networksecurityconfig': 1, 'webclientdownloadingstring': 1, 'glowing': 1, 'tempojs': 1, 'gitstyle': 1, 'djangodjangocoreexceptionsappregistrynotready': 1, 'ld_library_path': 2, 'texttt': 1, 'pgsqlcall': 1, 'getnextexception': 1, 'httplisten': 1, 'databaseensurecreated': 1, 'glutwirecube': 1, 'succeess': 1, 'windowwebkitnotificationsrequestpermission': 1, 'jbig2': 1, 'rmagick': 1, 'digitlong': 1, 'describing': 1, 'byebug': 1, 'nullify': 1, 'positionabsolute': 1, 'taskmanager': 1, '#paperclipuploadedfileadapter0xdbc7624': 1, 'asyn_read': 1, 'pygtrends': 1, 'orgapachecommonsnetftpftpconnectionclosedexception': 1, 'indication': 1, 'getcurrentthreadid': 1, 'phpproblem': 1, 'imagepng': 1, 'phpbrew': 1, 'decimalminvalue': 1, 'surprising': 1, 'unsized': 1, 'pearson': 1, 'sqldataadapterfill': 1, 'classfunction': 1, 'iterator_to_array': 1, 'pagelevel': 1, 'thisnode': 1, 'itemspaneltemplate': 1, 'contentproperty': 1, 'onhover': 1, 'cardviewcardcaptionformat': 1, 'wifly': 1, 'winbaseh': 1, 'secutity': 1, 'crtisvalidheappointer': 1, 'occi': 1, 'metadatagetstring': 1, 'herokulike': 1, 'firefoxbinary': 1, '7055': 1, 'primer': 1, 'contentwindowdocumentbody': 1, 'mmh': 1, 'priu64': 1, 'dropshadow': 1, 'arbitrarilystructured': 1, 'dynamodbmapper': 1, 'datachannel': 2, 'nodet': 1, 'explaination': 1, 'v106': 1, 'mqseries': 1, 'obatining': 1, 'glrotatef': 1, 'tinymceinit': 1, 'atomic_move': 1, '304': 1, 'gdirections': 1, 'fbloginbutton': 1, 'ifthen': 1, 'messageoriented': 1, 'csi': 2, 'unsliced': 1, 'mysqlimysqli_fetch_all': 1, 'androidosmessage': 1, 'maths': 1, 'collides': 2, 'intellijidea': 1, 'clientabortexception': 1, 'accesed': 2, 'whitelisted': 1, 'processmessages': 1, 'suppressed': 1, 'membershipprovider': 1, 'propertyresourcebundle': 1, 'ispressed': 1, 'cake_core_include_path': 1, 'webbrowsercontrol': 1, 'nouislider': 1, 'rediscommanderror': 1, 'allowdiskusage': 1, 'div_images': 1, 'cgcontextclearrect': 1, 'google_application_credentials': 1, 'send_confirmation_instructions': 1, 'considers': 1, 'rtl': 1, 'file2': 1, 'security_err': 1, 'factoring': 1, 'elementdataset': 1, 'uiactionsheet': 1, 'uiactioncontroller': 1, 'strtoul': 1, 'iequatable': 1, 'moc': 1, 'sharpen': 1, 'serverjs': 1, 'codelab': 2, 'excelcnvexe': 1, 'executequeryin': 1, 'keypfx': 1, 'inputgetbuttondown': 1, 'kth': 1, 'simplyfiedjspservlet': 1, 'socketclient': 1, 'telephone': 2, 'xhp': 1, 'parse_requirements': 1, 'congruence': 1, 'oequals': 1, 'eequals': 1, 'crystaldecisionsvsdesigner': 1, 'version10537000': 1, 'sorticon': 1, 'selfupdate': 1, 'roger': 1, 'stuckeys': 1, 'acme': 1, 'templateengine': 1, 'calcualate': 1, 'kcfstreamerrordomainssl': 1, '9813': 1, 'graphfacebookcom443': 1, 'mdprogresslinear': 1, 'md': 3, '_strong': 1, 'sipie': 1, '1004': 1, 'tostringbuilder': 1, 'opensearch': 1, 'studio_jdk': 1, 'jdk_home': 1, 'passwordencoder': 1, 'sccurity': 1, 'stdbasic_ostream': 1, 'cstringt': 1, 'exceptioninnerexception': 1, 'ngfalsevalue': 1, 'uicollectionviewlayout': 1, 'capitalized': 1, 'sharedsizescope': 1, 'tooltiptext': 1, 'scissorpythoncode': 1, 'worldwrapping': 1, 'functionfilegetcontents': 1, 'javaxjmsmessage': 1, 'speaking': 1, 'fles': 1, 'action_name': 1, 'methodmust': 1, 'registrar': 1, 'getvalueat': 1, 'filewrite': 1, 'colnames': 2, 'elasticsearchjs': 1, 'cgifieldstorage': 1, 'ccmenuitemimage': 1, 'boostfunction': 1, 'kuttypemovie': 1, 'dows': 1, 'cs1009': 1, 'sparksession': 1, 'fontweight': 1, 'generalization': 1, 'getservingurl': 1, 'writetoparcel': 1, 'tkinterpython': 1, 'inital': 1, 'jetbrain': 1, 'bootup': 1, 'alphabeticallyor': 1, 'linkers': 1, 'codesplitting': 1, 'excelinterop': 1, 'mailerdaemon': 1, 'dhc': 1, 'listenerstart': 2, 'simplebound': 1, 'zend_soap': 1, 'applicationdirpath': 1, 'slowaes': 1, 'cgrectintersectsrect': 1, 'cartphtml': 1, 'onfocuschanged': 1, 'xcsrftoken': 1, 'orgapachehttp': 1, 'datetimetryparse': 2, 'cagradientlayer': 1, 'artistname': 1, 'cxampphtdocsglobalphp': 1, 'reliablesessionbindingelement': 1, 'signaturedoesnotmatch': 1, 'gl3w': 1, 'orgapachepoiutilioutilscopy': 1, 'jabber': 1, 'oncreateviewholder': 1, 'onbindview': 1, 'arraylistremove': 1, 'proccess': 1, 'controlgroup': 1, 'nxnxn': 1, 'vidioc_queryctrl': 1, 'batchgetitem': 1, 'do_action': 1, 'allowcredentials': 1, 'requestpostgetlist': 1, 'readastext': 1, 'randomint': 1, '3381': 1, 'soucre': 1, 'drifting': 1, 'geom_point': 1, 'structpack': 1, 'islinked': 1, 'zend_session_savehandler_dbtable': 1, 'systemdrawingpoint': 1, 'pligg': 1, 'safebrowsing': 1, 'xcconfig': 1, 'arrangement': 2, 'httpcontextcurrentresponse': 1, 'inrange': 1, 'autogeneratecolumnstrue': 1, 'casechange': 1, 'nwordlength': 1, 'copytodatatable': 1, 'systemdatadatatable': 1, 'custmizable': 1, 'rpc_e_sys_call_failed': 1, 'triangulatepoints': 1, 'titlebars': 1, 'drawstring': 1, 'sqlserverexception': 1, 'borderlayoutcenter': 1, 'stringlengthattribute': 2, 'javaxnamingnamealreadyboundexception': 1, 'sendemptymessage': 1, 'systemconfigurationconfigurationerrorsexception': 1, 'systemconfigurationdll': 1, 'systemconfigure': 1, 'spammed': 1, 'bots': 1, 'javaxpersistencerollbackexception': 1, 'wcftestclient': 1, 'variablelength': 1, 's1000': 1, 'irregularly': 1, 'jsonobjecttostring': 1, 'category_id': 1, 'jtoolbarhelperaddnew': 1, 'timer_tick': 1, 'comsunjerseyapiclientclienthandlerexception': 1, 'eventtargetparentelement': 1, 'matchesselector': 1, 'controllerscoomissing': 1, 'mockitoexception': 1, 'stubbed': 1, 'existent': 1, 'mappingexception': 1, 'show_404': 1, '404_override': 1, 'oracledataaccessdll': 1, 'bufsize': 1, 'focusable': 1, 'commandlinetools': 1, 'pwc6117': 1, 'openomr': 1, 'mainpart': 1, '1c': 1, 'listu': 1, 'longtext': 1, 'av_seek_frame': 1, 'version10000': 1, 'uiscrollviewdelegate': 1, 'scrollviewwillenddraggingwithvelocitytargetcontentoffset': 1, '_xlfnifna': 1, 'jscss': 1, 'logoff': 1, '_pick': 1, 'bottomleft': 1, 'enemies': 2, 'boolalpha': 1, 'ipv6_v6only': 1, 'exsisting': 1, 'drageventargs': 1, 'unveil': 1, 'javascriptjava': 1, 'nioeventloopgroup': 1, 'buserror': 1, 'mirrors': 1, 'sessionfactorygetcurrentsession': 1, 'we8mswin1252': 1, 'jsondeserializer': 1, 'springbeanautowiringsupport': 1, 'handlerinstantiator': 1, 'zoomcontrolstyle': 1, 'mavenshadeplugin': 1, 'cricheditctrl': 1, 'seven': 1, 'circlebased': 1, 'unencoding': 1, 'permodel': 1, 'ora12154': 1, 'tnscould': 1, 'this_addins': 1, 'preauth': 1, 'valdaition': 1, 'ebooks': 1, 'jaxbelementstring': 1, 'screenspace': 1, 'worldspace': 1, 'sparkline': 1, 'sitewide': 1, 'xhttpmethodoverride': 1, 'poolinghttpclientconnectionmanager': 1, 'gs0x14': 1, 'tft': 1, 'systemnetipaddress': 1, 'xbee': 1, 'shield': 1, 'bee': 1, '1270018000': 1, 'wp_list_pages': 1, 'delimitedlinetokenizer': 1, 'usersupplied': 1, '123129456': 1, '12312': 1, 'nstextstorageeditactions': 1, 'layoutcontrol': 1, 'uitapgesture': 1, 'splitterwindow': 1, 'systemwindowslayoutcycleexception': 1, 'httpclientgetparams': 1, 'coreprotocolpnamesuse_expect_continue': 1, 'requestconfig': 1, 'delegatecommandcanexecute': 1, 'jquerycallbacks': 1, 'jettys': 1, 'slideshowpro': 1, 'saveadd': 1, 'cache_classes': 1, 'tv': 2, 'sausage': 1, 'validationxml': 1, 'pantheios': 1, 'encodable': 1, 'twitterkit': 1, 'didencountererror': 1, 'withmessage': 1, 'after_validation': 1, 'memmap': 1, 'spritebatchdraw': 1, 'provinces': 1, 'anuglarjs': 1, 'ngstorage': 1, 'nether': 1, 'datasourceswiftxcode': 1, 'createtempfile': 1, 'listlistint': 1, 'return_generated_keys': 1, 'gemremotesourceexception': 1, '0xc0': 1, 'inttypesh': 1, 'cs106b': 1, 'lexicon': 1, 'gambling': 1, 'idinput_message': 1, 'displaynamefor': 1, 'ora06550': 1, 'pls00306': 1, 'shared_examples_for': 1, 'bigvideojs': 1, 'granting': 1, 'getlistitems': 1, 'pbekeyspec': 1, 'ora01000': 1, '0x770115de': 1, '0xccccccc0': 1, 'appstorereceipturl': 1, 'mainbundle': 1, 'groupcontrol': 1, 'qsort': 1, 'javasecuritynosuchproviderexception': 1, 'sunmscapi': 1, 'isdefault': 1, 'rbac': 1, 'javaniocharsetmalformedinputexception': 1, 'nscondition': 1, 'pseudoform': 1, 'crt1o': 1, 'deciding': 1, 'toolbarandroid': 1, 'salary': 1, 'employees': 1, 'reqbody': 1, 'excecute': 1, 'fullyfeatured': 1, 'reclaim': 1, 'ienumerablemyclass': 1, 'micorsoftofficeinterop': 1, 'formclose': 1, 'closereason': 2, 'accossioations': 1, 'itemid': 1, 'widening': 1, 'serializearray': 1, 'hrefmailto': 1, 'karmarunner': 1, 'useragents': 1, 'q1': 1, 'pdoquery': 2, 'trustnotgrantedexception': 1, 'onbootstrap': 1, 'jres': 1, 'sqlconnectionstringbuilder': 1, 'ignite': 1, 'htpasswd': 1, 'divtags': 1, 'noescape': 1, 'arrayconvertall': 1, 'ora01017': 1, 'phpredis': 1, 'dictionary+queue': 1, 'dbotable2': 1, 'hs_err_pid': 1, 'childclass': 1, 'cv2keypoint': 1, 'dodefault': 1, 'grok': 1, 'figaroinstall': 1, 'jssdk': 1, 'equalling': 1, 'aspmvc': 1, 'threadinterrupt': 1, 'constraintvalidationexceptions': 1, 'iinterceptor': 1, 'zeep': 1, 'pipelining': 1, 'setpreferredscrollableviewportsize': 1, 'setfillsviewportheight': 1, 'ffi': 1, 'noconflict': 1, 'boston': 1, 'housing': 1, 'cvshowimage': 1, 'suscriber_name': 1, 'byethost': 1, 'school': 1, 'allargs': 1, 'androiddatabasesqlitesqlitedatatypemismatchexception': 1, 'gotoxy': 1, 'responsegetwriter': 1, 'identityusersand': 1, 'fileuploader': 1, 'bluimp': 1, 'ngmessages': 1, 'uncompressing': 1, 'faade': 1, 'logmanagergetlogger': 1, 'xmlconfiguratorconfigure': 1, 'taskset': 1, '913': 1, 'perm': 1, 'datavalue': 1, 'nsbox': 1, 'webrick': 1, 'prowexpansion': 1, 'jsf+primefaces': 1, 'filterbranch': 1, 'des_set_odd_parity': 1, 'ooxmlshemas10jar': 1, 'poiooxmlshemas38jar': 1, 'computersql': 1, 'twitteroauthphp': 1, 'stdstack': 1, '0355': 1, 'htmlanchor': 1, 'systemnetsocketssocketacceptasync': 1, 'driverfind_element': 1, 'idbody': 1, 'textinclude': 1, 'textcheck': 1, 'expressionfunct1': 1, 'expressionfunct2': 1, 'implictly': 1, 'xmm1': 1, 'pointertopointer': 1, 'xrequestedwith': 1, 'analogy': 1, 'embossing': 1, 'azimuth': 1, '0x2': 1, 'datanativemenufalse': 1, 'durations': 1, 'connent': 1, 'tel': 1, 'cfurlresourceisreachable': 1, 'effeciently': 1, 'bringintoview': 1, 'windowsform': 1, 'jpql': 1, 'stdto_string': 2, 'androidnethttprequestqueue': 1, 'jquery1113minjs5': 1, 'htmlheadstyle': 1, 'elemval': 1, 'elemtext': 1, 'nonconstexpr': 1, 'constexpr': 1, 'isdefined': 1, 'thisloadview': 1, 'firebasemessagingservice': 1, 'twitchtv': 1, 'subsites': 1, 'promiseall': 1, 'pgrep': 1, 'httpauth': 1, 'orgapachecordovapluginsoftkeyboard': 1, 'formsauthenticationticket': 1, 'nspoint': 1, 'nsview': 2, 'sting': 1, 'torcachecom': 1, 'xmmatrix': 1, 'gettimeofday': 1, 'ddmmyy': 1, 'mmddyy': 1, 'go60505': 1, 'regexrunner': 1, 'systemtextregularexpressionscompiledregexrunnergo': 1, 'unambiguous': 1, 'mapobject': 1, 'php_mongodll': 1, 'pervisit': 1, 'thiselfind': 1, 'iconsearch': 1, 'jirapython': 1, 'systemdataodbc': 1, 'sol_tcp': 1, 'ipproto_tcp': 1, 'tcp_keepidle': 1, 'ksoap2': 1, 'stdsetstdstring': 1, 'iontabs': 1, 'c4081': 1, 'unicenta': 1, 'opos': 1, '21s01': 1, '1136': 2, 'resistant': 1, 'rstring': 1, 'systemthreadingmutex': 1, 'c#search': 1, '_redirect': 1, 'javaxmediaopenglgldrawablefactoryinitsingleton': 1, 'selfnavigationcontrollertoolbar': 1, 'xreg': 1, 'newxreg': 1, 'researched': 1, 'falsefalseclass': 1, 'phppost': 1, 'oracledataadapter': 1, 'insertrowsatindexpaths': 1, 'certcreatecertificatecontext': 1, 'microsoftaspnetloaderiis': 1, 'wd': 1, 'sign_out': 1, 'valuevalue': 1, 'externalinterfaceaddcallback': 1, 'beginswith': 1, 'nhibernatecollectiongenericpersistentgenericbag': 1, 'opcodes': 1, 'orgcodehausmojorpmmavenplugin215rpm': 1, 'systemdrive': 1, 'cellbrowser': 1, 'powermock': 1, 'deg': 1, 'decodeuricomponent': 1, 'potentialy': 1, 'matrixes': 1, 'systemservicemodelfaultexception': 1, 'stringintern': 1, 'fileconfig': 1, 'form_dropdown': 1, 'mcfapplication': 1, 'hmacsha256': 1, 'sensitivity': 1, 'pickling': 1, 'webrowser': 1, 'uielementaddhandler': 1, 'soundpool': 1, 'directoryservicesaccountmanagement': 1, 'sin_addrs_un': 1, 'bytesio': 1, 'requestdata': 1, 'eclipe': 1, 'wfkv_': 1, 'activerecord#find': 1, 'phar': 1, 'trygetvalue': 1, 'drawinrectwithattributes': 1, 'elementtoclass': 1, 'declaratively': 1, 'php531win32vc9x86zip': 1, 'g++435': 1, 'ysdfplayer_comment': 1, 'tinyxpath': 1, 'tinyxml': 1, 'jdk8': 1, 'subgrids': 1, 'selfviewframewidth': 1, 'msbuildtaskhostexe': 1, 'assetsclean': 1, 'queueuserworkitem': 1, 'enumtryparse': 1, 'nonparseable': 1, 'appendnode': 1, 'beautifulsoup4': 1, 'bluetoothsocket': 1, 'gracefulfs': 2, '308': 1, 'validaterow': 1, '15+': 1, 'authorizecore': 1, 'convnetjs': 1, 'deletions': 1, 'classpathapplicationcontext': 1, 'ngsubmit': 1, 'qvariantlist': 1, 'itemsource': 1, 'suppresswarnings': 1, 'scandinavian': 1, 'mutationobserver': 1, 'entitylisteners': 1, 'ondragstart': 1, 'outwrite': 1, 'tensorflowtensor': 1, 'tiebreaker': 1, 'wm_settext': 1, 'stdtransform': 1, 'afnfiltering': 1, 'onclient': 1, 'freetextbox': 1, 'reproduce': 1, 'thispropsactiveroutehandler': 1, 'postcodes': 1, 'strs': 1, 'didselectrowadtindepath': 1, 'exceptioon': 1, 'clientrequestfilter': 1, 'sabc+xyz': 1, 'la': 1, 'difflib': 1, 'mvc1': 2, 'pygameerror': 1, 'initilization': 1, 'reportlab': 1, 'databaseproperties': 1, 'toolbartrayorientation': 1, 'c50': 1, 'request_ids': 1, 'plainjs': 1, 'aspdropdownlist': 1, '0x7fff': 1, 'applicationdatacurrentlocalsettings': 1, 'sublists': 1, 'htmlmail': 1, 'rhbase': 1, 'rhadoop': 1, 'libthrift': 1, 'isfactor': 1, 'filewatcher': 1, 'systemiofilecopy': 1, 'methodnotfoundexception': 1, 'sqlite3interfaceerror': 1, 'tester': 1, 'lnk1112': 1, 'strtoupper': 1, 'jdbctemplatebatchupdate': 1, 'is_array': 1, '#6': 1, 'pep': 1, '8name': 1, 'moongoose': 1, 'isolatedstorage': 1, 'optimisticlockexception': 1, 'stickman': 1, 'multiprecision': 1, 'cpp_int': 1, 'indenting': 1, 'googlebot': 1, 'iswellformeduristring': 1, 'trycreate': 1, 'pokemon': 1, 'battle': 1, 'sensibly': 1, 'registerroutes': 1, 'pandass': 1, 'indextrue': 1, '+view': 1, 'managementscopeconnect': 1, 'e_accessdenied': 1, 'pfuser': 1, 'failedunexpected': 1, 'webclientuploadfile': 1, 'compelling': 1, 'sassbat': 1, 'gradientpositions': 1, 'moqmock': 1, 'divxwebplayer': 1, 'contextlib': 1, 'adsense': 1, 'cookiebased': 1, 'unconditionally': 1, 'videogame': 1, 'replace_if': 1, 'mappingfile': 1, 'orghibernateunknownentitytypeexception': 1, 'persister': 1, 'shm_open': 1, 'ftruncate': 1, 'reduxjs': 1, 'unpickleable': 1, 'reraising': 1, 'sanitizeclean': 1, 'readfilesync': 1, 'perfomance': 1, 'frictionless_value': 1, 'flipclock': 1, 'avx': 1, 'appxaml': 2, 'configurewrite': 1, 'jbas014750': 1, 'podcasts': 1, 'curveb': 1, 'plt': 1, 'xhronreadystatechange': 1, 'eoferror': 2, 'customtype': 1, 'robin': 1, 'documentbodygetelementsbytagname': 1, 'documentgetelementsbytagname': 1, 'incomponent': 1, 'msappdata': 1, 'encodingdecoding': 1, 'documentgetelementsbyname': 1, 'streambuf': 1, 'paperdrawerpanel': 1, 'mirrored': 1, 'travelled': 1, 'hook_cron': 1, 'reimplemented': 1, 'jpabased': 1, 'onscrolllistener': 1, 'onclickdocumentformnamesubmit': 1, '2rc': 1, 'exeternal': 1, 'invalidasynchronousstateexception': 1, 'ascii8bit': 2, 'cloudblockblob': 1, 'downloadtostream': 1, 'improperlyconfigured': 1, 'stackframe': 1, 'jmap': 1, 'achieving': 1, 'impersonating': 1, 'setchunkedstreamingmode': 1, 'theadingtimer': 1, 'valueasnumber': 1, 'mpi_send': 1, 'menuitemcontainerstyle': 1, 'find_by': 1, 'macpython': 1, 'restlet': 1, 'microservice': 1, 'upward': 1, 'downward': 1, '#53': 1, 'soundeffect': 1, 'churns': 1, 'mysql_pconnect': 1, 'stringtype': 1, 'timerservice': 1, 'performanceprogressbar': 1, 'radaee': 1, 'stringbuf': 1, 'lseek': 1, 'bottomright': 1, 'executor_globals': 1, 'tracks': 1, 'avurlasset': 1, 'inno': 2, 'algorthms': 1, 'windowscroll': 1, 'h3lp': 1, 'dataproblems': 1, 'gof': 1, 'kendotreelist': 1, 'getlength': 1, 'clients_courses': 1, 'microsoftpracticesservicelocation': 1, 'jsonobjects': 1, 'raw_data': 1, 'concurrentdictionarygetoradd': 1, 'repro': 1, 'attributesoffilesystemforpaths': 1, 'diskimagecache': 1, 'contentview': 1, 'updata': 1, 'unexisting': 1, 'nsmanagedobjectcontextobjectsdidchangenotification': 1, 'django131': 1, 'crating': 1, 'premissions': 1, 'transcoder': 1, 'quaternion': 1, 'ous': 1, 'renderhead': 1, 'readd': 1, 'connectionpooldatasource': 1, 'getshow': 1, 'editrow': 1, 'camediatimingfunction': 1, 'blockbased': 1, '125': 1, 'payloadroot': 1, 'enumeratematchesinstring': 1, 'usingblock': 1, 'hashsetcontains': 1, 'searchtwittercom': 1, 'ns_error_unknown_protocol': 1, 'addins': 2, 'basestreamseek': 1, 'maphttproute': 1, 'threadunsafe': 1, 'customproperties': 1, 'dictate': 2, 'cifilter': 1, 'bindingsourcefilter': 1, 'xxxxxxxx': 1, 'libcrc32c': 1, 'tablegenerator': 1, 'inputstreamread': 1, 'freqdist': 1, 'microsoftsharepointclient': 1, 'redeclaration': 1, 'listlength': 1, 'djangocontribauthmodelsuser': 1, 'east': 1, 'entityinsertintomanagedobjectcontext': 1, 'knit': 1, 'javaiostringwriter': 1, 'blackout': 1, 'conways': 1, 'suspect': 1, 'racecondition': 1, 'comgoogleandroidmaps': 1, 'iar': 1, 'licenses': 1, 'wpadmin': 1, 'translationinstallphp': 1, 'cshtm': 1, 'labelencoder': 1, 'namenotfoundexception': 1, 'paypals': 1, 'list_for_each': 1, 'listh': 1, 'springframeworkspringjdbcjar311release': 1, 'php_excel': 1, 'indexfrompoint': 1, 'jobjectarray': 1, 'onanimationcomplete': 1, 'preparation': 1, 'contest': 1, 'jquerynoconflict': 1, 'draghandler': 1, 'exportasdrag': 1, 'tlsv1': 1, 'sslv3': 1, 'filesystemhpp': 1, 'lone': 1, '#super': 1, 'uniqueidentifier': 1, 'blueprints': 1, 'skspritekit': 1, '#html': 1, 'flashswf': 1, 'rolesalloweddynamicfeature': 1, 'inflate': 1, 'applicationgetresourcestream': 1, 'arctan': 1, 'arctan2': 1, 'oom': 1, 'astericks': 1, 'tweaking': 1, 'shared_ptrtrack': 1, 'cdrom': 1, 'imagemaptype': 1, 'select_date': 1, '381': 1, 'mavenarchetypequickstart': 1, 'rselenium': 1, 'signextend': 1, 'oledbparameter': 1, 'webexception': 1, 'buildimplxml1025': 1, 'swtbrowser': 1, '181': 1, 'internals': 1, '193p194': 1, 'viewforheaderinsection': 1, 'scrolledtext': 1, 'autoscrolling': 1, 'mismatches': 1, 'reshare': 1, 'javardd': 1, 'apostraphes': 1, 'd3eventy': 1, 'obscure': 1, 'vbmath': 1, 'virtualtrue': 1, 'msbuildexe': 2, '0x80': 1, '0xffffffff80000000': 1, 'firebasesetandroidcontext': 1, 'turbo': 1, 'stringthis': 1, 'agree': 1, 'encounters': 1, 'opeing': 1, 'toss': 1, 'intval': 2, 'uitableviewautomaticdimension': 1, 'modelfind': 1, 'weebly': 1, 'comgooglegsoninternallinkedhashtreemap': 1, 'onepersessionbehavior': 1, 'acceptsocket': 1, 'uribuilder': 1, 'objectto_a': 1, 'find_by_': 1, 'myint++': 1, '++myint': 1, 'javafx8': 1, 'javafxconcurrenttask': 1, 'downloader': 1, '88591': 1, 'fifth': 1, 'jasny': 1, 'twokey': 1, 'xmlwriter': 1, 'weekday': 2, 'aparently': 1, 'webresponse': 1, 'nonullallowedexception': 1, 'forge': 2, 'larg': 1, 'ported': 1, 'noclassdefexception': 1, 'manifestxml': 1, 'xmlnoderemovechild': 1, 'imageloader': 1, 'adminabcaspx': 1, 'rootfolderindexaspx': 1, 'autogenerateeditbutton': 1, 'holder': 1, 'writableserverselector': 1, 'wumpus': 1, 'dismissmodalviewcontrolleranimatedcompletion': 1, 'pinching': 1, 'urlmanager': 2, 'ccscene': 1, 'xsschema': 1, 'attributeformdefaultunqualified': 1, 'elementformdefaultqualified': 1, 'viewcenterx': 1, 'numbering': 1, 'mapmessage': 1, 'microsoftaspnetscaffolding120': 1, 'uploadprogress': 1, 'less_equal': 1, 'proprties': 1, 'filtring': 1, 'libgmp3dev': 1, 'localhhost': 1, 'rubyopt': 1, 'dataaccess': 1, 'datetimepy': 1, 'webbrowserdocumentbodyinnerhtml': 1, 'inlinetemplate': 1, 'progamatically': 1, 'simplexmlelements': 1, 'objectprototype': 1, 'htmltextareaelement': 1, 'ora01843': 1, 'metatable': 1, 'asynk': 1, 'csr_matrix': 1, 'nontrivial': 1, 'mysqli_stmt_bind_param': 1, 'externalize': 2, '#ref': 1, 'windowurl': 1, 'stream_context_create': 1, 'multidatabase': 1, 'validates_presense': 1, 'djangorestswagger': 1, 'modelserializers': 1, 'maxhincr': 1, 'max_heap_sects': 1, 'uint64_t': 1, 'sql_calc_found_rows': 1, 'found_rows': 1, 'horners': 1, 'computiing': 1, 'ambiguously': 1, 'axislabel': 1, 'picturepanel_paint': 1, 'geopositions': 1, 'applicaioncontext': 1, '0xe2': 1, 'socketoutputstream': 1, 'comeau': 1, 'freelibrary': 1, 'unicoin': 1, 'setinputtodefaultaudiodevice': 1, 'jndipropertysource': 1, 'systemdatalinqtable': 1, '_pear_call_destructors': 1, 'railway': 1, 'pluralization': 1, '26x': 1, '27x': 1, 'taskkill': 1, 'exponentiation': 1, 'squaring': 1, 'sqlalchemys': 1, 'sessionmerge': 1, 'mysql5139binlibmysqldll': 1, 'spesific': 2, 'preparedstatementsetstring': 1, 'openjdk': 1, 'lexer': 1, 'response#chunked': 1, 'odds': 1, 'ratios': 1, 'logit': 1, 'pasteing': 1, 'bauerca': 1, 'dragsortlistview': 1, 'exitstatus': 1, 'streamwriterwriteline': 1, 'glitchy': 1, 'postresql': 1, 'd3dx9_43dll': 1, 'birthdays': 1, '512': 1, '1024mb': 1, 'iphonetfhpple': 1, 'akamais': 1, 'metastore': 1, 'textareaappend': 1, 'altough': 1, 'remoting': 1, 'jacksonxml': 1, 'jdbchiveconnection': 1, 'claimsprincipal': 1, 'pgm': 1, 'dbschemaload': 1, 'zend_exception': 1, 'undersanding': 1, 'pdread_excel': 1, 'testngs': 1, 'javasecuritycertcertificatenotyetvalidexception': 1, 'javasecuritycertx509certificate': 1, 'interviewstreet': 1, 'redirecttoactioncontroller': 1, 'xdetail': 1, 'deletemarker': 1, 'setallowsanyhttpscertificate': 1, 'webclientdownloadstringcompleted': 1, 'resync': 1, 'abpersonviewcontroller': 1, 'djangocelery': 1, 'streamsocketlistener': 1, 'paintexe': 1, 'nearestneighbour': 1, 'halfing': 1, 'longlistmultiselector': 1, 'selecteditems': 1, 'mailphp': 1, 'colum': 1, 'speak': 1, 'tts': 1, 'mongodbextension': 1, 'textdelimiter': 1, 'pdfmergerphp': 1, 'console+windows': 1, 'dateformatsymbols': 1, 'getshortweekdays': 1, 'custominit': 1, 'activityonstop': 1, 'sendkeyssend': 1, 'dispatch_block_t': 1, 'python32': 1, '1075': 1, 'prototypescoped': 1, 'libboost_thread': 1, 'replacelast': 1, 'oposite': 1, 'hardcode': 1, 'descriptive': 1, 'visibles': 1, 'invisibles': 1, 'sourcesfolderisalreadynetbeansproject': 1, 'maybeonlyinmemory': 1, 'rowkey': 1, 'javalangboolean': 1, 'bootstrapsliderjs': 1, 'null_pointer': 1, 'texboxes': 1, 'xampppython': 1, 'getdeclaredconstructor': 1, 'continent': 1, 'resizer': 1, 'commadelimitedstringcollection': 1, 'themeresources': 1, 'glmatrix': 1, 'sylvester': 1, 'canvasmatrix': 1, 'wxscrolledpanel': 1, 'jqueryajaxsettingsxhr': 1, 'itemssources': 1, 'wicked': 1, 'aspects': 1, 'controlinvokerequired': 1, '148': 1, 'precompile': 1, 'rails_12factor': 1, 'electricity': 1, 'twist': 1, 'qnetworkmanager': 1, 'estoppropagation': 1, '2147024894': 1, 'stringutils': 1, 'getselectedvalue': 1, 'itemvalue': 1, 'wnd': 1, 'validates_associated': 1, 'part1': 1, 'tform': 1, 'ospopen': 1, 'applyed': 1, 'requestsetattribute': 1, 'plot_trisurf': 1, 'kcferrordomaincfnetwork': 1, 'code303': 1, 'angulrjs': 1, 'memorymvc3': 1, 'surely': 1, 'es6+': 1, 'scream': 1, 'ie11facing': 1, 'eligibility': 1, 'birthdate': 1, 'validatejarfile': 1, 'dpath': 1, 'fundamental': 1, 'rectange': 1, 'urllibunquote_plus': 1, 'rtmp': 1, '__nscfconstantstring': 1, 'sybasedataaseclientdll': 1, 'headeronly': 1, 'milimeter': 1, 'cameracaptureui': 1, 'zipfilesystem': 1, 'libocciso': 1, 'nullifying': 1, 'someurl#somehash': 1, 'insertafter': 1, 'closemainwindow': 1, 'xffffffff': 1, 'cafebabe': 1, 'npsavetxt': 1, 'gomap': 1, 'uikeypress': 1, 'myexception': 1, 'xlintunchecked': 1, 'icollectionviewfilter': 1, 'bomb': 1, 'colorbox': 1, 'bjarne': 1, 'stroustrup': 1, 'wsgen': 1, 'java2wsdl': 1, 'netftp': 1, 'prank': 1, 'joke': 1, 'interlocked': 1, 'datacolumns': 1, 'mysqlconnectorpython': 1, 'rotatable': 1, 'ionic2': 1, 'injectormodulerr': 1, 'sslsniff': 1, 'mfc120uddll': 1, 'rpc_e_servercall_retrylater': 1, 'tabpage': 1, 'iounsupportedoperation': 1, 'fileno': 1, 'bio_new': 1, 'eliminating': 1, 'privs': 1, 'regasmexe': 1, 'approximating': 1, 'taylor': 1, 'infopath': 1, 'crcrystalreportviewer': 1, 'idynamicmetaobjectprovidergetmetaobject': 1, 'mlpy': 1, 'androidviewview': 1, 'androidviewwindowfindviewbyid': 1, 'iconimage': 1, 'vailidate': 1, 'reenter': 1, '3tier': 1, 'prevobject': 1, '40000': 1, 'revalidate': 1, 'nsimageview': 1, 'matshow': 1, 'defaultscheduleevent': 1, 'ci_db_mysql_driverresult': 1, 'minors': 1, 'stylesheetcreate': 1, 'webkittransformation': 1, 'callign': 1, 'curand': 1, 'xenforo': 1, 'emulated': 1, 'assignedto': 1, 'webscriptobject': 1, 'orgjbossmodules': 1, 'nettyutil': 1, 'linuxbased': 1, 'thisid': 1, 'codecsopen': 1, 'threadscope': 1, 'drain': 1, 'treestore': 1, 'onbuttonclick': 1, 'includepath': 1, 'vc60': 1, '098932': 1, 'httponly': 1, 'sentestcase': 1, 'xcbuildlogcommandinvocationsection': 1, 'convertdatetime': 1, '06132012': 1, 'town': 1, 'baseuri': 1, 'overflown': 1, 'vb2008': 1, 'getcollection': 1, 'itemselectionchanged': 1, 'nsfastenumerationiteratorelement': 1, 'jerky': 1, 'is_unique': 1, 'uipopovercontroller': 1, 'releationship': 1, 'uikeyboardappearance': 1, 'paranoid': 1, 'sequelizejs': 1, 'treemapinteger': 1, 'reflectionpermission': 1, 'subsite': 1, 'orghibernateexceptionsqlgrammarexception': 1, 'sortedness': 1, 'libsoup': 1, 'mergesort': 1, 'windows2k8': 1, '9th': 1, 'xn': 1, 'savefiledialogue': 1, 'errnoeconnrefused': 1, 'galaxy': 1, 'nexus': 1, 'onchildadded': 1, 'tablelist': 1, 'formonsubmit': 1, 'structural': 1, 'orgopencvobjdetectcascadeclassifiercascadeclassifier_1': 1, 'my_structure': 1, 'sharerphp': 1, 'typespecifier': 1, 'cyanogenmod': 1, 'actioncolumn': 1, 'tsvformated': 1, 'c1016': 1, 'istringstream': 1, 'shutdownblockrequestcreate': 1, 'hostname9000': 1, 'overflowx': 1, 'keyname': 1, 'tablemodel': 1, 'ngdblclick': 1, 'fore': 1, 'jdbc4': 1, '__do_global_dtors_aux': 1, 'xcodeapp': 1, 'toolchains': 1, 'xcodedefaultxctoolchain': 1, 'enhance': 1, 'msb3721': 1, 'zoomcrop': 1, 'asis': 1, 'librarydynam': 1, 'packagelib': 1, 'stringiso': 1, 'scanfloat': 1, 'ocijdbc9': 1, 'africa': 1, 'lagos': 1, 'samestarchar': 1, 'rar': 1, 'processrefresh': 1, 'processhasfinished': 1, 'basedir': 1, 'reqp1reqr': 1, 'apikittenscontroller': 1, 'chromewebrequest': 1, 'enumtostring': 1, 'gtk_events_pending': 1, 'longs': 1, 'modaltrue': 1, 'parentlocation': 1, 'negation': 1, 'v55': 1, 'http_x_forwarded_for': 1, 'watchdog': 1, 'get_osm': 1, 'osmar': 1, 'pearphp': 1, 'stdlogic_error': 1, 'schooltype': 1, 'readasstringasync': 1, 'submodel': 1, 'msil': 1, 'fxmaxwidth': 1, 'use_pref_size': 1, 'retrofit2': 1, 'nongreedy': 1, 'pthread_join': 1, 'evaluations': 1, 'roundingmode': 1, 'indexofcall': 1, 'channelhandler': 2, 'childhandler': 1, 'serverbootstrap': 1, 'sendtocall': 1, 'stdsetlower_bound': 1, 'findelement': 1, 'componentbased': 1, 'cellattr': 1, 'localflavors': 1, 'refined': 1, 'jmx': 1, 'djangoregistration': 1, 'file_exists': 1, 'systemwebuihtmlcontrolshtmlinputtext': 1, 'col1': 1, 'col2': 1, 'setuid': 1, 'seteuid': 1, 'lsstr': 1, 'asyncpostbacktrigger': 1, 'jackson2objectmapperbuilder': 1, 'hashsetinteger': 1, 'v10': 1, 'multiproject': 1, 'zend_auth': 1, 'rendertransform': 1, 'mysql_real_escape_strings': 1, 'macintosh': 1, 'nonasync': 1, 'stringprototypes': 1, 'wp_list_categories': 1, 'geocoordinates': 2, 'heapify': 1, 'ruby191': 1, 'implimentation': 1, 'microsoftofficeinteropexcelapplication': 1, 'buttonsprite': 1, 'textureregion': 1, 'splistcontenttypesenabled': 1, 'splistallowcontenttypes': 1, 'recorder': 1, 'modally': 1, 'pdofetch_column': 1, 'fetches': 1, 'pivot_table': 3, 'bsonelement': 1, 'tableviewcellforrowatindexpath': 1, '#customer': 1, 'reqquery': 1, 'responseappendtolog': 1, 't4': 1, 'set_exception_handler': 1, 'urlpattern': 1, '__sync_val_compare_and_swap': 1, 'adpater': 1, 'multidict': 1, 'emoticon': 1, 'systemcollectionsgenericicollection': 1, 'shop': 1, 'filesjavajre7': 1, 'instaling': 1, 'javaximageioiioexception': 1, 'mdatesstrpdate2num': 1, 'wmappmanifest': 1, 'unwantedjs': 1, 'cuda_visible_devices': 1, 'gigantic': 1, 'getweekofyear': 1, 'cfstringref': 1, 'capybaraelementnotfound': 1, 'mysqliprepare': 1, 'noncakephp': 1, 'efdbcontext': 1, 'fingerprinted': 1, 'packetize': 1, 'markerclusterer': 1, 'leafletlabel': 1, 'mathmin': 2, 'conngetrequestproperty': 1, 'textureloader': 1, 'cubegeometry': 1, 'formhas_changed': 1, 'formchanged_data': 1, 'undocumented': 1, 'plugged': 1, 'sublimerepl': 1, 'anacondas': 1, 'shexe': 1, 'async_receive_from': 1, 'shellfalse': 1, 'invokemember': 2, 'diagnose': 1, 'impacting': 1, 'joptionpaneshowinputdialog': 1, 'site_url': 1, 'image_file_name': 1, 'dbas': 1, 'routingbundle': 1, 'biased': 1, 'setexpression': 1, 'envp': 1, 'subkeys': 1, 'elementid': 1, 'jdk160': 1, 'ig': 1, 'hiddenfor': 1, 'bak': 2, 'logrunning': 1, 'testsuites': 1, 'getbasecontext': 1, 'scrolledpanel': 1, 'jan': 1, '0800': 1, 'cv2imdecode': 1, 'hacked': 2, 'sdwebimage': 1, 'physics': 1, 'errorlevel': 1, 'autolocking': 1, 'flaskupload': 1, 'domain_name': 1, 'locallyinstalled': 1, 'applybindings': 1, 'orgapachepoi': 1, 'encodingundefinedconversionerror': 1, 'xc3': 1, 'entitykey': 1, 'jpopupmenu': 1, 'remote_app_id': 1, 'productiondatabase': 1, 'testdatabase': 1, 'sublayout': 1, 'cvmatsubmat': 1, 'formrequestfrom_response': 1, 'formrequest': 1, 'testhibernate_sequence': 1, 'unbounded': 1, 'max_number': 1, 'jsondecoder': 1, 'boostdeadline_timer': 1, 'dbconnectionproperties': 1, 'playout': 1, 'stringwithutf8string': 1, 'sin_port': 1, 'sif': 1, 'shidden': 1, 'parray': 1, 'filewriteallbytes': 1, '300dev': 1, 'dataannotationsmodelmetadataprovider': 1, 'nlevels': 1, '203fatal': 1, 'decodebase64': 1, 'httperrors': 1, 'errormode': 1, 'array#each': 1, 'passworderror': 1, 'setontouchlistener': 1, 'viewflipper': 1, 'arrayinspect': 1, 'pullup': 1, 'machinename': 1, 'eyecandy': 1, 'mapentity': 1, 'coord_cartesian': 1, 'applicationopenurlsourceapplicationannotation': 1, 'personalized': 1, 'applicationcontextinitializer': 1, 'comandroidvolleyservererror': 1, 'copyfile': 1, 'explorers': 1, 'xtea': 1, 'childrens': 1, 'filenamecontains': 1, 'infamous': 1, 'gst_element_make_from_uri': 1, 'integerfield': 1, 'setonclicklistener': 1, 'orgapachestruts2viewsjspuiformtag': 1, 'sform': 1, 'rnd': 1, 'jdks': 1, 'ob_get_contents': 1, 'ob_end_clean': 1, 'ob_get_clean': 1, 'unmarshaller': 1, 'webservicetemplate': 1, 'objectquery': 1, 'genericlist': 1, 'threadsafety': 1, 'glprint': 1, 'matplolib': 1, 'kanji': 1, 'multiclass': 1, 'norecordexists': 1, 'inputfilter': 1, 'imploding': 1, 'elevator': 1, 'haar': 1, 'wavelet': 1, 'javamode': 1, 'malabar': 1, 'jdee': 1, 'eclim': 1, 'aiutilitiesh': 1, 'thread_local': 1, 'kosubscribe': 1, 'qobject': 1, 'ntqueryinformationprocess': 1, 'cvupdatemotionhistory': 1, 'fullcalendarjs': 1, 'km': 1, 'createquery': 1, 'hermesjms': 1, 'javaxjmsjmsexception': 1, 'ill': 1, 'drupal6': 1, 'waithandlewaitall': 1, 'nsorderedset': 1, 'fetchmany': 1, 'providermanifesttoken': 1, '#c': 1, '279': 1, 'sweetalert': 1, 'grabbed': 1, 'a3': 1, 'trifunction': 1, 'kin': 1, 'javautilfunction': 1, 'honoring': 1, 'logfiles': 1, 'reconstructing': 1, 'imagecreatefrompng': 1, 'completionselector': 1, 'completiontarget': 1, 'facelet': 1, 'webcontrol': 1, 'cgcontextshowatpoint': 1, 'r20': 1, 'threadingthread': 1, 'hklm': 1, 'javaxs': 1, 'aging': 1, 'faces': 1, 'hexagon': 1, 'v20': 1, 'codeflower': 1, 'typein': 1, '__nscftimer': 1, 'copywithzone': 1, 'tcpchannel': 1, 'inheritade': 1, 'dataattr': 1, 'antoher': 1, 'domready': 1, 'xmlhttprequests': 1, 'datatainting': 1, 'zend_soap_client': 1, 'complextype': 1, 'windows1256': 1, 'calculting': 1, 'broadcasts': 1, 'transactioncommit_on_success': 1, 'objectattachment': 1, 'noon': 1, 'timeago': 1, 'bll': 2, 'sha512hash': 1, 'knockknockclient': 1, 'providername': 1, 'ii+1': 1, 'displayformodel': 1, 'bel': 1, 'formauthentication': 1, 'list_editable': 1, 'uninstaller': 1, 'pre_save': 1, 'serializeris_valid': 1, 'asteroids': 1, 'newinstance': 1, 'lnk1146': 1, 'calulation': 1, 'fd_cloexec': 1, 'cancellationtokensourcecancelafter': 1, 'leaky': 1, 'deinterleave': 1, 'timer_create': 1, 'codesign': 1, 'readings': 1, 'cellaccessoryview': 1, 'prj': 1, '5b': 1, '5b0': 1, 'abc_def': 1, 'gather': 1, 'gmagick': 1, 'webbrowsernavigatetostring': 1, 'metainformation': 1, 'and_return': 1, 'outdent': 1, 'globbing': 1, 'javamailsender': 1, 'responsexmlxml': 1, 'java2d': 1, 'bindservice': 1, '__clone': 1, 'e_strict': 1, 'specificity': 1, 'twigbridge': 1, 'canbe': 1, 'realoading': 1, 'asycn': 1, 'windowonerror': 1, 'timestrftime': 1, 'someassembly': 1, 'jqueryextend': 1, 'detect_mismatch': 1, 'txselect': 1, 'hibernateinteger': 1, '420cr1': 1, 'internalization': 1, 'heisei': 1, 'cglayer': 1, 'charged': 1, 'datasourcexml': 1, 'webform_onsubmit': 1, '253d': 1, 'skinning': 1, 'switzerland': 1, 'swiss': 1, 'franc': 1, 'commonvalidator': 1, 'digester': 1, 'engineio': 1, 'gameplay': 1, 'shaker': 1, 'boostarray': 1, 'apigility': 1, 'eclipserequested': 1, 'beginpath': 1, 'closepath': 1, 'sshlibrary': 1, 'loopj': 1, 'collectionssynchronizedlist': 1, 'sysgetenv': 1, 'nary': 1, 'formid': 1, 'hopping': 1, 'configurator': 1, 'mysqldatadll': 1, 'badgevalue': 1, '30k': 1, 'initmethod': 1, '0e10': 1, 'obtvse': 1, 'buynow': 1, 'eyelockeyematching': 1, 'starred': 1, 'utilizing': 1, 'installable': 1, 'cs0012': 1, 'inexact': 1, 'ab1234': 1, 'helpful': 1, 'correcly': 1, 'administative': 1, 'supplies': 1, 'crf++': 1, 'codepoint': 1, 'stink': 1, 'independ': 1, 'province': 1, 'cxampphtdocsstronasearchphp': 1, 'axd': 1, 'appdexdebug': 1, 'processexception': 1, 'virtualmachines': 1, 'jdk180_31jdk': 1, 'noviablealtexception': 1, 'deselection': 1, 'gchandlealloc': 1, 'league': 1, 'closehandle': 1, 'loginmethod': 1, 'localedependent': 1, 'convertshamsitomiladi': 1, 'systemtuple': 1, 'mistakenly': 1, 'nonadult': 1, 'nonspam': 1, 'ffplay': 1, 'archs_standard_32_bit': 1, 'armv6': 1, 'multiplechoicefield': 1, 'chromedriverlog': 1, 'jsontypeinfo': 1, 'valuemember': 1, 'myhash': 1, 'key1': 1, 'childkey': 1, 'sublimeclang': 1, 'webmvc': 1, 'swallowed': 1, 'tasklet': 1, 'all_load': 1, 'wp_enqueue_script': 1, 'djangofilebrowser': 1, 'codehaus': 1, 'orgcodehauscodehausparent': 1, 'filechannel': 1, 'autoincreamented': 1, 'jaxb20': 1, 'xjc': 1, 'compiliation': 1, 'unpack_labeled_data': 1, 'standardizing': 1, 'sharrre': 1, 'datatext': 1, 'makefile_generator': 1, 'differetiating': 1, 'drawitem': 1, 'jsonparsernexttoken': 1, 'hassize': 1, 'hasproperty': 1, 'addwithvalue': 1, 'mailqueue': 1, 'ironio': 1, 'protecteddataunprotect': 1, 'dpapi': 1, 'getcolumnnames': 1, 'jibx': 1, 'jsb': 1, 'webframeworks': 1, 'projectile': 1, 'hitbox': 1, 'columnmapping': 1, 'datasetdesigner': 1, 'sanitizer': 1, 'scrubber': 1, '______': 1, 'navtab': 1, 'sessionregistry': 1, 'jquerytoggle': 1, 'accountcontroller': 1, 'isauthenticated': 1, 'laid': 1, 'windowsmediaplayer': 1, 'wmplib': 1, 'willpaginate': 1, 'pwchar': 1, 'graphdll': 1, 'remove_duplicates': 1, 'capture+resize': 1, 'cgpathref': 1, 'fourzeroleft': 1, 'aysnc': 1, 'serviceactivator': 1, 'recompiled': 1, 'macspecific': 1, '770': 1, '780': 1, 'stackh': 1, '_gaqpush': 1, 'dropshadoweffect': 1, 'expandible': 1, '631': 1, 'startrun': 1, 'oracleparameter': 1, 'cousin': 1, 'angularcopy': 1, 'woocommerce_order_status_completed': 1, 'successor': 1, 'gradletomcatplugin': 1, 'ant4eclipse': 1, 'aw': 1, 'audiodgexe': 1, 'decompose': 1, 'nested_forms': 1, 'aspxpage': 1, 'unencrypt': 1, 'render_to_reponse': 1, 'inhereted': 1, 'systemnethttpheadersmediatypeheadervalue': 1, 'systemnethttpformattingjsonmediatypeformatterget_defaultmediatype': 1, 'newable': 1, 'environmenttickcount': 1, 'orgquartzdisallowconcurrentexecution': 1, 'uwsgi': 1, 'ngnix': 1, 'setforeground': 1, 'collapsiblepanelextender': 1, 'jeditorpanes': 1, 'springstyle': 1, '3600': 1, 'array2': 1, 'no14': 1, 'php+ffmpeg': 1, 'cachefactory': 1, 'vendorregistration': 1, 'search_fields': 1, 'viewpage': 1, '##': 1, 'daemonize': 1, 'setcontentview': 1, 'rlayout': 1, 'eclipseerror': 1, 'contradiction': 1, 'threeitem': 1, 'videocapture': 1, 'systemiomemorystream': 1, 'nscocoaerrordomain': 1, '5412': 1, 'compitability': 1, 'ie79': 1, 'lazyt': 1, 'sterling': 1, 'sasssyntaxerror': 1, 'pages#home': 1, 'tabactivity': 1, 'actionwebservice': 1, 'memoization': 1, '_synthesis_': 1, 'sunsecurityprovidercertpathsuncertpathbuilderexception': 1, 'omniauthfacebook': 1, 'define_singleton_method': 1, 'addnew': 1, 'typecheck': 1, 'itemcheck': 1, 'handlewatchkitextentionrequest': 1, 'joinedsubclass': 1, 'django+mysql+virtualenv': 1, 'domainparse': 1, 'code209': 1, 'youtubepluginwebplugin': 1, 'youtubeplugin': 1, 'androidwidgetimageview': 1, 'lis': 1, 'typedquery': 1, 'loess': 1, 'systemiocompressionfilesystem': 1, 'datareldialog': 1}\n"
          ],
          "name": "stdout"
        }
      ]
    },
    {
      "cell_type": "markdown",
      "metadata": {
        "id": "06HSEfTnQBY5",
        "colab_type": "text"
      },
      "source": [
        "We are assuming that *tags_counts* and *words_counts* are dictionaries like `{'some_word_or_tag': frequency}`. After applying the sorting procedure, results will be look like this: `[('most_popular_word_or_tag', frequency), ('less_popular_word_or_tag', frequency), ...]`. The grader gets the results in the following format (two comma-separated strings with line break):\n",
        "\n",
        "\n",
        "    tag1,tag2,tag3\n",
        "    word1,word2,word3\n",
        "\n",
        "Pay attention that in this assignment you should not submit frequencies or some additional information."
      ]
    },
    {
      "cell_type": "code",
      "metadata": {
        "id": "D3Rs6gq7QBY6",
        "colab_type": "code",
        "colab": {
          "base_uri": "https://localhost:8080/",
          "height": 102
        },
        "outputId": "d232fcf7-9308-4388-d767-7aeb30508db0"
      },
      "source": [
        "most_common_tags = sorted(tags_counts.items(), key=lambda x: x[1], reverse=True)[:3]\n",
        "most_common_words = sorted(words_counts.items(), key=lambda x: x[1], reverse=True)[:3]\n",
        "print(most_common_tags)\n",
        "print(most_common_words)\n",
        "\n",
        "grader.submit_tag('WordsTagsCount', '%s\\n%s' % (','.join(tag for tag, _ in most_common_tags), \n",
        "                                                ','.join(word for word, _ in most_common_words)))"
      ],
      "execution_count": 36,
      "outputs": [
        {
          "output_type": "stream",
          "text": [
            "[('javascript', 19078), ('c#', 19077), ('java', 18661)]\n",
            "[('using', 8278), ('php', 5614), ('java', 5501)]\n",
            "Current answer for task WordsTagsCount is:\n",
            " javascript,c#,java\n",
            "using,php,java...\n"
          ],
          "name": "stdout"
        }
      ]
    },
    {
      "cell_type": "markdown",
      "metadata": {
        "id": "9dEeSVYlQBZD",
        "colab_type": "text"
      },
      "source": [
        "### Transforming text to a vector\n",
        "\n",
        "Machine Learning algorithms work with numeric data and we cannot use the provided text data \"as is\". There are many ways to transform text data to numeric vectors. In this task you will try to use two of them.\n",
        "\n",
        "#### Bag of words\n",
        "\n",
        "One of the well-known approaches is a *bag-of-words* representation. To create this transformation, follow the steps:\n",
        "1. Find *N* most popular words in train corpus and numerate them. Now we have a dictionary of the most popular words.\n",
        "2. For each title in the corpora create a zero vector with the dimension equals to *N*.\n",
        "3. For each text in the corpora iterate over words which are in the dictionary and increase by 1 the corresponding coordinate.\n",
        "\n",
        "Let's try to do it for a toy example. Imagine that we have *N* = 4 and the list of the most popular words is \n",
        "\n",
        "    ['hi', 'you', 'me', 'are']\n",
        "\n",
        "Then we need to numerate them, for example, like this: \n",
        "\n",
        "    {'hi': 0, 'you': 1, 'me': 2, 'are': 3}\n",
        "\n",
        "And we have the text, which we want to transform to the vector:\n",
        "\n",
        "    'hi how are you'\n",
        "\n",
        "For this text we create a corresponding zero vector \n",
        "\n",
        "    [0, 0, 0, 0]\n",
        "    \n",
        "And iterate over all words, and if the word is in the dictionary, we increase the value of the corresponding position in the vector:\n",
        "\n",
        "    'hi':  [1, 0, 0, 0]\n",
        "    'how': [1, 0, 0, 0] # word 'how' is not in our dictionary\n",
        "    'are': [1, 0, 0, 1]\n",
        "    'you': [1, 1, 0, 1]\n",
        "\n",
        "The resulting vector will be \n",
        "\n",
        "    [1, 1, 0, 1]\n",
        "   \n",
        "Implement the described encoding in the function *my_bag_of_words* with the size of the dictionary equals to 5000. To find the most common words use train data. You can test your code using the function *test_my_bag_of_words*."
      ]
    },
    {
      "cell_type": "code",
      "metadata": {
        "id": "zHHfF2TYQBZE",
        "colab_type": "code",
        "colab": {}
      },
      "source": [
        "DICT_SIZE = 5000\n",
        "WORDS_TO_INDEX = ####### YOUR CODE HERE #######\n",
        "INDEX_TO_WORDS = ####### YOUR CODE HERE #######\n",
        "ALL_WORDS = WORDS_TO_INDEX.keys()\n",
        "\n",
        "def my_bag_of_words(text, words_to_index, dict_size):\n",
        "    \"\"\"\n",
        "        text: a string\n",
        "        dict_size: size of the dictionary\n",
        "        \n",
        "        return a vector which is a bag-of-words representation of 'text'\n",
        "    \"\"\"\n",
        "    result_vector = np.zeros(dict_size)\n",
        "    ######################################\n",
        "    ######### YOUR CODE HERE #############\n",
        "    ######################################\n",
        "    return result_vector"
      ],
      "execution_count": null,
      "outputs": []
    },
    {
      "cell_type": "code",
      "metadata": {
        "id": "yuLdipg0QBZI",
        "colab_type": "code",
        "colab": {}
      },
      "source": [
        "def test_my_bag_of_words():\n",
        "    words_to_index = {'hi': 0, 'you': 1, 'me': 2, 'are': 3}\n",
        "    examples = ['hi how are you']\n",
        "    answers = [[1, 1, 0, 1]]\n",
        "    for ex, ans in zip(examples, answers):\n",
        "        if (my_bag_of_words(ex, words_to_index, 4) != ans).any():\n",
        "            return \"Wrong answer for the case: '%s'\" % ex\n",
        "    return 'Basic tests are passed.'"
      ],
      "execution_count": null,
      "outputs": []
    },
    {
      "cell_type": "code",
      "metadata": {
        "id": "0La3EdGAQBZM",
        "colab_type": "code",
        "colab": {}
      },
      "source": [
        "print(test_my_bag_of_words())"
      ],
      "execution_count": null,
      "outputs": []
    },
    {
      "cell_type": "markdown",
      "metadata": {
        "id": "cPZhi4PfQBZR",
        "colab_type": "text"
      },
      "source": [
        "Now apply the implemented function to all samples (this might take up to a minute):"
      ]
    },
    {
      "cell_type": "code",
      "metadata": {
        "id": "3Q-l1lCyQBZR",
        "colab_type": "code",
        "colab": {}
      },
      "source": [
        "from scipy import sparse as sp_sparse"
      ],
      "execution_count": null,
      "outputs": []
    },
    {
      "cell_type": "code",
      "metadata": {
        "id": "L7MSCDIGQBZa",
        "colab_type": "code",
        "colab": {}
      },
      "source": [
        "X_train_mybag = sp_sparse.vstack([sp_sparse.csr_matrix(my_bag_of_words(text, WORDS_TO_INDEX, DICT_SIZE)) for text in X_train])\n",
        "X_val_mybag = sp_sparse.vstack([sp_sparse.csr_matrix(my_bag_of_words(text, WORDS_TO_INDEX, DICT_SIZE)) for text in X_val])\n",
        "X_test_mybag = sp_sparse.vstack([sp_sparse.csr_matrix(my_bag_of_words(text, WORDS_TO_INDEX, DICT_SIZE)) for text in X_test])\n",
        "print('X_train shape ', X_train_mybag.shape)\n",
        "print('X_val shape ', X_val_mybag.shape)\n",
        "print('X_test shape ', X_test_mybag.shape)"
      ],
      "execution_count": null,
      "outputs": []
    },
    {
      "cell_type": "markdown",
      "metadata": {
        "id": "xyk0ULRNQBZe",
        "colab_type": "text"
      },
      "source": [
        "As you might notice, we transform the data to sparse representation, to store the useful information efficiently. There are many [types](https://docs.scipy.org/doc/scipy/reference/sparse.html) of such representations, however sklearn algorithms can work only with [csr](https://docs.scipy.org/doc/scipy/reference/generated/scipy.sparse.csr_matrix.html#scipy.sparse.csr_matrix) matrix, so we will use this one."
      ]
    },
    {
      "cell_type": "markdown",
      "metadata": {
        "id": "QlMTj59nQBZf",
        "colab_type": "text"
      },
      "source": [
        "**Task 3 (BagOfWords).** For the 11th row in *X_train_mybag* find how many non-zero elements it has. In this task the answer (variable *non_zero_elements_count*) should be an integer number, e.g. 20."
      ]
    },
    {
      "cell_type": "code",
      "metadata": {
        "id": "I7A0bKhMQBZf",
        "colab_type": "code",
        "colab": {}
      },
      "source": [
        "row = X_train_mybag[10].toarray()[0]\n",
        "non_zero_elements_count = ####### YOUR CODE HERE #######\n",
        "\n",
        "grader.submit_tag('BagOfWords', str(non_zero_elements_count))"
      ],
      "execution_count": null,
      "outputs": []
    },
    {
      "cell_type": "markdown",
      "metadata": {
        "id": "k_x9UL4CQBZj",
        "colab_type": "text"
      },
      "source": [
        "#### TF-IDF\n",
        "\n",
        "The second approach extends the bag-of-words framework by taking into account total frequencies of words in the corpora. It helps to penalize too frequent words and provide better features space. \n",
        "\n",
        "Implement function *tfidf_features* using class [TfidfVectorizer](http://scikit-learn.org/stable/modules/generated/sklearn.feature_extraction.text.TfidfVectorizer.html) from *scikit-learn*. Use *train* corpus to train a vectorizer. Don't forget to take a look into the arguments that you can pass to it. We suggest that you filter out too rare words (occur less than in 5 titles) and too frequent words (occur more than in 90% of the titles). Also, use bigrams along with unigrams in your vocabulary. "
      ]
    },
    {
      "cell_type": "code",
      "metadata": {
        "collapsed": true,
        "id": "ef9GXmIgQBZk",
        "colab_type": "code",
        "colab": {}
      },
      "source": [
        "from sklearn.feature_extraction.text import TfidfVectorizer"
      ],
      "execution_count": null,
      "outputs": []
    },
    {
      "cell_type": "code",
      "metadata": {
        "collapsed": true,
        "id": "EKJPCCwqQBZp",
        "colab_type": "code",
        "colab": {}
      },
      "source": [
        "def tfidf_features(X_train, X_val, X_test):\n",
        "    \"\"\"\n",
        "        X_train, X_val, X_test — samples        \n",
        "        return TF-IDF vectorized representation of each sample and vocabulary\n",
        "    \"\"\"\n",
        "    # Create TF-IDF vectorizer with a proper parameters choice\n",
        "    # Fit the vectorizer on the train set\n",
        "    # Transform the train, test, and val sets and return the result\n",
        "    \n",
        "    \n",
        "    tfidf_vectorizer = ####### YOUR CODE HERE #######\n",
        "    \n",
        "    ######################################\n",
        "    ######### YOUR CODE HERE #############\n",
        "    ######################################\n",
        "    \n",
        "    return X_train, X_val, X_test, tfidf_vectorizer.vocabulary_"
      ],
      "execution_count": null,
      "outputs": []
    },
    {
      "cell_type": "markdown",
      "metadata": {
        "id": "3my2OuZ1QBZu",
        "colab_type": "text"
      },
      "source": [
        "Once you have done text preprocessing, always have a look at the results. Be very careful at this step, because the performance of future models will drastically depend on it. \n",
        "\n",
        "In this case, check whether you have c++ or c# in your vocabulary, as they are obviously important tokens in our tags prediction task:"
      ]
    },
    {
      "cell_type": "code",
      "metadata": {
        "collapsed": true,
        "id": "7ivfPGonQBZv",
        "colab_type": "code",
        "colab": {}
      },
      "source": [
        "X_train_tfidf, X_val_tfidf, X_test_tfidf, tfidf_vocab = tfidf_features(X_train, X_val, X_test)\n",
        "tfidf_reversed_vocab = {i:word for word,i in tfidf_vocab.items()}"
      ],
      "execution_count": null,
      "outputs": []
    },
    {
      "cell_type": "code",
      "metadata": {
        "collapsed": true,
        "id": "XIRipGMIQBZz",
        "colab_type": "code",
        "colab": {}
      },
      "source": [
        "######### YOUR CODE HERE #############"
      ],
      "execution_count": null,
      "outputs": []
    },
    {
      "cell_type": "markdown",
      "metadata": {
        "id": "kEuSEv--QBZ2",
        "colab_type": "text"
      },
      "source": [
        "If you can't find it, we need to understand how did it happen that we lost them? It happened during the built-in tokenization of TfidfVectorizer. Luckily, we can influence on this process. Get back to the function above and use '(\\S+)' regexp as a *token_pattern* in the constructor of the vectorizer.  "
      ]
    },
    {
      "cell_type": "markdown",
      "metadata": {
        "id": "ZqLJ3ViNQBZ3",
        "colab_type": "text"
      },
      "source": [
        "Now, use this transormation for the data and check again."
      ]
    },
    {
      "cell_type": "code",
      "metadata": {
        "collapsed": true,
        "id": "4PcC5i8UQBZ4",
        "colab_type": "code",
        "colab": {}
      },
      "source": [
        "######### YOUR CODE HERE #############"
      ],
      "execution_count": null,
      "outputs": []
    },
    {
      "cell_type": "markdown",
      "metadata": {
        "id": "uqzDNsE1QBZ-",
        "colab_type": "text"
      },
      "source": [
        "### MultiLabel classifier\n",
        "\n",
        "As we have noticed before, in this task each example can have multiple tags. To deal with such kind of prediction, we need to transform labels in a binary form and the prediction will be a mask of 0s and 1s. For this purpose it is convenient to use [MultiLabelBinarizer](http://scikit-learn.org/stable/modules/generated/sklearn.preprocessing.MultiLabelBinarizer.html) from *sklearn*."
      ]
    },
    {
      "cell_type": "code",
      "metadata": {
        "collapsed": true,
        "id": "kZfRpi9hQBZ_",
        "colab_type": "code",
        "colab": {}
      },
      "source": [
        "from sklearn.preprocessing import MultiLabelBinarizer"
      ],
      "execution_count": null,
      "outputs": []
    },
    {
      "cell_type": "code",
      "metadata": {
        "collapsed": true,
        "id": "wL7Y3l98QBaF",
        "colab_type": "code",
        "colab": {}
      },
      "source": [
        "mlb = MultiLabelBinarizer(classes=sorted(tags_counts.keys()))\n",
        "y_train = mlb.fit_transform(y_train)\n",
        "y_val = mlb.fit_transform(y_val)"
      ],
      "execution_count": null,
      "outputs": []
    },
    {
      "cell_type": "markdown",
      "metadata": {
        "id": "Fa666z0qQBaJ",
        "colab_type": "text"
      },
      "source": [
        "Implement the function *train_classifier* for training a classifier. In this task we suggest to use One-vs-Rest approach, which is implemented in [OneVsRestClassifier](http://scikit-learn.org/stable/modules/generated/sklearn.multiclass.OneVsRestClassifier.html) class. In this approach *k* classifiers (= number of tags) are trained. As a basic classifier, use [LogisticRegression](http://scikit-learn.org/stable/modules/generated/sklearn.linear_model.LogisticRegression.html). It is one of the simplest methods, but often it performs good enough in text classification tasks. It might take some time, because a number of classifiers to train is large."
      ]
    },
    {
      "cell_type": "code",
      "metadata": {
        "collapsed": true,
        "id": "ZUhMPzoqQBaK",
        "colab_type": "code",
        "colab": {}
      },
      "source": [
        "from sklearn.multiclass import OneVsRestClassifier\n",
        "from sklearn.linear_model import LogisticRegression, RidgeClassifier"
      ],
      "execution_count": null,
      "outputs": []
    },
    {
      "cell_type": "code",
      "metadata": {
        "collapsed": true,
        "id": "BbT8NJAOQBaO",
        "colab_type": "code",
        "colab": {}
      },
      "source": [
        "def train_classifier(X_train, y_train):\n",
        "    \"\"\"\n",
        "      X_train, y_train — training data\n",
        "      \n",
        "      return: trained classifier\n",
        "    \"\"\"\n",
        "    \n",
        "    # Create and fit LogisticRegression wraped into OneVsRestClassifier.\n",
        "\n",
        "    ######################################\n",
        "    ######### YOUR CODE HERE #############\n",
        "    ######################################    "
      ],
      "execution_count": null,
      "outputs": []
    },
    {
      "cell_type": "markdown",
      "metadata": {
        "id": "sRFZBM84QBaR",
        "colab_type": "text"
      },
      "source": [
        "Train the classifiers for different data transformations: *bag-of-words* and *tf-idf*."
      ]
    },
    {
      "cell_type": "code",
      "metadata": {
        "collapsed": true,
        "id": "22vU0qffQBaS",
        "colab_type": "code",
        "colab": {}
      },
      "source": [
        "classifier_mybag = train_classifier(X_train_mybag, y_train)\n",
        "classifier_tfidf = train_classifier(X_train_tfidf, y_train)"
      ],
      "execution_count": null,
      "outputs": []
    },
    {
      "cell_type": "markdown",
      "metadata": {
        "id": "rAK6NpyWQBaX",
        "colab_type": "text"
      },
      "source": [
        "Now you can create predictions for the data. You will need two types of predictions: labels and scores."
      ]
    },
    {
      "cell_type": "code",
      "metadata": {
        "collapsed": true,
        "id": "0AbvmRl-QBaZ",
        "colab_type": "code",
        "colab": {}
      },
      "source": [
        "y_val_predicted_labels_mybag = classifier_mybag.predict(X_val_mybag)\n",
        "y_val_predicted_scores_mybag = classifier_mybag.decision_function(X_val_mybag)\n",
        "\n",
        "y_val_predicted_labels_tfidf = classifier_tfidf.predict(X_val_tfidf)\n",
        "y_val_predicted_scores_tfidf = classifier_tfidf.decision_function(X_val_tfidf)"
      ],
      "execution_count": null,
      "outputs": []
    },
    {
      "cell_type": "markdown",
      "metadata": {
        "id": "9y2xSI8OQBaj",
        "colab_type": "text"
      },
      "source": [
        "Now take a look at how classifier, which uses TF-IDF, works for a few examples:"
      ]
    },
    {
      "cell_type": "code",
      "metadata": {
        "collapsed": true,
        "id": "Tb6Qa_n2QBal",
        "colab_type": "code",
        "colab": {}
      },
      "source": [
        "y_val_pred_inversed = mlb.inverse_transform(y_val_predicted_labels_tfidf)\n",
        "y_val_inversed = mlb.inverse_transform(y_val)\n",
        "for i in range(3):\n",
        "    print('Title:\\t{}\\nTrue labels:\\t{}\\nPredicted labels:\\t{}\\n\\n'.format(\n",
        "        X_val[i],\n",
        "        ','.join(y_val_inversed[i]),\n",
        "        ','.join(y_val_pred_inversed[i])\n",
        "    ))"
      ],
      "execution_count": null,
      "outputs": []
    },
    {
      "cell_type": "markdown",
      "metadata": {
        "id": "Cwt9Ryg9QBar",
        "colab_type": "text"
      },
      "source": [
        "Now, we would need to compare the results of different predictions, e.g. to see whether TF-IDF transformation helps or to try different regularization techniques in logistic regression. For all these experiments, we need to setup evaluation procedure. "
      ]
    },
    {
      "cell_type": "markdown",
      "metadata": {
        "id": "ffdlUIaSQBas",
        "colab_type": "text"
      },
      "source": [
        "### Evaluation\n",
        "\n",
        "To evaluate the results we will use several classification metrics:\n",
        " - [Accuracy](http://scikit-learn.org/stable/modules/generated/sklearn.metrics.accuracy_score.html)\n",
        " - [F1-score](http://scikit-learn.org/stable/modules/generated/sklearn.metrics.f1_score.html)\n",
        " - [Area under ROC-curve](http://scikit-learn.org/stable/modules/generated/sklearn.metrics.roc_auc_score.html)\n",
        " - [Area under precision-recall curve](http://scikit-learn.org/stable/modules/generated/sklearn.metrics.average_precision_score.html#sklearn.metrics.average_precision_score) \n",
        " \n",
        "Make sure you are familiar with all of them. How would you expect the things work for the multi-label scenario? Read about micro/macro/weighted averaging following the sklearn links provided above."
      ]
    },
    {
      "cell_type": "code",
      "metadata": {
        "collapsed": true,
        "id": "Ipo3IW92QBat",
        "colab_type": "code",
        "colab": {}
      },
      "source": [
        "from sklearn.metrics import accuracy_score\n",
        "from sklearn.metrics import f1_score\n",
        "from sklearn.metrics import roc_auc_score \n",
        "from sklearn.metrics import average_precision_score\n",
        "from sklearn.metrics import recall_score"
      ],
      "execution_count": null,
      "outputs": []
    },
    {
      "cell_type": "markdown",
      "metadata": {
        "id": "q6MRffSIQBax",
        "colab_type": "text"
      },
      "source": [
        "Implement the function *print_evaluation_scores* which calculates and prints to stdout:\n",
        " - *accuracy*\n",
        " - *F1-score macro/micro/weighted*\n",
        " - *Precision macro/micro/weighted*"
      ]
    },
    {
      "cell_type": "code",
      "metadata": {
        "collapsed": true,
        "id": "DfEpwm7EQBay",
        "colab_type": "code",
        "colab": {}
      },
      "source": [
        "def print_evaluation_scores(y_val, predicted):\n",
        "    \n",
        "    ######################################\n",
        "    ######### YOUR CODE HERE #############\n",
        "    ######################################"
      ],
      "execution_count": null,
      "outputs": []
    },
    {
      "cell_type": "code",
      "metadata": {
        "collapsed": true,
        "id": "cJ_wxgHXQBa1",
        "colab_type": "code",
        "colab": {}
      },
      "source": [
        "print('Bag-of-words')\n",
        "print_evaluation_scores(y_val, y_val_predicted_labels_mybag)\n",
        "print('Tfidf')\n",
        "print_evaluation_scores(y_val, y_val_predicted_labels_tfidf)"
      ],
      "execution_count": null,
      "outputs": []
    },
    {
      "cell_type": "markdown",
      "metadata": {
        "id": "GmjBl3a6QBa5",
        "colab_type": "text"
      },
      "source": [
        "You might also want to plot some generalization of the [ROC curve](http://scikit-learn.org/stable/modules/model_evaluation.html#receiver-operating-characteristic-roc) for the case of multi-label classification. Provided function *roc_auc* can make it for you. The input parameters of this function are:\n",
        " - true labels\n",
        " - decision functions scores\n",
        " - number of classes"
      ]
    },
    {
      "cell_type": "code",
      "metadata": {
        "collapsed": true,
        "id": "mcL0tgBdQBa5",
        "colab_type": "code",
        "colab": {}
      },
      "source": [
        "from metrics import roc_auc\n",
        "%matplotlib inline"
      ],
      "execution_count": null,
      "outputs": []
    },
    {
      "cell_type": "code",
      "metadata": {
        "collapsed": true,
        "id": "LNZQc1c1QBa9",
        "colab_type": "code",
        "colab": {}
      },
      "source": [
        "n_classes = len(tags_counts)\n",
        "roc_auc(y_val, y_val_predicted_scores_mybag, n_classes)"
      ],
      "execution_count": null,
      "outputs": []
    },
    {
      "cell_type": "code",
      "metadata": {
        "collapsed": true,
        "id": "D3h8O3SUQBbB",
        "colab_type": "code",
        "colab": {}
      },
      "source": [
        "n_classes = len(tags_counts)\n",
        "roc_auc(y_val, y_val_predicted_scores_tfidf, n_classes)"
      ],
      "execution_count": null,
      "outputs": []
    },
    {
      "cell_type": "markdown",
      "metadata": {
        "id": "mqkAwSOFQBbH",
        "colab_type": "text"
      },
      "source": [
        "**Task 4 (MultilabelClassification).** Once we have the evaluation set up, we suggest that you experiment a bit with training your classifiers. We will use *F1-score weighted* as an evaluation metric. Our recommendation:\n",
        "- compare the quality of the bag-of-words and TF-IDF approaches and chose one of them.\n",
        "- for the chosen one, try *L1* and *L2*-regularization techniques in Logistic Regression with different coefficients (e.g. C equal to 0.1, 1, 10, 100).\n",
        "\n",
        "You also could try other improvements of the preprocessing / model, if you want. "
      ]
    },
    {
      "cell_type": "code",
      "metadata": {
        "collapsed": true,
        "id": "wW7wPojWQBbH",
        "colab_type": "code",
        "colab": {}
      },
      "source": [
        "######################################\n",
        "######### YOUR CODE HERE #############\n",
        "######################################"
      ],
      "execution_count": null,
      "outputs": []
    },
    {
      "cell_type": "markdown",
      "metadata": {
        "id": "GW4uSlT9QBbP",
        "colab_type": "text"
      },
      "source": [
        "When you are happy with the quality, create predictions for *test* set, which you will submit to Coursera."
      ]
    },
    {
      "cell_type": "code",
      "metadata": {
        "collapsed": true,
        "id": "ZmUdubVjQBbQ",
        "colab_type": "code",
        "colab": {}
      },
      "source": [
        "test_predictions = ######### YOUR CODE HERE #############\n",
        "test_pred_inversed = mlb.inverse_transform(test_predictions)\n",
        "\n",
        "test_predictions_for_submission = '\\n'.join('%i\\t%s' % (i, ','.join(row)) for i, row in enumerate(test_pred_inversed))\n",
        "grader.submit_tag('MultilabelClassification', test_predictions_for_submission)"
      ],
      "execution_count": null,
      "outputs": []
    },
    {
      "cell_type": "markdown",
      "metadata": {
        "id": "QKrkPqPTQBbS",
        "colab_type": "text"
      },
      "source": [
        "### Analysis of the most important features"
      ]
    },
    {
      "cell_type": "markdown",
      "metadata": {
        "id": "AqvVGS90QBbT",
        "colab_type": "text"
      },
      "source": [
        "Finally, it is usually a good idea to look at the features (words or n-grams) that are used with the largest weigths in your logistic regression model."
      ]
    },
    {
      "cell_type": "markdown",
      "metadata": {
        "id": "JORx0KUVQBbT",
        "colab_type": "text"
      },
      "source": [
        "Implement the function *print_words_for_tag* to find them. Get back to sklearn documentation on [OneVsRestClassifier](http://scikit-learn.org/stable/modules/generated/sklearn.multiclass.OneVsRestClassifier.html) and [LogisticRegression](http://scikit-learn.org/stable/modules/generated/sklearn.linear_model.LogisticRegression.html) if needed."
      ]
    },
    {
      "cell_type": "code",
      "metadata": {
        "collapsed": true,
        "id": "caQp9IOAQBbU",
        "colab_type": "code",
        "colab": {}
      },
      "source": [
        "def print_words_for_tag(classifier, tag, tags_classes, index_to_words, all_words):\n",
        "    \"\"\"\n",
        "        classifier: trained classifier\n",
        "        tag: particular tag\n",
        "        tags_classes: a list of classes names from MultiLabelBinarizer\n",
        "        index_to_words: index_to_words transformation\n",
        "        all_words: all words in the dictionary\n",
        "        \n",
        "        return nothing, just print top 5 positive and top 5 negative words for current tag\n",
        "    \"\"\"\n",
        "    print('Tag:\\t{}'.format(tag))\n",
        "    \n",
        "    # Extract an estimator from the classifier for the given tag.\n",
        "    # Extract feature coefficients from the estimator. \n",
        "    \n",
        "    ######################################\n",
        "    ######### YOUR CODE HERE #############\n",
        "    ######################################\n",
        "    \n",
        "    top_positive_words = # top-5 words sorted by the coefficiens.\n",
        "    top_negative_words = # bottom-5 words  sorted by the coefficients.\n",
        "    print('Top positive words:\\t{}'.format(', '.join(top_positive_words)))\n",
        "    print('Top negative words:\\t{}\\n'.format(', '.join(top_negative_words)))"
      ],
      "execution_count": null,
      "outputs": []
    },
    {
      "cell_type": "code",
      "metadata": {
        "collapsed": true,
        "id": "PBkqSR-AQBba",
        "colab_type": "code",
        "colab": {}
      },
      "source": [
        "print_words_for_tag(classifier_tfidf, 'c', mlb.classes, tfidf_reversed_vocab, ALL_WORDS)\n",
        "print_words_for_tag(classifier_tfidf, 'c++', mlb.classes, tfidf_reversed_vocab, ALL_WORDS)\n",
        "print_words_for_tag(classifier_tfidf, 'linux', mlb.classes, tfidf_reversed_vocab, ALL_WORDS)"
      ],
      "execution_count": null,
      "outputs": []
    },
    {
      "cell_type": "markdown",
      "metadata": {
        "id": "TZJOGAYRQBbd",
        "colab_type": "text"
      },
      "source": [
        "### Authorization & Submission\n",
        "To submit assignment parts to Cousera platform, please, enter your e-mail and token into variables below. You can generate token on this programming assignment page. <b>Note:</b> Token expires 30 minutes after generation."
      ]
    },
    {
      "cell_type": "code",
      "metadata": {
        "collapsed": true,
        "id": "egrx-nX8QBbe",
        "colab_type": "code",
        "colab": {}
      },
      "source": [
        "grader.status()"
      ],
      "execution_count": null,
      "outputs": []
    },
    {
      "cell_type": "code",
      "metadata": {
        "collapsed": true,
        "id": "SMQ3sVd1QBbh",
        "colab_type": "code",
        "colab": {}
      },
      "source": [
        "STUDENT_EMAIL = # EMAIL \n",
        "STUDENT_TOKEN = # TOKEN \n",
        "grader.status()"
      ],
      "execution_count": null,
      "outputs": []
    },
    {
      "cell_type": "markdown",
      "metadata": {
        "id": "Xj4aFDxnQBbn",
        "colab_type": "text"
      },
      "source": [
        "If you want to submit these answers, run cell below"
      ]
    },
    {
      "cell_type": "code",
      "metadata": {
        "collapsed": true,
        "id": "VryQjdqbQBbn",
        "colab_type": "code",
        "colab": {}
      },
      "source": [
        "grader.submit(STUDENT_EMAIL, STUDENT_TOKEN)"
      ],
      "execution_count": null,
      "outputs": []
    }
  ]
}